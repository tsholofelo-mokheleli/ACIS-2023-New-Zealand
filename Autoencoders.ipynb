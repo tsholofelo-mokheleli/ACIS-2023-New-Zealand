{
  "nbformat": 4,
  "nbformat_minor": 0,
  "metadata": {
    "colab": {
      "provenance": [],
      "authorship_tag": "ABX9TyNHP2jn3aNdmEookRqO+XnT",
      "include_colab_link": true
    },
    "kernelspec": {
      "name": "python3",
      "display_name": "Python 3"
    },
    "language_info": {
      "name": "python"
    }
  },
  "cells": [
    {
      "cell_type": "markdown",
      "metadata": {
        "id": "view-in-github",
        "colab_type": "text"
      },
      "source": [
        "<a href=\"https://colab.research.google.com/github/tsholofelo-mokheleli/ACIS-2023-New-Zealand/blob/main/Autoencoders.ipynb\" target=\"_parent\"><img src=\"https://colab.research.google.com/assets/colab-badge.svg\" alt=\"Open In Colab\"/></a>"
      ]
    },
    {
      "cell_type": "markdown",
      "source": [
        "### **Import Libraries**"
      ],
      "metadata": {
        "id": "KfkXpmkwWEh7"
      }
    },
    {
      "cell_type": "code",
      "execution_count": 69,
      "metadata": {
        "id": "I4XWgS1AR03k"
      },
      "outputs": [],
      "source": [
        "import pandas as pd\n",
        "import numpy as np\n",
        "\n",
        "from sklearn.model_selection import train_test_split\n",
        "from sklearn.preprocessing import MinMaxScaler\n",
        "\n",
        "import tensorflow as tf\n",
        "from tensorflow import keras\n",
        "\n",
        "from tensorflow.keras.models import Sequential\n",
        "from tensorflow.keras.layers import Dense, Flatten, Conv1D, LSTM\n",
        "\n",
        "from tensorflow.keras.models import Model\n",
        "\n",
        "import matplotlib.pyplot as plt"
      ]
    },
    {
      "cell_type": "markdown",
      "source": [
        "### **Load and Preprocess Data**"
      ],
      "metadata": {
        "id": "i_GnPxPyWBmY"
      }
    },
    {
      "cell_type": "markdown",
      "source": [
        "**Load the dataset**"
      ],
      "metadata": {
        "id": "5oZrlhbTUf2p"
      }
    },
    {
      "cell_type": "code",
      "source": [
        "data = pd.read_csv(\"Diabetes Multi-Class.csv\", sep=';', on_bad_lines='skip')"
      ],
      "metadata": {
        "id": "k4kGpmVHUY9J"
      },
      "execution_count": 70,
      "outputs": []
    },
    {
      "cell_type": "code",
      "source": [
        "data = data.drop([\"Patient\"], axis=1)\n",
        "data = data.dropna()\n",
        "\n",
        "# Convert all columns to int data type\n",
        "for column in data.columns:\n",
        "    data[column] = data[column].astype(int)\n",
        "\n",
        "data.info()"
      ],
      "metadata": {
        "colab": {
          "base_uri": "https://localhost:8080/"
        },
        "id": "rjySUO-uVAqh",
        "outputId": "0e3ed574-5e16-42e7-d869-31916ffacee2"
      },
      "execution_count": 71,
      "outputs": [
        {
          "output_type": "stream",
          "name": "stdout",
          "text": [
            "<class 'pandas.core.frame.DataFrame'>\n",
            "RangeIndex: 10000 entries, 0 to 9999\n",
            "Data columns (total 22 columns):\n",
            " #   Column                Non-Null Count  Dtype\n",
            "---  ------                --------------  -----\n",
            " 0   Diabetes_012          10000 non-null  int64\n",
            " 1   HighBP                10000 non-null  int64\n",
            " 2   HighChol              10000 non-null  int64\n",
            " 3   CholCheck             10000 non-null  int64\n",
            " 4   BMI                   10000 non-null  int64\n",
            " 5   Smoker                10000 non-null  int64\n",
            " 6   Stroke                10000 non-null  int64\n",
            " 7   HeartDiseaseorAttack  10000 non-null  int64\n",
            " 8   PhysActivity          10000 non-null  int64\n",
            " 9   Fruits                10000 non-null  int64\n",
            " 10  Veggies               10000 non-null  int64\n",
            " 11  HvyAlcoholConsump     10000 non-null  int64\n",
            " 12  AnyHealthcare         10000 non-null  int64\n",
            " 13  NoDocbcCost           10000 non-null  int64\n",
            " 14  GenHlth               10000 non-null  int64\n",
            " 15  MentHlth              10000 non-null  int64\n",
            " 16  PhysHlth              10000 non-null  int64\n",
            " 17  DiffWalk              10000 non-null  int64\n",
            " 18  Sex                   10000 non-null  int64\n",
            " 19  Age                   10000 non-null  int64\n",
            " 20  Education             10000 non-null  int64\n",
            " 21  Income                10000 non-null  int64\n",
            "dtypes: int64(22)\n",
            "memory usage: 1.7 MB\n"
          ]
        }
      ]
    },
    {
      "cell_type": "markdown",
      "source": [
        "**Separate features (X) and labels (y)**"
      ],
      "metadata": {
        "id": "HeBPfjpOUivB"
      }
    },
    {
      "cell_type": "code",
      "source": [
        "X = data.drop(columns=[\"Diabetes_012\"])\n",
        "y = data[\"Diabetes_012\"]"
      ],
      "metadata": {
        "id": "--uVSlRlUaQ4"
      },
      "execution_count": 72,
      "outputs": []
    },
    {
      "cell_type": "code",
      "source": [
        "class_counts = data['Diabetes_012'].value_counts()\n",
        "print(class_counts)"
      ],
      "metadata": {
        "colab": {
          "base_uri": "https://localhost:8080/"
        },
        "id": "qISNIKTIVog0",
        "outputId": "d9b30541-8e68-4eef-c007-62f5b776e4ef"
      },
      "execution_count": 73,
      "outputs": [
        {
          "output_type": "stream",
          "name": "stdout",
          "text": [
            "0    8216\n",
            "2    1606\n",
            "1     178\n",
            "Name: Diabetes_012, dtype: int64\n"
          ]
        }
      ]
    },
    {
      "cell_type": "markdown",
      "source": [
        "**Split the data into training and validation sets**"
      ],
      "metadata": {
        "id": "tBlYN_V8Vz9U"
      }
    },
    {
      "cell_type": "code",
      "source": [
        "x_train, x_val, y_train, y_val = train_test_split(X, y, test_size=0.2, random_state=42)"
      ],
      "metadata": {
        "id": "U8KZGYkFVx6L"
      },
      "execution_count": 74,
      "outputs": []
    },
    {
      "cell_type": "markdown",
      "source": [
        "**Normalize the features**"
      ],
      "metadata": {
        "id": "EFdvy7guV4PB"
      }
    },
    {
      "cell_type": "code",
      "source": [
        "scaler = MinMaxScaler()\n",
        "x_train_scaled = scaler.fit_transform(x_train)\n",
        "x_val_scaled = scaler.transform(x_val)"
      ],
      "metadata": {
        "id": "SjUo887vV4cZ"
      },
      "execution_count": 75,
      "outputs": []
    },
    {
      "cell_type": "markdown",
      "source": [
        "### **Build Baseline Model**"
      ],
      "metadata": {
        "id": "SB2L-Cuxfjtl"
      }
    },
    {
      "cell_type": "code",
      "source": [
        "# DNN\n",
        "dnn_model = Sequential([\n",
        "    Dense(128, activation='relu', input_shape=(x_train_scaled.shape[1],)),\n",
        "    Dense(64, activation='relu'),\n",
        "    Dense(3, activation='softmax')\n",
        "])\n",
        "\n",
        "# CNN\n",
        "cnn_model = Sequential([\n",
        "    Conv1D(filters=64, kernel_size=3, activation='relu', input_shape=(x_train_scaled.shape[1], 1)),\n",
        "    Flatten(),\n",
        "    Dense(3, activation='softmax')\n",
        "])\n",
        "\n",
        "# RNN\n",
        "rnn_model = Sequential([\n",
        "    LSTM(64, activation='relu', input_shape=(x_train_scaled.shape[1], 1)),\n",
        "    Dense(3, activation='softmax')\n",
        "])\n",
        "\n",
        "# Compile models\n",
        "dnn_model.compile(optimizer='adam', loss='sparse_categorical_crossentropy', metrics=['accuracy'])\n",
        "cnn_model.compile(optimizer='adam', loss='sparse_categorical_crossentropy', metrics=['accuracy'])\n",
        "rnn_model.compile(optimizer='adam', loss='sparse_categorical_crossentropy', metrics=['accuracy'])\n",
        "\n",
        "# Train models\n",
        "dnn_model.fit(x_train_scaled, y_train, epochs=10, validation_data=(x_val_scaled, y_val))\n",
        "cnn_model.fit(x_train_scaled.reshape((-1, x_train_scaled.shape[1], 1)), y_train, epochs=10, validation_data=(x_val_scaled.reshape((-1, x_val_scaled.shape[1], 1)), y_val))\n",
        "rnn_model.fit(x_train_scaled.reshape((-1, x_train_scaled.shape[1], 1)), y_train, epochs=10, validation_data=(x_val_scaled.reshape((-1, x_val_scaled.shape[1], 1)), y_val))"
      ],
      "metadata": {
        "colab": {
          "base_uri": "https://localhost:8080/"
        },
        "id": "E41GGjeFfmRg",
        "outputId": "44727a36-af3b-4376-a6e3-ba6e1f26dafa"
      },
      "execution_count": 76,
      "outputs": [
        {
          "output_type": "stream",
          "name": "stdout",
          "text": [
            "Epoch 1/10\n",
            "250/250 [==============================] - 2s 4ms/step - loss: 0.4793 - accuracy: 0.8196 - val_loss: 0.4619 - val_accuracy: 0.8205\n",
            "Epoch 2/10\n",
            "250/250 [==============================] - 1s 5ms/step - loss: 0.4402 - accuracy: 0.8259 - val_loss: 0.4601 - val_accuracy: 0.8240\n",
            "Epoch 3/10\n",
            "250/250 [==============================] - 1s 4ms/step - loss: 0.4339 - accuracy: 0.8288 - val_loss: 0.4511 - val_accuracy: 0.8270\n",
            "Epoch 4/10\n",
            "250/250 [==============================] - 1s 4ms/step - loss: 0.4265 - accuracy: 0.8317 - val_loss: 0.4553 - val_accuracy: 0.8240\n",
            "Epoch 5/10\n",
            "250/250 [==============================] - 1s 3ms/step - loss: 0.4238 - accuracy: 0.8314 - val_loss: 0.4575 - val_accuracy: 0.8175\n",
            "Epoch 6/10\n",
            "250/250 [==============================] - 1s 3ms/step - loss: 0.4213 - accuracy: 0.8324 - val_loss: 0.4727 - val_accuracy: 0.8275\n",
            "Epoch 7/10\n",
            "250/250 [==============================] - 1s 3ms/step - loss: 0.4143 - accuracy: 0.8336 - val_loss: 0.4554 - val_accuracy: 0.8270\n",
            "Epoch 8/10\n",
            "250/250 [==============================] - 1s 3ms/step - loss: 0.4174 - accuracy: 0.8328 - val_loss: 0.4540 - val_accuracy: 0.8280\n",
            "Epoch 9/10\n",
            "250/250 [==============================] - 1s 3ms/step - loss: 0.4105 - accuracy: 0.8364 - val_loss: 0.4493 - val_accuracy: 0.8320\n",
            "Epoch 10/10\n",
            "250/250 [==============================] - 1s 3ms/step - loss: 0.4103 - accuracy: 0.8338 - val_loss: 0.4562 - val_accuracy: 0.8235\n",
            "Epoch 1/10\n",
            "250/250 [==============================] - 2s 4ms/step - loss: 0.4909 - accuracy: 0.8221 - val_loss: 0.4645 - val_accuracy: 0.8215\n",
            "Epoch 2/10\n",
            "250/250 [==============================] - 1s 6ms/step - loss: 0.4405 - accuracy: 0.8273 - val_loss: 0.4564 - val_accuracy: 0.8215\n",
            "Epoch 3/10\n",
            "250/250 [==============================] - 1s 3ms/step - loss: 0.4343 - accuracy: 0.8276 - val_loss: 0.4538 - val_accuracy: 0.8205\n",
            "Epoch 4/10\n",
            "250/250 [==============================] - 1s 3ms/step - loss: 0.4297 - accuracy: 0.8313 - val_loss: 0.4479 - val_accuracy: 0.8250\n",
            "Epoch 5/10\n",
            "250/250 [==============================] - 1s 3ms/step - loss: 0.4305 - accuracy: 0.8299 - val_loss: 0.4528 - val_accuracy: 0.8210\n",
            "Epoch 6/10\n",
            "250/250 [==============================] - 1s 5ms/step - loss: 0.4261 - accuracy: 0.8305 - val_loss: 0.4470 - val_accuracy: 0.8225\n",
            "Epoch 7/10\n",
            "250/250 [==============================] - 1s 5ms/step - loss: 0.4252 - accuracy: 0.8326 - val_loss: 0.4477 - val_accuracy: 0.8265\n",
            "Epoch 8/10\n",
            "250/250 [==============================] - 1s 4ms/step - loss: 0.4241 - accuracy: 0.8315 - val_loss: 0.4439 - val_accuracy: 0.8230\n",
            "Epoch 9/10\n",
            "250/250 [==============================] - 1s 3ms/step - loss: 0.4241 - accuracy: 0.8296 - val_loss: 0.4452 - val_accuracy: 0.8300\n",
            "Epoch 10/10\n",
            "250/250 [==============================] - 1s 3ms/step - loss: 0.4225 - accuracy: 0.8307 - val_loss: 0.4450 - val_accuracy: 0.8235\n",
            "Epoch 1/10\n",
            "250/250 [==============================] - 6s 17ms/step - loss: 0.5814 - accuracy: 0.8207 - val_loss: 0.5357 - val_accuracy: 0.8250\n",
            "Epoch 2/10\n",
            "250/250 [==============================] - 4s 17ms/step - loss: 0.5014 - accuracy: 0.8207 - val_loss: 0.5034 - val_accuracy: 0.8250\n",
            "Epoch 3/10\n",
            "250/250 [==============================] - 4s 16ms/step - loss: 0.4828 - accuracy: 0.8207 - val_loss: 0.4826 - val_accuracy: 0.8250\n",
            "Epoch 4/10\n",
            "250/250 [==============================] - 4s 16ms/step - loss: 0.4687 - accuracy: 0.8194 - val_loss: 0.4856 - val_accuracy: 0.8230\n",
            "Epoch 5/10\n",
            "250/250 [==============================] - 4s 17ms/step - loss: 0.4657 - accuracy: 0.8216 - val_loss: 0.4755 - val_accuracy: 0.8255\n",
            "Epoch 6/10\n",
            "250/250 [==============================] - 4s 15ms/step - loss: 0.4658 - accuracy: 0.8189 - val_loss: 0.4791 - val_accuracy: 0.8220\n",
            "Epoch 7/10\n",
            "250/250 [==============================] - 3s 14ms/step - loss: 0.4607 - accuracy: 0.8196 - val_loss: 0.4888 - val_accuracy: 0.8115\n",
            "Epoch 8/10\n",
            "250/250 [==============================] - 4s 15ms/step - loss: 0.4581 - accuracy: 0.8210 - val_loss: 0.4783 - val_accuracy: 0.8210\n",
            "Epoch 9/10\n",
            "250/250 [==============================] - 5s 19ms/step - loss: 0.4595 - accuracy: 0.8219 - val_loss: 0.4727 - val_accuracy: 0.8255\n",
            "Epoch 10/10\n",
            "250/250 [==============================] - 3s 14ms/step - loss: 0.4590 - accuracy: 0.8230 - val_loss: 0.4726 - val_accuracy: 0.8245\n"
          ]
        },
        {
          "output_type": "execute_result",
          "data": {
            "text/plain": [
              "<keras.callbacks.History at 0x7f9c76df5090>"
            ]
          },
          "metadata": {},
          "execution_count": 76
        }
      ]
    },
    {
      "cell_type": "code",
      "source": [
        "# DNN Model Results\n",
        "dnn_scores = dnn_model.evaluate(x_val_scaled, y_val)\n",
        "print(\"DNN Model - Loss:\", dnn_scores[0])\n",
        "print(\"DNN Model - Accuracy:\", dnn_scores[1])\n",
        "\n",
        "# CNN Model Results\n",
        "cnn_scores = cnn_model.evaluate(x_val_scaled.reshape((-1, x_val_scaled.shape[1], 1)), y_val)\n",
        "print(\"CNN Model - Loss:\", cnn_scores[0])\n",
        "print(\"CNN Model - Accuracy:\", cnn_scores[1])\n",
        "\n",
        "# RNN Model Results\n",
        "rnn_scores = rnn_model.evaluate(x_val_scaled.reshape((-1, x_val_scaled.shape[1], 1)), y_val)\n",
        "print(\"RNN Model - Loss:\", rnn_scores[0])\n",
        "print(\"RNN Model - Accuracy:\", rnn_scores[1])"
      ],
      "metadata": {
        "colab": {
          "base_uri": "https://localhost:8080/"
        },
        "id": "l4LL3pCRu2hA",
        "outputId": "12a364cd-5956-40fe-94dd-98c4bb7ff343"
      },
      "execution_count": 77,
      "outputs": [
        {
          "output_type": "stream",
          "name": "stdout",
          "text": [
            "63/63 [==============================] - 0s 2ms/step - loss: 0.4562 - accuracy: 0.8235\n",
            "DNN Model - Loss: 0.4562285542488098\n",
            "DNN Model - Accuracy: 0.8234999775886536\n",
            "63/63 [==============================] - 0s 2ms/step - loss: 0.4450 - accuracy: 0.8235\n",
            "CNN Model - Loss: 0.44496509432792664\n",
            "CNN Model - Accuracy: 0.8234999775886536\n",
            "63/63 [==============================] - 0s 6ms/step - loss: 0.4726 - accuracy: 0.8245\n",
            "RNN Model - Loss: 0.472566694021225\n",
            "RNN Model - Accuracy: 0.8245000243186951\n"
          ]
        }
      ]
    },
    {
      "cell_type": "markdown",
      "source": [
        "### **Apply Autoencoder**\n",
        "\n",
        " **Apply the autoencoder to perform dimensionality reduction.**"
      ],
      "metadata": {
        "id": "G2Di00pOWNmj"
      }
    },
    {
      "cell_type": "code",
      "source": [
        "# Define autoencoder architecture\n",
        "encoding_dim = 8  # Adjust as needed\n",
        "input_layer = keras.layers.Input(shape=(x_train_scaled.shape[1],))\n",
        "encoded = keras.layers.Dense(encoding_dim, activation='relu')(input_layer)\n",
        "decoded = keras.layers.Dense(x_train_scaled.shape[1], activation='sigmoid')(encoded)\n",
        "autoencoder = Model(input_layer, decoded)\n",
        "\n",
        "# Compile autoencoder\n",
        "autoencoder.compile(optimizer='adam', loss='mean_squared_error')\n",
        "\n",
        "# Train autoencoder\n",
        "autoencoder.fit(x_train_scaled, x_train_scaled, epochs=50, batch_size=64, validation_data=(x_val_scaled, x_val_scaled))\n",
        "\n",
        "# Apply autoencoder to data\n",
        "encoded_x_train = autoencoder.predict(x_train_scaled)\n",
        "encoded_x_val = autoencoder.predict(x_val_scaled)"
      ],
      "metadata": {
        "colab": {
          "base_uri": "https://localhost:8080/"
        },
        "id": "hRA9czAlgAUs",
        "outputId": "c942f673-b714-4cda-f053-4a6c08407fa9"
      },
      "execution_count": 78,
      "outputs": [
        {
          "output_type": "stream",
          "name": "stdout",
          "text": [
            "Epoch 1/50\n",
            "125/125 [==============================] - 1s 3ms/step - loss: 0.1751 - val_loss: 0.1365\n",
            "Epoch 2/50\n",
            "125/125 [==============================] - 0s 2ms/step - loss: 0.1180 - val_loss: 0.1087\n",
            "Epoch 3/50\n",
            "125/125 [==============================] - 0s 2ms/step - loss: 0.1007 - val_loss: 0.0980\n",
            "Epoch 4/50\n",
            "125/125 [==============================] - 0s 2ms/step - loss: 0.0918 - val_loss: 0.0903\n",
            "Epoch 5/50\n",
            "125/125 [==============================] - 0s 3ms/step - loss: 0.0844 - val_loss: 0.0826\n",
            "Epoch 6/50\n",
            "125/125 [==============================] - 0s 3ms/step - loss: 0.0765 - val_loss: 0.0746\n",
            "Epoch 7/50\n",
            "125/125 [==============================] - 0s 3ms/step - loss: 0.0692 - val_loss: 0.0677\n",
            "Epoch 8/50\n",
            "125/125 [==============================] - 0s 3ms/step - loss: 0.0632 - val_loss: 0.0623\n",
            "Epoch 9/50\n",
            "125/125 [==============================] - 0s 4ms/step - loss: 0.0585 - val_loss: 0.0582\n",
            "Epoch 10/50\n",
            "125/125 [==============================] - 1s 4ms/step - loss: 0.0547 - val_loss: 0.0550\n",
            "Epoch 11/50\n",
            "125/125 [==============================] - 0s 4ms/step - loss: 0.0518 - val_loss: 0.0523\n",
            "Epoch 12/50\n",
            "125/125 [==============================] - 0s 4ms/step - loss: 0.0494 - val_loss: 0.0503\n",
            "Epoch 13/50\n",
            "125/125 [==============================] - 0s 3ms/step - loss: 0.0474 - val_loss: 0.0486\n",
            "Epoch 14/50\n",
            "125/125 [==============================] - 0s 3ms/step - loss: 0.0458 - val_loss: 0.0471\n",
            "Epoch 15/50\n",
            "125/125 [==============================] - 0s 2ms/step - loss: 0.0444 - val_loss: 0.0458\n",
            "Epoch 16/50\n",
            "125/125 [==============================] - 0s 2ms/step - loss: 0.0433 - val_loss: 0.0448\n",
            "Epoch 17/50\n",
            "125/125 [==============================] - 0s 3ms/step - loss: 0.0422 - val_loss: 0.0438\n",
            "Epoch 18/50\n",
            "125/125 [==============================] - 0s 2ms/step - loss: 0.0413 - val_loss: 0.0429\n",
            "Epoch 19/50\n",
            "125/125 [==============================] - 0s 2ms/step - loss: 0.0404 - val_loss: 0.0421\n",
            "Epoch 20/50\n",
            "125/125 [==============================] - 0s 3ms/step - loss: 0.0396 - val_loss: 0.0414\n",
            "Epoch 21/50\n",
            "125/125 [==============================] - 0s 3ms/step - loss: 0.0389 - val_loss: 0.0406\n",
            "Epoch 22/50\n",
            "125/125 [==============================] - 0s 2ms/step - loss: 0.0382 - val_loss: 0.0400\n",
            "Epoch 23/50\n",
            "125/125 [==============================] - 0s 3ms/step - loss: 0.0376 - val_loss: 0.0394\n",
            "Epoch 24/50\n",
            "125/125 [==============================] - 0s 2ms/step - loss: 0.0370 - val_loss: 0.0389\n",
            "Epoch 25/50\n",
            "125/125 [==============================] - 0s 2ms/step - loss: 0.0365 - val_loss: 0.0383\n",
            "Epoch 26/50\n",
            "125/125 [==============================] - 0s 3ms/step - loss: 0.0360 - val_loss: 0.0379\n",
            "Epoch 27/50\n",
            "125/125 [==============================] - 0s 3ms/step - loss: 0.0356 - val_loss: 0.0375\n",
            "Epoch 28/50\n",
            "125/125 [==============================] - 0s 2ms/step - loss: 0.0352 - val_loss: 0.0371\n",
            "Epoch 29/50\n",
            "125/125 [==============================] - 0s 2ms/step - loss: 0.0349 - val_loss: 0.0368\n",
            "Epoch 30/50\n",
            "125/125 [==============================] - 0s 3ms/step - loss: 0.0346 - val_loss: 0.0366\n",
            "Epoch 31/50\n",
            "125/125 [==============================] - 0s 3ms/step - loss: 0.0343 - val_loss: 0.0363\n",
            "Epoch 32/50\n",
            "125/125 [==============================] - 0s 2ms/step - loss: 0.0340 - val_loss: 0.0361\n",
            "Epoch 33/50\n",
            "125/125 [==============================] - 0s 3ms/step - loss: 0.0338 - val_loss: 0.0359\n",
            "Epoch 34/50\n",
            "125/125 [==============================] - 0s 2ms/step - loss: 0.0335 - val_loss: 0.0357\n",
            "Epoch 35/50\n",
            "125/125 [==============================] - 0s 2ms/step - loss: 0.0334 - val_loss: 0.0355\n",
            "Epoch 36/50\n",
            "125/125 [==============================] - 0s 2ms/step - loss: 0.0331 - val_loss: 0.0353\n",
            "Epoch 37/50\n",
            "125/125 [==============================] - 0s 2ms/step - loss: 0.0329 - val_loss: 0.0351\n",
            "Epoch 38/50\n",
            "125/125 [==============================] - 0s 2ms/step - loss: 0.0328 - val_loss: 0.0349\n",
            "Epoch 39/50\n",
            "125/125 [==============================] - 0s 2ms/step - loss: 0.0326 - val_loss: 0.0348\n",
            "Epoch 40/50\n",
            "125/125 [==============================] - 1s 6ms/step - loss: 0.0324 - val_loss: 0.0346\n",
            "Epoch 41/50\n",
            "125/125 [==============================] - 0s 2ms/step - loss: 0.0323 - val_loss: 0.0345\n",
            "Epoch 42/50\n",
            "125/125 [==============================] - 1s 6ms/step - loss: 0.0321 - val_loss: 0.0343\n",
            "Epoch 43/50\n",
            "125/125 [==============================] - 0s 4ms/step - loss: 0.0320 - val_loss: 0.0341\n",
            "Epoch 44/50\n",
            "125/125 [==============================] - 1s 4ms/step - loss: 0.0318 - val_loss: 0.0340\n",
            "Epoch 45/50\n",
            "125/125 [==============================] - 0s 4ms/step - loss: 0.0317 - val_loss: 0.0339\n",
            "Epoch 46/50\n",
            "125/125 [==============================] - 0s 3ms/step - loss: 0.0316 - val_loss: 0.0338\n",
            "Epoch 47/50\n",
            "125/125 [==============================] - 0s 3ms/step - loss: 0.0315 - val_loss: 0.0337\n",
            "Epoch 48/50\n",
            "125/125 [==============================] - 0s 4ms/step - loss: 0.0313 - val_loss: 0.0336\n",
            "Epoch 49/50\n",
            "125/125 [==============================] - 0s 3ms/step - loss: 0.0312 - val_loss: 0.0335\n",
            "Epoch 50/50\n",
            "125/125 [==============================] - 0s 3ms/step - loss: 0.0311 - val_loss: 0.0333\n",
            "250/250 [==============================] - 0s 2ms/step\n",
            "63/63 [==============================] - 0s 1ms/step\n"
          ]
        }
      ]
    },
    {
      "cell_type": "markdown",
      "source": [
        "### **Build Models with Encoded Data**\n",
        "\n",
        "**Build the same deep learning classifiers using the encoded data and compare the results**"
      ],
      "metadata": {
        "id": "1zexY_8xgFJ-"
      }
    },
    {
      "cell_type": "code",
      "source": [
        "# Reshape encoded data for DNN\n",
        "encoded_x_train_dnn = encoded_x_train  # Already in the correct shape (None, encoding_dim)\n",
        "encoded_x_val_dnn = encoded_x_val      # Already in the correct shape (None, encoding_dim)\n",
        "\n",
        "\n",
        "# Select only the required number of samples from encoded_x_train for y_train\n",
        "# Select only the required number of samples from encoded_x_val for y_val\n",
        "encoded_x_train_rnn_subset = encoded_x_train[:len(y_train)]\n",
        "encoded_x_val_rnn_subset = encoded_x_val[:len(y_val)]\n",
        "\n",
        "# Build models with encoded data\n",
        "dnn_model_encoded = Sequential([\n",
        "    Dense(128, activation='relu', input_shape=(21,)),\n",
        "    Dense(64, activation='relu'),\n",
        "    Dense(3, activation='softmax')\n",
        "])\n",
        "\n",
        "cnn_model_encoded = Sequential([\n",
        "    Conv1D(filters=64, kernel_size=3, activation='relu', input_shape=(encoding_dim, 1)),\n",
        "    Flatten(),\n",
        "    Dense(3, activation='softmax')\n",
        "])\n",
        "\n",
        "rnn_model_encoded = Sequential([\n",
        "    LSTM(64, activation='relu', input_shape=(encoding_dim, 1)),\n",
        "    Dense(3, activation='softmax')\n",
        "])\n",
        "\n",
        "# Compile and train models with encoded data\n",
        "dnn_model_encoded.compile(optimizer='adam', loss='sparse_categorical_crossentropy', metrics=['accuracy'])\n",
        "cnn_model_encoded.compile(optimizer='adam', loss='sparse_categorical_crossentropy', metrics=['accuracy'])\n",
        "rnn_model_encoded.compile(optimizer='adam', loss='sparse_categorical_crossentropy', metrics=['accuracy'])\n",
        "\n",
        "# Print shape of encoded data to debug\n",
        "print(\"Shape of encoded_x_train_dnn:\", encoded_x_train_dnn.shape)\n",
        "print(\"Shape of encoded_x_val_dnn:\", encoded_x_val_dnn.shape)\n",
        "\n",
        "print('\\n')\n",
        "\n",
        "# Reshape encoded data for CNN\n",
        "encoded_x_train_cnn = encoded_x_train.reshape((-1, encoding_dim, 1))\n",
        "encoded_x_val_cnn = encoded_x_val.reshape((-1, encoding_dim, 1))\n",
        "\n",
        "\n",
        "# Print shapes for debugging\n",
        "print(\"Shape of encoded_x_train_cnn:\", encoded_x_train_cnn.shape)\n",
        "print(\"Shape of encoded_x_val_cnn:\", encoded_x_val_cnn.shape)\n",
        "print(\"Shape of y_train:\", y_train.shape)\n",
        "print(\"Shape of y_val:\", y_val.shape)\n",
        "\n",
        "print('\\n')\n",
        "\n",
        "# Select only the required number of samples from encoded_x_train_cnn for y_train\n",
        "# Select only the required number of samples from encoded_x_val_cnn for y_val\n",
        "encoded_x_train_cnn_subset = encoded_x_train_cnn[:len(y_train)]\n",
        "encoded_x_val_cnn_subset = encoded_x_val_cnn[:len(y_val)]\n",
        "\n",
        "# Select only the required number of samples from encoded_x_train for y_train\n",
        "# Select only the required number of samples from encoded_x_val for y_val\n",
        "encoded_x_train_subset = encoded_x_train[:len(y_train)]\n",
        "encoded_x_val_subset = encoded_x_val[:len(y_val)]\n",
        "\n",
        "dnn_model_encoded.fit(encoded_x_train_dnn, y_train, epochs=10, validation_data=(encoded_x_val_dnn, y_val))\n",
        "cnn_model_encoded.fit(encoded_x_train_cnn_subset, y_train, epochs=10, validation_data=(encoded_x_val_cnn_subset, y_val))\n",
        "# rnn_model_encoded.fit(encoded_x_train_rnn_subset.reshape((-1, encoding_dim, 1)), y_train, epochs=10, validation_data=(encoded_x_val_rnn_subset.reshape((-1, encoding_dim, 1)), y_val))"
      ],
      "metadata": {
        "colab": {
          "base_uri": "https://localhost:8080/"
        },
        "id": "auTsi_thnOn1",
        "outputId": "0f33ba19-8d76-40f8-efd2-422daea84df2"
      },
      "execution_count": 79,
      "outputs": [
        {
          "output_type": "stream",
          "name": "stdout",
          "text": [
            "Shape of encoded_x_train_dnn: (8000, 21)\n",
            "Shape of encoded_x_val_dnn: (2000, 21)\n",
            "\n",
            "\n",
            "Shape of encoded_x_train_cnn: (21000, 8, 1)\n",
            "Shape of encoded_x_val_cnn: (5250, 8, 1)\n",
            "Shape of y_train: (8000,)\n",
            "Shape of y_val: (2000,)\n",
            "\n",
            "\n",
            "Epoch 1/10\n",
            "250/250 [==============================] - 2s 4ms/step - loss: 0.4837 - accuracy: 0.8202 - val_loss: 0.4720 - val_accuracy: 0.8130\n",
            "Epoch 2/10\n",
            "250/250 [==============================] - 1s 3ms/step - loss: 0.4586 - accuracy: 0.8216 - val_loss: 0.4704 - val_accuracy: 0.8195\n",
            "Epoch 3/10\n",
            "250/250 [==============================] - 1s 3ms/step - loss: 0.4562 - accuracy: 0.8185 - val_loss: 0.4731 - val_accuracy: 0.8190\n",
            "Epoch 4/10\n",
            "250/250 [==============================] - 1s 3ms/step - loss: 0.4525 - accuracy: 0.8235 - val_loss: 0.4753 - val_accuracy: 0.8120\n",
            "Epoch 5/10\n",
            "250/250 [==============================] - 1s 3ms/step - loss: 0.4519 - accuracy: 0.8205 - val_loss: 0.4710 - val_accuracy: 0.8230\n",
            "Epoch 6/10\n",
            "250/250 [==============================] - 1s 3ms/step - loss: 0.4528 - accuracy: 0.8215 - val_loss: 0.4761 - val_accuracy: 0.8195\n",
            "Epoch 7/10\n",
            "250/250 [==============================] - 1s 3ms/step - loss: 0.4512 - accuracy: 0.8235 - val_loss: 0.4709 - val_accuracy: 0.8180\n",
            "Epoch 8/10\n",
            "250/250 [==============================] - 1s 3ms/step - loss: 0.4491 - accuracy: 0.8236 - val_loss: 0.4705 - val_accuracy: 0.8245\n",
            "Epoch 9/10\n",
            "250/250 [==============================] - 1s 3ms/step - loss: 0.4513 - accuracy: 0.8236 - val_loss: 0.4666 - val_accuracy: 0.8180\n",
            "Epoch 10/10\n",
            "250/250 [==============================] - 1s 3ms/step - loss: 0.4482 - accuracy: 0.8245 - val_loss: 0.4714 - val_accuracy: 0.8205\n",
            "Epoch 1/10\n",
            "250/250 [==============================] - 1s 3ms/step - loss: 0.5890 - accuracy: 0.8046 - val_loss: 0.5400 - val_accuracy: 0.8250\n",
            "Epoch 2/10\n",
            "250/250 [==============================] - 1s 3ms/step - loss: 0.5289 - accuracy: 0.8207 - val_loss: 0.5385 - val_accuracy: 0.8250\n",
            "Epoch 3/10\n",
            "250/250 [==============================] - 1s 3ms/step - loss: 0.5286 - accuracy: 0.8207 - val_loss: 0.5339 - val_accuracy: 0.8250\n",
            "Epoch 4/10\n",
            "250/250 [==============================] - 1s 3ms/step - loss: 0.5278 - accuracy: 0.8207 - val_loss: 0.5332 - val_accuracy: 0.8250\n",
            "Epoch 5/10\n",
            "250/250 [==============================] - 1s 2ms/step - loss: 0.5273 - accuracy: 0.8207 - val_loss: 0.5329 - val_accuracy: 0.8250\n",
            "Epoch 6/10\n",
            "250/250 [==============================] - 1s 3ms/step - loss: 0.5273 - accuracy: 0.8207 - val_loss: 0.5318 - val_accuracy: 0.8250\n",
            "Epoch 7/10\n",
            "250/250 [==============================] - 1s 3ms/step - loss: 0.5278 - accuracy: 0.8207 - val_loss: 0.5327 - val_accuracy: 0.8250\n",
            "Epoch 8/10\n",
            "250/250 [==============================] - 1s 3ms/step - loss: 0.5265 - accuracy: 0.8207 - val_loss: 0.5340 - val_accuracy: 0.8250\n",
            "Epoch 9/10\n",
            "250/250 [==============================] - 1s 3ms/step - loss: 0.5267 - accuracy: 0.8207 - val_loss: 0.5363 - val_accuracy: 0.8250\n",
            "Epoch 10/10\n",
            "250/250 [==============================] - 1s 3ms/step - loss: 0.5262 - accuracy: 0.8207 - val_loss: 0.5316 - val_accuracy: 0.8250\n"
          ]
        },
        {
          "output_type": "execute_result",
          "data": {
            "text/plain": [
              "<keras.callbacks.History at 0x7f9c76b37550>"
            ]
          },
          "metadata": {},
          "execution_count": 79
        }
      ]
    },
    {
      "cell_type": "markdown",
      "source": [
        "### **Comparison and Visualization**"
      ],
      "metadata": {
        "id": "ZYrSdWRYgeyL"
      }
    },
    {
      "cell_type": "markdown",
      "source": [
        "**Evaluate Models**"
      ],
      "metadata": {
        "id": "o48LU7umgjRk"
      }
    },
    {
      "cell_type": "code",
      "source": [
        "# Evaluate baseline models\n",
        "dnn_scores = dnn_model.evaluate(x_val_scaled, y_val)\n",
        "# cnn_scores = cnn_model.evaluate(x_val_scaled.reshape((-1, x_val_scaled.shape[1], 1)), y_val)\n",
        "# rnn_scores = rnn_model.evaluate(x_val_scaled.reshape((-1, x_val_scaled.shape[1], 1)), y_val)\n",
        "\n",
        "# Evaluate models with encoded data\n",
        "dnn_scores_encoded = dnn_model_encoded.evaluate(encoded_x_val, y_val)\n",
        "# cnn_scores_encoded = cnn_model_encoded.evaluate(encoded_x_val.reshape((-1, encoding_dim, 1)), y_val)\n",
        "# rnn_scores_encoded = rnn_model_encoded.evaluate(encoded_x_val.reshape((-1, encoding_dim, 1)), y_val)\n",
        "\n",
        "print(\"Baseline DNN - Accuracy:\", dnn_scores[1])\n",
        "# print(\"Baseline CNN - Accuracy:\", cnn_scores[1])\n",
        "# print(\"Baseline RNN - Accuracy:\", rnn_scores[1])\n",
        "\n",
        "print(\"DNN with Encoded Data - Accuracy:\", dnn_scores_encoded[1])\n",
        "# print(\"CNN with Encoded Data - Accuracy:\", cnn_scores_encoded[1])\n",
        "# print(\"RNN with Encoded Data - Accuracy:\", rnn_scores_encoded[1])"
      ],
      "metadata": {
        "colab": {
          "base_uri": "https://localhost:8080/"
        },
        "id": "xl1yv7vmghzm",
        "outputId": "03c8bbac-7300-4972-8d49-e2601dfe0c02"
      },
      "execution_count": 80,
      "outputs": [
        {
          "output_type": "stream",
          "name": "stdout",
          "text": [
            "63/63 [==============================] - 0s 2ms/step - loss: 0.4562 - accuracy: 0.8235\n",
            "63/63 [==============================] - 0s 2ms/step - loss: 0.4714 - accuracy: 0.8205\n",
            "Baseline DNN - Accuracy: 0.8234999775886536\n",
            "DNN with Encoded Data - Accuracy: 0.8205000162124634\n"
          ]
        }
      ]
    },
    {
      "cell_type": "markdown",
      "source": [
        "**Visualization**"
      ],
      "metadata": {
        "id": "92cVMVB_grCL"
      }
    }
  ]
}