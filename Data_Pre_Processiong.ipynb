{
  "nbformat": 4,
  "nbformat_minor": 0,
  "metadata": {
    "colab": {
      "provenance": [],
      "authorship_tag": "ABX9TyOepWAH7AnAqvMz/E0iQ+tf",
      "include_colab_link": true
    },
    "kernelspec": {
      "name": "python3",
      "display_name": "Python 3"
    },
    "language_info": {
      "name": "python"
    }
  },
  "cells": [
    {
      "cell_type": "markdown",
      "metadata": {
        "id": "view-in-github",
        "colab_type": "text"
      },
      "source": [
        "<a href=\"https://colab.research.google.com/github/tsholofelo-mokheleli/ACIS-2023-New-Zealand/blob/main/Data_Pre_Processiong.ipynb\" target=\"_parent\"><img src=\"https://colab.research.google.com/assets/colab-badge.svg\" alt=\"Open In Colab\"/></a>"
      ]
    },
    {
      "cell_type": "markdown",
      "source": [
        "## **Data Preprocessing**\n",
        "\n",
        "**Process Completed:**\n",
        "* Removed unnecessary columns\n",
        "* Renamed columns\n",
        "* Cleaned the age outlier, and gender\n",
        "* Label Encoding\n"
      ],
      "metadata": {
        "id": "FUltm-yeF6Ns"
      }
    },
    {
      "cell_type": "markdown",
      "source": [
        "**Load Libraries**"
      ],
      "metadata": {
        "id": "nGlfgdVhGN-a"
      }
    },
    {
      "cell_type": "code",
      "execution_count": 76,
      "metadata": {
        "id": "G4lE1SOl9Xne"
      },
      "outputs": [],
      "source": [
        "import pandas  as pd\n",
        "import numpy as np\n",
        "import seaborn as sns\n",
        "import matplotlib.pyplot as plt\n",
        "\n",
        "import warnings\n",
        "warnings.filterwarnings('ignore')\n",
        "cmap=sns.color_palette('Blues_r')\n",
        "\n",
        "from sklearn.preprocessing import LabelEncoder"
      ]
    },
    {
      "cell_type": "markdown",
      "source": [
        "**Load Data**"
      ],
      "metadata": {
        "id": "qxCqqlCrHFHt"
      }
    },
    {
      "cell_type": "code",
      "source": [
        "mh2016 = pd.read_csv('OSMI 2016 Mental Health in Tech Survey Results.csv')\n",
        "\n",
        "# Remove any whitespace from column names\n",
        "mh2016.columns = mh2016.columns.str.strip()\n",
        "\n",
        "mh2016.shape"
      ],
      "metadata": {
        "colab": {
          "base_uri": "https://localhost:8080/"
        },
        "id": "5xblPl8eGRBi",
        "outputId": "f885adf7-44f3-47c2-b9d3-1668566bf7a5"
      },
      "execution_count": 77,
      "outputs": [
        {
          "output_type": "execute_result",
          "data": {
            "text/plain": [
              "(1433, 63)"
            ]
          },
          "metadata": {},
          "execution_count": 77
        }
      ]
    },
    {
      "cell_type": "markdown",
      "source": [
        "**Define a list of columns to keep**"
      ],
      "metadata": {
        "id": "GXcDgmqiGucs"
      }
    },
    {
      "cell_type": "code",
      "source": [
        "cols_to_keep = [\n",
        "    'What is your age?',\n",
        "    'What is your gender?',\n",
        "    'What country do you live in?',\n",
        "    'Have you had a mental health disorder in the past?',\n",
        "    'Have you been diagnosed with a mental health condition by a medical professional?',\n",
        "    'Do you currently have a mental health disorder?',\n",
        "    'Do you have a family history of mental illness?',\n",
        "    'Have you ever sought treatment for a mental health issue from a mental health professional?',\n",
        "    'Are you self-employed?',\n",
        "    'Do you believe your productivity is ever affected by a mental health issue?',\n",
        "    'How many employees does your company or organization have?',\n",
        "    'Is your employer primarily a tech company/organization?',\n",
        "    'Is your primary role within your company related to tech/IT?',\n",
        "    'Does your employer provide mental health benefits as part of healthcare coverage?',\n",
        "    'Do you know the options for mental health care available under your employer-provided coverage?',\n",
        "    'Has your employer ever formally discussed mental health (for example, as part of a wellness campaign or other official communication)?',\n",
        "    'Does your employer offer resources to learn more about mental health concerns and options for seeking help?',\n",
        "    'Is your anonymity protected if you choose to take advantage of mental health or substance abuse treatment resources provided by your employer?',\n",
        "    'If a mental health issue prompted you to request a medical leave from work, asking for that leave would be:',\n",
        "    'Would you have been willing to discuss a mental health issue with your previous co-workers?',\n",
        "    'Would you have been willing to discuss a mental health issue with your direct supervisor(s)?',\n",
        "    'Do you feel that your employer takes mental health as seriously as physical health?',\n",
        "    'Would you bring up a mental health issue with a potential employer in an interview?',\n",
        "    'Have you heard of or observed negative consequences for co-workers who have been open about mental health issues in your workplace?',\n",
        "    'If you have been diagnosed or treated for a mental health disorder, do you ever reveal this to coworkers or employees?'\n",
        "]"
      ],
      "metadata": {
        "id": "HT8aT9WFG2Gb"
      },
      "execution_count": 78,
      "outputs": []
    },
    {
      "cell_type": "markdown",
      "source": [
        "**Find intersection between columns in DataFrame and columns to keep**"
      ],
      "metadata": {
        "id": "RfVNln2dG-ZR"
      }
    },
    {
      "cell_type": "code",
      "source": [
        "intersection = set(cols_to_keep).intersection(mh2016.columns)\n",
        "\n",
        "# drop columns not in intersection\n",
        "mh2016 = mh2016.drop(columns=set(mh2016.columns) - intersection)\n",
        "\n",
        "mh2016.shape"
      ],
      "metadata": {
        "colab": {
          "base_uri": "https://localhost:8080/"
        },
        "id": "iPxrMa9mG9KJ",
        "outputId": "05efff9a-2d15-4a49-cd04-c4ca5df3bdab"
      },
      "execution_count": 79,
      "outputs": [
        {
          "output_type": "execute_result",
          "data": {
            "text/plain": [
              "(1433, 25)"
            ]
          },
          "metadata": {},
          "execution_count": 79
        }
      ]
    },
    {
      "cell_type": "markdown",
      "source": [
        "**Rename Columns for Simplicity**"
      ],
      "metadata": {
        "id": "N8eXqegdH9eD"
      }
    },
    {
      "cell_type": "code",
      "source": [
        "mh2016 = mh2016.rename(columns={\n",
        "    'What is your age?': 'age',\n",
        "    'What is your gender?': 'gender',\n",
        "    'What country do you live in?': 'country',\n",
        "    'Have you had a mental health disorder in the past?': 'past_mental_health',\n",
        "    'Have you been diagnosed with a mental health condition by a medical professional?': 'mental_health_diagnosed',\n",
        "    'Do you currently have a mental health disorder?': 'mental_health',\n",
        "    'Do you have a family history of mental illness?': 'family_history',\n",
        "    'Have you ever sought treatment for a mental health issue from a mental health professional?': 'treatment',\n",
        "    'Are you self-employed?': 'self_employed',\n",
        "    'Do you believe your productivity is ever affected by a mental health issue?': 'work_interfere',\n",
        "    'How many employees does your company or organization have?': 'no_employees',\n",
        "    'Is your employer primarily a tech company/organization?':'tech_company',\n",
        "    'Is your primary role within your company related to tech/IT?': 'company_role',\n",
        "    'Does your employer provide mental health benefits as part of healthcare coverage?': 'benefits',\n",
        "    'Do you know the options for mental health care available under your employer-provided coverage?': 'care_options',\n",
        "    'Has your employer ever formally discussed mental health (for example, as part of a wellness campaign or other official communication)?': 'wellness_program',\n",
        "    'Does your employer offer resources to learn more about mental health concerns and options for seeking help?': 'seek_help',\n",
        "    'Is your anonymity protected if you choose to take advantage of mental health or substance abuse treatment resources provided by your employer?': 'anonymity',\n",
        "    'If a mental health issue prompted you to request a medical leave from work, asking for that leave would be:': 'leave',\n",
        "    'Would you have been willing to discuss a mental health issue with your previous co-workers?': 'coworkers',\n",
        "    'Would you have been willing to discuss a mental health issue with your direct supervisor(s)?': 'supervisor',\n",
        "    'If you have been diagnosed or treated for a mental health disorder, do you ever reveal this to coworkers or employees?': 'discuss_mh',\n",
        "    'Do you feel that your employer takes mental health as seriously as physical health?': 'mental_importance',\n",
        "    'Would you bring up a mental health issue with a potential employer in an interview?': 'mental_health_interview',\n",
        "    'Have you heard of or observed negative consequences for co-workers who have been open about mental health issues in your workplace?': 'neg_consequence_coworker'\n",
        "})"
      ],
      "metadata": {
        "id": "LmufmdPnIBDG"
      },
      "execution_count": 80,
      "outputs": []
    },
    {
      "cell_type": "markdown",
      "source": [
        "**Show the Update Dataframe**"
      ],
      "metadata": {
        "id": "w0emmnpxIPcz"
      }
    },
    {
      "cell_type": "code",
      "source": [
        "mh2016.info()"
      ],
      "metadata": {
        "colab": {
          "base_uri": "https://localhost:8080/"
        },
        "id": "Um4dN7UUISpa",
        "outputId": "986c96a4-8e4f-4b9c-a045-90634e6f7a45"
      },
      "execution_count": 81,
      "outputs": [
        {
          "output_type": "stream",
          "name": "stdout",
          "text": [
            "<class 'pandas.core.frame.DataFrame'>\n",
            "RangeIndex: 1433 entries, 0 to 1432\n",
            "Data columns (total 25 columns):\n",
            " #   Column                    Non-Null Count  Dtype  \n",
            "---  ------                    --------------  -----  \n",
            " 0   self_employed             1433 non-null   int64  \n",
            " 1   no_employees              1146 non-null   object \n",
            " 2   tech_company              1146 non-null   float64\n",
            " 3   company_role              263 non-null    float64\n",
            " 4   benefits                  1146 non-null   object \n",
            " 5   care_options              1013 non-null   object \n",
            " 6   wellness_program          1146 non-null   object \n",
            " 7   seek_help                 1146 non-null   object \n",
            " 8   anonymity                 1146 non-null   object \n",
            " 9   leave                     1146 non-null   object \n",
            " 10  mental_importance         1146 non-null   object \n",
            " 11  neg_consequence_coworker  1146 non-null   object \n",
            " 12  discuss_mh                287 non-null    object \n",
            " 13  work_interfere            287 non-null    object \n",
            " 14  coworkers                 1264 non-null   object \n",
            " 15  supervisor                1264 non-null   object \n",
            " 16  mental_health_interview   1433 non-null   object \n",
            " 17  family_history            1433 non-null   object \n",
            " 18  past_mental_health        1433 non-null   object \n",
            " 19  mental_health             1433 non-null   object \n",
            " 20  mental_health_diagnosed   1433 non-null   object \n",
            " 21  treatment                 1433 non-null   int64  \n",
            " 22  age                       1433 non-null   int64  \n",
            " 23  gender                    1430 non-null   object \n",
            " 24  country                   1433 non-null   object \n",
            "dtypes: float64(2), int64(3), object(20)\n",
            "memory usage: 280.0+ KB\n"
          ]
        }
      ]
    },
    {
      "cell_type": "code",
      "source": [
        "mh2016.shape"
      ],
      "metadata": {
        "colab": {
          "base_uri": "https://localhost:8080/"
        },
        "id": "D2cd7Z3gIdnZ",
        "outputId": "f8a235c1-2565-4e8f-a1cb-f702abd059ad"
      },
      "execution_count": 82,
      "outputs": [
        {
          "output_type": "execute_result",
          "data": {
            "text/plain": [
              "(1433, 25)"
            ]
          },
          "metadata": {},
          "execution_count": 82
        }
      ]
    },
    {
      "cell_type": "markdown",
      "source": [
        "### **Data Cleaning**"
      ],
      "metadata": {
        "id": "laScO3ALJDGx"
      }
    },
    {
      "cell_type": "code",
      "source": [
        "mh = mh2016"
      ],
      "metadata": {
        "id": "qe1UQhFzJQLJ"
      },
      "execution_count": 83,
      "outputs": []
    },
    {
      "cell_type": "markdown",
      "source": [
        "**Age**"
      ],
      "metadata": {
        "id": "vqnNxegKKqxZ"
      }
    },
    {
      "cell_type": "code",
      "source": [
        "mh['age'].replace([mh['age'][mh['age'] < 15]], np.nan, inplace = True)\n",
        "mh['age'].replace([mh['age'][mh['age'] > 80]], np.nan, inplace = True)"
      ],
      "metadata": {
        "id": "xH7HblA-JF3Z"
      },
      "execution_count": 84,
      "outputs": []
    },
    {
      "cell_type": "markdown",
      "source": [
        "**Gender**"
      ],
      "metadata": {
        "id": "90jbMQWlKs6o"
      }
    },
    {
      "cell_type": "code",
      "source": [
        "mh['gender'] = mh['gender'].str.strip().str.lower()\n",
        "mh['gender'].unique()"
      ],
      "metadata": {
        "colab": {
          "base_uri": "https://localhost:8080/"
        },
        "id": "36wMMFc-JgPQ",
        "outputId": "d526d13b-f548-436b-947c-b7bef81d7a76"
      },
      "execution_count": 85,
      "outputs": [
        {
          "output_type": "execute_result",
          "data": {
            "text/plain": [
              "array(['male', 'female', 'm', 'i identify as female.', 'bigender',\n",
              "       'non-binary', 'female assigned at birth', 'f', 'woman', 'man',\n",
              "       'fm', 'cis female', 'transitioned, m2f',\n",
              "       'genderfluid (born female)', 'other/transfeminine',\n",
              "       'female or multi-gender femme', 'female/woman', 'cis male',\n",
              "       'male.', 'androgynous', 'male 9:1 female, roughly', nan,\n",
              "       'male (cis)', 'other', 'nb masculine', 'cisgender female',\n",
              "       'sex is male', 'none of your business', 'genderqueer', 'human',\n",
              "       'genderfluid', 'enby', 'malr', 'genderqueer woman', 'mtf', 'queer',\n",
              "       'agender', 'dude', 'fluid',\n",
              "       \"i'm a man why didn't you make this a drop down question. you should of asked sex? and i would of answered yes please. seriously how much text can this take?\",\n",
              "       'mail', 'm|', 'male/genderqueer', 'fem', 'nonbinary',\n",
              "       'female (props for making this a freeform field, though)',\n",
              "       'unicorn', 'male (trans, ftm)', 'cis-woman', 'cisdude',\n",
              "       'genderflux demi-girl', 'female-bodied; no feelings about gender',\n",
              "       'cis man', 'afab', 'transgender woman'], dtype=object)"
            ]
          },
          "metadata": {},
          "execution_count": 85
        }
      ]
    },
    {
      "cell_type": "code",
      "source": [
        "mh['gender'].replace(['male','m', 'cis male',\n",
        "                      'man',  'mail', 'male-ish', 'male (cis)',\n",
        "                      'cis man', 'msle', 'malr', 'mal', 'maile', 'make','cisdude',\n",
        "                      'man','male.','sex is male','dude','mail', 'm|',\n",
        "                      \"i'm a man why didn't you make this a drop down question. you should of asked sex? and i would of answered yes please. seriously how much text can this take?\",\n",
        "                      'cis-het male','masculino','cis hetero male','cis-male',\"male (hey this is the tech industry you're talking about)\", 'male, cis',\n",
        "                      'ostensibly male', 'male, born with xy chromosoms', 'malel','cisgender male','let\\'s keep it simple and say \"male\"', 'identify as male',\n",
        "                      'masculine', 'cishet male', 'i have a penis','mostly male', 'male/he/him',\n",
        "                      ], 'Male', inplace = True)\n",
        "\n",
        "mh['gender'].replace(['female','f','woman','femail', 'cis female', 'cis-female/femme', 'femake', 'female (cis)',\n",
        "                      'i identify as female.', 'female ','female assigned at birth ','fm',\n",
        "                      'female/woman','cisgender female','fem','cis-woman','femalw','my sex is female.',\n",
        "                      'female (cisgender)','f, cisgender', 'female-ish','i identify as female','cis-female',\n",
        "                      'cis woman','cisgendered woman','gender non-conforming woman','female-identified','femmina',\n",
        "                      '*shrug emoji* (f)','femile', 'female, she/her','female assigned at birth',\n",
        "                      ], 'Female', inplace = True)\n",
        "\n",
        "mh[\"gender\"].replace(['female (trans)', 'queer/she/they', 'non-binary','transgender',\n",
        "                     'fluid', 'queer', 'androgyne', 'trans-female', 'male leaning androgynous',\n",
        "                      'agender', 'a little about you', 'nah', 'all',\n",
        "                      'ostensibly male, unsure what that really means',\n",
        "                      'genderqueer', 'enby', 'p', 'neuter', 'something kinda male?',\n",
        "                      'guy (-ish) ^_^', 'trans woman','non-binary/agender','transitioned, m2f','genderfluid (born female)',\n",
        "                      'other/transfeminine','androgynous','female or multi-gender femme','male 9:1 female, roughly',\n",
        "                      'none of your business', 'genderqueer','human', 'genderfluid',\n",
        "                      'genderqueer woman', 'mtf', 'fluid','male/genderqueer','nonbinary','other','nb masculine',\n",
        "                      'female (props for making this a freeform field, though)','unicorn','male (trans, ftm)',\n",
        "                      'genderflux demi-girl', 'female-bodied; no feelings about gender','woman-identified',\n",
        "                      'uhhhhhhhhh fem genderqueer?','male/androgynous','afab','transgender woman','god king of the valajar',\n",
        "                      'agender/genderfluid', 'sometimes','transfeminine','none','male (or female, or both)',\n",
        "                      'trans man','bigender','contextual', 'non binary', 'genderqueer demigirl', 'genderqueer/non-binary',\n",
        "                      'demiguy', 'trans female','she/her/they/them', 'swm', 'nb','nonbinary/femme', 'questioning','rr','agender trans woman',\n",
        "                      'i am a wookie','trans non-binary/genderfluid', 'non-binary and gender fluid','afab non-binary', 'b','homem cis','female/gender non-binary.','female/gender non-binary.',\n",
        "                       '43','\\-',\n",
        "                      ], 'Other', inplace = True)"
      ],
      "metadata": {
        "id": "uoCERLVsJlfI"
      },
      "execution_count": 86,
      "outputs": []
    },
    {
      "cell_type": "code",
      "source": [
        "mh['gender'].value_counts()"
      ],
      "metadata": {
        "colab": {
          "base_uri": "https://localhost:8080/"
        },
        "id": "KFRKTXnCJyL4",
        "outputId": "f381b460-6bab-400c-dbd7-85e66ac0cbb8"
      },
      "execution_count": 87,
      "outputs": [
        {
          "output_type": "execute_result",
          "data": {
            "text/plain": [
              "Male      1057\n",
              "Female     337\n",
              "Other       36\n",
              "Name: gender, dtype: int64"
            ]
          },
          "metadata": {},
          "execution_count": 87
        }
      ]
    },
    {
      "cell_type": "code",
      "source": [
        "mh.head()"
      ],
      "metadata": {
        "colab": {
          "base_uri": "https://localhost:8080/",
          "height": 508
        },
        "id": "Cn9XGkclMFpI",
        "outputId": "5347dc0a-f7bd-41db-ffe0-ba5502402089"
      },
      "execution_count": 88,
      "outputs": [
        {
          "output_type": "execute_result",
          "data": {
            "text/plain": [
              "   self_employed no_employees  tech_company  company_role  \\\n",
              "0              0       26-100           1.0           NaN   \n",
              "1              0         6-25           1.0           NaN   \n",
              "2              0         6-25           1.0           NaN   \n",
              "3              1          NaN           NaN           NaN   \n",
              "4              0         6-25           0.0           1.0   \n",
              "\n",
              "                          benefits care_options wellness_program seek_help  \\\n",
              "0  Not eligible for coverage / N/A          NaN               No        No   \n",
              "1                               No          Yes              Yes       Yes   \n",
              "2                               No          NaN               No        No   \n",
              "3                              NaN          NaN              NaN       NaN   \n",
              "4                              Yes          Yes               No        No   \n",
              "\n",
              "      anonymity                       leave  ...  \\\n",
              "0  I don't know                   Very easy  ...   \n",
              "1           Yes               Somewhat easy  ...   \n",
              "2  I don't know  Neither easy nor difficult  ...   \n",
              "3           NaN                         NaN  ...   \n",
              "4            No  Neither easy nor difficult  ...   \n",
              "\n",
              "                      supervisor mental_health_interview family_history  \\\n",
              "0  Some of my previous employers                   Maybe             No   \n",
              "1  Some of my previous employers                      No            Yes   \n",
              "2                   I don't know                     Yes             No   \n",
              "3  Some of my previous employers                   Maybe             No   \n",
              "4  Some of my previous employers                      No            Yes   \n",
              "\n",
              "  past_mental_health mental_health mental_health_diagnosed treatment   age  \\\n",
              "0                Yes            No                     Yes         0  39.0   \n",
              "1                Yes           Yes                     Yes         1  29.0   \n",
              "2              Maybe            No                      No         1  38.0   \n",
              "3                Yes           Yes                     Yes         1  43.0   \n",
              "4                Yes           Yes                     Yes         1  43.0   \n",
              "\n",
              "   gender                   country  \n",
              "0    Male            United Kingdom  \n",
              "1    Male  United States of America  \n",
              "2    Male            United Kingdom  \n",
              "3    Male            United Kingdom  \n",
              "4  Female  United States of America  \n",
              "\n",
              "[5 rows x 25 columns]"
            ],
            "text/html": [
              "\n",
              "\n",
              "  <div id=\"df-925b533f-6cf0-4eda-a80b-55573dc6da6e\">\n",
              "    <div class=\"colab-df-container\">\n",
              "      <div>\n",
              "<style scoped>\n",
              "    .dataframe tbody tr th:only-of-type {\n",
              "        vertical-align: middle;\n",
              "    }\n",
              "\n",
              "    .dataframe tbody tr th {\n",
              "        vertical-align: top;\n",
              "    }\n",
              "\n",
              "    .dataframe thead th {\n",
              "        text-align: right;\n",
              "    }\n",
              "</style>\n",
              "<table border=\"1\" class=\"dataframe\">\n",
              "  <thead>\n",
              "    <tr style=\"text-align: right;\">\n",
              "      <th></th>\n",
              "      <th>self_employed</th>\n",
              "      <th>no_employees</th>\n",
              "      <th>tech_company</th>\n",
              "      <th>company_role</th>\n",
              "      <th>benefits</th>\n",
              "      <th>care_options</th>\n",
              "      <th>wellness_program</th>\n",
              "      <th>seek_help</th>\n",
              "      <th>anonymity</th>\n",
              "      <th>leave</th>\n",
              "      <th>...</th>\n",
              "      <th>supervisor</th>\n",
              "      <th>mental_health_interview</th>\n",
              "      <th>family_history</th>\n",
              "      <th>past_mental_health</th>\n",
              "      <th>mental_health</th>\n",
              "      <th>mental_health_diagnosed</th>\n",
              "      <th>treatment</th>\n",
              "      <th>age</th>\n",
              "      <th>gender</th>\n",
              "      <th>country</th>\n",
              "    </tr>\n",
              "  </thead>\n",
              "  <tbody>\n",
              "    <tr>\n",
              "      <th>0</th>\n",
              "      <td>0</td>\n",
              "      <td>26-100</td>\n",
              "      <td>1.0</td>\n",
              "      <td>NaN</td>\n",
              "      <td>Not eligible for coverage / N/A</td>\n",
              "      <td>NaN</td>\n",
              "      <td>No</td>\n",
              "      <td>No</td>\n",
              "      <td>I don't know</td>\n",
              "      <td>Very easy</td>\n",
              "      <td>...</td>\n",
              "      <td>Some of my previous employers</td>\n",
              "      <td>Maybe</td>\n",
              "      <td>No</td>\n",
              "      <td>Yes</td>\n",
              "      <td>No</td>\n",
              "      <td>Yes</td>\n",
              "      <td>0</td>\n",
              "      <td>39.0</td>\n",
              "      <td>Male</td>\n",
              "      <td>United Kingdom</td>\n",
              "    </tr>\n",
              "    <tr>\n",
              "      <th>1</th>\n",
              "      <td>0</td>\n",
              "      <td>6-25</td>\n",
              "      <td>1.0</td>\n",
              "      <td>NaN</td>\n",
              "      <td>No</td>\n",
              "      <td>Yes</td>\n",
              "      <td>Yes</td>\n",
              "      <td>Yes</td>\n",
              "      <td>Yes</td>\n",
              "      <td>Somewhat easy</td>\n",
              "      <td>...</td>\n",
              "      <td>Some of my previous employers</td>\n",
              "      <td>No</td>\n",
              "      <td>Yes</td>\n",
              "      <td>Yes</td>\n",
              "      <td>Yes</td>\n",
              "      <td>Yes</td>\n",
              "      <td>1</td>\n",
              "      <td>29.0</td>\n",
              "      <td>Male</td>\n",
              "      <td>United States of America</td>\n",
              "    </tr>\n",
              "    <tr>\n",
              "      <th>2</th>\n",
              "      <td>0</td>\n",
              "      <td>6-25</td>\n",
              "      <td>1.0</td>\n",
              "      <td>NaN</td>\n",
              "      <td>No</td>\n",
              "      <td>NaN</td>\n",
              "      <td>No</td>\n",
              "      <td>No</td>\n",
              "      <td>I don't know</td>\n",
              "      <td>Neither easy nor difficult</td>\n",
              "      <td>...</td>\n",
              "      <td>I don't know</td>\n",
              "      <td>Yes</td>\n",
              "      <td>No</td>\n",
              "      <td>Maybe</td>\n",
              "      <td>No</td>\n",
              "      <td>No</td>\n",
              "      <td>1</td>\n",
              "      <td>38.0</td>\n",
              "      <td>Male</td>\n",
              "      <td>United Kingdom</td>\n",
              "    </tr>\n",
              "    <tr>\n",
              "      <th>3</th>\n",
              "      <td>1</td>\n",
              "      <td>NaN</td>\n",
              "      <td>NaN</td>\n",
              "      <td>NaN</td>\n",
              "      <td>NaN</td>\n",
              "      <td>NaN</td>\n",
              "      <td>NaN</td>\n",
              "      <td>NaN</td>\n",
              "      <td>NaN</td>\n",
              "      <td>NaN</td>\n",
              "      <td>...</td>\n",
              "      <td>Some of my previous employers</td>\n",
              "      <td>Maybe</td>\n",
              "      <td>No</td>\n",
              "      <td>Yes</td>\n",
              "      <td>Yes</td>\n",
              "      <td>Yes</td>\n",
              "      <td>1</td>\n",
              "      <td>43.0</td>\n",
              "      <td>Male</td>\n",
              "      <td>United Kingdom</td>\n",
              "    </tr>\n",
              "    <tr>\n",
              "      <th>4</th>\n",
              "      <td>0</td>\n",
              "      <td>6-25</td>\n",
              "      <td>0.0</td>\n",
              "      <td>1.0</td>\n",
              "      <td>Yes</td>\n",
              "      <td>Yes</td>\n",
              "      <td>No</td>\n",
              "      <td>No</td>\n",
              "      <td>No</td>\n",
              "      <td>Neither easy nor difficult</td>\n",
              "      <td>...</td>\n",
              "      <td>Some of my previous employers</td>\n",
              "      <td>No</td>\n",
              "      <td>Yes</td>\n",
              "      <td>Yes</td>\n",
              "      <td>Yes</td>\n",
              "      <td>Yes</td>\n",
              "      <td>1</td>\n",
              "      <td>43.0</td>\n",
              "      <td>Female</td>\n",
              "      <td>United States of America</td>\n",
              "    </tr>\n",
              "  </tbody>\n",
              "</table>\n",
              "<p>5 rows × 25 columns</p>\n",
              "</div>\n",
              "      <button class=\"colab-df-convert\" onclick=\"convertToInteractive('df-925b533f-6cf0-4eda-a80b-55573dc6da6e')\"\n",
              "              title=\"Convert this dataframe to an interactive table.\"\n",
              "              style=\"display:none;\">\n",
              "\n",
              "  <svg xmlns=\"http://www.w3.org/2000/svg\" height=\"24px\"viewBox=\"0 0 24 24\"\n",
              "       width=\"24px\">\n",
              "    <path d=\"M0 0h24v24H0V0z\" fill=\"none\"/>\n",
              "    <path d=\"M18.56 5.44l.94 2.06.94-2.06 2.06-.94-2.06-.94-.94-2.06-.94 2.06-2.06.94zm-11 1L8.5 8.5l.94-2.06 2.06-.94-2.06-.94L8.5 2.5l-.94 2.06-2.06.94zm10 10l.94 2.06.94-2.06 2.06-.94-2.06-.94-.94-2.06-.94 2.06-2.06.94z\"/><path d=\"M17.41 7.96l-1.37-1.37c-.4-.4-.92-.59-1.43-.59-.52 0-1.04.2-1.43.59L10.3 9.45l-7.72 7.72c-.78.78-.78 2.05 0 2.83L4 21.41c.39.39.9.59 1.41.59.51 0 1.02-.2 1.41-.59l7.78-7.78 2.81-2.81c.8-.78.8-2.07 0-2.86zM5.41 20L4 18.59l7.72-7.72 1.47 1.35L5.41 20z\"/>\n",
              "  </svg>\n",
              "      </button>\n",
              "\n",
              "\n",
              "\n",
              "    <div id=\"df-90b38ca8-c583-451e-a99f-c8b550ab0820\">\n",
              "      <button class=\"colab-df-quickchart\" onclick=\"quickchart('df-90b38ca8-c583-451e-a99f-c8b550ab0820')\"\n",
              "              title=\"Suggest charts.\"\n",
              "              style=\"display:none;\">\n",
              "\n",
              "<svg xmlns=\"http://www.w3.org/2000/svg\" height=\"24px\"viewBox=\"0 0 24 24\"\n",
              "     width=\"24px\">\n",
              "    <g>\n",
              "        <path d=\"M19 3H5c-1.1 0-2 .9-2 2v14c0 1.1.9 2 2 2h14c1.1 0 2-.9 2-2V5c0-1.1-.9-2-2-2zM9 17H7v-7h2v7zm4 0h-2V7h2v10zm4 0h-2v-4h2v4z\"/>\n",
              "    </g>\n",
              "</svg>\n",
              "      </button>\n",
              "    </div>\n",
              "\n",
              "<style>\n",
              "  .colab-df-quickchart {\n",
              "    background-color: #E8F0FE;\n",
              "    border: none;\n",
              "    border-radius: 50%;\n",
              "    cursor: pointer;\n",
              "    display: none;\n",
              "    fill: #1967D2;\n",
              "    height: 32px;\n",
              "    padding: 0 0 0 0;\n",
              "    width: 32px;\n",
              "  }\n",
              "\n",
              "  .colab-df-quickchart:hover {\n",
              "    background-color: #E2EBFA;\n",
              "    box-shadow: 0px 1px 2px rgba(60, 64, 67, 0.3), 0px 1px 3px 1px rgba(60, 64, 67, 0.15);\n",
              "    fill: #174EA6;\n",
              "  }\n",
              "\n",
              "  [theme=dark] .colab-df-quickchart {\n",
              "    background-color: #3B4455;\n",
              "    fill: #D2E3FC;\n",
              "  }\n",
              "\n",
              "  [theme=dark] .colab-df-quickchart:hover {\n",
              "    background-color: #434B5C;\n",
              "    box-shadow: 0px 1px 3px 1px rgba(0, 0, 0, 0.15);\n",
              "    filter: drop-shadow(0px 1px 2px rgba(0, 0, 0, 0.3));\n",
              "    fill: #FFFFFF;\n",
              "  }\n",
              "</style>\n",
              "\n",
              "    <script>\n",
              "      async function quickchart(key) {\n",
              "        const containerElement = document.querySelector('#' + key);\n",
              "        const charts = await google.colab.kernel.invokeFunction(\n",
              "            'suggestCharts', [key], {});\n",
              "      }\n",
              "    </script>\n",
              "\n",
              "      <script>\n",
              "\n",
              "function displayQuickchartButton(domScope) {\n",
              "  let quickchartButtonEl =\n",
              "    domScope.querySelector('#df-90b38ca8-c583-451e-a99f-c8b550ab0820 button.colab-df-quickchart');\n",
              "  quickchartButtonEl.style.display =\n",
              "    google.colab.kernel.accessAllowed ? 'block' : 'none';\n",
              "}\n",
              "\n",
              "        displayQuickchartButton(document);\n",
              "      </script>\n",
              "      <style>\n",
              "    .colab-df-container {\n",
              "      display:flex;\n",
              "      flex-wrap:wrap;\n",
              "      gap: 12px;\n",
              "    }\n",
              "\n",
              "    .colab-df-convert {\n",
              "      background-color: #E8F0FE;\n",
              "      border: none;\n",
              "      border-radius: 50%;\n",
              "      cursor: pointer;\n",
              "      display: none;\n",
              "      fill: #1967D2;\n",
              "      height: 32px;\n",
              "      padding: 0 0 0 0;\n",
              "      width: 32px;\n",
              "    }\n",
              "\n",
              "    .colab-df-convert:hover {\n",
              "      background-color: #E2EBFA;\n",
              "      box-shadow: 0px 1px 2px rgba(60, 64, 67, 0.3), 0px 1px 3px 1px rgba(60, 64, 67, 0.15);\n",
              "      fill: #174EA6;\n",
              "    }\n",
              "\n",
              "    [theme=dark] .colab-df-convert {\n",
              "      background-color: #3B4455;\n",
              "      fill: #D2E3FC;\n",
              "    }\n",
              "\n",
              "    [theme=dark] .colab-df-convert:hover {\n",
              "      background-color: #434B5C;\n",
              "      box-shadow: 0px 1px 3px 1px rgba(0, 0, 0, 0.15);\n",
              "      filter: drop-shadow(0px 1px 2px rgba(0, 0, 0, 0.3));\n",
              "      fill: #FFFFFF;\n",
              "    }\n",
              "  </style>\n",
              "\n",
              "      <script>\n",
              "        const buttonEl =\n",
              "          document.querySelector('#df-925b533f-6cf0-4eda-a80b-55573dc6da6e button.colab-df-convert');\n",
              "        buttonEl.style.display =\n",
              "          google.colab.kernel.accessAllowed ? 'block' : 'none';\n",
              "\n",
              "        async function convertToInteractive(key) {\n",
              "          const element = document.querySelector('#df-925b533f-6cf0-4eda-a80b-55573dc6da6e');\n",
              "          const dataTable =\n",
              "            await google.colab.kernel.invokeFunction('convertToInteractive',\n",
              "                                                     [key], {});\n",
              "          if (!dataTable) return;\n",
              "\n",
              "          const docLinkHtml = 'Like what you see? Visit the ' +\n",
              "            '<a target=\"_blank\" href=https://colab.research.google.com/notebooks/data_table.ipynb>data table notebook</a>'\n",
              "            + ' to learn more about interactive tables.';\n",
              "          element.innerHTML = '';\n",
              "          dataTable['output_type'] = 'display_data';\n",
              "          await google.colab.output.renderOutput(dataTable, element);\n",
              "          const docLink = document.createElement('div');\n",
              "          docLink.innerHTML = docLinkHtml;\n",
              "          element.appendChild(docLink);\n",
              "        }\n",
              "      </script>\n",
              "    </div>\n",
              "  </div>\n"
            ]
          },
          "metadata": {},
          "execution_count": 88
        }
      ]
    },
    {
      "cell_type": "markdown",
      "source": [
        "**Label Encoding**"
      ],
      "metadata": {
        "id": "mHfa5Jt7NCtm"
      }
    },
    {
      "cell_type": "code",
      "source": [
        "# Initialize the LabelEncoder\n",
        "label_encoder = LabelEncoder()\n",
        "\n",
        "# Loop through all columns in the DataFrame and perform label encoding\n",
        "for column in mh.columns:\n",
        "    if column != 'age':\n",
        "        # make small letters\n",
        "        mh[column] = mh[column].apply(lambda x: x.lower() if isinstance(x, str) else x)\n",
        "        mh[column] = label_encoder.fit_transform(mh[column])"
      ],
      "metadata": {
        "id": "el44u8FMNFW3"
      },
      "execution_count": 89,
      "outputs": []
    },
    {
      "cell_type": "code",
      "source": [
        "mh.head()"
      ],
      "metadata": {
        "colab": {
          "base_uri": "https://localhost:8080/",
          "height": 299
        },
        "id": "BfQULFBoNdjv",
        "outputId": "1636aa8e-a567-4842-d518-e53e879c85b7"
      },
      "execution_count": 90,
      "outputs": [
        {
          "output_type": "execute_result",
          "data": {
            "text/plain": [
              "   self_employed  no_employees  tech_company  company_role  benefits  \\\n",
              "0              0             2             1             2         2   \n",
              "1              0             4             1             2         1   \n",
              "2              0             4             1             2         1   \n",
              "3              1             6             2             2         4   \n",
              "4              0             4             0             1         3   \n",
              "\n",
              "   care_options  wellness_program  seek_help  anonymity  leave  ...  \\\n",
              "0             3                 1          1          0      5  ...   \n",
              "1             2                 2          2          2      3  ...   \n",
              "2             3                 1          1          0      1  ...   \n",
              "3             3                 3          3          3      6  ...   \n",
              "4             2                 1          1          1      1  ...   \n",
              "\n",
              "   supervisor  mental_health_interview  family_history  past_mental_health  \\\n",
              "0           2                        0               1                   2   \n",
              "1           2                        1               2                   2   \n",
              "2           0                        2               1                   0   \n",
              "3           2                        0               1                   2   \n",
              "4           2                        1               2                   2   \n",
              "\n",
              "   mental_health  mental_health_diagnosed  treatment   age  gender  country  \n",
              "0              1                        1          0  39.0       1       49  \n",
              "1              2                        1          1  29.0       1       50  \n",
              "2              1                        0          1  38.0       1       49  \n",
              "3              2                        1          1  43.0       1       49  \n",
              "4              2                        1          1  43.0       0       50  \n",
              "\n",
              "[5 rows x 25 columns]"
            ],
            "text/html": [
              "\n",
              "\n",
              "  <div id=\"df-eb26aca2-35d5-4428-9b2c-a17abe0ff754\">\n",
              "    <div class=\"colab-df-container\">\n",
              "      <div>\n",
              "<style scoped>\n",
              "    .dataframe tbody tr th:only-of-type {\n",
              "        vertical-align: middle;\n",
              "    }\n",
              "\n",
              "    .dataframe tbody tr th {\n",
              "        vertical-align: top;\n",
              "    }\n",
              "\n",
              "    .dataframe thead th {\n",
              "        text-align: right;\n",
              "    }\n",
              "</style>\n",
              "<table border=\"1\" class=\"dataframe\">\n",
              "  <thead>\n",
              "    <tr style=\"text-align: right;\">\n",
              "      <th></th>\n",
              "      <th>self_employed</th>\n",
              "      <th>no_employees</th>\n",
              "      <th>tech_company</th>\n",
              "      <th>company_role</th>\n",
              "      <th>benefits</th>\n",
              "      <th>care_options</th>\n",
              "      <th>wellness_program</th>\n",
              "      <th>seek_help</th>\n",
              "      <th>anonymity</th>\n",
              "      <th>leave</th>\n",
              "      <th>...</th>\n",
              "      <th>supervisor</th>\n",
              "      <th>mental_health_interview</th>\n",
              "      <th>family_history</th>\n",
              "      <th>past_mental_health</th>\n",
              "      <th>mental_health</th>\n",
              "      <th>mental_health_diagnosed</th>\n",
              "      <th>treatment</th>\n",
              "      <th>age</th>\n",
              "      <th>gender</th>\n",
              "      <th>country</th>\n",
              "    </tr>\n",
              "  </thead>\n",
              "  <tbody>\n",
              "    <tr>\n",
              "      <th>0</th>\n",
              "      <td>0</td>\n",
              "      <td>2</td>\n",
              "      <td>1</td>\n",
              "      <td>2</td>\n",
              "      <td>2</td>\n",
              "      <td>3</td>\n",
              "      <td>1</td>\n",
              "      <td>1</td>\n",
              "      <td>0</td>\n",
              "      <td>5</td>\n",
              "      <td>...</td>\n",
              "      <td>2</td>\n",
              "      <td>0</td>\n",
              "      <td>1</td>\n",
              "      <td>2</td>\n",
              "      <td>1</td>\n",
              "      <td>1</td>\n",
              "      <td>0</td>\n",
              "      <td>39.0</td>\n",
              "      <td>1</td>\n",
              "      <td>49</td>\n",
              "    </tr>\n",
              "    <tr>\n",
              "      <th>1</th>\n",
              "      <td>0</td>\n",
              "      <td>4</td>\n",
              "      <td>1</td>\n",
              "      <td>2</td>\n",
              "      <td>1</td>\n",
              "      <td>2</td>\n",
              "      <td>2</td>\n",
              "      <td>2</td>\n",
              "      <td>2</td>\n",
              "      <td>3</td>\n",
              "      <td>...</td>\n",
              "      <td>2</td>\n",
              "      <td>1</td>\n",
              "      <td>2</td>\n",
              "      <td>2</td>\n",
              "      <td>2</td>\n",
              "      <td>1</td>\n",
              "      <td>1</td>\n",
              "      <td>29.0</td>\n",
              "      <td>1</td>\n",
              "      <td>50</td>\n",
              "    </tr>\n",
              "    <tr>\n",
              "      <th>2</th>\n",
              "      <td>0</td>\n",
              "      <td>4</td>\n",
              "      <td>1</td>\n",
              "      <td>2</td>\n",
              "      <td>1</td>\n",
              "      <td>3</td>\n",
              "      <td>1</td>\n",
              "      <td>1</td>\n",
              "      <td>0</td>\n",
              "      <td>1</td>\n",
              "      <td>...</td>\n",
              "      <td>0</td>\n",
              "      <td>2</td>\n",
              "      <td>1</td>\n",
              "      <td>0</td>\n",
              "      <td>1</td>\n",
              "      <td>0</td>\n",
              "      <td>1</td>\n",
              "      <td>38.0</td>\n",
              "      <td>1</td>\n",
              "      <td>49</td>\n",
              "    </tr>\n",
              "    <tr>\n",
              "      <th>3</th>\n",
              "      <td>1</td>\n",
              "      <td>6</td>\n",
              "      <td>2</td>\n",
              "      <td>2</td>\n",
              "      <td>4</td>\n",
              "      <td>3</td>\n",
              "      <td>3</td>\n",
              "      <td>3</td>\n",
              "      <td>3</td>\n",
              "      <td>6</td>\n",
              "      <td>...</td>\n",
              "      <td>2</td>\n",
              "      <td>0</td>\n",
              "      <td>1</td>\n",
              "      <td>2</td>\n",
              "      <td>2</td>\n",
              "      <td>1</td>\n",
              "      <td>1</td>\n",
              "      <td>43.0</td>\n",
              "      <td>1</td>\n",
              "      <td>49</td>\n",
              "    </tr>\n",
              "    <tr>\n",
              "      <th>4</th>\n",
              "      <td>0</td>\n",
              "      <td>4</td>\n",
              "      <td>0</td>\n",
              "      <td>1</td>\n",
              "      <td>3</td>\n",
              "      <td>2</td>\n",
              "      <td>1</td>\n",
              "      <td>1</td>\n",
              "      <td>1</td>\n",
              "      <td>1</td>\n",
              "      <td>...</td>\n",
              "      <td>2</td>\n",
              "      <td>1</td>\n",
              "      <td>2</td>\n",
              "      <td>2</td>\n",
              "      <td>2</td>\n",
              "      <td>1</td>\n",
              "      <td>1</td>\n",
              "      <td>43.0</td>\n",
              "      <td>0</td>\n",
              "      <td>50</td>\n",
              "    </tr>\n",
              "  </tbody>\n",
              "</table>\n",
              "<p>5 rows × 25 columns</p>\n",
              "</div>\n",
              "      <button class=\"colab-df-convert\" onclick=\"convertToInteractive('df-eb26aca2-35d5-4428-9b2c-a17abe0ff754')\"\n",
              "              title=\"Convert this dataframe to an interactive table.\"\n",
              "              style=\"display:none;\">\n",
              "\n",
              "  <svg xmlns=\"http://www.w3.org/2000/svg\" height=\"24px\"viewBox=\"0 0 24 24\"\n",
              "       width=\"24px\">\n",
              "    <path d=\"M0 0h24v24H0V0z\" fill=\"none\"/>\n",
              "    <path d=\"M18.56 5.44l.94 2.06.94-2.06 2.06-.94-2.06-.94-.94-2.06-.94 2.06-2.06.94zm-11 1L8.5 8.5l.94-2.06 2.06-.94-2.06-.94L8.5 2.5l-.94 2.06-2.06.94zm10 10l.94 2.06.94-2.06 2.06-.94-2.06-.94-.94-2.06-.94 2.06-2.06.94z\"/><path d=\"M17.41 7.96l-1.37-1.37c-.4-.4-.92-.59-1.43-.59-.52 0-1.04.2-1.43.59L10.3 9.45l-7.72 7.72c-.78.78-.78 2.05 0 2.83L4 21.41c.39.39.9.59 1.41.59.51 0 1.02-.2 1.41-.59l7.78-7.78 2.81-2.81c.8-.78.8-2.07 0-2.86zM5.41 20L4 18.59l7.72-7.72 1.47 1.35L5.41 20z\"/>\n",
              "  </svg>\n",
              "      </button>\n",
              "\n",
              "\n",
              "\n",
              "    <div id=\"df-c16f9824-395e-4e25-bd7c-30b2b26eace6\">\n",
              "      <button class=\"colab-df-quickchart\" onclick=\"quickchart('df-c16f9824-395e-4e25-bd7c-30b2b26eace6')\"\n",
              "              title=\"Suggest charts.\"\n",
              "              style=\"display:none;\">\n",
              "\n",
              "<svg xmlns=\"http://www.w3.org/2000/svg\" height=\"24px\"viewBox=\"0 0 24 24\"\n",
              "     width=\"24px\">\n",
              "    <g>\n",
              "        <path d=\"M19 3H5c-1.1 0-2 .9-2 2v14c0 1.1.9 2 2 2h14c1.1 0 2-.9 2-2V5c0-1.1-.9-2-2-2zM9 17H7v-7h2v7zm4 0h-2V7h2v10zm4 0h-2v-4h2v4z\"/>\n",
              "    </g>\n",
              "</svg>\n",
              "      </button>\n",
              "    </div>\n",
              "\n",
              "<style>\n",
              "  .colab-df-quickchart {\n",
              "    background-color: #E8F0FE;\n",
              "    border: none;\n",
              "    border-radius: 50%;\n",
              "    cursor: pointer;\n",
              "    display: none;\n",
              "    fill: #1967D2;\n",
              "    height: 32px;\n",
              "    padding: 0 0 0 0;\n",
              "    width: 32px;\n",
              "  }\n",
              "\n",
              "  .colab-df-quickchart:hover {\n",
              "    background-color: #E2EBFA;\n",
              "    box-shadow: 0px 1px 2px rgba(60, 64, 67, 0.3), 0px 1px 3px 1px rgba(60, 64, 67, 0.15);\n",
              "    fill: #174EA6;\n",
              "  }\n",
              "\n",
              "  [theme=dark] .colab-df-quickchart {\n",
              "    background-color: #3B4455;\n",
              "    fill: #D2E3FC;\n",
              "  }\n",
              "\n",
              "  [theme=dark] .colab-df-quickchart:hover {\n",
              "    background-color: #434B5C;\n",
              "    box-shadow: 0px 1px 3px 1px rgba(0, 0, 0, 0.15);\n",
              "    filter: drop-shadow(0px 1px 2px rgba(0, 0, 0, 0.3));\n",
              "    fill: #FFFFFF;\n",
              "  }\n",
              "</style>\n",
              "\n",
              "    <script>\n",
              "      async function quickchart(key) {\n",
              "        const containerElement = document.querySelector('#' + key);\n",
              "        const charts = await google.colab.kernel.invokeFunction(\n",
              "            'suggestCharts', [key], {});\n",
              "      }\n",
              "    </script>\n",
              "\n",
              "      <script>\n",
              "\n",
              "function displayQuickchartButton(domScope) {\n",
              "  let quickchartButtonEl =\n",
              "    domScope.querySelector('#df-c16f9824-395e-4e25-bd7c-30b2b26eace6 button.colab-df-quickchart');\n",
              "  quickchartButtonEl.style.display =\n",
              "    google.colab.kernel.accessAllowed ? 'block' : 'none';\n",
              "}\n",
              "\n",
              "        displayQuickchartButton(document);\n",
              "      </script>\n",
              "      <style>\n",
              "    .colab-df-container {\n",
              "      display:flex;\n",
              "      flex-wrap:wrap;\n",
              "      gap: 12px;\n",
              "    }\n",
              "\n",
              "    .colab-df-convert {\n",
              "      background-color: #E8F0FE;\n",
              "      border: none;\n",
              "      border-radius: 50%;\n",
              "      cursor: pointer;\n",
              "      display: none;\n",
              "      fill: #1967D2;\n",
              "      height: 32px;\n",
              "      padding: 0 0 0 0;\n",
              "      width: 32px;\n",
              "    }\n",
              "\n",
              "    .colab-df-convert:hover {\n",
              "      background-color: #E2EBFA;\n",
              "      box-shadow: 0px 1px 2px rgba(60, 64, 67, 0.3), 0px 1px 3px 1px rgba(60, 64, 67, 0.15);\n",
              "      fill: #174EA6;\n",
              "    }\n",
              "\n",
              "    [theme=dark] .colab-df-convert {\n",
              "      background-color: #3B4455;\n",
              "      fill: #D2E3FC;\n",
              "    }\n",
              "\n",
              "    [theme=dark] .colab-df-convert:hover {\n",
              "      background-color: #434B5C;\n",
              "      box-shadow: 0px 1px 3px 1px rgba(0, 0, 0, 0.15);\n",
              "      filter: drop-shadow(0px 1px 2px rgba(0, 0, 0, 0.3));\n",
              "      fill: #FFFFFF;\n",
              "    }\n",
              "  </style>\n",
              "\n",
              "      <script>\n",
              "        const buttonEl =\n",
              "          document.querySelector('#df-eb26aca2-35d5-4428-9b2c-a17abe0ff754 button.colab-df-convert');\n",
              "        buttonEl.style.display =\n",
              "          google.colab.kernel.accessAllowed ? 'block' : 'none';\n",
              "\n",
              "        async function convertToInteractive(key) {\n",
              "          const element = document.querySelector('#df-eb26aca2-35d5-4428-9b2c-a17abe0ff754');\n",
              "          const dataTable =\n",
              "            await google.colab.kernel.invokeFunction('convertToInteractive',\n",
              "                                                     [key], {});\n",
              "          if (!dataTable) return;\n",
              "\n",
              "          const docLinkHtml = 'Like what you see? Visit the ' +\n",
              "            '<a target=\"_blank\" href=https://colab.research.google.com/notebooks/data_table.ipynb>data table notebook</a>'\n",
              "            + ' to learn more about interactive tables.';\n",
              "          element.innerHTML = '';\n",
              "          dataTable['output_type'] = 'display_data';\n",
              "          await google.colab.output.renderOutput(dataTable, element);\n",
              "          const docLink = document.createElement('div');\n",
              "          docLink.innerHTML = docLinkHtml;\n",
              "          element.appendChild(docLink);\n",
              "        }\n",
              "      </script>\n",
              "    </div>\n",
              "  </div>\n"
            ]
          },
          "metadata": {},
          "execution_count": 90
        }
      ]
    },
    {
      "cell_type": "code",
      "source": [
        "mh.info()"
      ],
      "metadata": {
        "colab": {
          "base_uri": "https://localhost:8080/"
        },
        "id": "vY0BrQ4wOh8e",
        "outputId": "7494bc65-b328-4cd7-d637-9f534ceba196"
      },
      "execution_count": 91,
      "outputs": [
        {
          "output_type": "stream",
          "name": "stdout",
          "text": [
            "<class 'pandas.core.frame.DataFrame'>\n",
            "RangeIndex: 1433 entries, 0 to 1432\n",
            "Data columns (total 25 columns):\n",
            " #   Column                    Non-Null Count  Dtype  \n",
            "---  ------                    --------------  -----  \n",
            " 0   self_employed             1433 non-null   int64  \n",
            " 1   no_employees              1433 non-null   int64  \n",
            " 2   tech_company              1433 non-null   int64  \n",
            " 3   company_role              1433 non-null   int64  \n",
            " 4   benefits                  1433 non-null   int64  \n",
            " 5   care_options              1433 non-null   int64  \n",
            " 6   wellness_program          1433 non-null   int64  \n",
            " 7   seek_help                 1433 non-null   int64  \n",
            " 8   anonymity                 1433 non-null   int64  \n",
            " 9   leave                     1433 non-null   int64  \n",
            " 10  mental_importance         1433 non-null   int64  \n",
            " 11  neg_consequence_coworker  1433 non-null   int64  \n",
            " 12  discuss_mh                1433 non-null   int64  \n",
            " 13  work_interfere            1433 non-null   int64  \n",
            " 14  coworkers                 1433 non-null   int64  \n",
            " 15  supervisor                1433 non-null   int64  \n",
            " 16  mental_health_interview   1433 non-null   int64  \n",
            " 17  family_history            1433 non-null   int64  \n",
            " 18  past_mental_health        1433 non-null   int64  \n",
            " 19  mental_health             1433 non-null   int64  \n",
            " 20  mental_health_diagnosed   1433 non-null   int64  \n",
            " 21  treatment                 1433 non-null   int64  \n",
            " 22  age                       1430 non-null   float64\n",
            " 23  gender                    1433 non-null   int64  \n",
            " 24  country                   1433 non-null   int64  \n",
            "dtypes: float64(1), int64(24)\n",
            "memory usage: 280.0 KB\n"
          ]
        }
      ]
    },
    {
      "cell_type": "markdown",
      "source": [
        "**Drop null values**"
      ],
      "metadata": {
        "id": "aLC4xcNGPDIN"
      }
    },
    {
      "cell_type": "code",
      "source": [
        "mh = mh.dropna()\n",
        "\n",
        "# Convert 'age' column to int64 data type\n",
        "mh['age'] = mh['age'].astype('int64')\n",
        "\n",
        "mh.info()"
      ],
      "metadata": {
        "colab": {
          "base_uri": "https://localhost:8080/"
        },
        "id": "Lvg-lbDHPFzW",
        "outputId": "e50c0840-bb59-4387-9b23-120a5cbe9d70"
      },
      "execution_count": 92,
      "outputs": [
        {
          "output_type": "stream",
          "name": "stdout",
          "text": [
            "<class 'pandas.core.frame.DataFrame'>\n",
            "Int64Index: 1430 entries, 0 to 1432\n",
            "Data columns (total 25 columns):\n",
            " #   Column                    Non-Null Count  Dtype\n",
            "---  ------                    --------------  -----\n",
            " 0   self_employed             1430 non-null   int64\n",
            " 1   no_employees              1430 non-null   int64\n",
            " 2   tech_company              1430 non-null   int64\n",
            " 3   company_role              1430 non-null   int64\n",
            " 4   benefits                  1430 non-null   int64\n",
            " 5   care_options              1430 non-null   int64\n",
            " 6   wellness_program          1430 non-null   int64\n",
            " 7   seek_help                 1430 non-null   int64\n",
            " 8   anonymity                 1430 non-null   int64\n",
            " 9   leave                     1430 non-null   int64\n",
            " 10  mental_importance         1430 non-null   int64\n",
            " 11  neg_consequence_coworker  1430 non-null   int64\n",
            " 12  discuss_mh                1430 non-null   int64\n",
            " 13  work_interfere            1430 non-null   int64\n",
            " 14  coworkers                 1430 non-null   int64\n",
            " 15  supervisor                1430 non-null   int64\n",
            " 16  mental_health_interview   1430 non-null   int64\n",
            " 17  family_history            1430 non-null   int64\n",
            " 18  past_mental_health        1430 non-null   int64\n",
            " 19  mental_health             1430 non-null   int64\n",
            " 20  mental_health_diagnosed   1430 non-null   int64\n",
            " 21  treatment                 1430 non-null   int64\n",
            " 22  age                       1430 non-null   int64\n",
            " 23  gender                    1430 non-null   int64\n",
            " 24  country                   1430 non-null   int64\n",
            "dtypes: int64(25)\n",
            "memory usage: 290.5 KB\n"
          ]
        }
      ]
    },
    {
      "cell_type": "markdown",
      "source": [
        "**Create and Download a new dataset**"
      ],
      "metadata": {
        "id": "8tmAnSeHORnu"
      }
    },
    {
      "cell_type": "code",
      "source": [
        "from google.colab import files"
      ],
      "metadata": {
        "id": "dZ7iTOVQOV8n"
      },
      "execution_count": 93,
      "outputs": []
    },
    {
      "cell_type": "code",
      "source": [
        "# Save the cleaned dataframe as a CSV file\n",
        "mh.to_csv('Mental Health.csv', index=False)\n",
        "\n",
        "# Download the CSV file\n",
        "files.download('Mental Health.csv')"
      ],
      "metadata": {
        "colab": {
          "base_uri": "https://localhost:8080/",
          "height": 17
        },
        "id": "nX5akHr2OXg2",
        "outputId": "547ff599-e97a-4e55-db16-df7e2f68913e"
      },
      "execution_count": 94,
      "outputs": [
        {
          "output_type": "display_data",
          "data": {
            "text/plain": [
              "<IPython.core.display.Javascript object>"
            ],
            "application/javascript": [
              "\n",
              "    async function download(id, filename, size) {\n",
              "      if (!google.colab.kernel.accessAllowed) {\n",
              "        return;\n",
              "      }\n",
              "      const div = document.createElement('div');\n",
              "      const label = document.createElement('label');\n",
              "      label.textContent = `Downloading \"${filename}\": `;\n",
              "      div.appendChild(label);\n",
              "      const progress = document.createElement('progress');\n",
              "      progress.max = size;\n",
              "      div.appendChild(progress);\n",
              "      document.body.appendChild(div);\n",
              "\n",
              "      const buffers = [];\n",
              "      let downloaded = 0;\n",
              "\n",
              "      const channel = await google.colab.kernel.comms.open(id);\n",
              "      // Send a message to notify the kernel that we're ready.\n",
              "      channel.send({})\n",
              "\n",
              "      for await (const message of channel.messages) {\n",
              "        // Send a message to notify the kernel that we're ready.\n",
              "        channel.send({})\n",
              "        if (message.buffers) {\n",
              "          for (const buffer of message.buffers) {\n",
              "            buffers.push(buffer);\n",
              "            downloaded += buffer.byteLength;\n",
              "            progress.value = downloaded;\n",
              "          }\n",
              "        }\n",
              "      }\n",
              "      const blob = new Blob(buffers, {type: 'application/binary'});\n",
              "      const a = document.createElement('a');\n",
              "      a.href = window.URL.createObjectURL(blob);\n",
              "      a.download = filename;\n",
              "      div.appendChild(a);\n",
              "      a.click();\n",
              "      div.remove();\n",
              "    }\n",
              "  "
            ]
          },
          "metadata": {}
        },
        {
          "output_type": "display_data",
          "data": {
            "text/plain": [
              "<IPython.core.display.Javascript object>"
            ],
            "application/javascript": [
              "download(\"download_70a3a6b6-733a-448f-ba2c-f1eafd98f908\", \"Mental Health.csv\", 74631)"
            ]
          },
          "metadata": {}
        }
      ]
    }
  ]
}