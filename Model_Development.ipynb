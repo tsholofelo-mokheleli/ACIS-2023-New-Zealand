{
  "nbformat": 4,
  "nbformat_minor": 0,
  "metadata": {
    "colab": {
      "provenance": [],
      "authorship_tag": "ABX9TyNLM+e3vdpi1rw2GziGQeJs",
      "include_colab_link": true
    },
    "kernelspec": {
      "name": "python3",
      "display_name": "Python 3"
    },
    "language_info": {
      "name": "python"
    }
  },
  "cells": [
    {
      "cell_type": "markdown",
      "metadata": {
        "id": "view-in-github",
        "colab_type": "text"
      },
      "source": [
        "<a href=\"https://colab.research.google.com/github/tsholofelo-mokheleli/ACIS-2023-New-Zealand/blob/main/Model_Development.ipynb\" target=\"_parent\"><img src=\"https://colab.research.google.com/assets/colab-badge.svg\" alt=\"Open In Colab\"/></a>"
      ]
    },
    {
      "cell_type": "code",
      "execution_count": 17,
      "metadata": {
        "id": "IZZpPQoV1pBh"
      },
      "outputs": [],
      "source": [
        "import pandas  as pd\n",
        "import numpy as np\n",
        "import seaborn as sns\n",
        "import matplotlib.pyplot as plt\n",
        "import warnings\n",
        "\n",
        "warnings.filterwarnings('ignore')\n",
        "cmap=sns.color_palette('Blues_r')\n",
        "\n",
        "\n",
        "from imblearn.combine import SMOTETomek\n",
        "from sklearn.preprocessing import LabelEncoder\n",
        "from sklearn.model_selection import train_test_split\n",
        "from sklearn.metrics import accuracy_score, precision_score, recall_score, f1_score, roc_auc_score, confusion_matrix\n",
        "\n",
        "from sklearn.ensemble import RandomForestClassifier\n",
        "from sklearn.metrics import classification_report, confusion_matrix"
      ]
    },
    {
      "cell_type": "code",
      "source": [
        "df = pd.read_csv('diabetes_binary_health_indicators_BRFSS2015.csv')\n",
        "df.shape"
      ],
      "metadata": {
        "id": "GuMISQN444ru",
        "colab": {
          "base_uri": "https://localhost:8080/"
        },
        "outputId": "1e79d6bc-d3fd-447c-c135-58503706c831"
      },
      "execution_count": 18,
      "outputs": [
        {
          "output_type": "execute_result",
          "data": {
            "text/plain": [
              "(253680, 22)"
            ]
          },
          "metadata": {},
          "execution_count": 18
        }
      ]
    },
    {
      "cell_type": "code",
      "source": [
        "df.info()"
      ],
      "metadata": {
        "id": "XY_2N0OX5DZl",
        "colab": {
          "base_uri": "https://localhost:8080/"
        },
        "outputId": "aa0c6aab-4740-4f6d-eb70-54164e22aabb"
      },
      "execution_count": 19,
      "outputs": [
        {
          "output_type": "stream",
          "name": "stdout",
          "text": [
            "<class 'pandas.core.frame.DataFrame'>\n",
            "RangeIndex: 253680 entries, 0 to 253679\n",
            "Data columns (total 22 columns):\n",
            " #   Column                Non-Null Count   Dtype  \n",
            "---  ------                --------------   -----  \n",
            " 0   Diabetes_binary       253680 non-null  float64\n",
            " 1   HighBP                253680 non-null  float64\n",
            " 2   HighChol              253680 non-null  float64\n",
            " 3   CholCheck             253680 non-null  float64\n",
            " 4   BMI                   253680 non-null  float64\n",
            " 5   Smoker                253680 non-null  float64\n",
            " 6   Stroke                253680 non-null  float64\n",
            " 7   HeartDiseaseorAttack  253680 non-null  float64\n",
            " 8   PhysActivity          253680 non-null  float64\n",
            " 9   Fruits                253680 non-null  float64\n",
            " 10  Veggies               253680 non-null  float64\n",
            " 11  HvyAlcoholConsump     253680 non-null  float64\n",
            " 12  AnyHealthcare         253680 non-null  float64\n",
            " 13  NoDocbcCost           253680 non-null  float64\n",
            " 14  GenHlth               253680 non-null  float64\n",
            " 15  MentHlth              253680 non-null  float64\n",
            " 16  PhysHlth              253680 non-null  float64\n",
            " 17  DiffWalk              253680 non-null  float64\n",
            " 18  Sex                   253680 non-null  float64\n",
            " 19  Age                   253680 non-null  float64\n",
            " 20  Education             253680 non-null  float64\n",
            " 21  Income                253680 non-null  float64\n",
            "dtypes: float64(22)\n",
            "memory usage: 42.6 MB\n"
          ]
        }
      ]
    },
    {
      "cell_type": "code",
      "source": [
        "# Split by gender\n",
        "female_df = df[df['Sex'] == 0]\n",
        "male_df = df[df['Sex'] == 1]"
      ],
      "metadata": {
        "id": "FjJiNRN5MXoQ"
      },
      "execution_count": 20,
      "outputs": []
    },
    {
      "cell_type": "code",
      "source": [
        "# Define features (X) and target (y) for each gender\n",
        "X_female = female_df.drop(columns=['Diabetes_binary'])\n",
        "y_female = female_df['Diabetes_binary']\n",
        "\n",
        "X_male = male_df.drop(columns=['Diabetes_binary'])\n",
        "y_male = male_df['Diabetes_binary']"
      ],
      "metadata": {
        "id": "1VqEzg5QI2h5"
      },
      "execution_count": 21,
      "outputs": []
    },
    {
      "cell_type": "code",
      "source": [
        "Xf_train, Xf_test, yf_train, yf_test = train_test_split(X_female, y_female, test_size=0.2, stratify=y_female, random_state=42)\n",
        "Xm_train, Xm_test, ym_train, ym_test = train_test_split(X_male, y_male, test_size=0.2, stratify=y_male, random_state=42)"
      ],
      "metadata": {
        "id": "e7pXIC84Mpsa"
      },
      "execution_count": 22,
      "outputs": []
    },
    {
      "cell_type": "code",
      "source": [
        "# Initialize SMOTETomek\n",
        "smt = SMOTETomek(random_state=42)\n",
        "\n",
        "# Apply to female data\n",
        "Xf_resampled, yf_resampled = smt.fit_resample(Xf_train, yf_train)\n",
        "\n",
        "# Apply to male data\n",
        "Xm_resampled, ym_resampled = smt.fit_resample(Xm_train, ym_train)\n",
        "\n",
        "# Check balance\n",
        "print(\"Female Class Distribution After Resampling:\")\n",
        "print(pd.Series(yf_resampled).value_counts())\n",
        "\n",
        "print(\"\\nMale Class Distribution After Resampling:\")\n",
        "print(pd.Series(ym_resampled).value_counts())"
      ],
      "metadata": {
        "colab": {
          "base_uri": "https://localhost:8080/"
        },
        "id": "UPno4qwMM0KE",
        "outputId": "b17b62ec-68ee-4dd5-e6cb-b76480a2771d"
      },
      "execution_count": 23,
      "outputs": [
        {
          "output_type": "stream",
          "name": "stdout",
          "text": [
            "Female Class Distribution After Resampling:\n",
            "Diabetes_binary\n",
            "0.0    98778\n",
            "1.0    98778\n",
            "Name: count, dtype: int64\n",
            "\n",
            "Male Class Distribution After Resampling:\n",
            "Diabetes_binary\n",
            "0.0    75750\n",
            "1.0    75750\n",
            "Name: count, dtype: int64\n"
          ]
        }
      ]
    },
    {
      "cell_type": "code",
      "source": [
        "rf_female = RandomForestClassifier(random_state=42)\n",
        "rf_female.fit(Xf_resampled, yf_resampled)\n",
        "y_pred_female = rf_female.predict(Xf_test)\n",
        "print(\"Female Model Report:\\n\", classification_report(yf_test, y_pred_female))\n",
        "\n",
        "rf_male = RandomForestClassifier(random_state=42)\n",
        "rf_male.fit(Xm_resampled, ym_resampled)\n",
        "y_pred_male = rf_male.predict(Xm_test)\n",
        "print(\"Male Model Report:\\n\", classification_report(ym_test, y_pred_male))"
      ],
      "metadata": {
        "colab": {
          "base_uri": "https://localhost:8080/"
        },
        "id": "85829S7SNe0r",
        "outputId": "060720b5-90a2-48ba-a864-adb2e93649f8"
      },
      "execution_count": 24,
      "outputs": [
        {
          "output_type": "stream",
          "name": "stdout",
          "text": [
            "Female Model Report:\n",
            "               precision    recall  f1-score   support\n",
            "\n",
            "         0.0       0.89      0.97      0.93     24713\n",
            "         1.0       0.47      0.20      0.28      3682\n",
            "\n",
            "    accuracy                           0.87     28395\n",
            "   macro avg       0.68      0.58      0.60     28395\n",
            "weighted avg       0.84      0.87      0.84     28395\n",
            "\n",
            "Male Model Report:\n",
            "               precision    recall  f1-score   support\n",
            "\n",
            "         0.0       0.87      0.95      0.91     18955\n",
            "         1.0       0.43      0.20      0.27      3387\n",
            "\n",
            "    accuracy                           0.84     22342\n",
            "   macro avg       0.65      0.58      0.59     22342\n",
            "weighted avg       0.80      0.84      0.81     22342\n",
            "\n"
          ]
        }
      ]
    }
  ]
}