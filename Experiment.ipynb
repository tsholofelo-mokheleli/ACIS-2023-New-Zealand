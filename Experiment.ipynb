{
  "nbformat": 4,
  "nbformat_minor": 0,
  "metadata": {
    "colab": {
      "provenance": [],
      "collapsed_sections": [
        "Q8o_iTodY8-A",
        "6sVi-joWeCi1",
        "sFk-LPWnRhno",
        "gj__YJteYJiS"
      ],
      "authorship_tag": "ABX9TyPOmDk+Es2LgiyejwIZiSIG",
      "include_colab_link": true
    },
    "kernelspec": {
      "name": "python3",
      "display_name": "Python 3"
    },
    "language_info": {
      "name": "python"
    }
  },
  "cells": [
    {
      "cell_type": "markdown",
      "metadata": {
        "id": "view-in-github",
        "colab_type": "text"
      },
      "source": [
        "<a href=\"https://colab.research.google.com/github/tsholofelo-mokheleli/ACIS-2023-New-Zealand/blob/main/Experiment.ipynb\" target=\"_parent\"><img src=\"https://colab.research.google.com/assets/colab-badge.svg\" alt=\"Open In Colab\"/></a>"
      ]
    },
    {
      "cell_type": "markdown",
      "source": [
        "# **Imbalance Techniques Experiment**\n",
        "\n",
        "**Choose Imbalance Techniques:**\n",
        "1. Resampling Methods:\n",
        "  * Oversampling\n",
        "    * SMOTE\n",
        "    * ADASYN\n",
        "  * Undersampling\n",
        "    * Tomek links\n",
        "    * Near Miss\n",
        "\n",
        "2. Ensemble Techniques:\n",
        "  * Random Forest\n",
        "  * Boosting algorithms\n",
        "\n",
        "3. Algorithm-specific Methods\n",
        "  * XGBoost\n",
        "  * LightGBM\n",
        "\n",
        "4. Cost-sensitive Learning"
      ],
      "metadata": {
        "id": "IQ4ySBu6T_0U"
      }
    },
    {
      "cell_type": "code",
      "execution_count": 168,
      "metadata": {
        "id": "PyWAcwC-RE75"
      },
      "outputs": [],
      "source": [
        "# Load the libraries\n",
        "\n",
        "import pandas  as pd\n",
        "import numpy as np\n",
        "import seaborn as sns\n",
        "import matplotlib.pyplot as plt\n",
        "import time\n",
        "import psutil\n",
        "import os\n",
        "\n",
        "# Warning filter\n",
        "\n",
        "import warnings\n",
        "warnings.filterwarnings('ignore')\n",
        "cmap=sns.color_palette('Blues_r')\n",
        "\n",
        "# Metrics\n",
        "\n",
        "from sklearn.model_selection import train_test_split, cross_val_score,GridSearchCV,cross_validate\n",
        "from sklearn.metrics import accuracy_score, precision_score, recall_score, f1_score, roc_auc_score, cohen_kappa_score, confusion_matrix, balanced_accuracy_score\n",
        "from imblearn.metrics import geometric_mean_score\n",
        "\n",
        "# Preprocessing\n",
        "\n",
        "from sklearn.preprocessing import LabelEncoder\n",
        "\n",
        "# Algorithmns models\n",
        "\n",
        "from sklearn.svm import SVC\n",
        "from sklearn.naive_bayes import GaussianNB\n",
        "from sklearn.tree import DecisionTreeClassifier\n",
        "from sklearn.linear_model import LogisticRegression\n",
        "\n",
        "from xgboost import XGBClassifier\n",
        "import lightgbm as lgb\n",
        "\n",
        "# Ensemble Methods\n",
        "\n",
        "from sklearn.ensemble import RandomForestClassifier\n",
        "from sklearn.ensemble import AdaBoostClassifier\n",
        "\n",
        "# Class imbalance\n",
        "\n",
        "from imblearn.under_sampling import TomekLinks\n",
        "from imblearn.under_sampling import NearMiss\n",
        "from imblearn.over_sampling import SMOTE\n",
        "from imblearn.over_sampling import ADASYN\n",
        "\n",
        "from sklearn.utils import resample\n",
        "\n",
        "# Plot Theme\n",
        "\n",
        "sns.set_theme(style=\"darkgrid\")\n",
        "plt.style.use(\"ggplot\")"
      ]
    },
    {
      "cell_type": "markdown",
      "source": [
        "**Load Data**"
      ],
      "metadata": {
        "id": "p6Z9OpoxYnrz"
      }
    },
    {
      "cell_type": "code",
      "source": [
        "data = pd.read_csv(\"KNN Imputation Dataset.csv\")"
      ],
      "metadata": {
        "id": "-RKEhDySYpWB"
      },
      "execution_count": 169,
      "outputs": []
    },
    {
      "cell_type": "markdown",
      "source": [
        "**Label Encode, Drop null from target var, and Convert data to Int**"
      ],
      "metadata": {
        "id": "uNnfUsRQ22VP"
      }
    },
    {
      "cell_type": "code",
      "source": [
        "# Initialize LabelEncoder\n",
        "label_encoder = LabelEncoder()\n",
        "\n",
        "# make small letters\n",
        "data['country'] = data['country'].apply(lambda x: x.lower() if isinstance(x, str) else x)\n",
        "\n",
        "# Fit and transform the countries data\n",
        "data[\"country\"] = label_encoder.fit_transform(data['country'])\n",
        "\n",
        "data = data.dropna()\n",
        "\n",
        "# Convert all columns to int data type\n",
        "for column in data.columns:\n",
        "    data[column] = data[column].astype('int64')"
      ],
      "metadata": {
        "id": "vURbuIux2buQ"
      },
      "execution_count": 170,
      "outputs": []
    },
    {
      "cell_type": "code",
      "source": [
        "data.info()"
      ],
      "metadata": {
        "colab": {
          "base_uri": "https://localhost:8080/"
        },
        "id": "Tomgt_H6YyUQ",
        "outputId": "2aa6a841-d915-48c6-b30e-f7db0ce92027"
      },
      "execution_count": 171,
      "outputs": [
        {
          "output_type": "stream",
          "name": "stdout",
          "text": [
            "<class 'pandas.core.frame.DataFrame'>\n",
            "Int64Index: 2189 entries, 0 to 3268\n",
            "Data columns (total 25 columns):\n",
            " #   Column                    Non-Null Count  Dtype\n",
            "---  ------                    --------------  -----\n",
            " 0   self_employed             2189 non-null   int64\n",
            " 1   no_employees              2189 non-null   int64\n",
            " 2   tech_company              2189 non-null   int64\n",
            " 3   company_role              2189 non-null   int64\n",
            " 4   benefits                  2189 non-null   int64\n",
            " 5   care_options              2189 non-null   int64\n",
            " 6   wellness_program          2189 non-null   int64\n",
            " 7   seek_help                 2189 non-null   int64\n",
            " 8   anonymity                 2189 non-null   int64\n",
            " 9   leave                     2189 non-null   int64\n",
            " 10  mental_importance         2189 non-null   int64\n",
            " 11  neg_consequence_coworker  2189 non-null   int64\n",
            " 12  discuss_mh                2189 non-null   int64\n",
            " 13  work_interfere            2189 non-null   int64\n",
            " 14  coworkers                 2189 non-null   int64\n",
            " 15  supervisor                2189 non-null   int64\n",
            " 16  mental_health_interview   2189 non-null   int64\n",
            " 17  family_history            2189 non-null   int64\n",
            " 18  past_mental_health        2189 non-null   int64\n",
            " 19  mental_health             2189 non-null   int64\n",
            " 20  mental_health_diagnosed   2189 non-null   int64\n",
            " 21  treatment                 2189 non-null   int64\n",
            " 22  age                       2189 non-null   int64\n",
            " 23  gender                    2189 non-null   int64\n",
            " 24  country                   2189 non-null   int64\n",
            "dtypes: int64(25)\n",
            "memory usage: 444.6 KB\n"
          ]
        }
      ]
    },
    {
      "cell_type": "code",
      "source": [
        "data.head()"
      ],
      "metadata": {
        "colab": {
          "base_uri": "https://localhost:8080/",
          "height": 299
        },
        "id": "kF8jYngC5hv2",
        "outputId": "a71cfd47-5a3e-427f-caa8-9ce4fd2b16d8"
      },
      "execution_count": 172,
      "outputs": [
        {
          "output_type": "execute_result",
          "data": {
            "text/plain": [
              "   self_employed  no_employees  tech_company  company_role  benefits  \\\n",
              "0              0             2             1             0         3   \n",
              "1              0             1             1             1         0   \n",
              "2              0             1             1             1         0   \n",
              "3              1             3             0             1         0   \n",
              "4              0             1             0             1         1   \n",
              "\n",
              "   care_options  wellness_program  seek_help  anonymity  leave  ...  \\\n",
              "0             0                 0          0          2      1  ...   \n",
              "1             1                 1          1          1      2  ...   \n",
              "2             1                 0          0          2      3  ...   \n",
              "3             1                 0          0          1      2  ...   \n",
              "4             1                 0          0          0      3  ...   \n",
              "\n",
              "   supervisor  mental_health_interview  family_history  past_mental_health  \\\n",
              "0           2                        2               0                   1   \n",
              "1           2                        0               1                   1   \n",
              "2           2                        1               0                   2   \n",
              "3           2                        2               0                   1   \n",
              "4           2                        0               1                   1   \n",
              "\n",
              "   mental_health  mental_health_diagnosed  treatment  age  gender  country  \n",
              "0              0                        1          0   39       0       77  \n",
              "1              1                        1          1   29       0       78  \n",
              "2              0                        0          1   38       0       77  \n",
              "3              1                        1          1   43       0       77  \n",
              "4              1                        1          1   43       1       78  \n",
              "\n",
              "[5 rows x 25 columns]"
            ],
            "text/html": [
              "\n",
              "\n",
              "  <div id=\"df-f0b02c24-1816-4fce-95f8-4f1b2f66fe91\">\n",
              "    <div class=\"colab-df-container\">\n",
              "      <div>\n",
              "<style scoped>\n",
              "    .dataframe tbody tr th:only-of-type {\n",
              "        vertical-align: middle;\n",
              "    }\n",
              "\n",
              "    .dataframe tbody tr th {\n",
              "        vertical-align: top;\n",
              "    }\n",
              "\n",
              "    .dataframe thead th {\n",
              "        text-align: right;\n",
              "    }\n",
              "</style>\n",
              "<table border=\"1\" class=\"dataframe\">\n",
              "  <thead>\n",
              "    <tr style=\"text-align: right;\">\n",
              "      <th></th>\n",
              "      <th>self_employed</th>\n",
              "      <th>no_employees</th>\n",
              "      <th>tech_company</th>\n",
              "      <th>company_role</th>\n",
              "      <th>benefits</th>\n",
              "      <th>care_options</th>\n",
              "      <th>wellness_program</th>\n",
              "      <th>seek_help</th>\n",
              "      <th>anonymity</th>\n",
              "      <th>leave</th>\n",
              "      <th>...</th>\n",
              "      <th>supervisor</th>\n",
              "      <th>mental_health_interview</th>\n",
              "      <th>family_history</th>\n",
              "      <th>past_mental_health</th>\n",
              "      <th>mental_health</th>\n",
              "      <th>mental_health_diagnosed</th>\n",
              "      <th>treatment</th>\n",
              "      <th>age</th>\n",
              "      <th>gender</th>\n",
              "      <th>country</th>\n",
              "    </tr>\n",
              "  </thead>\n",
              "  <tbody>\n",
              "    <tr>\n",
              "      <th>0</th>\n",
              "      <td>0</td>\n",
              "      <td>2</td>\n",
              "      <td>1</td>\n",
              "      <td>0</td>\n",
              "      <td>3</td>\n",
              "      <td>0</td>\n",
              "      <td>0</td>\n",
              "      <td>0</td>\n",
              "      <td>2</td>\n",
              "      <td>1</td>\n",
              "      <td>...</td>\n",
              "      <td>2</td>\n",
              "      <td>2</td>\n",
              "      <td>0</td>\n",
              "      <td>1</td>\n",
              "      <td>0</td>\n",
              "      <td>1</td>\n",
              "      <td>0</td>\n",
              "      <td>39</td>\n",
              "      <td>0</td>\n",
              "      <td>77</td>\n",
              "    </tr>\n",
              "    <tr>\n",
              "      <th>1</th>\n",
              "      <td>0</td>\n",
              "      <td>1</td>\n",
              "      <td>1</td>\n",
              "      <td>1</td>\n",
              "      <td>0</td>\n",
              "      <td>1</td>\n",
              "      <td>1</td>\n",
              "      <td>1</td>\n",
              "      <td>1</td>\n",
              "      <td>2</td>\n",
              "      <td>...</td>\n",
              "      <td>2</td>\n",
              "      <td>0</td>\n",
              "      <td>1</td>\n",
              "      <td>1</td>\n",
              "      <td>1</td>\n",
              "      <td>1</td>\n",
              "      <td>1</td>\n",
              "      <td>29</td>\n",
              "      <td>0</td>\n",
              "      <td>78</td>\n",
              "    </tr>\n",
              "    <tr>\n",
              "      <th>2</th>\n",
              "      <td>0</td>\n",
              "      <td>1</td>\n",
              "      <td>1</td>\n",
              "      <td>1</td>\n",
              "      <td>0</td>\n",
              "      <td>1</td>\n",
              "      <td>0</td>\n",
              "      <td>0</td>\n",
              "      <td>2</td>\n",
              "      <td>3</td>\n",
              "      <td>...</td>\n",
              "      <td>2</td>\n",
              "      <td>1</td>\n",
              "      <td>0</td>\n",
              "      <td>2</td>\n",
              "      <td>0</td>\n",
              "      <td>0</td>\n",
              "      <td>1</td>\n",
              "      <td>38</td>\n",
              "      <td>0</td>\n",
              "      <td>77</td>\n",
              "    </tr>\n",
              "    <tr>\n",
              "      <th>3</th>\n",
              "      <td>1</td>\n",
              "      <td>3</td>\n",
              "      <td>0</td>\n",
              "      <td>1</td>\n",
              "      <td>0</td>\n",
              "      <td>1</td>\n",
              "      <td>0</td>\n",
              "      <td>0</td>\n",
              "      <td>1</td>\n",
              "      <td>2</td>\n",
              "      <td>...</td>\n",
              "      <td>2</td>\n",
              "      <td>2</td>\n",
              "      <td>0</td>\n",
              "      <td>1</td>\n",
              "      <td>1</td>\n",
              "      <td>1</td>\n",
              "      <td>1</td>\n",
              "      <td>43</td>\n",
              "      <td>0</td>\n",
              "      <td>77</td>\n",
              "    </tr>\n",
              "    <tr>\n",
              "      <th>4</th>\n",
              "      <td>0</td>\n",
              "      <td>1</td>\n",
              "      <td>0</td>\n",
              "      <td>1</td>\n",
              "      <td>1</td>\n",
              "      <td>1</td>\n",
              "      <td>0</td>\n",
              "      <td>0</td>\n",
              "      <td>0</td>\n",
              "      <td>3</td>\n",
              "      <td>...</td>\n",
              "      <td>2</td>\n",
              "      <td>0</td>\n",
              "      <td>1</td>\n",
              "      <td>1</td>\n",
              "      <td>1</td>\n",
              "      <td>1</td>\n",
              "      <td>1</td>\n",
              "      <td>43</td>\n",
              "      <td>1</td>\n",
              "      <td>78</td>\n",
              "    </tr>\n",
              "  </tbody>\n",
              "</table>\n",
              "<p>5 rows × 25 columns</p>\n",
              "</div>\n",
              "      <button class=\"colab-df-convert\" onclick=\"convertToInteractive('df-f0b02c24-1816-4fce-95f8-4f1b2f66fe91')\"\n",
              "              title=\"Convert this dataframe to an interactive table.\"\n",
              "              style=\"display:none;\">\n",
              "\n",
              "  <svg xmlns=\"http://www.w3.org/2000/svg\" height=\"24px\"viewBox=\"0 0 24 24\"\n",
              "       width=\"24px\">\n",
              "    <path d=\"M0 0h24v24H0V0z\" fill=\"none\"/>\n",
              "    <path d=\"M18.56 5.44l.94 2.06.94-2.06 2.06-.94-2.06-.94-.94-2.06-.94 2.06-2.06.94zm-11 1L8.5 8.5l.94-2.06 2.06-.94-2.06-.94L8.5 2.5l-.94 2.06-2.06.94zm10 10l.94 2.06.94-2.06 2.06-.94-2.06-.94-.94-2.06-.94 2.06-2.06.94z\"/><path d=\"M17.41 7.96l-1.37-1.37c-.4-.4-.92-.59-1.43-.59-.52 0-1.04.2-1.43.59L10.3 9.45l-7.72 7.72c-.78.78-.78 2.05 0 2.83L4 21.41c.39.39.9.59 1.41.59.51 0 1.02-.2 1.41-.59l7.78-7.78 2.81-2.81c.8-.78.8-2.07 0-2.86zM5.41 20L4 18.59l7.72-7.72 1.47 1.35L5.41 20z\"/>\n",
              "  </svg>\n",
              "      </button>\n",
              "\n",
              "\n",
              "\n",
              "    <div id=\"df-6976e6ab-4fe8-4fe2-aeb9-8b0aebf7313c\">\n",
              "      <button class=\"colab-df-quickchart\" onclick=\"quickchart('df-6976e6ab-4fe8-4fe2-aeb9-8b0aebf7313c')\"\n",
              "              title=\"Suggest charts.\"\n",
              "              style=\"display:none;\">\n",
              "\n",
              "<svg xmlns=\"http://www.w3.org/2000/svg\" height=\"24px\"viewBox=\"0 0 24 24\"\n",
              "     width=\"24px\">\n",
              "    <g>\n",
              "        <path d=\"M19 3H5c-1.1 0-2 .9-2 2v14c0 1.1.9 2 2 2h14c1.1 0 2-.9 2-2V5c0-1.1-.9-2-2-2zM9 17H7v-7h2v7zm4 0h-2V7h2v10zm4 0h-2v-4h2v4z\"/>\n",
              "    </g>\n",
              "</svg>\n",
              "      </button>\n",
              "    </div>\n",
              "\n",
              "<style>\n",
              "  .colab-df-quickchart {\n",
              "    background-color: #E8F0FE;\n",
              "    border: none;\n",
              "    border-radius: 50%;\n",
              "    cursor: pointer;\n",
              "    display: none;\n",
              "    fill: #1967D2;\n",
              "    height: 32px;\n",
              "    padding: 0 0 0 0;\n",
              "    width: 32px;\n",
              "  }\n",
              "\n",
              "  .colab-df-quickchart:hover {\n",
              "    background-color: #E2EBFA;\n",
              "    box-shadow: 0px 1px 2px rgba(60, 64, 67, 0.3), 0px 1px 3px 1px rgba(60, 64, 67, 0.15);\n",
              "    fill: #174EA6;\n",
              "  }\n",
              "\n",
              "  [theme=dark] .colab-df-quickchart {\n",
              "    background-color: #3B4455;\n",
              "    fill: #D2E3FC;\n",
              "  }\n",
              "\n",
              "  [theme=dark] .colab-df-quickchart:hover {\n",
              "    background-color: #434B5C;\n",
              "    box-shadow: 0px 1px 3px 1px rgba(0, 0, 0, 0.15);\n",
              "    filter: drop-shadow(0px 1px 2px rgba(0, 0, 0, 0.3));\n",
              "    fill: #FFFFFF;\n",
              "  }\n",
              "</style>\n",
              "\n",
              "    <script>\n",
              "      async function quickchart(key) {\n",
              "        const containerElement = document.querySelector('#' + key);\n",
              "        const charts = await google.colab.kernel.invokeFunction(\n",
              "            'suggestCharts', [key], {});\n",
              "      }\n",
              "    </script>\n",
              "\n",
              "      <script>\n",
              "\n",
              "function displayQuickchartButton(domScope) {\n",
              "  let quickchartButtonEl =\n",
              "    domScope.querySelector('#df-6976e6ab-4fe8-4fe2-aeb9-8b0aebf7313c button.colab-df-quickchart');\n",
              "  quickchartButtonEl.style.display =\n",
              "    google.colab.kernel.accessAllowed ? 'block' : 'none';\n",
              "}\n",
              "\n",
              "        displayQuickchartButton(document);\n",
              "      </script>\n",
              "      <style>\n",
              "    .colab-df-container {\n",
              "      display:flex;\n",
              "      flex-wrap:wrap;\n",
              "      gap: 12px;\n",
              "    }\n",
              "\n",
              "    .colab-df-convert {\n",
              "      background-color: #E8F0FE;\n",
              "      border: none;\n",
              "      border-radius: 50%;\n",
              "      cursor: pointer;\n",
              "      display: none;\n",
              "      fill: #1967D2;\n",
              "      height: 32px;\n",
              "      padding: 0 0 0 0;\n",
              "      width: 32px;\n",
              "    }\n",
              "\n",
              "    .colab-df-convert:hover {\n",
              "      background-color: #E2EBFA;\n",
              "      box-shadow: 0px 1px 2px rgba(60, 64, 67, 0.3), 0px 1px 3px 1px rgba(60, 64, 67, 0.15);\n",
              "      fill: #174EA6;\n",
              "    }\n",
              "\n",
              "    [theme=dark] .colab-df-convert {\n",
              "      background-color: #3B4455;\n",
              "      fill: #D2E3FC;\n",
              "    }\n",
              "\n",
              "    [theme=dark] .colab-df-convert:hover {\n",
              "      background-color: #434B5C;\n",
              "      box-shadow: 0px 1px 3px 1px rgba(0, 0, 0, 0.15);\n",
              "      filter: drop-shadow(0px 1px 2px rgba(0, 0, 0, 0.3));\n",
              "      fill: #FFFFFF;\n",
              "    }\n",
              "  </style>\n",
              "\n",
              "      <script>\n",
              "        const buttonEl =\n",
              "          document.querySelector('#df-f0b02c24-1816-4fce-95f8-4f1b2f66fe91 button.colab-df-convert');\n",
              "        buttonEl.style.display =\n",
              "          google.colab.kernel.accessAllowed ? 'block' : 'none';\n",
              "\n",
              "        async function convertToInteractive(key) {\n",
              "          const element = document.querySelector('#df-f0b02c24-1816-4fce-95f8-4f1b2f66fe91');\n",
              "          const dataTable =\n",
              "            await google.colab.kernel.invokeFunction('convertToInteractive',\n",
              "                                                     [key], {});\n",
              "          if (!dataTable) return;\n",
              "\n",
              "          const docLinkHtml = 'Like what you see? Visit the ' +\n",
              "            '<a target=\"_blank\" href=https://colab.research.google.com/notebooks/data_table.ipynb>data table notebook</a>'\n",
              "            + ' to learn more about interactive tables.';\n",
              "          element.innerHTML = '';\n",
              "          dataTable['output_type'] = 'display_data';\n",
              "          await google.colab.output.renderOutput(dataTable, element);\n",
              "          const docLink = document.createElement('div');\n",
              "          docLink.innerHTML = docLinkHtml;\n",
              "          element.appendChild(docLink);\n",
              "        }\n",
              "      </script>\n",
              "    </div>\n",
              "  </div>\n"
            ]
          },
          "metadata": {},
          "execution_count": 172
        }
      ]
    },
    {
      "cell_type": "markdown",
      "source": [
        "## **Split Dataset**"
      ],
      "metadata": {
        "id": "Q8o_iTodY8-A"
      }
    },
    {
      "cell_type": "code",
      "source": [
        "X = data.drop([\"mental_health_diagnosed\"], axis=1)\n",
        "y = data['mental_health_diagnosed']\n",
        "\n",
        "X_train, X_test, y_train, y_test = train_test_split(X, y, test_size=0.2,stratify=y, random_state=42)"
      ],
      "metadata": {
        "id": "siXO_QLSZPxZ"
      },
      "execution_count": 173,
      "outputs": []
    },
    {
      "cell_type": "markdown",
      "source": [
        "## **Baseline Model**"
      ],
      "metadata": {
        "id": "XfIdg6aXZgeQ"
      }
    },
    {
      "cell_type": "code",
      "source": [
        "# Define a list of classifiers\n",
        "classifiers = {\n",
        "    \"Support Vector Machine\": SVC(),\n",
        "    \"Naive Bayes\": GaussianNB(),\n",
        "    \"Decision Tree\": DecisionTreeClassifier(),\n",
        "    \"Logistic Regression\": LogisticRegression()\n",
        "}"
      ],
      "metadata": {
        "id": "dIGDcKKLZfNg"
      },
      "execution_count": 174,
      "outputs": []
    },
    {
      "cell_type": "code",
      "source": [
        "# Dictionary to store evaluation metrics\n",
        "results = {}\n",
        "\n",
        "# Loop through each classifier\n",
        "for name, clf in classifiers.items():\n",
        "    # Train the classifier\n",
        "    clf.fit(X_train, y_train)\n",
        "\n",
        "    # Make predictions on the test set\n",
        "    y_pred = clf.predict(X_test)\n",
        "\n",
        "    # Calculate evaluation metrics\n",
        "    accuracy = accuracy_score(y_test, y_pred)\n",
        "    precision = precision_score(y_test, y_pred)\n",
        "    recall = recall_score(y_test, y_pred)\n",
        "    f1 = f1_score(y_test, y_pred)\n",
        "    roc_auc = roc_auc_score(y_test, y_pred)\n",
        "    kappa = cohen_kappa_score(y_test, y_pred)\n",
        "    confusion = confusion_matrix(y_test, y_pred)\n",
        "    geometric_mean = geometric_mean_score(y_test, y_pred)\n",
        "    balanced_accuracy = balanced_accuracy_score(y_test, y_pred)\n",
        "\n",
        "    # Store the results in the dictionary\n",
        "    results[name] = {\n",
        "        \"Accuracy\": accuracy,\n",
        "        \"Precision\": precision,\n",
        "        \"Recall\": recall,\n",
        "        \"F1 Score\": f1,\n",
        "        \"ROC AUC\": roc_auc,\n",
        "        \"Kappa\": kappa,\n",
        "        \"Geometric Mean\": geometric_mean,\n",
        "        \"Balanced Accuracy\": balanced_accuracy,\n",
        "        \"Confusion Matrix\": confusion\n",
        "    }\n",
        "\n",
        "# Display the results\n",
        "for name, metrics in results.items():\n",
        "    print(f\"--- {name} ---\")\n",
        "    print(\"Accuracy:\", metrics[\"Accuracy\"])\n",
        "    print(\"Precision:\", metrics[\"Precision\"])\n",
        "    print(\"Recall:\", metrics[\"Recall\"])\n",
        "    print(\"F1 Score:\", metrics[\"F1 Score\"])\n",
        "    print(\"ROC AUC:\", metrics[\"ROC AUC\"])\n",
        "    print(\"Kappa:\", metrics[\"Kappa\"])\n",
        "    print(\"Geometric Mean:\", metrics[\"Geometric Mean\"])\n",
        "    print(\"Balanced Accuracy:\", metrics[\"Balanced Accuracy\"])\n",
        "    print(\"Confusion Matrix:\")\n",
        "    print(metrics[\"Confusion Matrix\"])\n",
        "    print(\"\\n\")"
      ],
      "metadata": {
        "colab": {
          "base_uri": "https://localhost:8080/"
        },
        "id": "YvuMEgcxbSMQ",
        "outputId": "29f305c4-ea48-4d22-9a0a-447eaec1d0dc"
      },
      "execution_count": 175,
      "outputs": [
        {
          "output_type": "stream",
          "name": "stdout",
          "text": [
            "--- Support Vector Machine ---\n",
            "Accuracy: 0.6621004566210046\n",
            "Precision: 0.6621004566210046\n",
            "Recall: 1.0\n",
            "F1 Score: 0.7967032967032966\n",
            "ROC AUC: 0.5\n",
            "Kappa: 0.0\n",
            "Geometric Mean: 0.0\n",
            "Balanced Accuracy: 0.5\n",
            "Confusion Matrix:\n",
            "[[  0 148]\n",
            " [  0 290]]\n",
            "\n",
            "\n",
            "--- Naive Bayes ---\n",
            "Accuracy: 0.867579908675799\n",
            "Precision: 0.9202898550724637\n",
            "Recall: 0.8758620689655172\n",
            "F1 Score: 0.8975265017667845\n",
            "ROC AUC: 0.8636067101584343\n",
            "Kappa: 0.7107528350867605\n",
            "Geometric Mean: 0.8635197484778119\n",
            "Balanced Accuracy: 0.8636067101584343\n",
            "Confusion Matrix:\n",
            "[[126  22]\n",
            " [ 36 254]]\n",
            "\n",
            "\n",
            "--- Decision Tree ---\n",
            "Accuracy: 0.8744292237442922\n",
            "Precision: 0.9151943462897526\n",
            "Recall: 0.8931034482758621\n",
            "F1 Score: 0.9040139616055846\n",
            "ROC AUC: 0.8654706430568501\n",
            "Kappa: 0.7225741069166456\n",
            "Geometric Mean: 0.86502939954025\n",
            "Balanced Accuracy: 0.86547064305685\n",
            "Confusion Matrix:\n",
            "[[124  24]\n",
            " [ 31 259]]\n",
            "\n",
            "\n",
            "--- Logistic Regression ---\n",
            "Accuracy: 0.8949771689497716\n",
            "Precision: 0.8910256410256411\n",
            "Recall: 0.9586206896551724\n",
            "F1 Score: 0.9235880398671097\n",
            "ROC AUC: 0.8644454799627214\n",
            "Kappa: 0.7564195560713768\n",
            "Geometric Mean: 0.8593003070564811\n",
            "Balanced Accuracy: 0.8644454799627214\n",
            "Confusion Matrix:\n",
            "[[114  34]\n",
            " [ 12 278]]\n",
            "\n",
            "\n"
          ]
        }
      ]
    },
    {
      "cell_type": "markdown",
      "source": [
        "## **Apply Imbalance Techniques**"
      ],
      "metadata": {
        "id": "H4BIKT5kd49N"
      }
    },
    {
      "cell_type": "markdown",
      "source": [
        "**Explore the class distribution**"
      ],
      "metadata": {
        "id": "RM503QBYefJP"
      }
    },
    {
      "cell_type": "code",
      "source": [
        "class_counts = data['mental_health_diagnosed'].value_counts()\n",
        "print(class_counts)"
      ],
      "metadata": {
        "colab": {
          "base_uri": "https://localhost:8080/"
        },
        "id": "0E8zZcFkejF1",
        "outputId": "955ab2d3-8e82-40d5-f785-b152bc26f1b4"
      },
      "execution_count": 176,
      "outputs": [
        {
          "output_type": "stream",
          "name": "stdout",
          "text": [
            "1    1449\n",
            "0     740\n",
            "Name: mental_health_diagnosed, dtype: int64\n"
          ]
        }
      ]
    },
    {
      "cell_type": "markdown",
      "source": [
        "**Visualize the class distribution**"
      ],
      "metadata": {
        "id": "LFtduWV14Qh1"
      }
    },
    {
      "cell_type": "code",
      "source": [
        "# Create a copy of the original dataset\n",
        "new_data = data.copy()\n",
        "\n",
        "mh_mapping = {0: 'No', 1: 'Yes'}\n",
        "new_data['mh_label'] = new_data['mental_health_diagnosed'].map(mh_mapping)\n",
        "\n",
        "# Plot the distribution based on the new dataset\n",
        "sns.countplot(data=new_data, x='mh_label')\n",
        "plt.xlabel('Mental Health Diagnosed')\n",
        "plt.ylabel('Count')\n",
        "plt.title('MH Distribution Before Class Imbalance')\n",
        "plt.show()"
      ],
      "metadata": {
        "colab": {
          "base_uri": "https://localhost:8080/",
          "height": 481
        },
        "id": "nEjJFIWX4S2f",
        "outputId": "718c2c4f-d111-423c-80f0-218411ea28a4"
      },
      "execution_count": 177,
      "outputs": [
        {
          "output_type": "display_data",
          "data": {
            "text/plain": [
              "<Figure size 640x480 with 1 Axes>"
            ],
            "image/png": "[encoded data removed]"
          },
          "metadata": {}
        }
      ]
    },
    {
      "cell_type": "markdown",
      "source": [
        "### **Resampling Methods**"
      ],
      "metadata": {
        "id": "6sVi-joWeCi1"
      }
    },
    {
      "cell_type": "markdown",
      "source": [
        "##### **1. Synthetic Minority Over-sampling Technique (SMOTE)**"
      ],
      "metadata": {
        "id": "j0AlXqOZeT69"
      }
    },
    {
      "cell_type": "code",
      "source": [
        "# Apply SMOTE to balance the dataset\n",
        "smote = SMOTE(random_state=42)\n",
        "X_train_resampled, y_train_resampled = smote.fit_resample(X_train, y_train)\n",
        "\n",
        "smote_counts = y_train_resampled.value_counts()\n",
        "print(smote_counts)"
      ],
      "metadata": {
        "id": "7w41gg8l3OCB",
        "colab": {
          "base_uri": "https://localhost:8080/"
        },
        "outputId": "c52b146f-9bdb-43d6-e48d-6c0a5e69de4c"
      },
      "execution_count": 178,
      "outputs": [
        {
          "output_type": "stream",
          "name": "stdout",
          "text": [
            "1    1159\n",
            "0    1159\n",
            "Name: mental_health_diagnosed, dtype: int64\n"
          ]
        }
      ]
    },
    {
      "cell_type": "code",
      "source": [
        "smote_counts.index = smote_counts.index.map({1: 'Yes', 0: 'No'})\n",
        "\n",
        "plt.figure(figsize=(6, 6))\n",
        "plt.bar(smote_counts.index, smote_counts.values)\n",
        "plt.xlabel('Class Label')\n",
        "plt.ylabel('Count')\n",
        "plt.title('SMOTE - Class Distribution')\n",
        "plt.show()"
      ],
      "metadata": {
        "colab": {
          "base_uri": "https://localhost:8080/",
          "height": 0
        },
        "id": "a1u__1xw4kQ2",
        "outputId": "20bf7d31-abe5-4c04-feea-e1c6ff311d1b"
      },
      "execution_count": 179,
      "outputs": [
        {
          "output_type": "display_data",
          "data": {
            "text/plain": [
              "<Figure size 600x600 with 1 Axes>"
            ],
            "image/png": "[encoded data removed]"
          },
          "metadata": {}
        }
      ]
    },
    {
      "cell_type": "code",
      "source": [
        "# Dictionary to store evaluation metrics\n",
        "results = {}\n",
        "\n",
        "# Loop through each classifier\n",
        "for name, clf in classifiers.items():\n",
        "    # Train the classifier\n",
        "    clf.fit(X_train_resampled, y_train_resampled)\n",
        "\n",
        "    # Make predictions on the test set\n",
        "    y_pred = clf.predict(X_test)\n",
        "\n",
        "    # Calculate evaluation metrics\n",
        "    accuracy = accuracy_score(y_test, y_pred)\n",
        "    precision = precision_score(y_test, y_pred)\n",
        "    recall = recall_score(y_test, y_pred)\n",
        "    f1 = f1_score(y_test, y_pred)\n",
        "    roc_auc = roc_auc_score(y_test, y_pred)\n",
        "    kappa = cohen_kappa_score(y_test, y_pred)\n",
        "    confusion = confusion_matrix(y_test, y_pred)\n",
        "    geometric_mean = geometric_mean_score(y_test, y_pred)\n",
        "    balanced_accuracy = balanced_accuracy_score(y_test, y_pred)\n",
        "\n",
        "    # Store the results in the dictionary\n",
        "    results[name] = {\n",
        "        \"Accuracy\": accuracy,\n",
        "        \"Precision\": precision,\n",
        "        \"Recall\": recall,\n",
        "        \"F1 Score\": f1,\n",
        "        \"ROC AUC\": roc_auc,\n",
        "        \"Kappa\": kappa,\n",
        "        \"Geometric Mean\": geometric_mean,\n",
        "        \"Balanced Accuracy\": balanced_accuracy,\n",
        "        \"Confusion Matrix\": confusion\n",
        "    }\n",
        "\n",
        "# Display the results\n",
        "for name, metrics in results.items():\n",
        "    print(f\"--- {name} ---\")\n",
        "    print(\"Accuracy:\", metrics[\"Accuracy\"])\n",
        "    print(\"Precision:\", metrics[\"Precision\"])\n",
        "    print(\"Recall:\", metrics[\"Recall\"])\n",
        "    print(\"F1 Score:\", metrics[\"F1 Score\"])\n",
        "    print(\"ROC AUC:\", metrics[\"ROC AUC\"])\n",
        "    print(\"Kappa:\", metrics[\"Kappa\"])\n",
        "    print(\"Geometric Mean:\", metrics[\"Geometric Mean\"])\n",
        "    print(\"Balanced Accuracy:\", metrics[\"Balanced Accuracy\"])\n",
        "    print(\"Confusion Matrix:\")\n",
        "    print(metrics[\"Confusion Matrix\"])\n",
        "    print(\"\\n\")"
      ],
      "metadata": {
        "colab": {
          "base_uri": "https://localhost:8080/"
        },
        "id": "d-sXXCLD5eF3",
        "outputId": "f425ac4c-26b8-4384-8388-0c5657e2d80d"
      },
      "execution_count": 180,
      "outputs": [
        {
          "output_type": "stream",
          "name": "stdout",
          "text": [
            "--- Support Vector Machine ---\n",
            "Accuracy: 0.769406392694064\n",
            "Precision: 0.8269896193771626\n",
            "Recall: 0.8241379310344827\n",
            "F1 Score: 0.8255613126079447\n",
            "ROC AUC: 0.7431500465983225\n",
            "Kappa: 0.48549696448093793\n",
            "Geometric Mean: 0.7387238687991907\n",
            "Balanced Accuracy: 0.7431500465983225\n",
            "Confusion Matrix:\n",
            "[[ 98  50]\n",
            " [ 51 239]]\n",
            "\n",
            "\n",
            "--- Naive Bayes ---\n",
            "Accuracy: 0.8698630136986302\n",
            "Precision: 0.9175627240143369\n",
            "Recall: 0.8827586206896552\n",
            "F1 Score: 0.8998242530755711\n",
            "ROC AUC: 0.8636766076421248\n",
            "Kappa: 0.7143543626003982\n",
            "Geometric Mean: 0.8634657835526911\n",
            "Balanced Accuracy: 0.863676607642125\n",
            "Confusion Matrix:\n",
            "[[125  23]\n",
            " [ 34 256]]\n",
            "\n",
            "\n",
            "--- Decision Tree ---\n",
            "Accuracy: 0.8812785388127854\n",
            "Precision: 0.9190140845070423\n",
            "Recall: 0.9\n",
            "F1 Score: 0.9094076655052264\n",
            "ROC AUC: 0.8722972972972973\n",
            "Kappa: 0.737276796013473\n",
            "Geometric Mean: 0.8718572905786446\n",
            "Balanced Accuracy: 0.8722972972972973\n",
            "Confusion Matrix:\n",
            "[[125  23]\n",
            " [ 29 261]]\n",
            "\n",
            "\n",
            "--- Logistic Regression ---\n",
            "Accuracy: 0.8926940639269406\n",
            "Precision: 0.8957654723127035\n",
            "Recall: 0.9482758620689655\n",
            "F1 Score: 0.9212730318257957\n",
            "ROC AUC: 0.8660298229263746\n",
            "Kappa: 0.7532423944573634\n",
            "Geometric Mean: 0.8621155625803557\n",
            "Balanced Accuracy: 0.8660298229263746\n",
            "Confusion Matrix:\n",
            "[[116  32]\n",
            " [ 15 275]]\n",
            "\n",
            "\n"
          ]
        }
      ]
    },
    {
      "cell_type": "markdown",
      "source": [
        "##### **2. Adaptive Synthetic  (ADASYN)**"
      ],
      "metadata": {
        "id": "92WefqQd7IF7"
      }
    },
    {
      "cell_type": "code",
      "source": [
        "adasyn = ADASYN(random_state=42)\n",
        "X_train_resampled, y_train_resampled = adasyn.fit_resample(X_train, y_train)\n",
        "\n",
        "adasyn_counts = y_train_resampled.value_counts()\n",
        "print(adasyn_counts)"
      ],
      "metadata": {
        "colab": {
          "base_uri": "https://localhost:8080/"
        },
        "id": "TZi9GVdj7UJi",
        "outputId": "f5d0af50-4d61-4b83-be43-c16c4271242f"
      },
      "execution_count": 181,
      "outputs": [
        {
          "output_type": "stream",
          "name": "stdout",
          "text": [
            "1    1159\n",
            "0    1152\n",
            "Name: mental_health_diagnosed, dtype: int64\n"
          ]
        }
      ]
    },
    {
      "cell_type": "code",
      "source": [
        "adasyn_counts.index = adasyn_counts.index.map({1: 'Yes', 0: 'No'})\n",
        "\n",
        "plt.figure(figsize=(6, 6))\n",
        "plt.bar(adasyn_counts.index, adasyn_counts.values)\n",
        "plt.xlabel('Class Label')\n",
        "plt.ylabel('Count')\n",
        "plt.title('ADASYN - Class Distribution')\n",
        "plt.xticks(adasyn_counts.index)\n",
        "plt.show()"
      ],
      "metadata": {
        "colab": {
          "base_uri": "https://localhost:8080/",
          "height": 0
        },
        "id": "mCwXwqaC72a2",
        "outputId": "20aef44c-1220-4c72-af03-1cd2c2e48aa4"
      },
      "execution_count": 182,
      "outputs": [
        {
          "output_type": "display_data",
          "data": {
            "text/plain": [
              "<Figure size 600x600 with 1 Axes>"
            ],
            "image/png": "[encoded data removed]"
          },
          "metadata": {}
        }
      ]
    },
    {
      "cell_type": "code",
      "source": [
        "# Dictionary to store evaluation metrics\n",
        "results = {}\n",
        "\n",
        "# Loop through each classifier\n",
        "for name, clf in classifiers.items():\n",
        "    # Train the classifier\n",
        "    clf.fit(X_train_resampled, y_train_resampled)\n",
        "\n",
        "    # Make predictions on the test set\n",
        "    y_pred = clf.predict(X_test)\n",
        "\n",
        "    # Calculate evaluation metrics\n",
        "    accuracy = accuracy_score(y_test, y_pred)\n",
        "    precision = precision_score(y_test, y_pred)\n",
        "    recall = recall_score(y_test, y_pred)\n",
        "    f1 = f1_score(y_test, y_pred)\n",
        "    roc_auc = roc_auc_score(y_test, y_pred)\n",
        "    kappa = cohen_kappa_score(y_test, y_pred)\n",
        "    confusion = confusion_matrix(y_test, y_pred)\n",
        "    geometric_mean = geometric_mean_score(y_test, y_pred)\n",
        "    balanced_accuracy = balanced_accuracy_score(y_test, y_pred)\n",
        "\n",
        "    # Store the results in the dictionary\n",
        "    results[name] = {\n",
        "        \"Accuracy\": accuracy,\n",
        "        \"Precision\": precision,\n",
        "        \"Recall\": recall,\n",
        "        \"F1 Score\": f1,\n",
        "        \"ROC AUC\": roc_auc,\n",
        "        \"Kappa\": kappa,\n",
        "        \"Geometric Mean\": geometric_mean,\n",
        "        \"Balanced Accuracy\": balanced_accuracy,\n",
        "        \"Confusion Matrix\": confusion\n",
        "    }\n",
        "\n",
        "# Display the results\n",
        "for name, metrics in results.items():\n",
        "    print(f\"--- {name} ---\")\n",
        "    print(\"Accuracy:\", metrics[\"Accuracy\"])\n",
        "    print(\"Precision:\", metrics[\"Precision\"])\n",
        "    print(\"Recall:\", metrics[\"Recall\"])\n",
        "    print(\"F1 Score:\", metrics[\"F1 Score\"])\n",
        "    print(\"ROC AUC:\", metrics[\"ROC AUC\"])\n",
        "    print(\"Kappa:\", metrics[\"Kappa\"])\n",
        "    print(\"Geometric Mean:\", metrics[\"Geometric Mean\"])\n",
        "    print(\"Balanced Accuracy:\", metrics[\"Balanced Accuracy\"])\n",
        "    print(\"Confusion Matrix:\")\n",
        "    print(metrics[\"Confusion Matrix\"])\n",
        "    print(\"\\n\")"
      ],
      "metadata": {
        "colab": {
          "base_uri": "https://localhost:8080/"
        },
        "id": "r8M5AwtO-zrD",
        "outputId": "0bb6dec0-58bd-4d0c-9143-bc502b9a2384"
      },
      "execution_count": 183,
      "outputs": [
        {
          "output_type": "stream",
          "name": "stdout",
          "text": [
            "--- Support Vector Machine ---\n",
            "Accuracy: 0.776255707762557\n",
            "Precision: 0.8178807947019867\n",
            "Recall: 0.8517241379310345\n",
            "F1 Score: 0.8344594594594595\n",
            "ROC AUC: 0.7400512581547064\n",
            "Kappa: 0.4898259960064657\n",
            "Geometric Mean: 0.7315770859033419\n",
            "Balanced Accuracy: 0.7400512581547065\n",
            "Confusion Matrix:\n",
            "[[ 93  55]\n",
            " [ 43 247]]\n",
            "\n",
            "\n",
            "--- Naive Bayes ---\n",
            "Accuracy: 0.865296803652968\n",
            "Precision: 0.9230769230769231\n",
            "Recall: 0.8689655172413793\n",
            "F1 Score: 0.8952042628774423\n",
            "ROC AUC: 0.8635368126747437\n",
            "Kappa: 0.707186076551771\n",
            "Geometric Mean: 0.8635197484778119\n",
            "Balanced Accuracy: 0.8635368126747437\n",
            "Confusion Matrix:\n",
            "[[127  21]\n",
            " [ 38 252]]\n",
            "\n",
            "\n",
            "--- Decision Tree ---\n",
            "Accuracy: 0.8698630136986302\n",
            "Precision: 0.9087719298245615\n",
            "Recall: 0.8931034482758621\n",
            "F1 Score: 0.9008695652173914\n",
            "ROC AUC: 0.8587138863000933\n",
            "Kappa: 0.7115424610051992\n",
            "Geometric Mean: 0.8580249976263653\n",
            "Balanced Accuracy: 0.8587138863000932\n",
            "Confusion Matrix:\n",
            "[[122  26]\n",
            " [ 31 259]]\n",
            "\n",
            "\n",
            "--- Logistic Regression ---\n",
            "Accuracy: 0.8904109589041096\n",
            "Precision: 0.8878205128205128\n",
            "Recall: 0.9551724137931035\n",
            "F1 Score: 0.9202657807308969\n",
            "ROC AUC: 0.8593429636533084\n",
            "Kappa: 0.7458291019875236\n",
            "Geometric Mean: 0.8539830476457692\n",
            "Balanced Accuracy: 0.8593429636533085\n",
            "Confusion Matrix:\n",
            "[[113  35]\n",
            " [ 13 277]]\n",
            "\n",
            "\n"
          ]
        }
      ]
    },
    {
      "cell_type": "markdown",
      "source": [
        "##### **Tomek Links Under Sampling (TLUS)**"
      ],
      "metadata": {
        "id": "v9AC5YSjAs3q"
      }
    },
    {
      "cell_type": "code",
      "source": [
        "tl = TomekLinks()\n",
        "X_train_resampled, y_train_resampled = tl.fit_resample(X_train, y_train)\n",
        "\n",
        "tl_counts = y_train_resampled.value_counts()\n",
        "print(tl_counts)"
      ],
      "metadata": {
        "colab": {
          "base_uri": "https://localhost:8080/"
        },
        "id": "PPeUYIuIAw5x",
        "outputId": "ac761e0b-f1a9-498c-8ef7-1e6c03215961"
      },
      "execution_count": 184,
      "outputs": [
        {
          "output_type": "stream",
          "name": "stdout",
          "text": [
            "1    1087\n",
            "0     592\n",
            "Name: mental_health_diagnosed, dtype: int64\n"
          ]
        }
      ]
    },
    {
      "cell_type": "code",
      "source": [
        "tl_counts.index = tl_counts.index.map({1: 'Yes', 0: 'No'})\n",
        "\n",
        "plt.figure(figsize=(6, 6))\n",
        "plt.bar(tl_counts.index, tl_counts.values)\n",
        "plt.xlabel('Class Label')\n",
        "plt.ylabel('Count')\n",
        "plt.title('Tomek Links - Class Distribution')\n",
        "plt.show()"
      ],
      "metadata": {
        "colab": {
          "base_uri": "https://localhost:8080/",
          "height": 0
        },
        "id": "_KXBnjUoBj0y",
        "outputId": "f7781171-ce4e-444e-859e-de1852068d02"
      },
      "execution_count": 185,
      "outputs": [
        {
          "output_type": "display_data",
          "data": {
            "text/plain": [
              "<Figure size 600x600 with 1 Axes>"
            ],
            "image/png": "[encoded data removed]"
          },
          "metadata": {}
        }
      ]
    },
    {
      "cell_type": "code",
      "source": [
        "# Dictionary to store evaluation metrics\n",
        "results = {}\n",
        "\n",
        "# Loop through each classifier\n",
        "for name, clf in classifiers.items():\n",
        "    # Train the classifier\n",
        "    clf.fit(X_train_resampled, y_train_resampled)\n",
        "\n",
        "    # Make predictions on the test set\n",
        "    y_pred = clf.predict(X_test)\n",
        "\n",
        "    # Calculate evaluation metrics\n",
        "    accuracy = accuracy_score(y_test, y_pred)\n",
        "    precision = precision_score(y_test, y_pred)\n",
        "    recall = recall_score(y_test, y_pred)\n",
        "    f1 = f1_score(y_test, y_pred)\n",
        "    roc_auc = roc_auc_score(y_test, y_pred)\n",
        "    kappa = cohen_kappa_score(y_test, y_pred)\n",
        "    confusion = confusion_matrix(y_test, y_pred)\n",
        "    geometric_mean = geometric_mean_score(y_test, y_pred)\n",
        "    balanced_accuracy = balanced_accuracy_score(y_test, y_pred)\n",
        "\n",
        "    # Store the results in the dictionary\n",
        "    results[name] = {\n",
        "        \"Accuracy\": accuracy,\n",
        "        \"Precision\": precision,\n",
        "        \"Recall\": recall,\n",
        "        \"F1 Score\": f1,\n",
        "        \"ROC AUC\": roc_auc,\n",
        "        \"Kappa\": kappa,\n",
        "        \"Geometric Mean\": geometric_mean,\n",
        "        \"Balanced Accuracy\": balanced_accuracy,\n",
        "        \"Confusion Matrix\": confusion\n",
        "    }\n",
        "\n",
        "# Display the results\n",
        "for name, metrics in results.items():\n",
        "    print(f\"--- {name} ---\")\n",
        "    print(\"Accuracy:\", metrics[\"Accuracy\"])\n",
        "    print(\"Precision:\", metrics[\"Precision\"])\n",
        "    print(\"Recall:\", metrics[\"Recall\"])\n",
        "    print(\"F1 Score:\", metrics[\"F1 Score\"])\n",
        "    print(\"ROC AUC:\", metrics[\"ROC AUC\"])\n",
        "    print(\"Kappa:\", metrics[\"Kappa\"])\n",
        "    print(\"Geometric Mean:\", metrics[\"Geometric Mean\"])\n",
        "    print(\"Balanced Accuracy:\", metrics[\"Balanced Accuracy\"])\n",
        "    print(\"Confusion Matrix:\")\n",
        "    print(metrics[\"Confusion Matrix\"])\n",
        "    print(\"\\n\")"
      ],
      "metadata": {
        "colab": {
          "base_uri": "https://localhost:8080/"
        },
        "id": "3l2MMwr_BwTr",
        "outputId": "dd602e2e-b547-422e-ea48-ad57d8d23bd5"
      },
      "execution_count": 186,
      "outputs": [
        {
          "output_type": "stream",
          "name": "stdout",
          "text": [
            "--- Support Vector Machine ---\n",
            "Accuracy: 0.6963470319634704\n",
            "Precision: 0.6864608076009501\n",
            "Recall: 0.996551724137931\n",
            "F1 Score: 0.8129395218002812\n",
            "ROC AUC: 0.5523299161230195\n",
            "Kappa: 0.13361492013444776\n",
            "Geometric Mean: 0.32823059200571936\n",
            "Balanced Accuracy: 0.5523299161230195\n",
            "Confusion Matrix:\n",
            "[[ 16 132]\n",
            " [  1 289]]\n",
            "\n",
            "\n",
            "--- Naive Bayes ---\n",
            "Accuracy: 0.863013698630137\n",
            "Precision: 0.9197080291970803\n",
            "Recall: 0.8689655172413793\n",
            "F1 Score: 0.8936170212765957\n",
            "ROC AUC: 0.8601584342963653\n",
            "Kappa: 0.7017432358816053\n",
            "Geometric Mean: 0.860113345659265\n",
            "Balanced Accuracy: 0.8601584342963653\n",
            "Confusion Matrix:\n",
            "[[126  22]\n",
            " [ 38 252]]\n",
            "\n",
            "\n",
            "--- Decision Tree ---\n",
            "Accuracy: 0.8858447488584474\n",
            "Precision: 0.9081632653061225\n",
            "Recall: 0.9206896551724137\n",
            "F1 Score: 0.9143835616438356\n",
            "ROC AUC: 0.8691286113699906\n",
            "Kappa: 0.7431747818744723\n",
            "Geometric Mean: 0.8675978341742981\n",
            "Balanced Accuracy: 0.8691286113699906\n",
            "Confusion Matrix:\n",
            "[[121  27]\n",
            " [ 23 267]]\n",
            "\n",
            "\n",
            "--- Logistic Regression ---\n",
            "Accuracy: 0.8949771689497716\n",
            "Precision: 0.8935483870967742\n",
            "Recall: 0.9551724137931035\n",
            "F1 Score: 0.9233333333333333\n",
            "ROC AUC: 0.8660997204100652\n",
            "Kappa: 0.7572530120481928\n",
            "Geometric Mean: 0.8615072727423051\n",
            "Balanced Accuracy: 0.8660997204100652\n",
            "Confusion Matrix:\n",
            "[[115  33]\n",
            " [ 13 277]]\n",
            "\n",
            "\n"
          ]
        }
      ]
    },
    {
      "cell_type": "markdown",
      "source": [
        "##### **Near Miss Under Sampling (NMUS)**"
      ],
      "metadata": {
        "id": "zf5DJKUjB_uU"
      }
    },
    {
      "cell_type": "code",
      "source": [
        "nm = NearMiss()\n",
        "X_train_resampled, y_train_resampled = nm.fit_resample(X_train, y_train)\n",
        "\n",
        "nm_counts = y_train_resampled.value_counts()\n",
        "print(nm_counts)"
      ],
      "metadata": {
        "colab": {
          "base_uri": "https://localhost:8080/"
        },
        "id": "hpxfkkQiCJPl",
        "outputId": "f3a732eb-81bb-4a74-a06d-da2fc266aa4e"
      },
      "execution_count": 187,
      "outputs": [
        {
          "output_type": "stream",
          "name": "stdout",
          "text": [
            "0    592\n",
            "1    592\n",
            "Name: mental_health_diagnosed, dtype: int64\n"
          ]
        }
      ]
    },
    {
      "cell_type": "code",
      "source": [
        "nm_counts.index = nm_counts.index.map({1: 'Yes', 0: 'No'})\n",
        "\n",
        "plt.figure(figsize=(6, 6))\n",
        "plt.bar(nm_counts.index, nm_counts.values)\n",
        "plt.xlabel('Class Label')\n",
        "plt.ylabel('Count')\n",
        "plt.title('Near Miss - Class Distribution')\n",
        "plt.show()"
      ],
      "metadata": {
        "colab": {
          "base_uri": "https://localhost:8080/",
          "height": 0
        },
        "id": "5J1B4iFuCVvm",
        "outputId": "1fb6fa6b-c21d-416f-d7aa-6425df6ca278"
      },
      "execution_count": 188,
      "outputs": [
        {
          "output_type": "display_data",
          "data": {
            "text/plain": [
              "<Figure size 600x600 with 1 Axes>"
            ],
            "image/png": "[encoded data removed]"
          },
          "metadata": {}
        }
      ]
    },
    {
      "cell_type": "code",
      "source": [
        "# Dictionary to store evaluation metrics\n",
        "results = {}\n",
        "\n",
        "# Loop through each classifier\n",
        "for name, clf in classifiers.items():\n",
        "    # Train the classifier\n",
        "    clf.fit(X_train_resampled, y_train_resampled)\n",
        "\n",
        "    # Make predictions on the test set\n",
        "    y_pred = clf.predict(X_test)\n",
        "\n",
        "    # Calculate evaluation metrics\n",
        "    accuracy = accuracy_score(y_test, y_pred)\n",
        "    precision = precision_score(y_test, y_pred)\n",
        "    recall = recall_score(y_test, y_pred)\n",
        "    f1 = f1_score(y_test, y_pred)\n",
        "    roc_auc = roc_auc_score(y_test, y_pred)\n",
        "    kappa = cohen_kappa_score(y_test, y_pred)\n",
        "    confusion = confusion_matrix(y_test, y_pred)\n",
        "    geometric_mean = geometric_mean_score(y_test, y_pred)\n",
        "    balanced_accuracy = balanced_accuracy_score(y_test, y_pred)\n",
        "\n",
        "    # Store the results in the dictionary\n",
        "    results[name] = {\n",
        "        \"Accuracy\": accuracy,\n",
        "        \"Precision\": precision,\n",
        "        \"Recall\": recall,\n",
        "        \"F1 Score\": f1,\n",
        "        \"ROC AUC\": roc_auc,\n",
        "        \"Kappa\": kappa,\n",
        "        \"Geometric Mean\": geometric_mean,\n",
        "        \"Balanced Accuracy\": balanced_accuracy,\n",
        "        \"Confusion Matrix\": confusion\n",
        "    }\n",
        "\n",
        "# Display the results\n",
        "for name, metrics in results.items():\n",
        "    print(f\"--- {name} ---\")\n",
        "    print(\"Accuracy:\", metrics[\"Accuracy\"])\n",
        "    print(\"Precision:\", metrics[\"Precision\"])\n",
        "    print(\"Recall:\", metrics[\"Recall\"])\n",
        "    print(\"F1 Score:\", metrics[\"F1 Score\"])\n",
        "    print(\"ROC AUC:\", metrics[\"ROC AUC\"])\n",
        "    print(\"Kappa:\", metrics[\"Kappa\"])\n",
        "    print(\"Geometric Mean:\", metrics[\"Geometric Mean\"])\n",
        "    print(\"Balanced Accuracy:\", metrics[\"Balanced Accuracy\"])\n",
        "    print(\"Confusion Matrix:\")\n",
        "    print(metrics[\"Confusion Matrix\"])\n",
        "    print(\"\\n\")"
      ],
      "metadata": {
        "colab": {
          "base_uri": "https://localhost:8080/"
        },
        "id": "ah3J9ZAxCDA8",
        "outputId": "4dcfd840-e2c1-4d9e-89c9-7b1aa1eb5c13"
      },
      "execution_count": 189,
      "outputs": [
        {
          "output_type": "stream",
          "name": "stdout",
          "text": [
            "--- Support Vector Machine ---\n",
            "Accuracy: 0.6872146118721462\n",
            "Precision: 0.7325227963525835\n",
            "Recall: 0.8310344827586207\n",
            "F1 Score: 0.7786752827140548\n",
            "ROC AUC: 0.618219944082013\n",
            "Kappa: 0.2527458842868172\n",
            "Geometric Mean: 0.5804359321997821\n",
            "Balanced Accuracy: 0.6182199440820131\n",
            "Confusion Matrix:\n",
            "[[ 60  88]\n",
            " [ 49 241]]\n",
            "\n",
            "\n",
            "--- Naive Bayes ---\n",
            "Accuracy: 0.8127853881278538\n",
            "Precision: 0.940677966101695\n",
            "Recall: 0.7655172413793103\n",
            "F1 Score: 0.844106463878327\n",
            "ROC AUC: 0.8354613233923579\n",
            "Kappa: 0.6159045215382641\n",
            "Geometric Mean: 0.8325283468302218\n",
            "Balanced Accuracy: 0.8354613233923578\n",
            "Confusion Matrix:\n",
            "[[134  14]\n",
            " [ 68 222]]\n",
            "\n",
            "\n",
            "--- Decision Tree ---\n",
            "Accuracy: 0.8013698630136986\n",
            "Precision: 0.921161825726141\n",
            "Recall: 0.7655172413793103\n",
            "F1 Score: 0.8361581920903955\n",
            "ROC AUC: 0.8185694315004659\n",
            "Kappa: 0.589366150132546\n",
            "Geometric Mean: 0.8168484432930901\n",
            "Balanced Accuracy: 0.8185694315004659\n",
            "Confusion Matrix:\n",
            "[[129  19]\n",
            " [ 68 222]]\n",
            "\n",
            "\n",
            "--- Logistic Regression ---\n",
            "Accuracy: 0.8447488584474886\n",
            "Precision: 0.9080882352941176\n",
            "Recall: 0.8517241379310345\n",
            "F1 Score: 0.8790035587188613\n",
            "ROC AUC: 0.8414026095060578\n",
            "Kappa: 0.6630616769989592\n",
            "Geometric Mean: 0.8413392997682777\n",
            "Balanced Accuracy: 0.8414026095060578\n",
            "Confusion Matrix:\n",
            "[[123  25]\n",
            " [ 43 247]]\n",
            "\n",
            "\n"
          ]
        }
      ]
    },
    {
      "cell_type": "markdown",
      "source": [
        "### **Ensemble Techniques**"
      ],
      "metadata": {
        "id": "sFk-LPWnRhno"
      }
    },
    {
      "cell_type": "markdown",
      "source": [
        "1. **Random Forest**\n",
        "\n",
        "*Ensemble methods like Random Forest are indeed effective in handling class imbalance because they combine multiple weak learners (decision trees) to create a robust and accurate model. The inherent nature of Random Forest helps in addressing the class imbalance problem by reducing the risk of overfitting to the majority class and improving generalization to the minority class.*\n",
        "\n",
        "2. **Boosting Algorithms**\n",
        "\n",
        "*Boosting algorithms are powerful ensemble methods that can handle class imbalance effectively by giving more emphasis to misclassified instances and focusing on difficult-to-classify samples.  One popular boosting algorithm is AdaBoost (Adaptive Boosting).*"
      ],
      "metadata": {
        "id": "xJOgVxXISEJY"
      }
    },
    {
      "cell_type": "markdown",
      "source": [
        "**Random Forest handles class imbalance effectively because of the following reasons:**\n",
        "\n",
        "1. **Bootstrap Aggregating (Bagging):** Random Forest uses bagging, which means it creates multiple subsets of the training data with replacement. This helps in increasing the representation of the minority class in some of the subsets, making the classifier more robust to imbalanced data.\n",
        "\n",
        "2. **Feature Randomness:** Random Forest selects a random subset of features to split at each node of the decision trees. This randomness further helps in reducing the dominance of the majority class and can improve the overall performance on the minority class.\n",
        "\n",
        "3. **Voting Ensemble:** In the testing phase, the ensemble of decision trees in the Random Forest votes on the final classification. Since each decision tree in the forest may have learned from different subsets of data, it provides a more balanced voting mechanism.\n",
        "\n",
        "4. **Out-of-Bag (OOB) Samples:** Random Forest can also use out-of-bag samples (samples not used during training) to estimate the performance of the model. This helps in getting an unbiased estimate of the model's performance even with imbalanced data.\n",
        "\n",
        "By combining these mechanisms, Random Forest is well-suited for class imbalance problems and can produce reliable and accurate predictions even in the presence of imbalanced classes."
      ],
      "metadata": {
        "id": "ICjLsczTT_va"
      }
    },
    {
      "cell_type": "markdown",
      "source": [
        "**AdaBoost handles class imbalance effectively due to the following reasons:**\n",
        "\n",
        "1. **Weighted Voting:** In AdaBoost, each weak learner (typically decision trees) is assigned a weight based on its accuracy in classifying the training data. Misclassified instances are given higher weights, making subsequent weak learners focus more on correcting those errors.\n",
        "\n",
        "2. **Iterative Learning:** AdaBoost iteratively trains weak learners, and at each iteration, it gives more attention to misclassified instances from the previous iteration. This way, difficult-to-classify samples receive more emphasis during the learning process.\n",
        "\n",
        "3. **Ensemble Aggregation:** The final prediction in AdaBoost is made by aggregating the predictions of all weak learners, with more weight given to the ones with better performance on the training data. This ensemble aggregation further helps in handling class imbalance and producing more accurate predictions.\n",
        "\n",
        "4. **Robustness:** By iteratively adapting to the difficult samples, AdaBoost becomes more robust to imbalanced classes over the course of iterations.\n",
        "\n",
        "Overall, AdaBoost can effectively handle class imbalance by focusing on misclassified instances and adapting to the challenges posed by imbalanced data. It often outperforms traditional classifiers when dealing with skewed class distributions."
      ],
      "metadata": {
        "id": "l08TjscGWoCB"
      }
    },
    {
      "cell_type": "code",
      "source": [
        "# Define a list of Ensemble classifiers\n",
        "EnsembleClassifiers = {\n",
        "    \"Adaptive Boosting\": AdaBoostClassifier(random_state=42),\n",
        "    \"Random Forest\": RandomForestClassifier(random_state=42)\n",
        "}"
      ],
      "metadata": {
        "id": "faGtrj1rVXK0"
      },
      "execution_count": 190,
      "outputs": []
    },
    {
      "cell_type": "code",
      "source": [
        "# Dictionary to store evaluation metrics\n",
        "results = {}\n",
        "\n",
        "# Loop through each classifier\n",
        "for name, clf in EnsembleClassifiers.items():\n",
        "    # Train the classifier\n",
        "    clf.fit(X_train, y_train)\n",
        "\n",
        "    # Make predictions on the test set\n",
        "    y_pred = clf.predict(X_test)\n",
        "\n",
        "    # Calculate evaluation metrics\n",
        "    accuracy = accuracy_score(y_test, y_pred)\n",
        "    precision = precision_score(y_test, y_pred)\n",
        "    recall = recall_score(y_test, y_pred)\n",
        "    f1 = f1_score(y_test, y_pred)\n",
        "    roc_auc = roc_auc_score(y_test, y_pred)\n",
        "    kappa = cohen_kappa_score(y_test, y_pred)\n",
        "    confusion = confusion_matrix(y_test, y_pred)\n",
        "    geometric_mean = geometric_mean_score(y_test, y_pred)\n",
        "    balanced_accuracy = balanced_accuracy_score(y_test, y_pred)\n",
        "\n",
        "    # Store the results in the dictionary\n",
        "    results[name] = {\n",
        "        \"Accuracy\": accuracy,\n",
        "        \"Precision\": precision,\n",
        "        \"Recall\": recall,\n",
        "        \"F1 Score\": f1,\n",
        "        \"ROC AUC\": roc_auc,\n",
        "        \"Kappa\": kappa,\n",
        "        \"Geometric Mean\": geometric_mean,\n",
        "        \"Balanced Accuracy\": balanced_accuracy,\n",
        "        \"Confusion Matrix\": confusion\n",
        "    }\n",
        "\n",
        "# Display the results\n",
        "for name, metrics in results.items():\n",
        "    print(f\"--- {name} ---\")\n",
        "    print(\"Accuracy:\", metrics[\"Accuracy\"])\n",
        "    print(\"Precision:\", metrics[\"Precision\"])\n",
        "    print(\"Recall:\", metrics[\"Recall\"])\n",
        "    print(\"F1 Score:\", metrics[\"F1 Score\"])\n",
        "    print(\"ROC AUC:\", metrics[\"ROC AUC\"])\n",
        "    print(\"Kappa:\", metrics[\"Kappa\"])\n",
        "    print(\"Geometric Mean:\", metrics[\"Geometric Mean\"])\n",
        "    print(\"Balanced Accuracy:\", metrics[\"Balanced Accuracy\"])\n",
        "    print(\"Confusion Matrix:\")\n",
        "    print(metrics[\"Confusion Matrix\"])\n",
        "    print(\"\\n\")"
      ],
      "metadata": {
        "colab": {
          "base_uri": "https://localhost:8080/"
        },
        "id": "_cme00K7SuVM",
        "outputId": "3147ee7c-2cbc-4e56-9c14-932fc1409e1d"
      },
      "execution_count": 191,
      "outputs": [
        {
          "output_type": "stream",
          "name": "stdout",
          "text": [
            "--- Adaptive Boosting ---\n",
            "Accuracy: 0.908675799086758\n",
            "Precision: 0.9166666666666666\n",
            "Recall: 0.9482758620689655\n",
            "F1 Score: 0.9322033898305084\n",
            "ROC AUC: 0.8896784715750233\n",
            "Kappa: 0.7924662402274343\n",
            "Geometric Mean: 0.8877466578992962\n",
            "Balanced Accuracy: 0.8896784715750232\n",
            "Confusion Matrix:\n",
            "[[123  25]\n",
            " [ 15 275]]\n",
            "\n",
            "\n",
            "--- Random Forest ---\n",
            "Accuracy: 0.908675799086758\n",
            "Precision: 0.9032258064516129\n",
            "Recall: 0.9655172413793104\n",
            "F1 Score: 0.9333333333333333\n",
            "ROC AUC: 0.8814072693383038\n",
            "Kappa: 0.7889156626506024\n",
            "Geometric Mean: 0.8773849138466345\n",
            "Balanced Accuracy: 0.8814072693383038\n",
            "Confusion Matrix:\n",
            "[[118  30]\n",
            " [ 10 280]]\n",
            "\n",
            "\n"
          ]
        }
      ]
    },
    {
      "cell_type": "markdown",
      "source": [
        "### **Algorithm-specific Methods**"
      ],
      "metadata": {
        "id": "gj__YJteYJiS"
      }
    },
    {
      "cell_type": "markdown",
      "source": [
        "XGBoost (Extreme Gradient Boosting) is another powerful boosting algorithm that has specific parameters and techniques to handle class imbalance effectively. XGBoost is an enhanced version of Gradient Boosting that leverages a variety of regularization techniques and can handle class imbalance naturally.\n",
        "\n",
        "We used XGBoost in algorithm specific methods because it had specific parameters or techniques to handle class imbalance.\n",
        "\n"
      ],
      "metadata": {
        "id": "taCJ20ADYOAZ"
      }
    },
    {
      "cell_type": "markdown",
      "source": [
        "**XGBoost can handle class imbalance effectively due to the following reasons:**\n",
        "\n",
        "**scale_pos_weight:** The scale_pos_weight parameter helps in handling class imbalance by assigning higher weights to the minority class during the boosting process. This parameter helps in balancing the effect of class distribution and prevents the model from being biased towards the majority class.\n",
        "\n",
        "**Regularization:** XGBoost uses L1 and L2 regularization to prevent overfitting, which can be beneficial when dealing with imbalanced data as it reduces the risk of overfitting to the majority class.\n",
        "\n",
        "**Gradient-based Optimization:** XGBoost employs gradient-based optimization techniques, which allows it to prioritize difficult-to-classify samples during the boosting process, thus making it more robust to imbalanced classes.\n",
        "\n",
        "Overall, XGBoost is an excellent choice for handling class imbalance, as it provides built-in mechanisms to deal with skewed class distributions while delivering high performance and accurate predictions."
      ],
      "metadata": {
        "id": "2rAl3QFQaAZa"
      }
    },
    {
      "cell_type": "code",
      "source": [
        "# Create and set up the XGBoost classifier\n",
        "# You can use scale_pos_weight to handle class imbalance by assigning higher weights to the minority class\n",
        "# The scale_pos_weight should be set as the ratio of the number of negative (majority) class samples to positive (minority) class samples\n",
        "\n",
        "scale_pos_weight = len(y_train[y_train == 0]) / len(y_train[y_train == 1])\n",
        "\n",
        "# Create and set up the LightGBM classifier\n",
        "# You can use the is_unbalance parameter to handle class imbalance by automatically setting the positive (minority) class weight\n",
        "\n",
        "\n",
        "AlgorithmSpecific = {\n",
        "    \"XGBoost\": XGBClassifier(scale_pos_weight=scale_pos_weight, random_state=42),\n",
        "    \"LightGBM\": lgb.LGBMClassifier(is_unbalance=True, random_state=42)\n",
        "}"
      ],
      "metadata": {
        "id": "YT58yyW_YzTJ"
      },
      "execution_count": 192,
      "outputs": []
    },
    {
      "cell_type": "code",
      "source": [
        "# Dictionary to store evaluation metrics\n",
        "results = {}\n",
        "\n",
        "# Loop through each classifier\n",
        "for name, clf in AlgorithmSpecific.items():\n",
        "    # Train the classifier\n",
        "    clf.fit(X_train, y_train)\n",
        "\n",
        "    # Make predictions on the test set\n",
        "    y_pred = clf.predict(X_test)\n",
        "\n",
        "    # Calculate evaluation metrics\n",
        "    accuracy = accuracy_score(y_test, y_pred)\n",
        "    precision = precision_score(y_test, y_pred)\n",
        "    recall = recall_score(y_test, y_pred)\n",
        "    f1 = f1_score(y_test, y_pred)\n",
        "    roc_auc = roc_auc_score(y_test, y_pred)\n",
        "    kappa = cohen_kappa_score(y_test, y_pred)\n",
        "    confusion = confusion_matrix(y_test, y_pred)\n",
        "    geometric_mean = geometric_mean_score(y_test, y_pred)\n",
        "    balanced_accuracy = balanced_accuracy_score(y_test, y_pred)\n",
        "\n",
        "    # Store the results in the dictionary\n",
        "    results[name] = {\n",
        "        \"Accuracy\": accuracy,\n",
        "        \"Precision\": precision,\n",
        "        \"Recall\": recall,\n",
        "        \"F1 Score\": f1,\n",
        "        \"ROC AUC\": roc_auc,\n",
        "        \"Kappa\": kappa,\n",
        "        \"Geometric Mean\": geometric_mean,\n",
        "        \"Balanced Accuracy\": balanced_accuracy,\n",
        "        \"Confusion Matrix\": confusion\n",
        "    }\n",
        "\n",
        "# Display the results\n",
        "for name, metrics in results.items():\n",
        "    print(f\"--- {name} ---\")\n",
        "    print(\"Accuracy:\", metrics[\"Accuracy\"])\n",
        "    print(\"Precision:\", metrics[\"Precision\"])\n",
        "    print(\"Recall:\", metrics[\"Recall\"])\n",
        "    print(\"F1 Score:\", metrics[\"F1 Score\"])\n",
        "    print(\"ROC AUC:\", metrics[\"ROC AUC\"])\n",
        "    print(\"Kappa:\", metrics[\"Kappa\"])\n",
        "    print(\"Geometric Mean:\", metrics[\"Geometric Mean\"])\n",
        "    print(\"Balanced Accuracy:\", metrics[\"Balanced Accuracy\"])\n",
        "    print(\"Confusion Matrix:\")\n",
        "    print(metrics[\"Confusion Matrix\"])\n",
        "    print(\"\\n\")"
      ],
      "metadata": {
        "colab": {
          "base_uri": "https://localhost:8080/"
        },
        "outputId": "d39819e4-2cb9-4234-ce03-2061e2d8f460",
        "id": "kN5jL3OfbDJn"
      },
      "execution_count": 193,
      "outputs": [
        {
          "output_type": "stream",
          "name": "stdout",
          "text": [
            "--- XGBoost ---\n",
            "Accuracy: 0.908675799086758\n",
            "Precision: 0.9194630872483222\n",
            "Recall: 0.9448275862068966\n",
            "F1 Score: 0.9319727891156463\n",
            "ROC AUC: 0.8913327120223671\n",
            "Kappa: 0.7931620702682282\n",
            "Geometric Mean: 0.8897259701487473\n",
            "Balanced Accuracy: 0.8913327120223672\n",
            "Confusion Matrix:\n",
            "[[124  24]\n",
            " [ 16 274]]\n",
            "\n",
            "\n",
            "--- LightGBM ---\n",
            "Accuracy: 0.9018264840182648\n",
            "Precision: 0.9102990033222591\n",
            "Recall: 0.9448275862068966\n",
            "F1 Score: 0.9272419627749577\n",
            "ROC AUC: 0.881197576887232\n",
            "Kappa: 0.7765253090960867\n",
            "Geometric Mean: 0.8788972587429709\n",
            "Balanced Accuracy: 0.881197576887232\n",
            "Confusion Matrix:\n",
            "[[121  27]\n",
            " [ 16 274]]\n",
            "\n",
            "\n"
          ]
        }
      ]
    },
    {
      "cell_type": "markdown",
      "source": [
        "### **Cost-sensitive Learning**"
      ],
      "metadata": {
        "id": "lB6dUv_ubl2a"
      }
    },
    {
      "cell_type": "markdown",
      "source": [
        "Assign different misclassification costs to different classes to emphasize the importance of correctly predicting the minority class.\n",
        "\n",
        "Performing cost-sensitive learning in Colab involves modifying the class weights or sample weights of your machine learning model to take into account the costs associated with misclassifications. The idea is to assign higher weights to the misclassified samples, which encourages the model to focus more on minimizing the cost of misclassifications."
      ],
      "metadata": {
        "id": "lpjlsQ78bqTB"
      }
    },
    {
      "cell_type": "markdown",
      "source": [
        "**Define the cost matrix.**\n",
        "\n",
        "The cost matrix specifies the costs associated with different types of misclassifications. For example, we can assign a higher cost to misclassifying the minority class samples."
      ],
      "metadata": {
        "id": "xBmIaFQUb2sp"
      }
    },
    {
      "cell_type": "code",
      "source": [
        "# Define the cost matrix\n",
        "# Replace the values with the actual costs for your problem\n",
        "# In this experiment, we assume higher costs for misclassifying the minority class (class 1)\n",
        "\n",
        "cost_matrix = np.array([[0, 1], [10, 0]])"
      ],
      "metadata": {
        "id": "4MKWTt11b_0S"
      },
      "execution_count": 194,
      "outputs": []
    },
    {
      "cell_type": "markdown",
      "source": [
        "**Modify the class weights or sample weights in the model.**\n",
        "\n",
        "In this step, we create and train a RandomForestClassifier while taking into account the cost matrix."
      ],
      "metadata": {
        "id": "GlnNiiljcRrB"
      }
    },
    {
      "cell_type": "code",
      "source": [
        "# Calculate the class weights from the cost matrix\n",
        "class_weights = {0: cost_matrix[0, 0], 1: cost_matrix[1, 0]}"
      ],
      "metadata": {
        "id": "XmDtlwuPcdH6"
      },
      "execution_count": 195,
      "outputs": []
    },
    {
      "cell_type": "code",
      "source": [
        "CostSensitiveLearning = {\n",
        "    \"Random Forest\": RandomForestClassifier(class_weight=class_weights, random_state=42),\n",
        "    \"Decision Tree\": DecisionTreeClassifier(class_weight=class_weights, random_state=42),\n",
        "    \"Logistic Regression\": LogisticRegression(class_weight=class_weights, random_state=42)\n",
        "}"
      ],
      "metadata": {
        "id": "L62BeRnncimR"
      },
      "execution_count": 196,
      "outputs": []
    },
    {
      "cell_type": "code",
      "source": [
        "# Dictionary to store evaluation metrics\n",
        "results = {}\n",
        "\n",
        "# Loop through each classifier\n",
        "for name, clf in CostSensitiveLearning.items():\n",
        "    # Train the classifier\n",
        "    clf.fit(X_train, y_train)\n",
        "\n",
        "    # Make predictions on the test set\n",
        "    y_pred = clf.predict(X_test)\n",
        "\n",
        "    # Calculate evaluation metrics\n",
        "    accuracy = accuracy_score(y_test, y_pred)\n",
        "    precision = precision_score(y_test, y_pred)\n",
        "    recall = recall_score(y_test, y_pred)\n",
        "    f1 = f1_score(y_test, y_pred)\n",
        "    roc_auc = roc_auc_score(y_test, y_pred)\n",
        "    kappa = cohen_kappa_score(y_test, y_pred)\n",
        "    confusion = confusion_matrix(y_test, y_pred)\n",
        "    geometric_mean = geometric_mean_score(y_test, y_pred)\n",
        "    balanced_accuracy = balanced_accuracy_score(y_test, y_pred)\n",
        "\n",
        "    # Store the results in the dictionary\n",
        "    results[name] = {\n",
        "        \"Accuracy\": accuracy,\n",
        "        \"Precision\": precision,\n",
        "        \"Recall\": recall,\n",
        "        \"F1 Score\": f1,\n",
        "        \"ROC AUC\": roc_auc,\n",
        "        \"Kappa\": kappa,\n",
        "        \"Geometric Mean\": geometric_mean,\n",
        "        \"Balanced Accuracy\": balanced_accuracy,\n",
        "        \"Confusion Matrix\": confusion\n",
        "    }\n",
        "\n",
        "# Display the results\n",
        "for name, metrics in results.items():\n",
        "    print(f\"--- {name} ---\")\n",
        "    print(\"Accuracy:\", metrics[\"Accuracy\"])\n",
        "    print(\"Precision:\", metrics[\"Precision\"])\n",
        "    print(\"Recall:\", metrics[\"Recall\"])\n",
        "    print(\"F1 Score:\", metrics[\"F1 Score\"])\n",
        "    print(\"ROC AUC:\", metrics[\"ROC AUC\"])\n",
        "    print(\"Kappa:\", metrics[\"Kappa\"])\n",
        "    print(\"Geometric Mean:\", metrics[\"Geometric Mean\"])\n",
        "    print(\"Balanced Accuracy:\", metrics[\"Balanced Accuracy\"])\n",
        "    print(\"Confusion Matrix:\")\n",
        "    print(metrics[\"Confusion Matrix\"])\n",
        "    print(\"\\n\")"
      ],
      "metadata": {
        "colab": {
          "base_uri": "https://localhost:8080/"
        },
        "outputId": "f183ce01-b4f1-4a0f-def2-ec9e0554d6f1",
        "id": "JORMSq21d-e-"
      },
      "execution_count": 197,
      "outputs": [
        {
          "output_type": "stream",
          "name": "stdout",
          "text": [
            "--- Random Forest ---\n",
            "Accuracy: 0.6621004566210046\n",
            "Precision: 0.6621004566210046\n",
            "Recall: 1.0\n",
            "F1 Score: 0.7967032967032966\n",
            "ROC AUC: 0.5\n",
            "Kappa: 0.0\n",
            "Geometric Mean: 0.0\n",
            "Balanced Accuracy: 0.5\n",
            "Confusion Matrix:\n",
            "[[  0 148]\n",
            " [  0 290]]\n",
            "\n",
            "\n",
            "--- Decision Tree ---\n",
            "Accuracy: 0.6621004566210046\n",
            "Precision: 0.6621004566210046\n",
            "Recall: 1.0\n",
            "F1 Score: 0.7967032967032966\n",
            "ROC AUC: 0.5\n",
            "Kappa: 0.0\n",
            "Geometric Mean: 0.0\n",
            "Balanced Accuracy: 0.5\n",
            "Confusion Matrix:\n",
            "[[  0 148]\n",
            " [  0 290]]\n",
            "\n",
            "\n",
            "--- Logistic Regression ---\n",
            "Accuracy: 0.6621004566210046\n",
            "Precision: 0.6621004566210046\n",
            "Recall: 1.0\n",
            "F1 Score: 0.7967032967032966\n",
            "ROC AUC: 0.5\n",
            "Kappa: 0.0\n",
            "Geometric Mean: 0.0\n",
            "Balanced Accuracy: 0.5\n",
            "Confusion Matrix:\n",
            "[[  0 148]\n",
            " [  0 290]]\n",
            "\n",
            "\n"
          ]
        }
      ]
    },
    {
      "cell_type": "markdown",
      "source": [
        "By adjusting the class weights based on the cost matrix, the Classifier will prioritize minimizing the total cost (which includes the cost of misclassifications) during training. This way, the model will be more sensitive to the class imbalance and make better predictions, taking into account the associated costs of misclassification.\n"
      ],
      "metadata": {
        "id": "oDaaGdYicjlz"
      }
    }
  ]
}