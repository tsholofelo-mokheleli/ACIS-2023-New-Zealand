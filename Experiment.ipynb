{
  "nbformat": 4,
  "nbformat_minor": 0,
  "metadata": {
    "colab": {
      "provenance": [],
      "authorship_tag": "ABX9TyMuP9Q/upyahIQS2T1I5Crc",
      "include_colab_link": true
    },
    "kernelspec": {
      "name": "python3",
      "display_name": "Python 3"
    },
    "language_info": {
      "name": "python"
    }
  },
  "cells": [
    {
      "cell_type": "markdown",
      "metadata": {
        "id": "view-in-github",
        "colab_type": "text"
      },
      "source": [
        "<a href=\"https://colab.research.google.com/github/tsholofelo-mokheleli/ACIS-2023-New-Zealand/blob/main/Experiment.ipynb\" target=\"_parent\"><img src=\"https://colab.research.google.com/assets/colab-badge.svg\" alt=\"Open In Colab\"/></a>"
      ]
    },
    {
      "cell_type": "markdown",
      "source": [
        "### **Imbalance Techniques Experiment**\n",
        "\n",
        "**Choose Imbalance Techniques:**\n",
        "1. Resampling Methods:\n",
        "  * Oversampling\n",
        "    * SMOTE\n",
        "    * ADASYN\n",
        "  * Undersampling\n",
        "    * Tomek links\n",
        "    * Near Miss\n",
        "\n",
        "2. Ensemble Techniques:\n",
        "  * Random Forest\n",
        "  * Boosting algorithms\n",
        "\n",
        "3. Algorithm-specific Methods\n",
        "  * XGBoost\n",
        "  * LightGBM\n",
        "\n",
        "4. Cost-sensitive Learning:  *Can be explored later, future research*"
      ],
      "metadata": {
        "id": "IQ4ySBu6T_0U"
      }
    },
    {
      "cell_type": "code",
      "execution_count": 72,
      "metadata": {
        "id": "PyWAcwC-RE75"
      },
      "outputs": [],
      "source": [
        "# Load the libraries\n",
        "\n",
        "import pandas  as pd\n",
        "import numpy as np\n",
        "import seaborn as sns\n",
        "import matplotlib.pyplot as plt\n",
        "import time\n",
        "import psutil\n",
        "import os\n",
        "\n",
        "# Warning filter\n",
        "\n",
        "import warnings\n",
        "warnings.filterwarnings('ignore')\n",
        "cmap=sns.color_palette('Blues_r')\n",
        "\n",
        "# Metrics\n",
        "\n",
        "from sklearn.model_selection import train_test_split, KFold, cross_val_score,GridSearchCV,cross_validate\n",
        "from sklearn.metrics import accuracy_score, precision_score, recall_score, f1_score, roc_auc_score, cohen_kappa_score, confusion_matrix, balanced_accuracy_score\n",
        "from imblearn.metrics import geometric_mean_score\n",
        "\n",
        "# Algorithmns models\n",
        "\n",
        "import lightgbm as lgb\n",
        "from sklearn.svm import SVC\n",
        "from sklearn.naive_bayes import GaussianNB\n",
        "from sklearn.tree import DecisionTreeClassifier\n",
        "from sklearn.ensemble import RandomForestClassifier\n",
        "from sklearn.linear_model import LogisticRegression\n",
        "from xgboost import XGBClassifier\n",
        "\n",
        "# Class imbalance\n",
        "\n",
        "from imblearn.under_sampling import TomekLinks\n",
        "from imblearn.under_sampling import NearMiss\n",
        "from imblearn.over_sampling import SMOTE\n",
        "from imblearn.over_sampling import ADASYN\n",
        "\n",
        "from sklearn.utils import resample\n",
        "\n",
        "# Plot Theme\n",
        "\n",
        "sns.set_theme(style=\"darkgrid\")\n",
        "plt.style.use(\"ggplot\")"
      ]
    },
    {
      "cell_type": "markdown",
      "source": [
        "**Load Data**"
      ],
      "metadata": {
        "id": "p6Z9OpoxYnrz"
      }
    },
    {
      "cell_type": "code",
      "source": [
        "data = pd.read_csv(\"Mental Health.csv\")"
      ],
      "metadata": {
        "id": "-RKEhDySYpWB"
      },
      "execution_count": 73,
      "outputs": []
    },
    {
      "cell_type": "code",
      "source": [
        "print(data.info())"
      ],
      "metadata": {
        "colab": {
          "base_uri": "https://localhost:8080/"
        },
        "id": "Tomgt_H6YyUQ",
        "outputId": "22579761-c29b-4589-e56b-82d0bb4eec08"
      },
      "execution_count": 74,
      "outputs": [
        {
          "output_type": "stream",
          "name": "stdout",
          "text": [
            "<class 'pandas.core.frame.DataFrame'>\n",
            "RangeIndex: 1430 entries, 0 to 1429\n",
            "Data columns (total 25 columns):\n",
            " #   Column                    Non-Null Count  Dtype\n",
            "---  ------                    --------------  -----\n",
            " 0   self_employed             1430 non-null   int64\n",
            " 1   no_employees              1430 non-null   int64\n",
            " 2   tech_company              1430 non-null   int64\n",
            " 3   company_role              1430 non-null   int64\n",
            " 4   benefits                  1430 non-null   int64\n",
            " 5   care_options              1430 non-null   int64\n",
            " 6   wellness_program          1430 non-null   int64\n",
            " 7   seek_help                 1430 non-null   int64\n",
            " 8   anonymity                 1430 non-null   int64\n",
            " 9   leave                     1430 non-null   int64\n",
            " 10  mental_importance         1430 non-null   int64\n",
            " 11  neg_consequence_coworker  1430 non-null   int64\n",
            " 12  discuss_mh                1430 non-null   int64\n",
            " 13  work_interfere            1430 non-null   int64\n",
            " 14  coworkers                 1430 non-null   int64\n",
            " 15  supervisor                1430 non-null   int64\n",
            " 16  mental_health_interview   1430 non-null   int64\n",
            " 17  family_history            1430 non-null   int64\n",
            " 18  past_mental_health        1430 non-null   int64\n",
            " 19  mental_health             1430 non-null   int64\n",
            " 20  mental_health_diagnosed   1430 non-null   int64\n",
            " 21  treatment                 1430 non-null   int64\n",
            " 22  age                       1430 non-null   int64\n",
            " 23  gender                    1430 non-null   int64\n",
            " 24  country                   1430 non-null   int64\n",
            "dtypes: int64(25)\n",
            "memory usage: 279.4 KB\n",
            "None\n"
          ]
        }
      ]
    },
    {
      "cell_type": "markdown",
      "source": [
        "### **Split Dataset**"
      ],
      "metadata": {
        "id": "Q8o_iTodY8-A"
      }
    },
    {
      "cell_type": "code",
      "source": [
        "X = data.drop([\"mental_health_diagnosed\"], axis=1)\n",
        "y = data['mental_health_diagnosed']\n",
        "\n",
        "X_train, X_test, y_train, y_test = train_test_split(X, y, test_size=0.2,stratify=y, random_state=42)"
      ],
      "metadata": {
        "id": "siXO_QLSZPxZ"
      },
      "execution_count": 75,
      "outputs": []
    },
    {
      "cell_type": "markdown",
      "source": [
        "### **Baseline Model**"
      ],
      "metadata": {
        "id": "XfIdg6aXZgeQ"
      }
    },
    {
      "cell_type": "code",
      "source": [
        "# Define a list of classifiers\n",
        "classifiers = {\n",
        "    \"SVM\": SVC(),\n",
        "    \"NB_\": GaussianNB(),\n",
        "    \"DT_\": DecisionTreeClassifier(),\n",
        "    \"RF_\": RandomForestClassifier(),\n",
        "    \"LR_\": LogisticRegression()\n",
        "}"
      ],
      "metadata": {
        "id": "dIGDcKKLZfNg"
      },
      "execution_count": 76,
      "outputs": []
    },
    {
      "cell_type": "code",
      "source": [
        "# Dictionary to store evaluation metrics\n",
        "results = {}\n",
        "\n",
        "# Loop through each classifier\n",
        "for name, clf in classifiers.items():\n",
        "    # Train the classifier\n",
        "    clf.fit(X_train, y_train)\n",
        "\n",
        "    # Make predictions on the test set\n",
        "    y_pred = clf.predict(X_test)\n",
        "\n",
        "    # Calculate evaluation metrics\n",
        "    accuracy = accuracy_score(y_test, y_pred)\n",
        "    precision = precision_score(y_test, y_pred)\n",
        "    recall = recall_score(y_test, y_pred)\n",
        "    f1 = f1_score(y_test, y_pred)\n",
        "    roc_auc = roc_auc_score(y_test, y_pred)\n",
        "    kappa = cohen_kappa_score(y_test, y_pred)\n",
        "    confusion = confusion_matrix(y_test, y_pred)\n",
        "    geometric_mean = geometric_mean_score(y_test, y_pred)\n",
        "    balanced_accuracy = balanced_accuracy_score(y_test, y_pred)\n",
        "\n",
        "    # Store the results in the dictionary\n",
        "    results[name] = {\n",
        "        \"Accuracy\": accuracy,\n",
        "        \"Precision\": precision,\n",
        "        \"Recall\": recall,\n",
        "        \"F1 Score\": f1,\n",
        "        \"ROC AUC\": roc_auc,\n",
        "        \"Kappa\": kappa,\n",
        "        \"Geometric Mean\": geometric_mean,\n",
        "        \"Balanced Accuracy\": balanced_accuracy,\n",
        "        \"Confusion Matrix\": confusion\n",
        "    }\n",
        "\n",
        "# Display the results\n",
        "for name, metrics in results.items():\n",
        "    print(f\"--- {name} ---\")\n",
        "    print(\"Accuracy:\", metrics[\"Accuracy\"])\n",
        "    print(\"Precision:\", metrics[\"Precision\"])\n",
        "    print(\"Recall:\", metrics[\"Recall\"])\n",
        "    print(\"F1 Score:\", metrics[\"F1 Score\"])\n",
        "    print(\"ROC AUC:\", metrics[\"ROC AUC\"])\n",
        "    print(\"Kappa:\", metrics[\"Kappa\"])\n",
        "    print(\"Geometric Mean:\", metrics[\"Geometric Mean\"])\n",
        "    print(\"Balanced Accuracy:\", metrics[\"Balanced Accuracy\"])\n",
        "    print(\"Confusion Matrix:\")\n",
        "    print(metrics[\"Confusion Matrix\"])\n",
        "    print(\"\\n\")\n",
        "\n",
        "# Plot confusion matrices\n",
        "plt.figure(figsize=(10, 10))\n",
        "for i, (name, metrics) in enumerate(results.items()):\n",
        "    plt.subplot(3, 2, i+1)\n",
        "    sns.heatmap(metrics[\"Confusion Matrix\"], annot=True, fmt=\"d\", cmap=\"coolwarm\", cbar=False)\n",
        "    plt.title(f\"Confusion Matrix - {name}\")\n",
        "    plt.xlabel(\"Predicted\")\n",
        "    plt.ylabel(\"True\")\n",
        "plt.tight_layout()\n",
        "plt.show()"
      ],
      "metadata": {
        "colab": {
          "base_uri": "https://localhost:8080/",
          "height": 1000
        },
        "id": "YvuMEgcxbSMQ",
        "outputId": "797a64f0-e081-40ee-9697-8d2c48b4525f"
      },
      "execution_count": 77,
      "outputs": [
        {
          "output_type": "stream",
          "name": "stdout",
          "text": [
            "--- SVM ---\n",
            "Accuracy: 0.7867132867132867\n",
            "Precision: 0.7628205128205128\n",
            "Recall: 0.8321678321678322\n",
            "F1 Score: 0.7959866220735786\n",
            "ROC AUC: 0.7867132867132867\n",
            "Kappa: 0.5734265734265734\n",
            "Geometric Mean: 0.7853990576698846\n",
            "Balanced Accuracy: 0.7867132867132867\n",
            "Confusion Matrix:\n",
            "[[106  37]\n",
            " [ 24 119]]\n",
            "\n",
            "\n",
            "--- NB_ ---\n",
            "Accuracy: 0.8531468531468531\n",
            "Precision: 0.8435374149659864\n",
            "Recall: 0.8671328671328671\n",
            "F1 Score: 0.8551724137931034\n",
            "ROC AUC: 0.8531468531468531\n",
            "Kappa: 0.7062937062937062\n",
            "Geometric Mean: 0.853032205984722\n",
            "Balanced Accuracy: 0.8531468531468531\n",
            "Confusion Matrix:\n",
            "[[120  23]\n",
            " [ 19 124]]\n",
            "\n",
            "\n",
            "--- DT_ ---\n",
            "Accuracy: 0.8356643356643356\n",
            "Precision: 0.8333333333333334\n",
            "Recall: 0.8391608391608392\n",
            "F1 Score: 0.8362369337979094\n",
            "ROC AUC: 0.8356643356643357\n",
            "Kappa: 0.6713286713286714\n",
            "Geometric Mean: 0.8356570207714493\n",
            "Balanced Accuracy: 0.8356643356643356\n",
            "Confusion Matrix:\n",
            "[[119  24]\n",
            " [ 23 120]]\n",
            "\n",
            "\n",
            "--- RF_ ---\n",
            "Accuracy: 0.8706293706293706\n",
            "Precision: 0.8397435897435898\n",
            "Recall: 0.916083916083916\n",
            "F1 Score: 0.8762541806020068\n",
            "ROC AUC: 0.8706293706293706\n",
            "Kappa: 0.7412587412587412\n",
            "Geometric Mean: 0.8694419965127143\n",
            "Balanced Accuracy: 0.8706293706293706\n",
            "Confusion Matrix:\n",
            "[[118  25]\n",
            " [ 12 131]]\n",
            "\n",
            "\n",
            "--- LR_ ---\n",
            "Accuracy: 0.8566433566433567\n",
            "Precision: 0.8445945945945946\n",
            "Recall: 0.8741258741258742\n",
            "F1 Score: 0.8591065292096219\n",
            "ROC AUC: 0.8566433566433567\n",
            "Kappa: 0.7132867132867133\n",
            "Geometric Mean: 0.8564649450290833\n",
            "Balanced Accuracy: 0.8566433566433567\n",
            "Confusion Matrix:\n",
            "[[120  23]\n",
            " [ 18 125]]\n",
            "\n",
            "\n"
          ]
        },
        {
          "output_type": "display_data",
          "data": {
            "text/plain": [
              "<Figure size 1000x1000 with 5 Axes>"
            ],
            "image/png": "[encoded data removed]"
          },
          "metadata": {}
        }
      ]
    },
    {
      "cell_type": "markdown",
      "source": [
        "### **Apply Imbalance Techniques**"
      ],
      "metadata": {
        "id": "H4BIKT5kd49N"
      }
    },
    {
      "cell_type": "markdown",
      "source": [
        "**Explore the class distribution**"
      ],
      "metadata": {
        "id": "RM503QBYefJP"
      }
    },
    {
      "cell_type": "code",
      "source": [
        "class_counts = data['mental_health_diagnosed'].value_counts()\n",
        "print(class_counts)"
      ],
      "metadata": {
        "colab": {
          "base_uri": "https://localhost:8080/"
        },
        "id": "0E8zZcFkejF1",
        "outputId": "1399f2d9-11d0-4a48-fd4f-13013f23c94d"
      },
      "execution_count": 78,
      "outputs": [
        {
          "output_type": "stream",
          "name": "stdout",
          "text": [
            "0    716\n",
            "1    714\n",
            "Name: mental_health_diagnosed, dtype: int64\n"
          ]
        }
      ]
    },
    {
      "cell_type": "markdown",
      "source": [
        "*The dataset is relatively balanced, as the difference between the number of samples in each class is minimal.I will internally remove data to simulate different levels of class imbalance and compare the original data with the data after applying class imbalance techniques.This approach is known as undersampling, where you deliberately reduce the number of samples from the majority class to create a more imbalanced dataset.I will artificially create class imbalance and can observe how different models perform on imbalanced data compared to the original balanced data.*"
      ],
      "metadata": {
        "id": "S6uboNnhoR9f"
      }
    },
    {
      "cell_type": "markdown",
      "source": [
        "**Artificial Class Imbalance**\n",
        "\n",
        "Oversampling involves replicating samples from the minority class to increase its size and create a less imbalanced dataset."
      ],
      "metadata": {
        "id": "5Spvifavp4M5"
      }
    },
    {
      "cell_type": "code",
      "source": [
        "majority_class = data[data['mental_health_diagnosed'] == 0]\n",
        "minority_class = data[data['mental_health_diagnosed'] == 1]\n",
        "\n",
        "# Determine the desired imbalance ratio\n",
        "imbalance_ratio = 2  # For a 1:2 imbalance ratio\n",
        "\n",
        "# Calculate the number of samples to replicate from the minority class\n",
        "num_samples_to_replicate = int(len(majority_class) * imbalance_ratio)\n",
        "\n",
        "# Randomly replicate samples from the minority class to match the desired imbalance ratio\n",
        "oversampled_minority = resample(minority_class, replace=True, n_samples=num_samples_to_replicate, random_state=42)\n",
        "\n",
        "# Combine the oversampled minority class with the majority class to create the imbalanced dataset\n",
        "imbalanced_data = pd.concat([majority_class, oversampled_minority])\n",
        "\n",
        "# Shuffle the dataset to ensure random order of samples\n",
        "imbalanced_data = imbalanced_data.sample(frac=1, random_state=42)"
      ],
      "metadata": {
        "id": "a1byhpkNqYYC"
      },
      "execution_count": 79,
      "outputs": []
    },
    {
      "cell_type": "code",
      "source": [
        "updated_class_counts = imbalanced_data['mental_health_diagnosed'].value_counts()\n",
        "print(updated_class_counts)"
      ],
      "metadata": {
        "colab": {
          "base_uri": "https://localhost:8080/"
        },
        "id": "uNjElg-Eq3L_",
        "outputId": "f1c6791e-e577-4b5d-8af2-cf04dbaf2d0a"
      },
      "execution_count": 80,
      "outputs": [
        {
          "output_type": "stream",
          "name": "stdout",
          "text": [
            "1    1432\n",
            "0     716\n",
            "Name: mental_health_diagnosed, dtype: int64\n"
          ]
        }
      ]
    },
    {
      "cell_type": "markdown",
      "source": [
        "#### **Resampling Methods**"
      ],
      "metadata": {
        "id": "6sVi-joWeCi1"
      }
    },
    {
      "cell_type": "markdown",
      "source": [
        "1. Synthetic Minority Over-sampling Technique (SMOTE)"
      ],
      "metadata": {
        "id": "j0AlXqOZeT69"
      }
    },
    {
      "cell_type": "code",
      "source": [],
      "metadata": {
        "id": "N3Kvvw1WeZPs"
      },
      "execution_count": 80,
      "outputs": []
    }
  ]
}