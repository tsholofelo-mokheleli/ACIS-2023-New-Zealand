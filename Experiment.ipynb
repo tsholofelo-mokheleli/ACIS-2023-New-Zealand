{
  "nbformat": 4,
  "nbformat_minor": 0,
  "metadata": {
    "colab": {
      "provenance": [],
      "collapsed_sections": [
        "Q8o_iTodY8-A",
        "sFk-LPWnRhno",
        "gj__YJteYJiS"
      ],
      "authorship_tag": "ABX9TyOH7Bg4rFil/ND0tEfGmPqv",
      "include_colab_link": true
    },
    "kernelspec": {
      "name": "python3",
      "display_name": "Python 3"
    },
    "language_info": {
      "name": "python"
    }
  },
  "cells": [
    {
      "cell_type": "markdown",
      "metadata": {
        "id": "view-in-github",
        "colab_type": "text"
      },
      "source": [
        "<a href=\"https://colab.research.google.com/github/tsholofelo-mokheleli/ACIS-2023-New-Zealand/blob/main/Experiment.ipynb\" target=\"_parent\"><img src=\"https://colab.research.google.com/assets/colab-badge.svg\" alt=\"Open In Colab\"/></a>"
      ]
    },
    {
      "cell_type": "markdown",
      "source": [
        "# **Imbalance Techniques Experiment**\n",
        "\n",
        "**Choose Imbalance Techniques**\n",
        "1. Resampling Methods:\n",
        "  * Oversampling\n",
        "    * SMOTE\n",
        "    * ADASYN\n",
        "  * Undersampling\n",
        "    * Tomek links\n",
        "    * Near Miss\n",
        "\n",
        "2. Ensemble Techniques:\n",
        "  * Random Forest\n",
        "  * Boosting algorithms\n",
        "\n",
        "3. Algorithm-specific Methods\n",
        "  * XGBoost\n",
        "  * LightGBM"
      ],
      "metadata": {
        "id": "IQ4ySBu6T_0U"
      }
    },
    {
      "cell_type": "code",
      "execution_count": 1,
      "metadata": {
        "id": "PyWAcwC-RE75"
      },
      "outputs": [],
      "source": [
        "# Load the libraries\n",
        "\n",
        "import pandas  as pd\n",
        "import numpy as np\n",
        "import seaborn as sns\n",
        "import matplotlib.pyplot as plt\n",
        "import time\n",
        "import psutil\n",
        "import os\n",
        "\n",
        "# Warning filter\n",
        "\n",
        "import warnings\n",
        "warnings.filterwarnings('ignore')\n",
        "cmap=sns.color_palette('Blues_r')\n",
        "\n",
        "# Metrics\n",
        "\n",
        "from sklearn.model_selection import train_test_split\n",
        "from sklearn.metrics import accuracy_score, precision_score, recall_score, f1_score, roc_auc_score, cohen_kappa_score, confusion_matrix, balanced_accuracy_score\n",
        "from imblearn.metrics import geometric_mean_score\n",
        "\n",
        "# Preprocessing\n",
        "\n",
        "from sklearn.preprocessing import LabelEncoder\n",
        "\n",
        "# Algorithmns models\n",
        "\n",
        "from sklearn.svm import SVC\n",
        "from sklearn.naive_bayes import GaussianNB\n",
        "from sklearn.tree import DecisionTreeClassifier\n",
        "from sklearn.linear_model import LogisticRegression\n",
        "\n",
        "from xgboost import XGBClassifier\n",
        "import lightgbm as lgb\n",
        "\n",
        "# Ensemble Methods\n",
        "\n",
        "from sklearn.ensemble import RandomForestClassifier\n",
        "from sklearn.ensemble import AdaBoostClassifier\n",
        "\n",
        "# Class imbalance\n",
        "\n",
        "from imblearn.under_sampling import TomekLinks\n",
        "from imblearn.under_sampling import NearMiss\n",
        "from imblearn.over_sampling import SMOTE\n",
        "from imblearn.over_sampling import ADASYN\n",
        "\n",
        "from sklearn.utils import resample\n",
        "\n",
        "# Plot Theme\n",
        "\n",
        "sns.set_theme(style=\"darkgrid\")\n",
        "plt.style.use(\"ggplot\")"
      ]
    },
    {
      "cell_type": "markdown",
      "source": [
        "**Load Data**"
      ],
      "metadata": {
        "id": "p6Z9OpoxYnrz"
      }
    },
    {
      "cell_type": "code",
      "source": [
        "data = pd.read_csv(\"KNN Imputation Dataset.csv\")"
      ],
      "metadata": {
        "id": "-RKEhDySYpWB"
      },
      "execution_count": 2,
      "outputs": []
    },
    {
      "cell_type": "markdown",
      "source": [
        "**Label Encode, Drop null from target var, and Convert data to Int**"
      ],
      "metadata": {
        "id": "uNnfUsRQ22VP"
      }
    },
    {
      "cell_type": "code",
      "source": [
        "# Initialize LabelEncoder\n",
        "label_encoder = LabelEncoder()\n",
        "\n",
        "# make small letters\n",
        "data['country'] = data['country'].apply(lambda x: x.lower() if isinstance(x, str) else x)\n",
        "\n",
        "# Fit and transform the countries data\n",
        "data[\"country\"] = label_encoder.fit_transform(data['country'])\n",
        "\n",
        "data = data.dropna()\n",
        "\n",
        "# Convert all columns to int data type\n",
        "for column in data.columns:\n",
        "    data[column] = data[column].astype('int64')"
      ],
      "metadata": {
        "id": "vURbuIux2buQ"
      },
      "execution_count": 3,
      "outputs": []
    },
    {
      "cell_type": "code",
      "source": [
        "data.info()"
      ],
      "metadata": {
        "colab": {
          "base_uri": "https://localhost:8080/"
        },
        "id": "Tomgt_H6YyUQ",
        "outputId": "e5030072-8567-47b0-9e4a-ad1fb26c7075"
      },
      "execution_count": 4,
      "outputs": [
        {
          "output_type": "stream",
          "name": "stdout",
          "text": [
            "<class 'pandas.core.frame.DataFrame'>\n",
            "Int64Index: 2189 entries, 0 to 3268\n",
            "Data columns (total 25 columns):\n",
            " #   Column                    Non-Null Count  Dtype\n",
            "---  ------                    --------------  -----\n",
            " 0   self_employed             2189 non-null   int64\n",
            " 1   no_employees              2189 non-null   int64\n",
            " 2   tech_company              2189 non-null   int64\n",
            " 3   company_role              2189 non-null   int64\n",
            " 4   benefits                  2189 non-null   int64\n",
            " 5   care_options              2189 non-null   int64\n",
            " 6   wellness_program          2189 non-null   int64\n",
            " 7   seek_help                 2189 non-null   int64\n",
            " 8   anonymity                 2189 non-null   int64\n",
            " 9   leave                     2189 non-null   int64\n",
            " 10  mental_importance         2189 non-null   int64\n",
            " 11  neg_consequence_coworker  2189 non-null   int64\n",
            " 12  discuss_mh                2189 non-null   int64\n",
            " 13  work_interfere            2189 non-null   int64\n",
            " 14  coworkers                 2189 non-null   int64\n",
            " 15  supervisor                2189 non-null   int64\n",
            " 16  mental_health_interview   2189 non-null   int64\n",
            " 17  family_history            2189 non-null   int64\n",
            " 18  past_mental_health        2189 non-null   int64\n",
            " 19  mental_health             2189 non-null   int64\n",
            " 20  mental_health_diagnosed   2189 non-null   int64\n",
            " 21  treatment                 2189 non-null   int64\n",
            " 22  age                       2189 non-null   int64\n",
            " 23  gender                    2189 non-null   int64\n",
            " 24  country                   2189 non-null   int64\n",
            "dtypes: int64(25)\n",
            "memory usage: 444.6 KB\n"
          ]
        }
      ]
    },
    {
      "cell_type": "code",
      "source": [
        "data.shape"
      ],
      "metadata": {
        "colab": {
          "base_uri": "https://localhost:8080/"
        },
        "id": "kF8jYngC5hv2",
        "outputId": "6ef9bc6e-1cca-4fad-b00d-4f342200c516"
      },
      "execution_count": 5,
      "outputs": [
        {
          "output_type": "execute_result",
          "data": {
            "text/plain": [
              "(2189, 25)"
            ]
          },
          "metadata": {},
          "execution_count": 5
        }
      ]
    },
    {
      "cell_type": "markdown",
      "source": [
        "## **Split Dataset**"
      ],
      "metadata": {
        "id": "Q8o_iTodY8-A"
      }
    },
    {
      "cell_type": "code",
      "source": [
        "X = data.drop([\"mental_health_diagnosed\"], axis=1)\n",
        "y = data['mental_health_diagnosed']\n",
        "\n",
        "X_train, X_test, y_train, y_test = train_test_split(X, y, test_size=0.2,stratify=y, random_state=42)"
      ],
      "metadata": {
        "id": "siXO_QLSZPxZ"
      },
      "execution_count": 6,
      "outputs": []
    },
    {
      "cell_type": "markdown",
      "source": [
        "## **Baseline Model**"
      ],
      "metadata": {
        "id": "XfIdg6aXZgeQ"
      }
    },
    {
      "cell_type": "code",
      "source": [
        "# Define a list of classifiers\n",
        "classifiers = {\n",
        "    \"Support Vector Machine\": SVC(),\n",
        "    \"Naive Bayes\": GaussianNB(),\n",
        "    \"Decision Tree\": DecisionTreeClassifier(),\n",
        "    \"Logistic Regression\": LogisticRegression()\n",
        "}"
      ],
      "metadata": {
        "id": "dIGDcKKLZfNg"
      },
      "execution_count": 7,
      "outputs": []
    },
    {
      "cell_type": "code",
      "source": [
        "# Dictionary to store evaluation metrics\n",
        "results = {}\n",
        "\n",
        "# Loop through each classifier\n",
        "for name, clf in classifiers.items():\n",
        "    # Train the classifier\n",
        "    clf.fit(X_train, y_train)\n",
        "\n",
        "    # Make predictions on the test set\n",
        "    y_pred = clf.predict(X_test)\n",
        "\n",
        "    # Calculate evaluation metrics\n",
        "    accuracy = accuracy_score(y_test, y_pred)\n",
        "    precision = precision_score(y_test, y_pred)\n",
        "    recall = recall_score(y_test, y_pred)\n",
        "    f1 = f1_score(y_test, y_pred)\n",
        "    roc_auc = roc_auc_score(y_test, y_pred)\n",
        "    kappa = cohen_kappa_score(y_test, y_pred)\n",
        "    confusion = confusion_matrix(y_test, y_pred)\n",
        "    geometric_mean = geometric_mean_score(y_test, y_pred)\n",
        "    balanced_accuracy = balanced_accuracy_score(y_test, y_pred)\n",
        "\n",
        "    # Store the results in the dictionary\n",
        "    results[name] = {\n",
        "        \"Accuracy\": accuracy,\n",
        "        \"Precision\": precision,\n",
        "        \"Recall\": recall,\n",
        "        \"F1 Score\": f1,\n",
        "        \"ROC AUC\": roc_auc,\n",
        "        \"Kappa\": kappa,\n",
        "        \"Geometric Mean\": geometric_mean,\n",
        "        \"Balanced Accuracy\": balanced_accuracy,\n",
        "        \"Confusion Matrix\": confusion\n",
        "    }\n",
        "\n",
        "# Display the results\n",
        "for name, metrics in results.items():\n",
        "    print(f\"--- {name} ---\")\n",
        "    print(\"Accuracy: {:.3f}\".format(metrics[\"Accuracy\"]))\n",
        "    print(\"Precision: {:.3f}\".format(metrics[\"Precision\"]))\n",
        "    print(\"Recall: {:.3f}\".format(metrics[\"Recall\"]))\n",
        "    print(\"F1 Score: {:.3f}\".format(metrics[\"F1 Score\"]))\n",
        "    print(\"ROC AUC: {:.3f}\".format(metrics[\"ROC AUC\"]))\n",
        "    print(\"Kappa: {:.3f}\".format(metrics[\"Kappa\"]))\n",
        "    print(\"Geometric Mean: {:.3f}\".format(metrics[\"Geometric Mean\"]))\n",
        "    print(\"Balanced Accuracy: {:.3f}\".format(metrics[\"Balanced Accuracy\"]))\n",
        "    print(\"Confusion Matrix:\")\n",
        "    print(metrics[\"Confusion Matrix\"])\n",
        "    print(\"\\n\")"
      ],
      "metadata": {
        "colab": {
          "base_uri": "https://localhost:8080/"
        },
        "id": "YvuMEgcxbSMQ",
        "outputId": "839914d8-3dba-43d5-fe18-a3630bbe0aa2"
      },
      "execution_count": 8,
      "outputs": [
        {
          "output_type": "stream",
          "name": "stdout",
          "text": [
            "--- Support Vector Machine ---\n",
            "Accuracy: 0.662\n",
            "Precision: 0.662\n",
            "Recall: 1.000\n",
            "F1 Score: 0.797\n",
            "ROC AUC: 0.500\n",
            "Kappa: 0.000\n",
            "Geometric Mean: 0.000\n",
            "Balanced Accuracy: 0.500\n",
            "Confusion Matrix:\n",
            "[[  0 148]\n",
            " [  0 290]]\n",
            "\n",
            "\n",
            "--- Naive Bayes ---\n",
            "Accuracy: 0.868\n",
            "Precision: 0.920\n",
            "Recall: 0.876\n",
            "F1 Score: 0.898\n",
            "ROC AUC: 0.864\n",
            "Kappa: 0.711\n",
            "Geometric Mean: 0.864\n",
            "Balanced Accuracy: 0.864\n",
            "Confusion Matrix:\n",
            "[[126  22]\n",
            " [ 36 254]]\n",
            "\n",
            "\n",
            "--- Decision Tree ---\n",
            "Accuracy: 0.870\n",
            "Precision: 0.915\n",
            "Recall: 0.886\n",
            "F1 Score: 0.900\n",
            "ROC AUC: 0.862\n",
            "Kappa: 0.713\n",
            "Geometric Mean: 0.862\n",
            "Balanced Accuracy: 0.862\n",
            "Confusion Matrix:\n",
            "[[124  24]\n",
            " [ 33 257]]\n",
            "\n",
            "\n",
            "--- Logistic Regression ---\n",
            "Accuracy: 0.895\n",
            "Precision: 0.891\n",
            "Recall: 0.959\n",
            "F1 Score: 0.924\n",
            "ROC AUC: 0.864\n",
            "Kappa: 0.756\n",
            "Geometric Mean: 0.859\n",
            "Balanced Accuracy: 0.864\n",
            "Confusion Matrix:\n",
            "[[114  34]\n",
            " [ 12 278]]\n",
            "\n",
            "\n"
          ]
        }
      ]
    },
    {
      "cell_type": "markdown",
      "source": [
        "## **Apply Imbalance Techniques**"
      ],
      "metadata": {
        "id": "H4BIKT5kd49N"
      }
    },
    {
      "cell_type": "markdown",
      "source": [
        "**Explore the class distribution**"
      ],
      "metadata": {
        "id": "RM503QBYefJP"
      }
    },
    {
      "cell_type": "code",
      "source": [
        "class_counts = data['mental_health_diagnosed'].value_counts()\n",
        "print(class_counts)"
      ],
      "metadata": {
        "colab": {
          "base_uri": "https://localhost:8080/"
        },
        "id": "0E8zZcFkejF1",
        "outputId": "4c62ff4e-d455-41fc-8de8-c61dfa314a1f"
      },
      "execution_count": 9,
      "outputs": [
        {
          "output_type": "stream",
          "name": "stdout",
          "text": [
            "1    1449\n",
            "0     740\n",
            "Name: mental_health_diagnosed, dtype: int64\n"
          ]
        }
      ]
    },
    {
      "cell_type": "markdown",
      "source": [
        "**Visualize the class distribution**"
      ],
      "metadata": {
        "id": "LFtduWV14Qh1"
      }
    },
    {
      "cell_type": "code",
      "source": [
        "# Create a copy of the original dataset\n",
        "new_data = data.copy()\n",
        "\n",
        "mh_mapping = {0: 'No', 1: 'Yes'}\n",
        "new_data['mh_label'] = new_data['mental_health_diagnosed'].map(mh_mapping)\n",
        "\n",
        "plt.figure(figsize=(6, 6))\n",
        "# Plot the distribution based on the new dataset\n",
        "sns.countplot(data=new_data, x='mh_label')\n",
        "plt.xlabel('Mental Health Diagnosed')\n",
        "plt.ylabel('Count')\n",
        "plt.title('Class Distribution Before Class Imbalance')\n",
        "plt.show()"
      ],
      "metadata": {
        "colab": {
          "base_uri": "https://localhost:8080/",
          "height": 574
        },
        "id": "nEjJFIWX4S2f",
        "outputId": "45adc2cf-fa12-4fd3-c4e5-cddfc6ab86dd"
      },
      "execution_count": 10,
      "outputs": [
        {
          "output_type": "display_data",
          "data": {
            "text/plain": [
              "<Figure size 600x600 with 1 Axes>"
            ],
            "image/png": "[encoded data removed]"
          },
          "metadata": {}
        }
      ]
    },
    {
      "cell_type": "markdown",
      "source": [
        "### **Resampling Methods**"
      ],
      "metadata": {
        "id": "6sVi-joWeCi1"
      }
    },
    {
      "cell_type": "markdown",
      "source": [
        "##### **1. Synthetic Minority Over-sampling Technique (SMOTE)**"
      ],
      "metadata": {
        "id": "j0AlXqOZeT69"
      }
    },
    {
      "cell_type": "code",
      "source": [
        "# Apply SMOTE to balance the dataset\n",
        "smote = SMOTE(random_state=42)\n",
        "X_train_resampled, y_train_resampled = smote.fit_resample(X_train, y_train)\n",
        "\n",
        "smote_counts = y_train_resampled.value_counts()\n",
        "print(smote_counts)"
      ],
      "metadata": {
        "id": "7w41gg8l3OCB",
        "colab": {
          "base_uri": "https://localhost:8080/"
        },
        "outputId": "289962ac-5eb3-446b-d3fd-a23fd5203fbd"
      },
      "execution_count": 11,
      "outputs": [
        {
          "output_type": "stream",
          "name": "stdout",
          "text": [
            "1    1159\n",
            "0    1159\n",
            "Name: mental_health_diagnosed, dtype: int64\n"
          ]
        }
      ]
    },
    {
      "cell_type": "code",
      "source": [
        "smote_counts.index = smote_counts.index.map({1: 'Yes', 0: 'No'})\n",
        "\n",
        "plt.figure(figsize=(6, 6))\n",
        "plt.bar(smote_counts.index, smote_counts.values)\n",
        "plt.xlabel('Class Label')\n",
        "plt.ylabel('Count')\n",
        "plt.title('SMOTE | ADASYN - Class Distribution')\n",
        "plt.show()"
      ],
      "metadata": {
        "colab": {
          "base_uri": "https://localhost:8080/",
          "height": 574
        },
        "id": "a1u__1xw4kQ2",
        "outputId": "dc9b0b4e-ce1f-4c87-c430-01069b240d60"
      },
      "execution_count": 12,
      "outputs": [
        {
          "output_type": "display_data",
          "data": {
            "text/plain": [
              "<Figure size 600x600 with 1 Axes>"
            ],
            "image/png": "[encoded data removed]"
          },
          "metadata": {}
        }
      ]
    },
    {
      "cell_type": "code",
      "source": [
        "# Dictionary to store evaluation metrics\n",
        "results = {}\n",
        "\n",
        "# Loop through each classifier\n",
        "for name, clf in classifiers.items():\n",
        "    # Train the classifier\n",
        "    clf.fit(X_train_resampled, y_train_resampled)\n",
        "\n",
        "    # Make predictions on the test set\n",
        "    y_pred = clf.predict(X_test)\n",
        "\n",
        "    # Calculate evaluation metrics\n",
        "    accuracy = accuracy_score(y_test, y_pred)\n",
        "    precision = precision_score(y_test, y_pred)\n",
        "    recall = recall_score(y_test, y_pred)\n",
        "    f1 = f1_score(y_test, y_pred)\n",
        "    roc_auc = roc_auc_score(y_test, y_pred)\n",
        "    kappa = cohen_kappa_score(y_test, y_pred)\n",
        "    confusion = confusion_matrix(y_test, y_pred)\n",
        "    geometric_mean = geometric_mean_score(y_test, y_pred)\n",
        "    balanced_accuracy = balanced_accuracy_score(y_test, y_pred)\n",
        "\n",
        "    # Store the results in the dictionary\n",
        "    results[name] = {\n",
        "        \"Accuracy\": accuracy,\n",
        "        \"Precision\": precision,\n",
        "        \"Recall\": recall,\n",
        "        \"F1 Score\": f1,\n",
        "        \"ROC AUC\": roc_auc,\n",
        "        \"Kappa\": kappa,\n",
        "        \"Geometric Mean\": geometric_mean,\n",
        "        \"Balanced Accuracy\": balanced_accuracy,\n",
        "        \"Confusion Matrix\": confusion\n",
        "    }\n",
        "\n",
        "# Display the results\n",
        "for name, metrics in results.items():\n",
        "    print(f\"--- {name} ---\")\n",
        "    print(\"Accuracy: {:.3f}\".format(metrics[\"Accuracy\"]))\n",
        "    print(\"Precision: {:.3f}\".format(metrics[\"Precision\"]))\n",
        "    print(\"Recall: {:.3f}\".format(metrics[\"Recall\"]))\n",
        "    print(\"F1 Score: {:.3f}\".format(metrics[\"F1 Score\"]))\n",
        "    print(\"ROC AUC: {:.3f}\".format(metrics[\"ROC AUC\"]))\n",
        "    print(\"Kappa: {:.3f}\".format(metrics[\"Kappa\"]))\n",
        "    print(\"Geometric Mean: {:.3f}\".format(metrics[\"Geometric Mean\"]))\n",
        "    print(\"Balanced Accuracy: {:.3f}\".format(metrics[\"Balanced Accuracy\"]))\n",
        "    print(\"Confusion Matrix:\")\n",
        "    print(metrics[\"Confusion Matrix\"])\n",
        "    print(\"\\n\")"
      ],
      "metadata": {
        "colab": {
          "base_uri": "https://localhost:8080/"
        },
        "id": "d-sXXCLD5eF3",
        "outputId": "71197a9d-4f32-43a8-b3dd-7201b32b087d"
      },
      "execution_count": 13,
      "outputs": [
        {
          "output_type": "stream",
          "name": "stdout",
          "text": [
            "--- Support Vector Machine ---\n",
            "Accuracy: 0.769\n",
            "Precision: 0.827\n",
            "Recall: 0.824\n",
            "F1 Score: 0.826\n",
            "ROC AUC: 0.743\n",
            "Kappa: 0.485\n",
            "Geometric Mean: 0.739\n",
            "Balanced Accuracy: 0.743\n",
            "Confusion Matrix:\n",
            "[[ 98  50]\n",
            " [ 51 239]]\n",
            "\n",
            "\n",
            "--- Naive Bayes ---\n",
            "Accuracy: 0.870\n",
            "Precision: 0.918\n",
            "Recall: 0.883\n",
            "F1 Score: 0.900\n",
            "ROC AUC: 0.864\n",
            "Kappa: 0.714\n",
            "Geometric Mean: 0.863\n",
            "Balanced Accuracy: 0.864\n",
            "Confusion Matrix:\n",
            "[[125  23]\n",
            " [ 34 256]]\n",
            "\n",
            "\n",
            "--- Decision Tree ---\n",
            "Accuracy: 0.865\n",
            "Precision: 0.914\n",
            "Recall: 0.879\n",
            "F1 Score: 0.896\n",
            "ROC AUC: 0.859\n",
            "Kappa: 0.704\n",
            "Geometric Mean: 0.858\n",
            "Balanced Accuracy: 0.859\n",
            "Confusion Matrix:\n",
            "[[124  24]\n",
            " [ 35 255]]\n",
            "\n",
            "\n",
            "--- Logistic Regression ---\n",
            "Accuracy: 0.893\n",
            "Precision: 0.896\n",
            "Recall: 0.948\n",
            "F1 Score: 0.921\n",
            "ROC AUC: 0.866\n",
            "Kappa: 0.753\n",
            "Geometric Mean: 0.862\n",
            "Balanced Accuracy: 0.866\n",
            "Confusion Matrix:\n",
            "[[116  32]\n",
            " [ 15 275]]\n",
            "\n",
            "\n"
          ]
        }
      ]
    },
    {
      "cell_type": "markdown",
      "source": [
        "##### **2. Adaptive Synthetic  (ADASYN)**"
      ],
      "metadata": {
        "id": "92WefqQd7IF7"
      }
    },
    {
      "cell_type": "code",
      "source": [
        "adasyn = ADASYN(random_state=42)\n",
        "X_train_resampled, y_train_resampled = adasyn.fit_resample(X_train, y_train)\n",
        "\n",
        "adasyn_counts = y_train_resampled.value_counts()\n",
        "print(adasyn_counts)"
      ],
      "metadata": {
        "colab": {
          "base_uri": "https://localhost:8080/"
        },
        "id": "TZi9GVdj7UJi",
        "outputId": "8c51046c-70e5-4f4d-a421-771adadb5b92"
      },
      "execution_count": 14,
      "outputs": [
        {
          "output_type": "stream",
          "name": "stdout",
          "text": [
            "1    1159\n",
            "0    1152\n",
            "Name: mental_health_diagnosed, dtype: int64\n"
          ]
        }
      ]
    },
    {
      "cell_type": "code",
      "source": [
        "adasyn_counts.index = adasyn_counts.index.map({1: 'Yes', 0: 'No'})\n",
        "\n",
        "plt.figure(figsize=(6, 6))\n",
        "plt.bar(adasyn_counts.index, adasyn_counts.values)\n",
        "plt.xlabel('Class Label')\n",
        "plt.ylabel('Count')\n",
        "plt.title('ADASYN - Class Distribution')\n",
        "plt.xticks(adasyn_counts.index)\n",
        "plt.show()"
      ],
      "metadata": {
        "colab": {
          "base_uri": "https://localhost:8080/",
          "height": 574
        },
        "id": "mCwXwqaC72a2",
        "outputId": "d2de9af0-3652-41cb-cd6b-a31c1e07abce"
      },
      "execution_count": 15,
      "outputs": [
        {
          "output_type": "display_data",
          "data": {
            "text/plain": [
              "<Figure size 600x600 with 1 Axes>"
            ],
            "image/png": "[encoded data removed]"
          },
          "metadata": {}
        }
      ]
    },
    {
      "cell_type": "code",
      "source": [
        "# Dictionary to store evaluation metrics\n",
        "results = {}\n",
        "\n",
        "# Loop through each classifier\n",
        "for name, clf in classifiers.items():\n",
        "    # Train the classifier\n",
        "    clf.fit(X_train_resampled, y_train_resampled)\n",
        "\n",
        "    # Make predictions on the test set\n",
        "    y_pred = clf.predict(X_test)\n",
        "\n",
        "    # Calculate evaluation metrics\n",
        "    accuracy = accuracy_score(y_test, y_pred)\n",
        "    precision = precision_score(y_test, y_pred)\n",
        "    recall = recall_score(y_test, y_pred)\n",
        "    f1 = f1_score(y_test, y_pred)\n",
        "    roc_auc = roc_auc_score(y_test, y_pred)\n",
        "    kappa = cohen_kappa_score(y_test, y_pred)\n",
        "    confusion = confusion_matrix(y_test, y_pred)\n",
        "    geometric_mean = geometric_mean_score(y_test, y_pred)\n",
        "    balanced_accuracy = balanced_accuracy_score(y_test, y_pred)\n",
        "\n",
        "    # Store the results in the dictionary\n",
        "    results[name] = {\n",
        "        \"Accuracy\": accuracy,\n",
        "        \"Precision\": precision,\n",
        "        \"Recall\": recall,\n",
        "        \"F1 Score\": f1,\n",
        "        \"ROC AUC\": roc_auc,\n",
        "        \"Kappa\": kappa,\n",
        "        \"Geometric Mean\": geometric_mean,\n",
        "        \"Balanced Accuracy\": balanced_accuracy,\n",
        "        \"Confusion Matrix\": confusion\n",
        "    }\n",
        "\n",
        "# Display the results\n",
        "for name, metrics in results.items():\n",
        "    print(f\"--- {name} ---\")\n",
        "    print(\"Accuracy: {:.3f}\".format(metrics[\"Accuracy\"]))\n",
        "    print(\"Precision: {:.3f}\".format(metrics[\"Precision\"]))\n",
        "    print(\"Recall: {:.3f}\".format(metrics[\"Recall\"]))\n",
        "    print(\"F1 Score: {:.3f}\".format(metrics[\"F1 Score\"]))\n",
        "    print(\"ROC AUC: {:.3f}\".format(metrics[\"ROC AUC\"]))\n",
        "    print(\"Kappa: {:.3f}\".format(metrics[\"Kappa\"]))\n",
        "    print(\"Geometric Mean: {:.3f}\".format(metrics[\"Geometric Mean\"]))\n",
        "    print(\"Balanced Accuracy: {:.3f}\".format(metrics[\"Balanced Accuracy\"]))\n",
        "    print(\"Confusion Matrix:\")\n",
        "    print(metrics[\"Confusion Matrix\"])\n",
        "    print(\"\\n\")"
      ],
      "metadata": {
        "colab": {
          "base_uri": "https://localhost:8080/"
        },
        "id": "r8M5AwtO-zrD",
        "outputId": "a6aef69f-c1f6-479c-8b21-fcd68fd8af05"
      },
      "execution_count": 16,
      "outputs": [
        {
          "output_type": "stream",
          "name": "stdout",
          "text": [
            "--- Support Vector Machine ---\n",
            "Accuracy: 0.776\n",
            "Precision: 0.818\n",
            "Recall: 0.852\n",
            "F1 Score: 0.834\n",
            "ROC AUC: 0.740\n",
            "Kappa: 0.490\n",
            "Geometric Mean: 0.732\n",
            "Balanced Accuracy: 0.740\n",
            "Confusion Matrix:\n",
            "[[ 93  55]\n",
            " [ 43 247]]\n",
            "\n",
            "\n",
            "--- Naive Bayes ---\n",
            "Accuracy: 0.865\n",
            "Precision: 0.923\n",
            "Recall: 0.869\n",
            "F1 Score: 0.895\n",
            "ROC AUC: 0.864\n",
            "Kappa: 0.707\n",
            "Geometric Mean: 0.864\n",
            "Balanced Accuracy: 0.864\n",
            "Confusion Matrix:\n",
            "[[127  21]\n",
            " [ 38 252]]\n",
            "\n",
            "\n",
            "--- Decision Tree ---\n",
            "Accuracy: 0.888\n",
            "Precision: 0.929\n",
            "Recall: 0.900\n",
            "F1 Score: 0.914\n",
            "ROC AUC: 0.882\n",
            "Kappa: 0.754\n",
            "Geometric Mean: 0.882\n",
            "Balanced Accuracy: 0.882\n",
            "Confusion Matrix:\n",
            "[[128  20]\n",
            " [ 29 261]]\n",
            "\n",
            "\n",
            "--- Logistic Regression ---\n",
            "Accuracy: 0.890\n",
            "Precision: 0.888\n",
            "Recall: 0.955\n",
            "F1 Score: 0.920\n",
            "ROC AUC: 0.859\n",
            "Kappa: 0.746\n",
            "Geometric Mean: 0.854\n",
            "Balanced Accuracy: 0.859\n",
            "Confusion Matrix:\n",
            "[[113  35]\n",
            " [ 13 277]]\n",
            "\n",
            "\n"
          ]
        }
      ]
    },
    {
      "cell_type": "markdown",
      "source": [
        "##### **Tomek Links Under Sampling (TLUS)**"
      ],
      "metadata": {
        "id": "v9AC5YSjAs3q"
      }
    },
    {
      "cell_type": "code",
      "source": [
        "tl = TomekLinks()\n",
        "X_train_resampled, y_train_resampled = tl.fit_resample(X_train, y_train)\n",
        "\n",
        "tl_counts = y_train_resampled.value_counts()\n",
        "print(tl_counts)"
      ],
      "metadata": {
        "colab": {
          "base_uri": "https://localhost:8080/"
        },
        "id": "PPeUYIuIAw5x",
        "outputId": "e7eaeb78-2ab5-4a6d-f553-7ec84b230f4b"
      },
      "execution_count": 17,
      "outputs": [
        {
          "output_type": "stream",
          "name": "stdout",
          "text": [
            "1    1087\n",
            "0     592\n",
            "Name: mental_health_diagnosed, dtype: int64\n"
          ]
        }
      ]
    },
    {
      "cell_type": "code",
      "source": [
        "tl_counts.index = tl_counts.index.map({1: 'Yes', 0: 'No'})\n",
        "\n",
        "plt.figure(figsize=(6, 6))\n",
        "plt.bar(tl_counts.index, tl_counts.values)\n",
        "plt.xlabel('Class Label')\n",
        "plt.ylabel('Count')\n",
        "plt.title('Tomek Links - Class Distribution')\n",
        "plt.show()"
      ],
      "metadata": {
        "colab": {
          "base_uri": "https://localhost:8080/",
          "height": 574
        },
        "id": "_KXBnjUoBj0y",
        "outputId": "62c14d7d-cecc-4ad6-9d79-f61d7a3c6ed1"
      },
      "execution_count": 18,
      "outputs": [
        {
          "output_type": "display_data",
          "data": {
            "text/plain": [
              "<Figure size 600x600 with 1 Axes>"
            ],
            "image/png": "[encoded data removed]"
          },
          "metadata": {}
        }
      ]
    },
    {
      "cell_type": "code",
      "source": [
        "# Dictionary to store evaluation metrics\n",
        "results = {}\n",
        "\n",
        "# Loop through each classifier\n",
        "for name, clf in classifiers.items():\n",
        "    # Train the classifier\n",
        "    clf.fit(X_train_resampled, y_train_resampled)\n",
        "\n",
        "    # Make predictions on the test set\n",
        "    y_pred = clf.predict(X_test)\n",
        "\n",
        "    # Calculate evaluation metrics\n",
        "    accuracy = accuracy_score(y_test, y_pred)\n",
        "    precision = precision_score(y_test, y_pred)\n",
        "    recall = recall_score(y_test, y_pred)\n",
        "    f1 = f1_score(y_test, y_pred)\n",
        "    roc_auc = roc_auc_score(y_test, y_pred)\n",
        "    kappa = cohen_kappa_score(y_test, y_pred)\n",
        "    confusion = confusion_matrix(y_test, y_pred)\n",
        "    geometric_mean = geometric_mean_score(y_test, y_pred)\n",
        "    balanced_accuracy = balanced_accuracy_score(y_test, y_pred)\n",
        "\n",
        "    # Store the results in the dictionary\n",
        "    results[name] = {\n",
        "        \"Accuracy\": accuracy,\n",
        "        \"Precision\": precision,\n",
        "        \"Recall\": recall,\n",
        "        \"F1 Score\": f1,\n",
        "        \"ROC AUC\": roc_auc,\n",
        "        \"Kappa\": kappa,\n",
        "        \"Geometric Mean\": geometric_mean,\n",
        "        \"Balanced Accuracy\": balanced_accuracy,\n",
        "        \"Confusion Matrix\": confusion\n",
        "    }\n",
        "\n",
        "# Display the results\n",
        "for name, metrics in results.items():\n",
        "    print(f\"--- {name} ---\")\n",
        "    print(\"Accuracy: {:.3f}\".format(metrics[\"Accuracy\"]))\n",
        "    print(\"Precision: {:.3f}\".format(metrics[\"Precision\"]))\n",
        "    print(\"Recall: {:.3f}\".format(metrics[\"Recall\"]))\n",
        "    print(\"F1 Score: {:.3f}\".format(metrics[\"F1 Score\"]))\n",
        "    print(\"ROC AUC: {:.3f}\".format(metrics[\"ROC AUC\"]))\n",
        "    print(\"Kappa: {:.3f}\".format(metrics[\"Kappa\"]))\n",
        "    print(\"Geometric Mean: {:.3f}\".format(metrics[\"Geometric Mean\"]))\n",
        "    print(\"Balanced Accuracy: {:.3f}\".format(metrics[\"Balanced Accuracy\"]))\n",
        "    print(\"Confusion Matrix:\")\n",
        "    print(metrics[\"Confusion Matrix\"])\n",
        "    print(\"\\n\")"
      ],
      "metadata": {
        "colab": {
          "base_uri": "https://localhost:8080/"
        },
        "id": "3l2MMwr_BwTr",
        "outputId": "ada579a1-bafb-4631-c807-af9304d7804b"
      },
      "execution_count": 19,
      "outputs": [
        {
          "output_type": "stream",
          "name": "stdout",
          "text": [
            "--- Support Vector Machine ---\n",
            "Accuracy: 0.696\n",
            "Precision: 0.686\n",
            "Recall: 0.997\n",
            "F1 Score: 0.813\n",
            "ROC AUC: 0.552\n",
            "Kappa: 0.134\n",
            "Geometric Mean: 0.328\n",
            "Balanced Accuracy: 0.552\n",
            "Confusion Matrix:\n",
            "[[ 16 132]\n",
            " [  1 289]]\n",
            "\n",
            "\n",
            "--- Naive Bayes ---\n",
            "Accuracy: 0.863\n",
            "Precision: 0.920\n",
            "Recall: 0.869\n",
            "F1 Score: 0.894\n",
            "ROC AUC: 0.860\n",
            "Kappa: 0.702\n",
            "Geometric Mean: 0.860\n",
            "Balanced Accuracy: 0.860\n",
            "Confusion Matrix:\n",
            "[[126  22]\n",
            " [ 38 252]]\n",
            "\n",
            "\n",
            "--- Decision Tree ---\n",
            "Accuracy: 0.863\n",
            "Precision: 0.897\n",
            "Recall: 0.897\n",
            "F1 Score: 0.897\n",
            "ROC AUC: 0.847\n",
            "Kappa: 0.694\n",
            "Geometric Mean: 0.845\n",
            "Balanced Accuracy: 0.847\n",
            "Confusion Matrix:\n",
            "[[118  30]\n",
            " [ 30 260]]\n",
            "\n",
            "\n",
            "--- Logistic Regression ---\n",
            "Accuracy: 0.895\n",
            "Precision: 0.894\n",
            "Recall: 0.955\n",
            "F1 Score: 0.923\n",
            "ROC AUC: 0.866\n",
            "Kappa: 0.757\n",
            "Geometric Mean: 0.862\n",
            "Balanced Accuracy: 0.866\n",
            "Confusion Matrix:\n",
            "[[115  33]\n",
            " [ 13 277]]\n",
            "\n",
            "\n"
          ]
        }
      ]
    },
    {
      "cell_type": "markdown",
      "source": [
        "##### **Near Miss Under Sampling (NMUS)**"
      ],
      "metadata": {
        "id": "zf5DJKUjB_uU"
      }
    },
    {
      "cell_type": "code",
      "source": [
        "nm = NearMiss()\n",
        "X_train_resampled, y_train_resampled = nm.fit_resample(X_train, y_train)\n",
        "\n",
        "nm_counts = y_train_resampled.value_counts()\n",
        "print(nm_counts)"
      ],
      "metadata": {
        "colab": {
          "base_uri": "https://localhost:8080/"
        },
        "id": "hpxfkkQiCJPl",
        "outputId": "7c91206b-0da8-41ca-8c26-b76ee9592dbc"
      },
      "execution_count": 20,
      "outputs": [
        {
          "output_type": "stream",
          "name": "stdout",
          "text": [
            "0    592\n",
            "1    592\n",
            "Name: mental_health_diagnosed, dtype: int64\n"
          ]
        }
      ]
    },
    {
      "cell_type": "code",
      "source": [
        "nm_counts.index = nm_counts.index.map({1: 'Yes', 0: 'No'})\n",
        "\n",
        "plt.figure(figsize=(6, 6))\n",
        "plt.bar(nm_counts.index, nm_counts.values)\n",
        "plt.xlabel('Class Label')\n",
        "plt.ylabel('Count')\n",
        "plt.title('Near Miss - Class Distribution')\n",
        "plt.show()"
      ],
      "metadata": {
        "colab": {
          "base_uri": "https://localhost:8080/",
          "height": 574
        },
        "id": "5J1B4iFuCVvm",
        "outputId": "aa7bbf4b-b1e3-43a0-e51e-03f347ff7c08"
      },
      "execution_count": 21,
      "outputs": [
        {
          "output_type": "display_data",
          "data": {
            "text/plain": [
              "<Figure size 600x600 with 1 Axes>"
            ],
            "image/png": "[encoded data removed]"
          },
          "metadata": {}
        }
      ]
    },
    {
      "cell_type": "code",
      "source": [
        "# Dictionary to store evaluation metrics\n",
        "results = {}\n",
        "\n",
        "# Loop through each classifier\n",
        "for name, clf in classifiers.items():\n",
        "    # Train the classifier\n",
        "    clf.fit(X_train_resampled, y_train_resampled)\n",
        "\n",
        "    # Make predictions on the test set\n",
        "    y_pred = clf.predict(X_test)\n",
        "\n",
        "    # Calculate evaluation metrics\n",
        "    accuracy = accuracy_score(y_test, y_pred)\n",
        "    precision = precision_score(y_test, y_pred)\n",
        "    recall = recall_score(y_test, y_pred)\n",
        "    f1 = f1_score(y_test, y_pred)\n",
        "    roc_auc = roc_auc_score(y_test, y_pred)\n",
        "    kappa = cohen_kappa_score(y_test, y_pred)\n",
        "    confusion = confusion_matrix(y_test, y_pred)\n",
        "    geometric_mean = geometric_mean_score(y_test, y_pred)\n",
        "    balanced_accuracy = balanced_accuracy_score(y_test, y_pred)\n",
        "\n",
        "    # Store the results in the dictionary\n",
        "    results[name] = {\n",
        "        \"Accuracy\": accuracy,\n",
        "        \"Precision\": precision,\n",
        "        \"Recall\": recall,\n",
        "        \"F1 Score\": f1,\n",
        "        \"ROC AUC\": roc_auc,\n",
        "        \"Kappa\": kappa,\n",
        "        \"Geometric Mean\": geometric_mean,\n",
        "        \"Balanced Accuracy\": balanced_accuracy,\n",
        "        \"Confusion Matrix\": confusion\n",
        "    }\n",
        "\n",
        "# Display the results\n",
        "for name, metrics in results.items():\n",
        "    print(f\"--- {name} ---\")\n",
        "    print(\"Accuracy: {:.3f}\".format(metrics[\"Accuracy\"]))\n",
        "    print(\"Precision: {:.3f}\".format(metrics[\"Precision\"]))\n",
        "    print(\"Recall: {:.3f}\".format(metrics[\"Recall\"]))\n",
        "    print(\"F1 Score: {:.3f}\".format(metrics[\"F1 Score\"]))\n",
        "    print(\"ROC AUC: {:.3f}\".format(metrics[\"ROC AUC\"]))\n",
        "    print(\"Kappa: {:.3f}\".format(metrics[\"Kappa\"]))\n",
        "    print(\"Geometric Mean: {:.3f}\".format(metrics[\"Geometric Mean\"]))\n",
        "    print(\"Balanced Accuracy: {:.3f}\".format(metrics[\"Balanced Accuracy\"]))\n",
        "    print(\"Confusion Matrix:\")\n",
        "    print(metrics[\"Confusion Matrix\"])\n",
        "    print(\"\\n\")"
      ],
      "metadata": {
        "colab": {
          "base_uri": "https://localhost:8080/"
        },
        "id": "ah3J9ZAxCDA8",
        "outputId": "329c560d-a4f7-40b9-a0f6-7b8fc152658c"
      },
      "execution_count": 22,
      "outputs": [
        {
          "output_type": "stream",
          "name": "stdout",
          "text": [
            "--- Support Vector Machine ---\n",
            "Accuracy: 0.687\n",
            "Precision: 0.733\n",
            "Recall: 0.831\n",
            "F1 Score: 0.779\n",
            "ROC AUC: 0.618\n",
            "Kappa: 0.253\n",
            "Geometric Mean: 0.580\n",
            "Balanced Accuracy: 0.618\n",
            "Confusion Matrix:\n",
            "[[ 60  88]\n",
            " [ 49 241]]\n",
            "\n",
            "\n",
            "--- Naive Bayes ---\n",
            "Accuracy: 0.813\n",
            "Precision: 0.941\n",
            "Recall: 0.766\n",
            "F1 Score: 0.844\n",
            "ROC AUC: 0.835\n",
            "Kappa: 0.616\n",
            "Geometric Mean: 0.833\n",
            "Balanced Accuracy: 0.835\n",
            "Confusion Matrix:\n",
            "[[134  14]\n",
            " [ 68 222]]\n",
            "\n",
            "\n",
            "--- Decision Tree ---\n",
            "Accuracy: 0.801\n",
            "Precision: 0.911\n",
            "Recall: 0.776\n",
            "F1 Score: 0.838\n",
            "ROC AUC: 0.814\n",
            "Kappa: 0.586\n",
            "Geometric Mean: 0.813\n",
            "Balanced Accuracy: 0.814\n",
            "Confusion Matrix:\n",
            "[[126  22]\n",
            " [ 65 225]]\n",
            "\n",
            "\n",
            "--- Logistic Regression ---\n",
            "Accuracy: 0.845\n",
            "Precision: 0.908\n",
            "Recall: 0.852\n",
            "F1 Score: 0.879\n",
            "ROC AUC: 0.841\n",
            "Kappa: 0.663\n",
            "Geometric Mean: 0.841\n",
            "Balanced Accuracy: 0.841\n",
            "Confusion Matrix:\n",
            "[[123  25]\n",
            " [ 43 247]]\n",
            "\n",
            "\n"
          ]
        }
      ]
    },
    {
      "cell_type": "markdown",
      "source": [
        "### **Ensemble Techniques**"
      ],
      "metadata": {
        "id": "sFk-LPWnRhno"
      }
    },
    {
      "cell_type": "markdown",
      "source": [
        "1. **Random Forest**\n",
        "\n",
        "*Ensemble methods like Random Forest are indeed effective in handling class imbalance because they combine multiple weak learners (decision trees) to create a robust and accurate model. The inherent nature of Random Forest helps in addressing the class imbalance problem by reducing the risk of overfitting to the majority class and improving generalization to the minority class.*\n",
        "\n",
        "2. **Boosting Algorithms**\n",
        "\n",
        "*Boosting algorithms are powerful ensemble methods that can handle class imbalance effectively by giving more emphasis to misclassified instances and focusing on difficult-to-classify samples.  One popular boosting algorithm is AdaBoost (Adaptive Boosting).*"
      ],
      "metadata": {
        "id": "xJOgVxXISEJY"
      }
    },
    {
      "cell_type": "markdown",
      "source": [
        "**Random Forest handles class imbalance effectively because of the following reasons:**\n",
        "\n",
        "1. **Bootstrap Aggregating (Bagging):** Random Forest uses bagging, which means it creates multiple subsets of the training data with replacement. This helps in increasing the representation of the minority class in some of the subsets, making the classifier more robust to imbalanced data.\n",
        "\n",
        "2. **Feature Randomness:** Random Forest selects a random subset of features to split at each node of the decision trees. This randomness further helps in reducing the dominance of the majority class and can improve the overall performance on the minority class.\n",
        "\n",
        "3. **Voting Ensemble:** In the testing phase, the ensemble of decision trees in the Random Forest votes on the final classification. Since each decision tree in the forest may have learned from different subsets of data, it provides a more balanced voting mechanism.\n",
        "\n",
        "4. **Out-of-Bag (OOB) Samples:** Random Forest can also use out-of-bag samples (samples not used during training) to estimate the performance of the model. This helps in getting an unbiased estimate of the model's performance even with imbalanced data.\n",
        "\n",
        "By combining these mechanisms, Random Forest is well-suited for class imbalance problems and can produce reliable and accurate predictions even in the presence of imbalanced classes."
      ],
      "metadata": {
        "id": "ICjLsczTT_va"
      }
    },
    {
      "cell_type": "markdown",
      "source": [
        "**AdaBoost handles class imbalance effectively due to the following reasons:**\n",
        "\n",
        "1. **Weighted Voting:** In AdaBoost, each weak learner (typically decision trees) is assigned a weight based on its accuracy in classifying the training data. Misclassified instances are given higher weights, making subsequent weak learners focus more on correcting those errors.\n",
        "\n",
        "2. **Iterative Learning:** AdaBoost iteratively trains weak learners, and at each iteration, it gives more attention to misclassified instances from the previous iteration. This way, difficult-to-classify samples receive more emphasis during the learning process.\n",
        "\n",
        "3. **Ensemble Aggregation:** The final prediction in AdaBoost is made by aggregating the predictions of all weak learners, with more weight given to the ones with better performance on the training data. This ensemble aggregation further helps in handling class imbalance and producing more accurate predictions.\n",
        "\n",
        "4. **Robustness:** By iteratively adapting to the difficult samples, AdaBoost becomes more robust to imbalanced classes over the course of iterations.\n",
        "\n",
        "Overall, AdaBoost can effectively handle class imbalance by focusing on misclassified instances and adapting to the challenges posed by imbalanced data. It often outperforms traditional classifiers when dealing with skewed class distributions."
      ],
      "metadata": {
        "id": "l08TjscGWoCB"
      }
    },
    {
      "cell_type": "code",
      "source": [
        "# Define a list of Ensemble classifiers\n",
        "EnsembleClassifiers = {\n",
        "    \"Adaptive Boosting\": AdaBoostClassifier(random_state=42),\n",
        "    \"Random Forest\": RandomForestClassifier(random_state=42)\n",
        "}"
      ],
      "metadata": {
        "id": "faGtrj1rVXK0"
      },
      "execution_count": 23,
      "outputs": []
    },
    {
      "cell_type": "code",
      "source": [
        "# Dictionary to store evaluation metrics\n",
        "results = {}\n",
        "\n",
        "# Loop through each classifier\n",
        "for name, clf in EnsembleClassifiers.items():\n",
        "    # Train the classifier\n",
        "    clf.fit(X_train, y_train)\n",
        "\n",
        "    # Make predictions on the test set\n",
        "    y_pred = clf.predict(X_test)\n",
        "\n",
        "    # Calculate evaluation metrics\n",
        "    accuracy = accuracy_score(y_test, y_pred)\n",
        "    precision = precision_score(y_test, y_pred)\n",
        "    recall = recall_score(y_test, y_pred)\n",
        "    f1 = f1_score(y_test, y_pred)\n",
        "    roc_auc = roc_auc_score(y_test, y_pred)\n",
        "    kappa = cohen_kappa_score(y_test, y_pred)\n",
        "    confusion = confusion_matrix(y_test, y_pred)\n",
        "    geometric_mean = geometric_mean_score(y_test, y_pred)\n",
        "    balanced_accuracy = balanced_accuracy_score(y_test, y_pred)\n",
        "\n",
        "    # Store the results in the dictionary\n",
        "    results[name] = {\n",
        "        \"Accuracy\": accuracy,\n",
        "        \"Precision\": precision,\n",
        "        \"Recall\": recall,\n",
        "        \"F1 Score\": f1,\n",
        "        \"ROC AUC\": roc_auc,\n",
        "        \"Kappa\": kappa,\n",
        "        \"Geometric Mean\": geometric_mean,\n",
        "        \"Balanced Accuracy\": balanced_accuracy,\n",
        "        \"Confusion Matrix\": confusion\n",
        "    }\n",
        "\n",
        "# Display the results\n",
        "for name, metrics in results.items():\n",
        "    print(f\"--- {name} ---\")\n",
        "    print(\"Accuracy: {:.3f}\".format(metrics[\"Accuracy\"]))\n",
        "    print(\"Precision: {:.3f}\".format(metrics[\"Precision\"]))\n",
        "    print(\"Recall: {:.3f}\".format(metrics[\"Recall\"]))\n",
        "    print(\"F1 Score: {:.3f}\".format(metrics[\"F1 Score\"]))\n",
        "    print(\"ROC AUC: {:.3f}\".format(metrics[\"ROC AUC\"]))\n",
        "    print(\"Kappa: {:.3f}\".format(metrics[\"Kappa\"]))\n",
        "    print(\"Geometric Mean: {:.3f}\".format(metrics[\"Geometric Mean\"]))\n",
        "    print(\"Balanced Accuracy: {:.3f}\".format(metrics[\"Balanced Accuracy\"]))\n",
        "    print(\"Confusion Matrix:\")\n",
        "    print(metrics[\"Confusion Matrix\"])\n",
        "    print(\"\\n\")"
      ],
      "metadata": {
        "colab": {
          "base_uri": "https://localhost:8080/"
        },
        "id": "_cme00K7SuVM",
        "outputId": "bb6091d4-12a2-48af-e668-59f9fda086d4"
      },
      "execution_count": 24,
      "outputs": [
        {
          "output_type": "stream",
          "name": "stdout",
          "text": [
            "--- Adaptive Boosting ---\n",
            "Accuracy: 0.909\n",
            "Precision: 0.917\n",
            "Recall: 0.948\n",
            "F1 Score: 0.932\n",
            "ROC AUC: 0.890\n",
            "Kappa: 0.792\n",
            "Geometric Mean: 0.888\n",
            "Balanced Accuracy: 0.890\n",
            "Confusion Matrix:\n",
            "[[123  25]\n",
            " [ 15 275]]\n",
            "\n",
            "\n",
            "--- Random Forest ---\n",
            "Accuracy: 0.909\n",
            "Precision: 0.903\n",
            "Recall: 0.966\n",
            "F1 Score: 0.933\n",
            "ROC AUC: 0.881\n",
            "Kappa: 0.789\n",
            "Geometric Mean: 0.877\n",
            "Balanced Accuracy: 0.881\n",
            "Confusion Matrix:\n",
            "[[118  30]\n",
            " [ 10 280]]\n",
            "\n",
            "\n"
          ]
        }
      ]
    },
    {
      "cell_type": "markdown",
      "source": [
        "### **Algorithm-specific Methods**"
      ],
      "metadata": {
        "id": "gj__YJteYJiS"
      }
    },
    {
      "cell_type": "markdown",
      "source": [
        "XGBoost (Extreme Gradient Boosting) is another powerful boosting algorithm that has specific parameters and techniques to handle class imbalance effectively. XGBoost is an enhanced version of Gradient Boosting that leverages a variety of regularization techniques and can handle class imbalance naturally.\n",
        "\n",
        "We used XGBoost in algorithm specific methods because it had specific parameters or techniques to handle class imbalance.\n",
        "\n"
      ],
      "metadata": {
        "id": "taCJ20ADYOAZ"
      }
    },
    {
      "cell_type": "markdown",
      "source": [
        "**XGBoost can handle class imbalance effectively due to the following reasons:**\n",
        "\n",
        "**scale_pos_weight:** The scale_pos_weight parameter helps in handling class imbalance by assigning higher weights to the minority class during the boosting process. This parameter helps in balancing the effect of class distribution and prevents the model from being biased towards the majority class.\n",
        "\n",
        "**Regularization:** XGBoost uses L1 and L2 regularization to prevent overfitting, which can be beneficial when dealing with imbalanced data as it reduces the risk of overfitting to the majority class.\n",
        "\n",
        "**Gradient-based Optimization:** XGBoost employs gradient-based optimization techniques, which allows it to prioritize difficult-to-classify samples during the boosting process, thus making it more robust to imbalanced classes.\n",
        "\n",
        "Overall, XGBoost is an excellent choice for handling class imbalance, as it provides built-in mechanisms to deal with skewed class distributions while delivering high performance and accurate predictions."
      ],
      "metadata": {
        "id": "2rAl3QFQaAZa"
      }
    },
    {
      "cell_type": "code",
      "source": [
        "# Create and set up the XGBoost classifier\n",
        "# You can use scale_pos_weight to handle class imbalance by assigning higher weights to the minority class\n",
        "# The scale_pos_weight should be set as the ratio of the number of negative (majority) class samples to positive (minority) class samples\n",
        "\n",
        "scale_pos_weight = len(y_train[y_train == 0]) / len(y_train[y_train == 1])\n",
        "\n",
        "# Create and set up the LightGBM classifier\n",
        "# You can use the is_unbalance parameter to handle class imbalance by automatically setting the positive (minority) class weight\n",
        "\n",
        "\n",
        "AlgorithmSpecific = {\n",
        "    \"XGBoost\": XGBClassifier(scale_pos_weight=scale_pos_weight, random_state=42),\n",
        "    \"LightGBM\": lgb.LGBMClassifier(is_unbalance=True, random_state=42)\n",
        "}"
      ],
      "metadata": {
        "id": "YT58yyW_YzTJ"
      },
      "execution_count": 25,
      "outputs": []
    },
    {
      "cell_type": "code",
      "source": [
        "# Dictionary to store evaluation metrics\n",
        "results = {}\n",
        "\n",
        "# Loop through each classifier\n",
        "for name, clf in AlgorithmSpecific.items():\n",
        "    # Train the classifier\n",
        "    clf.fit(X_train, y_train)\n",
        "\n",
        "    # Make predictions on the test set\n",
        "    y_pred = clf.predict(X_test)\n",
        "\n",
        "    # Calculate evaluation metrics\n",
        "    accuracy = accuracy_score(y_test, y_pred)\n",
        "    precision = precision_score(y_test, y_pred)\n",
        "    recall = recall_score(y_test, y_pred)\n",
        "    f1 = f1_score(y_test, y_pred)\n",
        "    roc_auc = roc_auc_score(y_test, y_pred)\n",
        "    kappa = cohen_kappa_score(y_test, y_pred)\n",
        "    confusion = confusion_matrix(y_test, y_pred)\n",
        "    geometric_mean = geometric_mean_score(y_test, y_pred)\n",
        "    balanced_accuracy = balanced_accuracy_score(y_test, y_pred)\n",
        "\n",
        "    # Store the results in the dictionary\n",
        "    results[name] = {\n",
        "        \"Accuracy\": accuracy,\n",
        "        \"Precision\": precision,\n",
        "        \"Recall\": recall,\n",
        "        \"F1 Score\": f1,\n",
        "        \"ROC AUC\": roc_auc,\n",
        "        \"Kappa\": kappa,\n",
        "        \"Geometric Mean\": geometric_mean,\n",
        "        \"Balanced Accuracy\": balanced_accuracy,\n",
        "        \"Confusion Matrix\": confusion\n",
        "    }\n",
        "\n",
        "# Display the results\n",
        "for name, metrics in results.items():\n",
        "    print(f\"--- {name} ---\")\n",
        "    print(\"Accuracy: {:.3f}\".format(metrics[\"Accuracy\"]))\n",
        "    print(\"Precision: {:.3f}\".format(metrics[\"Precision\"]))\n",
        "    print(\"Recall: {:.3f}\".format(metrics[\"Recall\"]))\n",
        "    print(\"F1 Score: {:.3f}\".format(metrics[\"F1 Score\"]))\n",
        "    print(\"ROC AUC: {:.3f}\".format(metrics[\"ROC AUC\"]))\n",
        "    print(\"Kappa: {:.3f}\".format(metrics[\"Kappa\"]))\n",
        "    print(\"Geometric Mean: {:.3f}\".format(metrics[\"Geometric Mean\"]))\n",
        "    print(\"Balanced Accuracy: {:.3f}\".format(metrics[\"Balanced Accuracy\"]))\n",
        "    print(\"Confusion Matrix:\")\n",
        "    print(metrics[\"Confusion Matrix\"])\n",
        "    print(\"\\n\")"
      ],
      "metadata": {
        "colab": {
          "base_uri": "https://localhost:8080/"
        },
        "outputId": "85ff22cd-a4a3-46ab-893b-5f887ee82095",
        "id": "kN5jL3OfbDJn"
      },
      "execution_count": 26,
      "outputs": [
        {
          "output_type": "stream",
          "name": "stdout",
          "text": [
            "--- XGBoost ---\n",
            "Accuracy: 0.909\n",
            "Precision: 0.919\n",
            "Recall: 0.945\n",
            "F1 Score: 0.932\n",
            "ROC AUC: 0.891\n",
            "Kappa: 0.793\n",
            "Geometric Mean: 0.890\n",
            "Balanced Accuracy: 0.891\n",
            "Confusion Matrix:\n",
            "[[124  24]\n",
            " [ 16 274]]\n",
            "\n",
            "\n",
            "--- LightGBM ---\n",
            "Accuracy: 0.902\n",
            "Precision: 0.910\n",
            "Recall: 0.945\n",
            "F1 Score: 0.927\n",
            "ROC AUC: 0.881\n",
            "Kappa: 0.777\n",
            "Geometric Mean: 0.879\n",
            "Balanced Accuracy: 0.881\n",
            "Confusion Matrix:\n",
            "[[121  27]\n",
            " [ 16 274]]\n",
            "\n",
            "\n"
          ]
        }
      ]
    }
  ]
}