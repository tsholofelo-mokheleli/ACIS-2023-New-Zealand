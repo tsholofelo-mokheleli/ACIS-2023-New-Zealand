{
  "nbformat": 4,
  "nbformat_minor": 0,
  "metadata": {
    "colab": {
      "provenance": [],
      "authorship_tag": "ABX9TyPN9SDBI0ZBkq06Ev/jokrR",
      "include_colab_link": true
    },
    "kernelspec": {
      "name": "python3",
      "display_name": "Python 3"
    },
    "language_info": {
      "name": "python"
    }
  },
  "cells": [
    {
      "cell_type": "markdown",
      "metadata": {
        "id": "view-in-github",
        "colab_type": "text"
      },
      "source": [
        "<a href=\"https://colab.research.google.com/github/tsholofelo-mokheleli/ACIS-2023-New-Zealand/blob/main/Experiment.ipynb\" target=\"_parent\"><img src=\"https://colab.research.google.com/assets/colab-badge.svg\" alt=\"Open In Colab\"/></a>"
      ]
    },
    {
      "cell_type": "markdown",
      "source": [
        "### **Imbalance Techniques Experiment**\n",
        "\n",
        "**Choose Imbalance Techniques:**\n",
        "1. Resampling Methods:\n",
        "  * Oversampling\n",
        "    * SMOTE\n",
        "    * ADASYN\n",
        "  * Undersampling\n",
        "    * Tomek links\n",
        "    * Near Miss\n",
        "\n",
        "2. Ensemble Techniques:\n",
        "  * Random Forest\n",
        "  * Boosting algorithms\n",
        "\n",
        "3. Algorithm-specific Methods\n",
        "  * XGBoost\n",
        "  * LightGBM\n",
        "\n",
        "4. Cost-sensitive Learning:  *Can be explored later, future research*"
      ],
      "metadata": {
        "id": "IQ4ySBu6T_0U"
      }
    },
    {
      "cell_type": "code",
      "execution_count": 9,
      "metadata": {
        "id": "PyWAcwC-RE75"
      },
      "outputs": [],
      "source": [
        "# Load the libraries\n",
        "\n",
        "import pandas  as pd\n",
        "import numpy as np\n",
        "import seaborn as sns\n",
        "import matplotlib.pyplot as plt\n",
        "import time\n",
        "import psutil\n",
        "import os\n",
        "\n",
        "# Warning filter\n",
        "\n",
        "import warnings\n",
        "warnings.filterwarnings('ignore')\n",
        "cmap=sns.color_palette('Blues_r')\n",
        "\n",
        "# Metrics\n",
        "\n",
        "from sklearn.model_selection import train_test_split, KFold, cross_val_score,GridSearchCV,cross_validate\n",
        "from sklearn.metrics import accuracy_score, precision_score, recall_score, f1_score, roc_auc_score, cohen_kappa_score, confusion_matrix, balanced_accuracy_score\n",
        "from imblearn.metrics import geometric_mean_score\n",
        "\n",
        "# Preprocessing\n",
        "\n",
        "from sklearn.preprocessing import LabelEncoder\n",
        "\n",
        "# Algorithmns models\n",
        "\n",
        "import lightgbm as lgb\n",
        "from sklearn.svm import SVC\n",
        "from sklearn.naive_bayes import GaussianNB\n",
        "from sklearn.tree import DecisionTreeClassifier\n",
        "from sklearn.ensemble import RandomForestClassifier\n",
        "from sklearn.linear_model import LogisticRegression\n",
        "from xgboost import XGBClassifier\n",
        "\n",
        "# Class imbalance\n",
        "\n",
        "from imblearn.under_sampling import TomekLinks\n",
        "from imblearn.under_sampling import NearMiss\n",
        "from imblearn.over_sampling import SMOTE\n",
        "from imblearn.over_sampling import ADASYN\n",
        "\n",
        "from sklearn.utils import resample\n",
        "\n",
        "# Plot Theme\n",
        "\n",
        "sns.set_theme(style=\"darkgrid\")\n",
        "plt.style.use(\"ggplot\")"
      ]
    },
    {
      "cell_type": "markdown",
      "source": [
        "**Load Data**"
      ],
      "metadata": {
        "id": "p6Z9OpoxYnrz"
      }
    },
    {
      "cell_type": "code",
      "source": [
        "data = pd.read_csv(\"KNN Imputation Dataset.csv\")"
      ],
      "metadata": {
        "id": "-RKEhDySYpWB"
      },
      "execution_count": 10,
      "outputs": []
    },
    {
      "cell_type": "markdown",
      "source": [
        "**Label Encode, Drop null from target var, and Convert data to Int**"
      ],
      "metadata": {
        "id": "uNnfUsRQ22VP"
      }
    },
    {
      "cell_type": "code",
      "source": [
        "# Initialize LabelEncoder\n",
        "label_encoder = LabelEncoder()\n",
        "\n",
        "# make small letters\n",
        "data['country'] = data['country'].apply(lambda x: x.lower() if isinstance(x, str) else x)\n",
        "\n",
        "# Fit and transform the countries data\n",
        "data[\"country\"] = label_encoder.fit_transform(data['country'])\n",
        "\n",
        "data = data.dropna()\n",
        "\n",
        "# Convert all columns to int data type\n",
        "for column in data.columns:\n",
        "    data[column] = data[column].astype('int64')"
      ],
      "metadata": {
        "id": "vURbuIux2buQ"
      },
      "execution_count": 12,
      "outputs": []
    },
    {
      "cell_type": "code",
      "source": [
        "data.info()"
      ],
      "metadata": {
        "colab": {
          "base_uri": "https://localhost:8080/"
        },
        "id": "Tomgt_H6YyUQ",
        "outputId": "cdfdfcd6-edd5-407c-847b-935c99783a4f"
      },
      "execution_count": 14,
      "outputs": [
        {
          "output_type": "stream",
          "name": "stdout",
          "text": [
            "<class 'pandas.core.frame.DataFrame'>\n",
            "Int64Index: 2189 entries, 0 to 3268\n",
            "Data columns (total 25 columns):\n",
            " #   Column                    Non-Null Count  Dtype\n",
            "---  ------                    --------------  -----\n",
            " 0   self_employed             2189 non-null   int64\n",
            " 1   no_employees              2189 non-null   int64\n",
            " 2   tech_company              2189 non-null   int64\n",
            " 3   company_role              2189 non-null   int64\n",
            " 4   benefits                  2189 non-null   int64\n",
            " 5   care_options              2189 non-null   int64\n",
            " 6   wellness_program          2189 non-null   int64\n",
            " 7   seek_help                 2189 non-null   int64\n",
            " 8   anonymity                 2189 non-null   int64\n",
            " 9   leave                     2189 non-null   int64\n",
            " 10  mental_importance         2189 non-null   int64\n",
            " 11  neg_consequence_coworker  2189 non-null   int64\n",
            " 12  discuss_mh                2189 non-null   int64\n",
            " 13  work_interfere            2189 non-null   int64\n",
            " 14  coworkers                 2189 non-null   int64\n",
            " 15  supervisor                2189 non-null   int64\n",
            " 16  mental_health_interview   2189 non-null   int64\n",
            " 17  family_history            2189 non-null   int64\n",
            " 18  past_mental_health        2189 non-null   int64\n",
            " 19  mental_health             2189 non-null   int64\n",
            " 20  mental_health_diagnosed   2189 non-null   int64\n",
            " 21  treatment                 2189 non-null   int64\n",
            " 22  age                       2189 non-null   int64\n",
            " 23  gender                    2189 non-null   int64\n",
            " 24  country                   2189 non-null   int64\n",
            "dtypes: int64(25)\n",
            "memory usage: 444.6 KB\n"
          ]
        }
      ]
    },
    {
      "cell_type": "code",
      "source": [
        "data.head()"
      ],
      "metadata": {
        "colab": {
          "base_uri": "https://localhost:8080/",
          "height": 299
        },
        "id": "kF8jYngC5hv2",
        "outputId": "670d2810-5c9c-4361-f99b-a96c8ef1d50e"
      },
      "execution_count": 22,
      "outputs": [
        {
          "output_type": "execute_result",
          "data": {
            "text/plain": [
              "   self_employed  no_employees  tech_company  company_role  benefits  \\\n",
              "0              0             2             1             0         3   \n",
              "1              0             1             1             1         0   \n",
              "2              0             1             1             1         0   \n",
              "3              1             3             0             1         0   \n",
              "4              0             1             0             1         1   \n",
              "\n",
              "   care_options  wellness_program  seek_help  anonymity  leave  ...  \\\n",
              "0             0                 0          0          2      1  ...   \n",
              "1             1                 1          1          1      2  ...   \n",
              "2             1                 0          0          2      3  ...   \n",
              "3             1                 0          0          1      2  ...   \n",
              "4             1                 0          0          0      3  ...   \n",
              "\n",
              "   supervisor  mental_health_interview  family_history  past_mental_health  \\\n",
              "0           2                        2               0                   1   \n",
              "1           2                        0               1                   1   \n",
              "2           2                        1               0                   2   \n",
              "3           2                        2               0                   1   \n",
              "4           2                        0               1                   1   \n",
              "\n",
              "   mental_health  mental_health_diagnosed  treatment  age  gender  country  \n",
              "0              0                        1          0   39       0       77  \n",
              "1              1                        1          1   29       0       78  \n",
              "2              0                        0          1   38       0       77  \n",
              "3              1                        1          1   43       0       77  \n",
              "4              1                        1          1   43       1       78  \n",
              "\n",
              "[5 rows x 25 columns]"
            ],
            "text/html": [
              "\n",
              "\n",
              "  <div id=\"df-3e24de8e-0e9c-4029-879c-efa6fca75373\">\n",
              "    <div class=\"colab-df-container\">\n",
              "      <div>\n",
              "<style scoped>\n",
              "    .dataframe tbody tr th:only-of-type {\n",
              "        vertical-align: middle;\n",
              "    }\n",
              "\n",
              "    .dataframe tbody tr th {\n",
              "        vertical-align: top;\n",
              "    }\n",
              "\n",
              "    .dataframe thead th {\n",
              "        text-align: right;\n",
              "    }\n",
              "</style>\n",
              "<table border=\"1\" class=\"dataframe\">\n",
              "  <thead>\n",
              "    <tr style=\"text-align: right;\">\n",
              "      <th></th>\n",
              "      <th>self_employed</th>\n",
              "      <th>no_employees</th>\n",
              "      <th>tech_company</th>\n",
              "      <th>company_role</th>\n",
              "      <th>benefits</th>\n",
              "      <th>care_options</th>\n",
              "      <th>wellness_program</th>\n",
              "      <th>seek_help</th>\n",
              "      <th>anonymity</th>\n",
              "      <th>leave</th>\n",
              "      <th>...</th>\n",
              "      <th>supervisor</th>\n",
              "      <th>mental_health_interview</th>\n",
              "      <th>family_history</th>\n",
              "      <th>past_mental_health</th>\n",
              "      <th>mental_health</th>\n",
              "      <th>mental_health_diagnosed</th>\n",
              "      <th>treatment</th>\n",
              "      <th>age</th>\n",
              "      <th>gender</th>\n",
              "      <th>country</th>\n",
              "    </tr>\n",
              "  </thead>\n",
              "  <tbody>\n",
              "    <tr>\n",
              "      <th>0</th>\n",
              "      <td>0</td>\n",
              "      <td>2</td>\n",
              "      <td>1</td>\n",
              "      <td>0</td>\n",
              "      <td>3</td>\n",
              "      <td>0</td>\n",
              "      <td>0</td>\n",
              "      <td>0</td>\n",
              "      <td>2</td>\n",
              "      <td>1</td>\n",
              "      <td>...</td>\n",
              "      <td>2</td>\n",
              "      <td>2</td>\n",
              "      <td>0</td>\n",
              "      <td>1</td>\n",
              "      <td>0</td>\n",
              "      <td>1</td>\n",
              "      <td>0</td>\n",
              "      <td>39</td>\n",
              "      <td>0</td>\n",
              "      <td>77</td>\n",
              "    </tr>\n",
              "    <tr>\n",
              "      <th>1</th>\n",
              "      <td>0</td>\n",
              "      <td>1</td>\n",
              "      <td>1</td>\n",
              "      <td>1</td>\n",
              "      <td>0</td>\n",
              "      <td>1</td>\n",
              "      <td>1</td>\n",
              "      <td>1</td>\n",
              "      <td>1</td>\n",
              "      <td>2</td>\n",
              "      <td>...</td>\n",
              "      <td>2</td>\n",
              "      <td>0</td>\n",
              "      <td>1</td>\n",
              "      <td>1</td>\n",
              "      <td>1</td>\n",
              "      <td>1</td>\n",
              "      <td>1</td>\n",
              "      <td>29</td>\n",
              "      <td>0</td>\n",
              "      <td>78</td>\n",
              "    </tr>\n",
              "    <tr>\n",
              "      <th>2</th>\n",
              "      <td>0</td>\n",
              "      <td>1</td>\n",
              "      <td>1</td>\n",
              "      <td>1</td>\n",
              "      <td>0</td>\n",
              "      <td>1</td>\n",
              "      <td>0</td>\n",
              "      <td>0</td>\n",
              "      <td>2</td>\n",
              "      <td>3</td>\n",
              "      <td>...</td>\n",
              "      <td>2</td>\n",
              "      <td>1</td>\n",
              "      <td>0</td>\n",
              "      <td>2</td>\n",
              "      <td>0</td>\n",
              "      <td>0</td>\n",
              "      <td>1</td>\n",
              "      <td>38</td>\n",
              "      <td>0</td>\n",
              "      <td>77</td>\n",
              "    </tr>\n",
              "    <tr>\n",
              "      <th>3</th>\n",
              "      <td>1</td>\n",
              "      <td>3</td>\n",
              "      <td>0</td>\n",
              "      <td>1</td>\n",
              "      <td>0</td>\n",
              "      <td>1</td>\n",
              "      <td>0</td>\n",
              "      <td>0</td>\n",
              "      <td>1</td>\n",
              "      <td>2</td>\n",
              "      <td>...</td>\n",
              "      <td>2</td>\n",
              "      <td>2</td>\n",
              "      <td>0</td>\n",
              "      <td>1</td>\n",
              "      <td>1</td>\n",
              "      <td>1</td>\n",
              "      <td>1</td>\n",
              "      <td>43</td>\n",
              "      <td>0</td>\n",
              "      <td>77</td>\n",
              "    </tr>\n",
              "    <tr>\n",
              "      <th>4</th>\n",
              "      <td>0</td>\n",
              "      <td>1</td>\n",
              "      <td>0</td>\n",
              "      <td>1</td>\n",
              "      <td>1</td>\n",
              "      <td>1</td>\n",
              "      <td>0</td>\n",
              "      <td>0</td>\n",
              "      <td>0</td>\n",
              "      <td>3</td>\n",
              "      <td>...</td>\n",
              "      <td>2</td>\n",
              "      <td>0</td>\n",
              "      <td>1</td>\n",
              "      <td>1</td>\n",
              "      <td>1</td>\n",
              "      <td>1</td>\n",
              "      <td>1</td>\n",
              "      <td>43</td>\n",
              "      <td>1</td>\n",
              "      <td>78</td>\n",
              "    </tr>\n",
              "  </tbody>\n",
              "</table>\n",
              "<p>5 rows × 25 columns</p>\n",
              "</div>\n",
              "      <button class=\"colab-df-convert\" onclick=\"convertToInteractive('df-3e24de8e-0e9c-4029-879c-efa6fca75373')\"\n",
              "              title=\"Convert this dataframe to an interactive table.\"\n",
              "              style=\"display:none;\">\n",
              "\n",
              "  <svg xmlns=\"http://www.w3.org/2000/svg\" height=\"24px\"viewBox=\"0 0 24 24\"\n",
              "       width=\"24px\">\n",
              "    <path d=\"M0 0h24v24H0V0z\" fill=\"none\"/>\n",
              "    <path d=\"M18.56 5.44l.94 2.06.94-2.06 2.06-.94-2.06-.94-.94-2.06-.94 2.06-2.06.94zm-11 1L8.5 8.5l.94-2.06 2.06-.94-2.06-.94L8.5 2.5l-.94 2.06-2.06.94zm10 10l.94 2.06.94-2.06 2.06-.94-2.06-.94-.94-2.06-.94 2.06-2.06.94z\"/><path d=\"M17.41 7.96l-1.37-1.37c-.4-.4-.92-.59-1.43-.59-.52 0-1.04.2-1.43.59L10.3 9.45l-7.72 7.72c-.78.78-.78 2.05 0 2.83L4 21.41c.39.39.9.59 1.41.59.51 0 1.02-.2 1.41-.59l7.78-7.78 2.81-2.81c.8-.78.8-2.07 0-2.86zM5.41 20L4 18.59l7.72-7.72 1.47 1.35L5.41 20z\"/>\n",
              "  </svg>\n",
              "      </button>\n",
              "\n",
              "\n",
              "\n",
              "    <div id=\"df-b8face3c-d426-4fee-bd12-d0a085563d52\">\n",
              "      <button class=\"colab-df-quickchart\" onclick=\"quickchart('df-b8face3c-d426-4fee-bd12-d0a085563d52')\"\n",
              "              title=\"Suggest charts.\"\n",
              "              style=\"display:none;\">\n",
              "\n",
              "<svg xmlns=\"http://www.w3.org/2000/svg\" height=\"24px\"viewBox=\"0 0 24 24\"\n",
              "     width=\"24px\">\n",
              "    <g>\n",
              "        <path d=\"M19 3H5c-1.1 0-2 .9-2 2v14c0 1.1.9 2 2 2h14c1.1 0 2-.9 2-2V5c0-1.1-.9-2-2-2zM9 17H7v-7h2v7zm4 0h-2V7h2v10zm4 0h-2v-4h2v4z\"/>\n",
              "    </g>\n",
              "</svg>\n",
              "      </button>\n",
              "    </div>\n",
              "\n",
              "<style>\n",
              "  .colab-df-quickchart {\n",
              "    background-color: #E8F0FE;\n",
              "    border: none;\n",
              "    border-radius: 50%;\n",
              "    cursor: pointer;\n",
              "    display: none;\n",
              "    fill: #1967D2;\n",
              "    height: 32px;\n",
              "    padding: 0 0 0 0;\n",
              "    width: 32px;\n",
              "  }\n",
              "\n",
              "  .colab-df-quickchart:hover {\n",
              "    background-color: #E2EBFA;\n",
              "    box-shadow: 0px 1px 2px rgba(60, 64, 67, 0.3), 0px 1px 3px 1px rgba(60, 64, 67, 0.15);\n",
              "    fill: #174EA6;\n",
              "  }\n",
              "\n",
              "  [theme=dark] .colab-df-quickchart {\n",
              "    background-color: #3B4455;\n",
              "    fill: #D2E3FC;\n",
              "  }\n",
              "\n",
              "  [theme=dark] .colab-df-quickchart:hover {\n",
              "    background-color: #434B5C;\n",
              "    box-shadow: 0px 1px 3px 1px rgba(0, 0, 0, 0.15);\n",
              "    filter: drop-shadow(0px 1px 2px rgba(0, 0, 0, 0.3));\n",
              "    fill: #FFFFFF;\n",
              "  }\n",
              "</style>\n",
              "\n",
              "    <script>\n",
              "      async function quickchart(key) {\n",
              "        const containerElement = document.querySelector('#' + key);\n",
              "        const charts = await google.colab.kernel.invokeFunction(\n",
              "            'suggestCharts', [key], {});\n",
              "      }\n",
              "    </script>\n",
              "\n",
              "      <script>\n",
              "\n",
              "function displayQuickchartButton(domScope) {\n",
              "  let quickchartButtonEl =\n",
              "    domScope.querySelector('#df-b8face3c-d426-4fee-bd12-d0a085563d52 button.colab-df-quickchart');\n",
              "  quickchartButtonEl.style.display =\n",
              "    google.colab.kernel.accessAllowed ? 'block' : 'none';\n",
              "}\n",
              "\n",
              "        displayQuickchartButton(document);\n",
              "      </script>\n",
              "      <style>\n",
              "    .colab-df-container {\n",
              "      display:flex;\n",
              "      flex-wrap:wrap;\n",
              "      gap: 12px;\n",
              "    }\n",
              "\n",
              "    .colab-df-convert {\n",
              "      background-color: #E8F0FE;\n",
              "      border: none;\n",
              "      border-radius: 50%;\n",
              "      cursor: pointer;\n",
              "      display: none;\n",
              "      fill: #1967D2;\n",
              "      height: 32px;\n",
              "      padding: 0 0 0 0;\n",
              "      width: 32px;\n",
              "    }\n",
              "\n",
              "    .colab-df-convert:hover {\n",
              "      background-color: #E2EBFA;\n",
              "      box-shadow: 0px 1px 2px rgba(60, 64, 67, 0.3), 0px 1px 3px 1px rgba(60, 64, 67, 0.15);\n",
              "      fill: #174EA6;\n",
              "    }\n",
              "\n",
              "    [theme=dark] .colab-df-convert {\n",
              "      background-color: #3B4455;\n",
              "      fill: #D2E3FC;\n",
              "    }\n",
              "\n",
              "    [theme=dark] .colab-df-convert:hover {\n",
              "      background-color: #434B5C;\n",
              "      box-shadow: 0px 1px 3px 1px rgba(0, 0, 0, 0.15);\n",
              "      filter: drop-shadow(0px 1px 2px rgba(0, 0, 0, 0.3));\n",
              "      fill: #FFFFFF;\n",
              "    }\n",
              "  </style>\n",
              "\n",
              "      <script>\n",
              "        const buttonEl =\n",
              "          document.querySelector('#df-3e24de8e-0e9c-4029-879c-efa6fca75373 button.colab-df-convert');\n",
              "        buttonEl.style.display =\n",
              "          google.colab.kernel.accessAllowed ? 'block' : 'none';\n",
              "\n",
              "        async function convertToInteractive(key) {\n",
              "          const element = document.querySelector('#df-3e24de8e-0e9c-4029-879c-efa6fca75373');\n",
              "          const dataTable =\n",
              "            await google.colab.kernel.invokeFunction('convertToInteractive',\n",
              "                                                     [key], {});\n",
              "          if (!dataTable) return;\n",
              "\n",
              "          const docLinkHtml = 'Like what you see? Visit the ' +\n",
              "            '<a target=\"_blank\" href=https://colab.research.google.com/notebooks/data_table.ipynb>data table notebook</a>'\n",
              "            + ' to learn more about interactive tables.';\n",
              "          element.innerHTML = '';\n",
              "          dataTable['output_type'] = 'display_data';\n",
              "          await google.colab.output.renderOutput(dataTable, element);\n",
              "          const docLink = document.createElement('div');\n",
              "          docLink.innerHTML = docLinkHtml;\n",
              "          element.appendChild(docLink);\n",
              "        }\n",
              "      </script>\n",
              "    </div>\n",
              "  </div>\n"
            ]
          },
          "metadata": {},
          "execution_count": 22
        }
      ]
    },
    {
      "cell_type": "markdown",
      "source": [
        "### **Split Dataset**"
      ],
      "metadata": {
        "id": "Q8o_iTodY8-A"
      }
    },
    {
      "cell_type": "code",
      "source": [
        "X = data.drop([\"mental_health_diagnosed\"], axis=1)\n",
        "y = data['mental_health_diagnosed']\n",
        "\n",
        "X_train, X_test, y_train, y_test = train_test_split(X, y, test_size=0.2,stratify=y, random_state=42)"
      ],
      "metadata": {
        "id": "siXO_QLSZPxZ"
      },
      "execution_count": 18,
      "outputs": []
    },
    {
      "cell_type": "markdown",
      "source": [
        "### **Baseline Model**"
      ],
      "metadata": {
        "id": "XfIdg6aXZgeQ"
      }
    },
    {
      "cell_type": "code",
      "source": [
        "# Define a list of classifiers\n",
        "classifiers = {\n",
        "    \"SVM\": SVC(),\n",
        "    \"NB_\": GaussianNB(),\n",
        "    \"DT_\": DecisionTreeClassifier(),\n",
        "    \"RF_\": RandomForestClassifier(),\n",
        "    \"LR_\": LogisticRegression()\n",
        "}"
      ],
      "metadata": {
        "id": "dIGDcKKLZfNg"
      },
      "execution_count": 19,
      "outputs": []
    },
    {
      "cell_type": "code",
      "source": [
        "# Dictionary to store evaluation metrics\n",
        "results = {}\n",
        "\n",
        "# Loop through each classifier\n",
        "for name, clf in classifiers.items():\n",
        "    # Train the classifier\n",
        "    clf.fit(X_train, y_train)\n",
        "\n",
        "    # Make predictions on the test set\n",
        "    y_pred = clf.predict(X_test)\n",
        "\n",
        "    # Calculate evaluation metrics\n",
        "    accuracy = accuracy_score(y_test, y_pred)\n",
        "    precision = precision_score(y_test, y_pred)\n",
        "    recall = recall_score(y_test, y_pred)\n",
        "    f1 = f1_score(y_test, y_pred)\n",
        "    roc_auc = roc_auc_score(y_test, y_pred)\n",
        "    kappa = cohen_kappa_score(y_test, y_pred)\n",
        "    confusion = confusion_matrix(y_test, y_pred)\n",
        "    geometric_mean = geometric_mean_score(y_test, y_pred)\n",
        "    balanced_accuracy = balanced_accuracy_score(y_test, y_pred)\n",
        "\n",
        "    # Store the results in the dictionary\n",
        "    results[name] = {\n",
        "        \"Accuracy\": accuracy,\n",
        "        \"Precision\": precision,\n",
        "        \"Recall\": recall,\n",
        "        \"F1 Score\": f1,\n",
        "        \"ROC AUC\": roc_auc,\n",
        "        \"Kappa\": kappa,\n",
        "        \"Geometric Mean\": geometric_mean,\n",
        "        \"Balanced Accuracy\": balanced_accuracy,\n",
        "        \"Confusion Matrix\": confusion\n",
        "    }\n",
        "\n",
        "# Display the results\n",
        "for name, metrics in results.items():\n",
        "    print(f\"--- {name} ---\")\n",
        "    print(\"Accuracy:\", metrics[\"Accuracy\"])\n",
        "    print(\"Precision:\", metrics[\"Precision\"])\n",
        "    print(\"Recall:\", metrics[\"Recall\"])\n",
        "    print(\"F1 Score:\", metrics[\"F1 Score\"])\n",
        "    print(\"ROC AUC:\", metrics[\"ROC AUC\"])\n",
        "    print(\"Kappa:\", metrics[\"Kappa\"])\n",
        "    print(\"Geometric Mean:\", metrics[\"Geometric Mean\"])\n",
        "    print(\"Balanced Accuracy:\", metrics[\"Balanced Accuracy\"])\n",
        "    print(\"Confusion Matrix:\")\n",
        "    print(metrics[\"Confusion Matrix\"])\n",
        "    print(\"\\n\")"
      ],
      "metadata": {
        "colab": {
          "base_uri": "https://localhost:8080/"
        },
        "id": "YvuMEgcxbSMQ",
        "outputId": "de4e148b-0187-4563-c231-b70e697760d9"
      },
      "execution_count": 20,
      "outputs": [
        {
          "output_type": "stream",
          "name": "stdout",
          "text": [
            "--- SVM ---\n",
            "Accuracy: 0.6621004566210046\n",
            "Precision: 0.6621004566210046\n",
            "Recall: 1.0\n",
            "F1 Score: 0.7967032967032966\n",
            "ROC AUC: 0.5\n",
            "Kappa: 0.0\n",
            "Geometric Mean: 0.0\n",
            "Balanced Accuracy: 0.5\n",
            "Confusion Matrix:\n",
            "[[  0 148]\n",
            " [  0 290]]\n",
            "\n",
            "\n",
            "--- NB_ ---\n",
            "Accuracy: 0.867579908675799\n",
            "Precision: 0.9202898550724637\n",
            "Recall: 0.8758620689655172\n",
            "F1 Score: 0.8975265017667845\n",
            "ROC AUC: 0.8636067101584343\n",
            "Kappa: 0.7107528350867605\n",
            "Geometric Mean: 0.8635197484778119\n",
            "Balanced Accuracy: 0.8636067101584343\n",
            "Confusion Matrix:\n",
            "[[126  22]\n",
            " [ 36 254]]\n",
            "\n",
            "\n",
            "--- DT_ ---\n",
            "Accuracy: 0.860730593607306\n",
            "Precision: 0.9074733096085409\n",
            "Recall: 0.8793103448275862\n",
            "F1 Score: 0.8931698774080561\n",
            "ROC AUC: 0.8518173345759554\n",
            "Kappa: 0.6933125186528617\n",
            "Geometric Mean: 0.8513735407395444\n",
            "Balanced Accuracy: 0.8518173345759552\n",
            "Confusion Matrix:\n",
            "[[122  26]\n",
            " [ 35 255]]\n",
            "\n",
            "\n",
            "--- RF_ ---\n",
            "Accuracy: 0.9178082191780822\n",
            "Precision: 0.9150326797385621\n",
            "Recall: 0.9655172413793104\n",
            "F1 Score: 0.9395973154362417\n",
            "ROC AUC: 0.8949207828518174\n",
            "Kappa: 0.8113153360137852\n",
            "Geometric Mean: 0.89213191155988\n",
            "Balanced Accuracy: 0.8949207828518173\n",
            "Confusion Matrix:\n",
            "[[122  26]\n",
            " [ 10 280]]\n",
            "\n",
            "\n",
            "--- LR_ ---\n",
            "Accuracy: 0.8949771689497716\n",
            "Precision: 0.8910256410256411\n",
            "Recall: 0.9586206896551724\n",
            "F1 Score: 0.9235880398671097\n",
            "ROC AUC: 0.8644454799627214\n",
            "Kappa: 0.7564195560713768\n",
            "Geometric Mean: 0.8593003070564811\n",
            "Balanced Accuracy: 0.8644454799627214\n",
            "Confusion Matrix:\n",
            "[[114  34]\n",
            " [ 12 278]]\n",
            "\n",
            "\n"
          ]
        }
      ]
    },
    {
      "cell_type": "markdown",
      "source": [
        "### **Apply Imbalance Techniques**"
      ],
      "metadata": {
        "id": "H4BIKT5kd49N"
      }
    },
    {
      "cell_type": "markdown",
      "source": [
        "**Explore the class distribution**"
      ],
      "metadata": {
        "id": "RM503QBYefJP"
      }
    },
    {
      "cell_type": "code",
      "source": [
        "class_counts = data['mental_health_diagnosed'].value_counts()\n",
        "print(class_counts)"
      ],
      "metadata": {
        "colab": {
          "base_uri": "https://localhost:8080/"
        },
        "id": "0E8zZcFkejF1",
        "outputId": "1e6bbe15-f187-4a21-8b5d-44c15b291584"
      },
      "execution_count": null,
      "outputs": [
        {
          "output_type": "stream",
          "name": "stdout",
          "text": [
            "0    716\n",
            "1    714\n",
            "Name: mental_health_diagnosed, dtype: int64\n"
          ]
        }
      ]
    },
    {
      "cell_type": "markdown",
      "source": [
        "**Visualize the class distribution**"
      ],
      "metadata": {
        "id": "LFtduWV14Qh1"
      }
    },
    {
      "cell_type": "code",
      "source": [
        "# Create a copy of the original dataset\n",
        "new_data = data.copy()\n",
        "\n",
        "mh_mapping = {0: 'No', 1: 'Yes'}\n",
        "new_data['mh_label'] = new_data['mental_health_diagnosed'].map(mh_mapping)\n",
        "\n",
        "# Plot the distribution based on the new dataset\n",
        "sns.countplot(data=new_data, x='mh_label')\n",
        "plt.xlabel('Mental Health Diagnosed')\n",
        "plt.ylabel('Count')\n",
        "plt.title('MH Distribution Before Class Imbalance')\n",
        "plt.show()"
      ],
      "metadata": {
        "colab": {
          "base_uri": "https://localhost:8080/",
          "height": 481
        },
        "id": "nEjJFIWX4S2f",
        "outputId": "15f0083f-cc05-4ff1-db36-a52bf5108c8f"
      },
      "execution_count": 17,
      "outputs": [
        {
          "output_type": "display_data",
          "data": {
            "text/plain": [
              "<Figure size 640x480 with 1 Axes>"
            ],
            "image/png": "[encoded data removed]"
          },
          "metadata": {}
        }
      ]
    },
    {
      "cell_type": "markdown",
      "source": [
        "#### **Resampling Methods**"
      ],
      "metadata": {
        "id": "6sVi-joWeCi1"
      }
    },
    {
      "cell_type": "markdown",
      "source": [
        "##### **1. Synthetic Minority Over-sampling Technique (SMOTE)**"
      ],
      "metadata": {
        "id": "j0AlXqOZeT69"
      }
    },
    {
      "cell_type": "code",
      "source": [
        "# Apply SMOTE to balance the dataset\n",
        "smote = SMOTE(random_state=42)\n",
        "X_train_resampled, y_train_resampled = smote.fit_resample(X_train, y_train)\n",
        "\n",
        "smote_imbal = y_train_resampled.value_counts()"
      ],
      "metadata": {
        "id": "7w41gg8l3OCB"
      },
      "execution_count": 23,
      "outputs": []
    },
    {
      "cell_type": "code",
      "source": [
        "# Plot the class distribution\n",
        "plt.figure(figsize=(6, 6))\n",
        "plt.bar(smote_imbal.index, smote_imbal.values)\n",
        "plt.xlabel('Class Label')\n",
        "plt.ylabel('Count')\n",
        "plt.title('SMOTE - Class Distribution')\n",
        "plt.xticks(smote_imbal.index)\n",
        "plt.show()"
      ],
      "metadata": {
        "colab": {
          "base_uri": "https://localhost:8080/",
          "height": 574
        },
        "id": "a1u__1xw4kQ2",
        "outputId": "9f32e835-5845-43b9-cfd8-9f09337969a3"
      },
      "execution_count": 24,
      "outputs": [
        {
          "output_type": "display_data",
          "data": {
            "text/plain": [
              "<Figure size 600x600 with 1 Axes>"
            ],
            "image/png": "[encoded data removed]"
          },
          "metadata": {}
        }
      ]
    },
    {
      "cell_type": "code",
      "source": [
        "# Dictionary to store evaluation metrics\n",
        "results = {}\n",
        "\n",
        "# Loop through each classifier\n",
        "for name, clf in classifiers.items():\n",
        "    # Train the classifier\n",
        "    clf.fit(X_train_resampled, y_train_resampled)\n",
        "\n",
        "    # Make predictions on the test set\n",
        "    y_pred = clf.predict(X_test)\n",
        "\n",
        "    # Calculate evaluation metrics\n",
        "    accuracy = accuracy_score(y_test, y_pred)\n",
        "    precision = precision_score(y_test, y_pred)\n",
        "    recall = recall_score(y_test, y_pred)\n",
        "    f1 = f1_score(y_test, y_pred)\n",
        "    roc_auc = roc_auc_score(y_test, y_pred)\n",
        "    kappa = cohen_kappa_score(y_test, y_pred)\n",
        "    confusion = confusion_matrix(y_test, y_pred)\n",
        "    geometric_mean = geometric_mean_score(y_test, y_pred)\n",
        "    balanced_accuracy = balanced_accuracy_score(y_test, y_pred)\n",
        "\n",
        "    # Store the results in the dictionary\n",
        "    results[name] = {\n",
        "        \"Accuracy\": accuracy,\n",
        "        \"Precision\": precision,\n",
        "        \"Recall\": recall,\n",
        "        \"F1 Score\": f1,\n",
        "        \"ROC AUC\": roc_auc,\n",
        "        \"Kappa\": kappa,\n",
        "        \"Geometric Mean\": geometric_mean,\n",
        "        \"Balanced Accuracy\": balanced_accuracy,\n",
        "        \"Confusion Matrix\": confusion\n",
        "    }\n",
        "\n",
        "# Display the results\n",
        "for name, metrics in results.items():\n",
        "    print(f\"--- {name} ---\")\n",
        "    print(\"Accuracy:\", metrics[\"Accuracy\"])\n",
        "    print(\"Precision:\", metrics[\"Precision\"])\n",
        "    print(\"Recall:\", metrics[\"Recall\"])\n",
        "    print(\"F1 Score:\", metrics[\"F1 Score\"])\n",
        "    print(\"ROC AUC:\", metrics[\"ROC AUC\"])\n",
        "    print(\"Kappa:\", metrics[\"Kappa\"])\n",
        "    print(\"Geometric Mean:\", metrics[\"Geometric Mean\"])\n",
        "    print(\"Balanced Accuracy:\", metrics[\"Balanced Accuracy\"])\n",
        "    print(\"Confusion Matrix:\")\n",
        "    print(metrics[\"Confusion Matrix\"])\n",
        "    print(\"\\n\")"
      ],
      "metadata": {
        "colab": {
          "base_uri": "https://localhost:8080/"
        },
        "id": "d-sXXCLD5eF3",
        "outputId": "42f6e1bb-ab92-4066-a3b2-e63f89ab87ef"
      },
      "execution_count": 25,
      "outputs": [
        {
          "output_type": "stream",
          "name": "stdout",
          "text": [
            "--- SVM ---\n",
            "Accuracy: 0.769406392694064\n",
            "Precision: 0.8269896193771626\n",
            "Recall: 0.8241379310344827\n",
            "F1 Score: 0.8255613126079447\n",
            "ROC AUC: 0.7431500465983225\n",
            "Kappa: 0.48549696448093793\n",
            "Geometric Mean: 0.7387238687991907\n",
            "Balanced Accuracy: 0.7431500465983225\n",
            "Confusion Matrix:\n",
            "[[ 98  50]\n",
            " [ 51 239]]\n",
            "\n",
            "\n",
            "--- NB_ ---\n",
            "Accuracy: 0.8698630136986302\n",
            "Precision: 0.9175627240143369\n",
            "Recall: 0.8827586206896552\n",
            "F1 Score: 0.8998242530755711\n",
            "ROC AUC: 0.8636766076421248\n",
            "Kappa: 0.7143543626003982\n",
            "Geometric Mean: 0.8634657835526911\n",
            "Balanced Accuracy: 0.863676607642125\n",
            "Confusion Matrix:\n",
            "[[125  23]\n",
            " [ 34 256]]\n",
            "\n",
            "\n",
            "--- DT_ ---\n",
            "Accuracy: 0.8698630136986302\n",
            "Precision: 0.911660777385159\n",
            "Recall: 0.8896551724137931\n",
            "F1 Score: 0.9005235602094241\n",
            "ROC AUC: 0.8603681267474372\n",
            "Kappa: 0.7124858926227053\n",
            "Geometric Mean: 0.8598695147980482\n",
            "Balanced Accuracy: 0.860368126747437\n",
            "Confusion Matrix:\n",
            "[[123  25]\n",
            " [ 32 258]]\n",
            "\n",
            "\n",
            "--- RF_ ---\n",
            "Accuracy: 0.906392694063927\n",
            "Precision: 0.9136212624584718\n",
            "Recall: 0.9482758620689655\n",
            "F1 Score: 0.9306260575296109\n",
            "ROC AUC: 0.8863000931966449\n",
            "Kappa: 0.7869194807660362\n",
            "Geometric Mean: 0.8841305668695468\n",
            "Balanced Accuracy: 0.8863000931966449\n",
            "Confusion Matrix:\n",
            "[[122  26]\n",
            " [ 15 275]]\n",
            "\n",
            "\n",
            "--- LR_ ---\n",
            "Accuracy: 0.8926940639269406\n",
            "Precision: 0.8957654723127035\n",
            "Recall: 0.9482758620689655\n",
            "F1 Score: 0.9212730318257957\n",
            "ROC AUC: 0.8660298229263746\n",
            "Kappa: 0.7532423944573634\n",
            "Geometric Mean: 0.8621155625803557\n",
            "Balanced Accuracy: 0.8660298229263746\n",
            "Confusion Matrix:\n",
            "[[116  32]\n",
            " [ 15 275]]\n",
            "\n",
            "\n"
          ]
        }
      ]
    },
    {
      "cell_type": "markdown",
      "source": [
        "#### **2. Adaptive Synthesis**"
      ],
      "metadata": {
        "id": "92WefqQd7IF7"
      }
    },
    {
      "cell_type": "code",
      "source": [],
      "metadata": {
        "id": "TZi9GVdj7UJi"
      },
      "execution_count": null,
      "outputs": []
    }
  ]
}