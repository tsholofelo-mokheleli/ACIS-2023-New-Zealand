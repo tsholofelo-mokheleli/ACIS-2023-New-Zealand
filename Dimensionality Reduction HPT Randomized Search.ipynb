{
  "cells": [
    {
      "cell_type": "markdown",
      "metadata": {
        "id": "view-in-github",
        "colab_type": "text"
      },
      "source": [
        "<a href=\"https://colab.research.google.com/github/tsholofelo-mokheleli/ACIS-2023-New-Zealand/blob/main/Dimensionality%20Reduction%20HPT%20Randomized%20Search.ipynb\" target=\"_parent\"><img src=\"https://colab.research.google.com/assets/colab-badge.svg\" alt=\"Open In Colab\"/></a>"
      ]
    },
    {
      "cell_type": "markdown",
      "metadata": {
        "id": "Uqf5XlVRI_e2"
      },
      "source": [
        "### **Dimensionality Reduction in Machine Learning**"
      ]
    },
    {
      "cell_type": "markdown",
      "metadata": {
        "id": "GQotO93lIzDE"
      },
      "source": [
        "### **Import Libraries**"
      ]
    },
    {
      "cell_type": "code",
      "execution_count": 114,
      "metadata": {
        "id": "LfiquzfWIV7U"
      },
      "outputs": [],
      "source": [
        "# Load the libraries\n",
        "import pandas as pd\n",
        "import matplotlib.pyplot as plt\n",
        "import seaborn as sea\n",
        "import numpy as np\n",
        "import seaborn as sns\n",
        "\n",
        "# Scaler\n",
        "from sklearn.preprocessing import StandardScaler\n",
        "\n",
        "# Dimensionality reduction\n",
        "from sklearn.decomposition import PCA\n",
        "from sklearn.discriminant_analysis import LinearDiscriminantAnalysis\n",
        "\n",
        "# Warning filter\n",
        "import warnings\n",
        "warnings.filterwarnings('ignore')\n",
        "cmap=sns.color_palette('Blues_r')\n",
        "\n",
        "# Metrics\n",
        "from sklearn.model_selection import train_test_split\n",
        "from sklearn.model_selection import cross_val_score\n",
        "from sklearn.metrics import accuracy_score, precision_score, recall_score, f1_score, roc_auc_score, cohen_kappa_score, confusion_matrix, balanced_accuracy_score\n",
        "from imblearn.metrics import geometric_mean_score\n",
        "\n",
        "# Classifiers\n",
        "from sklearn.linear_model import LogisticRegression\n",
        "from sklearn.ensemble import RandomForestClassifier\n",
        "from xgboost import XGBClassifier\n",
        "from sklearn.neighbors import KNeighborsClassifier\n",
        "\n",
        "# Ensemble Method\n",
        "from sklearn.ensemble import BaggingClassifier\n",
        "from sklearn.ensemble import StackingClassifier\n",
        "from sklearn.ensemble import VotingClassifier\n",
        "from sklearn.ensemble import AdaBoostClassifier\n",
        "\n",
        "# Hyper-parameter tuning\n",
        "from sklearn.model_selection import RandomizedSearchCV\n",
        "\n",
        "# Plot Theme\n",
        "sns.set_style(\"darkgrid\")\n",
        "plt.style.use(\"seaborn-deep\")"
      ]
    },
    {
      "cell_type": "markdown",
      "metadata": {
        "id": "v7R4pisEJMl9"
      },
      "source": [
        "### **Load the data**"
      ]
    },
    {
      "cell_type": "code",
      "execution_count": 115,
      "metadata": {
        "id": "iouBu3zQJLrA"
      },
      "outputs": [],
      "source": [
        "data = pd.read_csv(\"Diabetes Multi-Class.csv\", sep=';', on_bad_lines='skip')"
      ]
    },
    {
      "cell_type": "code",
      "execution_count": 116,
      "metadata": {
        "colab": {
          "base_uri": "https://localhost:8080/",
          "height": 235
        },
        "id": "dvMhcVsJJLvl",
        "outputId": "1cd0a6c8-c1d5-4a3e-de7d-cc56a56396b4"
      },
      "outputs": [
        {
          "output_type": "execute_result",
          "data": {
            "text/plain": [
              "   Patient  Diabetes_012  HighBP  HighChol  CholCheck   BMI  Smoker  Stroke  \\\n",
              "0        1           0.0     1.0       1.0        1.0  40.0     1.0     0.0   \n",
              "1        2           0.0     0.0       0.0        0.0  25.0     1.0     0.0   \n",
              "2        3           0.0     1.0       1.0        1.0  28.0     0.0     0.0   \n",
              "3        4           0.0     1.0       0.0        1.0  27.0     0.0     0.0   \n",
              "4        5           0.0     1.0       1.0        1.0  24.0     0.0     0.0   \n",
              "\n",
              "   HeartDiseaseorAttack  PhysActivity  ...  AnyHealthcare  NoDocbcCost  \\\n",
              "0                   0.0           0.0  ...            1.0          0.0   \n",
              "1                   0.0           1.0  ...            0.0          1.0   \n",
              "2                   0.0           0.0  ...            1.0          1.0   \n",
              "3                   0.0           1.0  ...            1.0          0.0   \n",
              "4                   0.0           1.0  ...            1.0          0.0   \n",
              "\n",
              "   GenHlth  MentHlth  PhysHlth  DiffWalk  Sex   Age  Education  Income  \n",
              "0      5.0      18.0      15.0       1.0  0.0   9.0        4.0     3.0  \n",
              "1      3.0       0.0       0.0       0.0  0.0   7.0        6.0     1.0  \n",
              "2      5.0      30.0      30.0       1.0  0.0   9.0        4.0     8.0  \n",
              "3      2.0       0.0       0.0       0.0  0.0  11.0        3.0     6.0  \n",
              "4      2.0       3.0       0.0       0.0  0.0  11.0        5.0     4.0  \n",
              "\n",
              "[5 rows x 23 columns]"
            ],
            "text/html": [
              "\n",
              "  <div id=\"df-1cf357b0-4654-43e1-8f67-2a0487950115\" class=\"colab-df-container\">\n",
              "    <div>\n",
              "<style scoped>\n",
              "    .dataframe tbody tr th:only-of-type {\n",
              "        vertical-align: middle;\n",
              "    }\n",
              "\n",
              "    .dataframe tbody tr th {\n",
              "        vertical-align: top;\n",
              "    }\n",
              "\n",
              "    .dataframe thead th {\n",
              "        text-align: right;\n",
              "    }\n",
              "</style>\n",
              "<table border=\"1\" class=\"dataframe\">\n",
              "  <thead>\n",
              "    <tr style=\"text-align: right;\">\n",
              "      <th></th>\n",
              "      <th>Patient</th>\n",
              "      <th>Diabetes_012</th>\n",
              "      <th>HighBP</th>\n",
              "      <th>HighChol</th>\n",
              "      <th>CholCheck</th>\n",
              "      <th>BMI</th>\n",
              "      <th>Smoker</th>\n",
              "      <th>Stroke</th>\n",
              "      <th>HeartDiseaseorAttack</th>\n",
              "      <th>PhysActivity</th>\n",
              "      <th>...</th>\n",
              "      <th>AnyHealthcare</th>\n",
              "      <th>NoDocbcCost</th>\n",
              "      <th>GenHlth</th>\n",
              "      <th>MentHlth</th>\n",
              "      <th>PhysHlth</th>\n",
              "      <th>DiffWalk</th>\n",
              "      <th>Sex</th>\n",
              "      <th>Age</th>\n",
              "      <th>Education</th>\n",
              "      <th>Income</th>\n",
              "    </tr>\n",
              "  </thead>\n",
              "  <tbody>\n",
              "    <tr>\n",
              "      <th>0</th>\n",
              "      <td>1</td>\n",
              "      <td>0.0</td>\n",
              "      <td>1.0</td>\n",
              "      <td>1.0</td>\n",
              "      <td>1.0</td>\n",
              "      <td>40.0</td>\n",
              "      <td>1.0</td>\n",
              "      <td>0.0</td>\n",
              "      <td>0.0</td>\n",
              "      <td>0.0</td>\n",
              "      <td>...</td>\n",
              "      <td>1.0</td>\n",
              "      <td>0.0</td>\n",
              "      <td>5.0</td>\n",
              "      <td>18.0</td>\n",
              "      <td>15.0</td>\n",
              "      <td>1.0</td>\n",
              "      <td>0.0</td>\n",
              "      <td>9.0</td>\n",
              "      <td>4.0</td>\n",
              "      <td>3.0</td>\n",
              "    </tr>\n",
              "    <tr>\n",
              "      <th>1</th>\n",
              "      <td>2</td>\n",
              "      <td>0.0</td>\n",
              "      <td>0.0</td>\n",
              "      <td>0.0</td>\n",
              "      <td>0.0</td>\n",
              "      <td>25.0</td>\n",
              "      <td>1.0</td>\n",
              "      <td>0.0</td>\n",
              "      <td>0.0</td>\n",
              "      <td>1.0</td>\n",
              "      <td>...</td>\n",
              "      <td>0.0</td>\n",
              "      <td>1.0</td>\n",
              "      <td>3.0</td>\n",
              "      <td>0.0</td>\n",
              "      <td>0.0</td>\n",
              "      <td>0.0</td>\n",
              "      <td>0.0</td>\n",
              "      <td>7.0</td>\n",
              "      <td>6.0</td>\n",
              "      <td>1.0</td>\n",
              "    </tr>\n",
              "    <tr>\n",
              "      <th>2</th>\n",
              "      <td>3</td>\n",
              "      <td>0.0</td>\n",
              "      <td>1.0</td>\n",
              "      <td>1.0</td>\n",
              "      <td>1.0</td>\n",
              "      <td>28.0</td>\n",
              "      <td>0.0</td>\n",
              "      <td>0.0</td>\n",
              "      <td>0.0</td>\n",
              "      <td>0.0</td>\n",
              "      <td>...</td>\n",
              "      <td>1.0</td>\n",
              "      <td>1.0</td>\n",
              "      <td>5.0</td>\n",
              "      <td>30.0</td>\n",
              "      <td>30.0</td>\n",
              "      <td>1.0</td>\n",
              "      <td>0.0</td>\n",
              "      <td>9.0</td>\n",
              "      <td>4.0</td>\n",
              "      <td>8.0</td>\n",
              "    </tr>\n",
              "    <tr>\n",
              "      <th>3</th>\n",
              "      <td>4</td>\n",
              "      <td>0.0</td>\n",
              "      <td>1.0</td>\n",
              "      <td>0.0</td>\n",
              "      <td>1.0</td>\n",
              "      <td>27.0</td>\n",
              "      <td>0.0</td>\n",
              "      <td>0.0</td>\n",
              "      <td>0.0</td>\n",
              "      <td>1.0</td>\n",
              "      <td>...</td>\n",
              "      <td>1.0</td>\n",
              "      <td>0.0</td>\n",
              "      <td>2.0</td>\n",
              "      <td>0.0</td>\n",
              "      <td>0.0</td>\n",
              "      <td>0.0</td>\n",
              "      <td>0.0</td>\n",
              "      <td>11.0</td>\n",
              "      <td>3.0</td>\n",
              "      <td>6.0</td>\n",
              "    </tr>\n",
              "    <tr>\n",
              "      <th>4</th>\n",
              "      <td>5</td>\n",
              "      <td>0.0</td>\n",
              "      <td>1.0</td>\n",
              "      <td>1.0</td>\n",
              "      <td>1.0</td>\n",
              "      <td>24.0</td>\n",
              "      <td>0.0</td>\n",
              "      <td>0.0</td>\n",
              "      <td>0.0</td>\n",
              "      <td>1.0</td>\n",
              "      <td>...</td>\n",
              "      <td>1.0</td>\n",
              "      <td>0.0</td>\n",
              "      <td>2.0</td>\n",
              "      <td>3.0</td>\n",
              "      <td>0.0</td>\n",
              "      <td>0.0</td>\n",
              "      <td>0.0</td>\n",
              "      <td>11.0</td>\n",
              "      <td>5.0</td>\n",
              "      <td>4.0</td>\n",
              "    </tr>\n",
              "  </tbody>\n",
              "</table>\n",
              "<p>5 rows × 23 columns</p>\n",
              "</div>\n",
              "    <div class=\"colab-df-buttons\">\n",
              "\n",
              "  <div class=\"colab-df-container\">\n",
              "    <button class=\"colab-df-convert\" onclick=\"convertToInteractive('df-1cf357b0-4654-43e1-8f67-2a0487950115')\"\n",
              "            title=\"Convert this dataframe to an interactive table.\"\n",
              "            style=\"display:none;\">\n",
              "\n",
              "  <svg xmlns=\"http://www.w3.org/2000/svg\" height=\"24px\" viewBox=\"0 -960 960 960\">\n",
              "    <path d=\"M120-120v-720h720v720H120Zm60-500h600v-160H180v160Zm220 220h160v-160H400v160Zm0 220h160v-160H400v160ZM180-400h160v-160H180v160Zm440 0h160v-160H620v160ZM180-180h160v-160H180v160Zm440 0h160v-160H620v160Z\"/>\n",
              "  </svg>\n",
              "    </button>\n",
              "\n",
              "  <style>\n",
              "    .colab-df-container {\n",
              "      display:flex;\n",
              "      gap: 12px;\n",
              "    }\n",
              "\n",
              "    .colab-df-convert {\n",
              "      background-color: #E8F0FE;\n",
              "      border: none;\n",
              "      border-radius: 50%;\n",
              "      cursor: pointer;\n",
              "      display: none;\n",
              "      fill: #1967D2;\n",
              "      height: 32px;\n",
              "      padding: 0 0 0 0;\n",
              "      width: 32px;\n",
              "    }\n",
              "\n",
              "    .colab-df-convert:hover {\n",
              "      background-color: #E2EBFA;\n",
              "      box-shadow: 0px 1px 2px rgba(60, 64, 67, 0.3), 0px 1px 3px 1px rgba(60, 64, 67, 0.15);\n",
              "      fill: #174EA6;\n",
              "    }\n",
              "\n",
              "    .colab-df-buttons div {\n",
              "      margin-bottom: 4px;\n",
              "    }\n",
              "\n",
              "    [theme=dark] .colab-df-convert {\n",
              "      background-color: #3B4455;\n",
              "      fill: #D2E3FC;\n",
              "    }\n",
              "\n",
              "    [theme=dark] .colab-df-convert:hover {\n",
              "      background-color: #434B5C;\n",
              "      box-shadow: 0px 1px 3px 1px rgba(0, 0, 0, 0.15);\n",
              "      filter: drop-shadow(0px 1px 2px rgba(0, 0, 0, 0.3));\n",
              "      fill: #FFFFFF;\n",
              "    }\n",
              "  </style>\n",
              "\n",
              "    <script>\n",
              "      const buttonEl =\n",
              "        document.querySelector('#df-1cf357b0-4654-43e1-8f67-2a0487950115 button.colab-df-convert');\n",
              "      buttonEl.style.display =\n",
              "        google.colab.kernel.accessAllowed ? 'block' : 'none';\n",
              "\n",
              "      async function convertToInteractive(key) {\n",
              "        const element = document.querySelector('#df-1cf357b0-4654-43e1-8f67-2a0487950115');\n",
              "        const dataTable =\n",
              "          await google.colab.kernel.invokeFunction('convertToInteractive',\n",
              "                                                    [key], {});\n",
              "        if (!dataTable) return;\n",
              "\n",
              "        const docLinkHtml = 'Like what you see? Visit the ' +\n",
              "          '<a target=\"_blank\" href=https://colab.research.google.com/notebooks/data_table.ipynb>data table notebook</a>'\n",
              "          + ' to learn more about interactive tables.';\n",
              "        element.innerHTML = '';\n",
              "        dataTable['output_type'] = 'display_data';\n",
              "        await google.colab.output.renderOutput(dataTable, element);\n",
              "        const docLink = document.createElement('div');\n",
              "        docLink.innerHTML = docLinkHtml;\n",
              "        element.appendChild(docLink);\n",
              "      }\n",
              "    </script>\n",
              "  </div>\n",
              "\n",
              "\n",
              "<div id=\"df-d860c656-bfb5-43ab-8630-071cf59874b9\">\n",
              "  <button class=\"colab-df-quickchart\" onclick=\"quickchart('df-d860c656-bfb5-43ab-8630-071cf59874b9')\"\n",
              "            title=\"Suggest charts.\"\n",
              "            style=\"display:none;\">\n",
              "\n",
              "<svg xmlns=\"http://www.w3.org/2000/svg\" height=\"24px\"viewBox=\"0 0 24 24\"\n",
              "     width=\"24px\">\n",
              "    <g>\n",
              "        <path d=\"M19 3H5c-1.1 0-2 .9-2 2v14c0 1.1.9 2 2 2h14c1.1 0 2-.9 2-2V5c0-1.1-.9-2-2-2zM9 17H7v-7h2v7zm4 0h-2V7h2v10zm4 0h-2v-4h2v4z\"/>\n",
              "    </g>\n",
              "</svg>\n",
              "  </button>\n",
              "\n",
              "<style>\n",
              "  .colab-df-quickchart {\n",
              "    background-color: #E8F0FE;\n",
              "    border: none;\n",
              "    border-radius: 50%;\n",
              "    cursor: pointer;\n",
              "    display: none;\n",
              "    fill: #1967D2;\n",
              "    height: 32px;\n",
              "    padding: 0 0 0 0;\n",
              "    width: 32px;\n",
              "  }\n",
              "\n",
              "  .colab-df-quickchart:hover {\n",
              "    background-color: #E2EBFA;\n",
              "    box-shadow: 0px 1px 2px rgba(60, 64, 67, 0.3), 0px 1px 3px 1px rgba(60, 64, 67, 0.15);\n",
              "    fill: #174EA6;\n",
              "  }\n",
              "\n",
              "  [theme=dark] .colab-df-quickchart {\n",
              "    background-color: #3B4455;\n",
              "    fill: #D2E3FC;\n",
              "  }\n",
              "\n",
              "  [theme=dark] .colab-df-quickchart:hover {\n",
              "    background-color: #434B5C;\n",
              "    box-shadow: 0px 1px 3px 1px rgba(0, 0, 0, 0.15);\n",
              "    filter: drop-shadow(0px 1px 2px rgba(0, 0, 0, 0.3));\n",
              "    fill: #FFFFFF;\n",
              "  }\n",
              "</style>\n",
              "\n",
              "  <script>\n",
              "    async function quickchart(key) {\n",
              "      const charts = await google.colab.kernel.invokeFunction(\n",
              "          'suggestCharts', [key], {});\n",
              "    }\n",
              "    (() => {\n",
              "      let quickchartButtonEl =\n",
              "        document.querySelector('#df-d860c656-bfb5-43ab-8630-071cf59874b9 button');\n",
              "      quickchartButtonEl.style.display =\n",
              "        google.colab.kernel.accessAllowed ? 'block' : 'none';\n",
              "    })();\n",
              "  </script>\n",
              "</div>\n",
              "    </div>\n",
              "  </div>\n"
            ]
          },
          "metadata": {},
          "execution_count": 116
        }
      ],
      "source": [
        "data.head()"
      ]
    },
    {
      "cell_type": "code",
      "execution_count": 117,
      "metadata": {
        "colab": {
          "base_uri": "https://localhost:8080/"
        },
        "id": "n4R3e42iJzR9",
        "outputId": "61600337-4ff9-406e-af28-521b5f4ce0f4"
      },
      "outputs": [
        {
          "output_type": "execute_result",
          "data": {
            "text/plain": [
              "(10000, 23)"
            ]
          },
          "metadata": {},
          "execution_count": 117
        }
      ],
      "source": [
        "data.shape"
      ]
    },
    {
      "cell_type": "code",
      "execution_count": 118,
      "metadata": {
        "colab": {
          "base_uri": "https://localhost:8080/"
        },
        "id": "fFCVDkB_NbBA",
        "outputId": "a79c4ec3-d10e-4271-ae3c-744417e41128"
      },
      "outputs": [
        {
          "output_type": "stream",
          "name": "stdout",
          "text": [
            "<class 'pandas.core.frame.DataFrame'>\n",
            "RangeIndex: 10000 entries, 0 to 9999\n",
            "Data columns (total 23 columns):\n",
            " #   Column                Non-Null Count  Dtype  \n",
            "---  ------                --------------  -----  \n",
            " 0   Patient               10000 non-null  int64  \n",
            " 1   Diabetes_012          10000 non-null  float64\n",
            " 2   HighBP                10000 non-null  float64\n",
            " 3   HighChol              10000 non-null  float64\n",
            " 4   CholCheck             10000 non-null  float64\n",
            " 5   BMI                   10000 non-null  float64\n",
            " 6   Smoker                10000 non-null  float64\n",
            " 7   Stroke                10000 non-null  float64\n",
            " 8   HeartDiseaseorAttack  10000 non-null  float64\n",
            " 9   PhysActivity          10000 non-null  float64\n",
            " 10  Fruits                10000 non-null  float64\n",
            " 11  Veggies               10000 non-null  float64\n",
            " 12  HvyAlcoholConsump     10000 non-null  float64\n",
            " 13  AnyHealthcare         10000 non-null  float64\n",
            " 14  NoDocbcCost           10000 non-null  float64\n",
            " 15  GenHlth               10000 non-null  float64\n",
            " 16  MentHlth              10000 non-null  float64\n",
            " 17  PhysHlth              10000 non-null  float64\n",
            " 18  DiffWalk              10000 non-null  float64\n",
            " 19  Sex                   10000 non-null  float64\n",
            " 20  Age                   10000 non-null  float64\n",
            " 21  Education             10000 non-null  float64\n",
            " 22  Income                10000 non-null  float64\n",
            "dtypes: float64(22), int64(1)\n",
            "memory usage: 1.8 MB\n"
          ]
        }
      ],
      "source": [
        "data.info()"
      ]
    },
    {
      "cell_type": "markdown",
      "metadata": {
        "id": "95fWaYUYNgC_"
      },
      "source": [
        "**Drop null from target var, and Convert data to Float**"
      ]
    },
    {
      "cell_type": "code",
      "execution_count": 119,
      "metadata": {
        "colab": {
          "base_uri": "https://localhost:8080/"
        },
        "id": "KOfyp5gTNfUe",
        "outputId": "34fd2d36-86be-48f4-e7eb-523bfb1122b5"
      },
      "outputs": [
        {
          "output_type": "stream",
          "name": "stdout",
          "text": [
            "<class 'pandas.core.frame.DataFrame'>\n",
            "RangeIndex: 10000 entries, 0 to 9999\n",
            "Data columns (total 22 columns):\n",
            " #   Column                Non-Null Count  Dtype  \n",
            "---  ------                --------------  -----  \n",
            " 0   Diabetes              10000 non-null  float64\n",
            " 1   HighBP                10000 non-null  float64\n",
            " 2   HighChol              10000 non-null  float64\n",
            " 3   CholCheck             10000 non-null  float64\n",
            " 4   BMI                   10000 non-null  float64\n",
            " 5   Smoker                10000 non-null  float64\n",
            " 6   Stroke                10000 non-null  float64\n",
            " 7   HeartDiseaseorAttack  10000 non-null  float64\n",
            " 8   PhysActivity          10000 non-null  float64\n",
            " 9   Fruits                10000 non-null  float64\n",
            " 10  Veggies               10000 non-null  float64\n",
            " 11  HvyAlcoholConsump     10000 non-null  float64\n",
            " 12  AnyHealthcare         10000 non-null  float64\n",
            " 13  NoDocbcCost           10000 non-null  float64\n",
            " 14  GenHlth               10000 non-null  float64\n",
            " 15  MentHlth              10000 non-null  float64\n",
            " 16  PhysHlth              10000 non-null  float64\n",
            " 17  DiffWalk              10000 non-null  float64\n",
            " 18  Sex                   10000 non-null  float64\n",
            " 19  Age                   10000 non-null  float64\n",
            " 20  Education             10000 non-null  float64\n",
            " 21  Income                10000 non-null  float64\n",
            "dtypes: float64(22)\n",
            "memory usage: 1.7 MB\n"
          ]
        }
      ],
      "source": [
        "data = data.drop([\"Patient\"], axis=1)\n",
        "data = data.dropna()\n",
        "data.rename(columns={\"Diabetes_012\": \"Diabetes\"}, inplace=True)\n",
        "\n",
        "# Convert all columns to int data type\n",
        "for column in data.columns:\n",
        "    data[column] = data[column].astype('float')\n",
        "\n",
        "data.info()"
      ]
    },
    {
      "cell_type": "markdown",
      "metadata": {
        "id": "2YSMJYxNVvhP"
      },
      "source": [
        "### **Class Distribution**"
      ]
    },
    {
      "cell_type": "markdown",
      "metadata": {
        "id": "Xeznh_XOO1mf"
      },
      "source": [
        "**Explore the class distribution**"
      ]
    },
    {
      "cell_type": "code",
      "execution_count": 120,
      "metadata": {
        "colab": {
          "base_uri": "https://localhost:8080/"
        },
        "id": "sKD6zX7vO1D3",
        "outputId": "694e0f5c-94de-43c9-f2f9-d2013ee1b639"
      },
      "outputs": [
        {
          "output_type": "stream",
          "name": "stdout",
          "text": [
            "0.0    8216\n",
            "2.0    1606\n",
            "1.0     178\n",
            "Name: Diabetes, dtype: int64\n"
          ]
        }
      ],
      "source": [
        "class_counts = data['Diabetes'].value_counts()\n",
        "print(class_counts)"
      ]
    },
    {
      "cell_type": "markdown",
      "metadata": {
        "id": "Li4Jrv36O90o"
      },
      "source": [
        "**Visualize the class distribution**"
      ]
    },
    {
      "cell_type": "code",
      "execution_count": 121,
      "metadata": {
        "colab": {
          "base_uri": "https://localhost:8080/",
          "height": 472
        },
        "id": "Mc06RoxFO-sf",
        "outputId": "fc27542c-2c43-45a6-e3e8-5e44a7d1c104"
      },
      "outputs": [
        {
          "output_type": "display_data",
          "data": {
            "text/plain": [
              "<Figure size 640x480 with 1 Axes>"
            ],
            "image/png": "[encoded data removed]"
          },
          "metadata": {}
        }
      ],
      "source": [
        "# Create a copy of the original dataset\n",
        "new_data = data.copy()\n",
        "\n",
        "mh_mapping = {0.0: 'No Diabetes', 1.0: 'Prediabetes', 2.0: 'Diabetes'}\n",
        "new_data['dhi_label'] = new_data['Diabetes'].map(mh_mapping)\n",
        "\n",
        "# Plot the distribution based on the new dataset\n",
        "sns.countplot(data=new_data, x='dhi_label')\n",
        "plt.xlabel('Diabetes Status')\n",
        "plt.ylabel('Count')\n",
        "plt.title('Diabetes Class Distribution')\n",
        "plt.show()"
      ]
    },
    {
      "cell_type": "markdown",
      "metadata": {
        "id": "i8lEj_EfV4Ck"
      },
      "source": [
        "### **Standardizing**"
      ]
    },
    {
      "cell_type": "code",
      "execution_count": 122,
      "metadata": {
        "id": "TJgESC9BQR2p"
      },
      "outputs": [],
      "source": [
        "data_x = data.drop([\"Diabetes\"], axis=1)\n",
        "data_y = data['Diabetes']"
      ]
    },
    {
      "cell_type": "code",
      "execution_count": 123,
      "metadata": {
        "colab": {
          "base_uri": "https://localhost:8080/",
          "height": 991
        },
        "id": "3lK2Jd10QHTj",
        "outputId": "56f59589-2660-4a86-f775-6930909f1cac"
      },
      "outputs": [
        {
          "output_type": "display_data",
          "data": {
            "text/plain": [
              "<Figure size 2000x1000 with 1 Axes>"
            ],
            "image/png": "[encoded data removed]"
          },
          "metadata": {}
        }
      ],
      "source": [
        "plt.figure(figsize=(20,10))\n",
        "data_x.boxplot()\n",
        "plt.xticks(rotation=90)\n",
        "plt.title(\"Distribution of the values ​​of all Features\")\n",
        "plt.show()"
      ]
    },
    {
      "cell_type": "markdown",
      "metadata": {
        "id": "Uvhrh-4STq8S"
      },
      "source": [
        "**Standardize the feature columns**"
      ]
    },
    {
      "cell_type": "code",
      "execution_count": 124,
      "metadata": {
        "id": "kmxFRDzNS5ku"
      },
      "outputs": [],
      "source": [
        "scaler = StandardScaler()\n",
        "standardized_features = scaler.fit_transform(data_x)\n",
        "\n",
        "# Convert the standardized features back to a DataFrame\n",
        "std_data = pd.DataFrame(standardized_features, columns=data_x.columns)"
      ]
    },
    {
      "cell_type": "code",
      "execution_count": 125,
      "metadata": {
        "colab": {
          "base_uri": "https://localhost:8080/",
          "height": 255
        },
        "id": "nB7J_K-hTCz6",
        "outputId": "b6e814ea-08fb-404c-ef4d-a4d347013a46"
      },
      "outputs": [
        {
          "output_type": "execute_result",
          "data": {
            "text/plain": [
              "     HighBP  HighChol  CholCheck       BMI    Smoker    Stroke  \\\n",
              "0  1.078036  1.106883   0.200913  1.804549  1.102643 -0.221828   \n",
              "1 -0.927613 -0.903438  -4.977268 -0.564994  1.102643 -0.221828   \n",
              "2  1.078036  1.106883   0.200913 -0.091085 -0.906912 -0.221828   \n",
              "3  1.078036 -0.903438   0.200913 -0.249055 -0.906912 -0.221828   \n",
              "4  1.078036  1.106883   0.200913 -0.722963 -0.906912 -0.221828   \n",
              "\n",
              "   HeartDiseaseorAttack  PhysActivity    Fruits   Veggies  ...  AnyHealthcare  \\\n",
              "0             -0.335182     -1.701646 -1.235011  0.494682  ...       0.253317   \n",
              "1             -0.335182      0.587666 -1.235011 -2.021502  ...      -3.947626   \n",
              "2             -0.335182     -1.701646  0.809709 -2.021502  ...       0.253317   \n",
              "3             -0.335182      0.587666  0.809709  0.494682  ...       0.253317   \n",
              "4             -0.335182      0.587666  0.809709  0.494682  ...       0.253317   \n",
              "\n",
              "   NoDocbcCost   GenHlth  MentHlth  PhysHlth  DiffWalk       Sex       Age  \\\n",
              "0    -0.346514  2.174080  1.844705  1.113405  2.027924 -0.846952  0.295347   \n",
              "1     2.885890  0.362875 -0.450228 -0.519345 -0.493115 -0.846952 -0.372028   \n",
              "2     2.885890  2.174080  3.374660  2.746156  2.027924 -0.846952  0.295347   \n",
              "3    -0.346514 -0.542728 -0.450228 -0.519345 -0.493115 -0.846952  0.962722   \n",
              "4    -0.346514 -0.542728 -0.067739 -0.519345 -0.493115 -0.846952  0.962722   \n",
              "\n",
              "   Education    Income  \n",
              "0  -1.012157 -1.372912  \n",
              "1   0.999484 -2.313455  \n",
              "2  -1.012157  0.978448  \n",
              "3  -2.017977  0.037904  \n",
              "4  -0.006337 -0.902640  \n",
              "\n",
              "[5 rows x 21 columns]"
            ],
            "text/html": [
              "\n",
              "  <div id=\"df-1bc0b5b0-77c3-4354-ac4d-e8a86e0a10bc\" class=\"colab-df-container\">\n",
              "    <div>\n",
              "<style scoped>\n",
              "    .dataframe tbody tr th:only-of-type {\n",
              "        vertical-align: middle;\n",
              "    }\n",
              "\n",
              "    .dataframe tbody tr th {\n",
              "        vertical-align: top;\n",
              "    }\n",
              "\n",
              "    .dataframe thead th {\n",
              "        text-align: right;\n",
              "    }\n",
              "</style>\n",
              "<table border=\"1\" class=\"dataframe\">\n",
              "  <thead>\n",
              "    <tr style=\"text-align: right;\">\n",
              "      <th></th>\n",
              "      <th>HighBP</th>\n",
              "      <th>HighChol</th>\n",
              "      <th>CholCheck</th>\n",
              "      <th>BMI</th>\n",
              "      <th>Smoker</th>\n",
              "      <th>Stroke</th>\n",
              "      <th>HeartDiseaseorAttack</th>\n",
              "      <th>PhysActivity</th>\n",
              "      <th>Fruits</th>\n",
              "      <th>Veggies</th>\n",
              "      <th>...</th>\n",
              "      <th>AnyHealthcare</th>\n",
              "      <th>NoDocbcCost</th>\n",
              "      <th>GenHlth</th>\n",
              "      <th>MentHlth</th>\n",
              "      <th>PhysHlth</th>\n",
              "      <th>DiffWalk</th>\n",
              "      <th>Sex</th>\n",
              "      <th>Age</th>\n",
              "      <th>Education</th>\n",
              "      <th>Income</th>\n",
              "    </tr>\n",
              "  </thead>\n",
              "  <tbody>\n",
              "    <tr>\n",
              "      <th>0</th>\n",
              "      <td>1.078036</td>\n",
              "      <td>1.106883</td>\n",
              "      <td>0.200913</td>\n",
              "      <td>1.804549</td>\n",
              "      <td>1.102643</td>\n",
              "      <td>-0.221828</td>\n",
              "      <td>-0.335182</td>\n",
              "      <td>-1.701646</td>\n",
              "      <td>-1.235011</td>\n",
              "      <td>0.494682</td>\n",
              "      <td>...</td>\n",
              "      <td>0.253317</td>\n",
              "      <td>-0.346514</td>\n",
              "      <td>2.174080</td>\n",
              "      <td>1.844705</td>\n",
              "      <td>1.113405</td>\n",
              "      <td>2.027924</td>\n",
              "      <td>-0.846952</td>\n",
              "      <td>0.295347</td>\n",
              "      <td>-1.012157</td>\n",
              "      <td>-1.372912</td>\n",
              "    </tr>\n",
              "    <tr>\n",
              "      <th>1</th>\n",
              "      <td>-0.927613</td>\n",
              "      <td>-0.903438</td>\n",
              "      <td>-4.977268</td>\n",
              "      <td>-0.564994</td>\n",
              "      <td>1.102643</td>\n",
              "      <td>-0.221828</td>\n",
              "      <td>-0.335182</td>\n",
              "      <td>0.587666</td>\n",
              "      <td>-1.235011</td>\n",
              "      <td>-2.021502</td>\n",
              "      <td>...</td>\n",
              "      <td>-3.947626</td>\n",
              "      <td>2.885890</td>\n",
              "      <td>0.362875</td>\n",
              "      <td>-0.450228</td>\n",
              "      <td>-0.519345</td>\n",
              "      <td>-0.493115</td>\n",
              "      <td>-0.846952</td>\n",
              "      <td>-0.372028</td>\n",
              "      <td>0.999484</td>\n",
              "      <td>-2.313455</td>\n",
              "    </tr>\n",
              "    <tr>\n",
              "      <th>2</th>\n",
              "      <td>1.078036</td>\n",
              "      <td>1.106883</td>\n",
              "      <td>0.200913</td>\n",
              "      <td>-0.091085</td>\n",
              "      <td>-0.906912</td>\n",
              "      <td>-0.221828</td>\n",
              "      <td>-0.335182</td>\n",
              "      <td>-1.701646</td>\n",
              "      <td>0.809709</td>\n",
              "      <td>-2.021502</td>\n",
              "      <td>...</td>\n",
              "      <td>0.253317</td>\n",
              "      <td>2.885890</td>\n",
              "      <td>2.174080</td>\n",
              "      <td>3.374660</td>\n",
              "      <td>2.746156</td>\n",
              "      <td>2.027924</td>\n",
              "      <td>-0.846952</td>\n",
              "      <td>0.295347</td>\n",
              "      <td>-1.012157</td>\n",
              "      <td>0.978448</td>\n",
              "    </tr>\n",
              "    <tr>\n",
              "      <th>3</th>\n",
              "      <td>1.078036</td>\n",
              "      <td>-0.903438</td>\n",
              "      <td>0.200913</td>\n",
              "      <td>-0.249055</td>\n",
              "      <td>-0.906912</td>\n",
              "      <td>-0.221828</td>\n",
              "      <td>-0.335182</td>\n",
              "      <td>0.587666</td>\n",
              "      <td>0.809709</td>\n",
              "      <td>0.494682</td>\n",
              "      <td>...</td>\n",
              "      <td>0.253317</td>\n",
              "      <td>-0.346514</td>\n",
              "      <td>-0.542728</td>\n",
              "      <td>-0.450228</td>\n",
              "      <td>-0.519345</td>\n",
              "      <td>-0.493115</td>\n",
              "      <td>-0.846952</td>\n",
              "      <td>0.962722</td>\n",
              "      <td>-2.017977</td>\n",
              "      <td>0.037904</td>\n",
              "    </tr>\n",
              "    <tr>\n",
              "      <th>4</th>\n",
              "      <td>1.078036</td>\n",
              "      <td>1.106883</td>\n",
              "      <td>0.200913</td>\n",
              "      <td>-0.722963</td>\n",
              "      <td>-0.906912</td>\n",
              "      <td>-0.221828</td>\n",
              "      <td>-0.335182</td>\n",
              "      <td>0.587666</td>\n",
              "      <td>0.809709</td>\n",
              "      <td>0.494682</td>\n",
              "      <td>...</td>\n",
              "      <td>0.253317</td>\n",
              "      <td>-0.346514</td>\n",
              "      <td>-0.542728</td>\n",
              "      <td>-0.067739</td>\n",
              "      <td>-0.519345</td>\n",
              "      <td>-0.493115</td>\n",
              "      <td>-0.846952</td>\n",
              "      <td>0.962722</td>\n",
              "      <td>-0.006337</td>\n",
              "      <td>-0.902640</td>\n",
              "    </tr>\n",
              "  </tbody>\n",
              "</table>\n",
              "<p>5 rows × 21 columns</p>\n",
              "</div>\n",
              "    <div class=\"colab-df-buttons\">\n",
              "\n",
              "  <div class=\"colab-df-container\">\n",
              "    <button class=\"colab-df-convert\" onclick=\"convertToInteractive('df-1bc0b5b0-77c3-4354-ac4d-e8a86e0a10bc')\"\n",
              "            title=\"Convert this dataframe to an interactive table.\"\n",
              "            style=\"display:none;\">\n",
              "\n",
              "  <svg xmlns=\"http://www.w3.org/2000/svg\" height=\"24px\" viewBox=\"0 -960 960 960\">\n",
              "    <path d=\"M120-120v-720h720v720H120Zm60-500h600v-160H180v160Zm220 220h160v-160H400v160Zm0 220h160v-160H400v160ZM180-400h160v-160H180v160Zm440 0h160v-160H620v160ZM180-180h160v-160H180v160Zm440 0h160v-160H620v160Z\"/>\n",
              "  </svg>\n",
              "    </button>\n",
              "\n",
              "  <style>\n",
              "    .colab-df-container {\n",
              "      display:flex;\n",
              "      gap: 12px;\n",
              "    }\n",
              "\n",
              "    .colab-df-convert {\n",
              "      background-color: #E8F0FE;\n",
              "      border: none;\n",
              "      border-radius: 50%;\n",
              "      cursor: pointer;\n",
              "      display: none;\n",
              "      fill: #1967D2;\n",
              "      height: 32px;\n",
              "      padding: 0 0 0 0;\n",
              "      width: 32px;\n",
              "    }\n",
              "\n",
              "    .colab-df-convert:hover {\n",
              "      background-color: #E2EBFA;\n",
              "      box-shadow: 0px 1px 2px rgba(60, 64, 67, 0.3), 0px 1px 3px 1px rgba(60, 64, 67, 0.15);\n",
              "      fill: #174EA6;\n",
              "    }\n",
              "\n",
              "    .colab-df-buttons div {\n",
              "      margin-bottom: 4px;\n",
              "    }\n",
              "\n",
              "    [theme=dark] .colab-df-convert {\n",
              "      background-color: #3B4455;\n",
              "      fill: #D2E3FC;\n",
              "    }\n",
              "\n",
              "    [theme=dark] .colab-df-convert:hover {\n",
              "      background-color: #434B5C;\n",
              "      box-shadow: 0px 1px 3px 1px rgba(0, 0, 0, 0.15);\n",
              "      filter: drop-shadow(0px 1px 2px rgba(0, 0, 0, 0.3));\n",
              "      fill: #FFFFFF;\n",
              "    }\n",
              "  </style>\n",
              "\n",
              "    <script>\n",
              "      const buttonEl =\n",
              "        document.querySelector('#df-1bc0b5b0-77c3-4354-ac4d-e8a86e0a10bc button.colab-df-convert');\n",
              "      buttonEl.style.display =\n",
              "        google.colab.kernel.accessAllowed ? 'block' : 'none';\n",
              "\n",
              "      async function convertToInteractive(key) {\n",
              "        const element = document.querySelector('#df-1bc0b5b0-77c3-4354-ac4d-e8a86e0a10bc');\n",
              "        const dataTable =\n",
              "          await google.colab.kernel.invokeFunction('convertToInteractive',\n",
              "                                                    [key], {});\n",
              "        if (!dataTable) return;\n",
              "\n",
              "        const docLinkHtml = 'Like what you see? Visit the ' +\n",
              "          '<a target=\"_blank\" href=https://colab.research.google.com/notebooks/data_table.ipynb>data table notebook</a>'\n",
              "          + ' to learn more about interactive tables.';\n",
              "        element.innerHTML = '';\n",
              "        dataTable['output_type'] = 'display_data';\n",
              "        await google.colab.output.renderOutput(dataTable, element);\n",
              "        const docLink = document.createElement('div');\n",
              "        docLink.innerHTML = docLinkHtml;\n",
              "        element.appendChild(docLink);\n",
              "      }\n",
              "    </script>\n",
              "  </div>\n",
              "\n",
              "\n",
              "<div id=\"df-b3a45429-5467-4dc9-8da7-d01952f42df1\">\n",
              "  <button class=\"colab-df-quickchart\" onclick=\"quickchart('df-b3a45429-5467-4dc9-8da7-d01952f42df1')\"\n",
              "            title=\"Suggest charts.\"\n",
              "            style=\"display:none;\">\n",
              "\n",
              "<svg xmlns=\"http://www.w3.org/2000/svg\" height=\"24px\"viewBox=\"0 0 24 24\"\n",
              "     width=\"24px\">\n",
              "    <g>\n",
              "        <path d=\"M19 3H5c-1.1 0-2 .9-2 2v14c0 1.1.9 2 2 2h14c1.1 0 2-.9 2-2V5c0-1.1-.9-2-2-2zM9 17H7v-7h2v7zm4 0h-2V7h2v10zm4 0h-2v-4h2v4z\"/>\n",
              "    </g>\n",
              "</svg>\n",
              "  </button>\n",
              "\n",
              "<style>\n",
              "  .colab-df-quickchart {\n",
              "    background-color: #E8F0FE;\n",
              "    border: none;\n",
              "    border-radius: 50%;\n",
              "    cursor: pointer;\n",
              "    display: none;\n",
              "    fill: #1967D2;\n",
              "    height: 32px;\n",
              "    padding: 0 0 0 0;\n",
              "    width: 32px;\n",
              "  }\n",
              "\n",
              "  .colab-df-quickchart:hover {\n",
              "    background-color: #E2EBFA;\n",
              "    box-shadow: 0px 1px 2px rgba(60, 64, 67, 0.3), 0px 1px 3px 1px rgba(60, 64, 67, 0.15);\n",
              "    fill: #174EA6;\n",
              "  }\n",
              "\n",
              "  [theme=dark] .colab-df-quickchart {\n",
              "    background-color: #3B4455;\n",
              "    fill: #D2E3FC;\n",
              "  }\n",
              "\n",
              "  [theme=dark] .colab-df-quickchart:hover {\n",
              "    background-color: #434B5C;\n",
              "    box-shadow: 0px 1px 3px 1px rgba(0, 0, 0, 0.15);\n",
              "    filter: drop-shadow(0px 1px 2px rgba(0, 0, 0, 0.3));\n",
              "    fill: #FFFFFF;\n",
              "  }\n",
              "</style>\n",
              "\n",
              "  <script>\n",
              "    async function quickchart(key) {\n",
              "      const charts = await google.colab.kernel.invokeFunction(\n",
              "          'suggestCharts', [key], {});\n",
              "    }\n",
              "    (() => {\n",
              "      let quickchartButtonEl =\n",
              "        document.querySelector('#df-b3a45429-5467-4dc9-8da7-d01952f42df1 button');\n",
              "      quickchartButtonEl.style.display =\n",
              "        google.colab.kernel.accessAllowed ? 'block' : 'none';\n",
              "    })();\n",
              "  </script>\n",
              "</div>\n",
              "    </div>\n",
              "  </div>\n"
            ]
          },
          "metadata": {},
          "execution_count": 125
        }
      ],
      "source": [
        "std_data.head()"
      ]
    },
    {
      "cell_type": "markdown",
      "metadata": {
        "id": "x57BGUTgUaSr"
      },
      "source": [
        "**Marge the data back**"
      ]
    },
    {
      "cell_type": "code",
      "execution_count": 126,
      "metadata": {
        "id": "hJywI_VnUcda"
      },
      "outputs": [],
      "source": [
        "# Concatenate the standardized features with the target column\n",
        "std_df = pd.concat([std_data, data_y], axis=1)"
      ]
    },
    {
      "cell_type": "code",
      "execution_count": 127,
      "metadata": {
        "colab": {
          "base_uri": "https://localhost:8080/"
        },
        "id": "-ezx6jc9UnVi",
        "outputId": "d27af995-5259-4852-b20a-5931a740f04c"
      },
      "outputs": [
        {
          "output_type": "stream",
          "name": "stdout",
          "text": [
            "<class 'pandas.core.frame.DataFrame'>\n",
            "RangeIndex: 10000 entries, 0 to 9999\n",
            "Data columns (total 22 columns):\n",
            " #   Column                Non-Null Count  Dtype  \n",
            "---  ------                --------------  -----  \n",
            " 0   HighBP                10000 non-null  float64\n",
            " 1   HighChol              10000 non-null  float64\n",
            " 2   CholCheck             10000 non-null  float64\n",
            " 3   BMI                   10000 non-null  float64\n",
            " 4   Smoker                10000 non-null  float64\n",
            " 5   Stroke                10000 non-null  float64\n",
            " 6   HeartDiseaseorAttack  10000 non-null  float64\n",
            " 7   PhysActivity          10000 non-null  float64\n",
            " 8   Fruits                10000 non-null  float64\n",
            " 9   Veggies               10000 non-null  float64\n",
            " 10  HvyAlcoholConsump     10000 non-null  float64\n",
            " 11  AnyHealthcare         10000 non-null  float64\n",
            " 12  NoDocbcCost           10000 non-null  float64\n",
            " 13  GenHlth               10000 non-null  float64\n",
            " 14  MentHlth              10000 non-null  float64\n",
            " 15  PhysHlth              10000 non-null  float64\n",
            " 16  DiffWalk              10000 non-null  float64\n",
            " 17  Sex                   10000 non-null  float64\n",
            " 18  Age                   10000 non-null  float64\n",
            " 19  Education             10000 non-null  float64\n",
            " 20  Income                10000 non-null  float64\n",
            " 21  Diabetes              10000 non-null  float64\n",
            "dtypes: float64(22)\n",
            "memory usage: 1.7 MB\n"
          ]
        }
      ],
      "source": [
        "std_df.info()"
      ]
    },
    {
      "cell_type": "code",
      "execution_count": 128,
      "metadata": {
        "colab": {
          "base_uri": "https://localhost:8080/",
          "height": 991
        },
        "id": "YunLJyc2UyLU",
        "outputId": "9ed6a489-c08f-40e4-9378-2554391824cb"
      },
      "outputs": [
        {
          "output_type": "display_data",
          "data": {
            "text/plain": [
              "<Figure size 2000x1000 with 1 Axes>"
            ],
            "image/png": "[encoded data removed]"
          },
          "metadata": {}
        }
      ],
      "source": [
        "plt.figure(figsize=(20,10))\n",
        "sea.boxplot(data=std_df.iloc[:,:-1]) # except the target\n",
        "plt.xticks(rotation=90)\n",
        "plt.title(\"Distribution of the values ​​of all potential standardized predictors\")\n",
        "plt.grid()\n",
        "plt.show()"
      ]
    },
    {
      "cell_type": "markdown",
      "metadata": {
        "id": "2aBQ0fWJWr68"
      },
      "source": [
        "###**Correlation**"
      ]
    },
    {
      "cell_type": "code",
      "execution_count": 129,
      "metadata": {
        "colab": {
          "base_uri": "https://localhost:8080/",
          "height": 855
        },
        "id": "aQNYFcdgVI4j",
        "outputId": "5b339699-0823-4cec-a098-9e0572a10b68"
      },
      "outputs": [
        {
          "output_type": "execute_result",
          "data": {
            "text/plain": [
              "Text(0.5, 1.0, 'Correlation Heatmap')"
            ]
          },
          "metadata": {},
          "execution_count": 129
        },
        {
          "output_type": "display_data",
          "data": {
            "text/plain": [
              "<Figure size 1000x800 with 2 Axes>"
            ],
            "image/png": "[encoded data removed]"
          },
          "metadata": {}
        }
      ],
      "source": [
        "# Calculate the correlation matrix\n",
        "correlation_matrix = std_df.corr()\n",
        "\n",
        "plt.figure(figsize=(10, 8))\n",
        "sns.heatmap(correlation_matrix, annot=False).set_title('Correlation Heatmap')"
      ]
    },
    {
      "cell_type": "code",
      "source": [],
      "metadata": {
        "id": "LRs_cRqtQg50"
      },
      "execution_count": 129,
      "outputs": []
    },
    {
      "cell_type": "markdown",
      "metadata": {
        "id": "pPqyJDEkWCeT"
      },
      "source": [
        "### **Dimensionality Reduction**"
      ]
    },
    {
      "cell_type": "markdown",
      "metadata": {
        "id": "G30ViD6LYt2e"
      },
      "source": [
        "**Split Dataset**"
      ]
    },
    {
      "cell_type": "code",
      "execution_count": 130,
      "metadata": {
        "id": "OI4GSgjZYT1Z"
      },
      "outputs": [],
      "source": [
        "X = std_df.drop([\"Diabetes\"], axis=1)\n",
        "y = std_df['Diabetes']\n",
        "\n",
        "X_train, X_test, y_train, y_test = train_test_split(X, y, test_size=0.2, random_state=42)"
      ]
    },
    {
      "cell_type": "code",
      "execution_count": 131,
      "metadata": {
        "colab": {
          "base_uri": "https://localhost:8080/"
        },
        "id": "ct4we7RnZS4G",
        "outputId": "0aa7919b-379d-46d4-fbfe-76e0ee2d132b"
      },
      "outputs": [
        {
          "output_type": "stream",
          "name": "stdout",
          "text": [
            "(8000, 21)\n"
          ]
        }
      ],
      "source": [
        "print(X_train.shape)"
      ]
    },
    {
      "cell_type": "code",
      "execution_count": 132,
      "metadata": {
        "colab": {
          "base_uri": "https://localhost:8080/"
        },
        "id": "ljuptNraZgUl",
        "outputId": "d4c312fa-5cf9-455c-ccf7-7052f62e8727"
      },
      "outputs": [
        {
          "output_type": "stream",
          "name": "stdout",
          "text": [
            "(2000, 21)\n"
          ]
        }
      ],
      "source": [
        "print(X_test.shape)"
      ]
    },
    {
      "cell_type": "markdown",
      "metadata": {
        "id": "nIcsPmPFJqFB"
      },
      "source": [
        "### **Define Classifiers**"
      ]
    },
    {
      "cell_type": "code",
      "execution_count": 133,
      "metadata": {
        "id": "SdUIifjaJwCX"
      },
      "outputs": [],
      "source": [
        "# Define a list of classifiers\n",
        "classifiers = {\n",
        "    \"Logistic Regression\": LogisticRegression(),\n",
        "    \"Random Forest\": RandomForestClassifier(),\n",
        "    \"K-Nearest Neighbors\": KNeighborsClassifier(),\n",
        "    \"XGBoost\": XGBClassifier(),\n",
        "}\n",
        "\n",
        "classifiers_pca = {\n",
        "    \"Logistic Regression\": LogisticRegression(),\n",
        "    \"Random Forest\": RandomForestClassifier(),\n",
        "    \"K-Nearest Neighbors\": KNeighborsClassifier(),\n",
        "    \"XGBoost\": XGBClassifier(),\n",
        "}\n",
        "\n",
        "classifiers_lda = {\n",
        "    \"Logistic Regression\": LogisticRegression(),\n",
        "    \"Random Forest\": RandomForestClassifier(),\n",
        "    \"K-Nearest Neighbors\": KNeighborsClassifier(),\n",
        "    \"XGBoost\": XGBClassifier(),\n",
        "}"
      ]
    },
    {
      "cell_type": "markdown",
      "metadata": {
        "id": "Zw9IBx05qxTO"
      },
      "source": [
        "### **Baseline model**"
      ]
    },
    {
      "cell_type": "code",
      "execution_count": 134,
      "metadata": {
        "colab": {
          "base_uri": "https://localhost:8080/"
        },
        "id": "xWuXnSbFLeue",
        "outputId": "ae72f330-fb05-44de-c7a7-b065bb63780d"
      },
      "outputs": [
        {
          "output_type": "stream",
          "name": "stdout",
          "text": [
            "--- Logistic Regression ---\n",
            "Accuracy: 0.82\n",
            "Precision: 0.79\n",
            "Recall: 0.82\n",
            "F1 Score: 0.79\n",
            "ROC AUC: 0.77\n",
            "Balanced Accuracy: 0.39\n",
            "Confusion Matrix:\n",
            "[[1587    0   63]\n",
            " [  38    0    6]\n",
            " [ 246    0   60]]\n",
            "\n",
            "\n",
            "--- Random Forest ---\n",
            "Accuracy: 0.83\n",
            "Precision: 0.77\n",
            "Recall: 0.83\n",
            "F1 Score: 0.78\n",
            "ROC AUC: 0.71\n",
            "Balanced Accuracy: 0.38\n",
            "Confusion Matrix:\n",
            "[[1600    0   50]\n",
            " [  38    0    6]\n",
            " [ 254    1   51]]\n",
            "\n",
            "\n",
            "--- K-Nearest Neighbors ---\n",
            "Accuracy: 0.81\n",
            "Precision: 0.78\n",
            "Recall: 0.81\n",
            "F1 Score: 0.78\n",
            "ROC AUC: 0.62\n",
            "Balanced Accuracy: 0.39\n",
            "Confusion Matrix:\n",
            "[[1556    0   94]\n",
            " [  40    0    4]\n",
            " [ 240    0   66]]\n",
            "\n",
            "\n",
            "--- XGBoost ---\n",
            "Accuracy: 0.82\n",
            "Precision: 0.79\n",
            "Recall: 0.82\n",
            "F1 Score: 0.79\n",
            "ROC AUC: 0.72\n",
            "Balanced Accuracy: 0.40\n",
            "Confusion Matrix:\n",
            "[[1570    0   80]\n",
            " [  35    0    9]\n",
            " [ 234    0   72]]\n",
            "\n",
            "\n"
          ]
        }
      ],
      "source": [
        "# Dictionary to store evaluation metrics\n",
        "results = {}\n",
        "\n",
        "# Loop through each classifier\n",
        "for name, clf in classifiers.items():\n",
        "    # Train the classifier\n",
        "    clf.fit(X_train, y_train)\n",
        "\n",
        "    # Make predictions on the test set\n",
        "    y_pred = clf.predict(X_test)\n",
        "\n",
        "    # Calculate evaluation metrics\n",
        "    accuracy = accuracy_score(y_test, y_pred)\n",
        "    precision = precision_score(y_test, y_pred, average=\"weighted\", zero_division=1)\n",
        "    recall = recall_score(y_test, y_pred, average=\"weighted\", zero_division=1)\n",
        "    f1 = f1_score(y_test, y_pred, average=\"weighted\", zero_division=1)\n",
        "    balanced_accuracy = balanced_accuracy_score(y_test, y_pred)\n",
        "    confusion = confusion_matrix(y_test, y_pred)\n",
        "\n",
        "    # ROC AUC calculation for binary and multiclass classification\n",
        "    if len(np.unique(y_train)) == 2:\n",
        "        roc_auc = roc_auc_score(y_test, clf.predict_proba(X_test)[:, 1])\n",
        "    else:\n",
        "        roc_auc = roc_auc_score(y_test, clf.predict_proba(X_test), multi_class='ovr')\n",
        "\n",
        "    # Store the results in the dictionary\n",
        "    results[name] = {\n",
        "        \"Accuracy\": accuracy,\n",
        "        \"Precision\": precision,\n",
        "        \"Recall\": recall,\n",
        "        \"F1 Score\": f1,\n",
        "        \"ROC AUC\": roc_auc,\n",
        "        \"Balanced Accuracy\": balanced_accuracy,\n",
        "        \"Confusion Matrix\": confusion,\n",
        "    }\n",
        "\n",
        "# Display the results\n",
        "for name, metrics in results.items():\n",
        "    print(f\"--- {name} ---\")\n",
        "    print(\"Accuracy: {:.2f}\".format(metrics[\"Accuracy\"]))\n",
        "    print(\"Precision: {:.2f}\".format(metrics[\"Precision\"]))\n",
        "    print(\"Recall: {:.2f}\".format(metrics[\"Recall\"]))\n",
        "    print(\"F1 Score: {:.2f}\".format(metrics[\"F1 Score\"]))\n",
        "    print(\"ROC AUC: {:.2f}\".format(metrics[\"ROC AUC\"]))\n",
        "    print(\"Balanced Accuracy: {:.2f}\".format(metrics[\"Balanced Accuracy\"]))\n",
        "    print(\"Confusion Matrix:\")\n",
        "    print(metrics[\"Confusion Matrix\"])\n",
        "    print(\"\\n\")"
      ]
    },
    {
      "cell_type": "markdown",
      "source": [
        "### **Hyper-Parameter Tuning**"
      ],
      "metadata": {
        "id": "SfBe_JJlWne-"
      }
    },
    {
      "cell_type": "code",
      "source": [
        "# Define the hyperparameter grids for each classifier\n",
        "param_grid = {\n",
        "    \"Logistic Regression\": {\n",
        "        \"C\": [0.001, 0.01, 0.1, 1, 10, 100],\n",
        "        \"penalty\": ['l1', 'l2', 'elasticnet'],\n",
        "        \"solver\": ['liblinear', 'saga']\n",
        "    },\n",
        "    \"Random Forest\": {\n",
        "        \"n_estimators\": [50, 100, 200, 300],\n",
        "        \"max_depth\": [None, 10, 20, 30],\n",
        "        \"min_samples_split\": [2, 5, 10],\n",
        "        \"min_samples_leaf\": [1, 2, 4]\n",
        "    },\n",
        "    \"K-Nearest Neighbors\": {\n",
        "        \"n_neighbors\": [3, 5, 7, 10],\n",
        "        \"weights\": ['uniform', 'distance'],\n",
        "        \"metric\": ['euclidean', 'manhattan']\n",
        "    },\n",
        "    \"XGBoost\": {\n",
        "        \"learning_rate\": [0.01, 0.1, 0.2],\n",
        "        \"n_estimators\": [100, 200, 300],\n",
        "        \"max_depth\": [3, 5, 7],\n",
        "        \"subsample\": [0.8, 0.9, 1.0]\n",
        "    }\n",
        "}"
      ],
      "metadata": {
        "id": "U_v0FpSSWreV"
      },
      "execution_count": 135,
      "outputs": []
    },
    {
      "cell_type": "code",
      "source": [
        "best_params = {}\n",
        "\n",
        "# Loop through classifiers and perform hyperparameter tuning\n",
        "for name, classifier  in classifiers.items():\n",
        "  if name in param_grid:\n",
        "    # Create RandomizedSearchCV instance\n",
        "    clf = RandomizedSearchCV(\n",
        "        estimator=classifier,\n",
        "        param_distributions=param_grid[name],\n",
        "        n_iter=10,  # Number of parameter settings that are sampled\n",
        "        scoring='accuracy',  # Use accuracy as the evaluation metric\n",
        "        cv=5,  # Cross-validation folds\n",
        "        verbose=1,  # Print progress\n",
        "        n_jobs=-1  # Use all available CPU cores\n",
        "    )\n",
        "\n",
        "    # Fit the classifier\n",
        "    clf.fit(X_train, y_train)\n",
        "\n",
        "    best_params[name] = clf.best_params_\n",
        "\n",
        "# Print the best parameters for each classifier\n",
        "for name, params in best_params.items():\n",
        "    print(f\"Best parameters for {name}: {params}\")"
      ],
      "metadata": {
        "id": "wYSOBGvcXbSk",
        "colab": {
          "base_uri": "https://localhost:8080/"
        },
        "outputId": "8520a96b-43ba-4976-d7c1-817e0be7ac6f"
      },
      "execution_count": 136,
      "outputs": [
        {
          "output_type": "stream",
          "name": "stdout",
          "text": [
            "Fitting 5 folds for each of 10 candidates, totalling 50 fits\n",
            "Fitting 5 folds for each of 10 candidates, totalling 50 fits\n",
            "Fitting 5 folds for each of 10 candidates, totalling 50 fits\n",
            "Fitting 5 folds for each of 10 candidates, totalling 50 fits\n",
            "Best parameters for Logistic Regression: {'solver': 'saga', 'penalty': 'l2', 'C': 0.01}\n",
            "Best parameters for Random Forest: {'n_estimators': 200, 'min_samples_split': 10, 'min_samples_leaf': 1, 'max_depth': 10}\n",
            "Best parameters for K-Nearest Neighbors: {'weights': 'uniform', 'n_neighbors': 10, 'metric': 'euclidean'}\n",
            "Best parameters for XGBoost: {'subsample': 0.9, 'n_estimators': 300, 'max_depth': 7, 'learning_rate': 0.01}\n"
          ]
        }
      ]
    },
    {
      "cell_type": "markdown",
      "metadata": {
        "id": "okvcFB6FYMb1"
      },
      "source": [
        "### **Principal Component Analysis (PCA)**"
      ]
    },
    {
      "cell_type": "markdown",
      "metadata": {
        "id": "xMmjCLIIZ93G"
      },
      "source": [
        "*Determining the number of principal components **(n_components)** for Principal Component Analysis (PCA) is an important step in dimensionality reduction. The goal is to find a suitable number of components that capture the majority of the data's variance while reducing its dimensionality.*\n",
        "\n"
      ]
    },
    {
      "cell_type": "code",
      "execution_count": 137,
      "metadata": {
        "colab": {
          "base_uri": "https://localhost:8080/",
          "height": 564
        },
        "id": "BFt1DcejcxCB",
        "outputId": "67892bf9-2290-4471-ac4c-6cf39464ae9e"
      },
      "outputs": [
        {
          "output_type": "display_data",
          "data": {
            "text/plain": [
              "<Figure size 1000x600 with 1 Axes>"
            ],
            "image/png": "[encoded data removed]"
          },
          "metadata": {}
        }
      ],
      "source": [
        "pca = PCA()\n",
        "X_pca = pca.fit_transform(X)\n",
        "\n",
        "\n",
        "explained_variance_ratio = pca.explained_variance_ratio_\n",
        "cumulative_explained_variance = np.cumsum(explained_variance_ratio)\n",
        "\n",
        "plt.figure(figsize=(10, 6))\n",
        "plt.plot(cumulative_explained_variance, marker='o')\n",
        "plt.xlabel('Number of Components')\n",
        "plt.ylabel('Cumulative Explained Variance')\n",
        "plt.title('Cumulative Explained Variance vs. Number of Components')\n",
        "plt.show()"
      ]
    },
    {
      "cell_type": "markdown",
      "metadata": {
        "id": "QYhxRvvLdEgw"
      },
      "source": [
        "*In the plot, you'll see how much variance is explained by each additional component. You can choose the number of components that retain the desired percentage of total variance. For example, if you want to retain 95% of the variance, find the point on the x-axis where the cumulative explained variance is close to 0.95.*"
      ]
    },
    {
      "cell_type": "code",
      "execution_count": 138,
      "metadata": {
        "id": "e5U6xqhCbhoo"
      },
      "outputs": [],
      "source": [
        "# base on the graph\n",
        "best_n_components = 19"
      ]
    },
    {
      "cell_type": "code",
      "execution_count": 139,
      "metadata": {
        "id": "SPLkKqVLcNBi"
      },
      "outputs": [],
      "source": [
        "pca = PCA(n_components=best_n_components)\n",
        "X_train_pca = pca.fit_transform(X_train)\n",
        "\n",
        "# Create a list of column names for the factors DataFrame\n",
        "column_names = ['PC' + str(i + 1) for i in range(best_n_components)]\n",
        "\n",
        "# Create the DataFrame\n",
        "factors_Df = pd.DataFrame(data=X_train_pca, columns=column_names)\n",
        "factors_Df.index = X_train.index"
      ]
    },
    {
      "cell_type": "code",
      "execution_count": 140,
      "metadata": {
        "colab": {
          "base_uri": "https://localhost:8080/",
          "height": 206
        },
        "id": "2ddy1nrDcVc6",
        "outputId": "a4cab8dc-d66c-4edc-8f0a-1e538cb3a059"
      },
      "outputs": [
        {
          "output_type": "execute_result",
          "data": {
            "text/plain": [
              "           PC1       PC2       PC3       PC4       PC5       PC6       PC7  \\\n",
              "9254  2.155549 -1.757199 -0.344991  0.750474  2.031543 -1.267371  1.720105   \n",
              "1561  0.411613 -1.101248  0.268787 -0.154156 -1.512952 -0.176856  0.305370   \n",
              "1670  1.900045 -1.048882  0.581442 -0.110494 -0.345757 -0.759764 -1.162117   \n",
              "6087 -1.623167  1.375895 -0.976505 -1.161637  0.234618  0.337029  0.601681   \n",
              "6669 -1.268199 -0.672710 -1.262643 -0.083825  1.482582 -0.097123  0.230831   \n",
              "\n",
              "           PC8       PC9      PC10      PC11      PC12      PC13      PC14  \\\n",
              "9254  0.803804 -1.195080 -0.356974 -0.260242 -1.923044 -1.046297 -1.235783   \n",
              "1561  0.753247  1.081748 -1.454129  0.542227 -0.754243 -0.805570  0.507868   \n",
              "1670  0.650804 -1.454259 -0.032183 -0.982099 -0.003382  0.324870  0.185240   \n",
              "6087 -1.147330 -0.357908  0.892409  0.650196  0.182399  0.806010 -0.128954   \n",
              "6669 -0.243309 -0.149125 -0.784447 -0.772227  0.828571 -0.082277  0.188217   \n",
              "\n",
              "          PC15      PC16      PC17      PC18      PC19  \n",
              "9254 -1.251089  0.133510  1.368567  0.923867 -1.254383  \n",
              "1561  1.435721  0.058314 -1.045272 -0.762401 -1.791365  \n",
              "1670  0.141451 -0.203695 -0.582893  0.710933 -1.811708  \n",
              "6087 -1.365190 -0.187503  0.016774  0.177245 -0.536378  \n",
              "6669 -0.988099  0.037251 -0.919224 -0.240912  0.264472  "
            ],
            "text/html": [
              "\n",
              "  <div id=\"df-06ee24de-1c56-48eb-b34d-b759d137f2e1\" class=\"colab-df-container\">\n",
              "    <div>\n",
              "<style scoped>\n",
              "    .dataframe tbody tr th:only-of-type {\n",
              "        vertical-align: middle;\n",
              "    }\n",
              "\n",
              "    .dataframe tbody tr th {\n",
              "        vertical-align: top;\n",
              "    }\n",
              "\n",
              "    .dataframe thead th {\n",
              "        text-align: right;\n",
              "    }\n",
              "</style>\n",
              "<table border=\"1\" class=\"dataframe\">\n",
              "  <thead>\n",
              "    <tr style=\"text-align: right;\">\n",
              "      <th></th>\n",
              "      <th>PC1</th>\n",
              "      <th>PC2</th>\n",
              "      <th>PC3</th>\n",
              "      <th>PC4</th>\n",
              "      <th>PC5</th>\n",
              "      <th>PC6</th>\n",
              "      <th>PC7</th>\n",
              "      <th>PC8</th>\n",
              "      <th>PC9</th>\n",
              "      <th>PC10</th>\n",
              "      <th>PC11</th>\n",
              "      <th>PC12</th>\n",
              "      <th>PC13</th>\n",
              "      <th>PC14</th>\n",
              "      <th>PC15</th>\n",
              "      <th>PC16</th>\n",
              "      <th>PC17</th>\n",
              "      <th>PC18</th>\n",
              "      <th>PC19</th>\n",
              "    </tr>\n",
              "  </thead>\n",
              "  <tbody>\n",
              "    <tr>\n",
              "      <th>9254</th>\n",
              "      <td>2.155549</td>\n",
              "      <td>-1.757199</td>\n",
              "      <td>-0.344991</td>\n",
              "      <td>0.750474</td>\n",
              "      <td>2.031543</td>\n",
              "      <td>-1.267371</td>\n",
              "      <td>1.720105</td>\n",
              "      <td>0.803804</td>\n",
              "      <td>-1.195080</td>\n",
              "      <td>-0.356974</td>\n",
              "      <td>-0.260242</td>\n",
              "      <td>-1.923044</td>\n",
              "      <td>-1.046297</td>\n",
              "      <td>-1.235783</td>\n",
              "      <td>-1.251089</td>\n",
              "      <td>0.133510</td>\n",
              "      <td>1.368567</td>\n",
              "      <td>0.923867</td>\n",
              "      <td>-1.254383</td>\n",
              "    </tr>\n",
              "    <tr>\n",
              "      <th>1561</th>\n",
              "      <td>0.411613</td>\n",
              "      <td>-1.101248</td>\n",
              "      <td>0.268787</td>\n",
              "      <td>-0.154156</td>\n",
              "      <td>-1.512952</td>\n",
              "      <td>-0.176856</td>\n",
              "      <td>0.305370</td>\n",
              "      <td>0.753247</td>\n",
              "      <td>1.081748</td>\n",
              "      <td>-1.454129</td>\n",
              "      <td>0.542227</td>\n",
              "      <td>-0.754243</td>\n",
              "      <td>-0.805570</td>\n",
              "      <td>0.507868</td>\n",
              "      <td>1.435721</td>\n",
              "      <td>0.058314</td>\n",
              "      <td>-1.045272</td>\n",
              "      <td>-0.762401</td>\n",
              "      <td>-1.791365</td>\n",
              "    </tr>\n",
              "    <tr>\n",
              "      <th>1670</th>\n",
              "      <td>1.900045</td>\n",
              "      <td>-1.048882</td>\n",
              "      <td>0.581442</td>\n",
              "      <td>-0.110494</td>\n",
              "      <td>-0.345757</td>\n",
              "      <td>-0.759764</td>\n",
              "      <td>-1.162117</td>\n",
              "      <td>0.650804</td>\n",
              "      <td>-1.454259</td>\n",
              "      <td>-0.032183</td>\n",
              "      <td>-0.982099</td>\n",
              "      <td>-0.003382</td>\n",
              "      <td>0.324870</td>\n",
              "      <td>0.185240</td>\n",
              "      <td>0.141451</td>\n",
              "      <td>-0.203695</td>\n",
              "      <td>-0.582893</td>\n",
              "      <td>0.710933</td>\n",
              "      <td>-1.811708</td>\n",
              "    </tr>\n",
              "    <tr>\n",
              "      <th>6087</th>\n",
              "      <td>-1.623167</td>\n",
              "      <td>1.375895</td>\n",
              "      <td>-0.976505</td>\n",
              "      <td>-1.161637</td>\n",
              "      <td>0.234618</td>\n",
              "      <td>0.337029</td>\n",
              "      <td>0.601681</td>\n",
              "      <td>-1.147330</td>\n",
              "      <td>-0.357908</td>\n",
              "      <td>0.892409</td>\n",
              "      <td>0.650196</td>\n",
              "      <td>0.182399</td>\n",
              "      <td>0.806010</td>\n",
              "      <td>-0.128954</td>\n",
              "      <td>-1.365190</td>\n",
              "      <td>-0.187503</td>\n",
              "      <td>0.016774</td>\n",
              "      <td>0.177245</td>\n",
              "      <td>-0.536378</td>\n",
              "    </tr>\n",
              "    <tr>\n",
              "      <th>6669</th>\n",
              "      <td>-1.268199</td>\n",
              "      <td>-0.672710</td>\n",
              "      <td>-1.262643</td>\n",
              "      <td>-0.083825</td>\n",
              "      <td>1.482582</td>\n",
              "      <td>-0.097123</td>\n",
              "      <td>0.230831</td>\n",
              "      <td>-0.243309</td>\n",
              "      <td>-0.149125</td>\n",
              "      <td>-0.784447</td>\n",
              "      <td>-0.772227</td>\n",
              "      <td>0.828571</td>\n",
              "      <td>-0.082277</td>\n",
              "      <td>0.188217</td>\n",
              "      <td>-0.988099</td>\n",
              "      <td>0.037251</td>\n",
              "      <td>-0.919224</td>\n",
              "      <td>-0.240912</td>\n",
              "      <td>0.264472</td>\n",
              "    </tr>\n",
              "  </tbody>\n",
              "</table>\n",
              "</div>\n",
              "    <div class=\"colab-df-buttons\">\n",
              "\n",
              "  <div class=\"colab-df-container\">\n",
              "    <button class=\"colab-df-convert\" onclick=\"convertToInteractive('df-06ee24de-1c56-48eb-b34d-b759d137f2e1')\"\n",
              "            title=\"Convert this dataframe to an interactive table.\"\n",
              "            style=\"display:none;\">\n",
              "\n",
              "  <svg xmlns=\"http://www.w3.org/2000/svg\" height=\"24px\" viewBox=\"0 -960 960 960\">\n",
              "    <path d=\"M120-120v-720h720v720H120Zm60-500h600v-160H180v160Zm220 220h160v-160H400v160Zm0 220h160v-160H400v160ZM180-400h160v-160H180v160Zm440 0h160v-160H620v160ZM180-180h160v-160H180v160Zm440 0h160v-160H620v160Z\"/>\n",
              "  </svg>\n",
              "    </button>\n",
              "\n",
              "  <style>\n",
              "    .colab-df-container {\n",
              "      display:flex;\n",
              "      gap: 12px;\n",
              "    }\n",
              "\n",
              "    .colab-df-convert {\n",
              "      background-color: #E8F0FE;\n",
              "      border: none;\n",
              "      border-radius: 50%;\n",
              "      cursor: pointer;\n",
              "      display: none;\n",
              "      fill: #1967D2;\n",
              "      height: 32px;\n",
              "      padding: 0 0 0 0;\n",
              "      width: 32px;\n",
              "    }\n",
              "\n",
              "    .colab-df-convert:hover {\n",
              "      background-color: #E2EBFA;\n",
              "      box-shadow: 0px 1px 2px rgba(60, 64, 67, 0.3), 0px 1px 3px 1px rgba(60, 64, 67, 0.15);\n",
              "      fill: #174EA6;\n",
              "    }\n",
              "\n",
              "    .colab-df-buttons div {\n",
              "      margin-bottom: 4px;\n",
              "    }\n",
              "\n",
              "    [theme=dark] .colab-df-convert {\n",
              "      background-color: #3B4455;\n",
              "      fill: #D2E3FC;\n",
              "    }\n",
              "\n",
              "    [theme=dark] .colab-df-convert:hover {\n",
              "      background-color: #434B5C;\n",
              "      box-shadow: 0px 1px 3px 1px rgba(0, 0, 0, 0.15);\n",
              "      filter: drop-shadow(0px 1px 2px rgba(0, 0, 0, 0.3));\n",
              "      fill: #FFFFFF;\n",
              "    }\n",
              "  </style>\n",
              "\n",
              "    <script>\n",
              "      const buttonEl =\n",
              "        document.querySelector('#df-06ee24de-1c56-48eb-b34d-b759d137f2e1 button.colab-df-convert');\n",
              "      buttonEl.style.display =\n",
              "        google.colab.kernel.accessAllowed ? 'block' : 'none';\n",
              "\n",
              "      async function convertToInteractive(key) {\n",
              "        const element = document.querySelector('#df-06ee24de-1c56-48eb-b34d-b759d137f2e1');\n",
              "        const dataTable =\n",
              "          await google.colab.kernel.invokeFunction('convertToInteractive',\n",
              "                                                    [key], {});\n",
              "        if (!dataTable) return;\n",
              "\n",
              "        const docLinkHtml = 'Like what you see? Visit the ' +\n",
              "          '<a target=\"_blank\" href=https://colab.research.google.com/notebooks/data_table.ipynb>data table notebook</a>'\n",
              "          + ' to learn more about interactive tables.';\n",
              "        element.innerHTML = '';\n",
              "        dataTable['output_type'] = 'display_data';\n",
              "        await google.colab.output.renderOutput(dataTable, element);\n",
              "        const docLink = document.createElement('div');\n",
              "        docLink.innerHTML = docLinkHtml;\n",
              "        element.appendChild(docLink);\n",
              "      }\n",
              "    </script>\n",
              "  </div>\n",
              "\n",
              "\n",
              "<div id=\"df-f435fc81-90c9-4bcc-8c7f-ebefc4196193\">\n",
              "  <button class=\"colab-df-quickchart\" onclick=\"quickchart('df-f435fc81-90c9-4bcc-8c7f-ebefc4196193')\"\n",
              "            title=\"Suggest charts.\"\n",
              "            style=\"display:none;\">\n",
              "\n",
              "<svg xmlns=\"http://www.w3.org/2000/svg\" height=\"24px\"viewBox=\"0 0 24 24\"\n",
              "     width=\"24px\">\n",
              "    <g>\n",
              "        <path d=\"M19 3H5c-1.1 0-2 .9-2 2v14c0 1.1.9 2 2 2h14c1.1 0 2-.9 2-2V5c0-1.1-.9-2-2-2zM9 17H7v-7h2v7zm4 0h-2V7h2v10zm4 0h-2v-4h2v4z\"/>\n",
              "    </g>\n",
              "</svg>\n",
              "  </button>\n",
              "\n",
              "<style>\n",
              "  .colab-df-quickchart {\n",
              "    background-color: #E8F0FE;\n",
              "    border: none;\n",
              "    border-radius: 50%;\n",
              "    cursor: pointer;\n",
              "    display: none;\n",
              "    fill: #1967D2;\n",
              "    height: 32px;\n",
              "    padding: 0 0 0 0;\n",
              "    width: 32px;\n",
              "  }\n",
              "\n",
              "  .colab-df-quickchart:hover {\n",
              "    background-color: #E2EBFA;\n",
              "    box-shadow: 0px 1px 2px rgba(60, 64, 67, 0.3), 0px 1px 3px 1px rgba(60, 64, 67, 0.15);\n",
              "    fill: #174EA6;\n",
              "  }\n",
              "\n",
              "  [theme=dark] .colab-df-quickchart {\n",
              "    background-color: #3B4455;\n",
              "    fill: #D2E3FC;\n",
              "  }\n",
              "\n",
              "  [theme=dark] .colab-df-quickchart:hover {\n",
              "    background-color: #434B5C;\n",
              "    box-shadow: 0px 1px 3px 1px rgba(0, 0, 0, 0.15);\n",
              "    filter: drop-shadow(0px 1px 2px rgba(0, 0, 0, 0.3));\n",
              "    fill: #FFFFFF;\n",
              "  }\n",
              "</style>\n",
              "\n",
              "  <script>\n",
              "    async function quickchart(key) {\n",
              "      const charts = await google.colab.kernel.invokeFunction(\n",
              "          'suggestCharts', [key], {});\n",
              "    }\n",
              "    (() => {\n",
              "      let quickchartButtonEl =\n",
              "        document.querySelector('#df-f435fc81-90c9-4bcc-8c7f-ebefc4196193 button');\n",
              "      quickchartButtonEl.style.display =\n",
              "        google.colab.kernel.accessAllowed ? 'block' : 'none';\n",
              "    })();\n",
              "  </script>\n",
              "</div>\n",
              "    </div>\n",
              "  </div>\n"
            ]
          },
          "metadata": {},
          "execution_count": 140
        }
      ],
      "source": [
        "factors_Df.head()"
      ]
    },
    {
      "cell_type": "code",
      "execution_count": 141,
      "metadata": {
        "colab": {
          "base_uri": "https://localhost:8080/"
        },
        "id": "ixGEU8VXcbV3",
        "outputId": "e960501c-cb5e-4618-9a61-5fbabde579ad"
      },
      "outputs": [
        {
          "output_type": "stream",
          "name": "stdout",
          "text": [
            "[0.17199505 0.08659916 0.06430368 0.05831649 0.05631576 0.05175055\n",
            " 0.04864749 0.04456955 0.04358593 0.04198464 0.03833943 0.03682123\n",
            " 0.03507863 0.03468954 0.03380378 0.03197934 0.03028819 0.02590037\n",
            " 0.02325053]\n",
            "\n",
            "[0.17199505 0.25859421 0.32289789 0.38121438 0.43753014 0.48928069\n",
            " 0.53792818 0.58249774 0.62608367 0.66806831 0.70640774 0.74322897\n",
            " 0.7783076  0.81299715 0.84680092 0.87878026 0.90906845 0.93496882\n",
            " 0.95821935]\n",
            "\n",
            "0.9582193527566649\n"
          ]
        }
      ],
      "source": [
        "print(pca.explained_variance_ratio_)\n",
        "print()\n",
        "print(pca.explained_variance_ratio_.cumsum())\n",
        "print()\n",
        "print(pca.explained_variance_ratio_.sum())"
      ]
    },
    {
      "cell_type": "markdown",
      "metadata": {
        "id": "757ylgoPfCpx"
      },
      "source": [
        "**Visualization of the explained variance**"
      ]
    },
    {
      "cell_type": "code",
      "execution_count": 142,
      "metadata": {
        "colab": {
          "base_uri": "https://localhost:8080/",
          "height": 564
        },
        "id": "ZhK74cUWfFKg",
        "outputId": "64b0535b-6816-4ce0-f0c8-9e33faa70c58"
      },
      "outputs": [
        {
          "output_type": "display_data",
          "data": {
            "text/plain": [
              "<Figure size 1400x600 with 2 Axes>"
            ],
            "image/png": "[encoded data removed]"
          },
          "metadata": {}
        }
      ],
      "source": [
        "fig = plt.figure(figsize=(14,6))\n",
        "ax1 = fig.add_subplot(1, 2, 1)\n",
        "ax2 = fig.add_subplot(1, 2, 2)\n",
        "\n",
        "ax1.plot(np.arange(1,20),pca.explained_variance_ratio_,color='b',marker='o')\n",
        "ax2.plot(np.arange(1,20),np.cumsum(pca.explained_variance_ratio_),color='gold',marker='o')\n",
        "\n",
        "ax1.set_xlabel('Factors')\n",
        "ax1.set_title('Explained variance')\n",
        "ax2.set_xlabel('Factors')\n",
        "ax2.set_title('Explained variance cumsum')\n",
        "\n",
        "plt.show()"
      ]
    },
    {
      "cell_type": "markdown",
      "metadata": {
        "id": "TM1NAZ9zhvXt"
      },
      "source": [
        "### **Linear Discriminant Analysis (LDA)**"
      ]
    },
    {
      "cell_type": "code",
      "execution_count": 143,
      "metadata": {
        "id": "7WjKy5r5k3Vq"
      },
      "outputs": [],
      "source": [
        "# Initialize LDA and transform X_train\n",
        "lda = LinearDiscriminantAnalysis(n_components=None)\n",
        "lda.fit(X_train, y_train)\n",
        "X_train_lda = lda.transform(X_train)\n",
        "\n",
        "# Initialize LDA and transform X_test\n",
        "X_test_lda = lda.transform(X_test)"
      ]
    },
    {
      "cell_type": "markdown",
      "metadata": {
        "id": "RMTmw94UmfPu"
      },
      "source": [
        "### **Predictive analysis**"
      ]
    },
    {
      "cell_type": "markdown",
      "metadata": {
        "id": "2fR_pgqce-23"
      },
      "source": [
        "#### **Principal Component Analysis (PCA)**"
      ]
    },
    {
      "cell_type": "code",
      "execution_count": 144,
      "metadata": {
        "id": "qE5f6WEifV1f"
      },
      "outputs": [],
      "source": [
        "X_test_pca = pca.transform(X_test)"
      ]
    },
    {
      "cell_type": "code",
      "execution_count": 145,
      "metadata": {
        "colab": {
          "base_uri": "https://localhost:8080/"
        },
        "id": "urjp3-kKfMSW",
        "outputId": "0ef98019-7ae2-40fc-c78d-2b322d47adff"
      },
      "outputs": [
        {
          "output_type": "stream",
          "name": "stdout",
          "text": [
            "Principal Component Analysis (PCA) \n",
            "\n",
            "--- Logistic Regression ---\n",
            "Accuracy: 0.82\n",
            "Precision: 0.79\n",
            "Recall: 0.82\n",
            "F1 Score: 0.78\n",
            "ROC AUC: 0.77\n",
            "Balanced Accuracy: 0.38\n",
            "Confusion Matrix:\n",
            "[[1593    0   57]\n",
            " [  39    0    5]\n",
            " [ 255    0   51]]\n",
            "\n",
            "\n",
            "--- Random Forest ---\n",
            "Accuracy: 0.82\n",
            "Precision: 0.77\n",
            "Recall: 0.82\n",
            "F1 Score: 0.76\n",
            "ROC AUC: 0.74\n",
            "Balanced Accuracy: 0.35\n",
            "Confusion Matrix:\n",
            "[[1627    0   23]\n",
            " [  40    0    4]\n",
            " [ 288    0   18]]\n",
            "\n",
            "\n",
            "--- K-Nearest Neighbors ---\n",
            "Accuracy: 0.83\n",
            "Precision: 0.79\n",
            "Recall: 0.83\n",
            "F1 Score: 0.78\n",
            "ROC AUC: 0.65\n",
            "Balanced Accuracy: 0.38\n",
            "Confusion Matrix:\n",
            "[[1601    0   49]\n",
            " [  41    0    3]\n",
            " [ 256    0   50]]\n",
            "\n",
            "\n",
            "--- XGBoost ---\n",
            "Accuracy: 0.82\n",
            "Precision: 0.78\n",
            "Recall: 0.82\n",
            "F1 Score: 0.78\n",
            "ROC AUC: 0.76\n",
            "Balanced Accuracy: 0.37\n",
            "Confusion Matrix:\n",
            "[[1596    0   54]\n",
            " [  38    0    6]\n",
            " [ 259    0   47]]\n",
            "\n",
            "\n"
          ]
        }
      ],
      "source": [
        "# Dictionary to store evaluation metrics and predictions\n",
        "results = {}\n",
        "pca_trained_classifiers= {}\n",
        "\n",
        "# Loop through each classifier\n",
        "for name, clf in classifiers_pca.items():\n",
        "    best_param = best_params.get(name)  # Retrieve the best parameters\n",
        "\n",
        "    if best_param:\n",
        "      # Initialize the classifier with the best parameters\n",
        "      clf = clf.set_params(**best_param)\n",
        "\n",
        "      # Train the classifier\n",
        "      clf.fit(X_train_pca, y_train)\n",
        "\n",
        "      # Store the trained classifiers\n",
        "      pca_trained_classifiers[name] = clf\n",
        "\n",
        "      # Make predictions on the test set\n",
        "      y_pred = clf.predict(X_test_pca)\n",
        "\n",
        "      # Calculate evaluation metrics\n",
        "      accuracy = accuracy_score(y_test, y_pred)\n",
        "      precision = precision_score(y_test, y_pred, average=\"weighted\", zero_division=1)\n",
        "      recall = recall_score(y_test, y_pred, average=\"weighted\", zero_division=1)\n",
        "      f1 = f1_score(y_test, y_pred, average=\"weighted\", zero_division=1)\n",
        "      balanced_accuracy = balanced_accuracy_score(y_test, y_pred)\n",
        "      confusion = confusion_matrix(y_test, y_pred)\n",
        "\n",
        "      # ROC AUC calculation for binary and multiclass classification\n",
        "      if len(np.unique(y_train)) == 2:\n",
        "          roc_auc = roc_auc_score(y_test, clf.predict_proba(X_test_pca)[:, 1])\n",
        "      else:\n",
        "          roc_auc = roc_auc_score(y_test, clf.predict_proba(X_test_pca), multi_class='ovr')\n",
        "\n",
        "      # Store the results in the dictionary\n",
        "      results[name] = {\n",
        "          \"Accuracy\": accuracy,\n",
        "          \"Precision\": precision,\n",
        "          \"Recall\": recall,\n",
        "          \"F1 Score\": f1,\n",
        "          \"ROC AUC\": roc_auc,\n",
        "          \"Balanced Accuracy\": balanced_accuracy,\n",
        "          \"Confusion Matrix\": confusion,\n",
        "      }\n",
        "\n",
        "# Display the results\n",
        "print(\"Principal Component Analysis (PCA) \\n\")\n",
        "for name, metrics in results.items():\n",
        "    print(f\"--- {name} ---\")\n",
        "    print(\"Accuracy: {:.2f}\".format(metrics[\"Accuracy\"]))\n",
        "    print(\"Precision: {:.2f}\".format(metrics[\"Precision\"]))\n",
        "    print(\"Recall: {:.2f}\".format(metrics[\"Recall\"]))\n",
        "    print(\"F1 Score: {:.2f}\".format(metrics[\"F1 Score\"]))\n",
        "    print(\"ROC AUC: {:.2f}\".format(metrics[\"ROC AUC\"]))\n",
        "    print(\"Balanced Accuracy: {:.2f}\".format(metrics[\"Balanced Accuracy\"]))\n",
        "    print(\"Confusion Matrix:\")\n",
        "    print(metrics[\"Confusion Matrix\"])\n",
        "    print(\"\\n\")"
      ]
    },
    {
      "cell_type": "markdown",
      "metadata": {
        "id": "5B9T2wW3jrfM"
      },
      "source": [
        "#### **Linear Discriminant Analysis (LDA)**"
      ]
    },
    {
      "cell_type": "code",
      "execution_count": 146,
      "metadata": {
        "id": "2PooRn6XjyDq"
      },
      "outputs": [],
      "source": [
        "# Initialize LDA and transform X_test\n",
        "X_test_lda = lda.transform(X_test)"
      ]
    },
    {
      "cell_type": "code",
      "execution_count": 147,
      "metadata": {
        "colab": {
          "base_uri": "https://localhost:8080/"
        },
        "id": "-dmuV4D1j7Zj",
        "outputId": "462eba7c-9437-4807-c2ab-8ed12abbacf3"
      },
      "outputs": [
        {
          "output_type": "stream",
          "name": "stdout",
          "text": [
            "Linear Discriminant Analysis (LDA) \n",
            "\n",
            "--- Logistic Regression ---\n",
            "Accuracy: 0.83\n",
            "Precision: 0.80\n",
            "Recall: 0.83\n",
            "F1 Score: 0.79\n",
            "ROC AUC: 0.77\n",
            "Balanced Accuracy: 0.39\n",
            "Confusion Matrix:\n",
            "[[1597    0   53]\n",
            " [  39    0    5]\n",
            " [ 246    0   60]]\n",
            "\n",
            "\n",
            "--- Random Forest ---\n",
            "Accuracy: 0.83\n",
            "Precision: 0.80\n",
            "Recall: 0.83\n",
            "F1 Score: 0.79\n",
            "ROC AUC: 0.76\n",
            "Balanced Accuracy: 0.39\n",
            "Confusion Matrix:\n",
            "[[1599    0   51]\n",
            " [  37    0    7]\n",
            " [ 248    0   58]]\n",
            "\n",
            "\n",
            "--- K-Nearest Neighbors ---\n",
            "Accuracy: 0.83\n",
            "Precision: 0.79\n",
            "Recall: 0.83\n",
            "F1 Score: 0.79\n",
            "ROC AUC: 0.67\n",
            "Balanced Accuracy: 0.38\n",
            "Confusion Matrix:\n",
            "[[1593    0   57]\n",
            " [  38    0    6]\n",
            " [ 248    0   58]]\n",
            "\n",
            "\n",
            "--- XGBoost ---\n",
            "Accuracy: 0.82\n",
            "Precision: 0.79\n",
            "Recall: 0.82\n",
            "F1 Score: 0.78\n",
            "ROC AUC: 0.76\n",
            "Balanced Accuracy: 0.38\n",
            "Confusion Matrix:\n",
            "[[1592    0   58]\n",
            " [  38    0    6]\n",
            " [ 252    0   54]]\n",
            "\n",
            "\n"
          ]
        }
      ],
      "source": [
        "# Dictionary to store evaluation metrics and predictions\n",
        "results = {}\n",
        "lda_trained_classifiers= {}\n",
        "\n",
        "# Loop through each classifier\n",
        "for name, clf in classifiers_lda.items():\n",
        "    best_param = best_params.get(name)  # Retrieve the best parameters\n",
        "\n",
        "    if best_param:\n",
        "      # Initialize the classifier with the best parameters\n",
        "      clf = clf.set_params(**best_param)\n",
        "      # Train the classifier\n",
        "      clf.fit(X_train_lda, y_train)\n",
        "\n",
        "      # Store the trained classifiers\n",
        "      lda_trained_classifiers[name] = clf\n",
        "\n",
        "      # Make predictions on the test set\n",
        "      y_pred = clf.predict(X_test_lda)\n",
        "\n",
        "      # Calculate evaluation metrics\n",
        "      accuracy = accuracy_score(y_test, y_pred)\n",
        "      precision = precision_score(y_test, y_pred, average=\"weighted\", zero_division=1)\n",
        "      recall = recall_score(y_test, y_pred, average=\"weighted\", zero_division=1)\n",
        "      f1 = f1_score(y_test, y_pred, average=\"weighted\", zero_division=1)\n",
        "      balanced_accuracy = balanced_accuracy_score(y_test, y_pred)\n",
        "      confusion = confusion_matrix(y_test, y_pred)\n",
        "\n",
        "      # ROC AUC calculation for binary and multiclass classification\n",
        "      if len(np.unique(y_train)) == 2:\n",
        "          roc_auc = roc_auc_score(y_test, clf.predict_proba(X_test_lda)[:, 1])\n",
        "      else:\n",
        "          roc_auc = roc_auc_score(y_test, clf.predict_proba(X_test_lda), multi_class='ovr')\n",
        "\n",
        "      # Store the results in the dictionary\n",
        "      results[name] = {\n",
        "          \"Accuracy\": accuracy,\n",
        "          \"Precision\": precision,\n",
        "          \"Recall\": recall,\n",
        "          \"F1 Score\": f1,\n",
        "          \"ROC AUC\": roc_auc,\n",
        "          \"Balanced Accuracy\": balanced_accuracy,\n",
        "          \"Confusion Matrix\": confusion,\n",
        "      }\n",
        "\n",
        "\n",
        "# Display the results\n",
        "print(\"Linear Discriminant Analysis (LDA) \\n\")\n",
        "for name, metrics in results.items():\n",
        "    print(f\"--- {name} ---\")\n",
        "    print(\"Accuracy: {:.2f}\".format(metrics[\"Accuracy\"]))\n",
        "    print(\"Precision: {:.2f}\".format(metrics[\"Precision\"]))\n",
        "    print(\"Recall: {:.2f}\".format(metrics[\"Recall\"]))\n",
        "    print(\"F1 Score: {:.2f}\".format(metrics[\"F1 Score\"]))\n",
        "    print(\"ROC AUC: {:.2f}\".format(metrics[\"ROC AUC\"]))\n",
        "    print(\"Balanced Accuracy: {:.2f}\".format(metrics[\"Balanced Accuracy\"]))\n",
        "    print(\"Confusion Matrix:\")\n",
        "    print(metrics[\"Confusion Matrix\"])\n",
        "    print(\"\\n\")"
      ]
    },
    {
      "cell_type": "markdown",
      "metadata": {
        "id": "OGnemIRWwt0q"
      },
      "source": [
        "### **Ensemble of Classifiers with Dimensionality Reduction**"
      ]
    },
    {
      "cell_type": "markdown",
      "metadata": {
        "id": "AKkFzB9uwPWF"
      },
      "source": [
        "#### **1. Choose One Dimensionality Reduction Technique**"
      ]
    },
    {
      "cell_type": "markdown",
      "metadata": {
        "id": "e1kbIA3wwnL_"
      },
      "source": [
        "##### **2.1 PCA**"
      ]
    },
    {
      "cell_type": "markdown",
      "metadata": {
        "id": "0wsyCnGx2v9S"
      },
      "source": [
        "###### **Bagging**"
      ]
    },
    {
      "cell_type": "code",
      "execution_count": 148,
      "metadata": {
        "id": "xCOOOvK_vv-T"
      },
      "outputs": [],
      "source": [
        "# Create a list of base classifiers\n",
        "base_classifiers = [pca_trained_classifiers['Logistic Regression'], pca_trained_classifiers['Random Forest'], pca_trained_classifiers['K-Nearest Neighbors'] , pca_trained_classifiers['XGBoost'] ]"
      ]
    },
    {
      "cell_type": "code",
      "execution_count": 149,
      "metadata": {
        "id": "LDB3dMJtzu9r"
      },
      "outputs": [],
      "source": [
        "# Create a list of bagging classifiers, each using a different base classifier\n",
        "bagging_classifiers = []\n",
        "n_estimators = 3  # Number of base estimators\n",
        "\n",
        "for classifier in base_classifiers:\n",
        "    bagging_model = BaggingClassifier(estimator=classifier, n_estimators=n_estimators)\n",
        "    bagging_classifiers.append(bagging_model)\n",
        "\n",
        "# Train the ensemble.\n",
        "for bagging_model in bagging_classifiers:\n",
        "    bagging_model.fit(X_train_pca, y_train)"
      ]
    },
    {
      "cell_type": "code",
      "execution_count": 150,
      "metadata": {
        "id": "1xEiitW90dUn",
        "colab": {
          "base_uri": "https://localhost:8080/"
        },
        "outputId": "2946763c-8f9d-420e-fa6b-9dbb18b7beb2"
      },
      "outputs": [
        {
          "output_type": "stream",
          "name": "stdout",
          "text": [
            "--- LDA Bagging Ensemble with Dimensionality Reduction ---\n",
            "Accuracy: 0.83\n",
            "Precision: 0.79\n",
            "Recall: 0.83\n",
            "F1 Score: 0.78\n",
            "Balanced Accuracy: 0.37\n",
            "Confusion Matrix:\n",
            "[[1611    0   39]\n",
            " [  37    0    7]\n",
            " [ 262    0   44]]\n",
            "\n",
            "\n"
          ]
        }
      ],
      "source": [
        "# Predict using the ensemble classifier\n",
        "begging_pred  = bagging_model.predict(X_test_pca)\n",
        "\n",
        "# Calculate evaluation metrics\n",
        "accuracy = accuracy_score(y_test, begging_pred )\n",
        "precision = precision_score(y_test, begging_pred , average=\"weighted\", zero_division=1)\n",
        "recall = recall_score(y_test, begging_pred , average=\"weighted\", zero_division=1)\n",
        "f1 = f1_score(y_test, begging_pred , average=\"weighted\", zero_division=1)\n",
        "balanced_accuracy = balanced_accuracy_score(y_test, begging_pred )\n",
        "confusion = confusion_matrix(y_test, begging_pred )\n",
        "\n",
        "\n",
        "print(f\"--- LDA Bagging Ensemble with Dimensionality Reduction ---\")\n",
        "print(\"Accuracy: {:.2f}\".format(accuracy))\n",
        "print(\"Precision: {:.2f}\".format(precision))\n",
        "print(\"Recall: {:.2f}\".format(recall))\n",
        "print(\"F1 Score: {:.2f}\".format(f1))\n",
        "print(\"Balanced Accuracy: {:.2f}\".format(balanced_accuracy))\n",
        "print(\"Confusion Matrix:\")\n",
        "print(confusion)\n",
        "print(\"\\n\")"
      ]
    },
    {
      "cell_type": "markdown",
      "metadata": {
        "id": "M7K3fvBy4wJT"
      },
      "source": [
        "###### **Boosting**"
      ]
    },
    {
      "cell_type": "code",
      "execution_count": 151,
      "metadata": {
        "id": "9pvw7ePP43nT"
      },
      "outputs": [],
      "source": [
        "base_classifiers = [pca_trained_classifiers['Logistic Regression'], pca_trained_classifiers['Random Forest'], pca_trained_classifiers['XGBoost'] ]"
      ]
    },
    {
      "cell_type": "code",
      "execution_count": 152,
      "metadata": {
        "id": "GoxcWPky5A9y"
      },
      "outputs": [],
      "source": [
        "# Create a list of boosting classifiers, each using a different base classifier\n",
        "boosting_classifiers = []\n",
        "n_estimators = 3  # Number of boosting iterations\n",
        "\n",
        "for classifier in base_classifiers:\n",
        "    boosting_model = AdaBoostClassifier(estimator=classifier, n_estimators=n_estimators)\n",
        "    boosting_classifiers.append(boosting_model)\n",
        "\n",
        "# Train the ensemble\n",
        "for boosting_model in boosting_classifiers:\n",
        "    boosting_model.fit(X_train_pca, y_train)"
      ]
    },
    {
      "cell_type": "code",
      "execution_count": 153,
      "metadata": {
        "id": "lUaChXvF5Giy",
        "colab": {
          "base_uri": "https://localhost:8080/"
        },
        "outputId": "ce445692-cc30-4e89-f588-9b03a652642a"
      },
      "outputs": [
        {
          "output_type": "stream",
          "name": "stdout",
          "text": [
            "--- LDA Boosting Ensemble with Dimensionality Reduction ---\n",
            "Accuracy: 0.82\n",
            "Precision: 0.86\n",
            "Recall: 0.82\n",
            "F1 Score: 0.75\n",
            "Balanced Accuracy: 0.33\n",
            "Confusion Matrix:\n",
            "[[1650    0    0]\n",
            " [  44    0    0]\n",
            " [ 306    0    0]]\n",
            "\n",
            "\n"
          ]
        }
      ],
      "source": [
        "# Predict using the ensemble classifier\n",
        "boosting_pred  = boosting_model.predict(X_test_pca)\n",
        "\n",
        "# Calculate evaluation metrics\n",
        "accuracy = accuracy_score(y_test, boosting_pred )\n",
        "precision = precision_score(y_test, boosting_pred , average=\"weighted\", zero_division=1)\n",
        "recall = recall_score(y_test, boosting_pred , average=\"weighted\", zero_division=1)\n",
        "f1 = f1_score(y_test, boosting_pred , average=\"weighted\", zero_division=1)\n",
        "balanced_accuracy = balanced_accuracy_score(y_test, boosting_pred )\n",
        "confusion = confusion_matrix(y_test, boosting_pred )\n",
        "\n",
        "\n",
        "print(f\"--- LDA Boosting Ensemble with Dimensionality Reduction ---\")\n",
        "print(\"Accuracy: {:.2f}\".format(accuracy))\n",
        "print(\"Precision: {:.2f}\".format(precision))\n",
        "print(\"Recall: {:.2f}\".format(recall))\n",
        "print(\"F1 Score: {:.2f}\".format(f1))\n",
        "print(\"Balanced Accuracy: {:.2f}\".format(balanced_accuracy))\n",
        "print(\"Confusion Matrix:\")\n",
        "print(confusion)\n",
        "print(\"\\n\")"
      ]
    },
    {
      "cell_type": "markdown",
      "metadata": {
        "id": "yB2hkECAwufR"
      },
      "source": [
        "##### **2.2 LDA**"
      ]
    },
    {
      "cell_type": "code",
      "execution_count": 154,
      "metadata": {
        "id": "6ZyKNwmX7PV9"
      },
      "outputs": [],
      "source": [
        "# Create a list of base classifiers\n",
        "base_classifiers = [lda_trained_classifiers['Logistic Regression'], lda_trained_classifiers['Random Forest'], lda_trained_classifiers['K-Nearest Neighbors'] , lda_trained_classifiers['XGBoost'] ]"
      ]
    },
    {
      "cell_type": "markdown",
      "metadata": {
        "id": "TJsU1qMG60M9"
      },
      "source": [
        "###### **Bagging**"
      ]
    },
    {
      "cell_type": "code",
      "execution_count": 155,
      "metadata": {
        "id": "xjtAXpEY2i2d"
      },
      "outputs": [],
      "source": [
        "# Create a list of bagging classifiers, each using a different base classifier\n",
        "bagging_classifiers = []\n",
        "n_estimators = 4  # Number of base estimators\n",
        "\n",
        "for classifier in base_classifiers:\n",
        "    bagging_model = BaggingClassifier(estimator=classifier, n_estimators=n_estimators)\n",
        "    bagging_classifiers.append(bagging_model)\n",
        "\n",
        "# Train the ensemble\n",
        "for bagging_model in bagging_classifiers:\n",
        "    bagging_model.fit(X_train_lda, y_train)"
      ]
    },
    {
      "cell_type": "code",
      "execution_count": 156,
      "metadata": {
        "id": "dJPHeiVS2s34",
        "colab": {
          "base_uri": "https://localhost:8080/"
        },
        "outputId": "a8198a8e-f303-49fa-d7e5-53430c3b2f03"
      },
      "outputs": [
        {
          "output_type": "stream",
          "name": "stdout",
          "text": [
            "--- LDA Bagging Ensemble with Dimensionality Reduction ---\n",
            "Accuracy: 0.83\n",
            "Precision: 0.79\n",
            "Recall: 0.83\n",
            "F1 Score: 0.78\n",
            "Balanced Accuracy: 0.38\n",
            "Confusion Matrix:\n",
            "[[1600    0   50]\n",
            " [  39    0    5]\n",
            " [ 254    0   52]]\n",
            "\n",
            "\n"
          ]
        }
      ],
      "source": [
        "# Predict using the ensemble classifier\n",
        "begging_pred  = bagging_model.predict(X_test_lda)\n",
        "\n",
        "# Calculate evaluation metrics\n",
        "accuracy = accuracy_score(y_test, begging_pred )\n",
        "precision = precision_score(y_test, begging_pred , average=\"weighted\", zero_division=1)\n",
        "recall = recall_score(y_test, begging_pred , average=\"weighted\", zero_division=1)\n",
        "f1 = f1_score(y_test, begging_pred , average=\"weighted\", zero_division=1)\n",
        "balanced_accuracy = balanced_accuracy_score(y_test, begging_pred )\n",
        "confusion = confusion_matrix(y_test, begging_pred )\n",
        "\n",
        "print(f\"--- LDA Bagging Ensemble with Dimensionality Reduction ---\")\n",
        "print(\"Accuracy: {:.2f}\".format(accuracy))\n",
        "print(\"Precision: {:.2f}\".format(precision))\n",
        "print(\"Recall: {:.2f}\".format(recall))\n",
        "print(\"F1 Score: {:.2f}\".format(f1))\n",
        "print(\"Balanced Accuracy: {:.2f}\".format(balanced_accuracy))\n",
        "print(\"Confusion Matrix:\")\n",
        "print(confusion)\n",
        "print(\"\\n\")"
      ]
    },
    {
      "cell_type": "markdown",
      "metadata": {
        "id": "WA1N5Iyt6-_X"
      },
      "source": [
        "###### **Boosting**"
      ]
    },
    {
      "cell_type": "code",
      "execution_count": 157,
      "metadata": {
        "id": "3rPc9dEaYGLD"
      },
      "outputs": [],
      "source": [
        "base_classifiers = [lda_trained_classifiers['Logistic Regression'], lda_trained_classifiers['Random Forest'], lda_trained_classifiers['XGBoost'] ]"
      ]
    },
    {
      "cell_type": "code",
      "execution_count": 158,
      "metadata": {
        "id": "b8IH02pV7BQ2"
      },
      "outputs": [],
      "source": [
        "# Create a list of boosting classifiers, each using a different base classifier\n",
        "boosting_classifiers = []\n",
        "n_estimators = 3  # Number of boosting iterations\n",
        "\n",
        "for classifier in base_classifiers:\n",
        "    boosting_model = AdaBoostClassifier(estimator=classifier, n_estimators=n_estimators)\n",
        "    boosting_classifiers.append(boosting_model)\n",
        "\n",
        "# Train the ensemble\n",
        "for boosting_model in boosting_classifiers:\n",
        "    boosting_model.fit(X_train_lda, y_train)"
      ]
    },
    {
      "cell_type": "code",
      "execution_count": 159,
      "metadata": {
        "id": "VwjsptVa7gfd",
        "colab": {
          "base_uri": "https://localhost:8080/"
        },
        "outputId": "4b7a5a17-ede6-482e-fecd-ee117cfe4dd4"
      },
      "outputs": [
        {
          "output_type": "stream",
          "name": "stdout",
          "text": [
            "--- LDA Boosting Ensemble with Dimensionality Reduction ---\n",
            "Accuracy: 0.82\n",
            "Precision: 0.86\n",
            "Recall: 0.82\n",
            "F1 Score: 0.75\n",
            "Balanced Accuracy: 0.33\n",
            "Confusion Matrix:\n",
            "[[1650    0    0]\n",
            " [  44    0    0]\n",
            " [ 306    0    0]]\n",
            "\n",
            "\n"
          ]
        }
      ],
      "source": [
        "# Predict using the ensemble classifier\n",
        "boosting_pred  = boosting_model.predict(X_test_lda)\n",
        "\n",
        "# Calculate evaluation metrics\n",
        "accuracy = accuracy_score(y_test, boosting_pred )\n",
        "precision = precision_score(y_test, boosting_pred , average=\"weighted\", zero_division=1)\n",
        "recall = recall_score(y_test, boosting_pred , average=\"weighted\", zero_division=1)\n",
        "f1 = f1_score(y_test, boosting_pred , average=\"weighted\", zero_division=1)\n",
        "balanced_accuracy = balanced_accuracy_score(y_test, boosting_pred )\n",
        "confusion = confusion_matrix(y_test, boosting_pred )\n",
        "\n",
        "print(f\"--- LDA Boosting Ensemble with Dimensionality Reduction ---\")\n",
        "print(\"Accuracy: {:.2f}\".format(accuracy))\n",
        "print(\"Precision: {:.2f}\".format(precision))\n",
        "print(\"Recall: {:.2f}\".format(recall))\n",
        "print(\"F1 Score: {:.2f}\".format(f1))\n",
        "print(\"Balanced Accuracy: {:.2f}\".format(balanced_accuracy))\n",
        "print(\"Confusion Matrix:\")\n",
        "print(confusion)\n",
        "print(\"\\n\")"
      ]
    }
  ],
  "metadata": {
    "colab": {
      "provenance": [],
      "include_colab_link": true
    },
    "kernelspec": {
      "display_name": "Python 3",
      "name": "python3"
    },
    "language_info": {
      "name": "python"
    }
  },
  "nbformat": 4,
  "nbformat_minor": 0
}