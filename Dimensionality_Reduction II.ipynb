{
  "cells": [
    {
      "cell_type": "markdown",
      "metadata": {
        "id": "view-in-github",
        "colab_type": "text"
      },
      "source": [
        "<a href=\"https://colab.research.google.com/github/tsholofelo-mokheleli/ACIS-2023-New-Zealand/blob/main/Dimensionality_Reduction%20II.ipynb\" target=\"_parent\"><img src=\"https://colab.research.google.com/assets/colab-badge.svg\" alt=\"Open In Colab\"/></a>"
      ]
    },
    {
      "cell_type": "markdown",
      "metadata": {
        "id": "Uqf5XlVRI_e2"
      },
      "source": [
        "### **Dimensionality Reduction in Machine Learning**"
      ]
    },
    {
      "cell_type": "markdown",
      "metadata": {
        "id": "GQotO93lIzDE"
      },
      "source": [
        "### **Import Libraries**"
      ]
    },
    {
      "cell_type": "code",
      "execution_count": 124,
      "metadata": {
        "id": "LfiquzfWIV7U"
      },
      "outputs": [],
      "source": [
        "# Load the libraries\n",
        "import pandas as pd\n",
        "import matplotlib.pyplot as plt\n",
        "import seaborn as sea\n",
        "import numpy as np\n",
        "import seaborn as sns\n",
        "\n",
        "# Scaler\n",
        "from sklearn.preprocessing import StandardScaler\n",
        "\n",
        "# Dimensionality reduction\n",
        "from sklearn.decomposition import PCA\n",
        "from sklearn.discriminant_analysis import LinearDiscriminantAnalysis\n",
        "\n",
        "\n",
        "# Warning filter\n",
        "import warnings\n",
        "warnings.filterwarnings('ignore')\n",
        "cmap=sns.color_palette('Blues_r')\n",
        "\n",
        "# Metrics\n",
        "from sklearn.model_selection import train_test_split\n",
        "from sklearn.model_selection import cross_val_score\n",
        "from sklearn.metrics import accuracy_score, precision_score, recall_score, f1_score, roc_auc_score, cohen_kappa_score, confusion_matrix, balanced_accuracy_score\n",
        "from imblearn.metrics import geometric_mean_score\n",
        "\n",
        "# Classifiers\n",
        "from sklearn.linear_model import LogisticRegression\n",
        "from sklearn.ensemble import RandomForestClassifier\n",
        "from xgboost import XGBClassifier\n",
        "from sklearn.neighbors import KNeighborsClassifier\n",
        "\n",
        "# Ensemble Method\n",
        "from sklearn.ensemble import BaggingClassifier\n",
        "from sklearn.ensemble import StackingClassifier\n",
        "from sklearn.ensemble import VotingClassifier\n",
        "from sklearn.ensemble import AdaBoostClassifier\n",
        "\n",
        "\n",
        "# Plot Theme\n",
        "sns.set_style(\"darkgrid\")\n",
        "plt.style.use(\"seaborn-deep\")"
      ]
    },
    {
      "cell_type": "markdown",
      "metadata": {
        "id": "v7R4pisEJMl9"
      },
      "source": [
        "### **Load the data**"
      ]
    },
    {
      "cell_type": "code",
      "execution_count": 125,
      "metadata": {
        "id": "iouBu3zQJLrA"
      },
      "outputs": [],
      "source": [
        "data = pd.read_csv(\"Diabetes health indicators Multi-Class.csv\", sep=';', on_bad_lines='skip')"
      ]
    },
    {
      "cell_type": "code",
      "execution_count": 126,
      "metadata": {
        "colab": {
          "base_uri": "https://localhost:8080/",
          "height": 235
        },
        "id": "dvMhcVsJJLvl",
        "outputId": "1d8d395b-66cd-4213-b2f3-6a8b350e51fb"
      },
      "outputs": [
        {
          "output_type": "execute_result",
          "data": {
            "text/plain": [
              "   Patient  Diabetes_012  HighBP  HighChol  CholCheck   BMI  Smoker  Stroke  \\\n",
              "0        1           0.0     1.0       1.0        1.0  40.0     1.0     0.0   \n",
              "1        2           0.0     0.0       0.0        0.0  25.0     1.0     0.0   \n",
              "2        3           0.0     1.0       1.0        1.0  28.0     0.0     0.0   \n",
              "3        4           0.0     1.0       0.0        1.0  27.0     0.0     0.0   \n",
              "4        5           0.0     1.0       1.0        1.0  24.0     0.0     0.0   \n",
              "\n",
              "   HeartDiseaseorAttack  PhysActivity  ...  AnyHealthcare  NoDocbcCost  \\\n",
              "0                   0.0           0.0  ...            1.0          0.0   \n",
              "1                   0.0           1.0  ...            0.0          1.0   \n",
              "2                   0.0           0.0  ...            1.0          1.0   \n",
              "3                   0.0           1.0  ...            1.0          0.0   \n",
              "4                   0.0           1.0  ...            1.0          0.0   \n",
              "\n",
              "   GenHlth  MentHlth  PhysHlth  DiffWalk  Sex   Age  Education  Income  \n",
              "0      5.0      18.0      15.0       1.0  0.0   9.0        4.0     3.0  \n",
              "1      3.0       0.0       0.0       0.0  0.0   7.0        6.0     1.0  \n",
              "2      5.0      30.0      30.0       1.0  0.0   9.0        4.0     8.0  \n",
              "3      2.0       0.0       0.0       0.0  0.0  11.0        3.0     6.0  \n",
              "4      2.0       3.0       0.0       0.0  0.0  11.0        5.0     4.0  \n",
              "\n",
              "[5 rows x 23 columns]"
            ],
            "text/html": [
              "\n",
              "\n",
              "  <div id=\"df-5b2ec9b7-8f5c-4b11-a226-804cd53dba05\">\n",
              "    <div class=\"colab-df-container\">\n",
              "      <div>\n",
              "<style scoped>\n",
              "    .dataframe tbody tr th:only-of-type {\n",
              "        vertical-align: middle;\n",
              "    }\n",
              "\n",
              "    .dataframe tbody tr th {\n",
              "        vertical-align: top;\n",
              "    }\n",
              "\n",
              "    .dataframe thead th {\n",
              "        text-align: right;\n",
              "    }\n",
              "</style>\n",
              "<table border=\"1\" class=\"dataframe\">\n",
              "  <thead>\n",
              "    <tr style=\"text-align: right;\">\n",
              "      <th></th>\n",
              "      <th>Patient</th>\n",
              "      <th>Diabetes_012</th>\n",
              "      <th>HighBP</th>\n",
              "      <th>HighChol</th>\n",
              "      <th>CholCheck</th>\n",
              "      <th>BMI</th>\n",
              "      <th>Smoker</th>\n",
              "      <th>Stroke</th>\n",
              "      <th>HeartDiseaseorAttack</th>\n",
              "      <th>PhysActivity</th>\n",
              "      <th>...</th>\n",
              "      <th>AnyHealthcare</th>\n",
              "      <th>NoDocbcCost</th>\n",
              "      <th>GenHlth</th>\n",
              "      <th>MentHlth</th>\n",
              "      <th>PhysHlth</th>\n",
              "      <th>DiffWalk</th>\n",
              "      <th>Sex</th>\n",
              "      <th>Age</th>\n",
              "      <th>Education</th>\n",
              "      <th>Income</th>\n",
              "    </tr>\n",
              "  </thead>\n",
              "  <tbody>\n",
              "    <tr>\n",
              "      <th>0</th>\n",
              "      <td>1</td>\n",
              "      <td>0.0</td>\n",
              "      <td>1.0</td>\n",
              "      <td>1.0</td>\n",
              "      <td>1.0</td>\n",
              "      <td>40.0</td>\n",
              "      <td>1.0</td>\n",
              "      <td>0.0</td>\n",
              "      <td>0.0</td>\n",
              "      <td>0.0</td>\n",
              "      <td>...</td>\n",
              "      <td>1.0</td>\n",
              "      <td>0.0</td>\n",
              "      <td>5.0</td>\n",
              "      <td>18.0</td>\n",
              "      <td>15.0</td>\n",
              "      <td>1.0</td>\n",
              "      <td>0.0</td>\n",
              "      <td>9.0</td>\n",
              "      <td>4.0</td>\n",
              "      <td>3.0</td>\n",
              "    </tr>\n",
              "    <tr>\n",
              "      <th>1</th>\n",
              "      <td>2</td>\n",
              "      <td>0.0</td>\n",
              "      <td>0.0</td>\n",
              "      <td>0.0</td>\n",
              "      <td>0.0</td>\n",
              "      <td>25.0</td>\n",
              "      <td>1.0</td>\n",
              "      <td>0.0</td>\n",
              "      <td>0.0</td>\n",
              "      <td>1.0</td>\n",
              "      <td>...</td>\n",
              "      <td>0.0</td>\n",
              "      <td>1.0</td>\n",
              "      <td>3.0</td>\n",
              "      <td>0.0</td>\n",
              "      <td>0.0</td>\n",
              "      <td>0.0</td>\n",
              "      <td>0.0</td>\n",
              "      <td>7.0</td>\n",
              "      <td>6.0</td>\n",
              "      <td>1.0</td>\n",
              "    </tr>\n",
              "    <tr>\n",
              "      <th>2</th>\n",
              "      <td>3</td>\n",
              "      <td>0.0</td>\n",
              "      <td>1.0</td>\n",
              "      <td>1.0</td>\n",
              "      <td>1.0</td>\n",
              "      <td>28.0</td>\n",
              "      <td>0.0</td>\n",
              "      <td>0.0</td>\n",
              "      <td>0.0</td>\n",
              "      <td>0.0</td>\n",
              "      <td>...</td>\n",
              "      <td>1.0</td>\n",
              "      <td>1.0</td>\n",
              "      <td>5.0</td>\n",
              "      <td>30.0</td>\n",
              "      <td>30.0</td>\n",
              "      <td>1.0</td>\n",
              "      <td>0.0</td>\n",
              "      <td>9.0</td>\n",
              "      <td>4.0</td>\n",
              "      <td>8.0</td>\n",
              "    </tr>\n",
              "    <tr>\n",
              "      <th>3</th>\n",
              "      <td>4</td>\n",
              "      <td>0.0</td>\n",
              "      <td>1.0</td>\n",
              "      <td>0.0</td>\n",
              "      <td>1.0</td>\n",
              "      <td>27.0</td>\n",
              "      <td>0.0</td>\n",
              "      <td>0.0</td>\n",
              "      <td>0.0</td>\n",
              "      <td>1.0</td>\n",
              "      <td>...</td>\n",
              "      <td>1.0</td>\n",
              "      <td>0.0</td>\n",
              "      <td>2.0</td>\n",
              "      <td>0.0</td>\n",
              "      <td>0.0</td>\n",
              "      <td>0.0</td>\n",
              "      <td>0.0</td>\n",
              "      <td>11.0</td>\n",
              "      <td>3.0</td>\n",
              "      <td>6.0</td>\n",
              "    </tr>\n",
              "    <tr>\n",
              "      <th>4</th>\n",
              "      <td>5</td>\n",
              "      <td>0.0</td>\n",
              "      <td>1.0</td>\n",
              "      <td>1.0</td>\n",
              "      <td>1.0</td>\n",
              "      <td>24.0</td>\n",
              "      <td>0.0</td>\n",
              "      <td>0.0</td>\n",
              "      <td>0.0</td>\n",
              "      <td>1.0</td>\n",
              "      <td>...</td>\n",
              "      <td>1.0</td>\n",
              "      <td>0.0</td>\n",
              "      <td>2.0</td>\n",
              "      <td>3.0</td>\n",
              "      <td>0.0</td>\n",
              "      <td>0.0</td>\n",
              "      <td>0.0</td>\n",
              "      <td>11.0</td>\n",
              "      <td>5.0</td>\n",
              "      <td>4.0</td>\n",
              "    </tr>\n",
              "  </tbody>\n",
              "</table>\n",
              "<p>5 rows × 23 columns</p>\n",
              "</div>\n",
              "      <button class=\"colab-df-convert\" onclick=\"convertToInteractive('df-5b2ec9b7-8f5c-4b11-a226-804cd53dba05')\"\n",
              "              title=\"Convert this dataframe to an interactive table.\"\n",
              "              style=\"display:none;\">\n",
              "\n",
              "  <svg xmlns=\"http://www.w3.org/2000/svg\" height=\"24px\"viewBox=\"0 0 24 24\"\n",
              "       width=\"24px\">\n",
              "    <path d=\"M0 0h24v24H0V0z\" fill=\"none\"/>\n",
              "    <path d=\"M18.56 5.44l.94 2.06.94-2.06 2.06-.94-2.06-.94-.94-2.06-.94 2.06-2.06.94zm-11 1L8.5 8.5l.94-2.06 2.06-.94-2.06-.94L8.5 2.5l-.94 2.06-2.06.94zm10 10l.94 2.06.94-2.06 2.06-.94-2.06-.94-.94-2.06-.94 2.06-2.06.94z\"/><path d=\"M17.41 7.96l-1.37-1.37c-.4-.4-.92-.59-1.43-.59-.52 0-1.04.2-1.43.59L10.3 9.45l-7.72 7.72c-.78.78-.78 2.05 0 2.83L4 21.41c.39.39.9.59 1.41.59.51 0 1.02-.2 1.41-.59l7.78-7.78 2.81-2.81c.8-.78.8-2.07 0-2.86zM5.41 20L4 18.59l7.72-7.72 1.47 1.35L5.41 20z\"/>\n",
              "  </svg>\n",
              "      </button>\n",
              "\n",
              "\n",
              "\n",
              "    <div id=\"df-17701323-27f3-4713-a81a-930c988a99f5\">\n",
              "      <button class=\"colab-df-quickchart\" onclick=\"quickchart('df-17701323-27f3-4713-a81a-930c988a99f5')\"\n",
              "              title=\"Suggest charts.\"\n",
              "              style=\"display:none;\">\n",
              "\n",
              "<svg xmlns=\"http://www.w3.org/2000/svg\" height=\"24px\"viewBox=\"0 0 24 24\"\n",
              "     width=\"24px\">\n",
              "    <g>\n",
              "        <path d=\"M19 3H5c-1.1 0-2 .9-2 2v14c0 1.1.9 2 2 2h14c1.1 0 2-.9 2-2V5c0-1.1-.9-2-2-2zM9 17H7v-7h2v7zm4 0h-2V7h2v10zm4 0h-2v-4h2v4z\"/>\n",
              "    </g>\n",
              "</svg>\n",
              "      </button>\n",
              "    </div>\n",
              "\n",
              "<style>\n",
              "  .colab-df-quickchart {\n",
              "    background-color: #E8F0FE;\n",
              "    border: none;\n",
              "    border-radius: 50%;\n",
              "    cursor: pointer;\n",
              "    display: none;\n",
              "    fill: #1967D2;\n",
              "    height: 32px;\n",
              "    padding: 0 0 0 0;\n",
              "    width: 32px;\n",
              "  }\n",
              "\n",
              "  .colab-df-quickchart:hover {\n",
              "    background-color: #E2EBFA;\n",
              "    box-shadow: 0px 1px 2px rgba(60, 64, 67, 0.3), 0px 1px 3px 1px rgba(60, 64, 67, 0.15);\n",
              "    fill: #174EA6;\n",
              "  }\n",
              "\n",
              "  [theme=dark] .colab-df-quickchart {\n",
              "    background-color: #3B4455;\n",
              "    fill: #D2E3FC;\n",
              "  }\n",
              "\n",
              "  [theme=dark] .colab-df-quickchart:hover {\n",
              "    background-color: #434B5C;\n",
              "    box-shadow: 0px 1px 3px 1px rgba(0, 0, 0, 0.15);\n",
              "    filter: drop-shadow(0px 1px 2px rgba(0, 0, 0, 0.3));\n",
              "    fill: #FFFFFF;\n",
              "  }\n",
              "</style>\n",
              "\n",
              "    <script>\n",
              "      async function quickchart(key) {\n",
              "        const containerElement = document.querySelector('#' + key);\n",
              "        const charts = await google.colab.kernel.invokeFunction(\n",
              "            'suggestCharts', [key], {});\n",
              "      }\n",
              "    </script>\n",
              "\n",
              "      <script>\n",
              "\n",
              "function displayQuickchartButton(domScope) {\n",
              "  let quickchartButtonEl =\n",
              "    domScope.querySelector('#df-17701323-27f3-4713-a81a-930c988a99f5 button.colab-df-quickchart');\n",
              "  quickchartButtonEl.style.display =\n",
              "    google.colab.kernel.accessAllowed ? 'block' : 'none';\n",
              "}\n",
              "\n",
              "        displayQuickchartButton(document);\n",
              "      </script>\n",
              "      <style>\n",
              "    .colab-df-container {\n",
              "      display:flex;\n",
              "      flex-wrap:wrap;\n",
              "      gap: 12px;\n",
              "    }\n",
              "\n",
              "    .colab-df-convert {\n",
              "      background-color: #E8F0FE;\n",
              "      border: none;\n",
              "      border-radius: 50%;\n",
              "      cursor: pointer;\n",
              "      display: none;\n",
              "      fill: #1967D2;\n",
              "      height: 32px;\n",
              "      padding: 0 0 0 0;\n",
              "      width: 32px;\n",
              "    }\n",
              "\n",
              "    .colab-df-convert:hover {\n",
              "      background-color: #E2EBFA;\n",
              "      box-shadow: 0px 1px 2px rgba(60, 64, 67, 0.3), 0px 1px 3px 1px rgba(60, 64, 67, 0.15);\n",
              "      fill: #174EA6;\n",
              "    }\n",
              "\n",
              "    [theme=dark] .colab-df-convert {\n",
              "      background-color: #3B4455;\n",
              "      fill: #D2E3FC;\n",
              "    }\n",
              "\n",
              "    [theme=dark] .colab-df-convert:hover {\n",
              "      background-color: #434B5C;\n",
              "      box-shadow: 0px 1px 3px 1px rgba(0, 0, 0, 0.15);\n",
              "      filter: drop-shadow(0px 1px 2px rgba(0, 0, 0, 0.3));\n",
              "      fill: #FFFFFF;\n",
              "    }\n",
              "  </style>\n",
              "\n",
              "      <script>\n",
              "        const buttonEl =\n",
              "          document.querySelector('#df-5b2ec9b7-8f5c-4b11-a226-804cd53dba05 button.colab-df-convert');\n",
              "        buttonEl.style.display =\n",
              "          google.colab.kernel.accessAllowed ? 'block' : 'none';\n",
              "\n",
              "        async function convertToInteractive(key) {\n",
              "          const element = document.querySelector('#df-5b2ec9b7-8f5c-4b11-a226-804cd53dba05');\n",
              "          const dataTable =\n",
              "            await google.colab.kernel.invokeFunction('convertToInteractive',\n",
              "                                                     [key], {});\n",
              "          if (!dataTable) return;\n",
              "\n",
              "          const docLinkHtml = 'Like what you see? Visit the ' +\n",
              "            '<a target=\"_blank\" href=https://colab.research.google.com/notebooks/data_table.ipynb>data table notebook</a>'\n",
              "            + ' to learn more about interactive tables.';\n",
              "          element.innerHTML = '';\n",
              "          dataTable['output_type'] = 'display_data';\n",
              "          await google.colab.output.renderOutput(dataTable, element);\n",
              "          const docLink = document.createElement('div');\n",
              "          docLink.innerHTML = docLinkHtml;\n",
              "          element.appendChild(docLink);\n",
              "        }\n",
              "      </script>\n",
              "    </div>\n",
              "  </div>\n"
            ]
          },
          "metadata": {},
          "execution_count": 126
        }
      ],
      "source": [
        "data.head()"
      ]
    },
    {
      "cell_type": "code",
      "execution_count": 127,
      "metadata": {
        "colab": {
          "base_uri": "https://localhost:8080/"
        },
        "id": "n4R3e42iJzR9",
        "outputId": "c44daa7d-d413-4c5a-f84c-6bcfce82bb0c"
      },
      "outputs": [
        {
          "output_type": "execute_result",
          "data": {
            "text/plain": [
              "(253680, 23)"
            ]
          },
          "metadata": {},
          "execution_count": 127
        }
      ],
      "source": [
        "data.shape"
      ]
    },
    {
      "cell_type": "code",
      "execution_count": 128,
      "metadata": {
        "colab": {
          "base_uri": "https://localhost:8080/"
        },
        "id": "fFCVDkB_NbBA",
        "outputId": "ae8f05c5-58f7-42a2-d648-d5875b2b430f"
      },
      "outputs": [
        {
          "output_type": "stream",
          "name": "stdout",
          "text": [
            "<class 'pandas.core.frame.DataFrame'>\n",
            "RangeIndex: 253680 entries, 0 to 253679\n",
            "Data columns (total 23 columns):\n",
            " #   Column                Non-Null Count   Dtype  \n",
            "---  ------                --------------   -----  \n",
            " 0   Patient               253680 non-null  int64  \n",
            " 1   Diabetes_012          253680 non-null  float64\n",
            " 2   HighBP                253680 non-null  float64\n",
            " 3   HighChol              253680 non-null  float64\n",
            " 4   CholCheck             253680 non-null  float64\n",
            " 5   BMI                   253680 non-null  float64\n",
            " 6   Smoker                253680 non-null  float64\n",
            " 7   Stroke                253680 non-null  float64\n",
            " 8   HeartDiseaseorAttack  253680 non-null  float64\n",
            " 9   PhysActivity          253680 non-null  float64\n",
            " 10  Fruits                253680 non-null  float64\n",
            " 11  Veggies               253680 non-null  float64\n",
            " 12  HvyAlcoholConsump     253680 non-null  float64\n",
            " 13  AnyHealthcare         253680 non-null  float64\n",
            " 14  NoDocbcCost           253680 non-null  float64\n",
            " 15  GenHlth               253680 non-null  float64\n",
            " 16  MentHlth              253680 non-null  float64\n",
            " 17  PhysHlth              253680 non-null  float64\n",
            " 18  DiffWalk              253680 non-null  float64\n",
            " 19  Sex                   253680 non-null  float64\n",
            " 20  Age                   253680 non-null  float64\n",
            " 21  Education             253680 non-null  float64\n",
            " 22  Income                253680 non-null  float64\n",
            "dtypes: float64(22), int64(1)\n",
            "memory usage: 44.5 MB\n"
          ]
        }
      ],
      "source": [
        "data.info()"
      ]
    },
    {
      "cell_type": "markdown",
      "metadata": {
        "id": "95fWaYUYNgC_"
      },
      "source": [
        "**Drop null from target var, and Convert data to Float**"
      ]
    },
    {
      "cell_type": "code",
      "execution_count": 129,
      "metadata": {
        "colab": {
          "base_uri": "https://localhost:8080/"
        },
        "id": "KOfyp5gTNfUe",
        "outputId": "19c20ef5-2037-4b6e-a2c2-97a05302fe5c"
      },
      "outputs": [
        {
          "output_type": "stream",
          "name": "stdout",
          "text": [
            "<class 'pandas.core.frame.DataFrame'>\n",
            "RangeIndex: 253680 entries, 0 to 253679\n",
            "Data columns (total 22 columns):\n",
            " #   Column                Non-Null Count   Dtype  \n",
            "---  ------                --------------   -----  \n",
            " 0   Diabetes_012          253680 non-null  float64\n",
            " 1   HighBP                253680 non-null  float64\n",
            " 2   HighChol              253680 non-null  float64\n",
            " 3   CholCheck             253680 non-null  float64\n",
            " 4   BMI                   253680 non-null  float64\n",
            " 5   Smoker                253680 non-null  float64\n",
            " 6   Stroke                253680 non-null  float64\n",
            " 7   HeartDiseaseorAttack  253680 non-null  float64\n",
            " 8   PhysActivity          253680 non-null  float64\n",
            " 9   Fruits                253680 non-null  float64\n",
            " 10  Veggies               253680 non-null  float64\n",
            " 11  HvyAlcoholConsump     253680 non-null  float64\n",
            " 12  AnyHealthcare         253680 non-null  float64\n",
            " 13  NoDocbcCost           253680 non-null  float64\n",
            " 14  GenHlth               253680 non-null  float64\n",
            " 15  MentHlth              253680 non-null  float64\n",
            " 16  PhysHlth              253680 non-null  float64\n",
            " 17  DiffWalk              253680 non-null  float64\n",
            " 18  Sex                   253680 non-null  float64\n",
            " 19  Age                   253680 non-null  float64\n",
            " 20  Education             253680 non-null  float64\n",
            " 21  Income                253680 non-null  float64\n",
            "dtypes: float64(22)\n",
            "memory usage: 42.6 MB\n"
          ]
        }
      ],
      "source": [
        "data = data.drop([\"Patient\"], axis=1)\n",
        "data = data.dropna()\n",
        "\n",
        "# Convert all columns to int data type\n",
        "for column in data.columns:\n",
        "    data[column] = data[column].astype('float')\n",
        "\n",
        "data.info()"
      ]
    },
    {
      "cell_type": "markdown",
      "metadata": {
        "id": "2YSMJYxNVvhP"
      },
      "source": [
        "### **Class Distribution**"
      ]
    },
    {
      "cell_type": "markdown",
      "metadata": {
        "id": "Xeznh_XOO1mf"
      },
      "source": [
        "**Explore the class distribution**"
      ]
    },
    {
      "cell_type": "code",
      "execution_count": 130,
      "metadata": {
        "colab": {
          "base_uri": "https://localhost:8080/"
        },
        "id": "sKD6zX7vO1D3",
        "outputId": "fb776a49-bf87-4fd5-d4a2-5665dfe23491"
      },
      "outputs": [
        {
          "output_type": "stream",
          "name": "stdout",
          "text": [
            "0.0    213703\n",
            "2.0     35346\n",
            "1.0      4631\n",
            "Name: Diabetes_012, dtype: int64\n"
          ]
        }
      ],
      "source": [
        "class_counts = data['Diabetes_012'].value_counts()\n",
        "print(class_counts)"
      ]
    },
    {
      "cell_type": "markdown",
      "metadata": {
        "id": "Li4Jrv36O90o"
      },
      "source": [
        "**Visualize the class distribution**"
      ]
    },
    {
      "cell_type": "code",
      "execution_count": 131,
      "metadata": {
        "colab": {
          "base_uri": "https://localhost:8080/",
          "height": 472
        },
        "id": "Mc06RoxFO-sf",
        "outputId": "78e3f1b0-2081-4599-ef70-6b565505aa63"
      },
      "outputs": [
        {
          "output_type": "display_data",
          "data": {
            "text/plain": [
              "<Figure size 640x480 with 1 Axes>"
            ],
            "image/png": "[encoded data removed]"
          },
          "metadata": {}
        }
      ],
      "source": [
        "# Create a copy of the original dataset\n",
        "new_data = data.copy()\n",
        "\n",
        "mh_mapping = {0.0: 'No Diabetes', 1.0: 'Prediabetes', 2.0: 'Diabetes'}\n",
        "new_data['dhi_label'] = new_data['Diabetes_012'].map(mh_mapping)\n",
        "\n",
        "# Plot the distribution based on the new dataset\n",
        "sns.countplot(data=new_data, x='dhi_label')\n",
        "plt.xlabel('Diabetes Status')\n",
        "plt.ylabel('Count')\n",
        "plt.title('Diabetes Class Distribution')\n",
        "plt.show()"
      ]
    },
    {
      "cell_type": "markdown",
      "metadata": {
        "id": "i8lEj_EfV4Ck"
      },
      "source": [
        "### **Standardizing**"
      ]
    },
    {
      "cell_type": "code",
      "execution_count": 132,
      "metadata": {
        "id": "TJgESC9BQR2p"
      },
      "outputs": [],
      "source": [
        "data_x = data.drop([\"Diabetes_012\"], axis=1)\n",
        "data_y = data['Diabetes_012']"
      ]
    },
    {
      "cell_type": "code",
      "execution_count": 133,
      "metadata": {
        "colab": {
          "base_uri": "https://localhost:8080/",
          "height": 991
        },
        "id": "3lK2Jd10QHTj",
        "outputId": "dc9afcb1-b490-4b68-8f27-bf090857f813"
      },
      "outputs": [
        {
          "output_type": "display_data",
          "data": {
            "text/plain": [
              "<Figure size 2000x1000 with 1 Axes>"
            ],
            "image/png": "[encoded data removed]"
          },
          "metadata": {}
        }
      ],
      "source": [
        "plt.figure(figsize=(20,10))\n",
        "data_x.boxplot()\n",
        "plt.xticks(rotation=90)\n",
        "plt.title(\"Distribution of the values ​​of all Features\")\n",
        "plt.show()"
      ]
    },
    {
      "cell_type": "markdown",
      "metadata": {
        "id": "FhQGJTRLSMgd"
      },
      "source": [
        "- *We observe a large Scale difference between variables. We need to standardize them to avoid those with large scales wrongly have too much weight in the calculations.*\n",
        "\n",
        "- *Standardizing a dataset is necessary in several situations to ensure fair and meaningful comparisons and analyses*\n",
        "\n",
        "\n",
        "- *PCA aims to capture the most variance in the data. If features are on different scales, those with larger scales will contribute more to the variance, potentially overshadowing important patterns present in smaller-scaled features.*\n",
        "\n",
        "- *Standardization can indeed be beneficial in this situation. Applying a StandardScaler is a common preprocessing step before using dimensionality reduction techniques.*\n",
        "\n",
        "1. **Standardization Purpose:**\n",
        "\n",
        "  *Standardization (or z-score normalization) transforms the features in a way that they have a mean of 0 and a standard deviation of 1. This process helps when features are on different scales, as some dimensionality reduction techniques, like PCA, are sensitive to the scale of the data.*\n",
        "\n",
        "2. **Application of StandardScaler:**\n",
        "\n",
        "  *It's generally a good practice to apply the StandardScaler to all features in your dataset, especially if there are large scale differences between them. This ensures that all features are on a similar scale, which can prevent certain features from dominating the dimensionality reduction process simply due to their larger values.*\n",
        "\n",
        "*Applying the StandardScaler to all features in your diabetes dataset is a wise choice. This will help ensure that your dimensionality reduction techniques and ensemble methods perform consistently and effectively across all features, regardless of their scale differences.*\n",
        "\n"
      ]
    },
    {
      "cell_type": "markdown",
      "metadata": {
        "id": "Uvhrh-4STq8S"
      },
      "source": [
        "**Standardize the feature columns**"
      ]
    },
    {
      "cell_type": "code",
      "execution_count": 134,
      "metadata": {
        "id": "kmxFRDzNS5ku"
      },
      "outputs": [],
      "source": [
        "scaler = StandardScaler()\n",
        "standardized_features = scaler.fit_transform(data_x)\n",
        "\n",
        "# Convert the standardized features back to a DataFrame\n",
        "std_data = pd.DataFrame(standardized_features, columns=data_x.columns)"
      ]
    },
    {
      "cell_type": "code",
      "execution_count": 135,
      "metadata": {
        "colab": {
          "base_uri": "https://localhost:8080/",
          "height": 299
        },
        "id": "nB7J_K-hTCz6",
        "outputId": "faca5fe1-e84e-465a-b993-6dbe02fe041b"
      },
      "outputs": [
        {
          "output_type": "execute_result",
          "data": {
            "text/plain": [
              "     HighBP  HighChol  CholCheck       BMI    Smoker    Stroke  \\\n",
              "0  1.153688  1.165254   0.196922  1.757936  1.120927 -0.205637   \n",
              "1 -0.866785 -0.858182  -5.078164 -0.511806  1.120927 -0.205637   \n",
              "2  1.153688  1.165254   0.196922 -0.057858 -0.892119 -0.205637   \n",
              "3  1.153688 -0.858182   0.196922 -0.209174 -0.892119 -0.205637   \n",
              "4  1.153688  1.165254   0.196922 -0.663122 -0.892119 -0.205637   \n",
              "\n",
              "   HeartDiseaseorAttack  PhysActivity    Fruits   Veggies  ...  AnyHealthcare  \\\n",
              "0             -0.322458     -1.762814 -1.316872  0.482087  ...       0.226863   \n",
              "1             -0.322458      0.567275 -1.316872 -2.074316  ...      -4.407954   \n",
              "2             -0.322458     -1.762814  0.759375 -2.074316  ...       0.226863   \n",
              "3             -0.322458      0.567275  0.759375  0.482087  ...       0.226863   \n",
              "4             -0.322458      0.567275  0.759375  0.482087  ...       0.226863   \n",
              "\n",
              "   NoDocbcCost   GenHlth  MentHlth  PhysHlth  DiffWalk       Sex       Age  \\\n",
              "0    -0.303173  2.329121  1.998592  1.233999  2.223615 -0.887021  0.316900   \n",
              "1     3.298445  0.457294 -0.429630 -0.486592 -0.449718 -0.887021 -0.337933   \n",
              "2     3.298445  2.329121  3.617407  2.954590  2.223615 -0.887021  0.316900   \n",
              "3    -0.303173 -0.478619 -0.429630 -0.486592 -0.449718 -0.887021  0.971733   \n",
              "4    -0.303173 -0.478619 -0.024926 -0.486592 -0.449718 -0.887021  0.971733   \n",
              "\n",
              "   Education    Income  \n",
              "0  -1.065595 -1.474487  \n",
              "1   0.963272 -2.440138  \n",
              "2  -1.065595  0.939638  \n",
              "3  -2.080028 -0.026012  \n",
              "4  -0.051162 -0.991662  \n",
              "\n",
              "[5 rows x 21 columns]"
            ],
            "text/html": [
              "\n",
              "\n",
              "  <div id=\"df-1059f6f1-db63-4fb3-b13c-77a625da9b94\">\n",
              "    <div class=\"colab-df-container\">\n",
              "      <div>\n",
              "<style scoped>\n",
              "    .dataframe tbody tr th:only-of-type {\n",
              "        vertical-align: middle;\n",
              "    }\n",
              "\n",
              "    .dataframe tbody tr th {\n",
              "        vertical-align: top;\n",
              "    }\n",
              "\n",
              "    .dataframe thead th {\n",
              "        text-align: right;\n",
              "    }\n",
              "</style>\n",
              "<table border=\"1\" class=\"dataframe\">\n",
              "  <thead>\n",
              "    <tr style=\"text-align: right;\">\n",
              "      <th></th>\n",
              "      <th>HighBP</th>\n",
              "      <th>HighChol</th>\n",
              "      <th>CholCheck</th>\n",
              "      <th>BMI</th>\n",
              "      <th>Smoker</th>\n",
              "      <th>Stroke</th>\n",
              "      <th>HeartDiseaseorAttack</th>\n",
              "      <th>PhysActivity</th>\n",
              "      <th>Fruits</th>\n",
              "      <th>Veggies</th>\n",
              "      <th>...</th>\n",
              "      <th>AnyHealthcare</th>\n",
              "      <th>NoDocbcCost</th>\n",
              "      <th>GenHlth</th>\n",
              "      <th>MentHlth</th>\n",
              "      <th>PhysHlth</th>\n",
              "      <th>DiffWalk</th>\n",
              "      <th>Sex</th>\n",
              "      <th>Age</th>\n",
              "      <th>Education</th>\n",
              "      <th>Income</th>\n",
              "    </tr>\n",
              "  </thead>\n",
              "  <tbody>\n",
              "    <tr>\n",
              "      <th>0</th>\n",
              "      <td>1.153688</td>\n",
              "      <td>1.165254</td>\n",
              "      <td>0.196922</td>\n",
              "      <td>1.757936</td>\n",
              "      <td>1.120927</td>\n",
              "      <td>-0.205637</td>\n",
              "      <td>-0.322458</td>\n",
              "      <td>-1.762814</td>\n",
              "      <td>-1.316872</td>\n",
              "      <td>0.482087</td>\n",
              "      <td>...</td>\n",
              "      <td>0.226863</td>\n",
              "      <td>-0.303173</td>\n",
              "      <td>2.329121</td>\n",
              "      <td>1.998592</td>\n",
              "      <td>1.233999</td>\n",
              "      <td>2.223615</td>\n",
              "      <td>-0.887021</td>\n",
              "      <td>0.316900</td>\n",
              "      <td>-1.065595</td>\n",
              "      <td>-1.474487</td>\n",
              "    </tr>\n",
              "    <tr>\n",
              "      <th>1</th>\n",
              "      <td>-0.866785</td>\n",
              "      <td>-0.858182</td>\n",
              "      <td>-5.078164</td>\n",
              "      <td>-0.511806</td>\n",
              "      <td>1.120927</td>\n",
              "      <td>-0.205637</td>\n",
              "      <td>-0.322458</td>\n",
              "      <td>0.567275</td>\n",
              "      <td>-1.316872</td>\n",
              "      <td>-2.074316</td>\n",
              "      <td>...</td>\n",
              "      <td>-4.407954</td>\n",
              "      <td>3.298445</td>\n",
              "      <td>0.457294</td>\n",
              "      <td>-0.429630</td>\n",
              "      <td>-0.486592</td>\n",
              "      <td>-0.449718</td>\n",
              "      <td>-0.887021</td>\n",
              "      <td>-0.337933</td>\n",
              "      <td>0.963272</td>\n",
              "      <td>-2.440138</td>\n",
              "    </tr>\n",
              "    <tr>\n",
              "      <th>2</th>\n",
              "      <td>1.153688</td>\n",
              "      <td>1.165254</td>\n",
              "      <td>0.196922</td>\n",
              "      <td>-0.057858</td>\n",
              "      <td>-0.892119</td>\n",
              "      <td>-0.205637</td>\n",
              "      <td>-0.322458</td>\n",
              "      <td>-1.762814</td>\n",
              "      <td>0.759375</td>\n",
              "      <td>-2.074316</td>\n",
              "      <td>...</td>\n",
              "      <td>0.226863</td>\n",
              "      <td>3.298445</td>\n",
              "      <td>2.329121</td>\n",
              "      <td>3.617407</td>\n",
              "      <td>2.954590</td>\n",
              "      <td>2.223615</td>\n",
              "      <td>-0.887021</td>\n",
              "      <td>0.316900</td>\n",
              "      <td>-1.065595</td>\n",
              "      <td>0.939638</td>\n",
              "    </tr>\n",
              "    <tr>\n",
              "      <th>3</th>\n",
              "      <td>1.153688</td>\n",
              "      <td>-0.858182</td>\n",
              "      <td>0.196922</td>\n",
              "      <td>-0.209174</td>\n",
              "      <td>-0.892119</td>\n",
              "      <td>-0.205637</td>\n",
              "      <td>-0.322458</td>\n",
              "      <td>0.567275</td>\n",
              "      <td>0.759375</td>\n",
              "      <td>0.482087</td>\n",
              "      <td>...</td>\n",
              "      <td>0.226863</td>\n",
              "      <td>-0.303173</td>\n",
              "      <td>-0.478619</td>\n",
              "      <td>-0.429630</td>\n",
              "      <td>-0.486592</td>\n",
              "      <td>-0.449718</td>\n",
              "      <td>-0.887021</td>\n",
              "      <td>0.971733</td>\n",
              "      <td>-2.080028</td>\n",
              "      <td>-0.026012</td>\n",
              "    </tr>\n",
              "    <tr>\n",
              "      <th>4</th>\n",
              "      <td>1.153688</td>\n",
              "      <td>1.165254</td>\n",
              "      <td>0.196922</td>\n",
              "      <td>-0.663122</td>\n",
              "      <td>-0.892119</td>\n",
              "      <td>-0.205637</td>\n",
              "      <td>-0.322458</td>\n",
              "      <td>0.567275</td>\n",
              "      <td>0.759375</td>\n",
              "      <td>0.482087</td>\n",
              "      <td>...</td>\n",
              "      <td>0.226863</td>\n",
              "      <td>-0.303173</td>\n",
              "      <td>-0.478619</td>\n",
              "      <td>-0.024926</td>\n",
              "      <td>-0.486592</td>\n",
              "      <td>-0.449718</td>\n",
              "      <td>-0.887021</td>\n",
              "      <td>0.971733</td>\n",
              "      <td>-0.051162</td>\n",
              "      <td>-0.991662</td>\n",
              "    </tr>\n",
              "  </tbody>\n",
              "</table>\n",
              "<p>5 rows × 21 columns</p>\n",
              "</div>\n",
              "      <button class=\"colab-df-convert\" onclick=\"convertToInteractive('df-1059f6f1-db63-4fb3-b13c-77a625da9b94')\"\n",
              "              title=\"Convert this dataframe to an interactive table.\"\n",
              "              style=\"display:none;\">\n",
              "\n",
              "  <svg xmlns=\"http://www.w3.org/2000/svg\" height=\"24px\"viewBox=\"0 0 24 24\"\n",
              "       width=\"24px\">\n",
              "    <path d=\"M0 0h24v24H0V0z\" fill=\"none\"/>\n",
              "    <path d=\"M18.56 5.44l.94 2.06.94-2.06 2.06-.94-2.06-.94-.94-2.06-.94 2.06-2.06.94zm-11 1L8.5 8.5l.94-2.06 2.06-.94-2.06-.94L8.5 2.5l-.94 2.06-2.06.94zm10 10l.94 2.06.94-2.06 2.06-.94-2.06-.94-.94-2.06-.94 2.06-2.06.94z\"/><path d=\"M17.41 7.96l-1.37-1.37c-.4-.4-.92-.59-1.43-.59-.52 0-1.04.2-1.43.59L10.3 9.45l-7.72 7.72c-.78.78-.78 2.05 0 2.83L4 21.41c.39.39.9.59 1.41.59.51 0 1.02-.2 1.41-.59l7.78-7.78 2.81-2.81c.8-.78.8-2.07 0-2.86zM5.41 20L4 18.59l7.72-7.72 1.47 1.35L5.41 20z\"/>\n",
              "  </svg>\n",
              "      </button>\n",
              "\n",
              "\n",
              "\n",
              "    <div id=\"df-820ea882-4901-4162-a4d8-85f2a9fed79a\">\n",
              "      <button class=\"colab-df-quickchart\" onclick=\"quickchart('df-820ea882-4901-4162-a4d8-85f2a9fed79a')\"\n",
              "              title=\"Suggest charts.\"\n",
              "              style=\"display:none;\">\n",
              "\n",
              "<svg xmlns=\"http://www.w3.org/2000/svg\" height=\"24px\"viewBox=\"0 0 24 24\"\n",
              "     width=\"24px\">\n",
              "    <g>\n",
              "        <path d=\"M19 3H5c-1.1 0-2 .9-2 2v14c0 1.1.9 2 2 2h14c1.1 0 2-.9 2-2V5c0-1.1-.9-2-2-2zM9 17H7v-7h2v7zm4 0h-2V7h2v10zm4 0h-2v-4h2v4z\"/>\n",
              "    </g>\n",
              "</svg>\n",
              "      </button>\n",
              "    </div>\n",
              "\n",
              "<style>\n",
              "  .colab-df-quickchart {\n",
              "    background-color: #E8F0FE;\n",
              "    border: none;\n",
              "    border-radius: 50%;\n",
              "    cursor: pointer;\n",
              "    display: none;\n",
              "    fill: #1967D2;\n",
              "    height: 32px;\n",
              "    padding: 0 0 0 0;\n",
              "    width: 32px;\n",
              "  }\n",
              "\n",
              "  .colab-df-quickchart:hover {\n",
              "    background-color: #E2EBFA;\n",
              "    box-shadow: 0px 1px 2px rgba(60, 64, 67, 0.3), 0px 1px 3px 1px rgba(60, 64, 67, 0.15);\n",
              "    fill: #174EA6;\n",
              "  }\n",
              "\n",
              "  [theme=dark] .colab-df-quickchart {\n",
              "    background-color: #3B4455;\n",
              "    fill: #D2E3FC;\n",
              "  }\n",
              "\n",
              "  [theme=dark] .colab-df-quickchart:hover {\n",
              "    background-color: #434B5C;\n",
              "    box-shadow: 0px 1px 3px 1px rgba(0, 0, 0, 0.15);\n",
              "    filter: drop-shadow(0px 1px 2px rgba(0, 0, 0, 0.3));\n",
              "    fill: #FFFFFF;\n",
              "  }\n",
              "</style>\n",
              "\n",
              "    <script>\n",
              "      async function quickchart(key) {\n",
              "        const containerElement = document.querySelector('#' + key);\n",
              "        const charts = await google.colab.kernel.invokeFunction(\n",
              "            'suggestCharts', [key], {});\n",
              "      }\n",
              "    </script>\n",
              "\n",
              "      <script>\n",
              "\n",
              "function displayQuickchartButton(domScope) {\n",
              "  let quickchartButtonEl =\n",
              "    domScope.querySelector('#df-820ea882-4901-4162-a4d8-85f2a9fed79a button.colab-df-quickchart');\n",
              "  quickchartButtonEl.style.display =\n",
              "    google.colab.kernel.accessAllowed ? 'block' : 'none';\n",
              "}\n",
              "\n",
              "        displayQuickchartButton(document);\n",
              "      </script>\n",
              "      <style>\n",
              "    .colab-df-container {\n",
              "      display:flex;\n",
              "      flex-wrap:wrap;\n",
              "      gap: 12px;\n",
              "    }\n",
              "\n",
              "    .colab-df-convert {\n",
              "      background-color: #E8F0FE;\n",
              "      border: none;\n",
              "      border-radius: 50%;\n",
              "      cursor: pointer;\n",
              "      display: none;\n",
              "      fill: #1967D2;\n",
              "      height: 32px;\n",
              "      padding: 0 0 0 0;\n",
              "      width: 32px;\n",
              "    }\n",
              "\n",
              "    .colab-df-convert:hover {\n",
              "      background-color: #E2EBFA;\n",
              "      box-shadow: 0px 1px 2px rgba(60, 64, 67, 0.3), 0px 1px 3px 1px rgba(60, 64, 67, 0.15);\n",
              "      fill: #174EA6;\n",
              "    }\n",
              "\n",
              "    [theme=dark] .colab-df-convert {\n",
              "      background-color: #3B4455;\n",
              "      fill: #D2E3FC;\n",
              "    }\n",
              "\n",
              "    [theme=dark] .colab-df-convert:hover {\n",
              "      background-color: #434B5C;\n",
              "      box-shadow: 0px 1px 3px 1px rgba(0, 0, 0, 0.15);\n",
              "      filter: drop-shadow(0px 1px 2px rgba(0, 0, 0, 0.3));\n",
              "      fill: #FFFFFF;\n",
              "    }\n",
              "  </style>\n",
              "\n",
              "      <script>\n",
              "        const buttonEl =\n",
              "          document.querySelector('#df-1059f6f1-db63-4fb3-b13c-77a625da9b94 button.colab-df-convert');\n",
              "        buttonEl.style.display =\n",
              "          google.colab.kernel.accessAllowed ? 'block' : 'none';\n",
              "\n",
              "        async function convertToInteractive(key) {\n",
              "          const element = document.querySelector('#df-1059f6f1-db63-4fb3-b13c-77a625da9b94');\n",
              "          const dataTable =\n",
              "            await google.colab.kernel.invokeFunction('convertToInteractive',\n",
              "                                                     [key], {});\n",
              "          if (!dataTable) return;\n",
              "\n",
              "          const docLinkHtml = 'Like what you see? Visit the ' +\n",
              "            '<a target=\"_blank\" href=https://colab.research.google.com/notebooks/data_table.ipynb>data table notebook</a>'\n",
              "            + ' to learn more about interactive tables.';\n",
              "          element.innerHTML = '';\n",
              "          dataTable['output_type'] = 'display_data';\n",
              "          await google.colab.output.renderOutput(dataTable, element);\n",
              "          const docLink = document.createElement('div');\n",
              "          docLink.innerHTML = docLinkHtml;\n",
              "          element.appendChild(docLink);\n",
              "        }\n",
              "      </script>\n",
              "    </div>\n",
              "  </div>\n"
            ]
          },
          "metadata": {},
          "execution_count": 135
        }
      ],
      "source": [
        "std_data.head()"
      ]
    },
    {
      "cell_type": "markdown",
      "metadata": {
        "id": "x57BGUTgUaSr"
      },
      "source": [
        "**Marge the data back**"
      ]
    },
    {
      "cell_type": "code",
      "execution_count": 136,
      "metadata": {
        "id": "hJywI_VnUcda"
      },
      "outputs": [],
      "source": [
        "# Concatenate the standardized features with the target column\n",
        "std_df = pd.concat([std_data, data_y], axis=1)"
      ]
    },
    {
      "cell_type": "code",
      "execution_count": 137,
      "metadata": {
        "colab": {
          "base_uri": "https://localhost:8080/",
          "height": 299
        },
        "id": "-ezx6jc9UnVi",
        "outputId": "db5771fd-40aa-432c-dafc-f5a0c49e54d5"
      },
      "outputs": [
        {
          "output_type": "execute_result",
          "data": {
            "text/plain": [
              "     HighBP  HighChol  CholCheck       BMI    Smoker    Stroke  \\\n",
              "0  1.153688  1.165254   0.196922  1.757936  1.120927 -0.205637   \n",
              "1 -0.866785 -0.858182  -5.078164 -0.511806  1.120927 -0.205637   \n",
              "2  1.153688  1.165254   0.196922 -0.057858 -0.892119 -0.205637   \n",
              "3  1.153688 -0.858182   0.196922 -0.209174 -0.892119 -0.205637   \n",
              "4  1.153688  1.165254   0.196922 -0.663122 -0.892119 -0.205637   \n",
              "\n",
              "   HeartDiseaseorAttack  PhysActivity    Fruits   Veggies  ...  NoDocbcCost  \\\n",
              "0             -0.322458     -1.762814 -1.316872  0.482087  ...    -0.303173   \n",
              "1             -0.322458      0.567275 -1.316872 -2.074316  ...     3.298445   \n",
              "2             -0.322458     -1.762814  0.759375 -2.074316  ...     3.298445   \n",
              "3             -0.322458      0.567275  0.759375  0.482087  ...    -0.303173   \n",
              "4             -0.322458      0.567275  0.759375  0.482087  ...    -0.303173   \n",
              "\n",
              "    GenHlth  MentHlth  PhysHlth  DiffWalk       Sex       Age  Education  \\\n",
              "0  2.329121  1.998592  1.233999  2.223615 -0.887021  0.316900  -1.065595   \n",
              "1  0.457294 -0.429630 -0.486592 -0.449718 -0.887021 -0.337933   0.963272   \n",
              "2  2.329121  3.617407  2.954590  2.223615 -0.887021  0.316900  -1.065595   \n",
              "3 -0.478619 -0.429630 -0.486592 -0.449718 -0.887021  0.971733  -2.080028   \n",
              "4 -0.478619 -0.024926 -0.486592 -0.449718 -0.887021  0.971733  -0.051162   \n",
              "\n",
              "     Income  Diabetes_012  \n",
              "0 -1.474487           0.0  \n",
              "1 -2.440138           0.0  \n",
              "2  0.939638           0.0  \n",
              "3 -0.026012           0.0  \n",
              "4 -0.991662           0.0  \n",
              "\n",
              "[5 rows x 22 columns]"
            ],
            "text/html": [
              "\n",
              "\n",
              "  <div id=\"df-116abea4-e962-44c3-ac8e-a4dca0ef3ae1\">\n",
              "    <div class=\"colab-df-container\">\n",
              "      <div>\n",
              "<style scoped>\n",
              "    .dataframe tbody tr th:only-of-type {\n",
              "        vertical-align: middle;\n",
              "    }\n",
              "\n",
              "    .dataframe tbody tr th {\n",
              "        vertical-align: top;\n",
              "    }\n",
              "\n",
              "    .dataframe thead th {\n",
              "        text-align: right;\n",
              "    }\n",
              "</style>\n",
              "<table border=\"1\" class=\"dataframe\">\n",
              "  <thead>\n",
              "    <tr style=\"text-align: right;\">\n",
              "      <th></th>\n",
              "      <th>HighBP</th>\n",
              "      <th>HighChol</th>\n",
              "      <th>CholCheck</th>\n",
              "      <th>BMI</th>\n",
              "      <th>Smoker</th>\n",
              "      <th>Stroke</th>\n",
              "      <th>HeartDiseaseorAttack</th>\n",
              "      <th>PhysActivity</th>\n",
              "      <th>Fruits</th>\n",
              "      <th>Veggies</th>\n",
              "      <th>...</th>\n",
              "      <th>NoDocbcCost</th>\n",
              "      <th>GenHlth</th>\n",
              "      <th>MentHlth</th>\n",
              "      <th>PhysHlth</th>\n",
              "      <th>DiffWalk</th>\n",
              "      <th>Sex</th>\n",
              "      <th>Age</th>\n",
              "      <th>Education</th>\n",
              "      <th>Income</th>\n",
              "      <th>Diabetes_012</th>\n",
              "    </tr>\n",
              "  </thead>\n",
              "  <tbody>\n",
              "    <tr>\n",
              "      <th>0</th>\n",
              "      <td>1.153688</td>\n",
              "      <td>1.165254</td>\n",
              "      <td>0.196922</td>\n",
              "      <td>1.757936</td>\n",
              "      <td>1.120927</td>\n",
              "      <td>-0.205637</td>\n",
              "      <td>-0.322458</td>\n",
              "      <td>-1.762814</td>\n",
              "      <td>-1.316872</td>\n",
              "      <td>0.482087</td>\n",
              "      <td>...</td>\n",
              "      <td>-0.303173</td>\n",
              "      <td>2.329121</td>\n",
              "      <td>1.998592</td>\n",
              "      <td>1.233999</td>\n",
              "      <td>2.223615</td>\n",
              "      <td>-0.887021</td>\n",
              "      <td>0.316900</td>\n",
              "      <td>-1.065595</td>\n",
              "      <td>-1.474487</td>\n",
              "      <td>0.0</td>\n",
              "    </tr>\n",
              "    <tr>\n",
              "      <th>1</th>\n",
              "      <td>-0.866785</td>\n",
              "      <td>-0.858182</td>\n",
              "      <td>-5.078164</td>\n",
              "      <td>-0.511806</td>\n",
              "      <td>1.120927</td>\n",
              "      <td>-0.205637</td>\n",
              "      <td>-0.322458</td>\n",
              "      <td>0.567275</td>\n",
              "      <td>-1.316872</td>\n",
              "      <td>-2.074316</td>\n",
              "      <td>...</td>\n",
              "      <td>3.298445</td>\n",
              "      <td>0.457294</td>\n",
              "      <td>-0.429630</td>\n",
              "      <td>-0.486592</td>\n",
              "      <td>-0.449718</td>\n",
              "      <td>-0.887021</td>\n",
              "      <td>-0.337933</td>\n",
              "      <td>0.963272</td>\n",
              "      <td>-2.440138</td>\n",
              "      <td>0.0</td>\n",
              "    </tr>\n",
              "    <tr>\n",
              "      <th>2</th>\n",
              "      <td>1.153688</td>\n",
              "      <td>1.165254</td>\n",
              "      <td>0.196922</td>\n",
              "      <td>-0.057858</td>\n",
              "      <td>-0.892119</td>\n",
              "      <td>-0.205637</td>\n",
              "      <td>-0.322458</td>\n",
              "      <td>-1.762814</td>\n",
              "      <td>0.759375</td>\n",
              "      <td>-2.074316</td>\n",
              "      <td>...</td>\n",
              "      <td>3.298445</td>\n",
              "      <td>2.329121</td>\n",
              "      <td>3.617407</td>\n",
              "      <td>2.954590</td>\n",
              "      <td>2.223615</td>\n",
              "      <td>-0.887021</td>\n",
              "      <td>0.316900</td>\n",
              "      <td>-1.065595</td>\n",
              "      <td>0.939638</td>\n",
              "      <td>0.0</td>\n",
              "    </tr>\n",
              "    <tr>\n",
              "      <th>3</th>\n",
              "      <td>1.153688</td>\n",
              "      <td>-0.858182</td>\n",
              "      <td>0.196922</td>\n",
              "      <td>-0.209174</td>\n",
              "      <td>-0.892119</td>\n",
              "      <td>-0.205637</td>\n",
              "      <td>-0.322458</td>\n",
              "      <td>0.567275</td>\n",
              "      <td>0.759375</td>\n",
              "      <td>0.482087</td>\n",
              "      <td>...</td>\n",
              "      <td>-0.303173</td>\n",
              "      <td>-0.478619</td>\n",
              "      <td>-0.429630</td>\n",
              "      <td>-0.486592</td>\n",
              "      <td>-0.449718</td>\n",
              "      <td>-0.887021</td>\n",
              "      <td>0.971733</td>\n",
              "      <td>-2.080028</td>\n",
              "      <td>-0.026012</td>\n",
              "      <td>0.0</td>\n",
              "    </tr>\n",
              "    <tr>\n",
              "      <th>4</th>\n",
              "      <td>1.153688</td>\n",
              "      <td>1.165254</td>\n",
              "      <td>0.196922</td>\n",
              "      <td>-0.663122</td>\n",
              "      <td>-0.892119</td>\n",
              "      <td>-0.205637</td>\n",
              "      <td>-0.322458</td>\n",
              "      <td>0.567275</td>\n",
              "      <td>0.759375</td>\n",
              "      <td>0.482087</td>\n",
              "      <td>...</td>\n",
              "      <td>-0.303173</td>\n",
              "      <td>-0.478619</td>\n",
              "      <td>-0.024926</td>\n",
              "      <td>-0.486592</td>\n",
              "      <td>-0.449718</td>\n",
              "      <td>-0.887021</td>\n",
              "      <td>0.971733</td>\n",
              "      <td>-0.051162</td>\n",
              "      <td>-0.991662</td>\n",
              "      <td>0.0</td>\n",
              "    </tr>\n",
              "  </tbody>\n",
              "</table>\n",
              "<p>5 rows × 22 columns</p>\n",
              "</div>\n",
              "      <button class=\"colab-df-convert\" onclick=\"convertToInteractive('df-116abea4-e962-44c3-ac8e-a4dca0ef3ae1')\"\n",
              "              title=\"Convert this dataframe to an interactive table.\"\n",
              "              style=\"display:none;\">\n",
              "\n",
              "  <svg xmlns=\"http://www.w3.org/2000/svg\" height=\"24px\"viewBox=\"0 0 24 24\"\n",
              "       width=\"24px\">\n",
              "    <path d=\"M0 0h24v24H0V0z\" fill=\"none\"/>\n",
              "    <path d=\"M18.56 5.44l.94 2.06.94-2.06 2.06-.94-2.06-.94-.94-2.06-.94 2.06-2.06.94zm-11 1L8.5 8.5l.94-2.06 2.06-.94-2.06-.94L8.5 2.5l-.94 2.06-2.06.94zm10 10l.94 2.06.94-2.06 2.06-.94-2.06-.94-.94-2.06-.94 2.06-2.06.94z\"/><path d=\"M17.41 7.96l-1.37-1.37c-.4-.4-.92-.59-1.43-.59-.52 0-1.04.2-1.43.59L10.3 9.45l-7.72 7.72c-.78.78-.78 2.05 0 2.83L4 21.41c.39.39.9.59 1.41.59.51 0 1.02-.2 1.41-.59l7.78-7.78 2.81-2.81c.8-.78.8-2.07 0-2.86zM5.41 20L4 18.59l7.72-7.72 1.47 1.35L5.41 20z\"/>\n",
              "  </svg>\n",
              "      </button>\n",
              "\n",
              "\n",
              "\n",
              "    <div id=\"df-1d60c20d-1435-42d3-ae47-b54bf5f7246e\">\n",
              "      <button class=\"colab-df-quickchart\" onclick=\"quickchart('df-1d60c20d-1435-42d3-ae47-b54bf5f7246e')\"\n",
              "              title=\"Suggest charts.\"\n",
              "              style=\"display:none;\">\n",
              "\n",
              "<svg xmlns=\"http://www.w3.org/2000/svg\" height=\"24px\"viewBox=\"0 0 24 24\"\n",
              "     width=\"24px\">\n",
              "    <g>\n",
              "        <path d=\"M19 3H5c-1.1 0-2 .9-2 2v14c0 1.1.9 2 2 2h14c1.1 0 2-.9 2-2V5c0-1.1-.9-2-2-2zM9 17H7v-7h2v7zm4 0h-2V7h2v10zm4 0h-2v-4h2v4z\"/>\n",
              "    </g>\n",
              "</svg>\n",
              "      </button>\n",
              "    </div>\n",
              "\n",
              "<style>\n",
              "  .colab-df-quickchart {\n",
              "    background-color: #E8F0FE;\n",
              "    border: none;\n",
              "    border-radius: 50%;\n",
              "    cursor: pointer;\n",
              "    display: none;\n",
              "    fill: #1967D2;\n",
              "    height: 32px;\n",
              "    padding: 0 0 0 0;\n",
              "    width: 32px;\n",
              "  }\n",
              "\n",
              "  .colab-df-quickchart:hover {\n",
              "    background-color: #E2EBFA;\n",
              "    box-shadow: 0px 1px 2px rgba(60, 64, 67, 0.3), 0px 1px 3px 1px rgba(60, 64, 67, 0.15);\n",
              "    fill: #174EA6;\n",
              "  }\n",
              "\n",
              "  [theme=dark] .colab-df-quickchart {\n",
              "    background-color: #3B4455;\n",
              "    fill: #D2E3FC;\n",
              "  }\n",
              "\n",
              "  [theme=dark] .colab-df-quickchart:hover {\n",
              "    background-color: #434B5C;\n",
              "    box-shadow: 0px 1px 3px 1px rgba(0, 0, 0, 0.15);\n",
              "    filter: drop-shadow(0px 1px 2px rgba(0, 0, 0, 0.3));\n",
              "    fill: #FFFFFF;\n",
              "  }\n",
              "</style>\n",
              "\n",
              "    <script>\n",
              "      async function quickchart(key) {\n",
              "        const containerElement = document.querySelector('#' + key);\n",
              "        const charts = await google.colab.kernel.invokeFunction(\n",
              "            'suggestCharts', [key], {});\n",
              "      }\n",
              "    </script>\n",
              "\n",
              "      <script>\n",
              "\n",
              "function displayQuickchartButton(domScope) {\n",
              "  let quickchartButtonEl =\n",
              "    domScope.querySelector('#df-1d60c20d-1435-42d3-ae47-b54bf5f7246e button.colab-df-quickchart');\n",
              "  quickchartButtonEl.style.display =\n",
              "    google.colab.kernel.accessAllowed ? 'block' : 'none';\n",
              "}\n",
              "\n",
              "        displayQuickchartButton(document);\n",
              "      </script>\n",
              "      <style>\n",
              "    .colab-df-container {\n",
              "      display:flex;\n",
              "      flex-wrap:wrap;\n",
              "      gap: 12px;\n",
              "    }\n",
              "\n",
              "    .colab-df-convert {\n",
              "      background-color: #E8F0FE;\n",
              "      border: none;\n",
              "      border-radius: 50%;\n",
              "      cursor: pointer;\n",
              "      display: none;\n",
              "      fill: #1967D2;\n",
              "      height: 32px;\n",
              "      padding: 0 0 0 0;\n",
              "      width: 32px;\n",
              "    }\n",
              "\n",
              "    .colab-df-convert:hover {\n",
              "      background-color: #E2EBFA;\n",
              "      box-shadow: 0px 1px 2px rgba(60, 64, 67, 0.3), 0px 1px 3px 1px rgba(60, 64, 67, 0.15);\n",
              "      fill: #174EA6;\n",
              "    }\n",
              "\n",
              "    [theme=dark] .colab-df-convert {\n",
              "      background-color: #3B4455;\n",
              "      fill: #D2E3FC;\n",
              "    }\n",
              "\n",
              "    [theme=dark] .colab-df-convert:hover {\n",
              "      background-color: #434B5C;\n",
              "      box-shadow: 0px 1px 3px 1px rgba(0, 0, 0, 0.15);\n",
              "      filter: drop-shadow(0px 1px 2px rgba(0, 0, 0, 0.3));\n",
              "      fill: #FFFFFF;\n",
              "    }\n",
              "  </style>\n",
              "\n",
              "      <script>\n",
              "        const buttonEl =\n",
              "          document.querySelector('#df-116abea4-e962-44c3-ac8e-a4dca0ef3ae1 button.colab-df-convert');\n",
              "        buttonEl.style.display =\n",
              "          google.colab.kernel.accessAllowed ? 'block' : 'none';\n",
              "\n",
              "        async function convertToInteractive(key) {\n",
              "          const element = document.querySelector('#df-116abea4-e962-44c3-ac8e-a4dca0ef3ae1');\n",
              "          const dataTable =\n",
              "            await google.colab.kernel.invokeFunction('convertToInteractive',\n",
              "                                                     [key], {});\n",
              "          if (!dataTable) return;\n",
              "\n",
              "          const docLinkHtml = 'Like what you see? Visit the ' +\n",
              "            '<a target=\"_blank\" href=https://colab.research.google.com/notebooks/data_table.ipynb>data table notebook</a>'\n",
              "            + ' to learn more about interactive tables.';\n",
              "          element.innerHTML = '';\n",
              "          dataTable['output_type'] = 'display_data';\n",
              "          await google.colab.output.renderOutput(dataTable, element);\n",
              "          const docLink = document.createElement('div');\n",
              "          docLink.innerHTML = docLinkHtml;\n",
              "          element.appendChild(docLink);\n",
              "        }\n",
              "      </script>\n",
              "    </div>\n",
              "  </div>\n"
            ]
          },
          "metadata": {},
          "execution_count": 137
        }
      ],
      "source": [
        "std_df.head()"
      ]
    },
    {
      "cell_type": "code",
      "execution_count": 138,
      "metadata": {
        "colab": {
          "base_uri": "https://localhost:8080/",
          "height": 991
        },
        "id": "YunLJyc2UyLU",
        "outputId": "c4db85d4-b710-4027-e625-d78b3074079a"
      },
      "outputs": [
        {
          "output_type": "display_data",
          "data": {
            "text/plain": [
              "<Figure size 2000x1000 with 1 Axes>"
            ],
            "image/png": "[encoded data removed]"
          },
          "metadata": {}
        }
      ],
      "source": [
        "plt.figure(figsize=(20,10))\n",
        "sea.boxplot(data=std_df.iloc[:,:-1]) # except the target\n",
        "plt.xticks(rotation=90)\n",
        "plt.title(\"Distribution of the values ​​of all potential standardized predictors\")\n",
        "plt.grid()\n",
        "plt.show()"
      ]
    },
    {
      "cell_type": "markdown",
      "metadata": {
        "id": "zvZz2Z2FVKMr"
      },
      "source": [
        "looks better with standardization"
      ]
    },
    {
      "cell_type": "markdown",
      "metadata": {
        "id": "2aBQ0fWJWr68"
      },
      "source": [
        "###**Correlation**"
      ]
    },
    {
      "cell_type": "code",
      "execution_count": 139,
      "metadata": {
        "colab": {
          "base_uri": "https://localhost:8080/",
          "height": 837
        },
        "id": "aQNYFcdgVI4j",
        "outputId": "45226e04-ab21-4079-a9b3-d2f9b5e5fd5f"
      },
      "outputs": [
        {
          "output_type": "display_data",
          "data": {
            "text/plain": [
              "<Figure size 1000x800 with 2 Axes>"
            ],
            "image/png": "[encoded data removed]"
          },
          "metadata": {}
        }
      ],
      "source": [
        "# Calculate the correlation matrix\n",
        "correlation_matrix = std_df.corr()\n",
        "\n",
        "plt.figure(figsize=(10, 8))\n",
        "sns.heatmap(correlation_matrix, cmap='coolwarm')\n",
        "plt.title(\"Correlation Heatmap\")\n",
        "plt.show()"
      ]
    },
    {
      "cell_type": "markdown",
      "metadata": {
        "id": "pPqyJDEkWCeT"
      },
      "source": [
        "### **Dimensionality Reduction**"
      ]
    },
    {
      "cell_type": "markdown",
      "metadata": {
        "id": "G30ViD6LYt2e"
      },
      "source": [
        "**Split Dataset**"
      ]
    },
    {
      "cell_type": "code",
      "execution_count": 140,
      "metadata": {
        "id": "OI4GSgjZYT1Z"
      },
      "outputs": [],
      "source": [
        "X = data.drop([\"Diabetes_012\"], axis=1)\n",
        "y = data['Diabetes_012']\n",
        "\n",
        "X_train, X_test, y_train, y_test = train_test_split(X, y, test_size=0.2, random_state=42)"
      ]
    },
    {
      "cell_type": "code",
      "execution_count": 141,
      "metadata": {
        "colab": {
          "base_uri": "https://localhost:8080/"
        },
        "id": "ct4we7RnZS4G",
        "outputId": "9c3db9b7-0f6a-4548-8cf8-8549ea8434d2"
      },
      "outputs": [
        {
          "output_type": "stream",
          "name": "stdout",
          "text": [
            "(202944, 21)\n"
          ]
        }
      ],
      "source": [
        "print(X_train.shape)"
      ]
    },
    {
      "cell_type": "code",
      "execution_count": 142,
      "metadata": {
        "colab": {
          "base_uri": "https://localhost:8080/"
        },
        "id": "ljuptNraZgUl",
        "outputId": "a66e494b-41d8-4071-9532-17e34b771f17"
      },
      "outputs": [
        {
          "output_type": "stream",
          "name": "stdout",
          "text": [
            "(50736, 21)\n"
          ]
        }
      ],
      "source": [
        "print(X_test.shape)"
      ]
    },
    {
      "cell_type": "markdown",
      "metadata": {
        "id": "Zw9IBx05qxTO"
      },
      "source": [
        "### **Baseline model**"
      ]
    },
    {
      "cell_type": "markdown",
      "metadata": {
        "id": "nIcsPmPFJqFB"
      },
      "source": [
        "**Define Classifiers**"
      ]
    },
    {
      "cell_type": "code",
      "execution_count": 143,
      "metadata": {
        "id": "SdUIifjaJwCX"
      },
      "outputs": [],
      "source": [
        "# Define a list of classifiers\n",
        "classifiers = {\n",
        "    \"Logistic Regression\": LogisticRegression(),\n",
        "    \"Random Forest\": RandomForestClassifier(),\n",
        "    \"K-Nearest Neighbors\": KNeighborsClassifier(),\n",
        "    \"XGBoost\": XGBClassifier(),\n",
        "}\n",
        "\n",
        "classifiers_pca = {\n",
        "    \"Logistic Regression\": LogisticRegression(),\n",
        "    \"Random Forest\": RandomForestClassifier(),\n",
        "    \"K-Nearest Neighbors\": KNeighborsClassifier(),\n",
        "    \"XGBoost\": XGBClassifier(),\n",
        "}\n",
        "\n",
        "classifiers_lda = {\n",
        "    \"Logistic Regression\": LogisticRegression(),\n",
        "    \"Random Forest\": RandomForestClassifier(),\n",
        "    \"K-Nearest Neighbors\": KNeighborsClassifier(),\n",
        "    \"XGBoost\": XGBClassifier(),\n",
        "}"
      ]
    },
    {
      "cell_type": "code",
      "execution_count": 144,
      "metadata": {
        "colab": {
          "base_uri": "https://localhost:8080/"
        },
        "id": "xWuXnSbFLeue",
        "outputId": "c6e60945-e911-4ff1-dc0a-0f1bc963acfc"
      },
      "outputs": [
        {
          "output_type": "stream",
          "name": "stdout",
          "text": [
            "--- Logistic Regression ---\n",
            "Accuracy: 0.84\n",
            "Precision: 0.81\n",
            "Recall: 0.84\n",
            "F1 Score: 0.80\n",
            "ROC AUC: 0.76\n",
            "Balanced Accuracy: 0.38\n",
            "Confusion Matrix:\n",
            "[[41785     0  1010]\n",
            " [  878     0    66]\n",
            " [ 5913     0  1084]]\n",
            "\n",
            "\n",
            "--- Random Forest ---\n",
            "Accuracy: 0.84\n",
            "Precision: 0.80\n",
            "Recall: 0.84\n",
            "F1 Score: 0.81\n",
            "ROC AUC: 0.74\n",
            "Balanced Accuracy: 0.39\n",
            "Confusion Matrix:\n",
            "[[41350    33  1412]\n",
            " [  835     0   109]\n",
            " [ 5580    10  1407]]\n",
            "\n",
            "\n",
            "--- K-Nearest Neighbors ---\n",
            "Accuracy: 0.83\n",
            "Precision: 0.79\n",
            "Recall: 0.83\n",
            "F1 Score: 0.80\n",
            "ROC AUC: 0.65\n",
            "Balanced Accuracy: 0.38\n",
            "Confusion Matrix:\n",
            "[[40898    26  1871]\n",
            " [  825     1   118]\n",
            " [ 5601    14  1382]]\n",
            "\n",
            "\n",
            "--- XGBoost ---\n",
            "Accuracy: 0.85\n",
            "Precision: 0.81\n",
            "Recall: 0.85\n",
            "F1 Score: 0.81\n",
            "ROC AUC: 0.78\n",
            "Balanced Accuracy: 0.39\n",
            "Confusion Matrix:\n",
            "[[41765     1  1029]\n",
            " [  848     0    96]\n",
            " [ 5612     0  1385]]\n",
            "\n",
            "\n"
          ]
        }
      ],
      "source": [
        "# Dictionary to store evaluation metrics\n",
        "results = {}\n",
        "\n",
        "# Loop through each classifier\n",
        "for name, clf in classifiers.items():\n",
        "    # Train the classifier\n",
        "    clf.fit(X_train, y_train)\n",
        "\n",
        "    # Make predictions on the test set\n",
        "    y_pred = clf.predict(X_test)\n",
        "\n",
        "    # Calculate evaluation metrics\n",
        "    accuracy = accuracy_score(y_test, y_pred)\n",
        "    precision = precision_score(y_test, y_pred, average=\"weighted\", zero_division=1)\n",
        "    recall = recall_score(y_test, y_pred, average=\"weighted\", zero_division=1)\n",
        "    f1 = f1_score(y_test, y_pred, average=\"weighted\", zero_division=1)\n",
        "    balanced_accuracy = balanced_accuracy_score(y_test, y_pred)\n",
        "    confusion = confusion_matrix(y_test, y_pred)\n",
        "\n",
        "    # ROC AUC calculation for binary and multiclass classification\n",
        "    if len(np.unique(y_train)) == 2:\n",
        "        roc_auc = roc_auc_score(y_test, clf.predict_proba(X_test)[:, 1])\n",
        "    else:\n",
        "        roc_auc = roc_auc_score(y_test, clf.predict_proba(X_test), multi_class='ovr')\n",
        "\n",
        "    # Store the results in the dictionary\n",
        "    results[name] = {\n",
        "        \"Accuracy\": accuracy,\n",
        "        \"Precision\": precision,\n",
        "        \"Recall\": recall,\n",
        "        \"F1 Score\": f1,\n",
        "        \"ROC AUC\": roc_auc,\n",
        "        \"Balanced Accuracy\": balanced_accuracy,\n",
        "        \"Confusion Matrix\": confusion,\n",
        "    }\n",
        "\n",
        "# Display the results\n",
        "for name, metrics in results.items():\n",
        "    print(f\"--- {name} ---\")\n",
        "    print(\"Accuracy: {:.2f}\".format(metrics[\"Accuracy\"]))\n",
        "    print(\"Precision: {:.2f}\".format(metrics[\"Precision\"]))\n",
        "    print(\"Recall: {:.2f}\".format(metrics[\"Recall\"]))\n",
        "    print(\"F1 Score: {:.2f}\".format(metrics[\"F1 Score\"]))\n",
        "    print(\"ROC AUC: {:.2f}\".format(metrics[\"ROC AUC\"]))\n",
        "    print(\"Balanced Accuracy: {:.2f}\".format(metrics[\"Balanced Accuracy\"]))\n",
        "    print(\"Confusion Matrix:\")\n",
        "    print(metrics[\"Confusion Matrix\"])\n",
        "    print(\"\\n\")"
      ]
    },
    {
      "cell_type": "markdown",
      "metadata": {
        "id": "u7x3r5czOMkE"
      },
      "source": [
        "- Added the **zero_division=1** parameter to the precision, recall, and F1-score calculations. This parameter handles cases where a class has no predicted samples. It sets the score to 1 in such cases to avoid division by zero errors.\n",
        "\n",
        "- The if **len(np.unique(y_train)) == 2:** condition checks if the training data contains only two unique classes. If so, it calculates the ROC AUC directly using the binary form.\n",
        "If there are more than two classes, it calculates the ROC AUC using the one-vs-rest **('ovr')** strategy, which is appropriate for multi-class problems."
      ]
    },
    {
      "cell_type": "markdown",
      "metadata": {
        "id": "okvcFB6FYMb1"
      },
      "source": [
        "### **Principal Component Analysis (PCA)**"
      ]
    },
    {
      "cell_type": "markdown",
      "metadata": {
        "id": "xMmjCLIIZ93G"
      },
      "source": [
        "*Determining the number of principal components **(n_components)** for Principal Component Analysis (PCA) is an important step in dimensionality reduction. The goal is to find a suitable number of components that capture the majority of the data's variance while reducing its dimensionality.*\n",
        "\n"
      ]
    },
    {
      "cell_type": "code",
      "execution_count": 145,
      "metadata": {
        "colab": {
          "base_uri": "https://localhost:8080/",
          "height": 564
        },
        "id": "BFt1DcejcxCB",
        "outputId": "1e9639ee-4b5f-415c-e336-49ffb061db50"
      },
      "outputs": [
        {
          "output_type": "display_data",
          "data": {
            "text/plain": [
              "<Figure size 1000x600 with 1 Axes>"
            ],
            "image/png": "[encoded data removed]"
          },
          "metadata": {}
        }
      ],
      "source": [
        "pca = PCA()\n",
        "X_pca = pca.fit_transform(X)\n",
        "\n",
        "\n",
        "explained_variance_ratio = pca.explained_variance_ratio_\n",
        "cumulative_explained_variance = np.cumsum(explained_variance_ratio)\n",
        "\n",
        "plt.figure(figsize=(10, 6))\n",
        "plt.plot(cumulative_explained_variance, marker='o')\n",
        "plt.xlabel('Number of Components')\n",
        "plt.ylabel('Cumulative Explained Variance')\n",
        "plt.title('Cumulative Explained Variance vs. Number of Components')\n",
        "plt.show()"
      ]
    },
    {
      "cell_type": "markdown",
      "metadata": {
        "id": "QYhxRvvLdEgw"
      },
      "source": [
        "*In the plot, you'll see how much variance is explained by each additional component. You can choose the number of components that retain the desired percentage of total variance. For example, if you want to retain 95% of the variance, find the point on the x-axis where the cumulative explained variance is close to 0.95.*"
      ]
    },
    {
      "cell_type": "code",
      "execution_count": 146,
      "metadata": {
        "id": "e5U6xqhCbhoo"
      },
      "outputs": [],
      "source": [
        "# base on the graph\n",
        "best_n_components = 19"
      ]
    },
    {
      "cell_type": "code",
      "execution_count": 147,
      "metadata": {
        "id": "SPLkKqVLcNBi"
      },
      "outputs": [],
      "source": [
        "pca = PCA(n_components=best_n_components)\n",
        "X_train_pca = pca.fit_transform(X_train)\n",
        "\n",
        "# Create a list of column names for the factors DataFrame\n",
        "column_names = ['PC' + str(i + 1) for i in range(best_n_components)]\n",
        "\n",
        "# Create the DataFrame\n",
        "factors_Df = pd.DataFrame(data=X_train_pca, columns=column_names)\n",
        "factors_Df.index = X_train.index"
      ]
    },
    {
      "cell_type": "code",
      "execution_count": 148,
      "metadata": {
        "colab": {
          "base_uri": "https://localhost:8080/",
          "height": 206
        },
        "id": "2ddy1nrDcVc6",
        "outputId": "3169d5ce-ffbd-4377-f08b-52224e89df22"
      },
      "outputs": [
        {
          "output_type": "execute_result",
          "data": {
            "text/plain": [
              "             PC1       PC2       PC3       PC4       PC5       PC6       PC7  \\\n",
              "31141  -6.725390 -7.343680 -1.724113 -3.485243 -2.198870 -0.200788 -0.341543   \n",
              "98230  -4.383454  6.426651  0.382049  0.147729 -1.586004  0.843570 -0.221938   \n",
              "89662  -1.771791 -3.760296 -3.972924 -3.543026 -0.464024 -0.339100  0.341172   \n",
              "208255 -5.654809 -0.412523 -0.135272  3.147044 -0.418415 -1.088562  0.219146   \n",
              "233415 -5.812980 -3.373132 -1.253792 -4.027902  0.192992  1.030864  0.146118   \n",
              "\n",
              "             PC8       PC9      PC10      PC11      PC12      PC13      PC14  \\\n",
              "31141   0.486447 -0.345530  0.552619 -0.033639  0.648751  0.218776  0.027759   \n",
              "98230   0.000807  0.782924  0.093805  0.633323  0.340398 -0.345836 -0.387045   \n",
              "89662   0.207100 -0.726857 -0.310669  0.718423 -0.003110 -0.038895 -0.088550   \n",
              "208255  0.330688 -0.693544 -0.209702  0.428791  0.534612  0.326892 -0.044228   \n",
              "233415 -0.900540 -0.174206 -0.264392  0.021220  0.721119  0.091112 -0.055466   \n",
              "\n",
              "            PC15      PC16      PC17      PC18      PC19  \n",
              "31141  -0.052058  0.045037 -0.164971 -0.103082 -0.004276  \n",
              "98230  -0.036086 -0.034719 -0.040546 -0.041255 -0.043549  \n",
              "89662  -0.188931  0.015790 -0.178920 -0.032149 -0.010238  \n",
              "208255  0.113264 -0.071567 -0.062429 -0.034624 -0.047520  \n",
              "233415  0.772438 -0.038112 -0.398402  0.007412  0.027196  "
            ],
            "text/html": [
              "\n",
              "\n",
              "  <div id=\"df-9989932a-9de5-41f8-968a-93729d0cd719\">\n",
              "    <div class=\"colab-df-container\">\n",
              "      <div>\n",
              "<style scoped>\n",
              "    .dataframe tbody tr th:only-of-type {\n",
              "        vertical-align: middle;\n",
              "    }\n",
              "\n",
              "    .dataframe tbody tr th {\n",
              "        vertical-align: top;\n",
              "    }\n",
              "\n",
              "    .dataframe thead th {\n",
              "        text-align: right;\n",
              "    }\n",
              "</style>\n",
              "<table border=\"1\" class=\"dataframe\">\n",
              "  <thead>\n",
              "    <tr style=\"text-align: right;\">\n",
              "      <th></th>\n",
              "      <th>PC1</th>\n",
              "      <th>PC2</th>\n",
              "      <th>PC3</th>\n",
              "      <th>PC4</th>\n",
              "      <th>PC5</th>\n",
              "      <th>PC6</th>\n",
              "      <th>PC7</th>\n",
              "      <th>PC8</th>\n",
              "      <th>PC9</th>\n",
              "      <th>PC10</th>\n",
              "      <th>PC11</th>\n",
              "      <th>PC12</th>\n",
              "      <th>PC13</th>\n",
              "      <th>PC14</th>\n",
              "      <th>PC15</th>\n",
              "      <th>PC16</th>\n",
              "      <th>PC17</th>\n",
              "      <th>PC18</th>\n",
              "      <th>PC19</th>\n",
              "    </tr>\n",
              "  </thead>\n",
              "  <tbody>\n",
              "    <tr>\n",
              "      <th>31141</th>\n",
              "      <td>-6.725390</td>\n",
              "      <td>-7.343680</td>\n",
              "      <td>-1.724113</td>\n",
              "      <td>-3.485243</td>\n",
              "      <td>-2.198870</td>\n",
              "      <td>-0.200788</td>\n",
              "      <td>-0.341543</td>\n",
              "      <td>0.486447</td>\n",
              "      <td>-0.345530</td>\n",
              "      <td>0.552619</td>\n",
              "      <td>-0.033639</td>\n",
              "      <td>0.648751</td>\n",
              "      <td>0.218776</td>\n",
              "      <td>0.027759</td>\n",
              "      <td>-0.052058</td>\n",
              "      <td>0.045037</td>\n",
              "      <td>-0.164971</td>\n",
              "      <td>-0.103082</td>\n",
              "      <td>-0.004276</td>\n",
              "    </tr>\n",
              "    <tr>\n",
              "      <th>98230</th>\n",
              "      <td>-4.383454</td>\n",
              "      <td>6.426651</td>\n",
              "      <td>0.382049</td>\n",
              "      <td>0.147729</td>\n",
              "      <td>-1.586004</td>\n",
              "      <td>0.843570</td>\n",
              "      <td>-0.221938</td>\n",
              "      <td>0.000807</td>\n",
              "      <td>0.782924</td>\n",
              "      <td>0.093805</td>\n",
              "      <td>0.633323</td>\n",
              "      <td>0.340398</td>\n",
              "      <td>-0.345836</td>\n",
              "      <td>-0.387045</td>\n",
              "      <td>-0.036086</td>\n",
              "      <td>-0.034719</td>\n",
              "      <td>-0.040546</td>\n",
              "      <td>-0.041255</td>\n",
              "      <td>-0.043549</td>\n",
              "    </tr>\n",
              "    <tr>\n",
              "      <th>89662</th>\n",
              "      <td>-1.771791</td>\n",
              "      <td>-3.760296</td>\n",
              "      <td>-3.972924</td>\n",
              "      <td>-3.543026</td>\n",
              "      <td>-0.464024</td>\n",
              "      <td>-0.339100</td>\n",
              "      <td>0.341172</td>\n",
              "      <td>0.207100</td>\n",
              "      <td>-0.726857</td>\n",
              "      <td>-0.310669</td>\n",
              "      <td>0.718423</td>\n",
              "      <td>-0.003110</td>\n",
              "      <td>-0.038895</td>\n",
              "      <td>-0.088550</td>\n",
              "      <td>-0.188931</td>\n",
              "      <td>0.015790</td>\n",
              "      <td>-0.178920</td>\n",
              "      <td>-0.032149</td>\n",
              "      <td>-0.010238</td>\n",
              "    </tr>\n",
              "    <tr>\n",
              "      <th>208255</th>\n",
              "      <td>-5.654809</td>\n",
              "      <td>-0.412523</td>\n",
              "      <td>-0.135272</td>\n",
              "      <td>3.147044</td>\n",
              "      <td>-0.418415</td>\n",
              "      <td>-1.088562</td>\n",
              "      <td>0.219146</td>\n",
              "      <td>0.330688</td>\n",
              "      <td>-0.693544</td>\n",
              "      <td>-0.209702</td>\n",
              "      <td>0.428791</td>\n",
              "      <td>0.534612</td>\n",
              "      <td>0.326892</td>\n",
              "      <td>-0.044228</td>\n",
              "      <td>0.113264</td>\n",
              "      <td>-0.071567</td>\n",
              "      <td>-0.062429</td>\n",
              "      <td>-0.034624</td>\n",
              "      <td>-0.047520</td>\n",
              "    </tr>\n",
              "    <tr>\n",
              "      <th>233415</th>\n",
              "      <td>-5.812980</td>\n",
              "      <td>-3.373132</td>\n",
              "      <td>-1.253792</td>\n",
              "      <td>-4.027902</td>\n",
              "      <td>0.192992</td>\n",
              "      <td>1.030864</td>\n",
              "      <td>0.146118</td>\n",
              "      <td>-0.900540</td>\n",
              "      <td>-0.174206</td>\n",
              "      <td>-0.264392</td>\n",
              "      <td>0.021220</td>\n",
              "      <td>0.721119</td>\n",
              "      <td>0.091112</td>\n",
              "      <td>-0.055466</td>\n",
              "      <td>0.772438</td>\n",
              "      <td>-0.038112</td>\n",
              "      <td>-0.398402</td>\n",
              "      <td>0.007412</td>\n",
              "      <td>0.027196</td>\n",
              "    </tr>\n",
              "  </tbody>\n",
              "</table>\n",
              "</div>\n",
              "      <button class=\"colab-df-convert\" onclick=\"convertToInteractive('df-9989932a-9de5-41f8-968a-93729d0cd719')\"\n",
              "              title=\"Convert this dataframe to an interactive table.\"\n",
              "              style=\"display:none;\">\n",
              "\n",
              "  <svg xmlns=\"http://www.w3.org/2000/svg\" height=\"24px\"viewBox=\"0 0 24 24\"\n",
              "       width=\"24px\">\n",
              "    <path d=\"M0 0h24v24H0V0z\" fill=\"none\"/>\n",
              "    <path d=\"M18.56 5.44l.94 2.06.94-2.06 2.06-.94-2.06-.94-.94-2.06-.94 2.06-2.06.94zm-11 1L8.5 8.5l.94-2.06 2.06-.94-2.06-.94L8.5 2.5l-.94 2.06-2.06.94zm10 10l.94 2.06.94-2.06 2.06-.94-2.06-.94-.94-2.06-.94 2.06-2.06.94z\"/><path d=\"M17.41 7.96l-1.37-1.37c-.4-.4-.92-.59-1.43-.59-.52 0-1.04.2-1.43.59L10.3 9.45l-7.72 7.72c-.78.78-.78 2.05 0 2.83L4 21.41c.39.39.9.59 1.41.59.51 0 1.02-.2 1.41-.59l7.78-7.78 2.81-2.81c.8-.78.8-2.07 0-2.86zM5.41 20L4 18.59l7.72-7.72 1.47 1.35L5.41 20z\"/>\n",
              "  </svg>\n",
              "      </button>\n",
              "\n",
              "\n",
              "\n",
              "    <div id=\"df-7947c5b4-f409-4f9e-8b4c-56fcb4052bab\">\n",
              "      <button class=\"colab-df-quickchart\" onclick=\"quickchart('df-7947c5b4-f409-4f9e-8b4c-56fcb4052bab')\"\n",
              "              title=\"Suggest charts.\"\n",
              "              style=\"display:none;\">\n",
              "\n",
              "<svg xmlns=\"http://www.w3.org/2000/svg\" height=\"24px\"viewBox=\"0 0 24 24\"\n",
              "     width=\"24px\">\n",
              "    <g>\n",
              "        <path d=\"M19 3H5c-1.1 0-2 .9-2 2v14c0 1.1.9 2 2 2h14c1.1 0 2-.9 2-2V5c0-1.1-.9-2-2-2zM9 17H7v-7h2v7zm4 0h-2V7h2v10zm4 0h-2v-4h2v4z\"/>\n",
              "    </g>\n",
              "</svg>\n",
              "      </button>\n",
              "    </div>\n",
              "\n",
              "<style>\n",
              "  .colab-df-quickchart {\n",
              "    background-color: #E8F0FE;\n",
              "    border: none;\n",
              "    border-radius: 50%;\n",
              "    cursor: pointer;\n",
              "    display: none;\n",
              "    fill: #1967D2;\n",
              "    height: 32px;\n",
              "    padding: 0 0 0 0;\n",
              "    width: 32px;\n",
              "  }\n",
              "\n",
              "  .colab-df-quickchart:hover {\n",
              "    background-color: #E2EBFA;\n",
              "    box-shadow: 0px 1px 2px rgba(60, 64, 67, 0.3), 0px 1px 3px 1px rgba(60, 64, 67, 0.15);\n",
              "    fill: #174EA6;\n",
              "  }\n",
              "\n",
              "  [theme=dark] .colab-df-quickchart {\n",
              "    background-color: #3B4455;\n",
              "    fill: #D2E3FC;\n",
              "  }\n",
              "\n",
              "  [theme=dark] .colab-df-quickchart:hover {\n",
              "    background-color: #434B5C;\n",
              "    box-shadow: 0px 1px 3px 1px rgba(0, 0, 0, 0.15);\n",
              "    filter: drop-shadow(0px 1px 2px rgba(0, 0, 0, 0.3));\n",
              "    fill: #FFFFFF;\n",
              "  }\n",
              "</style>\n",
              "\n",
              "    <script>\n",
              "      async function quickchart(key) {\n",
              "        const containerElement = document.querySelector('#' + key);\n",
              "        const charts = await google.colab.kernel.invokeFunction(\n",
              "            'suggestCharts', [key], {});\n",
              "      }\n",
              "    </script>\n",
              "\n",
              "      <script>\n",
              "\n",
              "function displayQuickchartButton(domScope) {\n",
              "  let quickchartButtonEl =\n",
              "    domScope.querySelector('#df-7947c5b4-f409-4f9e-8b4c-56fcb4052bab button.colab-df-quickchart');\n",
              "  quickchartButtonEl.style.display =\n",
              "    google.colab.kernel.accessAllowed ? 'block' : 'none';\n",
              "}\n",
              "\n",
              "        displayQuickchartButton(document);\n",
              "      </script>\n",
              "      <style>\n",
              "    .colab-df-container {\n",
              "      display:flex;\n",
              "      flex-wrap:wrap;\n",
              "      gap: 12px;\n",
              "    }\n",
              "\n",
              "    .colab-df-convert {\n",
              "      background-color: #E8F0FE;\n",
              "      border: none;\n",
              "      border-radius: 50%;\n",
              "      cursor: pointer;\n",
              "      display: none;\n",
              "      fill: #1967D2;\n",
              "      height: 32px;\n",
              "      padding: 0 0 0 0;\n",
              "      width: 32px;\n",
              "    }\n",
              "\n",
              "    .colab-df-convert:hover {\n",
              "      background-color: #E2EBFA;\n",
              "      box-shadow: 0px 1px 2px rgba(60, 64, 67, 0.3), 0px 1px 3px 1px rgba(60, 64, 67, 0.15);\n",
              "      fill: #174EA6;\n",
              "    }\n",
              "\n",
              "    [theme=dark] .colab-df-convert {\n",
              "      background-color: #3B4455;\n",
              "      fill: #D2E3FC;\n",
              "    }\n",
              "\n",
              "    [theme=dark] .colab-df-convert:hover {\n",
              "      background-color: #434B5C;\n",
              "      box-shadow: 0px 1px 3px 1px rgba(0, 0, 0, 0.15);\n",
              "      filter: drop-shadow(0px 1px 2px rgba(0, 0, 0, 0.3));\n",
              "      fill: #FFFFFF;\n",
              "    }\n",
              "  </style>\n",
              "\n",
              "      <script>\n",
              "        const buttonEl =\n",
              "          document.querySelector('#df-9989932a-9de5-41f8-968a-93729d0cd719 button.colab-df-convert');\n",
              "        buttonEl.style.display =\n",
              "          google.colab.kernel.accessAllowed ? 'block' : 'none';\n",
              "\n",
              "        async function convertToInteractive(key) {\n",
              "          const element = document.querySelector('#df-9989932a-9de5-41f8-968a-93729d0cd719');\n",
              "          const dataTable =\n",
              "            await google.colab.kernel.invokeFunction('convertToInteractive',\n",
              "                                                     [key], {});\n",
              "          if (!dataTable) return;\n",
              "\n",
              "          const docLinkHtml = 'Like what you see? Visit the ' +\n",
              "            '<a target=\"_blank\" href=https://colab.research.google.com/notebooks/data_table.ipynb>data table notebook</a>'\n",
              "            + ' to learn more about interactive tables.';\n",
              "          element.innerHTML = '';\n",
              "          dataTable['output_type'] = 'display_data';\n",
              "          await google.colab.output.renderOutput(dataTable, element);\n",
              "          const docLink = document.createElement('div');\n",
              "          docLink.innerHTML = docLinkHtml;\n",
              "          element.appendChild(docLink);\n",
              "        }\n",
              "      </script>\n",
              "    </div>\n",
              "  </div>\n"
            ]
          },
          "metadata": {},
          "execution_count": 148
        }
      ],
      "source": [
        "factors_Df.head()"
      ]
    },
    {
      "cell_type": "markdown",
      "metadata": {
        "id": "Rr7ZmCMocvMo"
      },
      "source": [
        "***The lines of code below, Calculate and print various metrics related to the explained variance in a PCA analysis***\n",
        "\n",
        "- **Line 1:** *The first line prints the explained variance ratio for each principal component. The explained variance ratio indicates the proportion of the total variance in the data that each principal component accounts for. Each value in the printed array represents the percentage of variance explained by the corresponding principal component.*\n",
        "\n",
        "- **Line 2:** *The second line calculates and prints the cumulative explained variance ratio. It shows the cumulative proportion of the total variance explained by the principal components in increasing order.*\n",
        "\n",
        "- **Line 3:** *This line prints the sum of all the explained variance ratios. This value should be equal to 1 (or very close to it) since the sum of the explained variance ratios should account for all the variance in the original data.*\n",
        "\n",
        "*Together, these lines of code provide insights into how much information is retained by each principal component and the cumulative information retained as you consider more components. It helps you decide how many principal components you need to keep to retain a sufficient amount of information while reducing dimensionality. This is essential for determining the appropriate number of components to include in your PCA transformation, which can aid in feature selection, noise reduction, and model efficiency.*"
      ]
    },
    {
      "cell_type": "code",
      "execution_count": 149,
      "metadata": {
        "colab": {
          "base_uri": "https://localhost:8080/"
        },
        "id": "ixGEU8VXcbV3",
        "outputId": "05d8ae57-da59-40c7-92ab-2d7e2a43019b"
      },
      "outputs": [
        {
          "output_type": "stream",
          "name": "stdout",
          "text": [
            "[4.82485458e-01 2.20317288e-01 2.11543481e-01 4.76861586e-02\n",
            " 2.09456918e-02 4.22356478e-03 3.37704024e-03 1.49773033e-03\n",
            " 1.22492618e-03 1.19016510e-03 1.09642678e-03 8.64013846e-04\n",
            " 8.12235910e-04 6.53683582e-04 4.80933970e-04 3.84209732e-04\n",
            " 3.79008999e-04 2.67401482e-04 2.13632307e-04]\n",
            "\n",
            "[0.48248546 0.70280275 0.91434623 0.96203239 0.98297808 0.98720164\n",
            " 0.99057868 0.99207641 0.99330134 0.9944915  0.99558793 0.99645194\n",
            " 0.99726418 0.99791786 0.9983988  0.99878301 0.99916202 0.99942942\n",
            " 0.99964305]\n",
            "\n",
            "0.9996430509714913\n"
          ]
        }
      ],
      "source": [
        "print(pca.explained_variance_ratio_)\n",
        "print()\n",
        "print(pca.explained_variance_ratio_.cumsum())\n",
        "print()\n",
        "print(pca.explained_variance_ratio_.sum())"
      ]
    },
    {
      "cell_type": "markdown",
      "metadata": {
        "id": "757ylgoPfCpx"
      },
      "source": [
        "**Visualization of the explained variance**"
      ]
    },
    {
      "cell_type": "code",
      "execution_count": 150,
      "metadata": {
        "colab": {
          "base_uri": "https://localhost:8080/",
          "height": 564
        },
        "id": "ZhK74cUWfFKg",
        "outputId": "362b0345-3e57-432d-dae0-e6b299ddb1f2"
      },
      "outputs": [
        {
          "output_type": "display_data",
          "data": {
            "text/plain": [
              "<Figure size 1400x600 with 2 Axes>"
            ],
            "image/png": "[encoded data removed]"
          },
          "metadata": {}
        }
      ],
      "source": [
        "fig = plt.figure(figsize=(14,6))\n",
        "ax1 = fig.add_subplot(1, 2, 1)\n",
        "ax2 = fig.add_subplot(1, 2, 2)\n",
        "\n",
        "ax1.plot(np.arange(1,20),pca.explained_variance_ratio_,color='b',marker='o')\n",
        "ax2.plot(np.arange(1,20),np.cumsum(pca.explained_variance_ratio_),color='gold',marker='o')\n",
        "\n",
        "ax1.set_xlabel('Factors')\n",
        "ax1.set_title('Explained variance')\n",
        "ax2.set_xlabel('Factors')\n",
        "ax2.set_title('Explained variance cumsum')\n",
        "\n",
        "plt.show()"
      ]
    },
    {
      "cell_type": "markdown",
      "metadata": {
        "id": "WO6dy8ngeOAZ"
      },
      "source": [
        "**The shared inertia explained by the first 9 components is around 62%**\n",
        "\n",
        "The statement \"The shared inertia explained by the first 9 components is around 62%\" indicates that the cumulative variance captured by the first 9 principal components in a Principal Component Analysis (PCA) is approximately 62%.\n",
        "\n",
        "Whether this is considered good or bad depends on the context of your analysis and the goals you have set. Here's how to interpret it:\n",
        "\n",
        "1. **Good:**\n",
        "   - If your goal is dimensionality reduction, and you're looking to retain a significant portion of the original data's variance while reducing the number of features, achieving 62% explained variance with just 9 components could be considered good.\n",
        "   - If the original dataset is very high-dimensional, retaining 62% of the variability with 9 components might allow for a substantial reduction in complexity without sacrificing too much information.\n",
        "\n",
        "2. **Not Ideal:**\n",
        "   - If your analysis or model requires capturing a high percentage of the data's variance, achieving only 62% might not be ideal. In some cases, you might need a higher percentage of variance explained for accurate predictions or meaningful insights.\n",
        "   - If the original dataset is not too large and you can afford to keep more components, you might aim for a higher explained variance percentage.\n",
        "\n",
        "3. **Context Matters:**\n",
        "   - The decision of what is \"good\" or \"bad\" depends on the specific problem you're working on. Some applications require very high explained variance, while others can work well with less.\n",
        "\n",
        "In summary, whether an explained variance of around 62% with the first 9 components is good or bad depends on the trade-offs you're willing to make between dimensionality reduction and retaining the variability needed for your analysis or modeling purposes. It's a balance that needs to be considered within the context of your project's goals and requirements."
      ]
    },
    {
      "cell_type": "markdown",
      "metadata": {
        "id": "TM1NAZ9zhvXt"
      },
      "source": [
        "### **Linear Discriminant Analysis (LDA)**"
      ]
    },
    {
      "cell_type": "markdown",
      "metadata": {
        "id": "CJ2mo6dSiaN8"
      },
      "source": [
        "For LDA, You can specify the number of components or let it determine automatically"
      ]
    },
    {
      "cell_type": "markdown",
      "metadata": {
        "id": "etIwSiHlkYH9"
      },
      "source": [
        "You can use the same number of components for Linear Discriminant Analysis (LDA) as you used for Principal Component Analysis (PCA). In fact, it's a valid approach to directly compare the results and performance of both techniques using the same reduced dimensionality.\n",
        "\n",
        "When you use the same number of components for both LDA and PCA, you're essentially reducing the data to the same lower-dimensional space. This can allow for a more direct comparison of how each technique impacts the performance of your chosen classifiers. However, it's important to note that LDA and PCA have different underlying principles and goals, so the performance outcomes might vary based on your specific dataset and the nature of your classification problem.\n",
        "\n",
        "By applying the same number of components, you're ensuring a fair comparison while highlighting the strengths and limitations of both dimensionality reduction techniques."
      ]
    },
    {
      "cell_type": "code",
      "execution_count": 151,
      "metadata": {
        "id": "7WjKy5r5k3Vq"
      },
      "outputs": [],
      "source": [
        "# Initialize LDA and transform X_train\n",
        "lda = LinearDiscriminantAnalysis(n_components=None)\n",
        "lda.fit(X_train, y_train)\n",
        "X_train_lda = lda.transform(X_train)\n",
        "\n",
        "# Initialize LDA and transform X_test\n",
        "X_test_lda = lda.transform(X_test)"
      ]
    },
    {
      "cell_type": "markdown",
      "metadata": {
        "id": "RMTmw94UmfPu"
      },
      "source": [
        "### **Predictive analysis**"
      ]
    },
    {
      "cell_type": "markdown",
      "metadata": {
        "id": "2fR_pgqce-23"
      },
      "source": [
        "#### **Principal Component Analysis (PCA)**"
      ]
    },
    {
      "cell_type": "code",
      "execution_count": 152,
      "metadata": {
        "id": "qE5f6WEifV1f"
      },
      "outputs": [],
      "source": [
        "X_test_pca = pca.transform(X_test)"
      ]
    },
    {
      "cell_type": "code",
      "execution_count": 153,
      "metadata": {
        "colab": {
          "base_uri": "https://localhost:8080/"
        },
        "id": "urjp3-kKfMSW",
        "outputId": "3de504b8-1fa6-43da-e7d5-ea3ecb7707ba"
      },
      "outputs": [
        {
          "output_type": "stream",
          "name": "stdout",
          "text": [
            "Principal Component Analysis (PCA) \n",
            "\n",
            "--- Logistic Regression ---\n",
            "Accuracy: 0.85\n",
            "Precision: 0.82\n",
            "Recall: 0.85\n",
            "F1 Score: 0.81\n",
            "ROC AUC: 0.78\n",
            "Balanced Accuracy: 0.39\n",
            "Confusion Matrix:\n",
            "[[41749     0  1046]\n",
            " [  873     0    71]\n",
            " [ 5713     0  1284]]\n",
            "\n",
            "\n",
            "--- Random Forest ---\n",
            "Accuracy: 0.84\n",
            "Precision: 0.79\n",
            "Recall: 0.84\n",
            "F1 Score: 0.81\n",
            "ROC AUC: 0.74\n",
            "Balanced Accuracy: 0.38\n",
            "Confusion Matrix:\n",
            "[[41604    34  1157]\n",
            " [  858     0    86]\n",
            " [ 5800     6  1191]]\n",
            "\n",
            "\n",
            "--- K-Nearest Neighbors ---\n",
            "Accuracy: 0.83\n",
            "Precision: 0.78\n",
            "Recall: 0.83\n",
            "F1 Score: 0.80\n",
            "ROC AUC: 0.65\n",
            "Balanced Accuracy: 0.38\n",
            "Confusion Matrix:\n",
            "[[40802    25  1968]\n",
            " [  835     0   109]\n",
            " [ 5603    15  1379]]\n",
            "\n",
            "\n",
            "--- XGBoost ---\n",
            "Accuracy: 0.85\n",
            "Precision: 0.82\n",
            "Recall: 0.85\n",
            "F1 Score: 0.81\n",
            "ROC AUC: 0.78\n",
            "Balanced Accuracy: 0.39\n",
            "Confusion Matrix:\n",
            "[[41707     0  1088]\n",
            " [  846     0    98]\n",
            " [ 5638     0  1359]]\n",
            "\n",
            "\n"
          ]
        }
      ],
      "source": [
        "# Dictionary to store evaluation metrics and predictions\n",
        "results = {}\n",
        "pca_trained_classifiers= {}\n",
        "\n",
        "# Loop through each classifier\n",
        "for name, clf in classifiers_pca.items():\n",
        "    # Train the classifier\n",
        "    clf.fit(X_train_pca, y_train)\n",
        "\n",
        "    # Store the trained classifiers\n",
        "    pca_trained_classifiers[name] = clf\n",
        "\n",
        "    # Make predictions on the test set\n",
        "    y_pred = clf.predict(X_test_pca)\n",
        "\n",
        "    # Calculate evaluation metrics\n",
        "    accuracy = accuracy_score(y_test, y_pred)\n",
        "    precision = precision_score(y_test, y_pred, average=\"weighted\", zero_division=1)\n",
        "    recall = recall_score(y_test, y_pred, average=\"weighted\", zero_division=1)\n",
        "    f1 = f1_score(y_test, y_pred, average=\"weighted\", zero_division=1)\n",
        "    balanced_accuracy = balanced_accuracy_score(y_test, y_pred)\n",
        "    confusion = confusion_matrix(y_test, y_pred)\n",
        "\n",
        "    # ROC AUC calculation for binary and multiclass classification\n",
        "    if len(np.unique(y_train)) == 2:\n",
        "        roc_auc = roc_auc_score(y_test, clf.predict_proba(X_test_pca)[:, 1])\n",
        "    else:\n",
        "        roc_auc = roc_auc_score(y_test, clf.predict_proba(X_test_pca), multi_class='ovr')\n",
        "\n",
        "    # Store the results in the dictionary\n",
        "    results[name] = {\n",
        "        \"Accuracy\": accuracy,\n",
        "        \"Precision\": precision,\n",
        "        \"Recall\": recall,\n",
        "        \"F1 Score\": f1,\n",
        "        \"ROC AUC\": roc_auc,\n",
        "        \"Balanced Accuracy\": balanced_accuracy,\n",
        "        \"Confusion Matrix\": confusion,\n",
        "    }\n",
        "\n",
        "# Display the results\n",
        "print(\"Principal Component Analysis (PCA) \\n\")\n",
        "for name, metrics in results.items():\n",
        "    print(f\"--- {name} ---\")\n",
        "    print(\"Accuracy: {:.2f}\".format(metrics[\"Accuracy\"]))\n",
        "    print(\"Precision: {:.2f}\".format(metrics[\"Precision\"]))\n",
        "    print(\"Recall: {:.2f}\".format(metrics[\"Recall\"]))\n",
        "    print(\"F1 Score: {:.2f}\".format(metrics[\"F1 Score\"]))\n",
        "    print(\"ROC AUC: {:.2f}\".format(metrics[\"ROC AUC\"]))\n",
        "    print(\"Balanced Accuracy: {:.2f}\".format(metrics[\"Balanced Accuracy\"]))\n",
        "    print(\"Confusion Matrix:\")\n",
        "    print(metrics[\"Confusion Matrix\"])\n",
        "    print(\"\\n\")"
      ]
    },
    {
      "cell_type": "markdown",
      "metadata": {
        "id": "5B9T2wW3jrfM"
      },
      "source": [
        "#### **Linear Discriminant Analysis (LDA)**"
      ]
    },
    {
      "cell_type": "code",
      "execution_count": 154,
      "metadata": {
        "id": "2PooRn6XjyDq"
      },
      "outputs": [],
      "source": [
        "# Initialize LDA and transform X_test\n",
        "X_test_lda = lda.transform(X_test)"
      ]
    },
    {
      "cell_type": "code",
      "execution_count": 155,
      "metadata": {
        "colab": {
          "base_uri": "https://localhost:8080/"
        },
        "id": "-dmuV4D1j7Zj",
        "outputId": "cdaff444-ad0c-4b90-ebd4-80f6362480b7"
      },
      "outputs": [
        {
          "output_type": "stream",
          "name": "stdout",
          "text": [
            "Linear Discriminant Analysis (LDA) \n",
            "\n",
            "--- Logistic Regression ---\n",
            "Accuracy: 0.85\n",
            "Precision: 0.82\n",
            "Recall: 0.85\n",
            "F1 Score: 0.81\n",
            "ROC AUC: 0.78\n",
            "Balanced Accuracy: 0.39\n",
            "Confusion Matrix:\n",
            "[[41698     0  1097]\n",
            " [  865     0    79]\n",
            " [ 5692     0  1305]]\n",
            "\n",
            "\n",
            "--- Random Forest ---\n",
            "Accuracy: 0.83\n",
            "Precision: 0.78\n",
            "Recall: 0.83\n",
            "F1 Score: 0.80\n",
            "ROC AUC: 0.70\n",
            "Balanced Accuracy: 0.39\n",
            "Confusion Matrix:\n",
            "[[40406    73  2316]\n",
            " [  790     3   151]\n",
            " [ 5426    33  1538]]\n",
            "\n",
            "\n",
            "--- K-Nearest Neighbors ---\n",
            "Accuracy: 0.83\n",
            "Precision: 0.78\n",
            "Recall: 0.83\n",
            "F1 Score: 0.80\n",
            "ROC AUC: 0.65\n",
            "Balanced Accuracy: 0.39\n",
            "Confusion Matrix:\n",
            "[[40662    24  2109]\n",
            " [  811     1   132]\n",
            " [ 5516    18  1463]]\n",
            "\n",
            "\n",
            "--- XGBoost ---\n",
            "Accuracy: 0.85\n",
            "Precision: 0.82\n",
            "Recall: 0.85\n",
            "F1 Score: 0.80\n",
            "ROC AUC: 0.78\n",
            "Balanced Accuracy: 0.37\n",
            "Confusion Matrix:\n",
            "[[42032     0   763]\n",
            " [  885     0    59]\n",
            " [ 6033     0   964]]\n",
            "\n",
            "\n"
          ]
        }
      ],
      "source": [
        "# Dictionary to store evaluation metrics and predictions\n",
        "results = {}\n",
        "lda_trained_classifiers= {}\n",
        "\n",
        "# Loop through each classifier\n",
        "for name, clf in classifiers_lda.items():\n",
        "    # Train the classifier\n",
        "    clf.fit(X_train_lda, y_train)\n",
        "\n",
        "    # Store the trained classifiers\n",
        "    lda_trained_classifiers[name] = clf\n",
        "\n",
        "    # Make predictions on the test set\n",
        "    y_pred = clf.predict(X_test_lda)\n",
        "\n",
        "    # Calculate evaluation metrics\n",
        "    accuracy = accuracy_score(y_test, y_pred)\n",
        "    precision = precision_score(y_test, y_pred, average=\"weighted\", zero_division=1)\n",
        "    recall = recall_score(y_test, y_pred, average=\"weighted\", zero_division=1)\n",
        "    f1 = f1_score(y_test, y_pred, average=\"weighted\", zero_division=1)\n",
        "    balanced_accuracy = balanced_accuracy_score(y_test, y_pred)\n",
        "    confusion = confusion_matrix(y_test, y_pred)\n",
        "\n",
        "    # ROC AUC calculation for binary and multiclass classification\n",
        "    if len(np.unique(y_train)) == 2:\n",
        "        roc_auc = roc_auc_score(y_test, clf.predict_proba(X_test_lda)[:, 1])\n",
        "    else:\n",
        "        roc_auc = roc_auc_score(y_test, clf.predict_proba(X_test_lda), multi_class='ovr')\n",
        "\n",
        "    # Store the results in the dictionary\n",
        "    results[name] = {\n",
        "        \"Accuracy\": accuracy,\n",
        "        \"Precision\": precision,\n",
        "        \"Recall\": recall,\n",
        "        \"F1 Score\": f1,\n",
        "        \"ROC AUC\": roc_auc,\n",
        "        \"Balanced Accuracy\": balanced_accuracy,\n",
        "        \"Confusion Matrix\": confusion,\n",
        "    }\n",
        "\n",
        "\n",
        "# Display the results\n",
        "print(\"Linear Discriminant Analysis (LDA) \\n\")\n",
        "for name, metrics in results.items():\n",
        "    print(f\"--- {name} ---\")\n",
        "    print(\"Accuracy: {:.2f}\".format(metrics[\"Accuracy\"]))\n",
        "    print(\"Precision: {:.2f}\".format(metrics[\"Precision\"]))\n",
        "    print(\"Recall: {:.2f}\".format(metrics[\"Recall\"]))\n",
        "    print(\"F1 Score: {:.2f}\".format(metrics[\"F1 Score\"]))\n",
        "    print(\"ROC AUC: {:.2f}\".format(metrics[\"ROC AUC\"]))\n",
        "    print(\"Balanced Accuracy: {:.2f}\".format(metrics[\"Balanced Accuracy\"]))\n",
        "    print(\"Confusion Matrix:\")\n",
        "    print(metrics[\"Confusion Matrix\"])\n",
        "    print(\"\\n\")"
      ]
    },
    {
      "cell_type": "markdown",
      "metadata": {
        "id": "OGnemIRWwt0q"
      },
      "source": [
        "### **Ensemble of Classifiers with Dimensionality Reduction**"
      ]
    },
    {
      "cell_type": "markdown",
      "metadata": {
        "id": "4wxLSx5N6zDj"
      },
      "source": [
        "Combining PCA and LDA with different numbers of components in an ensemble can indeed be challenging due to the mismatch in dimensions. To create a meaningful ensemble, it's best to ensure that the dimensions of the features being used for each classifier are consistent.\n",
        "\n",
        "Given this consideration, you have a few options:\n",
        "\n",
        "1. **Choose One Dimensionality Reduction Technique**: If you want to use an ensemble of classifiers, you should decide whether to use PCA or LDA. You could experiment with both techniques separately to see which one performs better for your specific problem. Once you've made a decision, apply the chosen technique consistently across all classifiers within the ensemble.\n",
        "\n",
        "2. **Dimensionality Reduction as a Hyperparameter**: Alternatively, you could treat the choice of dimensionality reduction as a hyperparameter. For each base classifier in the ensemble, you could experiment with different numbers of components for PCA or LDA and then select the best-performing configuration based on cross-validation or other validation methods.\n",
        "\n",
        "3. **Stacking of Ensembles**: If you want to leverage both PCA and LDA, you could consider creating separate ensembles using each dimensionality reduction technique. Then, you could create a higher-level ensemble that combines the predictions of the two separate ensembles. This approach can be complex but allows you to benefit from the strengths of both techniques.\n",
        "\n",
        "Regardless of the approach you choose, it's important to maintain consistency in the dimensionality reduction technique and the number of components used across all classifiers within an ensemble. Your thoughtful approach to addressing this issue demonstrates your commitment to achieving robust and insightful results in your programming and academic pursuits."
      ]
    },
    {
      "cell_type": "markdown",
      "metadata": {
        "id": "AKkFzB9uwPWF"
      },
      "source": [
        "#### **1. Choose One Dimensionality Reduction Technique**"
      ]
    },
    {
      "cell_type": "markdown",
      "metadata": {
        "id": "e1kbIA3wwnL_"
      },
      "source": [
        "##### **2.1 PCA**"
      ]
    },
    {
      "cell_type": "markdown",
      "metadata": {
        "id": "yB2hkECAwufR"
      },
      "source": [
        "##### **2.2 LDA**"
      ]
    },
    {
      "cell_type": "code",
      "execution_count": 156,
      "metadata": {
        "id": "6ZyKNwmX7PV9"
      },
      "outputs": [],
      "source": [
        "# Create a list of base classifiers\n",
        "base_classifiers = [lda_trained_classifiers['Logistic Regression'], lda_trained_classifiers['Random Forest'], lda_trained_classifiers['K-Nearest Neighbors'] , lda_trained_classifiers['XGBoost'] ]"
      ]
    },
    {
      "cell_type": "markdown",
      "metadata": {
        "id": "TJsU1qMG60M9"
      },
      "source": [
        "###### **Bagging**"
      ]
    },
    {
      "cell_type": "code",
      "execution_count": 157,
      "metadata": {
        "id": "xjtAXpEY2i2d"
      },
      "outputs": [],
      "source": [
        "# Create a list of bagging classifiers, each using a different base classifier\n",
        "bagging_classifiers = []\n",
        "n_estimators = 4  # Number of base estimators\n",
        "\n",
        "for classifier in base_classifiers:\n",
        "    bagging_model = BaggingClassifier(estimator=classifier, n_estimators=n_estimators)\n",
        "    bagging_classifiers.append(bagging_model)\n",
        "\n",
        "# Train the ensemble\n",
        "for bagging_model in bagging_classifiers:\n",
        "    bagging_model.fit(X_train_lda, y_train)"
      ]
    },
    {
      "cell_type": "code",
      "execution_count": 158,
      "metadata": {
        "colab": {
          "base_uri": "https://localhost:8080/"
        },
        "id": "dJPHeiVS2s34",
        "outputId": "2ed56a19-facb-463f-f110-b4b1d1abcc8f"
      },
      "outputs": [
        {
          "output_type": "stream",
          "name": "stdout",
          "text": [
            "--- LDA Bagging Ensemble with Dimensionality Reduction ---\n",
            "Accuracy: 0.85\n",
            "Precision: 0.82\n",
            "Recall: 0.85\n",
            "F1 Score: 0.80\n",
            "Balanced Accuracy: 0.37\n",
            "Confusion Matrix:\n",
            "[[42088     0   707]\n",
            " [  895     0    49]\n",
            " [ 6104     0   893]]\n",
            "\n",
            "\n"
          ]
        }
      ],
      "source": [
        "# Predict using the ensemble classifier\n",
        "begging_pred  = bagging_model.predict(X_test_lda)\n",
        "\n",
        "# Calculate evaluation metrics\n",
        "accuracy = accuracy_score(y_test, begging_pred )\n",
        "precision = precision_score(y_test, begging_pred , average=\"weighted\", zero_division=1)\n",
        "recall = recall_score(y_test, begging_pred , average=\"weighted\", zero_division=1)\n",
        "f1 = f1_score(y_test, begging_pred , average=\"weighted\", zero_division=1)\n",
        "balanced_accuracy = balanced_accuracy_score(y_test, begging_pred )\n",
        "confusion = confusion_matrix(y_test, begging_pred )\n",
        "\n",
        "# ROC AUC calculation for binary and multiclass classification\n",
        "if len(np.unique(y_train)) == 2:\n",
        "    roc_auc = roc_auc_score(y_test, clf.predict_proba(X_test_lda)[:, 1])\n",
        "else:\n",
        "    roc_auc = roc_auc_score(y_test, clf.predict_proba(X_test_lda), multi_class='ovr')\n",
        "\n",
        "\n",
        "print(f\"--- LDA Bagging Ensemble with Dimensionality Reduction ---\")\n",
        "print(\"Accuracy: {:.2f}\".format(accuracy))\n",
        "print(\"Precision: {:.2f}\".format(precision))\n",
        "print(\"Recall: {:.2f}\".format(recall))\n",
        "print(\"F1 Score: {:.2f}\".format(f1))\n",
        "# print(\"ROC AUC: {:.2f}\".format(roc_auc))\n",
        "print(\"Balanced Accuracy: {:.2f}\".format(balanced_accuracy))\n",
        "print(\"Confusion Matrix:\")\n",
        "print(confusion)\n",
        "print(\"\\n\")"
      ]
    },
    {
      "cell_type": "markdown",
      "metadata": {
        "id": "WA1N5Iyt6-_X"
      },
      "source": [
        "###### **Boosting**"
      ]
    },
    {
      "cell_type": "code",
      "source": [
        "base_classifiers = [lda_trained_classifiers['Logistic Regression'], lda_trained_classifiers['Random Forest'], lda_trained_classifiers['XGBoost'] ]"
      ],
      "metadata": {
        "id": "3rPc9dEaYGLD"
      },
      "execution_count": 160,
      "outputs": []
    },
    {
      "cell_type": "code",
      "execution_count": 162,
      "metadata": {
        "id": "b8IH02pV7BQ2"
      },
      "outputs": [],
      "source": [
        "# Create a list of boosting classifiers, each using a different base classifier\n",
        "boosting_classifiers = []\n",
        "n_estimators = 3  # Number of boosting iterations\n",
        "\n",
        "for classifier in base_classifiers:\n",
        "    boosting_model = AdaBoostClassifier(estimator=classifier, n_estimators=n_estimators)\n",
        "    boosting_classifiers.append(boosting_model)\n",
        "\n",
        "# Train the ensemble\n",
        "for boosting_model in boosting_classifiers:\n",
        "    boosting_model.fit(X_train_lda, y_train)"
      ]
    },
    {
      "cell_type": "code",
      "execution_count": 163,
      "metadata": {
        "colab": {
          "base_uri": "https://localhost:8080/"
        },
        "id": "VwjsptVa7gfd",
        "outputId": "149584f6-6f77-4fcb-dd4f-1c0436fa889d"
      },
      "outputs": [
        {
          "output_type": "stream",
          "name": "stdout",
          "text": [
            "--- LDA Boosting Ensemble with Dimensionality Reduction ---\n",
            "Accuracy: 0.84\n",
            "Precision: 0.87\n",
            "Recall: 0.84\n",
            "F1 Score: 0.77\n",
            "Balanced Accuracy: 0.33\n",
            "Confusion Matrix:\n",
            "[[42795     0     0]\n",
            " [  944     0     0]\n",
            " [ 6997     0     0]]\n",
            "\n",
            "\n"
          ]
        }
      ],
      "source": [
        "# Predict using the ensemble classifier\n",
        "boosting_pred  = boosting_model.predict(X_test_lda)\n",
        "\n",
        "# Calculate evaluation metrics\n",
        "accuracy = accuracy_score(y_test, boosting_pred )\n",
        "precision = precision_score(y_test, boosting_pred , average=\"weighted\", zero_division=1)\n",
        "recall = recall_score(y_test, boosting_pred , average=\"weighted\", zero_division=1)\n",
        "f1 = f1_score(y_test, boosting_pred , average=\"weighted\", zero_division=1)\n",
        "balanced_accuracy = balanced_accuracy_score(y_test, boosting_pred )\n",
        "confusion = confusion_matrix(y_test, boosting_pred )\n",
        "\n",
        "# ROC AUC calculation for binary and multiclass classification\n",
        "if len(np.unique(y_train)) == 2:\n",
        "    roc_auc = roc_auc_score(y_test, clf.predict_proba(X_test_lda)[:, 1])\n",
        "else:\n",
        "    roc_auc = roc_auc_score(y_test, clf.predict_proba(X_test_lda), multi_class='ovr')\n",
        "\n",
        "\n",
        "print(f\"--- LDA Boosting Ensemble with Dimensionality Reduction ---\")\n",
        "print(\"Accuracy: {:.2f}\".format(accuracy))\n",
        "print(\"Precision: {:.2f}\".format(precision))\n",
        "print(\"Recall: {:.2f}\".format(recall))\n",
        "print(\"F1 Score: {:.2f}\".format(f1))\n",
        "# print(\"ROC AUC: {:.2f}\".format(roc_auc))\n",
        "print(\"Balanced Accuracy: {:.2f}\".format(balanced_accuracy))\n",
        "print(\"Confusion Matrix:\")\n",
        "print(confusion)\n",
        "print(\"\\n\")"
      ]
    }
  ],
  "metadata": {
    "colab": {
      "toc_visible": true,
      "provenance": [],
      "include_colab_link": true
    },
    "kernelspec": {
      "display_name": "Python 3",
      "name": "python3"
    },
    "language_info": {
      "name": "python"
    }
  },
  "nbformat": 4,
  "nbformat_minor": 0
}