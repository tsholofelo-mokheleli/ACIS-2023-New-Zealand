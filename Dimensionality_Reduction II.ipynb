{
  "nbformat": 4,
  "nbformat_minor": 0,
  "metadata": {
    "colab": {
      "provenance": [],
      "toc_visible": true,
      "include_colab_link": true
    },
    "kernelspec": {
      "name": "python3",
      "display_name": "Python 3"
    },
    "language_info": {
      "name": "python"
    }
  },
  "cells": [
    {
      "cell_type": "markdown",
      "metadata": {
        "id": "view-in-github",
        "colab_type": "text"
      },
      "source": [
        "<a href=\"https://colab.research.google.com/github/tsholofelo-mokheleli/ACIS-2023-New-Zealand/blob/main/Dimensionality_Reduction%20II.ipynb\" target=\"_parent\"><img src=\"https://colab.research.google.com/assets/colab-badge.svg\" alt=\"Open In Colab\"/></a>"
      ]
    },
    {
      "cell_type": "markdown",
      "source": [
        "### **Dimensionality Reduction in Machine Learning**"
      ],
      "metadata": {
        "id": "Uqf5XlVRI_e2"
      }
    },
    {
      "cell_type": "markdown",
      "source": [
        "**Import Libraries**"
      ],
      "metadata": {
        "id": "GQotO93lIzDE"
      }
    },
    {
      "cell_type": "code",
      "execution_count": 45,
      "metadata": {
        "id": "LfiquzfWIV7U"
      },
      "outputs": [],
      "source": [
        "# Load the libraries\n",
        "import pandas as pd\n",
        "import matplotlib.pyplot as plt\n",
        "import seaborn as sea\n",
        "import numpy as np\n",
        "import seaborn as sns\n",
        "\n",
        "# Scaler\n",
        "from sklearn.preprocessing import StandardScaler\n",
        "\n",
        "# Dimensionality reduction\n",
        "from sklearn.decomposition import PCA\n",
        "from sklearn.discriminant_analysis import LinearDiscriminantAnalysis\n",
        "\n",
        "# Warning filter\n",
        "import warnings\n",
        "warnings.filterwarnings('ignore')\n",
        "cmap=sns.color_palette('Blues_r')\n",
        "\n",
        "# Metrics\n",
        "from sklearn.model_selection import train_test_split\n",
        "from sklearn.model_selection import cross_val_score\n",
        "from sklearn.metrics import accuracy_score, precision_score, recall_score, f1_score, roc_auc_score, cohen_kappa_score, confusion_matrix, balanced_accuracy_score\n",
        "from imblearn.metrics import geometric_mean_score\n",
        "\n",
        "# Classifiers\n",
        "from sklearn.linear_model import LogisticRegression\n",
        "from sklearn.ensemble import RandomForestClassifier\n",
        "from xgboost import XGBClassifier\n",
        "from sklearn.neighbors import KNeighborsClassifier\n",
        "\n",
        "\n",
        "# Plot Theme\n",
        "sns.set_style(\"darkgrid\")\n",
        "plt.style.use(\"seaborn-deep\")"
      ]
    },
    {
      "cell_type": "markdown",
      "source": [
        "### **Load the data**"
      ],
      "metadata": {
        "id": "v7R4pisEJMl9"
      }
    },
    {
      "cell_type": "code",
      "source": [
        "data = pd.read_csv(\"Diabetes health indicators Multi-Class.csv\", sep=';', on_bad_lines='skip')"
      ],
      "metadata": {
        "id": "iouBu3zQJLrA"
      },
      "execution_count": 2,
      "outputs": []
    },
    {
      "cell_type": "code",
      "source": [
        "data.head()"
      ],
      "metadata": {
        "id": "dvMhcVsJJLvl",
        "colab": {
          "base_uri": "https://localhost:8080/",
          "height": 235
        },
        "outputId": "02dc90b5-fc9c-4600-b705-54ed4dca1cdb"
      },
      "execution_count": 3,
      "outputs": [
        {
          "output_type": "execute_result",
          "data": {
            "text/plain": [
              "   Patient  Diabetes_012  HighBP  HighChol  CholCheck   BMI  Smoker  Stroke  \\\n",
              "0        1           0.0     1.0       1.0        1.0  40.0     1.0     0.0   \n",
              "1        2           0.0     0.0       0.0        0.0  25.0     1.0     0.0   \n",
              "2        3           0.0     1.0       1.0        1.0  28.0     0.0     0.0   \n",
              "3        4           0.0     1.0       0.0        1.0  27.0     0.0     0.0   \n",
              "4        5           0.0     1.0       1.0        1.0  24.0     0.0     0.0   \n",
              "\n",
              "   HeartDiseaseorAttack  PhysActivity  ...  AnyHealthcare  NoDocbcCost  \\\n",
              "0                   0.0           0.0  ...            1.0          0.0   \n",
              "1                   0.0           1.0  ...            0.0          1.0   \n",
              "2                   0.0           0.0  ...            1.0          1.0   \n",
              "3                   0.0           1.0  ...            1.0          0.0   \n",
              "4                   0.0           1.0  ...            1.0          0.0   \n",
              "\n",
              "   GenHlth  MentHlth  PhysHlth  DiffWalk  Sex   Age  Education  Income  \n",
              "0      5.0      18.0      15.0       1.0  0.0   9.0        4.0     3.0  \n",
              "1      3.0       0.0       0.0       0.0  0.0   7.0        6.0     1.0  \n",
              "2      5.0      30.0      30.0       1.0  0.0   9.0        4.0     8.0  \n",
              "3      2.0       0.0       0.0       0.0  0.0  11.0        3.0     6.0  \n",
              "4      2.0       3.0       0.0       0.0  0.0  11.0        5.0     4.0  \n",
              "\n",
              "[5 rows x 23 columns]"
            ],
            "text/html": [
              "\n",
              "\n",
              "  <div id=\"df-f2488be2-d70b-4a04-97e3-ad6f0fb7ebe2\">\n",
              "    <div class=\"colab-df-container\">\n",
              "      <div>\n",
              "<style scoped>\n",
              "    .dataframe tbody tr th:only-of-type {\n",
              "        vertical-align: middle;\n",
              "    }\n",
              "\n",
              "    .dataframe tbody tr th {\n",
              "        vertical-align: top;\n",
              "    }\n",
              "\n",
              "    .dataframe thead th {\n",
              "        text-align: right;\n",
              "    }\n",
              "</style>\n",
              "<table border=\"1\" class=\"dataframe\">\n",
              "  <thead>\n",
              "    <tr style=\"text-align: right;\">\n",
              "      <th></th>\n",
              "      <th>Patient</th>\n",
              "      <th>Diabetes_012</th>\n",
              "      <th>HighBP</th>\n",
              "      <th>HighChol</th>\n",
              "      <th>CholCheck</th>\n",
              "      <th>BMI</th>\n",
              "      <th>Smoker</th>\n",
              "      <th>Stroke</th>\n",
              "      <th>HeartDiseaseorAttack</th>\n",
              "      <th>PhysActivity</th>\n",
              "      <th>...</th>\n",
              "      <th>AnyHealthcare</th>\n",
              "      <th>NoDocbcCost</th>\n",
              "      <th>GenHlth</th>\n",
              "      <th>MentHlth</th>\n",
              "      <th>PhysHlth</th>\n",
              "      <th>DiffWalk</th>\n",
              "      <th>Sex</th>\n",
              "      <th>Age</th>\n",
              "      <th>Education</th>\n",
              "      <th>Income</th>\n",
              "    </tr>\n",
              "  </thead>\n",
              "  <tbody>\n",
              "    <tr>\n",
              "      <th>0</th>\n",
              "      <td>1</td>\n",
              "      <td>0.0</td>\n",
              "      <td>1.0</td>\n",
              "      <td>1.0</td>\n",
              "      <td>1.0</td>\n",
              "      <td>40.0</td>\n",
              "      <td>1.0</td>\n",
              "      <td>0.0</td>\n",
              "      <td>0.0</td>\n",
              "      <td>0.0</td>\n",
              "      <td>...</td>\n",
              "      <td>1.0</td>\n",
              "      <td>0.0</td>\n",
              "      <td>5.0</td>\n",
              "      <td>18.0</td>\n",
              "      <td>15.0</td>\n",
              "      <td>1.0</td>\n",
              "      <td>0.0</td>\n",
              "      <td>9.0</td>\n",
              "      <td>4.0</td>\n",
              "      <td>3.0</td>\n",
              "    </tr>\n",
              "    <tr>\n",
              "      <th>1</th>\n",
              "      <td>2</td>\n",
              "      <td>0.0</td>\n",
              "      <td>0.0</td>\n",
              "      <td>0.0</td>\n",
              "      <td>0.0</td>\n",
              "      <td>25.0</td>\n",
              "      <td>1.0</td>\n",
              "      <td>0.0</td>\n",
              "      <td>0.0</td>\n",
              "      <td>1.0</td>\n",
              "      <td>...</td>\n",
              "      <td>0.0</td>\n",
              "      <td>1.0</td>\n",
              "      <td>3.0</td>\n",
              "      <td>0.0</td>\n",
              "      <td>0.0</td>\n",
              "      <td>0.0</td>\n",
              "      <td>0.0</td>\n",
              "      <td>7.0</td>\n",
              "      <td>6.0</td>\n",
              "      <td>1.0</td>\n",
              "    </tr>\n",
              "    <tr>\n",
              "      <th>2</th>\n",
              "      <td>3</td>\n",
              "      <td>0.0</td>\n",
              "      <td>1.0</td>\n",
              "      <td>1.0</td>\n",
              "      <td>1.0</td>\n",
              "      <td>28.0</td>\n",
              "      <td>0.0</td>\n",
              "      <td>0.0</td>\n",
              "      <td>0.0</td>\n",
              "      <td>0.0</td>\n",
              "      <td>...</td>\n",
              "      <td>1.0</td>\n",
              "      <td>1.0</td>\n",
              "      <td>5.0</td>\n",
              "      <td>30.0</td>\n",
              "      <td>30.0</td>\n",
              "      <td>1.0</td>\n",
              "      <td>0.0</td>\n",
              "      <td>9.0</td>\n",
              "      <td>4.0</td>\n",
              "      <td>8.0</td>\n",
              "    </tr>\n",
              "    <tr>\n",
              "      <th>3</th>\n",
              "      <td>4</td>\n",
              "      <td>0.0</td>\n",
              "      <td>1.0</td>\n",
              "      <td>0.0</td>\n",
              "      <td>1.0</td>\n",
              "      <td>27.0</td>\n",
              "      <td>0.0</td>\n",
              "      <td>0.0</td>\n",
              "      <td>0.0</td>\n",
              "      <td>1.0</td>\n",
              "      <td>...</td>\n",
              "      <td>1.0</td>\n",
              "      <td>0.0</td>\n",
              "      <td>2.0</td>\n",
              "      <td>0.0</td>\n",
              "      <td>0.0</td>\n",
              "      <td>0.0</td>\n",
              "      <td>0.0</td>\n",
              "      <td>11.0</td>\n",
              "      <td>3.0</td>\n",
              "      <td>6.0</td>\n",
              "    </tr>\n",
              "    <tr>\n",
              "      <th>4</th>\n",
              "      <td>5</td>\n",
              "      <td>0.0</td>\n",
              "      <td>1.0</td>\n",
              "      <td>1.0</td>\n",
              "      <td>1.0</td>\n",
              "      <td>24.0</td>\n",
              "      <td>0.0</td>\n",
              "      <td>0.0</td>\n",
              "      <td>0.0</td>\n",
              "      <td>1.0</td>\n",
              "      <td>...</td>\n",
              "      <td>1.0</td>\n",
              "      <td>0.0</td>\n",
              "      <td>2.0</td>\n",
              "      <td>3.0</td>\n",
              "      <td>0.0</td>\n",
              "      <td>0.0</td>\n",
              "      <td>0.0</td>\n",
              "      <td>11.0</td>\n",
              "      <td>5.0</td>\n",
              "      <td>4.0</td>\n",
              "    </tr>\n",
              "  </tbody>\n",
              "</table>\n",
              "<p>5 rows × 23 columns</p>\n",
              "</div>\n",
              "      <button class=\"colab-df-convert\" onclick=\"convertToInteractive('df-f2488be2-d70b-4a04-97e3-ad6f0fb7ebe2')\"\n",
              "              title=\"Convert this dataframe to an interactive table.\"\n",
              "              style=\"display:none;\">\n",
              "\n",
              "  <svg xmlns=\"http://www.w3.org/2000/svg\" height=\"24px\"viewBox=\"0 0 24 24\"\n",
              "       width=\"24px\">\n",
              "    <path d=\"M0 0h24v24H0V0z\" fill=\"none\"/>\n",
              "    <path d=\"M18.56 5.44l.94 2.06.94-2.06 2.06-.94-2.06-.94-.94-2.06-.94 2.06-2.06.94zm-11 1L8.5 8.5l.94-2.06 2.06-.94-2.06-.94L8.5 2.5l-.94 2.06-2.06.94zm10 10l.94 2.06.94-2.06 2.06-.94-2.06-.94-.94-2.06-.94 2.06-2.06.94z\"/><path d=\"M17.41 7.96l-1.37-1.37c-.4-.4-.92-.59-1.43-.59-.52 0-1.04.2-1.43.59L10.3 9.45l-7.72 7.72c-.78.78-.78 2.05 0 2.83L4 21.41c.39.39.9.59 1.41.59.51 0 1.02-.2 1.41-.59l7.78-7.78 2.81-2.81c.8-.78.8-2.07 0-2.86zM5.41 20L4 18.59l7.72-7.72 1.47 1.35L5.41 20z\"/>\n",
              "  </svg>\n",
              "      </button>\n",
              "\n",
              "\n",
              "\n",
              "    <div id=\"df-694f6af8-8f08-46fa-aa52-3a746db12a7f\">\n",
              "      <button class=\"colab-df-quickchart\" onclick=\"quickchart('df-694f6af8-8f08-46fa-aa52-3a746db12a7f')\"\n",
              "              title=\"Suggest charts.\"\n",
              "              style=\"display:none;\">\n",
              "\n",
              "<svg xmlns=\"http://www.w3.org/2000/svg\" height=\"24px\"viewBox=\"0 0 24 24\"\n",
              "     width=\"24px\">\n",
              "    <g>\n",
              "        <path d=\"M19 3H5c-1.1 0-2 .9-2 2v14c0 1.1.9 2 2 2h14c1.1 0 2-.9 2-2V5c0-1.1-.9-2-2-2zM9 17H7v-7h2v7zm4 0h-2V7h2v10zm4 0h-2v-4h2v4z\"/>\n",
              "    </g>\n",
              "</svg>\n",
              "      </button>\n",
              "    </div>\n",
              "\n",
              "<style>\n",
              "  .colab-df-quickchart {\n",
              "    background-color: #E8F0FE;\n",
              "    border: none;\n",
              "    border-radius: 50%;\n",
              "    cursor: pointer;\n",
              "    display: none;\n",
              "    fill: #1967D2;\n",
              "    height: 32px;\n",
              "    padding: 0 0 0 0;\n",
              "    width: 32px;\n",
              "  }\n",
              "\n",
              "  .colab-df-quickchart:hover {\n",
              "    background-color: #E2EBFA;\n",
              "    box-shadow: 0px 1px 2px rgba(60, 64, 67, 0.3), 0px 1px 3px 1px rgba(60, 64, 67, 0.15);\n",
              "    fill: #174EA6;\n",
              "  }\n",
              "\n",
              "  [theme=dark] .colab-df-quickchart {\n",
              "    background-color: #3B4455;\n",
              "    fill: #D2E3FC;\n",
              "  }\n",
              "\n",
              "  [theme=dark] .colab-df-quickchart:hover {\n",
              "    background-color: #434B5C;\n",
              "    box-shadow: 0px 1px 3px 1px rgba(0, 0, 0, 0.15);\n",
              "    filter: drop-shadow(0px 1px 2px rgba(0, 0, 0, 0.3));\n",
              "    fill: #FFFFFF;\n",
              "  }\n",
              "</style>\n",
              "\n",
              "    <script>\n",
              "      async function quickchart(key) {\n",
              "        const containerElement = document.querySelector('#' + key);\n",
              "        const charts = await google.colab.kernel.invokeFunction(\n",
              "            'suggestCharts', [key], {});\n",
              "      }\n",
              "    </script>\n",
              "\n",
              "      <script>\n",
              "\n",
              "function displayQuickchartButton(domScope) {\n",
              "  let quickchartButtonEl =\n",
              "    domScope.querySelector('#df-694f6af8-8f08-46fa-aa52-3a746db12a7f button.colab-df-quickchart');\n",
              "  quickchartButtonEl.style.display =\n",
              "    google.colab.kernel.accessAllowed ? 'block' : 'none';\n",
              "}\n",
              "\n",
              "        displayQuickchartButton(document);\n",
              "      </script>\n",
              "      <style>\n",
              "    .colab-df-container {\n",
              "      display:flex;\n",
              "      flex-wrap:wrap;\n",
              "      gap: 12px;\n",
              "    }\n",
              "\n",
              "    .colab-df-convert {\n",
              "      background-color: #E8F0FE;\n",
              "      border: none;\n",
              "      border-radius: 50%;\n",
              "      cursor: pointer;\n",
              "      display: none;\n",
              "      fill: #1967D2;\n",
              "      height: 32px;\n",
              "      padding: 0 0 0 0;\n",
              "      width: 32px;\n",
              "    }\n",
              "\n",
              "    .colab-df-convert:hover {\n",
              "      background-color: #E2EBFA;\n",
              "      box-shadow: 0px 1px 2px rgba(60, 64, 67, 0.3), 0px 1px 3px 1px rgba(60, 64, 67, 0.15);\n",
              "      fill: #174EA6;\n",
              "    }\n",
              "\n",
              "    [theme=dark] .colab-df-convert {\n",
              "      background-color: #3B4455;\n",
              "      fill: #D2E3FC;\n",
              "    }\n",
              "\n",
              "    [theme=dark] .colab-df-convert:hover {\n",
              "      background-color: #434B5C;\n",
              "      box-shadow: 0px 1px 3px 1px rgba(0, 0, 0, 0.15);\n",
              "      filter: drop-shadow(0px 1px 2px rgba(0, 0, 0, 0.3));\n",
              "      fill: #FFFFFF;\n",
              "    }\n",
              "  </style>\n",
              "\n",
              "      <script>\n",
              "        const buttonEl =\n",
              "          document.querySelector('#df-f2488be2-d70b-4a04-97e3-ad6f0fb7ebe2 button.colab-df-convert');\n",
              "        buttonEl.style.display =\n",
              "          google.colab.kernel.accessAllowed ? 'block' : 'none';\n",
              "\n",
              "        async function convertToInteractive(key) {\n",
              "          const element = document.querySelector('#df-f2488be2-d70b-4a04-97e3-ad6f0fb7ebe2');\n",
              "          const dataTable =\n",
              "            await google.colab.kernel.invokeFunction('convertToInteractive',\n",
              "                                                     [key], {});\n",
              "          if (!dataTable) return;\n",
              "\n",
              "          const docLinkHtml = 'Like what you see? Visit the ' +\n",
              "            '<a target=\"_blank\" href=https://colab.research.google.com/notebooks/data_table.ipynb>data table notebook</a>'\n",
              "            + ' to learn more about interactive tables.';\n",
              "          element.innerHTML = '';\n",
              "          dataTable['output_type'] = 'display_data';\n",
              "          await google.colab.output.renderOutput(dataTable, element);\n",
              "          const docLink = document.createElement('div');\n",
              "          docLink.innerHTML = docLinkHtml;\n",
              "          element.appendChild(docLink);\n",
              "        }\n",
              "      </script>\n",
              "    </div>\n",
              "  </div>\n"
            ]
          },
          "metadata": {},
          "execution_count": 3
        }
      ]
    },
    {
      "cell_type": "code",
      "source": [
        "data.shape"
      ],
      "metadata": {
        "id": "n4R3e42iJzR9",
        "colab": {
          "base_uri": "https://localhost:8080/"
        },
        "outputId": "c1fc39d4-a277-4032-f7ba-df96e3f789cd"
      },
      "execution_count": 4,
      "outputs": [
        {
          "output_type": "execute_result",
          "data": {
            "text/plain": [
              "(119282, 23)"
            ]
          },
          "metadata": {},
          "execution_count": 4
        }
      ]
    },
    {
      "cell_type": "code",
      "source": [
        "data.info()"
      ],
      "metadata": {
        "colab": {
          "base_uri": "https://localhost:8080/"
        },
        "id": "fFCVDkB_NbBA",
        "outputId": "6153bac1-17e2-4f12-e80b-41fc213fff2d"
      },
      "execution_count": 5,
      "outputs": [
        {
          "output_type": "stream",
          "name": "stdout",
          "text": [
            "<class 'pandas.core.frame.DataFrame'>\n",
            "RangeIndex: 119282 entries, 0 to 119281\n",
            "Data columns (total 23 columns):\n",
            " #   Column                Non-Null Count   Dtype  \n",
            "---  ------                --------------   -----  \n",
            " 0   Patient               119282 non-null  int64  \n",
            " 1   Diabetes_012          119281 non-null  float64\n",
            " 2   HighBP                119281 non-null  float64\n",
            " 3   HighChol              119281 non-null  float64\n",
            " 4   CholCheck             119281 non-null  float64\n",
            " 5   BMI                   119281 non-null  float64\n",
            " 6   Smoker                119281 non-null  float64\n",
            " 7   Stroke                119281 non-null  float64\n",
            " 8   HeartDiseaseorAttack  119281 non-null  float64\n",
            " 9   PhysActivity          119281 non-null  float64\n",
            " 10  Fruits                119281 non-null  float64\n",
            " 11  Veggies               119281 non-null  float64\n",
            " 12  HvyAlcoholConsump     119281 non-null  float64\n",
            " 13  AnyHealthcare         119281 non-null  float64\n",
            " 14  NoDocbcCost           119281 non-null  float64\n",
            " 15  GenHlth               119281 non-null  float64\n",
            " 16  MentHlth              119281 non-null  float64\n",
            " 17  PhysHlth              119281 non-null  float64\n",
            " 18  DiffWalk              119281 non-null  float64\n",
            " 19  Sex                   119281 non-null  float64\n",
            " 20  Age                   119281 non-null  float64\n",
            " 21  Education             119281 non-null  float64\n",
            " 22  Income                119281 non-null  float64\n",
            "dtypes: float64(22), int64(1)\n",
            "memory usage: 20.9 MB\n"
          ]
        }
      ]
    },
    {
      "cell_type": "markdown",
      "source": [
        "**Drop null from target var, and Convert data to Float**"
      ],
      "metadata": {
        "id": "95fWaYUYNgC_"
      }
    },
    {
      "cell_type": "code",
      "source": [
        "data = data.drop([\"Patient\"], axis=1)\n",
        "data = data.dropna()\n",
        "\n",
        "# Convert all columns to int data type\n",
        "for column in data.columns:\n",
        "    data[column] = data[column].astype('float')\n",
        "\n",
        "data.info()"
      ],
      "metadata": {
        "colab": {
          "base_uri": "https://localhost:8080/"
        },
        "id": "KOfyp5gTNfUe",
        "outputId": "99ae25ea-af37-4205-dd78-a62809232199"
      },
      "execution_count": 6,
      "outputs": [
        {
          "output_type": "stream",
          "name": "stdout",
          "text": [
            "<class 'pandas.core.frame.DataFrame'>\n",
            "Int64Index: 119281 entries, 0 to 119280\n",
            "Data columns (total 22 columns):\n",
            " #   Column                Non-Null Count   Dtype  \n",
            "---  ------                --------------   -----  \n",
            " 0   Diabetes_012          119281 non-null  float64\n",
            " 1   HighBP                119281 non-null  float64\n",
            " 2   HighChol              119281 non-null  float64\n",
            " 3   CholCheck             119281 non-null  float64\n",
            " 4   BMI                   119281 non-null  float64\n",
            " 5   Smoker                119281 non-null  float64\n",
            " 6   Stroke                119281 non-null  float64\n",
            " 7   HeartDiseaseorAttack  119281 non-null  float64\n",
            " 8   PhysActivity          119281 non-null  float64\n",
            " 9   Fruits                119281 non-null  float64\n",
            " 10  Veggies               119281 non-null  float64\n",
            " 11  HvyAlcoholConsump     119281 non-null  float64\n",
            " 12  AnyHealthcare         119281 non-null  float64\n",
            " 13  NoDocbcCost           119281 non-null  float64\n",
            " 14  GenHlth               119281 non-null  float64\n",
            " 15  MentHlth              119281 non-null  float64\n",
            " 16  PhysHlth              119281 non-null  float64\n",
            " 17  DiffWalk              119281 non-null  float64\n",
            " 18  Sex                   119281 non-null  float64\n",
            " 19  Age                   119281 non-null  float64\n",
            " 20  Education             119281 non-null  float64\n",
            " 21  Income                119281 non-null  float64\n",
            "dtypes: float64(22)\n",
            "memory usage: 20.9 MB\n"
          ]
        }
      ]
    },
    {
      "cell_type": "markdown",
      "source": [
        "### **Class Distribution**"
      ],
      "metadata": {
        "id": "2YSMJYxNVvhP"
      }
    },
    {
      "cell_type": "markdown",
      "source": [
        "**Explore the class distribution**"
      ],
      "metadata": {
        "id": "Xeznh_XOO1mf"
      }
    },
    {
      "cell_type": "code",
      "source": [
        "class_counts = data['Diabetes_012'].value_counts()\n",
        "print(class_counts)"
      ],
      "metadata": {
        "colab": {
          "base_uri": "https://localhost:8080/"
        },
        "id": "sKD6zX7vO1D3",
        "outputId": "e3620af2-0a36-49f1-e0e6-c01e0a97dd9c"
      },
      "execution_count": 9,
      "outputs": [
        {
          "output_type": "stream",
          "name": "stdout",
          "text": [
            "0.0    100869\n",
            "2.0     16216\n",
            "1.0      2196\n",
            "Name: Diabetes_012, dtype: int64\n"
          ]
        }
      ]
    },
    {
      "cell_type": "markdown",
      "source": [
        "**Visualize the class distribution**"
      ],
      "metadata": {
        "id": "Li4Jrv36O90o"
      }
    },
    {
      "cell_type": "code",
      "source": [
        "# Create a copy of the original dataset\n",
        "new_data = data.copy()\n",
        "\n",
        "mh_mapping = {0.0: 'No Diabetes', 1.0: 'Prediabetes', 2.0: 'Diabetes'}\n",
        "new_data['dhi_label'] = new_data['Diabetes_012'].map(mh_mapping)\n",
        "\n",
        "# Plot the distribution based on the new dataset\n",
        "sns.countplot(data=new_data, x='dhi_label')\n",
        "plt.xlabel('Diabetes Status')\n",
        "plt.ylabel('Count')\n",
        "plt.title('Diabetes Class Distribution')\n",
        "plt.show()"
      ],
      "metadata": {
        "colab": {
          "base_uri": "https://localhost:8080/",
          "height": 472
        },
        "id": "Mc06RoxFO-sf",
        "outputId": "b5442da8-9e52-43f1-a659-119f27e7b6b8"
      },
      "execution_count": 11,
      "outputs": [
        {
          "output_type": "display_data",
          "data": {
            "text/plain": [
              "<Figure size 640x480 with 1 Axes>"
            ],
            "image/png": "[encoded data removed]"
          },
          "metadata": {}
        }
      ]
    },
    {
      "cell_type": "markdown",
      "source": [
        "### **Standardizing**"
      ],
      "metadata": {
        "id": "i8lEj_EfV4Ck"
      }
    },
    {
      "cell_type": "code",
      "source": [
        "data_x = data.drop([\"Diabetes_012\"], axis=1)\n",
        "data_y = data['Diabetes_012']"
      ],
      "metadata": {
        "id": "TJgESC9BQR2p"
      },
      "execution_count": 12,
      "outputs": []
    },
    {
      "cell_type": "code",
      "source": [
        "plt.figure(figsize=(20,10))\n",
        "data_x.boxplot()\n",
        "plt.xticks(rotation=90)\n",
        "plt.title(\"Distribution of the values ​​of all Features\")\n",
        "plt.show()"
      ],
      "metadata": {
        "colab": {
          "base_uri": "https://localhost:8080/",
          "height": 991
        },
        "id": "3lK2Jd10QHTj",
        "outputId": "07256658-bcdd-461a-cead-1159be6e565b"
      },
      "execution_count": 13,
      "outputs": [
        {
          "output_type": "display_data",
          "data": {
            "text/plain": [
              "<Figure size 2000x1000 with 1 Axes>"
            ],
            "image/png": "[encoded data removed]"
          },
          "metadata": {}
        }
      ]
    },
    {
      "cell_type": "markdown",
      "source": [
        "- *We observe a large Scale difference between variables. We need to standardize them to avoid those with large scales wrongly have too much weight in the calculations.*\n",
        "\n",
        "- *Standardizing a dataset is necessary in several situations to ensure fair and meaningful comparisons and analyses*\n",
        "\n",
        "\n",
        "- *PCA aims to capture the most variance in the data. If features are on different scales, those with larger scales will contribute more to the variance, potentially overshadowing important patterns present in smaller-scaled features.*\n",
        "\n",
        "- *Standardization can indeed be beneficial in this situation. Applying a StandardScaler is a common preprocessing step before using dimensionality reduction techniques.*\n",
        "\n",
        "1. **Standardization Purpose:**\n",
        "\n",
        "  *Standardization (or z-score normalization) transforms the features in a way that they have a mean of 0 and a standard deviation of 1. This process helps when features are on different scales, as some dimensionality reduction techniques, like PCA, are sensitive to the scale of the data.*\n",
        "\n",
        "2. **Application of StandardScaler:**\n",
        "\n",
        "  *It's generally a good practice to apply the StandardScaler to all features in your dataset, especially if there are large scale differences between them. This ensures that all features are on a similar scale, which can prevent certain features from dominating the dimensionality reduction process simply due to their larger values.*\n",
        "\n",
        "*Applying the StandardScaler to all features in your diabetes dataset is a wise choice. This will help ensure that your dimensionality reduction techniques and ensemble methods perform consistently and effectively across all features, regardless of their scale differences.*\n",
        "\n"
      ],
      "metadata": {
        "id": "FhQGJTRLSMgd"
      }
    },
    {
      "cell_type": "markdown",
      "source": [
        "**Standardize the feature columns**"
      ],
      "metadata": {
        "id": "Uvhrh-4STq8S"
      }
    },
    {
      "cell_type": "code",
      "source": [
        "scaler = StandardScaler()\n",
        "standardized_features = scaler.fit_transform(data_x)\n",
        "\n",
        "# Convert the standardized features back to a DataFrame\n",
        "std_data = pd.DataFrame(standardized_features, columns=data_x.columns)"
      ],
      "metadata": {
        "id": "kmxFRDzNS5ku"
      },
      "execution_count": 14,
      "outputs": []
    },
    {
      "cell_type": "code",
      "source": [
        "std_data.head()"
      ],
      "metadata": {
        "colab": {
          "base_uri": "https://localhost:8080/",
          "height": 299
        },
        "id": "nB7J_K-hTCz6",
        "outputId": "0e87d33e-0def-42c5-ec95-bd6e2f2e7741"
      },
      "execution_count": 15,
      "outputs": [
        {
          "output_type": "execute_result",
          "data": {
            "text/plain": [
              "     HighBP  HighChol  CholCheck       BMI    Smoker    Stroke  \\\n",
              "0  1.164067  1.161434   0.194664  1.653793  1.112202 -0.204453   \n",
              "1 -0.859057 -0.861004  -5.137065 -0.484344  1.112202 -0.204453   \n",
              "2  1.164067  1.161434   0.194664 -0.056717 -0.899117 -0.204453   \n",
              "3  1.164067 -0.861004   0.194664 -0.199259 -0.899117 -0.204453   \n",
              "4  1.164067  1.161434   0.194664 -0.626887 -0.899117 -0.204453   \n",
              "\n",
              "   HeartDiseaseorAttack  PhysActivity    Fruits   Veggies  ...  AnyHealthcare  \\\n",
              "0             -0.318025     -1.807835 -1.339497  0.477657  ...       0.222301   \n",
              "1             -0.318025      0.553148 -1.339497 -2.093552  ...      -4.498412   \n",
              "2             -0.318025     -1.807835  0.746549 -2.093552  ...       0.222301   \n",
              "3             -0.318025      0.553148  0.746549  0.477657  ...       0.222301   \n",
              "4             -0.318025      0.553148  0.746549  0.477657  ...       0.222301   \n",
              "\n",
              "   NoDocbcCost   GenHlth  MentHlth  PhysHlth  DiffWalk       Sex       Age  \\\n",
              "0    -0.294993  2.361520  2.038481  1.257768  2.274705 -0.889098  0.316687   \n",
              "1     3.389906  0.480909 -0.430130 -0.483517 -0.439617 -0.889098 -0.339689   \n",
              "2     3.389906  2.361520  3.684221  2.999054  2.274705 -0.889098  0.316687   \n",
              "3    -0.294993 -0.459396 -0.430130 -0.483517 -0.439617 -0.889098  0.973063   \n",
              "4    -0.294993 -0.459396 -0.018695 -0.483517 -0.439617 -0.889098  0.973063   \n",
              "\n",
              "   Education    Income  \n",
              "0  -1.121334 -1.536501  \n",
              "1   0.932625 -2.515199  \n",
              "2  -1.121334  0.910244  \n",
              "3  -2.148313 -0.068454  \n",
              "4  -0.094354 -1.047152  \n",
              "\n",
              "[5 rows x 21 columns]"
            ],
            "text/html": [
              "\n",
              "\n",
              "  <div id=\"df-6bbe9dea-10e1-473c-9338-f4f80d7c51b7\">\n",
              "    <div class=\"colab-df-container\">\n",
              "      <div>\n",
              "<style scoped>\n",
              "    .dataframe tbody tr th:only-of-type {\n",
              "        vertical-align: middle;\n",
              "    }\n",
              "\n",
              "    .dataframe tbody tr th {\n",
              "        vertical-align: top;\n",
              "    }\n",
              "\n",
              "    .dataframe thead th {\n",
              "        text-align: right;\n",
              "    }\n",
              "</style>\n",
              "<table border=\"1\" class=\"dataframe\">\n",
              "  <thead>\n",
              "    <tr style=\"text-align: right;\">\n",
              "      <th></th>\n",
              "      <th>HighBP</th>\n",
              "      <th>HighChol</th>\n",
              "      <th>CholCheck</th>\n",
              "      <th>BMI</th>\n",
              "      <th>Smoker</th>\n",
              "      <th>Stroke</th>\n",
              "      <th>HeartDiseaseorAttack</th>\n",
              "      <th>PhysActivity</th>\n",
              "      <th>Fruits</th>\n",
              "      <th>Veggies</th>\n",
              "      <th>...</th>\n",
              "      <th>AnyHealthcare</th>\n",
              "      <th>NoDocbcCost</th>\n",
              "      <th>GenHlth</th>\n",
              "      <th>MentHlth</th>\n",
              "      <th>PhysHlth</th>\n",
              "      <th>DiffWalk</th>\n",
              "      <th>Sex</th>\n",
              "      <th>Age</th>\n",
              "      <th>Education</th>\n",
              "      <th>Income</th>\n",
              "    </tr>\n",
              "  </thead>\n",
              "  <tbody>\n",
              "    <tr>\n",
              "      <th>0</th>\n",
              "      <td>1.164067</td>\n",
              "      <td>1.161434</td>\n",
              "      <td>0.194664</td>\n",
              "      <td>1.653793</td>\n",
              "      <td>1.112202</td>\n",
              "      <td>-0.204453</td>\n",
              "      <td>-0.318025</td>\n",
              "      <td>-1.807835</td>\n",
              "      <td>-1.339497</td>\n",
              "      <td>0.477657</td>\n",
              "      <td>...</td>\n",
              "      <td>0.222301</td>\n",
              "      <td>-0.294993</td>\n",
              "      <td>2.361520</td>\n",
              "      <td>2.038481</td>\n",
              "      <td>1.257768</td>\n",
              "      <td>2.274705</td>\n",
              "      <td>-0.889098</td>\n",
              "      <td>0.316687</td>\n",
              "      <td>-1.121334</td>\n",
              "      <td>-1.536501</td>\n",
              "    </tr>\n",
              "    <tr>\n",
              "      <th>1</th>\n",
              "      <td>-0.859057</td>\n",
              "      <td>-0.861004</td>\n",
              "      <td>-5.137065</td>\n",
              "      <td>-0.484344</td>\n",
              "      <td>1.112202</td>\n",
              "      <td>-0.204453</td>\n",
              "      <td>-0.318025</td>\n",
              "      <td>0.553148</td>\n",
              "      <td>-1.339497</td>\n",
              "      <td>-2.093552</td>\n",
              "      <td>...</td>\n",
              "      <td>-4.498412</td>\n",
              "      <td>3.389906</td>\n",
              "      <td>0.480909</td>\n",
              "      <td>-0.430130</td>\n",
              "      <td>-0.483517</td>\n",
              "      <td>-0.439617</td>\n",
              "      <td>-0.889098</td>\n",
              "      <td>-0.339689</td>\n",
              "      <td>0.932625</td>\n",
              "      <td>-2.515199</td>\n",
              "    </tr>\n",
              "    <tr>\n",
              "      <th>2</th>\n",
              "      <td>1.164067</td>\n",
              "      <td>1.161434</td>\n",
              "      <td>0.194664</td>\n",
              "      <td>-0.056717</td>\n",
              "      <td>-0.899117</td>\n",
              "      <td>-0.204453</td>\n",
              "      <td>-0.318025</td>\n",
              "      <td>-1.807835</td>\n",
              "      <td>0.746549</td>\n",
              "      <td>-2.093552</td>\n",
              "      <td>...</td>\n",
              "      <td>0.222301</td>\n",
              "      <td>3.389906</td>\n",
              "      <td>2.361520</td>\n",
              "      <td>3.684221</td>\n",
              "      <td>2.999054</td>\n",
              "      <td>2.274705</td>\n",
              "      <td>-0.889098</td>\n",
              "      <td>0.316687</td>\n",
              "      <td>-1.121334</td>\n",
              "      <td>0.910244</td>\n",
              "    </tr>\n",
              "    <tr>\n",
              "      <th>3</th>\n",
              "      <td>1.164067</td>\n",
              "      <td>-0.861004</td>\n",
              "      <td>0.194664</td>\n",
              "      <td>-0.199259</td>\n",
              "      <td>-0.899117</td>\n",
              "      <td>-0.204453</td>\n",
              "      <td>-0.318025</td>\n",
              "      <td>0.553148</td>\n",
              "      <td>0.746549</td>\n",
              "      <td>0.477657</td>\n",
              "      <td>...</td>\n",
              "      <td>0.222301</td>\n",
              "      <td>-0.294993</td>\n",
              "      <td>-0.459396</td>\n",
              "      <td>-0.430130</td>\n",
              "      <td>-0.483517</td>\n",
              "      <td>-0.439617</td>\n",
              "      <td>-0.889098</td>\n",
              "      <td>0.973063</td>\n",
              "      <td>-2.148313</td>\n",
              "      <td>-0.068454</td>\n",
              "    </tr>\n",
              "    <tr>\n",
              "      <th>4</th>\n",
              "      <td>1.164067</td>\n",
              "      <td>1.161434</td>\n",
              "      <td>0.194664</td>\n",
              "      <td>-0.626887</td>\n",
              "      <td>-0.899117</td>\n",
              "      <td>-0.204453</td>\n",
              "      <td>-0.318025</td>\n",
              "      <td>0.553148</td>\n",
              "      <td>0.746549</td>\n",
              "      <td>0.477657</td>\n",
              "      <td>...</td>\n",
              "      <td>0.222301</td>\n",
              "      <td>-0.294993</td>\n",
              "      <td>-0.459396</td>\n",
              "      <td>-0.018695</td>\n",
              "      <td>-0.483517</td>\n",
              "      <td>-0.439617</td>\n",
              "      <td>-0.889098</td>\n",
              "      <td>0.973063</td>\n",
              "      <td>-0.094354</td>\n",
              "      <td>-1.047152</td>\n",
              "    </tr>\n",
              "  </tbody>\n",
              "</table>\n",
              "<p>5 rows × 21 columns</p>\n",
              "</div>\n",
              "      <button class=\"colab-df-convert\" onclick=\"convertToInteractive('df-6bbe9dea-10e1-473c-9338-f4f80d7c51b7')\"\n",
              "              title=\"Convert this dataframe to an interactive table.\"\n",
              "              style=\"display:none;\">\n",
              "\n",
              "  <svg xmlns=\"http://www.w3.org/2000/svg\" height=\"24px\"viewBox=\"0 0 24 24\"\n",
              "       width=\"24px\">\n",
              "    <path d=\"M0 0h24v24H0V0z\" fill=\"none\"/>\n",
              "    <path d=\"M18.56 5.44l.94 2.06.94-2.06 2.06-.94-2.06-.94-.94-2.06-.94 2.06-2.06.94zm-11 1L8.5 8.5l.94-2.06 2.06-.94-2.06-.94L8.5 2.5l-.94 2.06-2.06.94zm10 10l.94 2.06.94-2.06 2.06-.94-2.06-.94-.94-2.06-.94 2.06-2.06.94z\"/><path d=\"M17.41 7.96l-1.37-1.37c-.4-.4-.92-.59-1.43-.59-.52 0-1.04.2-1.43.59L10.3 9.45l-7.72 7.72c-.78.78-.78 2.05 0 2.83L4 21.41c.39.39.9.59 1.41.59.51 0 1.02-.2 1.41-.59l7.78-7.78 2.81-2.81c.8-.78.8-2.07 0-2.86zM5.41 20L4 18.59l7.72-7.72 1.47 1.35L5.41 20z\"/>\n",
              "  </svg>\n",
              "      </button>\n",
              "\n",
              "\n",
              "\n",
              "    <div id=\"df-3509411e-6e6e-4cce-a274-e6ffba8294ef\">\n",
              "      <button class=\"colab-df-quickchart\" onclick=\"quickchart('df-3509411e-6e6e-4cce-a274-e6ffba8294ef')\"\n",
              "              title=\"Suggest charts.\"\n",
              "              style=\"display:none;\">\n",
              "\n",
              "<svg xmlns=\"http://www.w3.org/2000/svg\" height=\"24px\"viewBox=\"0 0 24 24\"\n",
              "     width=\"24px\">\n",
              "    <g>\n",
              "        <path d=\"M19 3H5c-1.1 0-2 .9-2 2v14c0 1.1.9 2 2 2h14c1.1 0 2-.9 2-2V5c0-1.1-.9-2-2-2zM9 17H7v-7h2v7zm4 0h-2V7h2v10zm4 0h-2v-4h2v4z\"/>\n",
              "    </g>\n",
              "</svg>\n",
              "      </button>\n",
              "    </div>\n",
              "\n",
              "<style>\n",
              "  .colab-df-quickchart {\n",
              "    background-color: #E8F0FE;\n",
              "    border: none;\n",
              "    border-radius: 50%;\n",
              "    cursor: pointer;\n",
              "    display: none;\n",
              "    fill: #1967D2;\n",
              "    height: 32px;\n",
              "    padding: 0 0 0 0;\n",
              "    width: 32px;\n",
              "  }\n",
              "\n",
              "  .colab-df-quickchart:hover {\n",
              "    background-color: #E2EBFA;\n",
              "    box-shadow: 0px 1px 2px rgba(60, 64, 67, 0.3), 0px 1px 3px 1px rgba(60, 64, 67, 0.15);\n",
              "    fill: #174EA6;\n",
              "  }\n",
              "\n",
              "  [theme=dark] .colab-df-quickchart {\n",
              "    background-color: #3B4455;\n",
              "    fill: #D2E3FC;\n",
              "  }\n",
              "\n",
              "  [theme=dark] .colab-df-quickchart:hover {\n",
              "    background-color: #434B5C;\n",
              "    box-shadow: 0px 1px 3px 1px rgba(0, 0, 0, 0.15);\n",
              "    filter: drop-shadow(0px 1px 2px rgba(0, 0, 0, 0.3));\n",
              "    fill: #FFFFFF;\n",
              "  }\n",
              "</style>\n",
              "\n",
              "    <script>\n",
              "      async function quickchart(key) {\n",
              "        const containerElement = document.querySelector('#' + key);\n",
              "        const charts = await google.colab.kernel.invokeFunction(\n",
              "            'suggestCharts', [key], {});\n",
              "      }\n",
              "    </script>\n",
              "\n",
              "      <script>\n",
              "\n",
              "function displayQuickchartButton(domScope) {\n",
              "  let quickchartButtonEl =\n",
              "    domScope.querySelector('#df-3509411e-6e6e-4cce-a274-e6ffba8294ef button.colab-df-quickchart');\n",
              "  quickchartButtonEl.style.display =\n",
              "    google.colab.kernel.accessAllowed ? 'block' : 'none';\n",
              "}\n",
              "\n",
              "        displayQuickchartButton(document);\n",
              "      </script>\n",
              "      <style>\n",
              "    .colab-df-container {\n",
              "      display:flex;\n",
              "      flex-wrap:wrap;\n",
              "      gap: 12px;\n",
              "    }\n",
              "\n",
              "    .colab-df-convert {\n",
              "      background-color: #E8F0FE;\n",
              "      border: none;\n",
              "      border-radius: 50%;\n",
              "      cursor: pointer;\n",
              "      display: none;\n",
              "      fill: #1967D2;\n",
              "      height: 32px;\n",
              "      padding: 0 0 0 0;\n",
              "      width: 32px;\n",
              "    }\n",
              "\n",
              "    .colab-df-convert:hover {\n",
              "      background-color: #E2EBFA;\n",
              "      box-shadow: 0px 1px 2px rgba(60, 64, 67, 0.3), 0px 1px 3px 1px rgba(60, 64, 67, 0.15);\n",
              "      fill: #174EA6;\n",
              "    }\n",
              "\n",
              "    [theme=dark] .colab-df-convert {\n",
              "      background-color: #3B4455;\n",
              "      fill: #D2E3FC;\n",
              "    }\n",
              "\n",
              "    [theme=dark] .colab-df-convert:hover {\n",
              "      background-color: #434B5C;\n",
              "      box-shadow: 0px 1px 3px 1px rgba(0, 0, 0, 0.15);\n",
              "      filter: drop-shadow(0px 1px 2px rgba(0, 0, 0, 0.3));\n",
              "      fill: #FFFFFF;\n",
              "    }\n",
              "  </style>\n",
              "\n",
              "      <script>\n",
              "        const buttonEl =\n",
              "          document.querySelector('#df-6bbe9dea-10e1-473c-9338-f4f80d7c51b7 button.colab-df-convert');\n",
              "        buttonEl.style.display =\n",
              "          google.colab.kernel.accessAllowed ? 'block' : 'none';\n",
              "\n",
              "        async function convertToInteractive(key) {\n",
              "          const element = document.querySelector('#df-6bbe9dea-10e1-473c-9338-f4f80d7c51b7');\n",
              "          const dataTable =\n",
              "            await google.colab.kernel.invokeFunction('convertToInteractive',\n",
              "                                                     [key], {});\n",
              "          if (!dataTable) return;\n",
              "\n",
              "          const docLinkHtml = 'Like what you see? Visit the ' +\n",
              "            '<a target=\"_blank\" href=https://colab.research.google.com/notebooks/data_table.ipynb>data table notebook</a>'\n",
              "            + ' to learn more about interactive tables.';\n",
              "          element.innerHTML = '';\n",
              "          dataTable['output_type'] = 'display_data';\n",
              "          await google.colab.output.renderOutput(dataTable, element);\n",
              "          const docLink = document.createElement('div');\n",
              "          docLink.innerHTML = docLinkHtml;\n",
              "          element.appendChild(docLink);\n",
              "        }\n",
              "      </script>\n",
              "    </div>\n",
              "  </div>\n"
            ]
          },
          "metadata": {},
          "execution_count": 15
        }
      ]
    },
    {
      "cell_type": "markdown",
      "source": [
        "**Marge the data back**"
      ],
      "metadata": {
        "id": "x57BGUTgUaSr"
      }
    },
    {
      "cell_type": "code",
      "source": [
        "# Concatenate the standardized features with the target column\n",
        "std_df = pd.concat([std_data, data_y], axis=1)"
      ],
      "metadata": {
        "id": "hJywI_VnUcda"
      },
      "execution_count": 16,
      "outputs": []
    },
    {
      "cell_type": "code",
      "source": [
        "std_df.head()"
      ],
      "metadata": {
        "colab": {
          "base_uri": "https://localhost:8080/",
          "height": 299
        },
        "id": "-ezx6jc9UnVi",
        "outputId": "de76633c-d954-4fe4-ea05-b599919d350f"
      },
      "execution_count": 17,
      "outputs": [
        {
          "output_type": "execute_result",
          "data": {
            "text/plain": [
              "     HighBP  HighChol  CholCheck       BMI    Smoker    Stroke  \\\n",
              "0  1.164067  1.161434   0.194664  1.653793  1.112202 -0.204453   \n",
              "1 -0.859057 -0.861004  -5.137065 -0.484344  1.112202 -0.204453   \n",
              "2  1.164067  1.161434   0.194664 -0.056717 -0.899117 -0.204453   \n",
              "3  1.164067 -0.861004   0.194664 -0.199259 -0.899117 -0.204453   \n",
              "4  1.164067  1.161434   0.194664 -0.626887 -0.899117 -0.204453   \n",
              "\n",
              "   HeartDiseaseorAttack  PhysActivity    Fruits   Veggies  ...  NoDocbcCost  \\\n",
              "0             -0.318025     -1.807835 -1.339497  0.477657  ...    -0.294993   \n",
              "1             -0.318025      0.553148 -1.339497 -2.093552  ...     3.389906   \n",
              "2             -0.318025     -1.807835  0.746549 -2.093552  ...     3.389906   \n",
              "3             -0.318025      0.553148  0.746549  0.477657  ...    -0.294993   \n",
              "4             -0.318025      0.553148  0.746549  0.477657  ...    -0.294993   \n",
              "\n",
              "    GenHlth  MentHlth  PhysHlth  DiffWalk       Sex       Age  Education  \\\n",
              "0  2.361520  2.038481  1.257768  2.274705 -0.889098  0.316687  -1.121334   \n",
              "1  0.480909 -0.430130 -0.483517 -0.439617 -0.889098 -0.339689   0.932625   \n",
              "2  2.361520  3.684221  2.999054  2.274705 -0.889098  0.316687  -1.121334   \n",
              "3 -0.459396 -0.430130 -0.483517 -0.439617 -0.889098  0.973063  -2.148313   \n",
              "4 -0.459396 -0.018695 -0.483517 -0.439617 -0.889098  0.973063  -0.094354   \n",
              "\n",
              "     Income  Diabetes_012  \n",
              "0 -1.536501           0.0  \n",
              "1 -2.515199           0.0  \n",
              "2  0.910244           0.0  \n",
              "3 -0.068454           0.0  \n",
              "4 -1.047152           0.0  \n",
              "\n",
              "[5 rows x 22 columns]"
            ],
            "text/html": [
              "\n",
              "\n",
              "  <div id=\"df-15e19b5e-9115-4677-bbea-d7a265a38222\">\n",
              "    <div class=\"colab-df-container\">\n",
              "      <div>\n",
              "<style scoped>\n",
              "    .dataframe tbody tr th:only-of-type {\n",
              "        vertical-align: middle;\n",
              "    }\n",
              "\n",
              "    .dataframe tbody tr th {\n",
              "        vertical-align: top;\n",
              "    }\n",
              "\n",
              "    .dataframe thead th {\n",
              "        text-align: right;\n",
              "    }\n",
              "</style>\n",
              "<table border=\"1\" class=\"dataframe\">\n",
              "  <thead>\n",
              "    <tr style=\"text-align: right;\">\n",
              "      <th></th>\n",
              "      <th>HighBP</th>\n",
              "      <th>HighChol</th>\n",
              "      <th>CholCheck</th>\n",
              "      <th>BMI</th>\n",
              "      <th>Smoker</th>\n",
              "      <th>Stroke</th>\n",
              "      <th>HeartDiseaseorAttack</th>\n",
              "      <th>PhysActivity</th>\n",
              "      <th>Fruits</th>\n",
              "      <th>Veggies</th>\n",
              "      <th>...</th>\n",
              "      <th>NoDocbcCost</th>\n",
              "      <th>GenHlth</th>\n",
              "      <th>MentHlth</th>\n",
              "      <th>PhysHlth</th>\n",
              "      <th>DiffWalk</th>\n",
              "      <th>Sex</th>\n",
              "      <th>Age</th>\n",
              "      <th>Education</th>\n",
              "      <th>Income</th>\n",
              "      <th>Diabetes_012</th>\n",
              "    </tr>\n",
              "  </thead>\n",
              "  <tbody>\n",
              "    <tr>\n",
              "      <th>0</th>\n",
              "      <td>1.164067</td>\n",
              "      <td>1.161434</td>\n",
              "      <td>0.194664</td>\n",
              "      <td>1.653793</td>\n",
              "      <td>1.112202</td>\n",
              "      <td>-0.204453</td>\n",
              "      <td>-0.318025</td>\n",
              "      <td>-1.807835</td>\n",
              "      <td>-1.339497</td>\n",
              "      <td>0.477657</td>\n",
              "      <td>...</td>\n",
              "      <td>-0.294993</td>\n",
              "      <td>2.361520</td>\n",
              "      <td>2.038481</td>\n",
              "      <td>1.257768</td>\n",
              "      <td>2.274705</td>\n",
              "      <td>-0.889098</td>\n",
              "      <td>0.316687</td>\n",
              "      <td>-1.121334</td>\n",
              "      <td>-1.536501</td>\n",
              "      <td>0.0</td>\n",
              "    </tr>\n",
              "    <tr>\n",
              "      <th>1</th>\n",
              "      <td>-0.859057</td>\n",
              "      <td>-0.861004</td>\n",
              "      <td>-5.137065</td>\n",
              "      <td>-0.484344</td>\n",
              "      <td>1.112202</td>\n",
              "      <td>-0.204453</td>\n",
              "      <td>-0.318025</td>\n",
              "      <td>0.553148</td>\n",
              "      <td>-1.339497</td>\n",
              "      <td>-2.093552</td>\n",
              "      <td>...</td>\n",
              "      <td>3.389906</td>\n",
              "      <td>0.480909</td>\n",
              "      <td>-0.430130</td>\n",
              "      <td>-0.483517</td>\n",
              "      <td>-0.439617</td>\n",
              "      <td>-0.889098</td>\n",
              "      <td>-0.339689</td>\n",
              "      <td>0.932625</td>\n",
              "      <td>-2.515199</td>\n",
              "      <td>0.0</td>\n",
              "    </tr>\n",
              "    <tr>\n",
              "      <th>2</th>\n",
              "      <td>1.164067</td>\n",
              "      <td>1.161434</td>\n",
              "      <td>0.194664</td>\n",
              "      <td>-0.056717</td>\n",
              "      <td>-0.899117</td>\n",
              "      <td>-0.204453</td>\n",
              "      <td>-0.318025</td>\n",
              "      <td>-1.807835</td>\n",
              "      <td>0.746549</td>\n",
              "      <td>-2.093552</td>\n",
              "      <td>...</td>\n",
              "      <td>3.389906</td>\n",
              "      <td>2.361520</td>\n",
              "      <td>3.684221</td>\n",
              "      <td>2.999054</td>\n",
              "      <td>2.274705</td>\n",
              "      <td>-0.889098</td>\n",
              "      <td>0.316687</td>\n",
              "      <td>-1.121334</td>\n",
              "      <td>0.910244</td>\n",
              "      <td>0.0</td>\n",
              "    </tr>\n",
              "    <tr>\n",
              "      <th>3</th>\n",
              "      <td>1.164067</td>\n",
              "      <td>-0.861004</td>\n",
              "      <td>0.194664</td>\n",
              "      <td>-0.199259</td>\n",
              "      <td>-0.899117</td>\n",
              "      <td>-0.204453</td>\n",
              "      <td>-0.318025</td>\n",
              "      <td>0.553148</td>\n",
              "      <td>0.746549</td>\n",
              "      <td>0.477657</td>\n",
              "      <td>...</td>\n",
              "      <td>-0.294993</td>\n",
              "      <td>-0.459396</td>\n",
              "      <td>-0.430130</td>\n",
              "      <td>-0.483517</td>\n",
              "      <td>-0.439617</td>\n",
              "      <td>-0.889098</td>\n",
              "      <td>0.973063</td>\n",
              "      <td>-2.148313</td>\n",
              "      <td>-0.068454</td>\n",
              "      <td>0.0</td>\n",
              "    </tr>\n",
              "    <tr>\n",
              "      <th>4</th>\n",
              "      <td>1.164067</td>\n",
              "      <td>1.161434</td>\n",
              "      <td>0.194664</td>\n",
              "      <td>-0.626887</td>\n",
              "      <td>-0.899117</td>\n",
              "      <td>-0.204453</td>\n",
              "      <td>-0.318025</td>\n",
              "      <td>0.553148</td>\n",
              "      <td>0.746549</td>\n",
              "      <td>0.477657</td>\n",
              "      <td>...</td>\n",
              "      <td>-0.294993</td>\n",
              "      <td>-0.459396</td>\n",
              "      <td>-0.018695</td>\n",
              "      <td>-0.483517</td>\n",
              "      <td>-0.439617</td>\n",
              "      <td>-0.889098</td>\n",
              "      <td>0.973063</td>\n",
              "      <td>-0.094354</td>\n",
              "      <td>-1.047152</td>\n",
              "      <td>0.0</td>\n",
              "    </tr>\n",
              "  </tbody>\n",
              "</table>\n",
              "<p>5 rows × 22 columns</p>\n",
              "</div>\n",
              "      <button class=\"colab-df-convert\" onclick=\"convertToInteractive('df-15e19b5e-9115-4677-bbea-d7a265a38222')\"\n",
              "              title=\"Convert this dataframe to an interactive table.\"\n",
              "              style=\"display:none;\">\n",
              "\n",
              "  <svg xmlns=\"http://www.w3.org/2000/svg\" height=\"24px\"viewBox=\"0 0 24 24\"\n",
              "       width=\"24px\">\n",
              "    <path d=\"M0 0h24v24H0V0z\" fill=\"none\"/>\n",
              "    <path d=\"M18.56 5.44l.94 2.06.94-2.06 2.06-.94-2.06-.94-.94-2.06-.94 2.06-2.06.94zm-11 1L8.5 8.5l.94-2.06 2.06-.94-2.06-.94L8.5 2.5l-.94 2.06-2.06.94zm10 10l.94 2.06.94-2.06 2.06-.94-2.06-.94-.94-2.06-.94 2.06-2.06.94z\"/><path d=\"M17.41 7.96l-1.37-1.37c-.4-.4-.92-.59-1.43-.59-.52 0-1.04.2-1.43.59L10.3 9.45l-7.72 7.72c-.78.78-.78 2.05 0 2.83L4 21.41c.39.39.9.59 1.41.59.51 0 1.02-.2 1.41-.59l7.78-7.78 2.81-2.81c.8-.78.8-2.07 0-2.86zM5.41 20L4 18.59l7.72-7.72 1.47 1.35L5.41 20z\"/>\n",
              "  </svg>\n",
              "      </button>\n",
              "\n",
              "\n",
              "\n",
              "    <div id=\"df-088669d6-b461-4c9c-8875-7d6e73424a53\">\n",
              "      <button class=\"colab-df-quickchart\" onclick=\"quickchart('df-088669d6-b461-4c9c-8875-7d6e73424a53')\"\n",
              "              title=\"Suggest charts.\"\n",
              "              style=\"display:none;\">\n",
              "\n",
              "<svg xmlns=\"http://www.w3.org/2000/svg\" height=\"24px\"viewBox=\"0 0 24 24\"\n",
              "     width=\"24px\">\n",
              "    <g>\n",
              "        <path d=\"M19 3H5c-1.1 0-2 .9-2 2v14c0 1.1.9 2 2 2h14c1.1 0 2-.9 2-2V5c0-1.1-.9-2-2-2zM9 17H7v-7h2v7zm4 0h-2V7h2v10zm4 0h-2v-4h2v4z\"/>\n",
              "    </g>\n",
              "</svg>\n",
              "      </button>\n",
              "    </div>\n",
              "\n",
              "<style>\n",
              "  .colab-df-quickchart {\n",
              "    background-color: #E8F0FE;\n",
              "    border: none;\n",
              "    border-radius: 50%;\n",
              "    cursor: pointer;\n",
              "    display: none;\n",
              "    fill: #1967D2;\n",
              "    height: 32px;\n",
              "    padding: 0 0 0 0;\n",
              "    width: 32px;\n",
              "  }\n",
              "\n",
              "  .colab-df-quickchart:hover {\n",
              "    background-color: #E2EBFA;\n",
              "    box-shadow: 0px 1px 2px rgba(60, 64, 67, 0.3), 0px 1px 3px 1px rgba(60, 64, 67, 0.15);\n",
              "    fill: #174EA6;\n",
              "  }\n",
              "\n",
              "  [theme=dark] .colab-df-quickchart {\n",
              "    background-color: #3B4455;\n",
              "    fill: #D2E3FC;\n",
              "  }\n",
              "\n",
              "  [theme=dark] .colab-df-quickchart:hover {\n",
              "    background-color: #434B5C;\n",
              "    box-shadow: 0px 1px 3px 1px rgba(0, 0, 0, 0.15);\n",
              "    filter: drop-shadow(0px 1px 2px rgba(0, 0, 0, 0.3));\n",
              "    fill: #FFFFFF;\n",
              "  }\n",
              "</style>\n",
              "\n",
              "    <script>\n",
              "      async function quickchart(key) {\n",
              "        const containerElement = document.querySelector('#' + key);\n",
              "        const charts = await google.colab.kernel.invokeFunction(\n",
              "            'suggestCharts', [key], {});\n",
              "      }\n",
              "    </script>\n",
              "\n",
              "      <script>\n",
              "\n",
              "function displayQuickchartButton(domScope) {\n",
              "  let quickchartButtonEl =\n",
              "    domScope.querySelector('#df-088669d6-b461-4c9c-8875-7d6e73424a53 button.colab-df-quickchart');\n",
              "  quickchartButtonEl.style.display =\n",
              "    google.colab.kernel.accessAllowed ? 'block' : 'none';\n",
              "}\n",
              "\n",
              "        displayQuickchartButton(document);\n",
              "      </script>\n",
              "      <style>\n",
              "    .colab-df-container {\n",
              "      display:flex;\n",
              "      flex-wrap:wrap;\n",
              "      gap: 12px;\n",
              "    }\n",
              "\n",
              "    .colab-df-convert {\n",
              "      background-color: #E8F0FE;\n",
              "      border: none;\n",
              "      border-radius: 50%;\n",
              "      cursor: pointer;\n",
              "      display: none;\n",
              "      fill: #1967D2;\n",
              "      height: 32px;\n",
              "      padding: 0 0 0 0;\n",
              "      width: 32px;\n",
              "    }\n",
              "\n",
              "    .colab-df-convert:hover {\n",
              "      background-color: #E2EBFA;\n",
              "      box-shadow: 0px 1px 2px rgba(60, 64, 67, 0.3), 0px 1px 3px 1px rgba(60, 64, 67, 0.15);\n",
              "      fill: #174EA6;\n",
              "    }\n",
              "\n",
              "    [theme=dark] .colab-df-convert {\n",
              "      background-color: #3B4455;\n",
              "      fill: #D2E3FC;\n",
              "    }\n",
              "\n",
              "    [theme=dark] .colab-df-convert:hover {\n",
              "      background-color: #434B5C;\n",
              "      box-shadow: 0px 1px 3px 1px rgba(0, 0, 0, 0.15);\n",
              "      filter: drop-shadow(0px 1px 2px rgba(0, 0, 0, 0.3));\n",
              "      fill: #FFFFFF;\n",
              "    }\n",
              "  </style>\n",
              "\n",
              "      <script>\n",
              "        const buttonEl =\n",
              "          document.querySelector('#df-15e19b5e-9115-4677-bbea-d7a265a38222 button.colab-df-convert');\n",
              "        buttonEl.style.display =\n",
              "          google.colab.kernel.accessAllowed ? 'block' : 'none';\n",
              "\n",
              "        async function convertToInteractive(key) {\n",
              "          const element = document.querySelector('#df-15e19b5e-9115-4677-bbea-d7a265a38222');\n",
              "          const dataTable =\n",
              "            await google.colab.kernel.invokeFunction('convertToInteractive',\n",
              "                                                     [key], {});\n",
              "          if (!dataTable) return;\n",
              "\n",
              "          const docLinkHtml = 'Like what you see? Visit the ' +\n",
              "            '<a target=\"_blank\" href=https://colab.research.google.com/notebooks/data_table.ipynb>data table notebook</a>'\n",
              "            + ' to learn more about interactive tables.';\n",
              "          element.innerHTML = '';\n",
              "          dataTable['output_type'] = 'display_data';\n",
              "          await google.colab.output.renderOutput(dataTable, element);\n",
              "          const docLink = document.createElement('div');\n",
              "          docLink.innerHTML = docLinkHtml;\n",
              "          element.appendChild(docLink);\n",
              "        }\n",
              "      </script>\n",
              "    </div>\n",
              "  </div>\n"
            ]
          },
          "metadata": {},
          "execution_count": 17
        }
      ]
    },
    {
      "cell_type": "code",
      "source": [
        "plt.figure(figsize=(20,10))\n",
        "sea.boxplot(data=std_df.iloc[:,:-1]) # except the target\n",
        "plt.xticks(rotation=90)\n",
        "plt.title(\"Distribution of the values ​​of all potential standardized predictors\")\n",
        "plt.grid()\n",
        "plt.show()"
      ],
      "metadata": {
        "colab": {
          "base_uri": "https://localhost:8080/",
          "height": 991
        },
        "id": "YunLJyc2UyLU",
        "outputId": "1082617b-e888-4c93-9841-28fbafebb9c1"
      },
      "execution_count": 18,
      "outputs": [
        {
          "output_type": "display_data",
          "data": {
            "text/plain": [
              "<Figure size 2000x1000 with 1 Axes>"
            ],
            "image/png": "[encoded data removed]"
          },
          "metadata": {}
        }
      ]
    },
    {
      "cell_type": "markdown",
      "source": [
        "looks better with standardization"
      ],
      "metadata": {
        "id": "zvZz2Z2FVKMr"
      }
    },
    {
      "cell_type": "markdown",
      "source": [
        "###**Correlation**"
      ],
      "metadata": {
        "id": "2aBQ0fWJWr68"
      }
    },
    {
      "cell_type": "code",
      "source": [
        "# Calculate the correlation matrix\n",
        "correlation_matrix = std_df.corr()\n",
        "\n",
        "plt.figure(figsize=(10, 8))\n",
        "sns.heatmap(correlation_matrix, cmap='coolwarm')\n",
        "plt.title(\"Correlation Heatmap\")\n",
        "plt.show()"
      ],
      "metadata": {
        "colab": {
          "base_uri": "https://localhost:8080/",
          "height": 837
        },
        "id": "aQNYFcdgVI4j",
        "outputId": "2275be35-0bdb-4d6e-af38-8bdb0a48de88"
      },
      "execution_count": 19,
      "outputs": [
        {
          "output_type": "display_data",
          "data": {
            "text/plain": [
              "<Figure size 1000x800 with 2 Axes>"
            ],
            "image/png": "[encoded data removed]"
          },
          "metadata": {}
        }
      ]
    },
    {
      "cell_type": "markdown",
      "source": [
        "### **Dimensionality Reduction**"
      ],
      "metadata": {
        "id": "pPqyJDEkWCeT"
      }
    },
    {
      "cell_type": "markdown",
      "source": [
        "**Split Dataset**"
      ],
      "metadata": {
        "id": "G30ViD6LYt2e"
      }
    },
    {
      "cell_type": "code",
      "source": [
        "X = data.drop([\"Diabetes_012\"], axis=1)\n",
        "y = data['Diabetes_012']\n",
        "\n",
        "X_train, X_test, y_train, y_test = train_test_split(X, y, test_size=0.2, random_state=42)"
      ],
      "metadata": {
        "id": "OI4GSgjZYT1Z"
      },
      "execution_count": 20,
      "outputs": []
    },
    {
      "cell_type": "code",
      "source": [
        "print(X_train.shape)"
      ],
      "metadata": {
        "colab": {
          "base_uri": "https://localhost:8080/"
        },
        "id": "ct4we7RnZS4G",
        "outputId": "7f3a72d6-761f-4016-be8f-18276f733709"
      },
      "execution_count": 21,
      "outputs": [
        {
          "output_type": "stream",
          "name": "stdout",
          "text": [
            "(95424, 21)\n"
          ]
        }
      ]
    },
    {
      "cell_type": "code",
      "source": [
        "print(X_test.shape)"
      ],
      "metadata": {
        "colab": {
          "base_uri": "https://localhost:8080/"
        },
        "id": "ljuptNraZgUl",
        "outputId": "c3b73f64-7bfa-45ac-f09d-e10bc4f4db38"
      },
      "execution_count": 22,
      "outputs": [
        {
          "output_type": "stream",
          "name": "stdout",
          "text": [
            "(23857, 21)\n"
          ]
        }
      ]
    },
    {
      "cell_type": "markdown",
      "source": [
        "### **Baseline model**"
      ],
      "metadata": {
        "id": "Zw9IBx05qxTO"
      }
    },
    {
      "cell_type": "markdown",
      "source": [
        "**Define Classifiers**"
      ],
      "metadata": {
        "id": "nIcsPmPFJqFB"
      }
    },
    {
      "cell_type": "code",
      "source": [
        "# Define a list of classifiers\n",
        "classifiers = {\n",
        "    \"Logistic Regression\": LogisticRegression(),\n",
        "    \"Random Forest\": RandomForestClassifier(),\n",
        "    \"K-Nearest Neighbors\": KNeighborsClassifier(),\n",
        "    \"XGBoost\": XGBClassifier(),\n",
        "}"
      ],
      "metadata": {
        "id": "SdUIifjaJwCX"
      },
      "execution_count": 25,
      "outputs": []
    },
    {
      "cell_type": "code",
      "source": [
        "# Dictionary to store evaluation metrics\n",
        "results = {}\n",
        "\n",
        "# Loop through each classifier\n",
        "for name, clf in classifiers.items():\n",
        "    # Train the classifier\n",
        "    clf.fit(X_train, y_train)\n",
        "\n",
        "    # Make predictions on the test set\n",
        "    y_pred = clf.predict(X_test)\n",
        "\n",
        "    # Calculate evaluation metrics\n",
        "    accuracy = accuracy_score(y_test, y_pred)\n",
        "    precision = precision_score(y_test, y_pred, average=\"weighted\", zero_division=1)\n",
        "    recall = recall_score(y_test, y_pred, average=\"weighted\", zero_division=1)\n",
        "    f1 = f1_score(y_test, y_pred, average=\"weighted\", zero_division=1)\n",
        "    balanced_accuracy = balanced_accuracy_score(y_test, y_pred)\n",
        "    confusion = confusion_matrix(y_test, y_pred)\n",
        "\n",
        "    # ROC AUC calculation for binary and multiclass classification\n",
        "    if len(np.unique(y_train)) == 2:\n",
        "        roc_auc = roc_auc_score(y_test, clf.predict_proba(X_test)[:, 1])\n",
        "    else:\n",
        "        roc_auc = roc_auc_score(y_test, clf.predict_proba(X_test), multi_class='ovr')\n",
        "\n",
        "    # Store the results in the dictionary\n",
        "    results[name] = {\n",
        "        \"Accuracy\": accuracy,\n",
        "        \"Precision\": precision,\n",
        "        \"Recall\": recall,\n",
        "        \"F1 Score\": f1,\n",
        "        \"ROC AUC\": roc_auc,\n",
        "        \"Balanced Accuracy\": balanced_accuracy,\n",
        "        \"Confusion Matrix\": confusion,\n",
        "    }\n",
        "\n",
        "# Display the results\n",
        "for name, metrics in results.items():\n",
        "    print(f\"--- {name} ---\")\n",
        "    print(\"Accuracy: {:.2f}\".format(metrics[\"Accuracy\"]))\n",
        "    print(\"Precision: {:.2f}\".format(metrics[\"Precision\"]))\n",
        "    print(\"Recall: {:.2f}\".format(metrics[\"Recall\"]))\n",
        "    print(\"F1 Score: {:.2f}\".format(metrics[\"F1 Score\"]))\n",
        "    print(\"ROC AUC: {:.2f}\".format(metrics[\"ROC AUC\"]))\n",
        "    print(\"Balanced Accuracy: {:.2f}\".format(metrics[\"Balanced Accuracy\"]))\n",
        "    print(\"Confusion Matrix:\")\n",
        "    print(metrics[\"Confusion Matrix\"])\n",
        "    print(\"\\n\")"
      ],
      "metadata": {
        "colab": {
          "base_uri": "https://localhost:8080/"
        },
        "id": "xWuXnSbFLeue",
        "outputId": "d3252f40-cc25-4ae8-a9c0-789a3395b142"
      },
      "execution_count": 29,
      "outputs": [
        {
          "output_type": "stream",
          "name": "stdout",
          "text": [
            "--- Logistic Regression ---\n",
            "Accuracy: 0.85\n",
            "Precision: 0.81\n",
            "Recall: 0.85\n",
            "F1 Score: 0.80\n",
            "ROC AUC: 0.76\n",
            "Balanced Accuracy: 0.38\n",
            "Confusion Matrix:\n",
            "[[19641     0   467]\n",
            " [  431     0    34]\n",
            " [ 2761     0   523]]\n",
            "\n",
            "\n",
            "--- Random Forest ---\n",
            "Accuracy: 0.84\n",
            "Precision: 0.80\n",
            "Recall: 0.84\n",
            "F1 Score: 0.81\n",
            "ROC AUC: 0.75\n",
            "Balanced Accuracy: 0.38\n",
            "Confusion Matrix:\n",
            "[[19549    16   543]\n",
            " [  426     0    39]\n",
            " [ 2690     7   587]]\n",
            "\n",
            "\n",
            "--- K-Nearest Neighbors ---\n",
            "Accuracy: 0.83\n",
            "Precision: 0.78\n",
            "Recall: 0.83\n",
            "F1 Score: 0.80\n",
            "ROC AUC: 0.65\n",
            "Balanced Accuracy: 0.38\n",
            "Confusion Matrix:\n",
            "[[19334    10   764]\n",
            " [  405     0    60]\n",
            " [ 2728     4   552]]\n",
            "\n",
            "\n",
            "--- XGBoost ---\n",
            "Accuracy: 0.85\n",
            "Precision: 0.80\n",
            "Recall: 0.85\n",
            "F1 Score: 0.81\n",
            "ROC AUC: 0.78\n",
            "Balanced Accuracy: 0.39\n",
            "Confusion Matrix:\n",
            "[[19659     2   447]\n",
            " [  420     0    45]\n",
            " [ 2690     0   594]]\n",
            "\n",
            "\n"
          ]
        }
      ]
    },
    {
      "cell_type": "markdown",
      "source": [
        "- Added the **zero_division=1** parameter to the precision, recall, and F1-score calculations. This parameter handles cases where a class has no predicted samples. It sets the score to 1 in such cases to avoid division by zero errors.\n",
        "\n",
        "- The if **len(np.unique(y_train)) == 2:** condition checks if the training data contains only two unique classes. If so, it calculates the ROC AUC directly using the binary form.\n",
        "If there are more than two classes, it calculates the ROC AUC using the one-vs-rest **('ovr')** strategy, which is appropriate for multi-class problems."
      ],
      "metadata": {
        "id": "u7x3r5czOMkE"
      }
    },
    {
      "cell_type": "markdown",
      "source": [
        "### **Principal Component Analysis (PCA)**"
      ],
      "metadata": {
        "id": "okvcFB6FYMb1"
      }
    },
    {
      "cell_type": "markdown",
      "source": [
        "*Determining the number of principal components **(n_components)** for Principal Component Analysis (PCA) is an important step in dimensionality reduction. The goal is to find a suitable number of components that capture the majority of the data's variance while reducing its dimensionality.*\n",
        "\n"
      ],
      "metadata": {
        "id": "xMmjCLIIZ93G"
      }
    },
    {
      "cell_type": "code",
      "source": [
        "pca = PCA()\n",
        "X_pca = pca.fit_transform(X)\n",
        "\n",
        "\n",
        "explained_variance_ratio = pca.explained_variance_ratio_\n",
        "cumulative_explained_variance = np.cumsum(explained_variance_ratio)\n",
        "\n",
        "plt.figure(figsize=(10, 6))\n",
        "plt.plot(cumulative_explained_variance, marker='o')\n",
        "plt.xlabel('Number of Components')\n",
        "plt.ylabel('Cumulative Explained Variance')\n",
        "plt.title('Cumulative Explained Variance vs. Number of Components')\n",
        "plt.show()"
      ],
      "metadata": {
        "colab": {
          "base_uri": "https://localhost:8080/",
          "height": 564
        },
        "id": "BFt1DcejcxCB",
        "outputId": "1df7c352-bcff-4345-dff0-71d0f47459e3"
      },
      "execution_count": 33,
      "outputs": [
        {
          "output_type": "display_data",
          "data": {
            "text/plain": [
              "<Figure size 1000x600 with 1 Axes>"
            ],
            "image/png": "[encoded data removed]"
          },
          "metadata": {}
        }
      ]
    },
    {
      "cell_type": "markdown",
      "source": [
        "*In the plot, you'll see how much variance is explained by each additional component. You can choose the number of components that retain the desired percentage of total variance. For example, if you want to retain 95% of the variance, find the point on the x-axis where the cumulative explained variance is close to 0.95.*"
      ],
      "metadata": {
        "id": "QYhxRvvLdEgw"
      }
    },
    {
      "cell_type": "code",
      "source": [
        "# base on the graph\n",
        "best_n_components = 19"
      ],
      "metadata": {
        "id": "e5U6xqhCbhoo"
      },
      "execution_count": 36,
      "outputs": []
    },
    {
      "cell_type": "code",
      "source": [
        "pca = PCA(n_components=best_n_components)\n",
        "X_train_pca = pca.fit_transform(X_train)\n",
        "\n",
        "# Create a list of column names for the factors DataFrame\n",
        "column_names = ['PC' + str(i + 1) for i in range(best_n_components)]\n",
        "\n",
        "# Create the DataFrame\n",
        "factors_Df = pd.DataFrame(data=X_train_pca, columns=column_names)\n",
        "factors_Df.index = X_train.index"
      ],
      "metadata": {
        "id": "SPLkKqVLcNBi"
      },
      "execution_count": 37,
      "outputs": []
    },
    {
      "cell_type": "code",
      "source": [
        "factors_Df.head()"
      ],
      "metadata": {
        "colab": {
          "base_uri": "https://localhost:8080/",
          "height": 206
        },
        "id": "2ddy1nrDcVc6",
        "outputId": "3e3577bf-9178-4699-944f-e2cab85e325d"
      },
      "execution_count": 38,
      "outputs": [
        {
          "output_type": "execute_result",
          "data": {
            "text/plain": [
              "             PC1       PC2       PC3       PC4       PC5       PC6       PC7  \\\n",
              "89259   1.905227 -0.575581  4.745598 -1.311905  5.070468 -0.192679 -0.080553   \n",
              "84592  -6.188172 -5.364975 -0.842596 -5.156915  2.086882 -0.291903  2.260622   \n",
              "108619 -4.533981  0.497081 -0.756147  2.352998 -1.398476 -0.250873 -0.288191   \n",
              "98101  -4.464253  3.582820 -0.623127 -1.274959  0.616010  1.130561  0.195503   \n",
              "14613  -5.686769 -6.426200  1.362729  0.281180 -1.589805 -0.223079 -0.340574   \n",
              "\n",
              "             PC8       PC9      PC10      PC11      PC12      PC13      PC14  \\\n",
              "89259   0.029973 -0.754793 -0.158040 -0.575394 -0.227346  0.570920 -0.222329   \n",
              "84592  -0.899521  0.235569  0.014067  0.355264  0.177900 -0.165582 -0.089994   \n",
              "108619  0.348309  0.594607  0.213347  0.481058  0.140106 -0.257343 -0.375311   \n",
              "98101  -0.574560 -0.690872  0.561653 -0.114176 -0.216323  0.623251 -0.224739   \n",
              "14613  -0.140416  0.217791 -0.263609  0.736730  0.080713  0.105838 -0.052325   \n",
              "\n",
              "            PC15      PC16      PC17      PC18      PC19  \n",
              "89259  -0.501555 -0.206788  0.997074 -0.110480  0.421666  \n",
              "84592  -0.034016  0.013468 -0.030817 -0.012063 -0.072241  \n",
              "108619  0.062144 -0.011298 -0.052441 -0.061281 -0.043066  \n",
              "98101  -0.363309 -0.038833 -0.071872 -0.028172 -0.033965  \n",
              "14613   0.040308 -0.055632 -0.025917 -0.043031 -0.037500  "
            ],
            "text/html": [
              "\n",
              "\n",
              "  <div id=\"df-02490fdf-d907-41ca-ab30-1d824704b613\">\n",
              "    <div class=\"colab-df-container\">\n",
              "      <div>\n",
              "<style scoped>\n",
              "    .dataframe tbody tr th:only-of-type {\n",
              "        vertical-align: middle;\n",
              "    }\n",
              "\n",
              "    .dataframe tbody tr th {\n",
              "        vertical-align: top;\n",
              "    }\n",
              "\n",
              "    .dataframe thead th {\n",
              "        text-align: right;\n",
              "    }\n",
              "</style>\n",
              "<table border=\"1\" class=\"dataframe\">\n",
              "  <thead>\n",
              "    <tr style=\"text-align: right;\">\n",
              "      <th></th>\n",
              "      <th>PC1</th>\n",
              "      <th>PC2</th>\n",
              "      <th>PC3</th>\n",
              "      <th>PC4</th>\n",
              "      <th>PC5</th>\n",
              "      <th>PC6</th>\n",
              "      <th>PC7</th>\n",
              "      <th>PC8</th>\n",
              "      <th>PC9</th>\n",
              "      <th>PC10</th>\n",
              "      <th>PC11</th>\n",
              "      <th>PC12</th>\n",
              "      <th>PC13</th>\n",
              "      <th>PC14</th>\n",
              "      <th>PC15</th>\n",
              "      <th>PC16</th>\n",
              "      <th>PC17</th>\n",
              "      <th>PC18</th>\n",
              "      <th>PC19</th>\n",
              "    </tr>\n",
              "  </thead>\n",
              "  <tbody>\n",
              "    <tr>\n",
              "      <th>89259</th>\n",
              "      <td>1.905227</td>\n",
              "      <td>-0.575581</td>\n",
              "      <td>4.745598</td>\n",
              "      <td>-1.311905</td>\n",
              "      <td>5.070468</td>\n",
              "      <td>-0.192679</td>\n",
              "      <td>-0.080553</td>\n",
              "      <td>0.029973</td>\n",
              "      <td>-0.754793</td>\n",
              "      <td>-0.158040</td>\n",
              "      <td>-0.575394</td>\n",
              "      <td>-0.227346</td>\n",
              "      <td>0.570920</td>\n",
              "      <td>-0.222329</td>\n",
              "      <td>-0.501555</td>\n",
              "      <td>-0.206788</td>\n",
              "      <td>0.997074</td>\n",
              "      <td>-0.110480</td>\n",
              "      <td>0.421666</td>\n",
              "    </tr>\n",
              "    <tr>\n",
              "      <th>84592</th>\n",
              "      <td>-6.188172</td>\n",
              "      <td>-5.364975</td>\n",
              "      <td>-0.842596</td>\n",
              "      <td>-5.156915</td>\n",
              "      <td>2.086882</td>\n",
              "      <td>-0.291903</td>\n",
              "      <td>2.260622</td>\n",
              "      <td>-0.899521</td>\n",
              "      <td>0.235569</td>\n",
              "      <td>0.014067</td>\n",
              "      <td>0.355264</td>\n",
              "      <td>0.177900</td>\n",
              "      <td>-0.165582</td>\n",
              "      <td>-0.089994</td>\n",
              "      <td>-0.034016</td>\n",
              "      <td>0.013468</td>\n",
              "      <td>-0.030817</td>\n",
              "      <td>-0.012063</td>\n",
              "      <td>-0.072241</td>\n",
              "    </tr>\n",
              "    <tr>\n",
              "      <th>108619</th>\n",
              "      <td>-4.533981</td>\n",
              "      <td>0.497081</td>\n",
              "      <td>-0.756147</td>\n",
              "      <td>2.352998</td>\n",
              "      <td>-1.398476</td>\n",
              "      <td>-0.250873</td>\n",
              "      <td>-0.288191</td>\n",
              "      <td>0.348309</td>\n",
              "      <td>0.594607</td>\n",
              "      <td>0.213347</td>\n",
              "      <td>0.481058</td>\n",
              "      <td>0.140106</td>\n",
              "      <td>-0.257343</td>\n",
              "      <td>-0.375311</td>\n",
              "      <td>0.062144</td>\n",
              "      <td>-0.011298</td>\n",
              "      <td>-0.052441</td>\n",
              "      <td>-0.061281</td>\n",
              "      <td>-0.043066</td>\n",
              "    </tr>\n",
              "    <tr>\n",
              "      <th>98101</th>\n",
              "      <td>-4.464253</td>\n",
              "      <td>3.582820</td>\n",
              "      <td>-0.623127</td>\n",
              "      <td>-1.274959</td>\n",
              "      <td>0.616010</td>\n",
              "      <td>1.130561</td>\n",
              "      <td>0.195503</td>\n",
              "      <td>-0.574560</td>\n",
              "      <td>-0.690872</td>\n",
              "      <td>0.561653</td>\n",
              "      <td>-0.114176</td>\n",
              "      <td>-0.216323</td>\n",
              "      <td>0.623251</td>\n",
              "      <td>-0.224739</td>\n",
              "      <td>-0.363309</td>\n",
              "      <td>-0.038833</td>\n",
              "      <td>-0.071872</td>\n",
              "      <td>-0.028172</td>\n",
              "      <td>-0.033965</td>\n",
              "    </tr>\n",
              "    <tr>\n",
              "      <th>14613</th>\n",
              "      <td>-5.686769</td>\n",
              "      <td>-6.426200</td>\n",
              "      <td>1.362729</td>\n",
              "      <td>0.281180</td>\n",
              "      <td>-1.589805</td>\n",
              "      <td>-0.223079</td>\n",
              "      <td>-0.340574</td>\n",
              "      <td>-0.140416</td>\n",
              "      <td>0.217791</td>\n",
              "      <td>-0.263609</td>\n",
              "      <td>0.736730</td>\n",
              "      <td>0.080713</td>\n",
              "      <td>0.105838</td>\n",
              "      <td>-0.052325</td>\n",
              "      <td>0.040308</td>\n",
              "      <td>-0.055632</td>\n",
              "      <td>-0.025917</td>\n",
              "      <td>-0.043031</td>\n",
              "      <td>-0.037500</td>\n",
              "    </tr>\n",
              "  </tbody>\n",
              "</table>\n",
              "</div>\n",
              "      <button class=\"colab-df-convert\" onclick=\"convertToInteractive('df-02490fdf-d907-41ca-ab30-1d824704b613')\"\n",
              "              title=\"Convert this dataframe to an interactive table.\"\n",
              "              style=\"display:none;\">\n",
              "\n",
              "  <svg xmlns=\"http://www.w3.org/2000/svg\" height=\"24px\"viewBox=\"0 0 24 24\"\n",
              "       width=\"24px\">\n",
              "    <path d=\"M0 0h24v24H0V0z\" fill=\"none\"/>\n",
              "    <path d=\"M18.56 5.44l.94 2.06.94-2.06 2.06-.94-2.06-.94-.94-2.06-.94 2.06-2.06.94zm-11 1L8.5 8.5l.94-2.06 2.06-.94-2.06-.94L8.5 2.5l-.94 2.06-2.06.94zm10 10l.94 2.06.94-2.06 2.06-.94-2.06-.94-.94-2.06-.94 2.06-2.06.94z\"/><path d=\"M17.41 7.96l-1.37-1.37c-.4-.4-.92-.59-1.43-.59-.52 0-1.04.2-1.43.59L10.3 9.45l-7.72 7.72c-.78.78-.78 2.05 0 2.83L4 21.41c.39.39.9.59 1.41.59.51 0 1.02-.2 1.41-.59l7.78-7.78 2.81-2.81c.8-.78.8-2.07 0-2.86zM5.41 20L4 18.59l7.72-7.72 1.47 1.35L5.41 20z\"/>\n",
              "  </svg>\n",
              "      </button>\n",
              "\n",
              "\n",
              "\n",
              "    <div id=\"df-30a22ef6-b9b7-40be-a256-4619b8b39bad\">\n",
              "      <button class=\"colab-df-quickchart\" onclick=\"quickchart('df-30a22ef6-b9b7-40be-a256-4619b8b39bad')\"\n",
              "              title=\"Suggest charts.\"\n",
              "              style=\"display:none;\">\n",
              "\n",
              "<svg xmlns=\"http://www.w3.org/2000/svg\" height=\"24px\"viewBox=\"0 0 24 24\"\n",
              "     width=\"24px\">\n",
              "    <g>\n",
              "        <path d=\"M19 3H5c-1.1 0-2 .9-2 2v14c0 1.1.9 2 2 2h14c1.1 0 2-.9 2-2V5c0-1.1-.9-2-2-2zM9 17H7v-7h2v7zm4 0h-2V7h2v10zm4 0h-2v-4h2v4z\"/>\n",
              "    </g>\n",
              "</svg>\n",
              "      </button>\n",
              "    </div>\n",
              "\n",
              "<style>\n",
              "  .colab-df-quickchart {\n",
              "    background-color: #E8F0FE;\n",
              "    border: none;\n",
              "    border-radius: 50%;\n",
              "    cursor: pointer;\n",
              "    display: none;\n",
              "    fill: #1967D2;\n",
              "    height: 32px;\n",
              "    padding: 0 0 0 0;\n",
              "    width: 32px;\n",
              "  }\n",
              "\n",
              "  .colab-df-quickchart:hover {\n",
              "    background-color: #E2EBFA;\n",
              "    box-shadow: 0px 1px 2px rgba(60, 64, 67, 0.3), 0px 1px 3px 1px rgba(60, 64, 67, 0.15);\n",
              "    fill: #174EA6;\n",
              "  }\n",
              "\n",
              "  [theme=dark] .colab-df-quickchart {\n",
              "    background-color: #3B4455;\n",
              "    fill: #D2E3FC;\n",
              "  }\n",
              "\n",
              "  [theme=dark] .colab-df-quickchart:hover {\n",
              "    background-color: #434B5C;\n",
              "    box-shadow: 0px 1px 3px 1px rgba(0, 0, 0, 0.15);\n",
              "    filter: drop-shadow(0px 1px 2px rgba(0, 0, 0, 0.3));\n",
              "    fill: #FFFFFF;\n",
              "  }\n",
              "</style>\n",
              "\n",
              "    <script>\n",
              "      async function quickchart(key) {\n",
              "        const containerElement = document.querySelector('#' + key);\n",
              "        const charts = await google.colab.kernel.invokeFunction(\n",
              "            'suggestCharts', [key], {});\n",
              "      }\n",
              "    </script>\n",
              "\n",
              "      <script>\n",
              "\n",
              "function displayQuickchartButton(domScope) {\n",
              "  let quickchartButtonEl =\n",
              "    domScope.querySelector('#df-30a22ef6-b9b7-40be-a256-4619b8b39bad button.colab-df-quickchart');\n",
              "  quickchartButtonEl.style.display =\n",
              "    google.colab.kernel.accessAllowed ? 'block' : 'none';\n",
              "}\n",
              "\n",
              "        displayQuickchartButton(document);\n",
              "      </script>\n",
              "      <style>\n",
              "    .colab-df-container {\n",
              "      display:flex;\n",
              "      flex-wrap:wrap;\n",
              "      gap: 12px;\n",
              "    }\n",
              "\n",
              "    .colab-df-convert {\n",
              "      background-color: #E8F0FE;\n",
              "      border: none;\n",
              "      border-radius: 50%;\n",
              "      cursor: pointer;\n",
              "      display: none;\n",
              "      fill: #1967D2;\n",
              "      height: 32px;\n",
              "      padding: 0 0 0 0;\n",
              "      width: 32px;\n",
              "    }\n",
              "\n",
              "    .colab-df-convert:hover {\n",
              "      background-color: #E2EBFA;\n",
              "      box-shadow: 0px 1px 2px rgba(60, 64, 67, 0.3), 0px 1px 3px 1px rgba(60, 64, 67, 0.15);\n",
              "      fill: #174EA6;\n",
              "    }\n",
              "\n",
              "    [theme=dark] .colab-df-convert {\n",
              "      background-color: #3B4455;\n",
              "      fill: #D2E3FC;\n",
              "    }\n",
              "\n",
              "    [theme=dark] .colab-df-convert:hover {\n",
              "      background-color: #434B5C;\n",
              "      box-shadow: 0px 1px 3px 1px rgba(0, 0, 0, 0.15);\n",
              "      filter: drop-shadow(0px 1px 2px rgba(0, 0, 0, 0.3));\n",
              "      fill: #FFFFFF;\n",
              "    }\n",
              "  </style>\n",
              "\n",
              "      <script>\n",
              "        const buttonEl =\n",
              "          document.querySelector('#df-02490fdf-d907-41ca-ab30-1d824704b613 button.colab-df-convert');\n",
              "        buttonEl.style.display =\n",
              "          google.colab.kernel.accessAllowed ? 'block' : 'none';\n",
              "\n",
              "        async function convertToInteractive(key) {\n",
              "          const element = document.querySelector('#df-02490fdf-d907-41ca-ab30-1d824704b613');\n",
              "          const dataTable =\n",
              "            await google.colab.kernel.invokeFunction('convertToInteractive',\n",
              "                                                     [key], {});\n",
              "          if (!dataTable) return;\n",
              "\n",
              "          const docLinkHtml = 'Like what you see? Visit the ' +\n",
              "            '<a target=\"_blank\" href=https://colab.research.google.com/notebooks/data_table.ipynb>data table notebook</a>'\n",
              "            + ' to learn more about interactive tables.';\n",
              "          element.innerHTML = '';\n",
              "          dataTable['output_type'] = 'display_data';\n",
              "          await google.colab.output.renderOutput(dataTable, element);\n",
              "          const docLink = document.createElement('div');\n",
              "          docLink.innerHTML = docLinkHtml;\n",
              "          element.appendChild(docLink);\n",
              "        }\n",
              "      </script>\n",
              "    </div>\n",
              "  </div>\n"
            ]
          },
          "metadata": {},
          "execution_count": 38
        }
      ]
    },
    {
      "cell_type": "markdown",
      "source": [
        "***The lines of code below, Calculate and print various metrics related to the explained variance in a PCA analysis***\n",
        "\n",
        "- **Line 1:** *The first line prints the explained variance ratio for each principal component. The explained variance ratio indicates the proportion of the total variance in the data that each principal component accounts for. Each value in the printed array represents the percentage of variance explained by the corresponding principal component.*\n",
        "\n",
        "- **Line 2:** *The second line calculates and prints the cumulative explained variance ratio. It shows the cumulative proportion of the total variance explained by the principal components in increasing order.*\n",
        "\n",
        "- **Line 3:** *This line prints the sum of all the explained variance ratios. This value should be equal to 1 (or very close to it) since the sum of the explained variance ratios should account for all the variance in the original data.*\n",
        "\n",
        "*Together, these lines of code provide insights into how much information is retained by each principal component and the cumulative information retained as you consider more components. It helps you decide how many principal components you need to keep to retain a sufficient amount of information while reducing dimensionality. This is essential for determining the appropriate number of components to include in your PCA transformation, which can aid in feature selection, noise reduction, and model efficiency.*"
      ],
      "metadata": {
        "id": "Rr7ZmCMocvMo"
      }
    },
    {
      "cell_type": "code",
      "source": [
        "print(pca.explained_variance_ratio_)\n",
        "print()\n",
        "print(pca.explained_variance_ratio_.cumsum())\n",
        "print()\n",
        "print(pca.explained_variance_ratio_.sum())"
      ],
      "metadata": {
        "colab": {
          "base_uri": "https://localhost:8080/"
        },
        "id": "ixGEU8VXcbV3",
        "outputId": "61dc6f8a-986d-4b77-ae4e-d0d327bf9d96"
      },
      "execution_count": 39,
      "outputs": [
        {
          "output_type": "stream",
          "name": "stdout",
          "text": [
            "[4.68391705e-01 2.46082230e-01 2.01622842e-01 4.69939766e-02\n",
            " 2.01774345e-02 4.15435535e-03 3.30444457e-03 1.47715023e-03\n",
            " 1.20746492e-03 1.18367242e-03 1.09603341e-03 8.56542999e-04\n",
            " 7.88512358e-04 6.39580384e-04 4.62697227e-04 3.68327564e-04\n",
            " 3.64412318e-04 2.73432757e-04 2.05584698e-04]\n",
            "\n",
            "[0.46839171 0.71447394 0.91609678 0.96309075 0.98326819 0.98742254\n",
            " 0.99072699 0.99220414 0.9934116  0.99459528 0.99569131 0.99654785\n",
            " 0.99733637 0.99797595 0.99843864 0.99880697 0.99917138 0.99944482\n",
            " 0.9996504 ]\n",
            "\n",
            "0.9996504002641093\n"
          ]
        }
      ]
    },
    {
      "cell_type": "markdown",
      "source": [
        "**Visualization of the explained variance**"
      ],
      "metadata": {
        "id": "757ylgoPfCpx"
      }
    },
    {
      "cell_type": "code",
      "source": [
        "fig = plt.figure(figsize=(14,6))\n",
        "ax1 = fig.add_subplot(1, 2, 1)\n",
        "ax2 = fig.add_subplot(1, 2, 2)\n",
        "\n",
        "ax1.plot(np.arange(1,20),pca.explained_variance_ratio_,color='b',marker='o')\n",
        "ax2.plot(np.arange(1,20),np.cumsum(pca.explained_variance_ratio_),color='gold',marker='o')\n",
        "\n",
        "ax1.set_xlabel('Factors')\n",
        "ax1.set_title('Explained variance')\n",
        "ax2.set_xlabel('Factors')\n",
        "ax2.set_title('Explained variance cumsum')\n",
        "\n",
        "plt.show()"
      ],
      "metadata": {
        "colab": {
          "base_uri": "https://localhost:8080/",
          "height": 564
        },
        "id": "ZhK74cUWfFKg",
        "outputId": "d8549500-cae8-42d0-9b94-38097e97a7af"
      },
      "execution_count": 42,
      "outputs": [
        {
          "output_type": "display_data",
          "data": {
            "text/plain": [
              "<Figure size 1400x600 with 2 Axes>"
            ],
            "image/png": "[encoded data removed]"
          },
          "metadata": {}
        }
      ]
    },
    {
      "cell_type": "markdown",
      "source": [
        "**The shared inertia explained by the first 9 components is around 62%**\n",
        "\n",
        "The statement \"The shared inertia explained by the first 9 components is around 62%\" indicates that the cumulative variance captured by the first 9 principal components in a Principal Component Analysis (PCA) is approximately 62%.\n",
        "\n",
        "Whether this is considered good or bad depends on the context of your analysis and the goals you have set. Here's how to interpret it:\n",
        "\n",
        "1. **Good:**\n",
        "   - If your goal is dimensionality reduction, and you're looking to retain a significant portion of the original data's variance while reducing the number of features, achieving 62% explained variance with just 9 components could be considered good.\n",
        "   - If the original dataset is very high-dimensional, retaining 62% of the variability with 9 components might allow for a substantial reduction in complexity without sacrificing too much information.\n",
        "\n",
        "2. **Not Ideal:**\n",
        "   - If your analysis or model requires capturing a high percentage of the data's variance, achieving only 62% might not be ideal. In some cases, you might need a higher percentage of variance explained for accurate predictions or meaningful insights.\n",
        "   - If the original dataset is not too large and you can afford to keep more components, you might aim for a higher explained variance percentage.\n",
        "\n",
        "3. **Context Matters:**\n",
        "   - The decision of what is \"good\" or \"bad\" depends on the specific problem you're working on. Some applications require very high explained variance, while others can work well with less.\n",
        "\n",
        "In summary, whether an explained variance of around 62% with the first 9 components is good or bad depends on the trade-offs you're willing to make between dimensionality reduction and retaining the variability needed for your analysis or modeling purposes. It's a balance that needs to be considered within the context of your project's goals and requirements."
      ],
      "metadata": {
        "id": "WO6dy8ngeOAZ"
      }
    },
    {
      "cell_type": "markdown",
      "source": [
        "### **Linear Discriminant Analysis (LDA)**"
      ],
      "metadata": {
        "id": "TM1NAZ9zhvXt"
      }
    },
    {
      "cell_type": "markdown",
      "source": [],
      "metadata": {
        "id": "CJ2mo6dSiaN8"
      }
    },
    {
      "cell_type": "code",
      "source": [
        "# Initialize LDA and transform X_train\n",
        "lda = LinearDiscriminantAnalysis(n_components=None)  # You can specify the number of components or let it determine automatically\n",
        "lda.fit(X_train, y_train)\n",
        "X_train_lda = lda.transform(X_train)\n",
        "\n",
        "# Initialize LDA and transform X_test\n",
        "X_test_lda = lda.transform(X_test)"
      ],
      "metadata": {
        "id": "nyLhWc5IjEZk"
      },
      "execution_count": null,
      "outputs": []
    },
    {
      "cell_type": "markdown",
      "source": [
        "### **Predictive analysis**"
      ],
      "metadata": {
        "id": "RMTmw94UmfPu"
      }
    },
    {
      "cell_type": "markdown",
      "source": [
        "#### **Principal Component Analysis (PCA)**"
      ],
      "metadata": {
        "id": "2fR_pgqce-23"
      }
    },
    {
      "cell_type": "code",
      "source": [
        "X_test_pca = pca.transform(X_test)"
      ],
      "metadata": {
        "id": "qE5f6WEifV1f"
      },
      "execution_count": 43,
      "outputs": []
    },
    {
      "cell_type": "code",
      "source": [
        "# Dictionary to store evaluation metrics\n",
        "results = {}\n",
        "\n",
        "# Loop through each classifier\n",
        "for name, clf in classifiers.items():\n",
        "    # Train the classifier\n",
        "    clf.fit(X_train_pca, y_train)\n",
        "\n",
        "    # Make predictions on the test set\n",
        "    y_pred = clf.predict(X_test_pca)\n",
        "\n",
        "    # Calculate evaluation metrics\n",
        "    accuracy = accuracy_score(y_test, y_pred)\n",
        "    precision = precision_score(y_test, y_pred, average=\"weighted\", zero_division=1)\n",
        "    recall = recall_score(y_test, y_pred, average=\"weighted\", zero_division=1)\n",
        "    f1 = f1_score(y_test, y_pred, average=\"weighted\", zero_division=1)\n",
        "    balanced_accuracy = balanced_accuracy_score(y_test, y_pred)\n",
        "    confusion = confusion_matrix(y_test, y_pred)\n",
        "\n",
        "    # ROC AUC calculation for binary and multiclass classification\n",
        "    if len(np.unique(y_train)) == 2:\n",
        "        roc_auc = roc_auc_score(y_test, clf.predict_proba(X_test_pca)[:, 1])\n",
        "    else:\n",
        "        roc_auc = roc_auc_score(y_test, clf.predict_proba(X_test_pca), multi_class='ovr')\n",
        "\n",
        "    # Store the results in the dictionary\n",
        "    results[name] = {\n",
        "        \"Accuracy\": accuracy,\n",
        "        \"Precision\": precision,\n",
        "        \"Recall\": recall,\n",
        "        \"F1 Score\": f1,\n",
        "        \"ROC AUC\": roc_auc,\n",
        "        \"Balanced Accuracy\": balanced_accuracy,\n",
        "        \"Confusion Matrix\": confusion,\n",
        "    }\n",
        "\n",
        "# Display the results\n",
        "print(\"Principal Component Analysis (PCA) \\n\")\n",
        "for name, metrics in results.items():\n",
        "    print(f\"--- {name} ---\")\n",
        "    print(\"Accuracy: {:.2f}\".format(metrics[\"Accuracy\"]))\n",
        "    print(\"Precision: {:.2f}\".format(metrics[\"Precision\"]))\n",
        "    print(\"Recall: {:.2f}\".format(metrics[\"Recall\"]))\n",
        "    print(\"F1 Score: {:.2f}\".format(metrics[\"F1 Score\"]))\n",
        "    print(\"ROC AUC: {:.2f}\".format(metrics[\"ROC AUC\"]))\n",
        "    print(\"Balanced Accuracy: {:.2f}\".format(metrics[\"Balanced Accuracy\"]))\n",
        "    print(\"Confusion Matrix:\")\n",
        "    print(metrics[\"Confusion Matrix\"])\n",
        "    print(\"\\n\")"
      ],
      "metadata": {
        "colab": {
          "base_uri": "https://localhost:8080/"
        },
        "id": "urjp3-kKfMSW",
        "outputId": "7e8f6e9d-d73b-4577-b781-38b7ba6c90db"
      },
      "execution_count": 44,
      "outputs": [
        {
          "output_type": "stream",
          "name": "stdout",
          "text": [
            "Principal Component Analysis (PCA) \n",
            "\n",
            "--- Logistic Regression ---\n",
            "Accuracy: 0.85\n",
            "Precision: 0.82\n",
            "Recall: 0.85\n",
            "F1 Score: 0.81\n",
            "ROC AUC: 0.78\n",
            "Balanced Accuracy: 0.38\n",
            "Confusion Matrix:\n",
            "[[19675     0   433]\n",
            " [  433     0    32]\n",
            " [ 2732     0   552]]\n",
            "\n",
            "\n",
            "--- Random Forest ---\n",
            "Accuracy: 0.84\n",
            "Precision: 0.79\n",
            "Recall: 0.84\n",
            "F1 Score: 0.80\n",
            "ROC AUC: 0.75\n",
            "Balanced Accuracy: 0.37\n",
            "Confusion Matrix:\n",
            "[[19674    14   420]\n",
            " [  435     0    30]\n",
            " [ 2811     5   468]]\n",
            "\n",
            "\n",
            "--- K-Nearest Neighbors ---\n",
            "Accuracy: 0.83\n",
            "Precision: 0.78\n",
            "Recall: 0.83\n",
            "F1 Score: 0.80\n",
            "ROC AUC: 0.65\n",
            "Balanced Accuracy: 0.38\n",
            "Confusion Matrix:\n",
            "[[19307    15   786]\n",
            " [  407     0    58]\n",
            " [ 2728     5   551]]\n",
            "\n",
            "\n",
            "--- XGBoost ---\n",
            "Accuracy: 0.85\n",
            "Precision: 0.82\n",
            "Recall: 0.85\n",
            "F1 Score: 0.81\n",
            "ROC AUC: 0.78\n",
            "Balanced Accuracy: 0.39\n",
            "Confusion Matrix:\n",
            "[[19618     0   490]\n",
            " [  425     0    40]\n",
            " [ 2684     0   600]]\n",
            "\n",
            "\n"
          ]
        }
      ]
    }
  ]
}