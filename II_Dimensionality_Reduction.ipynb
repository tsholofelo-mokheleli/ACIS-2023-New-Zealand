{
  "cells": [
    {
      "cell_type": "markdown",
      "metadata": {
        "id": "view-in-github",
        "colab_type": "text"
      },
      "source": [
        "<a href=\"https://colab.research.google.com/github/tsholofelo-mokheleli/ACIS-2023-New-Zealand/blob/main/II_Dimensionality_Reduction.ipynb\" target=\"_parent\"><img src=\"https://colab.research.google.com/assets/colab-badge.svg\" alt=\"Open In Colab\"/></a>"
      ]
    },
    {
      "cell_type": "markdown",
      "metadata": {
        "id": "Uqf5XlVRI_e2"
      },
      "source": [
        "### **Dimensionality Reduction in Machine Learning**"
      ]
    },
    {
      "cell_type": "markdown",
      "metadata": {
        "id": "GQotO93lIzDE"
      },
      "source": [
        "### **Import Libraries**"
      ]
    },
    {
      "cell_type": "code",
      "execution_count": 37,
      "metadata": {
        "id": "LfiquzfWIV7U"
      },
      "outputs": [],
      "source": [
        "# Load the libraries\n",
        "import pandas as pd\n",
        "import matplotlib.pyplot as plt\n",
        "import seaborn as sea\n",
        "import numpy as np\n",
        "import seaborn as sns\n",
        "\n",
        "# Scaler\n",
        "from sklearn.preprocessing import StandardScaler\n",
        "\n",
        "# Dimensionality reduction\n",
        "from sklearn.decomposition import PCA\n",
        "from sklearn.discriminant_analysis import LinearDiscriminantAnalysis\n",
        "\n",
        "# Warning filter\n",
        "import warnings\n",
        "warnings.filterwarnings('ignore')\n",
        "cmap=sns.color_palette('Blues_r')\n",
        "\n",
        "# Metrics\n",
        "from sklearn.model_selection import train_test_split, GridSearchCV, cross_val_score\n",
        "from sklearn.metrics import accuracy_score, precision_score, recall_score, f1_score, roc_auc_score, cohen_kappa_score, confusion_matrix, balanced_accuracy_score\n",
        "from imblearn.metrics import geometric_mean_score\n",
        "\n",
        "# Classifiers\n",
        "from sklearn.linear_model import LogisticRegression\n",
        "from sklearn.ensemble import RandomForestClassifier\n",
        "from xgboost import XGBClassifier\n",
        "from sklearn.neighbors import KNeighborsClassifier\n",
        "\n",
        "# Ensemble Method\n",
        "from sklearn.ensemble import BaggingClassifier\n",
        "from sklearn.ensemble import StackingClassifier\n",
        "from sklearn.ensemble import VotingClassifier\n",
        "from sklearn.ensemble import AdaBoostClassifier\n",
        "\n",
        "\n",
        "# Plot Theme\n",
        "sns.set_style(\"darkgrid\")\n",
        "plt.style.use(\"seaborn-deep\")"
      ]
    },
    {
      "cell_type": "markdown",
      "metadata": {
        "id": "v7R4pisEJMl9"
      },
      "source": [
        "### **Load the data**"
      ]
    },
    {
      "cell_type": "code",
      "execution_count": 38,
      "metadata": {
        "id": "iouBu3zQJLrA"
      },
      "outputs": [],
      "source": [
        "data = pd.read_csv(\"Diabetes Multi-Class.csv\", sep=';', on_bad_lines='skip')"
      ]
    },
    {
      "cell_type": "code",
      "execution_count": 39,
      "metadata": {
        "colab": {
          "base_uri": "https://localhost:8080/",
          "height": 235
        },
        "id": "dvMhcVsJJLvl",
        "outputId": "04914ca2-9fb8-423e-ec4c-3e9f3baff1c8"
      },
      "outputs": [
        {
          "output_type": "execute_result",
          "data": {
            "text/plain": [
              "   Patient  Diabetes_012  HighBP  HighChol  CholCheck   BMI  Smoker  Stroke  \\\n",
              "0        1           0.0     1.0       1.0        1.0  40.0     1.0     0.0   \n",
              "1        2           0.0     0.0       0.0        0.0  25.0     1.0     0.0   \n",
              "2        3           0.0     1.0       1.0        1.0  28.0     0.0     0.0   \n",
              "3        4           0.0     1.0       0.0        1.0  27.0     0.0     0.0   \n",
              "4        5           0.0     1.0       1.0        1.0  24.0     0.0     0.0   \n",
              "\n",
              "   HeartDiseaseorAttack  PhysActivity  ...  AnyHealthcare  NoDocbcCost  \\\n",
              "0                   0.0           0.0  ...            1.0          0.0   \n",
              "1                   0.0           1.0  ...            0.0          1.0   \n",
              "2                   0.0           0.0  ...            1.0          1.0   \n",
              "3                   0.0           1.0  ...            1.0          0.0   \n",
              "4                   0.0           1.0  ...            1.0          0.0   \n",
              "\n",
              "   GenHlth  MentHlth  PhysHlth  DiffWalk  Sex   Age  Education  Income  \n",
              "0      5.0      18.0      15.0       1.0  0.0   9.0        4.0     3.0  \n",
              "1      3.0       0.0       0.0       0.0  0.0   7.0        6.0     1.0  \n",
              "2      5.0      30.0      30.0       1.0  0.0   9.0        4.0     8.0  \n",
              "3      2.0       0.0       0.0       0.0  0.0  11.0        3.0     6.0  \n",
              "4      2.0       3.0       0.0       0.0  0.0  11.0        5.0     4.0  \n",
              "\n",
              "[5 rows x 23 columns]"
            ],
            "text/html": [
              "\n",
              "  <div id=\"df-1496c7f7-faca-43a6-a0e7-5b05edd709ac\" class=\"colab-df-container\">\n",
              "    <div>\n",
              "<style scoped>\n",
              "    .dataframe tbody tr th:only-of-type {\n",
              "        vertical-align: middle;\n",
              "    }\n",
              "\n",
              "    .dataframe tbody tr th {\n",
              "        vertical-align: top;\n",
              "    }\n",
              "\n",
              "    .dataframe thead th {\n",
              "        text-align: right;\n",
              "    }\n",
              "</style>\n",
              "<table border=\"1\" class=\"dataframe\">\n",
              "  <thead>\n",
              "    <tr style=\"text-align: right;\">\n",
              "      <th></th>\n",
              "      <th>Patient</th>\n",
              "      <th>Diabetes_012</th>\n",
              "      <th>HighBP</th>\n",
              "      <th>HighChol</th>\n",
              "      <th>CholCheck</th>\n",
              "      <th>BMI</th>\n",
              "      <th>Smoker</th>\n",
              "      <th>Stroke</th>\n",
              "      <th>HeartDiseaseorAttack</th>\n",
              "      <th>PhysActivity</th>\n",
              "      <th>...</th>\n",
              "      <th>AnyHealthcare</th>\n",
              "      <th>NoDocbcCost</th>\n",
              "      <th>GenHlth</th>\n",
              "      <th>MentHlth</th>\n",
              "      <th>PhysHlth</th>\n",
              "      <th>DiffWalk</th>\n",
              "      <th>Sex</th>\n",
              "      <th>Age</th>\n",
              "      <th>Education</th>\n",
              "      <th>Income</th>\n",
              "    </tr>\n",
              "  </thead>\n",
              "  <tbody>\n",
              "    <tr>\n",
              "      <th>0</th>\n",
              "      <td>1</td>\n",
              "      <td>0.0</td>\n",
              "      <td>1.0</td>\n",
              "      <td>1.0</td>\n",
              "      <td>1.0</td>\n",
              "      <td>40.0</td>\n",
              "      <td>1.0</td>\n",
              "      <td>0.0</td>\n",
              "      <td>0.0</td>\n",
              "      <td>0.0</td>\n",
              "      <td>...</td>\n",
              "      <td>1.0</td>\n",
              "      <td>0.0</td>\n",
              "      <td>5.0</td>\n",
              "      <td>18.0</td>\n",
              "      <td>15.0</td>\n",
              "      <td>1.0</td>\n",
              "      <td>0.0</td>\n",
              "      <td>9.0</td>\n",
              "      <td>4.0</td>\n",
              "      <td>3.0</td>\n",
              "    </tr>\n",
              "    <tr>\n",
              "      <th>1</th>\n",
              "      <td>2</td>\n",
              "      <td>0.0</td>\n",
              "      <td>0.0</td>\n",
              "      <td>0.0</td>\n",
              "      <td>0.0</td>\n",
              "      <td>25.0</td>\n",
              "      <td>1.0</td>\n",
              "      <td>0.0</td>\n",
              "      <td>0.0</td>\n",
              "      <td>1.0</td>\n",
              "      <td>...</td>\n",
              "      <td>0.0</td>\n",
              "      <td>1.0</td>\n",
              "      <td>3.0</td>\n",
              "      <td>0.0</td>\n",
              "      <td>0.0</td>\n",
              "      <td>0.0</td>\n",
              "      <td>0.0</td>\n",
              "      <td>7.0</td>\n",
              "      <td>6.0</td>\n",
              "      <td>1.0</td>\n",
              "    </tr>\n",
              "    <tr>\n",
              "      <th>2</th>\n",
              "      <td>3</td>\n",
              "      <td>0.0</td>\n",
              "      <td>1.0</td>\n",
              "      <td>1.0</td>\n",
              "      <td>1.0</td>\n",
              "      <td>28.0</td>\n",
              "      <td>0.0</td>\n",
              "      <td>0.0</td>\n",
              "      <td>0.0</td>\n",
              "      <td>0.0</td>\n",
              "      <td>...</td>\n",
              "      <td>1.0</td>\n",
              "      <td>1.0</td>\n",
              "      <td>5.0</td>\n",
              "      <td>30.0</td>\n",
              "      <td>30.0</td>\n",
              "      <td>1.0</td>\n",
              "      <td>0.0</td>\n",
              "      <td>9.0</td>\n",
              "      <td>4.0</td>\n",
              "      <td>8.0</td>\n",
              "    </tr>\n",
              "    <tr>\n",
              "      <th>3</th>\n",
              "      <td>4</td>\n",
              "      <td>0.0</td>\n",
              "      <td>1.0</td>\n",
              "      <td>0.0</td>\n",
              "      <td>1.0</td>\n",
              "      <td>27.0</td>\n",
              "      <td>0.0</td>\n",
              "      <td>0.0</td>\n",
              "      <td>0.0</td>\n",
              "      <td>1.0</td>\n",
              "      <td>...</td>\n",
              "      <td>1.0</td>\n",
              "      <td>0.0</td>\n",
              "      <td>2.0</td>\n",
              "      <td>0.0</td>\n",
              "      <td>0.0</td>\n",
              "      <td>0.0</td>\n",
              "      <td>0.0</td>\n",
              "      <td>11.0</td>\n",
              "      <td>3.0</td>\n",
              "      <td>6.0</td>\n",
              "    </tr>\n",
              "    <tr>\n",
              "      <th>4</th>\n",
              "      <td>5</td>\n",
              "      <td>0.0</td>\n",
              "      <td>1.0</td>\n",
              "      <td>1.0</td>\n",
              "      <td>1.0</td>\n",
              "      <td>24.0</td>\n",
              "      <td>0.0</td>\n",
              "      <td>0.0</td>\n",
              "      <td>0.0</td>\n",
              "      <td>1.0</td>\n",
              "      <td>...</td>\n",
              "      <td>1.0</td>\n",
              "      <td>0.0</td>\n",
              "      <td>2.0</td>\n",
              "      <td>3.0</td>\n",
              "      <td>0.0</td>\n",
              "      <td>0.0</td>\n",
              "      <td>0.0</td>\n",
              "      <td>11.0</td>\n",
              "      <td>5.0</td>\n",
              "      <td>4.0</td>\n",
              "    </tr>\n",
              "  </tbody>\n",
              "</table>\n",
              "<p>5 rows × 23 columns</p>\n",
              "</div>\n",
              "    <div class=\"colab-df-buttons\">\n",
              "\n",
              "  <div class=\"colab-df-container\">\n",
              "    <button class=\"colab-df-convert\" onclick=\"convertToInteractive('df-1496c7f7-faca-43a6-a0e7-5b05edd709ac')\"\n",
              "            title=\"Convert this dataframe to an interactive table.\"\n",
              "            style=\"display:none;\">\n",
              "\n",
              "  <svg xmlns=\"http://www.w3.org/2000/svg\" height=\"24px\" viewBox=\"0 -960 960 960\">\n",
              "    <path d=\"M120-120v-720h720v720H120Zm60-500h600v-160H180v160Zm220 220h160v-160H400v160Zm0 220h160v-160H400v160ZM180-400h160v-160H180v160Zm440 0h160v-160H620v160ZM180-180h160v-160H180v160Zm440 0h160v-160H620v160Z\"/>\n",
              "  </svg>\n",
              "    </button>\n",
              "\n",
              "  <style>\n",
              "    .colab-df-container {\n",
              "      display:flex;\n",
              "      gap: 12px;\n",
              "    }\n",
              "\n",
              "    .colab-df-convert {\n",
              "      background-color: #E8F0FE;\n",
              "      border: none;\n",
              "      border-radius: 50%;\n",
              "      cursor: pointer;\n",
              "      display: none;\n",
              "      fill: #1967D2;\n",
              "      height: 32px;\n",
              "      padding: 0 0 0 0;\n",
              "      width: 32px;\n",
              "    }\n",
              "\n",
              "    .colab-df-convert:hover {\n",
              "      background-color: #E2EBFA;\n",
              "      box-shadow: 0px 1px 2px rgba(60, 64, 67, 0.3), 0px 1px 3px 1px rgba(60, 64, 67, 0.15);\n",
              "      fill: #174EA6;\n",
              "    }\n",
              "\n",
              "    .colab-df-buttons div {\n",
              "      margin-bottom: 4px;\n",
              "    }\n",
              "\n",
              "    [theme=dark] .colab-df-convert {\n",
              "      background-color: #3B4455;\n",
              "      fill: #D2E3FC;\n",
              "    }\n",
              "\n",
              "    [theme=dark] .colab-df-convert:hover {\n",
              "      background-color: #434B5C;\n",
              "      box-shadow: 0px 1px 3px 1px rgba(0, 0, 0, 0.15);\n",
              "      filter: drop-shadow(0px 1px 2px rgba(0, 0, 0, 0.3));\n",
              "      fill: #FFFFFF;\n",
              "    }\n",
              "  </style>\n",
              "\n",
              "    <script>\n",
              "      const buttonEl =\n",
              "        document.querySelector('#df-1496c7f7-faca-43a6-a0e7-5b05edd709ac button.colab-df-convert');\n",
              "      buttonEl.style.display =\n",
              "        google.colab.kernel.accessAllowed ? 'block' : 'none';\n",
              "\n",
              "      async function convertToInteractive(key) {\n",
              "        const element = document.querySelector('#df-1496c7f7-faca-43a6-a0e7-5b05edd709ac');\n",
              "        const dataTable =\n",
              "          await google.colab.kernel.invokeFunction('convertToInteractive',\n",
              "                                                    [key], {});\n",
              "        if (!dataTable) return;\n",
              "\n",
              "        const docLinkHtml = 'Like what you see? Visit the ' +\n",
              "          '<a target=\"_blank\" href=https://colab.research.google.com/notebooks/data_table.ipynb>data table notebook</a>'\n",
              "          + ' to learn more about interactive tables.';\n",
              "        element.innerHTML = '';\n",
              "        dataTable['output_type'] = 'display_data';\n",
              "        await google.colab.output.renderOutput(dataTable, element);\n",
              "        const docLink = document.createElement('div');\n",
              "        docLink.innerHTML = docLinkHtml;\n",
              "        element.appendChild(docLink);\n",
              "      }\n",
              "    </script>\n",
              "  </div>\n",
              "\n",
              "\n",
              "<div id=\"df-fd5e21d4-5b05-465d-a0b7-6f1d47d7d685\">\n",
              "  <button class=\"colab-df-quickchart\" onclick=\"quickchart('df-fd5e21d4-5b05-465d-a0b7-6f1d47d7d685')\"\n",
              "            title=\"Suggest charts.\"\n",
              "            style=\"display:none;\">\n",
              "\n",
              "<svg xmlns=\"http://www.w3.org/2000/svg\" height=\"24px\"viewBox=\"0 0 24 24\"\n",
              "     width=\"24px\">\n",
              "    <g>\n",
              "        <path d=\"M19 3H5c-1.1 0-2 .9-2 2v14c0 1.1.9 2 2 2h14c1.1 0 2-.9 2-2V5c0-1.1-.9-2-2-2zM9 17H7v-7h2v7zm4 0h-2V7h2v10zm4 0h-2v-4h2v4z\"/>\n",
              "    </g>\n",
              "</svg>\n",
              "  </button>\n",
              "\n",
              "<style>\n",
              "  .colab-df-quickchart {\n",
              "    background-color: #E8F0FE;\n",
              "    border: none;\n",
              "    border-radius: 50%;\n",
              "    cursor: pointer;\n",
              "    display: none;\n",
              "    fill: #1967D2;\n",
              "    height: 32px;\n",
              "    padding: 0 0 0 0;\n",
              "    width: 32px;\n",
              "  }\n",
              "\n",
              "  .colab-df-quickchart:hover {\n",
              "    background-color: #E2EBFA;\n",
              "    box-shadow: 0px 1px 2px rgba(60, 64, 67, 0.3), 0px 1px 3px 1px rgba(60, 64, 67, 0.15);\n",
              "    fill: #174EA6;\n",
              "  }\n",
              "\n",
              "  [theme=dark] .colab-df-quickchart {\n",
              "    background-color: #3B4455;\n",
              "    fill: #D2E3FC;\n",
              "  }\n",
              "\n",
              "  [theme=dark] .colab-df-quickchart:hover {\n",
              "    background-color: #434B5C;\n",
              "    box-shadow: 0px 1px 3px 1px rgba(0, 0, 0, 0.15);\n",
              "    filter: drop-shadow(0px 1px 2px rgba(0, 0, 0, 0.3));\n",
              "    fill: #FFFFFF;\n",
              "  }\n",
              "</style>\n",
              "\n",
              "  <script>\n",
              "    async function quickchart(key) {\n",
              "      const charts = await google.colab.kernel.invokeFunction(\n",
              "          'suggestCharts', [key], {});\n",
              "    }\n",
              "    (() => {\n",
              "      let quickchartButtonEl =\n",
              "        document.querySelector('#df-fd5e21d4-5b05-465d-a0b7-6f1d47d7d685 button');\n",
              "      quickchartButtonEl.style.display =\n",
              "        google.colab.kernel.accessAllowed ? 'block' : 'none';\n",
              "    })();\n",
              "  </script>\n",
              "</div>\n",
              "    </div>\n",
              "  </div>\n"
            ]
          },
          "metadata": {},
          "execution_count": 39
        }
      ],
      "source": [
        "data.head()"
      ]
    },
    {
      "cell_type": "code",
      "execution_count": 40,
      "metadata": {
        "colab": {
          "base_uri": "https://localhost:8080/"
        },
        "id": "n4R3e42iJzR9",
        "outputId": "c50f2c19-89c5-4c6f-9074-0eb317e44e12"
      },
      "outputs": [
        {
          "output_type": "execute_result",
          "data": {
            "text/plain": [
              "(10000, 23)"
            ]
          },
          "metadata": {},
          "execution_count": 40
        }
      ],
      "source": [
        "data.shape"
      ]
    },
    {
      "cell_type": "code",
      "execution_count": 41,
      "metadata": {
        "colab": {
          "base_uri": "https://localhost:8080/"
        },
        "id": "fFCVDkB_NbBA",
        "outputId": "8bf895ba-04cf-4eee-866d-862b3438a3b1"
      },
      "outputs": [
        {
          "output_type": "stream",
          "name": "stdout",
          "text": [
            "<class 'pandas.core.frame.DataFrame'>\n",
            "RangeIndex: 10000 entries, 0 to 9999\n",
            "Data columns (total 23 columns):\n",
            " #   Column                Non-Null Count  Dtype  \n",
            "---  ------                --------------  -----  \n",
            " 0   Patient               10000 non-null  int64  \n",
            " 1   Diabetes_012          10000 non-null  float64\n",
            " 2   HighBP                10000 non-null  float64\n",
            " 3   HighChol              10000 non-null  float64\n",
            " 4   CholCheck             10000 non-null  float64\n",
            " 5   BMI                   10000 non-null  float64\n",
            " 6   Smoker                10000 non-null  float64\n",
            " 7   Stroke                10000 non-null  float64\n",
            " 8   HeartDiseaseorAttack  10000 non-null  float64\n",
            " 9   PhysActivity          10000 non-null  float64\n",
            " 10  Fruits                10000 non-null  float64\n",
            " 11  Veggies               10000 non-null  float64\n",
            " 12  HvyAlcoholConsump     10000 non-null  float64\n",
            " 13  AnyHealthcare         10000 non-null  float64\n",
            " 14  NoDocbcCost           10000 non-null  float64\n",
            " 15  GenHlth               10000 non-null  float64\n",
            " 16  MentHlth              10000 non-null  float64\n",
            " 17  PhysHlth              10000 non-null  float64\n",
            " 18  DiffWalk              10000 non-null  float64\n",
            " 19  Sex                   10000 non-null  float64\n",
            " 20  Age                   10000 non-null  float64\n",
            " 21  Education             10000 non-null  float64\n",
            " 22  Income                10000 non-null  float64\n",
            "dtypes: float64(22), int64(1)\n",
            "memory usage: 1.8 MB\n"
          ]
        }
      ],
      "source": [
        "data.info()"
      ]
    },
    {
      "cell_type": "markdown",
      "metadata": {
        "id": "95fWaYUYNgC_"
      },
      "source": [
        "**Drop null from target var, and Convert data to Float**"
      ]
    },
    {
      "cell_type": "code",
      "execution_count": 42,
      "metadata": {
        "colab": {
          "base_uri": "https://localhost:8080/"
        },
        "id": "KOfyp5gTNfUe",
        "outputId": "330374c6-8f1d-48e6-f60f-fa7ad49ee208"
      },
      "outputs": [
        {
          "output_type": "stream",
          "name": "stdout",
          "text": [
            "<class 'pandas.core.frame.DataFrame'>\n",
            "RangeIndex: 10000 entries, 0 to 9999\n",
            "Data columns (total 22 columns):\n",
            " #   Column                Non-Null Count  Dtype  \n",
            "---  ------                --------------  -----  \n",
            " 0   Diabetes_012          10000 non-null  float64\n",
            " 1   HighBP                10000 non-null  float64\n",
            " 2   HighChol              10000 non-null  float64\n",
            " 3   CholCheck             10000 non-null  float64\n",
            " 4   BMI                   10000 non-null  float64\n",
            " 5   Smoker                10000 non-null  float64\n",
            " 6   Stroke                10000 non-null  float64\n",
            " 7   HeartDiseaseorAttack  10000 non-null  float64\n",
            " 8   PhysActivity          10000 non-null  float64\n",
            " 9   Fruits                10000 non-null  float64\n",
            " 10  Veggies               10000 non-null  float64\n",
            " 11  HvyAlcoholConsump     10000 non-null  float64\n",
            " 12  AnyHealthcare         10000 non-null  float64\n",
            " 13  NoDocbcCost           10000 non-null  float64\n",
            " 14  GenHlth               10000 non-null  float64\n",
            " 15  MentHlth              10000 non-null  float64\n",
            " 16  PhysHlth              10000 non-null  float64\n",
            " 17  DiffWalk              10000 non-null  float64\n",
            " 18  Sex                   10000 non-null  float64\n",
            " 19  Age                   10000 non-null  float64\n",
            " 20  Education             10000 non-null  float64\n",
            " 21  Income                10000 non-null  float64\n",
            "dtypes: float64(22)\n",
            "memory usage: 1.7 MB\n"
          ]
        }
      ],
      "source": [
        "data = data.drop([\"Patient\"], axis=1)\n",
        "data = data.dropna()\n",
        "\n",
        "# Convert all columns to int data type\n",
        "for column in data.columns:\n",
        "    data[column] = data[column].astype('float')\n",
        "\n",
        "data.info()"
      ]
    },
    {
      "cell_type": "markdown",
      "metadata": {
        "id": "2YSMJYxNVvhP"
      },
      "source": [
        "### **Class Distribution**"
      ]
    },
    {
      "cell_type": "markdown",
      "metadata": {
        "id": "Xeznh_XOO1mf"
      },
      "source": [
        "**Explore the class distribution**"
      ]
    },
    {
      "cell_type": "code",
      "execution_count": 43,
      "metadata": {
        "colab": {
          "base_uri": "https://localhost:8080/"
        },
        "id": "sKD6zX7vO1D3",
        "outputId": "0d899e65-fce3-4caf-bf07-873f38f8ff6f"
      },
      "outputs": [
        {
          "output_type": "stream",
          "name": "stdout",
          "text": [
            "0.0    8216\n",
            "2.0    1606\n",
            "1.0     178\n",
            "Name: Diabetes_012, dtype: int64\n"
          ]
        }
      ],
      "source": [
        "class_counts = data['Diabetes_012'].value_counts()\n",
        "print(class_counts)"
      ]
    },
    {
      "cell_type": "markdown",
      "metadata": {
        "id": "Li4Jrv36O90o"
      },
      "source": [
        "**Visualize the class distribution**"
      ]
    },
    {
      "cell_type": "code",
      "execution_count": 44,
      "metadata": {
        "colab": {
          "base_uri": "https://localhost:8080/",
          "height": 472
        },
        "id": "Mc06RoxFO-sf",
        "outputId": "2758d35a-2d46-489f-bd11-33e6ce7b5d33"
      },
      "outputs": [
        {
          "output_type": "display_data",
          "data": {
            "text/plain": [
              "<Figure size 640x480 with 1 Axes>"
            ],
            "image/png": "[encoded data removed]"
          },
          "metadata": {}
        }
      ],
      "source": [
        "# Create a copy of the original dataset\n",
        "new_data = data.copy()\n",
        "\n",
        "mh_mapping = {0.0: 'No Diabetes', 1.0: 'Prediabetes', 2.0: 'Diabetes'}\n",
        "new_data['dhi_label'] = new_data['Diabetes_012'].map(mh_mapping)\n",
        "\n",
        "# Plot the distribution based on the new dataset\n",
        "sns.countplot(data=new_data, x='dhi_label')\n",
        "plt.xlabel('Diabetes Status')\n",
        "plt.ylabel('Count')\n",
        "plt.title('Diabetes Class Distribution')\n",
        "plt.show()"
      ]
    },
    {
      "cell_type": "markdown",
      "metadata": {
        "id": "i8lEj_EfV4Ck"
      },
      "source": [
        "### **Standardizing**"
      ]
    },
    {
      "cell_type": "code",
      "execution_count": 45,
      "metadata": {
        "id": "TJgESC9BQR2p"
      },
      "outputs": [],
      "source": [
        "data_x = data.drop([\"Diabetes_012\"], axis=1)\n",
        "data_y = data['Diabetes_012']"
      ]
    },
    {
      "cell_type": "code",
      "execution_count": 46,
      "metadata": {
        "colab": {
          "base_uri": "https://localhost:8080/",
          "height": 991
        },
        "id": "3lK2Jd10QHTj",
        "outputId": "a3a87ef5-690a-4a22-85e9-5d8f6195a0bc"
      },
      "outputs": [
        {
          "output_type": "display_data",
          "data": {
            "text/plain": [
              "<Figure size 2000x1000 with 1 Axes>"
            ],
            "image/png": "[encoded data removed]"
          },
          "metadata": {}
        }
      ],
      "source": [
        "plt.figure(figsize=(20,10))\n",
        "data_x.boxplot()\n",
        "plt.xticks(rotation=90)\n",
        "plt.title(\"Distribution of the values ​​of all Features\")\n",
        "plt.show()"
      ]
    },
    {
      "cell_type": "markdown",
      "metadata": {
        "id": "FhQGJTRLSMgd"
      },
      "source": [
        "- *We observe a large Scale difference between variables. We need to standardize them to avoid those with large scales wrongly have too much weight in the calculations.*\n",
        "\n",
        "- *Standardizing a dataset is necessary in several situations to ensure fair and meaningful comparisons and analyses*\n",
        "\n",
        "\n",
        "- *PCA aims to capture the most variance in the data. If features are on different scales, those with larger scales will contribute more to the variance, potentially overshadowing important patterns present in smaller-scaled features.*\n",
        "\n",
        "- *Standardization can indeed be beneficial in this situation. Applying a StandardScaler is a common preprocessing step before using dimensionality reduction techniques.*\n",
        "\n",
        "1. **Standardization Purpose:**\n",
        "\n",
        "  *Standardization (or z-score normalization) transforms the features in a way that they have a mean of 0 and a standard deviation of 1. This process helps when features are on different scales, as some dimensionality reduction techniques, like PCA, are sensitive to the scale of the data.*\n",
        "\n",
        "2. **Application of StandardScaler:**\n",
        "\n",
        "  *It's generally a good practice to apply the StandardScaler to all features in your dataset, especially if there are large scale differences between them. This ensures that all features are on a similar scale, which can prevent certain features from dominating the dimensionality reduction process simply due to their larger values.*\n",
        "\n",
        "*Applying the StandardScaler to all features in your diabetes dataset is a wise choice. This will help ensure that your dimensionality reduction techniques and ensemble methods perform consistently and effectively across all features, regardless of their scale differences.*\n",
        "\n"
      ]
    },
    {
      "cell_type": "markdown",
      "metadata": {
        "id": "Uvhrh-4STq8S"
      },
      "source": [
        "**Standardize the feature columns**"
      ]
    },
    {
      "cell_type": "code",
      "execution_count": 47,
      "metadata": {
        "id": "kmxFRDzNS5ku"
      },
      "outputs": [],
      "source": [
        "scaler = StandardScaler()\n",
        "standardized_features = scaler.fit_transform(data_x)\n",
        "\n",
        "# Convert the standardized features back to a DataFrame\n",
        "std_data = pd.DataFrame(standardized_features, columns=data_x.columns)"
      ]
    },
    {
      "cell_type": "code",
      "execution_count": 48,
      "metadata": {
        "colab": {
          "base_uri": "https://localhost:8080/",
          "height": 255
        },
        "id": "nB7J_K-hTCz6",
        "outputId": "cdb1dff3-0706-44be-c6c8-e228ed4eb1f4"
      },
      "outputs": [
        {
          "output_type": "execute_result",
          "data": {
            "text/plain": [
              "     HighBP  HighChol  CholCheck       BMI    Smoker    Stroke  \\\n",
              "0  1.078036  1.106883   0.200913  1.804549  1.102643 -0.221828   \n",
              "1 -0.927613 -0.903438  -4.977268 -0.564994  1.102643 -0.221828   \n",
              "2  1.078036  1.106883   0.200913 -0.091085 -0.906912 -0.221828   \n",
              "3  1.078036 -0.903438   0.200913 -0.249055 -0.906912 -0.221828   \n",
              "4  1.078036  1.106883   0.200913 -0.722963 -0.906912 -0.221828   \n",
              "\n",
              "   HeartDiseaseorAttack  PhysActivity    Fruits   Veggies  ...  AnyHealthcare  \\\n",
              "0             -0.335182     -1.701646 -1.235011  0.494682  ...       0.253317   \n",
              "1             -0.335182      0.587666 -1.235011 -2.021502  ...      -3.947626   \n",
              "2             -0.335182     -1.701646  0.809709 -2.021502  ...       0.253317   \n",
              "3             -0.335182      0.587666  0.809709  0.494682  ...       0.253317   \n",
              "4             -0.335182      0.587666  0.809709  0.494682  ...       0.253317   \n",
              "\n",
              "   NoDocbcCost   GenHlth  MentHlth  PhysHlth  DiffWalk       Sex       Age  \\\n",
              "0    -0.346514  2.174080  1.844705  1.113405  2.027924 -0.846952  0.295347   \n",
              "1     2.885890  0.362875 -0.450228 -0.519345 -0.493115 -0.846952 -0.372028   \n",
              "2     2.885890  2.174080  3.374660  2.746156  2.027924 -0.846952  0.295347   \n",
              "3    -0.346514 -0.542728 -0.450228 -0.519345 -0.493115 -0.846952  0.962722   \n",
              "4    -0.346514 -0.542728 -0.067739 -0.519345 -0.493115 -0.846952  0.962722   \n",
              "\n",
              "   Education    Income  \n",
              "0  -1.012157 -1.372912  \n",
              "1   0.999484 -2.313455  \n",
              "2  -1.012157  0.978448  \n",
              "3  -2.017977  0.037904  \n",
              "4  -0.006337 -0.902640  \n",
              "\n",
              "[5 rows x 21 columns]"
            ],
            "text/html": [
              "\n",
              "  <div id=\"df-922feb69-ffee-4dd0-bf2c-e39f747fa7ab\" class=\"colab-df-container\">\n",
              "    <div>\n",
              "<style scoped>\n",
              "    .dataframe tbody tr th:only-of-type {\n",
              "        vertical-align: middle;\n",
              "    }\n",
              "\n",
              "    .dataframe tbody tr th {\n",
              "        vertical-align: top;\n",
              "    }\n",
              "\n",
              "    .dataframe thead th {\n",
              "        text-align: right;\n",
              "    }\n",
              "</style>\n",
              "<table border=\"1\" class=\"dataframe\">\n",
              "  <thead>\n",
              "    <tr style=\"text-align: right;\">\n",
              "      <th></th>\n",
              "      <th>HighBP</th>\n",
              "      <th>HighChol</th>\n",
              "      <th>CholCheck</th>\n",
              "      <th>BMI</th>\n",
              "      <th>Smoker</th>\n",
              "      <th>Stroke</th>\n",
              "      <th>HeartDiseaseorAttack</th>\n",
              "      <th>PhysActivity</th>\n",
              "      <th>Fruits</th>\n",
              "      <th>Veggies</th>\n",
              "      <th>...</th>\n",
              "      <th>AnyHealthcare</th>\n",
              "      <th>NoDocbcCost</th>\n",
              "      <th>GenHlth</th>\n",
              "      <th>MentHlth</th>\n",
              "      <th>PhysHlth</th>\n",
              "      <th>DiffWalk</th>\n",
              "      <th>Sex</th>\n",
              "      <th>Age</th>\n",
              "      <th>Education</th>\n",
              "      <th>Income</th>\n",
              "    </tr>\n",
              "  </thead>\n",
              "  <tbody>\n",
              "    <tr>\n",
              "      <th>0</th>\n",
              "      <td>1.078036</td>\n",
              "      <td>1.106883</td>\n",
              "      <td>0.200913</td>\n",
              "      <td>1.804549</td>\n",
              "      <td>1.102643</td>\n",
              "      <td>-0.221828</td>\n",
              "      <td>-0.335182</td>\n",
              "      <td>-1.701646</td>\n",
              "      <td>-1.235011</td>\n",
              "      <td>0.494682</td>\n",
              "      <td>...</td>\n",
              "      <td>0.253317</td>\n",
              "      <td>-0.346514</td>\n",
              "      <td>2.174080</td>\n",
              "      <td>1.844705</td>\n",
              "      <td>1.113405</td>\n",
              "      <td>2.027924</td>\n",
              "      <td>-0.846952</td>\n",
              "      <td>0.295347</td>\n",
              "      <td>-1.012157</td>\n",
              "      <td>-1.372912</td>\n",
              "    </tr>\n",
              "    <tr>\n",
              "      <th>1</th>\n",
              "      <td>-0.927613</td>\n",
              "      <td>-0.903438</td>\n",
              "      <td>-4.977268</td>\n",
              "      <td>-0.564994</td>\n",
              "      <td>1.102643</td>\n",
              "      <td>-0.221828</td>\n",
              "      <td>-0.335182</td>\n",
              "      <td>0.587666</td>\n",
              "      <td>-1.235011</td>\n",
              "      <td>-2.021502</td>\n",
              "      <td>...</td>\n",
              "      <td>-3.947626</td>\n",
              "      <td>2.885890</td>\n",
              "      <td>0.362875</td>\n",
              "      <td>-0.450228</td>\n",
              "      <td>-0.519345</td>\n",
              "      <td>-0.493115</td>\n",
              "      <td>-0.846952</td>\n",
              "      <td>-0.372028</td>\n",
              "      <td>0.999484</td>\n",
              "      <td>-2.313455</td>\n",
              "    </tr>\n",
              "    <tr>\n",
              "      <th>2</th>\n",
              "      <td>1.078036</td>\n",
              "      <td>1.106883</td>\n",
              "      <td>0.200913</td>\n",
              "      <td>-0.091085</td>\n",
              "      <td>-0.906912</td>\n",
              "      <td>-0.221828</td>\n",
              "      <td>-0.335182</td>\n",
              "      <td>-1.701646</td>\n",
              "      <td>0.809709</td>\n",
              "      <td>-2.021502</td>\n",
              "      <td>...</td>\n",
              "      <td>0.253317</td>\n",
              "      <td>2.885890</td>\n",
              "      <td>2.174080</td>\n",
              "      <td>3.374660</td>\n",
              "      <td>2.746156</td>\n",
              "      <td>2.027924</td>\n",
              "      <td>-0.846952</td>\n",
              "      <td>0.295347</td>\n",
              "      <td>-1.012157</td>\n",
              "      <td>0.978448</td>\n",
              "    </tr>\n",
              "    <tr>\n",
              "      <th>3</th>\n",
              "      <td>1.078036</td>\n",
              "      <td>-0.903438</td>\n",
              "      <td>0.200913</td>\n",
              "      <td>-0.249055</td>\n",
              "      <td>-0.906912</td>\n",
              "      <td>-0.221828</td>\n",
              "      <td>-0.335182</td>\n",
              "      <td>0.587666</td>\n",
              "      <td>0.809709</td>\n",
              "      <td>0.494682</td>\n",
              "      <td>...</td>\n",
              "      <td>0.253317</td>\n",
              "      <td>-0.346514</td>\n",
              "      <td>-0.542728</td>\n",
              "      <td>-0.450228</td>\n",
              "      <td>-0.519345</td>\n",
              "      <td>-0.493115</td>\n",
              "      <td>-0.846952</td>\n",
              "      <td>0.962722</td>\n",
              "      <td>-2.017977</td>\n",
              "      <td>0.037904</td>\n",
              "    </tr>\n",
              "    <tr>\n",
              "      <th>4</th>\n",
              "      <td>1.078036</td>\n",
              "      <td>1.106883</td>\n",
              "      <td>0.200913</td>\n",
              "      <td>-0.722963</td>\n",
              "      <td>-0.906912</td>\n",
              "      <td>-0.221828</td>\n",
              "      <td>-0.335182</td>\n",
              "      <td>0.587666</td>\n",
              "      <td>0.809709</td>\n",
              "      <td>0.494682</td>\n",
              "      <td>...</td>\n",
              "      <td>0.253317</td>\n",
              "      <td>-0.346514</td>\n",
              "      <td>-0.542728</td>\n",
              "      <td>-0.067739</td>\n",
              "      <td>-0.519345</td>\n",
              "      <td>-0.493115</td>\n",
              "      <td>-0.846952</td>\n",
              "      <td>0.962722</td>\n",
              "      <td>-0.006337</td>\n",
              "      <td>-0.902640</td>\n",
              "    </tr>\n",
              "  </tbody>\n",
              "</table>\n",
              "<p>5 rows × 21 columns</p>\n",
              "</div>\n",
              "    <div class=\"colab-df-buttons\">\n",
              "\n",
              "  <div class=\"colab-df-container\">\n",
              "    <button class=\"colab-df-convert\" onclick=\"convertToInteractive('df-922feb69-ffee-4dd0-bf2c-e39f747fa7ab')\"\n",
              "            title=\"Convert this dataframe to an interactive table.\"\n",
              "            style=\"display:none;\">\n",
              "\n",
              "  <svg xmlns=\"http://www.w3.org/2000/svg\" height=\"24px\" viewBox=\"0 -960 960 960\">\n",
              "    <path d=\"M120-120v-720h720v720H120Zm60-500h600v-160H180v160Zm220 220h160v-160H400v160Zm0 220h160v-160H400v160ZM180-400h160v-160H180v160Zm440 0h160v-160H620v160ZM180-180h160v-160H180v160Zm440 0h160v-160H620v160Z\"/>\n",
              "  </svg>\n",
              "    </button>\n",
              "\n",
              "  <style>\n",
              "    .colab-df-container {\n",
              "      display:flex;\n",
              "      gap: 12px;\n",
              "    }\n",
              "\n",
              "    .colab-df-convert {\n",
              "      background-color: #E8F0FE;\n",
              "      border: none;\n",
              "      border-radius: 50%;\n",
              "      cursor: pointer;\n",
              "      display: none;\n",
              "      fill: #1967D2;\n",
              "      height: 32px;\n",
              "      padding: 0 0 0 0;\n",
              "      width: 32px;\n",
              "    }\n",
              "\n",
              "    .colab-df-convert:hover {\n",
              "      background-color: #E2EBFA;\n",
              "      box-shadow: 0px 1px 2px rgba(60, 64, 67, 0.3), 0px 1px 3px 1px rgba(60, 64, 67, 0.15);\n",
              "      fill: #174EA6;\n",
              "    }\n",
              "\n",
              "    .colab-df-buttons div {\n",
              "      margin-bottom: 4px;\n",
              "    }\n",
              "\n",
              "    [theme=dark] .colab-df-convert {\n",
              "      background-color: #3B4455;\n",
              "      fill: #D2E3FC;\n",
              "    }\n",
              "\n",
              "    [theme=dark] .colab-df-convert:hover {\n",
              "      background-color: #434B5C;\n",
              "      box-shadow: 0px 1px 3px 1px rgba(0, 0, 0, 0.15);\n",
              "      filter: drop-shadow(0px 1px 2px rgba(0, 0, 0, 0.3));\n",
              "      fill: #FFFFFF;\n",
              "    }\n",
              "  </style>\n",
              "\n",
              "    <script>\n",
              "      const buttonEl =\n",
              "        document.querySelector('#df-922feb69-ffee-4dd0-bf2c-e39f747fa7ab button.colab-df-convert');\n",
              "      buttonEl.style.display =\n",
              "        google.colab.kernel.accessAllowed ? 'block' : 'none';\n",
              "\n",
              "      async function convertToInteractive(key) {\n",
              "        const element = document.querySelector('#df-922feb69-ffee-4dd0-bf2c-e39f747fa7ab');\n",
              "        const dataTable =\n",
              "          await google.colab.kernel.invokeFunction('convertToInteractive',\n",
              "                                                    [key], {});\n",
              "        if (!dataTable) return;\n",
              "\n",
              "        const docLinkHtml = 'Like what you see? Visit the ' +\n",
              "          '<a target=\"_blank\" href=https://colab.research.google.com/notebooks/data_table.ipynb>data table notebook</a>'\n",
              "          + ' to learn more about interactive tables.';\n",
              "        element.innerHTML = '';\n",
              "        dataTable['output_type'] = 'display_data';\n",
              "        await google.colab.output.renderOutput(dataTable, element);\n",
              "        const docLink = document.createElement('div');\n",
              "        docLink.innerHTML = docLinkHtml;\n",
              "        element.appendChild(docLink);\n",
              "      }\n",
              "    </script>\n",
              "  </div>\n",
              "\n",
              "\n",
              "<div id=\"df-9982f478-08e6-4552-aea9-47fa8bbe5243\">\n",
              "  <button class=\"colab-df-quickchart\" onclick=\"quickchart('df-9982f478-08e6-4552-aea9-47fa8bbe5243')\"\n",
              "            title=\"Suggest charts.\"\n",
              "            style=\"display:none;\">\n",
              "\n",
              "<svg xmlns=\"http://www.w3.org/2000/svg\" height=\"24px\"viewBox=\"0 0 24 24\"\n",
              "     width=\"24px\">\n",
              "    <g>\n",
              "        <path d=\"M19 3H5c-1.1 0-2 .9-2 2v14c0 1.1.9 2 2 2h14c1.1 0 2-.9 2-2V5c0-1.1-.9-2-2-2zM9 17H7v-7h2v7zm4 0h-2V7h2v10zm4 0h-2v-4h2v4z\"/>\n",
              "    </g>\n",
              "</svg>\n",
              "  </button>\n",
              "\n",
              "<style>\n",
              "  .colab-df-quickchart {\n",
              "    background-color: #E8F0FE;\n",
              "    border: none;\n",
              "    border-radius: 50%;\n",
              "    cursor: pointer;\n",
              "    display: none;\n",
              "    fill: #1967D2;\n",
              "    height: 32px;\n",
              "    padding: 0 0 0 0;\n",
              "    width: 32px;\n",
              "  }\n",
              "\n",
              "  .colab-df-quickchart:hover {\n",
              "    background-color: #E2EBFA;\n",
              "    box-shadow: 0px 1px 2px rgba(60, 64, 67, 0.3), 0px 1px 3px 1px rgba(60, 64, 67, 0.15);\n",
              "    fill: #174EA6;\n",
              "  }\n",
              "\n",
              "  [theme=dark] .colab-df-quickchart {\n",
              "    background-color: #3B4455;\n",
              "    fill: #D2E3FC;\n",
              "  }\n",
              "\n",
              "  [theme=dark] .colab-df-quickchart:hover {\n",
              "    background-color: #434B5C;\n",
              "    box-shadow: 0px 1px 3px 1px rgba(0, 0, 0, 0.15);\n",
              "    filter: drop-shadow(0px 1px 2px rgba(0, 0, 0, 0.3));\n",
              "    fill: #FFFFFF;\n",
              "  }\n",
              "</style>\n",
              "\n",
              "  <script>\n",
              "    async function quickchart(key) {\n",
              "      const charts = await google.colab.kernel.invokeFunction(\n",
              "          'suggestCharts', [key], {});\n",
              "    }\n",
              "    (() => {\n",
              "      let quickchartButtonEl =\n",
              "        document.querySelector('#df-9982f478-08e6-4552-aea9-47fa8bbe5243 button');\n",
              "      quickchartButtonEl.style.display =\n",
              "        google.colab.kernel.accessAllowed ? 'block' : 'none';\n",
              "    })();\n",
              "  </script>\n",
              "</div>\n",
              "    </div>\n",
              "  </div>\n"
            ]
          },
          "metadata": {},
          "execution_count": 48
        }
      ],
      "source": [
        "std_data.head()"
      ]
    },
    {
      "cell_type": "markdown",
      "metadata": {
        "id": "x57BGUTgUaSr"
      },
      "source": [
        "**Marge the data back**"
      ]
    },
    {
      "cell_type": "code",
      "execution_count": 49,
      "metadata": {
        "id": "hJywI_VnUcda"
      },
      "outputs": [],
      "source": [
        "# Concatenate the standardized features with the target column\n",
        "std_df = pd.concat([std_data, data_y], axis=1)"
      ]
    },
    {
      "cell_type": "code",
      "execution_count": 50,
      "metadata": {
        "colab": {
          "base_uri": "https://localhost:8080/",
          "height": 255
        },
        "id": "-ezx6jc9UnVi",
        "outputId": "1109c0d1-89f5-46e8-d25e-e82b8c07ba61"
      },
      "outputs": [
        {
          "output_type": "execute_result",
          "data": {
            "text/plain": [
              "     HighBP  HighChol  CholCheck       BMI    Smoker    Stroke  \\\n",
              "0  1.078036  1.106883   0.200913  1.804549  1.102643 -0.221828   \n",
              "1 -0.927613 -0.903438  -4.977268 -0.564994  1.102643 -0.221828   \n",
              "2  1.078036  1.106883   0.200913 -0.091085 -0.906912 -0.221828   \n",
              "3  1.078036 -0.903438   0.200913 -0.249055 -0.906912 -0.221828   \n",
              "4  1.078036  1.106883   0.200913 -0.722963 -0.906912 -0.221828   \n",
              "\n",
              "   HeartDiseaseorAttack  PhysActivity    Fruits   Veggies  ...  NoDocbcCost  \\\n",
              "0             -0.335182     -1.701646 -1.235011  0.494682  ...    -0.346514   \n",
              "1             -0.335182      0.587666 -1.235011 -2.021502  ...     2.885890   \n",
              "2             -0.335182     -1.701646  0.809709 -2.021502  ...     2.885890   \n",
              "3             -0.335182      0.587666  0.809709  0.494682  ...    -0.346514   \n",
              "4             -0.335182      0.587666  0.809709  0.494682  ...    -0.346514   \n",
              "\n",
              "    GenHlth  MentHlth  PhysHlth  DiffWalk       Sex       Age  Education  \\\n",
              "0  2.174080  1.844705  1.113405  2.027924 -0.846952  0.295347  -1.012157   \n",
              "1  0.362875 -0.450228 -0.519345 -0.493115 -0.846952 -0.372028   0.999484   \n",
              "2  2.174080  3.374660  2.746156  2.027924 -0.846952  0.295347  -1.012157   \n",
              "3 -0.542728 -0.450228 -0.519345 -0.493115 -0.846952  0.962722  -2.017977   \n",
              "4 -0.542728 -0.067739 -0.519345 -0.493115 -0.846952  0.962722  -0.006337   \n",
              "\n",
              "     Income  Diabetes_012  \n",
              "0 -1.372912           0.0  \n",
              "1 -2.313455           0.0  \n",
              "2  0.978448           0.0  \n",
              "3  0.037904           0.0  \n",
              "4 -0.902640           0.0  \n",
              "\n",
              "[5 rows x 22 columns]"
            ],
            "text/html": [
              "\n",
              "  <div id=\"df-005726e4-9b5b-4bcd-b6f9-327c8c605ee5\" class=\"colab-df-container\">\n",
              "    <div>\n",
              "<style scoped>\n",
              "    .dataframe tbody tr th:only-of-type {\n",
              "        vertical-align: middle;\n",
              "    }\n",
              "\n",
              "    .dataframe tbody tr th {\n",
              "        vertical-align: top;\n",
              "    }\n",
              "\n",
              "    .dataframe thead th {\n",
              "        text-align: right;\n",
              "    }\n",
              "</style>\n",
              "<table border=\"1\" class=\"dataframe\">\n",
              "  <thead>\n",
              "    <tr style=\"text-align: right;\">\n",
              "      <th></th>\n",
              "      <th>HighBP</th>\n",
              "      <th>HighChol</th>\n",
              "      <th>CholCheck</th>\n",
              "      <th>BMI</th>\n",
              "      <th>Smoker</th>\n",
              "      <th>Stroke</th>\n",
              "      <th>HeartDiseaseorAttack</th>\n",
              "      <th>PhysActivity</th>\n",
              "      <th>Fruits</th>\n",
              "      <th>Veggies</th>\n",
              "      <th>...</th>\n",
              "      <th>NoDocbcCost</th>\n",
              "      <th>GenHlth</th>\n",
              "      <th>MentHlth</th>\n",
              "      <th>PhysHlth</th>\n",
              "      <th>DiffWalk</th>\n",
              "      <th>Sex</th>\n",
              "      <th>Age</th>\n",
              "      <th>Education</th>\n",
              "      <th>Income</th>\n",
              "      <th>Diabetes_012</th>\n",
              "    </tr>\n",
              "  </thead>\n",
              "  <tbody>\n",
              "    <tr>\n",
              "      <th>0</th>\n",
              "      <td>1.078036</td>\n",
              "      <td>1.106883</td>\n",
              "      <td>0.200913</td>\n",
              "      <td>1.804549</td>\n",
              "      <td>1.102643</td>\n",
              "      <td>-0.221828</td>\n",
              "      <td>-0.335182</td>\n",
              "      <td>-1.701646</td>\n",
              "      <td>-1.235011</td>\n",
              "      <td>0.494682</td>\n",
              "      <td>...</td>\n",
              "      <td>-0.346514</td>\n",
              "      <td>2.174080</td>\n",
              "      <td>1.844705</td>\n",
              "      <td>1.113405</td>\n",
              "      <td>2.027924</td>\n",
              "      <td>-0.846952</td>\n",
              "      <td>0.295347</td>\n",
              "      <td>-1.012157</td>\n",
              "      <td>-1.372912</td>\n",
              "      <td>0.0</td>\n",
              "    </tr>\n",
              "    <tr>\n",
              "      <th>1</th>\n",
              "      <td>-0.927613</td>\n",
              "      <td>-0.903438</td>\n",
              "      <td>-4.977268</td>\n",
              "      <td>-0.564994</td>\n",
              "      <td>1.102643</td>\n",
              "      <td>-0.221828</td>\n",
              "      <td>-0.335182</td>\n",
              "      <td>0.587666</td>\n",
              "      <td>-1.235011</td>\n",
              "      <td>-2.021502</td>\n",
              "      <td>...</td>\n",
              "      <td>2.885890</td>\n",
              "      <td>0.362875</td>\n",
              "      <td>-0.450228</td>\n",
              "      <td>-0.519345</td>\n",
              "      <td>-0.493115</td>\n",
              "      <td>-0.846952</td>\n",
              "      <td>-0.372028</td>\n",
              "      <td>0.999484</td>\n",
              "      <td>-2.313455</td>\n",
              "      <td>0.0</td>\n",
              "    </tr>\n",
              "    <tr>\n",
              "      <th>2</th>\n",
              "      <td>1.078036</td>\n",
              "      <td>1.106883</td>\n",
              "      <td>0.200913</td>\n",
              "      <td>-0.091085</td>\n",
              "      <td>-0.906912</td>\n",
              "      <td>-0.221828</td>\n",
              "      <td>-0.335182</td>\n",
              "      <td>-1.701646</td>\n",
              "      <td>0.809709</td>\n",
              "      <td>-2.021502</td>\n",
              "      <td>...</td>\n",
              "      <td>2.885890</td>\n",
              "      <td>2.174080</td>\n",
              "      <td>3.374660</td>\n",
              "      <td>2.746156</td>\n",
              "      <td>2.027924</td>\n",
              "      <td>-0.846952</td>\n",
              "      <td>0.295347</td>\n",
              "      <td>-1.012157</td>\n",
              "      <td>0.978448</td>\n",
              "      <td>0.0</td>\n",
              "    </tr>\n",
              "    <tr>\n",
              "      <th>3</th>\n",
              "      <td>1.078036</td>\n",
              "      <td>-0.903438</td>\n",
              "      <td>0.200913</td>\n",
              "      <td>-0.249055</td>\n",
              "      <td>-0.906912</td>\n",
              "      <td>-0.221828</td>\n",
              "      <td>-0.335182</td>\n",
              "      <td>0.587666</td>\n",
              "      <td>0.809709</td>\n",
              "      <td>0.494682</td>\n",
              "      <td>...</td>\n",
              "      <td>-0.346514</td>\n",
              "      <td>-0.542728</td>\n",
              "      <td>-0.450228</td>\n",
              "      <td>-0.519345</td>\n",
              "      <td>-0.493115</td>\n",
              "      <td>-0.846952</td>\n",
              "      <td>0.962722</td>\n",
              "      <td>-2.017977</td>\n",
              "      <td>0.037904</td>\n",
              "      <td>0.0</td>\n",
              "    </tr>\n",
              "    <tr>\n",
              "      <th>4</th>\n",
              "      <td>1.078036</td>\n",
              "      <td>1.106883</td>\n",
              "      <td>0.200913</td>\n",
              "      <td>-0.722963</td>\n",
              "      <td>-0.906912</td>\n",
              "      <td>-0.221828</td>\n",
              "      <td>-0.335182</td>\n",
              "      <td>0.587666</td>\n",
              "      <td>0.809709</td>\n",
              "      <td>0.494682</td>\n",
              "      <td>...</td>\n",
              "      <td>-0.346514</td>\n",
              "      <td>-0.542728</td>\n",
              "      <td>-0.067739</td>\n",
              "      <td>-0.519345</td>\n",
              "      <td>-0.493115</td>\n",
              "      <td>-0.846952</td>\n",
              "      <td>0.962722</td>\n",
              "      <td>-0.006337</td>\n",
              "      <td>-0.902640</td>\n",
              "      <td>0.0</td>\n",
              "    </tr>\n",
              "  </tbody>\n",
              "</table>\n",
              "<p>5 rows × 22 columns</p>\n",
              "</div>\n",
              "    <div class=\"colab-df-buttons\">\n",
              "\n",
              "  <div class=\"colab-df-container\">\n",
              "    <button class=\"colab-df-convert\" onclick=\"convertToInteractive('df-005726e4-9b5b-4bcd-b6f9-327c8c605ee5')\"\n",
              "            title=\"Convert this dataframe to an interactive table.\"\n",
              "            style=\"display:none;\">\n",
              "\n",
              "  <svg xmlns=\"http://www.w3.org/2000/svg\" height=\"24px\" viewBox=\"0 -960 960 960\">\n",
              "    <path d=\"M120-120v-720h720v720H120Zm60-500h600v-160H180v160Zm220 220h160v-160H400v160Zm0 220h160v-160H400v160ZM180-400h160v-160H180v160Zm440 0h160v-160H620v160ZM180-180h160v-160H180v160Zm440 0h160v-160H620v160Z\"/>\n",
              "  </svg>\n",
              "    </button>\n",
              "\n",
              "  <style>\n",
              "    .colab-df-container {\n",
              "      display:flex;\n",
              "      gap: 12px;\n",
              "    }\n",
              "\n",
              "    .colab-df-convert {\n",
              "      background-color: #E8F0FE;\n",
              "      border: none;\n",
              "      border-radius: 50%;\n",
              "      cursor: pointer;\n",
              "      display: none;\n",
              "      fill: #1967D2;\n",
              "      height: 32px;\n",
              "      padding: 0 0 0 0;\n",
              "      width: 32px;\n",
              "    }\n",
              "\n",
              "    .colab-df-convert:hover {\n",
              "      background-color: #E2EBFA;\n",
              "      box-shadow: 0px 1px 2px rgba(60, 64, 67, 0.3), 0px 1px 3px 1px rgba(60, 64, 67, 0.15);\n",
              "      fill: #174EA6;\n",
              "    }\n",
              "\n",
              "    .colab-df-buttons div {\n",
              "      margin-bottom: 4px;\n",
              "    }\n",
              "\n",
              "    [theme=dark] .colab-df-convert {\n",
              "      background-color: #3B4455;\n",
              "      fill: #D2E3FC;\n",
              "    }\n",
              "\n",
              "    [theme=dark] .colab-df-convert:hover {\n",
              "      background-color: #434B5C;\n",
              "      box-shadow: 0px 1px 3px 1px rgba(0, 0, 0, 0.15);\n",
              "      filter: drop-shadow(0px 1px 2px rgba(0, 0, 0, 0.3));\n",
              "      fill: #FFFFFF;\n",
              "    }\n",
              "  </style>\n",
              "\n",
              "    <script>\n",
              "      const buttonEl =\n",
              "        document.querySelector('#df-005726e4-9b5b-4bcd-b6f9-327c8c605ee5 button.colab-df-convert');\n",
              "      buttonEl.style.display =\n",
              "        google.colab.kernel.accessAllowed ? 'block' : 'none';\n",
              "\n",
              "      async function convertToInteractive(key) {\n",
              "        const element = document.querySelector('#df-005726e4-9b5b-4bcd-b6f9-327c8c605ee5');\n",
              "        const dataTable =\n",
              "          await google.colab.kernel.invokeFunction('convertToInteractive',\n",
              "                                                    [key], {});\n",
              "        if (!dataTable) return;\n",
              "\n",
              "        const docLinkHtml = 'Like what you see? Visit the ' +\n",
              "          '<a target=\"_blank\" href=https://colab.research.google.com/notebooks/data_table.ipynb>data table notebook</a>'\n",
              "          + ' to learn more about interactive tables.';\n",
              "        element.innerHTML = '';\n",
              "        dataTable['output_type'] = 'display_data';\n",
              "        await google.colab.output.renderOutput(dataTable, element);\n",
              "        const docLink = document.createElement('div');\n",
              "        docLink.innerHTML = docLinkHtml;\n",
              "        element.appendChild(docLink);\n",
              "      }\n",
              "    </script>\n",
              "  </div>\n",
              "\n",
              "\n",
              "<div id=\"df-7c6613ef-5f5f-455c-8571-b6bea939e863\">\n",
              "  <button class=\"colab-df-quickchart\" onclick=\"quickchart('df-7c6613ef-5f5f-455c-8571-b6bea939e863')\"\n",
              "            title=\"Suggest charts.\"\n",
              "            style=\"display:none;\">\n",
              "\n",
              "<svg xmlns=\"http://www.w3.org/2000/svg\" height=\"24px\"viewBox=\"0 0 24 24\"\n",
              "     width=\"24px\">\n",
              "    <g>\n",
              "        <path d=\"M19 3H5c-1.1 0-2 .9-2 2v14c0 1.1.9 2 2 2h14c1.1 0 2-.9 2-2V5c0-1.1-.9-2-2-2zM9 17H7v-7h2v7zm4 0h-2V7h2v10zm4 0h-2v-4h2v4z\"/>\n",
              "    </g>\n",
              "</svg>\n",
              "  </button>\n",
              "\n",
              "<style>\n",
              "  .colab-df-quickchart {\n",
              "    background-color: #E8F0FE;\n",
              "    border: none;\n",
              "    border-radius: 50%;\n",
              "    cursor: pointer;\n",
              "    display: none;\n",
              "    fill: #1967D2;\n",
              "    height: 32px;\n",
              "    padding: 0 0 0 0;\n",
              "    width: 32px;\n",
              "  }\n",
              "\n",
              "  .colab-df-quickchart:hover {\n",
              "    background-color: #E2EBFA;\n",
              "    box-shadow: 0px 1px 2px rgba(60, 64, 67, 0.3), 0px 1px 3px 1px rgba(60, 64, 67, 0.15);\n",
              "    fill: #174EA6;\n",
              "  }\n",
              "\n",
              "  [theme=dark] .colab-df-quickchart {\n",
              "    background-color: #3B4455;\n",
              "    fill: #D2E3FC;\n",
              "  }\n",
              "\n",
              "  [theme=dark] .colab-df-quickchart:hover {\n",
              "    background-color: #434B5C;\n",
              "    box-shadow: 0px 1px 3px 1px rgba(0, 0, 0, 0.15);\n",
              "    filter: drop-shadow(0px 1px 2px rgba(0, 0, 0, 0.3));\n",
              "    fill: #FFFFFF;\n",
              "  }\n",
              "</style>\n",
              "\n",
              "  <script>\n",
              "    async function quickchart(key) {\n",
              "      const charts = await google.colab.kernel.invokeFunction(\n",
              "          'suggestCharts', [key], {});\n",
              "    }\n",
              "    (() => {\n",
              "      let quickchartButtonEl =\n",
              "        document.querySelector('#df-7c6613ef-5f5f-455c-8571-b6bea939e863 button');\n",
              "      quickchartButtonEl.style.display =\n",
              "        google.colab.kernel.accessAllowed ? 'block' : 'none';\n",
              "    })();\n",
              "  </script>\n",
              "</div>\n",
              "    </div>\n",
              "  </div>\n"
            ]
          },
          "metadata": {},
          "execution_count": 50
        }
      ],
      "source": [
        "std_df.head()"
      ]
    },
    {
      "cell_type": "code",
      "execution_count": 51,
      "metadata": {
        "colab": {
          "base_uri": "https://localhost:8080/",
          "height": 991
        },
        "id": "YunLJyc2UyLU",
        "outputId": "29bc495b-bd58-412e-d891-f25b4045e1b2"
      },
      "outputs": [
        {
          "output_type": "display_data",
          "data": {
            "text/plain": [
              "<Figure size 2000x1000 with 1 Axes>"
            ],
            "image/png": "[encoded data removed]"
          },
          "metadata": {}
        }
      ],
      "source": [
        "plt.figure(figsize=(20,10))\n",
        "sea.boxplot(data=std_df.iloc[:,:-1]) # except the target\n",
        "plt.xticks(rotation=90)\n",
        "plt.title(\"Distribution of the values ​​of all potential standardized predictors\")\n",
        "plt.grid()\n",
        "plt.show()"
      ]
    },
    {
      "cell_type": "markdown",
      "metadata": {
        "id": "zvZz2Z2FVKMr"
      },
      "source": [
        "looks better with standardization"
      ]
    },
    {
      "cell_type": "markdown",
      "metadata": {
        "id": "2aBQ0fWJWr68"
      },
      "source": [
        "###**Correlation**"
      ]
    },
    {
      "cell_type": "code",
      "execution_count": 52,
      "metadata": {
        "colab": {
          "base_uri": "https://localhost:8080/",
          "height": 837
        },
        "id": "aQNYFcdgVI4j",
        "outputId": "fcf16dab-ea40-4133-ac2d-788d0b5df36e"
      },
      "outputs": [
        {
          "output_type": "display_data",
          "data": {
            "text/plain": [
              "<Figure size 1000x800 with 2 Axes>"
            ],
            "image/png": "[encoded data removed]"
          },
          "metadata": {}
        }
      ],
      "source": [
        "# Calculate the correlation matrix\n",
        "correlation_matrix = std_df.corr()\n",
        "\n",
        "plt.figure(figsize=(10, 8))\n",
        "sns.heatmap(correlation_matrix, cmap='coolwarm')\n",
        "plt.title(\"Correlation Heatmap\")\n",
        "plt.show()"
      ]
    },
    {
      "cell_type": "markdown",
      "metadata": {
        "id": "pPqyJDEkWCeT"
      },
      "source": [
        "### **Dimensionality Reduction**"
      ]
    },
    {
      "cell_type": "markdown",
      "metadata": {
        "id": "G30ViD6LYt2e"
      },
      "source": [
        "**Split Dataset**"
      ]
    },
    {
      "cell_type": "code",
      "execution_count": 53,
      "metadata": {
        "id": "OI4GSgjZYT1Z"
      },
      "outputs": [],
      "source": [
        "X = data.drop([\"Diabetes_012\"], axis=1)\n",
        "y = data['Diabetes_012']\n",
        "\n",
        "X_train, X_test, y_train, y_test = train_test_split(X, y, test_size=0.2, random_state=42, stratify=y)"
      ]
    },
    {
      "cell_type": "code",
      "execution_count": 54,
      "metadata": {
        "colab": {
          "base_uri": "https://localhost:8080/"
        },
        "id": "ct4we7RnZS4G",
        "outputId": "7643c620-b0fc-4299-dec5-b089c3e339af"
      },
      "outputs": [
        {
          "output_type": "stream",
          "name": "stdout",
          "text": [
            "(8000, 21)\n"
          ]
        }
      ],
      "source": [
        "print(X_train.shape)"
      ]
    },
    {
      "cell_type": "code",
      "execution_count": 55,
      "metadata": {
        "colab": {
          "base_uri": "https://localhost:8080/"
        },
        "id": "ljuptNraZgUl",
        "outputId": "ff1381c4-8cfd-4ca5-ab5e-2d6802a39a9c"
      },
      "outputs": [
        {
          "output_type": "stream",
          "name": "stdout",
          "text": [
            "(2000, 21)\n"
          ]
        }
      ],
      "source": [
        "print(X_test.shape)"
      ]
    },
    {
      "cell_type": "markdown",
      "metadata": {
        "id": "Zw9IBx05qxTO"
      },
      "source": [
        "### **Baseline model**"
      ]
    },
    {
      "cell_type": "markdown",
      "metadata": {
        "id": "nIcsPmPFJqFB"
      },
      "source": [
        "**Define Classifiers**"
      ]
    },
    {
      "cell_type": "code",
      "execution_count": 56,
      "metadata": {
        "id": "SdUIifjaJwCX"
      },
      "outputs": [],
      "source": [
        "# Define a list of classifiers\n",
        "classifiers = {\n",
        "    # \"Logistic Regression\": LogisticRegression(),\n",
        "    \"Random Forest\": RandomForestClassifier(),\n",
        "    # \"K-Nearest Neighbors\": KNeighborsClassifier(),\n",
        "    # \"XGBoost\": XGBClassifier(),\n",
        "}\n",
        "\n",
        "classifiers_pca = {\n",
        "    # \"Logistic Regression\": LogisticRegression(),\n",
        "    \"Random Forest\": RandomForestClassifier(),\n",
        "    # \"K-Nearest Neighbors\": KNeighborsClassifier(),\n",
        "    # \"XGBoost\": XGBClassifier(),\n",
        "}\n",
        "\n",
        "classifiers_lda = {\n",
        "    # \"Logistic Regression\": LogisticRegression(),\n",
        "    \"Random Forest\": RandomForestClassifier(),\n",
        "    # \"K-Nearest Neighbors\": KNeighborsClassifier(),\n",
        "    # \"XGBoost\": XGBClassifier(),\n",
        "}"
      ]
    },
    {
      "cell_type": "code",
      "execution_count": 57,
      "metadata": {
        "colab": {
          "base_uri": "https://localhost:8080/"
        },
        "id": "xWuXnSbFLeue",
        "outputId": "d628c417-70e6-4bc3-f535-a5dc60c49b66"
      },
      "outputs": [
        {
          "output_type": "stream",
          "name": "stdout",
          "text": [
            "--- Random Forest ---\n",
            "Accuracy: 0.82\n",
            "Precision: 0.78\n",
            "Recall: 0.82\n",
            "F1 Score: 0.77\n",
            "ROC AUC: 0.74\n",
            "Balanced Accuracy: 0.37\n",
            "Confusion Matrix:\n",
            "[[1597    0   46]\n",
            " [  29    0    7]\n",
            " [ 278    0   43]]\n",
            "\n",
            "\n"
          ]
        }
      ],
      "source": [
        "# Dictionary to store evaluation metrics\n",
        "results = {}\n",
        "\n",
        "# Loop through each classifier\n",
        "for name, clf in classifiers.items():\n",
        "    # Train the classifier\n",
        "    clf.fit(X_train, y_train)\n",
        "\n",
        "    # Make predictions on the test set\n",
        "    y_pred = clf.predict(X_test)\n",
        "\n",
        "    # Calculate evaluation metrics\n",
        "    accuracy = accuracy_score(y_test, y_pred)\n",
        "    precision = precision_score(y_test, y_pred, average=\"weighted\", zero_division=1)\n",
        "    recall = recall_score(y_test, y_pred, average=\"weighted\", zero_division=1)\n",
        "    f1 = f1_score(y_test, y_pred, average=\"weighted\", zero_division=1)\n",
        "    balanced_accuracy = balanced_accuracy_score(y_test, y_pred)\n",
        "    confusion = confusion_matrix(y_test, y_pred)\n",
        "\n",
        "    # ROC AUC calculation for binary and multiclass classification\n",
        "    if len(np.unique(y_train)) == 2:\n",
        "        roc_auc = roc_auc_score(y_test, clf.predict_proba(X_test)[:, 1])\n",
        "    else:\n",
        "        roc_auc = roc_auc_score(y_test, clf.predict_proba(X_test), multi_class='ovr')\n",
        "\n",
        "    # Store the results in the dictionary\n",
        "    results[name] = {\n",
        "        \"Accuracy\": accuracy,\n",
        "        \"Precision\": precision,\n",
        "        \"Recall\": recall,\n",
        "        \"F1 Score\": f1,\n",
        "        \"ROC AUC\": roc_auc,\n",
        "        \"Balanced Accuracy\": balanced_accuracy,\n",
        "        \"Confusion Matrix\": confusion,\n",
        "    }\n",
        "\n",
        "# Display the results\n",
        "for name, metrics in results.items():\n",
        "    print(f\"--- {name} ---\")\n",
        "    print(\"Accuracy: {:.2f}\".format(metrics[\"Accuracy\"]))\n",
        "    print(\"Precision: {:.2f}\".format(metrics[\"Precision\"]))\n",
        "    print(\"Recall: {:.2f}\".format(metrics[\"Recall\"]))\n",
        "    print(\"F1 Score: {:.2f}\".format(metrics[\"F1 Score\"]))\n",
        "    print(\"ROC AUC: {:.2f}\".format(metrics[\"ROC AUC\"]))\n",
        "    print(\"Balanced Accuracy: {:.2f}\".format(metrics[\"Balanced Accuracy\"]))\n",
        "    print(\"Confusion Matrix:\")\n",
        "    print(metrics[\"Confusion Matrix\"])\n",
        "    print(\"\\n\")"
      ]
    },
    {
      "cell_type": "markdown",
      "metadata": {
        "id": "u7x3r5czOMkE"
      },
      "source": [
        "- Added the **zero_division=1** parameter to the precision, recall, and F1-score calculations. This parameter handles cases where a class has no predicted samples. It sets the score to 1 in such cases to avoid division by zero errors.\n",
        "\n",
        "- The if **len(np.unique(y_train)) == 2:** condition checks if the training data contains only two unique classes. If so, it calculates the ROC AUC directly using the binary form.\n",
        "If there are more than two classes, it calculates the ROC AUC using the one-vs-rest **('ovr')** strategy, which is appropriate for multi-class problems."
      ]
    },
    {
      "cell_type": "markdown",
      "metadata": {
        "id": "okvcFB6FYMb1"
      },
      "source": [
        "### **Principal Component Analysis (PCA)**"
      ]
    },
    {
      "cell_type": "markdown",
      "metadata": {
        "id": "xMmjCLIIZ93G"
      },
      "source": [
        "*Determining the number of principal components **(n_components)** for Principal Component Analysis (PCA) is an important step in dimensionality reduction. The goal is to find a suitable number of components that capture the majority of the data's variance while reducing its dimensionality.*\n",
        "\n"
      ]
    },
    {
      "cell_type": "code",
      "execution_count": 58,
      "metadata": {
        "colab": {
          "base_uri": "https://localhost:8080/",
          "height": 564
        },
        "id": "BFt1DcejcxCB",
        "outputId": "8b79a9a7-ef95-4931-f121-730179464db6"
      },
      "outputs": [
        {
          "output_type": "display_data",
          "data": {
            "text/plain": [
              "<Figure size 1000x600 with 1 Axes>"
            ],
            "image/png": "[encoded data removed]"
          },
          "metadata": {}
        }
      ],
      "source": [
        "pca = PCA()\n",
        "X_pca = pca.fit_transform(X)\n",
        "\n",
        "\n",
        "explained_variance_ratio = pca.explained_variance_ratio_\n",
        "cumulative_explained_variance = np.cumsum(explained_variance_ratio)\n",
        "\n",
        "plt.figure(figsize=(10, 6))\n",
        "plt.plot(cumulative_explained_variance, marker='o')\n",
        "plt.xlabel('Number of Components')\n",
        "plt.ylabel('Cumulative Explained Variance')\n",
        "plt.title('Cumulative Explained Variance vs. Number of Components')\n",
        "plt.show()"
      ]
    },
    {
      "cell_type": "markdown",
      "metadata": {
        "id": "QYhxRvvLdEgw"
      },
      "source": [
        "*In the plot, you'll see how much variance is explained by each additional component. You can choose the number of components that retain the desired percentage of total variance. For example, if you want to retain 95% of the variance, find the point on the x-axis where the cumulative explained variance is close to 0.95.*"
      ]
    },
    {
      "cell_type": "code",
      "execution_count": 59,
      "metadata": {
        "id": "e5U6xqhCbhoo"
      },
      "outputs": [],
      "source": [
        "# base on the graph\n",
        "best_n_components = 19"
      ]
    },
    {
      "cell_type": "code",
      "execution_count": 60,
      "metadata": {
        "id": "SPLkKqVLcNBi"
      },
      "outputs": [],
      "source": [
        "pca = PCA(n_components=best_n_components)\n",
        "X_train_pca = pca.fit_transform(X_train)\n",
        "\n",
        "# Create a list of column names for the factors DataFrame\n",
        "column_names = ['PC' + str(i + 1) for i in range(best_n_components)]\n",
        "\n",
        "# Create the DataFrame\n",
        "factors_Df = pd.DataFrame(data=X_train_pca, columns=column_names)\n",
        "factors_Df.index = X_train.index"
      ]
    },
    {
      "cell_type": "code",
      "execution_count": 61,
      "metadata": {
        "colab": {
          "base_uri": "https://localhost:8080/",
          "height": 206
        },
        "id": "2ddy1nrDcVc6",
        "outputId": "991b860d-af4a-4bf1-c306-312f1fbdfb5e"
      },
      "outputs": [
        {
          "output_type": "execute_result",
          "data": {
            "text/plain": [
              "           PC1       PC2       PC3       PC4       PC5       PC6       PC7  \\\n",
              "7644 -6.613671 -0.331982 -2.571832  2.573907 -1.559069 -0.848743  0.237330   \n",
              "9560 -2.512966 -0.194712 -1.072792  2.191653  0.302312 -0.228086 -1.068011   \n",
              "890  -5.594343 -2.478929 -9.692393 -1.499642  1.240741  0.225048 -0.627470   \n",
              "7503 -5.574986 -0.821071 -6.864274 -1.550716  0.083605 -0.210369  0.196333   \n",
              "3484 -7.304743 -1.163882 -7.672462 -1.062912 -2.055491 -0.938664  0.390535   \n",
              "\n",
              "           PC8       PC9      PC10      PC11      PC12      PC13      PC14  \\\n",
              "7644  0.201867 -0.046748 -0.770200  0.311541  0.548981  0.306942 -0.019969   \n",
              "9560  0.178648 -0.040545  0.809543 -0.468496  0.119859 -0.553595 -0.243450   \n",
              "890  -0.679178  0.198308 -0.350608  0.059538  0.680099 -0.044176 -0.013569   \n",
              "7503 -0.598196  0.242340 -0.413971 -0.053671  0.639869 -0.006459  0.002710   \n",
              "3484 -0.041947 -0.226193  0.106009  0.701479  0.018062  0.237687 -0.057606   \n",
              "\n",
              "          PC15      PC16      PC17      PC18      PC19  \n",
              "7644  0.151103 -0.008487 -0.100493 -0.055917 -0.033004  \n",
              "9560 -0.149155 -0.197292 -0.029024 -0.128388  0.008395  \n",
              "890  -0.156642 -0.050660 -0.113778 -0.030910 -0.020872  \n",
              "7503 -0.056198 -0.008631 -0.068081 -0.034583 -0.006756  \n",
              "3484  0.110773  0.064407 -0.051841 -0.065705 -0.028707  "
            ],
            "text/html": [
              "\n",
              "  <div id=\"df-0ee5b1da-3dd1-454c-8788-e44c6e6a4942\" class=\"colab-df-container\">\n",
              "    <div>\n",
              "<style scoped>\n",
              "    .dataframe tbody tr th:only-of-type {\n",
              "        vertical-align: middle;\n",
              "    }\n",
              "\n",
              "    .dataframe tbody tr th {\n",
              "        vertical-align: top;\n",
              "    }\n",
              "\n",
              "    .dataframe thead th {\n",
              "        text-align: right;\n",
              "    }\n",
              "</style>\n",
              "<table border=\"1\" class=\"dataframe\">\n",
              "  <thead>\n",
              "    <tr style=\"text-align: right;\">\n",
              "      <th></th>\n",
              "      <th>PC1</th>\n",
              "      <th>PC2</th>\n",
              "      <th>PC3</th>\n",
              "      <th>PC4</th>\n",
              "      <th>PC5</th>\n",
              "      <th>PC6</th>\n",
              "      <th>PC7</th>\n",
              "      <th>PC8</th>\n",
              "      <th>PC9</th>\n",
              "      <th>PC10</th>\n",
              "      <th>PC11</th>\n",
              "      <th>PC12</th>\n",
              "      <th>PC13</th>\n",
              "      <th>PC14</th>\n",
              "      <th>PC15</th>\n",
              "      <th>PC16</th>\n",
              "      <th>PC17</th>\n",
              "      <th>PC18</th>\n",
              "      <th>PC19</th>\n",
              "    </tr>\n",
              "  </thead>\n",
              "  <tbody>\n",
              "    <tr>\n",
              "      <th>7644</th>\n",
              "      <td>-6.613671</td>\n",
              "      <td>-0.331982</td>\n",
              "      <td>-2.571832</td>\n",
              "      <td>2.573907</td>\n",
              "      <td>-1.559069</td>\n",
              "      <td>-0.848743</td>\n",
              "      <td>0.237330</td>\n",
              "      <td>0.201867</td>\n",
              "      <td>-0.046748</td>\n",
              "      <td>-0.770200</td>\n",
              "      <td>0.311541</td>\n",
              "      <td>0.548981</td>\n",
              "      <td>0.306942</td>\n",
              "      <td>-0.019969</td>\n",
              "      <td>0.151103</td>\n",
              "      <td>-0.008487</td>\n",
              "      <td>-0.100493</td>\n",
              "      <td>-0.055917</td>\n",
              "      <td>-0.033004</td>\n",
              "    </tr>\n",
              "    <tr>\n",
              "      <th>9560</th>\n",
              "      <td>-2.512966</td>\n",
              "      <td>-0.194712</td>\n",
              "      <td>-1.072792</td>\n",
              "      <td>2.191653</td>\n",
              "      <td>0.302312</td>\n",
              "      <td>-0.228086</td>\n",
              "      <td>-1.068011</td>\n",
              "      <td>0.178648</td>\n",
              "      <td>-0.040545</td>\n",
              "      <td>0.809543</td>\n",
              "      <td>-0.468496</td>\n",
              "      <td>0.119859</td>\n",
              "      <td>-0.553595</td>\n",
              "      <td>-0.243450</td>\n",
              "      <td>-0.149155</td>\n",
              "      <td>-0.197292</td>\n",
              "      <td>-0.029024</td>\n",
              "      <td>-0.128388</td>\n",
              "      <td>0.008395</td>\n",
              "    </tr>\n",
              "    <tr>\n",
              "      <th>890</th>\n",
              "      <td>-5.594343</td>\n",
              "      <td>-2.478929</td>\n",
              "      <td>-9.692393</td>\n",
              "      <td>-1.499642</td>\n",
              "      <td>1.240741</td>\n",
              "      <td>0.225048</td>\n",
              "      <td>-0.627470</td>\n",
              "      <td>-0.679178</td>\n",
              "      <td>0.198308</td>\n",
              "      <td>-0.350608</td>\n",
              "      <td>0.059538</td>\n",
              "      <td>0.680099</td>\n",
              "      <td>-0.044176</td>\n",
              "      <td>-0.013569</td>\n",
              "      <td>-0.156642</td>\n",
              "      <td>-0.050660</td>\n",
              "      <td>-0.113778</td>\n",
              "      <td>-0.030910</td>\n",
              "      <td>-0.020872</td>\n",
              "    </tr>\n",
              "    <tr>\n",
              "      <th>7503</th>\n",
              "      <td>-5.574986</td>\n",
              "      <td>-0.821071</td>\n",
              "      <td>-6.864274</td>\n",
              "      <td>-1.550716</td>\n",
              "      <td>0.083605</td>\n",
              "      <td>-0.210369</td>\n",
              "      <td>0.196333</td>\n",
              "      <td>-0.598196</td>\n",
              "      <td>0.242340</td>\n",
              "      <td>-0.413971</td>\n",
              "      <td>-0.053671</td>\n",
              "      <td>0.639869</td>\n",
              "      <td>-0.006459</td>\n",
              "      <td>0.002710</td>\n",
              "      <td>-0.056198</td>\n",
              "      <td>-0.008631</td>\n",
              "      <td>-0.068081</td>\n",
              "      <td>-0.034583</td>\n",
              "      <td>-0.006756</td>\n",
              "    </tr>\n",
              "    <tr>\n",
              "      <th>3484</th>\n",
              "      <td>-7.304743</td>\n",
              "      <td>-1.163882</td>\n",
              "      <td>-7.672462</td>\n",
              "      <td>-1.062912</td>\n",
              "      <td>-2.055491</td>\n",
              "      <td>-0.938664</td>\n",
              "      <td>0.390535</td>\n",
              "      <td>-0.041947</td>\n",
              "      <td>-0.226193</td>\n",
              "      <td>0.106009</td>\n",
              "      <td>0.701479</td>\n",
              "      <td>0.018062</td>\n",
              "      <td>0.237687</td>\n",
              "      <td>-0.057606</td>\n",
              "      <td>0.110773</td>\n",
              "      <td>0.064407</td>\n",
              "      <td>-0.051841</td>\n",
              "      <td>-0.065705</td>\n",
              "      <td>-0.028707</td>\n",
              "    </tr>\n",
              "  </tbody>\n",
              "</table>\n",
              "</div>\n",
              "    <div class=\"colab-df-buttons\">\n",
              "\n",
              "  <div class=\"colab-df-container\">\n",
              "    <button class=\"colab-df-convert\" onclick=\"convertToInteractive('df-0ee5b1da-3dd1-454c-8788-e44c6e6a4942')\"\n",
              "            title=\"Convert this dataframe to an interactive table.\"\n",
              "            style=\"display:none;\">\n",
              "\n",
              "  <svg xmlns=\"http://www.w3.org/2000/svg\" height=\"24px\" viewBox=\"0 -960 960 960\">\n",
              "    <path d=\"M120-120v-720h720v720H120Zm60-500h600v-160H180v160Zm220 220h160v-160H400v160Zm0 220h160v-160H400v160ZM180-400h160v-160H180v160Zm440 0h160v-160H620v160ZM180-180h160v-160H180v160Zm440 0h160v-160H620v160Z\"/>\n",
              "  </svg>\n",
              "    </button>\n",
              "\n",
              "  <style>\n",
              "    .colab-df-container {\n",
              "      display:flex;\n",
              "      gap: 12px;\n",
              "    }\n",
              "\n",
              "    .colab-df-convert {\n",
              "      background-color: #E8F0FE;\n",
              "      border: none;\n",
              "      border-radius: 50%;\n",
              "      cursor: pointer;\n",
              "      display: none;\n",
              "      fill: #1967D2;\n",
              "      height: 32px;\n",
              "      padding: 0 0 0 0;\n",
              "      width: 32px;\n",
              "    }\n",
              "\n",
              "    .colab-df-convert:hover {\n",
              "      background-color: #E2EBFA;\n",
              "      box-shadow: 0px 1px 2px rgba(60, 64, 67, 0.3), 0px 1px 3px 1px rgba(60, 64, 67, 0.15);\n",
              "      fill: #174EA6;\n",
              "    }\n",
              "\n",
              "    .colab-df-buttons div {\n",
              "      margin-bottom: 4px;\n",
              "    }\n",
              "\n",
              "    [theme=dark] .colab-df-convert {\n",
              "      background-color: #3B4455;\n",
              "      fill: #D2E3FC;\n",
              "    }\n",
              "\n",
              "    [theme=dark] .colab-df-convert:hover {\n",
              "      background-color: #434B5C;\n",
              "      box-shadow: 0px 1px 3px 1px rgba(0, 0, 0, 0.15);\n",
              "      filter: drop-shadow(0px 1px 2px rgba(0, 0, 0, 0.3));\n",
              "      fill: #FFFFFF;\n",
              "    }\n",
              "  </style>\n",
              "\n",
              "    <script>\n",
              "      const buttonEl =\n",
              "        document.querySelector('#df-0ee5b1da-3dd1-454c-8788-e44c6e6a4942 button.colab-df-convert');\n",
              "      buttonEl.style.display =\n",
              "        google.colab.kernel.accessAllowed ? 'block' : 'none';\n",
              "\n",
              "      async function convertToInteractive(key) {\n",
              "        const element = document.querySelector('#df-0ee5b1da-3dd1-454c-8788-e44c6e6a4942');\n",
              "        const dataTable =\n",
              "          await google.colab.kernel.invokeFunction('convertToInteractive',\n",
              "                                                    [key], {});\n",
              "        if (!dataTable) return;\n",
              "\n",
              "        const docLinkHtml = 'Like what you see? Visit the ' +\n",
              "          '<a target=\"_blank\" href=https://colab.research.google.com/notebooks/data_table.ipynb>data table notebook</a>'\n",
              "          + ' to learn more about interactive tables.';\n",
              "        element.innerHTML = '';\n",
              "        dataTable['output_type'] = 'display_data';\n",
              "        await google.colab.output.renderOutput(dataTable, element);\n",
              "        const docLink = document.createElement('div');\n",
              "        docLink.innerHTML = docLinkHtml;\n",
              "        element.appendChild(docLink);\n",
              "      }\n",
              "    </script>\n",
              "  </div>\n",
              "\n",
              "\n",
              "<div id=\"df-70c3713a-c6d6-4105-8787-72e4c1a8a9cd\">\n",
              "  <button class=\"colab-df-quickchart\" onclick=\"quickchart('df-70c3713a-c6d6-4105-8787-72e4c1a8a9cd')\"\n",
              "            title=\"Suggest charts.\"\n",
              "            style=\"display:none;\">\n",
              "\n",
              "<svg xmlns=\"http://www.w3.org/2000/svg\" height=\"24px\"viewBox=\"0 0 24 24\"\n",
              "     width=\"24px\">\n",
              "    <g>\n",
              "        <path d=\"M19 3H5c-1.1 0-2 .9-2 2v14c0 1.1.9 2 2 2h14c1.1 0 2-.9 2-2V5c0-1.1-.9-2-2-2zM9 17H7v-7h2v7zm4 0h-2V7h2v10zm4 0h-2v-4h2v4z\"/>\n",
              "    </g>\n",
              "</svg>\n",
              "  </button>\n",
              "\n",
              "<style>\n",
              "  .colab-df-quickchart {\n",
              "    background-color: #E8F0FE;\n",
              "    border: none;\n",
              "    border-radius: 50%;\n",
              "    cursor: pointer;\n",
              "    display: none;\n",
              "    fill: #1967D2;\n",
              "    height: 32px;\n",
              "    padding: 0 0 0 0;\n",
              "    width: 32px;\n",
              "  }\n",
              "\n",
              "  .colab-df-quickchart:hover {\n",
              "    background-color: #E2EBFA;\n",
              "    box-shadow: 0px 1px 2px rgba(60, 64, 67, 0.3), 0px 1px 3px 1px rgba(60, 64, 67, 0.15);\n",
              "    fill: #174EA6;\n",
              "  }\n",
              "\n",
              "  [theme=dark] .colab-df-quickchart {\n",
              "    background-color: #3B4455;\n",
              "    fill: #D2E3FC;\n",
              "  }\n",
              "\n",
              "  [theme=dark] .colab-df-quickchart:hover {\n",
              "    background-color: #434B5C;\n",
              "    box-shadow: 0px 1px 3px 1px rgba(0, 0, 0, 0.15);\n",
              "    filter: drop-shadow(0px 1px 2px rgba(0, 0, 0, 0.3));\n",
              "    fill: #FFFFFF;\n",
              "  }\n",
              "</style>\n",
              "\n",
              "  <script>\n",
              "    async function quickchart(key) {\n",
              "      const charts = await google.colab.kernel.invokeFunction(\n",
              "          'suggestCharts', [key], {});\n",
              "    }\n",
              "    (() => {\n",
              "      let quickchartButtonEl =\n",
              "        document.querySelector('#df-70c3713a-c6d6-4105-8787-72e4c1a8a9cd button');\n",
              "      quickchartButtonEl.style.display =\n",
              "        google.colab.kernel.accessAllowed ? 'block' : 'none';\n",
              "    })();\n",
              "  </script>\n",
              "</div>\n",
              "    </div>\n",
              "  </div>\n"
            ]
          },
          "metadata": {},
          "execution_count": 61
        }
      ],
      "source": [
        "factors_Df.head()"
      ]
    },
    {
      "cell_type": "markdown",
      "metadata": {
        "id": "Rr7ZmCMocvMo"
      },
      "source": [
        "***The lines of code below, Calculate and print various metrics related to the explained variance in a PCA analysis***\n",
        "\n",
        "- **Line 1:** *The first line prints the explained variance ratio for each principal component. The explained variance ratio indicates the proportion of the total variance in the data that each principal component accounts for. Each value in the printed array represents the percentage of variance explained by the corresponding principal component.*\n",
        "\n",
        "- **Line 2:** *The second line calculates and prints the cumulative explained variance ratio. It shows the cumulative proportion of the total variance explained by the principal components in increasing order.*\n",
        "\n",
        "- **Line 3:** *This line prints the sum of all the explained variance ratios. This value should be equal to 1 (or very close to it) since the sum of the explained variance ratios should account for all the variance in the original data.*\n",
        "\n",
        "*Together, these lines of code provide insights into how much information is retained by each principal component and the cumulative information retained as you consider more components. It helps you decide how many principal components you need to keep to retain a sufficient amount of information while reducing dimensionality. This is essential for determining the appropriate number of components to include in your PCA transformation, which can aid in feature selection, noise reduction, and model efficiency.*"
      ]
    },
    {
      "cell_type": "code",
      "execution_count": 62,
      "metadata": {
        "colab": {
          "base_uri": "https://localhost:8080/"
        },
        "id": "ixGEU8VXcbV3",
        "outputId": "d4dbe43f-432b-44ca-d3cb-fbda2c1b115d"
      },
      "outputs": [
        {
          "output_type": "stream",
          "name": "stdout",
          "text": [
            "[5.14498819e-01 2.15022653e-01 1.88963889e-01 4.36598224e-02\n",
            " 2.12785813e-02 4.04411020e-03 3.28408781e-03 1.41537462e-03\n",
            " 1.19632641e-03 1.15853502e-03 1.02008787e-03 8.48718993e-04\n",
            " 8.00384382e-04 6.36276701e-04 4.99929520e-04 4.26080463e-04\n",
            " 3.94407379e-04 2.51212973e-04 2.37671871e-04]\n",
            "\n",
            "[0.51449882 0.72952147 0.91848536 0.96214518 0.98342376 0.98746787\n",
            " 0.99075196 0.99216734 0.99336366 0.9945222  0.99554229 0.99639101\n",
            " 0.99719139 0.99782767 0.9983276  0.99875368 0.99914808 0.9993993\n",
            " 0.99963697]\n",
            "\n",
            "0.9996369686203366\n"
          ]
        }
      ],
      "source": [
        "print(pca.explained_variance_ratio_)\n",
        "print()\n",
        "print(pca.explained_variance_ratio_.cumsum())\n",
        "print()\n",
        "print(pca.explained_variance_ratio_.sum())"
      ]
    },
    {
      "cell_type": "markdown",
      "metadata": {
        "id": "757ylgoPfCpx"
      },
      "source": [
        "**Visualization of the explained variance**"
      ]
    },
    {
      "cell_type": "code",
      "execution_count": 63,
      "metadata": {
        "colab": {
          "base_uri": "https://localhost:8080/",
          "height": 564
        },
        "id": "ZhK74cUWfFKg",
        "outputId": "c5310185-05a1-4710-bc05-783dffbc4b33"
      },
      "outputs": [
        {
          "output_type": "display_data",
          "data": {
            "text/plain": [
              "<Figure size 1400x600 with 2 Axes>"
            ],
            "image/png": "[encoded data removed]"
          },
          "metadata": {}
        }
      ],
      "source": [
        "fig = plt.figure(figsize=(14,6))\n",
        "ax1 = fig.add_subplot(1, 2, 1)\n",
        "ax2 = fig.add_subplot(1, 2, 2)\n",
        "\n",
        "ax1.plot(np.arange(1,20),pca.explained_variance_ratio_,color='b',marker='o')\n",
        "ax2.plot(np.arange(1,20),np.cumsum(pca.explained_variance_ratio_),color='gold',marker='o')\n",
        "\n",
        "ax1.set_xlabel('Factors')\n",
        "ax1.set_title('Explained variance')\n",
        "ax2.set_xlabel('Factors')\n",
        "ax2.set_title('Explained variance cumsum')\n",
        "\n",
        "plt.show()"
      ]
    },
    {
      "cell_type": "markdown",
      "metadata": {
        "id": "WO6dy8ngeOAZ"
      },
      "source": [
        "**The shared inertia explained by the first 9 components is around 62%**\n",
        "\n",
        "The statement \"The shared inertia explained by the first 9 components is around 62%\" indicates that the cumulative variance captured by the first 9 principal components in a Principal Component Analysis (PCA) is approximately 62%.\n",
        "\n",
        "Whether this is considered good or bad depends on the context of your analysis and the goals you have set. Here's how to interpret it:\n",
        "\n",
        "1. **Good:**\n",
        "   - If your goal is dimensionality reduction, and you're looking to retain a significant portion of the original data's variance while reducing the number of features, achieving 62% explained variance with just 9 components could be considered good.\n",
        "   - If the original dataset is very high-dimensional, retaining 62% of the variability with 9 components might allow for a substantial reduction in complexity without sacrificing too much information.\n",
        "\n",
        "2. **Not Ideal:**\n",
        "   - If your analysis or model requires capturing a high percentage of the data's variance, achieving only 62% might not be ideal. In some cases, you might need a higher percentage of variance explained for accurate predictions or meaningful insights.\n",
        "   - If the original dataset is not too large and you can afford to keep more components, you might aim for a higher explained variance percentage.\n",
        "\n",
        "3. **Context Matters:**\n",
        "   - The decision of what is \"good\" or \"bad\" depends on the specific problem you're working on. Some applications require very high explained variance, while others can work well with less.\n",
        "\n",
        "In summary, whether an explained variance of around 62% with the first 9 components is good or bad depends on the trade-offs you're willing to make between dimensionality reduction and retaining the variability needed for your analysis or modeling purposes. It's a balance that needs to be considered within the context of your project's goals and requirements."
      ]
    },
    {
      "cell_type": "markdown",
      "metadata": {
        "id": "TM1NAZ9zhvXt"
      },
      "source": [
        "### **Linear Discriminant Analysis (LDA)**"
      ]
    },
    {
      "cell_type": "markdown",
      "metadata": {
        "id": "CJ2mo6dSiaN8"
      },
      "source": [
        "For LDA, You can specify the number of components or let it determine automatically"
      ]
    },
    {
      "cell_type": "markdown",
      "metadata": {
        "id": "etIwSiHlkYH9"
      },
      "source": [
        "You can use the same number of components for Linear Discriminant Analysis (LDA) as you used for Principal Component Analysis (PCA). In fact, it's a valid approach to directly compare the results and performance of both techniques using the same reduced dimensionality.\n",
        "\n",
        "When you use the same number of components for both LDA and PCA, you're essentially reducing the data to the same lower-dimensional space. This can allow for a more direct comparison of how each technique impacts the performance of your chosen classifiers. However, it's important to note that LDA and PCA have different underlying principles and goals, so the performance outcomes might vary based on your specific dataset and the nature of your classification problem.\n",
        "\n",
        "By applying the same number of components, you're ensuring a fair comparison while highlighting the strengths and limitations of both dimensionality reduction techniques."
      ]
    },
    {
      "cell_type": "code",
      "execution_count": 64,
      "metadata": {
        "id": "7WjKy5r5k3Vq"
      },
      "outputs": [],
      "source": [
        "# Initialize LDA and transform X_train\n",
        "lda = LinearDiscriminantAnalysis(n_components=None)\n",
        "lda.fit(X_train, y_train)\n",
        "X_train_lda = lda.transform(X_train)\n",
        "\n",
        "# Initialize LDA and transform X_test\n",
        "X_test_lda = lda.transform(X_test)"
      ]
    },
    {
      "cell_type": "markdown",
      "metadata": {
        "id": "RMTmw94UmfPu"
      },
      "source": [
        "### **Predictive analysis**"
      ]
    },
    {
      "cell_type": "markdown",
      "metadata": {
        "id": "2fR_pgqce-23"
      },
      "source": [
        "#### **Principal Component Analysis (PCA)**"
      ]
    },
    {
      "cell_type": "code",
      "execution_count": 65,
      "metadata": {
        "id": "qE5f6WEifV1f"
      },
      "outputs": [],
      "source": [
        "X_test_pca = pca.transform(X_test)"
      ]
    },
    {
      "cell_type": "code",
      "execution_count": 66,
      "metadata": {
        "colab": {
          "base_uri": "https://localhost:8080/"
        },
        "id": "urjp3-kKfMSW",
        "outputId": "afa2ce94-949a-4055-f5ce-b78e61a13c7b"
      },
      "outputs": [
        {
          "output_type": "stream",
          "name": "stdout",
          "text": [
            "Principal Component Analysis (PCA) \n",
            "\n",
            "--- Random Forest ---\n",
            "Accuracy: 0.82\n",
            "Precision: 0.78\n",
            "Recall: 0.82\n",
            "F1 Score: 0.77\n",
            "ROC AUC: 0.73\n",
            "Balanced Accuracy: 0.36\n",
            "Confusion Matrix:\n",
            "[[1610    0   33]\n",
            " [  34    0    2]\n",
            " [ 287    0   34]]\n",
            "\n",
            "\n"
          ]
        }
      ],
      "source": [
        "# Dictionary to store evaluation metrics and predictions\n",
        "results = {}\n",
        "pca_trained_classifiers= {}\n",
        "\n",
        "# Loop through each classifier\n",
        "for name, clf in classifiers_pca.items():\n",
        "    # Train the classifier\n",
        "    clf.fit(X_train_pca, y_train)\n",
        "\n",
        "    # Store the trained classifiers\n",
        "    pca_trained_classifiers[name] = clf\n",
        "\n",
        "    # Make predictions on the test set\n",
        "    y_pred = clf.predict(X_test_pca)\n",
        "\n",
        "    # Calculate evaluation metrics\n",
        "    accuracy = accuracy_score(y_test, y_pred)\n",
        "    precision = precision_score(y_test, y_pred, average=\"weighted\", zero_division=1)\n",
        "    recall = recall_score(y_test, y_pred, average=\"weighted\", zero_division=1)\n",
        "    f1 = f1_score(y_test, y_pred, average=\"weighted\", zero_division=1)\n",
        "    balanced_accuracy = balanced_accuracy_score(y_test, y_pred)\n",
        "    confusion = confusion_matrix(y_test, y_pred)\n",
        "\n",
        "    # ROC AUC calculation for binary and multiclass classification\n",
        "    if len(np.unique(y_train)) == 2:\n",
        "        roc_auc = roc_auc_score(y_test, clf.predict_proba(X_test_pca)[:, 1])\n",
        "    else:\n",
        "        roc_auc = roc_auc_score(y_test, clf.predict_proba(X_test_pca), multi_class='ovr')\n",
        "\n",
        "    # Store the results in the dictionary\n",
        "    results[name] = {\n",
        "        \"Accuracy\": accuracy,\n",
        "        \"Precision\": precision,\n",
        "        \"Recall\": recall,\n",
        "        \"F1 Score\": f1,\n",
        "        \"ROC AUC\": roc_auc,\n",
        "        \"Balanced Accuracy\": balanced_accuracy,\n",
        "        \"Confusion Matrix\": confusion,\n",
        "    }\n",
        "\n",
        "# Display the results\n",
        "print(\"Principal Component Analysis (PCA) \\n\")\n",
        "for name, metrics in results.items():\n",
        "    print(f\"--- {name} ---\")\n",
        "    print(\"Accuracy: {:.2f}\".format(metrics[\"Accuracy\"]))\n",
        "    print(\"Precision: {:.2f}\".format(metrics[\"Precision\"]))\n",
        "    print(\"Recall: {:.2f}\".format(metrics[\"Recall\"]))\n",
        "    print(\"F1 Score: {:.2f}\".format(metrics[\"F1 Score\"]))\n",
        "    print(\"ROC AUC: {:.2f}\".format(metrics[\"ROC AUC\"]))\n",
        "    print(\"Balanced Accuracy: {:.2f}\".format(metrics[\"Balanced Accuracy\"]))\n",
        "    print(\"Confusion Matrix:\")\n",
        "    print(metrics[\"Confusion Matrix\"])\n",
        "    print(\"\\n\")"
      ]
    },
    {
      "cell_type": "code",
      "source": [
        "\n",
        "# Define hyperparameters for each classifier\n",
        "param_grid = {\n",
        "    \"Random Forest\": {\n",
        "      'n_estimators': [100, 200, 300],  # Number of trees in the forest\n",
        "      'max_depth': [None, 10, 20, 30],   # Maximum depth of individual trees\n",
        "      'min_samples_split': [2, 5, 10],   # Minimum number of samples required to split an internal node\n",
        "      'min_samples_leaf': [1, 2, 4]      # Minimum number of samples required to be at a leaf node\n",
        "  }\n",
        "}"
      ],
      "metadata": {
        "id": "mevI9opSDHAK"
      },
      "execution_count": 67,
      "outputs": []
    },
    {
      "cell_type": "code",
      "source": [
        "best_params = {}\n",
        "\n",
        "# Loop through classifiers and perform hyperparameter tuning\n",
        "for name, clf in classifiers.items():\n",
        "    if name in param_grid:\n",
        "        grid_search = GridSearchCV(clf, param_grid[name], cv=5)\n",
        "        grid_search.fit(X_train, y_train)  # You need to replace X_train and y_train with your data\n",
        "\n",
        "        best_params[name] = grid_search.best_params_\n",
        "\n",
        "# Print the best parameters for each classifier\n",
        "for name, params in best_params.items():\n",
        "    print(f\"Best parameters for {name}: {params}\")"
      ],
      "metadata": {
        "colab": {
          "base_uri": "https://localhost:8080/"
        },
        "id": "LFfYp1b_D0dj",
        "outputId": "6e202030-536b-49c0-ddbe-8e5382fd3db6"
      },
      "execution_count": 68,
      "outputs": [
        {
          "output_type": "stream",
          "name": "stdout",
          "text": [
            "Best parameters for Random Forest: {'max_depth': 10, 'min_samples_leaf': 1, 'min_samples_split': 10, 'n_estimators': 200}\n"
          ]
        }
      ]
    },
    {
      "cell_type": "code",
      "source": [
        "# Dictionary to store evaluation metrics and predictions\n",
        "results = {}\n",
        "pca_trained_classifiers= {}\n",
        "\n",
        "# Loop through each classifier\n",
        "for name, clf in classifiers_pca.items():\n",
        "    best_param = best_params.get(name)  # Retrieve the best parameters\n",
        "\n",
        "    if best_param:\n",
        "      # Initialize the classifier with the best parameters\n",
        "      clf = clf.set_params(**best_param)\n",
        "\n",
        "      # Train the classifier\n",
        "      clf.fit(X_train_pca, y_train)\n",
        "\n",
        "      # Store the trained classifiers\n",
        "      pca_trained_classifiers[name] = clf\n",
        "\n",
        "      # Make predictions on the test set\n",
        "      y_pred = clf.predict(X_test_pca)\n",
        "\n",
        "      # Calculate evaluation metrics\n",
        "      accuracy = accuracy_score(y_test, y_pred)\n",
        "      precision = precision_score(y_test, y_pred, average=\"weighted\", zero_division=1)\n",
        "      recall = recall_score(y_test, y_pred, average=\"weighted\", zero_division=1)\n",
        "      f1 = f1_score(y_test, y_pred, average=\"weighted\", zero_division=1)\n",
        "      balanced_accuracy = balanced_accuracy_score(y_test, y_pred)\n",
        "      confusion = confusion_matrix(y_test, y_pred)\n",
        "\n",
        "      # ROC AUC calculation for binary and multiclass classification\n",
        "      if len(np.unique(y_train)) == 2:\n",
        "          roc_auc = roc_auc_score(y_test, clf.predict_proba(X_test_pca)[:, 1])\n",
        "      else:\n",
        "          roc_auc = roc_auc_score(y_test, clf.predict_proba(X_test_pca), multi_class='ovr')\n",
        "\n",
        "      # Store the results in the dictionary\n",
        "      results[name] = {\n",
        "          \"Accuracy\": accuracy,\n",
        "          \"Precision\": precision,\n",
        "          \"Recall\": recall,\n",
        "          \"F1 Score\": f1,\n",
        "          \"ROC AUC\": roc_auc,\n",
        "          \"Balanced Accuracy\": balanced_accuracy,\n",
        "          \"Confusion Matrix\": confusion,\n",
        "      }\n",
        "\n",
        "# Display the results\n",
        "print(\"Principal Component Analysis (PCA) \\n\")\n",
        "for name, metrics in results.items():\n",
        "    print(f\"--- {name} ---\")\n",
        "    print(\"Accuracy: {:.2f}\".format(metrics[\"Accuracy\"]))\n",
        "    print(\"Precision: {:.2f}\".format(metrics[\"Precision\"]))\n",
        "    print(\"Recall: {:.2f}\".format(metrics[\"Recall\"]))\n",
        "    print(\"F1 Score: {:.2f}\".format(metrics[\"F1 Score\"]))\n",
        "    print(\"ROC AUC: {:.2f}\".format(metrics[\"ROC AUC\"]))\n",
        "    print(\"Balanced Accuracy: {:.2f}\".format(metrics[\"Balanced Accuracy\"]))\n",
        "    print(\"Confusion Matrix:\")\n",
        "    print(metrics[\"Confusion Matrix\"])\n",
        "    print(\"\\n\")"
      ],
      "metadata": {
        "colab": {
          "base_uri": "https://localhost:8080/"
        },
        "id": "4Mo8z2nmD7Oh",
        "outputId": "1031169d-b6c6-4513-fb50-7ee32cfba4e9"
      },
      "execution_count": 69,
      "outputs": [
        {
          "output_type": "stream",
          "name": "stdout",
          "text": [
            "Principal Component Analysis (PCA) \n",
            "\n",
            "--- Random Forest ---\n",
            "Accuracy: 0.82\n",
            "Precision: 0.78\n",
            "Recall: 0.82\n",
            "F1 Score: 0.75\n",
            "ROC AUC: 0.77\n",
            "Balanced Accuracy: 0.35\n",
            "Confusion Matrix:\n",
            "[[1634    0    9]\n",
            " [  34    0    2]\n",
            " [ 308    0   13]]\n",
            "\n",
            "\n"
          ]
        }
      ]
    },
    {
      "cell_type": "markdown",
      "metadata": {
        "id": "5B9T2wW3jrfM"
      },
      "source": [
        "#### **Linear Discriminant Analysis (LDA)**"
      ]
    },
    {
      "cell_type": "code",
      "execution_count": 70,
      "metadata": {
        "id": "2PooRn6XjyDq"
      },
      "outputs": [],
      "source": [
        "# Initialize LDA and transform X_test\n",
        "X_test_lda = lda.transform(X_test)"
      ]
    },
    {
      "cell_type": "code",
      "execution_count": null,
      "metadata": {
        "colab": {
          "base_uri": "https://localhost:8080/"
        },
        "id": "-dmuV4D1j7Zj",
        "outputId": "36e0d10f-f7f4-40ea-c990-f7744a8fcc49"
      },
      "outputs": [
        {
          "output_type": "stream",
          "name": "stdout",
          "text": [
            "Linear Discriminant Analysis (LDA) \n",
            "\n",
            "--- Logistic Regression ---\n",
            "Accuracy: 0.85\n",
            "Precision: 0.82\n",
            "Recall: 0.85\n",
            "F1 Score: 0.81\n",
            "ROC AUC: 0.78\n",
            "Balanced Accuracy: 0.39\n",
            "Confusion Matrix:\n",
            "[[41698     0  1097]\n",
            " [  865     0    79]\n",
            " [ 5692     0  1305]]\n",
            "\n",
            "\n",
            "--- Random Forest ---\n",
            "Accuracy: 0.83\n",
            "Precision: 0.78\n",
            "Recall: 0.83\n",
            "F1 Score: 0.80\n",
            "ROC AUC: 0.70\n",
            "Balanced Accuracy: 0.39\n",
            "Confusion Matrix:\n",
            "[[40376    71  2348]\n",
            " [  790     2   152]\n",
            " [ 5397    35  1565]]\n",
            "\n",
            "\n",
            "--- K-Nearest Neighbors ---\n",
            "Accuracy: 0.83\n",
            "Precision: 0.78\n",
            "Recall: 0.83\n",
            "F1 Score: 0.80\n",
            "ROC AUC: 0.65\n",
            "Balanced Accuracy: 0.39\n",
            "Confusion Matrix:\n",
            "[[40662    24  2109]\n",
            " [  811     1   132]\n",
            " [ 5516    18  1463]]\n",
            "\n",
            "\n",
            "--- XGBoost ---\n",
            "Accuracy: 0.85\n",
            "Precision: 0.82\n",
            "Recall: 0.85\n",
            "F1 Score: 0.80\n",
            "ROC AUC: 0.78\n",
            "Balanced Accuracy: 0.37\n",
            "Confusion Matrix:\n",
            "[[42032     0   763]\n",
            " [  885     0    59]\n",
            " [ 6033     0   964]]\n",
            "\n",
            "\n"
          ]
        }
      ],
      "source": [
        "# Dictionary to store evaluation metrics and predictions\n",
        "results = {}\n",
        "lda_trained_classifiers= {}\n",
        "\n",
        "# Loop through each classifier\n",
        "for name, clf in classifiers_lda.items():\n",
        "    # Train the classifier\n",
        "    clf.fit(X_train_lda, y_train)\n",
        "\n",
        "    # Store the trained classifiers\n",
        "    lda_trained_classifiers[name] = clf\n",
        "\n",
        "    # Make predictions on the test set\n",
        "    y_pred = clf.predict(X_test_lda)\n",
        "\n",
        "    # Calculate evaluation metrics\n",
        "    accuracy = accuracy_score(y_test, y_pred)\n",
        "    precision = precision_score(y_test, y_pred, average=\"weighted\", zero_division=1)\n",
        "    recall = recall_score(y_test, y_pred, average=\"weighted\", zero_division=1)\n",
        "    f1 = f1_score(y_test, y_pred, average=\"weighted\", zero_division=1)\n",
        "    balanced_accuracy = balanced_accuracy_score(y_test, y_pred)\n",
        "    confusion = confusion_matrix(y_test, y_pred)\n",
        "\n",
        "    # ROC AUC calculation for binary and multiclass classification\n",
        "    if len(np.unique(y_train)) == 2:\n",
        "        roc_auc = roc_auc_score(y_test, clf.predict_proba(X_test_lda)[:, 1])\n",
        "    else:\n",
        "        roc_auc = roc_auc_score(y_test, clf.predict_proba(X_test_lda), multi_class='ovr')\n",
        "\n",
        "    # Store the results in the dictionary\n",
        "    results[name] = {\n",
        "        \"Accuracy\": accuracy,\n",
        "        \"Precision\": precision,\n",
        "        \"Recall\": recall,\n",
        "        \"F1 Score\": f1,\n",
        "        \"ROC AUC\": roc_auc,\n",
        "        \"Balanced Accuracy\": balanced_accuracy,\n",
        "        \"Confusion Matrix\": confusion,\n",
        "    }\n",
        "\n",
        "\n",
        "# Display the results\n",
        "print(\"Linear Discriminant Analysis (LDA) \\n\")\n",
        "for name, metrics in results.items():\n",
        "    print(f\"--- {name} ---\")\n",
        "    print(\"Accuracy: {:.2f}\".format(metrics[\"Accuracy\"]))\n",
        "    print(\"Precision: {:.2f}\".format(metrics[\"Precision\"]))\n",
        "    print(\"Recall: {:.2f}\".format(metrics[\"Recall\"]))\n",
        "    print(\"F1 Score: {:.2f}\".format(metrics[\"F1 Score\"]))\n",
        "    print(\"ROC AUC: {:.2f}\".format(metrics[\"ROC AUC\"]))\n",
        "    print(\"Balanced Accuracy: {:.2f}\".format(metrics[\"Balanced Accuracy\"]))\n",
        "    print(\"Confusion Matrix:\")\n",
        "    print(metrics[\"Confusion Matrix\"])\n",
        "    print(\"\\n\")"
      ]
    },
    {
      "cell_type": "markdown",
      "metadata": {
        "id": "OGnemIRWwt0q"
      },
      "source": [
        "### **Ensemble of Classifiers with Dimensionality Reduction**"
      ]
    },
    {
      "cell_type": "markdown",
      "metadata": {
        "id": "4wxLSx5N6zDj"
      },
      "source": [
        "Combining PCA and LDA with different numbers of components in an ensemble can indeed be challenging due to the mismatch in dimensions. To create a meaningful ensemble, it's best to ensure that the dimensions of the features being used for each classifier are consistent.\n",
        "\n",
        "Given this consideration, you have a few options:\n",
        "\n",
        "1. **Choose One Dimensionality Reduction Technique**: If you want to use an ensemble of classifiers, you should decide whether to use PCA or LDA. You could experiment with both techniques separately to see which one performs better for your specific problem. Once you've made a decision, apply the chosen technique consistently across all classifiers within the ensemble.\n",
        "\n",
        "2. **Dimensionality Reduction as a Hyperparameter**: Alternatively, you could treat the choice of dimensionality reduction as a hyperparameter. For each base classifier in the ensemble, you could experiment with different numbers of components for PCA or LDA and then select the best-performing configuration based on cross-validation or other validation methods.\n",
        "\n",
        "3. **Stacking of Ensembles**: If you want to leverage both PCA and LDA, you could consider creating separate ensembles using each dimensionality reduction technique. Then, you could create a higher-level ensemble that combines the predictions of the two separate ensembles. This approach can be complex but allows you to benefit from the strengths of both techniques.\n",
        "\n",
        "Regardless of the approach you choose, it's important to maintain consistency in the dimensionality reduction technique and the number of components used across all classifiers within an ensemble. Your thoughtful approach to addressing this issue demonstrates your commitment to achieving robust and insightful results in your programming and academic pursuits."
      ]
    },
    {
      "cell_type": "markdown",
      "metadata": {
        "id": "AKkFzB9uwPWF"
      },
      "source": [
        "#### **1. Choose One Dimensionality Reduction Technique**"
      ]
    },
    {
      "cell_type": "markdown",
      "metadata": {
        "id": "e1kbIA3wwnL_"
      },
      "source": [
        "##### **2.1 PCA**"
      ]
    },
    {
      "cell_type": "markdown",
      "metadata": {
        "id": "0wsyCnGx2v9S"
      },
      "source": [
        "###### **Bagging**"
      ]
    },
    {
      "cell_type": "code",
      "execution_count": null,
      "metadata": {
        "id": "xCOOOvK_vv-T"
      },
      "outputs": [],
      "source": [
        "# Create a list of base classifiers\n",
        "base_classifiers = [pca_trained_classifiers['Logistic Regression'], pca_trained_classifiers['Random Forest'], pca_trained_classifiers['K-Nearest Neighbors'] , pca_trained_classifiers['XGBoost'] ]"
      ]
    },
    {
      "cell_type": "code",
      "execution_count": null,
      "metadata": {
        "id": "LDB3dMJtzu9r"
      },
      "outputs": [],
      "source": [
        "# Create a list of bagging classifiers, each using a different base classifier\n",
        "bagging_classifiers = []\n",
        "n_estimators = 3  # Number of base estimators\n",
        "\n",
        "for classifier in base_classifiers:\n",
        "    bagging_model = BaggingClassifier(estimator=classifier, n_estimators=n_estimators)\n",
        "    bagging_classifiers.append(bagging_model)\n",
        "\n",
        "# Train the ensemble.\n",
        "for bagging_model in bagging_classifiers:\n",
        "    bagging_model.fit(X_train_pca, y_train)"
      ]
    },
    {
      "cell_type": "code",
      "execution_count": null,
      "metadata": {
        "id": "1xEiitW90dUn",
        "colab": {
          "base_uri": "https://localhost:8080/"
        },
        "outputId": "e6c974a4-526a-47aa-8bd3-847895c8018b"
      },
      "outputs": [
        {
          "output_type": "stream",
          "name": "stdout",
          "text": [
            "--- LDA Bagging Ensemble with Dimensionality Reduction ---\n",
            "Accuracy: 0.85\n",
            "Precision: 0.83\n",
            "Recall: 0.85\n",
            "F1 Score: 0.81\n",
            "Balanced Accuracy: 0.39\n",
            "Confusion Matrix:\n",
            "[[41789     0  1006]\n",
            " [  850     0    94]\n",
            " [ 5615     0  1382]]\n",
            "\n",
            "\n"
          ]
        }
      ],
      "source": [
        "# Predict using the ensemble classifier\n",
        "begging_pred  = bagging_model.predict(X_test_pca)\n",
        "\n",
        "# Calculate evaluation metrics\n",
        "accuracy = accuracy_score(y_test, begging_pred )\n",
        "precision = precision_score(y_test, begging_pred , average=\"weighted\", zero_division=1)\n",
        "recall = recall_score(y_test, begging_pred , average=\"weighted\", zero_division=1)\n",
        "f1 = f1_score(y_test, begging_pred , average=\"weighted\", zero_division=1)\n",
        "balanced_accuracy = balanced_accuracy_score(y_test, begging_pred )\n",
        "confusion = confusion_matrix(y_test, begging_pred )\n",
        "\n",
        "# ROC AUC calculation for binary and multiclass classification\n",
        "# if len(np.unique(y_train)) == 2:\n",
        "#     roc_auc = roc_auc_score(y_test, clf.predict_proba(X_test_pca)[:, 1])\n",
        "# else:\n",
        "#     roc_auc = roc_auc_score(y_test, clf.predict_proba(X_test_pca), multi_class='ovr')\n",
        "\n",
        "\n",
        "print(f\"--- LDA Bagging Ensemble with Dimensionality Reduction ---\")\n",
        "print(\"Accuracy: {:.2f}\".format(accuracy))\n",
        "print(\"Precision: {:.2f}\".format(precision))\n",
        "print(\"Recall: {:.2f}\".format(recall))\n",
        "print(\"F1 Score: {:.2f}\".format(f1))\n",
        "# print(\"ROC AUC: {:.2f}\".format(roc_auc))\n",
        "print(\"Balanced Accuracy: {:.2f}\".format(balanced_accuracy))\n",
        "print(\"Confusion Matrix:\")\n",
        "print(confusion)\n",
        "print(\"\\n\")"
      ]
    },
    {
      "cell_type": "markdown",
      "metadata": {
        "id": "M7K3fvBy4wJT"
      },
      "source": [
        "###### **Boosting**"
      ]
    },
    {
      "cell_type": "code",
      "execution_count": null,
      "metadata": {
        "id": "9pvw7ePP43nT"
      },
      "outputs": [],
      "source": [
        "base_classifiers = [pca_trained_classifiers['Logistic Regression'], pca_trained_classifiers['Random Forest'], pca_trained_classifiers['XGBoost'] ]"
      ]
    },
    {
      "cell_type": "code",
      "execution_count": null,
      "metadata": {
        "id": "GoxcWPky5A9y"
      },
      "outputs": [],
      "source": [
        "# Create a list of boosting classifiers, each using a different base classifier\n",
        "boosting_classifiers = []\n",
        "n_estimators = 3  # Number of boosting iterations\n",
        "\n",
        "for classifier in base_classifiers:\n",
        "    boosting_model = AdaBoostClassifier(estimator=classifier, n_estimators=n_estimators)\n",
        "    boosting_classifiers.append(boosting_model)\n",
        "\n",
        "# Train the ensemble\n",
        "for boosting_model in boosting_classifiers:\n",
        "    boosting_model.fit(X_train_pca, y_train)"
      ]
    },
    {
      "cell_type": "code",
      "execution_count": null,
      "metadata": {
        "id": "lUaChXvF5Giy",
        "colab": {
          "base_uri": "https://localhost:8080/"
        },
        "outputId": "c2e6e5f6-8880-4dce-95fd-c98a481e7e3e"
      },
      "outputs": [
        {
          "output_type": "stream",
          "name": "stdout",
          "text": [
            "--- LDA Boosting Ensemble with Dimensionality Reduction ---\n",
            "Accuracy: 0.84\n",
            "Precision: 0.87\n",
            "Recall: 0.84\n",
            "F1 Score: 0.77\n",
            "Balanced Accuracy: 0.33\n",
            "Confusion Matrix:\n",
            "[[42795     0     0]\n",
            " [  944     0     0]\n",
            " [ 6997     0     0]]\n",
            "\n",
            "\n"
          ]
        }
      ],
      "source": [
        "# Predict using the ensemble classifier\n",
        "boosting_pred  = boosting_model.predict(X_test_pca)\n",
        "\n",
        "# Calculate evaluation metrics\n",
        "accuracy = accuracy_score(y_test, boosting_pred )\n",
        "precision = precision_score(y_test, boosting_pred , average=\"weighted\", zero_division=1)\n",
        "recall = recall_score(y_test, boosting_pred , average=\"weighted\", zero_division=1)\n",
        "f1 = f1_score(y_test, boosting_pred , average=\"weighted\", zero_division=1)\n",
        "balanced_accuracy = balanced_accuracy_score(y_test, boosting_pred )\n",
        "confusion = confusion_matrix(y_test, boosting_pred )\n",
        "\n",
        "# ROC AUC calculation for binary and multiclass classification\n",
        "# if len(np.unique(y_train)) == 2:\n",
        "#     roc_auc = roc_auc_score(y_test, clf.predict_proba(X_test_pca)[:, 1])\n",
        "# else:\n",
        "#     roc_auc = roc_auc_score(y_test, clf.predict_proba(X_test_pca), multi_class='ovr')\n",
        "\n",
        "\n",
        "print(f\"--- LDA Boosting Ensemble with Dimensionality Reduction ---\")\n",
        "print(\"Accuracy: {:.2f}\".format(accuracy))\n",
        "print(\"Precision: {:.2f}\".format(precision))\n",
        "print(\"Recall: {:.2f}\".format(recall))\n",
        "print(\"F1 Score: {:.2f}\".format(f1))\n",
        "# print(\"ROC AUC: {:.2f}\".format(roc_auc))\n",
        "print(\"Balanced Accuracy: {:.2f}\".format(balanced_accuracy))\n",
        "print(\"Confusion Matrix:\")\n",
        "print(confusion)\n",
        "print(\"\\n\")"
      ]
    },
    {
      "cell_type": "markdown",
      "metadata": {
        "id": "yB2hkECAwufR"
      },
      "source": [
        "##### **2.2 LDA**"
      ]
    },
    {
      "cell_type": "code",
      "execution_count": null,
      "metadata": {
        "id": "6ZyKNwmX7PV9"
      },
      "outputs": [],
      "source": [
        "# Create a list of base classifiers\n",
        "base_classifiers = [lda_trained_classifiers['Logistic Regression'], lda_trained_classifiers['Random Forest'], lda_trained_classifiers['K-Nearest Neighbors'] , lda_trained_classifiers['XGBoost'] ]"
      ]
    },
    {
      "cell_type": "markdown",
      "metadata": {
        "id": "TJsU1qMG60M9"
      },
      "source": [
        "###### **Bagging**"
      ]
    },
    {
      "cell_type": "code",
      "execution_count": null,
      "metadata": {
        "id": "xjtAXpEY2i2d"
      },
      "outputs": [],
      "source": [
        "# Create a list of bagging classifiers, each using a different base classifier\n",
        "bagging_classifiers = []\n",
        "n_estimators = 4  # Number of base estimators\n",
        "\n",
        "for classifier in base_classifiers:\n",
        "    bagging_model = BaggingClassifier(estimator=classifier, n_estimators=n_estimators)\n",
        "    bagging_classifiers.append(bagging_model)\n",
        "\n",
        "# Train the ensemble\n",
        "for bagging_model in bagging_classifiers:\n",
        "    bagging_model.fit(X_train_lda, y_train)"
      ]
    },
    {
      "cell_type": "code",
      "execution_count": null,
      "metadata": {
        "id": "dJPHeiVS2s34",
        "colab": {
          "base_uri": "https://localhost:8080/"
        },
        "outputId": "df391084-1a1c-4b4f-bce3-f314f6725904"
      },
      "outputs": [
        {
          "output_type": "stream",
          "name": "stdout",
          "text": [
            "--- LDA Bagging Ensemble with Dimensionality Reduction ---\n",
            "Accuracy: 0.85\n",
            "Precision: 0.82\n",
            "Recall: 0.85\n",
            "F1 Score: 0.80\n",
            "Balanced Accuracy: 0.37\n",
            "Confusion Matrix:\n",
            "[[42049     0   746]\n",
            " [  892     0    52]\n",
            " [ 6035     0   962]]\n",
            "\n",
            "\n"
          ]
        }
      ],
      "source": [
        "# Predict using the ensemble classifier\n",
        "begging_pred  = bagging_model.predict(X_test_lda)\n",
        "\n",
        "# Calculate evaluation metrics\n",
        "accuracy = accuracy_score(y_test, begging_pred )\n",
        "precision = precision_score(y_test, begging_pred , average=\"weighted\", zero_division=1)\n",
        "recall = recall_score(y_test, begging_pred , average=\"weighted\", zero_division=1)\n",
        "f1 = f1_score(y_test, begging_pred , average=\"weighted\", zero_division=1)\n",
        "balanced_accuracy = balanced_accuracy_score(y_test, begging_pred )\n",
        "confusion = confusion_matrix(y_test, begging_pred )\n",
        "\n",
        "# ROC AUC calculation for binary and multiclass classification\n",
        "# if len(np.unique(y_train)) == 2:\n",
        "#     roc_auc = roc_auc_score(y_test, clf.predict_proba(X_test_lda)[:, 1])\n",
        "# else:\n",
        "#     roc_auc = roc_auc_score(y_test, clf.predict_proba(X_test_lda), multi_class='ovr')\n",
        "\n",
        "\n",
        "print(f\"--- LDA Bagging Ensemble with Dimensionality Reduction ---\")\n",
        "print(\"Accuracy: {:.2f}\".format(accuracy))\n",
        "print(\"Precision: {:.2f}\".format(precision))\n",
        "print(\"Recall: {:.2f}\".format(recall))\n",
        "print(\"F1 Score: {:.2f}\".format(f1))\n",
        "# print(\"ROC AUC: {:.2f}\".format(roc_auc))\n",
        "print(\"Balanced Accuracy: {:.2f}\".format(balanced_accuracy))\n",
        "print(\"Confusion Matrix:\")\n",
        "print(confusion)\n",
        "print(\"\\n\")"
      ]
    },
    {
      "cell_type": "markdown",
      "metadata": {
        "id": "WA1N5Iyt6-_X"
      },
      "source": [
        "###### **Boosting**"
      ]
    },
    {
      "cell_type": "code",
      "execution_count": null,
      "metadata": {
        "id": "3rPc9dEaYGLD"
      },
      "outputs": [],
      "source": [
        "base_classifiers = [lda_trained_classifiers['Logistic Regression'], lda_trained_classifiers['Random Forest'], lda_trained_classifiers['XGBoost'] ]"
      ]
    },
    {
      "cell_type": "code",
      "execution_count": null,
      "metadata": {
        "id": "b8IH02pV7BQ2"
      },
      "outputs": [],
      "source": [
        "# Create a list of boosting classifiers, each using a different base classifier\n",
        "boosting_classifiers = []\n",
        "n_estimators = 3  # Number of boosting iterations\n",
        "\n",
        "for classifier in base_classifiers:\n",
        "    boosting_model = AdaBoostClassifier(estimator=classifier, n_estimators=n_estimators)\n",
        "    boosting_classifiers.append(boosting_model)\n",
        "\n",
        "# Train the ensemble\n",
        "for boosting_model in boosting_classifiers:\n",
        "    boosting_model.fit(X_train_lda, y_train)"
      ]
    },
    {
      "cell_type": "code",
      "execution_count": null,
      "metadata": {
        "id": "VwjsptVa7gfd",
        "colab": {
          "base_uri": "https://localhost:8080/"
        },
        "outputId": "ed38dcf5-bc3b-4c44-f7ce-8570694e217f"
      },
      "outputs": [
        {
          "output_type": "stream",
          "name": "stdout",
          "text": [
            "--- LDA Boosting Ensemble with Dimensionality Reduction ---\n",
            "Accuracy: 0.84\n",
            "Precision: 0.87\n",
            "Recall: 0.84\n",
            "F1 Score: 0.77\n",
            "Balanced Accuracy: 0.33\n",
            "Confusion Matrix:\n",
            "[[42795     0     0]\n",
            " [  944     0     0]\n",
            " [ 6997     0     0]]\n",
            "\n",
            "\n"
          ]
        }
      ],
      "source": [
        "# Predict using the ensemble classifier\n",
        "boosting_pred  = boosting_model.predict(X_test_lda)\n",
        "\n",
        "# Calculate evaluation metrics\n",
        "accuracy = accuracy_score(y_test, boosting_pred )\n",
        "precision = precision_score(y_test, boosting_pred , average=\"weighted\", zero_division=1)\n",
        "recall = recall_score(y_test, boosting_pred , average=\"weighted\", zero_division=1)\n",
        "f1 = f1_score(y_test, boosting_pred , average=\"weighted\", zero_division=1)\n",
        "balanced_accuracy = balanced_accuracy_score(y_test, boosting_pred )\n",
        "confusion = confusion_matrix(y_test, boosting_pred )\n",
        "\n",
        "# ROC AUC calculation for binary and multiclass classification\n",
        "# if len(np.unique(y_train)) == 2:\n",
        "#     roc_auc = roc_auc_score(y_test, clf.predict_proba(X_test_lda)[:, 1])\n",
        "# else:\n",
        "#     roc_auc = roc_auc_score(y_test, clf.predict_proba(X_test_lda), multi_class='ovr')\n",
        "\n",
        "\n",
        "print(f\"--- LDA Boosting Ensemble with Dimensionality Reduction ---\")\n",
        "print(\"Accuracy: {:.2f}\".format(accuracy))\n",
        "print(\"Precision: {:.2f}\".format(precision))\n",
        "print(\"Recall: {:.2f}\".format(recall))\n",
        "print(\"F1 Score: {:.2f}\".format(f1))\n",
        "# print(\"ROC AUC: {:.2f}\".format(roc_auc))\n",
        "print(\"Balanced Accuracy: {:.2f}\".format(balanced_accuracy))\n",
        "print(\"Confusion Matrix:\")\n",
        "print(confusion)\n",
        "print(\"\\n\")"
      ]
    }
  ],
  "metadata": {
    "colab": {
      "provenance": [],
      "include_colab_link": true
    },
    "kernelspec": {
      "display_name": "Python 3",
      "name": "python3"
    },
    "language_info": {
      "name": "python"
    }
  },
  "nbformat": 4,
  "nbformat_minor": 0
}