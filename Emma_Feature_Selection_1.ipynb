{
  "nbformat": 4,
  "nbformat_minor": 0,
  "metadata": {
    "colab": {
      "provenance": [],
      "authorship_tag": "ABX9TyPeL0qkyjNLol8PWCFlgOyo",
      "include_colab_link": true
    },
    "kernelspec": {
      "name": "python3",
      "display_name": "Python 3"
    },
    "language_info": {
      "name": "python"
    }
  },
  "cells": [
    {
      "cell_type": "markdown",
      "metadata": {
        "id": "view-in-github",
        "colab_type": "text"
      },
      "source": [
        "<a href=\"https://colab.research.google.com/github/tsholofelo-mokheleli/ACIS-2023-New-Zealand/blob/main/Emma_Feature_Selection_1.ipynb\" target=\"_parent\"><img src=\"https://colab.research.google.com/assets/colab-badge.svg\" alt=\"Open In Colab\"/></a>"
      ]
    },
    {
      "cell_type": "code",
      "execution_count": 27,
      "metadata": {
        "id": "NDC6S0J46krG"
      },
      "outputs": [],
      "source": [
        "# Load the libraries\n",
        "import pandas as pd\n",
        "import matplotlib.pyplot as plt\n",
        "import seaborn as sea\n",
        "import numpy as np\n",
        "import seaborn as sns\n",
        "\n",
        "# Scaler\n",
        "from sklearn.preprocessing import StandardScaler\n",
        "\n",
        "# Dimensionality reduction\n",
        "from sklearn.decomposition import PCA\n",
        "from sklearn.discriminant_analysis import LinearDiscriminantAnalysis\n",
        "\n",
        "# Feature Selection\n",
        "from sklearn.feature_selection import RFECV\n",
        "from sklearn.model_selection import StratifiedKFold\n",
        "\n",
        "# Warning filter\n",
        "import warnings\n",
        "warnings.filterwarnings('ignore')\n",
        "cmap=sns.color_palette('Blues_r')\n",
        "\n",
        "# Metrics\n",
        "from sklearn.model_selection import train_test_split\n",
        "from sklearn.model_selection import cross_val_score\n",
        "from sklearn.metrics import accuracy_score, precision_score, recall_score, f1_score, roc_auc_score, cohen_kappa_score, confusion_matrix, balanced_accuracy_score\n",
        "from imblearn.metrics import geometric_mean_score\n",
        "\n",
        "# Classifiers\n",
        "from sklearn.linear_model import LogisticRegression\n",
        "from sklearn.ensemble import RandomForestClassifier\n",
        "from xgboost import XGBClassifier\n",
        "from sklearn.neighbors import KNeighborsClassifier\n",
        "\n",
        "\n",
        "# Plot Theme\n",
        "sns.set_style(\"darkgrid\")\n",
        "plt.style.use(\"seaborn-deep\")"
      ]
    },
    {
      "cell_type": "markdown",
      "source": [
        "**Load the Data**"
      ],
      "metadata": {
        "id": "d0Afq_O06-pj"
      }
    },
    {
      "cell_type": "code",
      "source": [
        "data = pd.read_csv(\"Diabetes Multi-Class.csv\", sep=';', on_bad_lines='skip')"
      ],
      "metadata": {
        "id": "coneyZwj6-Dk"
      },
      "execution_count": 15,
      "outputs": []
    },
    {
      "cell_type": "code",
      "source": [
        "data.shape"
      ],
      "metadata": {
        "colab": {
          "base_uri": "https://localhost:8080/"
        },
        "id": "HGctoUOR7EdK",
        "outputId": "8d89d144-afdf-4ad0-89b2-a1157397f2da"
      },
      "execution_count": 16,
      "outputs": [
        {
          "output_type": "execute_result",
          "data": {
            "text/plain": [
              "(10000, 23)"
            ]
          },
          "metadata": {},
          "execution_count": 16
        }
      ]
    },
    {
      "cell_type": "code",
      "source": [
        "data.info()"
      ],
      "metadata": {
        "colab": {
          "base_uri": "https://localhost:8080/"
        },
        "id": "7PJK0WPM7FwZ",
        "outputId": "26afec20-9021-47bc-96be-b2f9eed07514"
      },
      "execution_count": 17,
      "outputs": [
        {
          "output_type": "stream",
          "name": "stdout",
          "text": [
            "<class 'pandas.core.frame.DataFrame'>\n",
            "RangeIndex: 10000 entries, 0 to 9999\n",
            "Data columns (total 23 columns):\n",
            " #   Column                Non-Null Count  Dtype  \n",
            "---  ------                --------------  -----  \n",
            " 0   Patient               10000 non-null  int64  \n",
            " 1   Diabetes_012          10000 non-null  float64\n",
            " 2   HighBP                10000 non-null  float64\n",
            " 3   HighChol              10000 non-null  float64\n",
            " 4   CholCheck             10000 non-null  float64\n",
            " 5   BMI                   10000 non-null  float64\n",
            " 6   Smoker                10000 non-null  float64\n",
            " 7   Stroke                10000 non-null  float64\n",
            " 8   HeartDiseaseorAttack  10000 non-null  float64\n",
            " 9   PhysActivity          10000 non-null  float64\n",
            " 10  Fruits                10000 non-null  float64\n",
            " 11  Veggies               10000 non-null  float64\n",
            " 12  HvyAlcoholConsump     10000 non-null  float64\n",
            " 13  AnyHealthcare         10000 non-null  float64\n",
            " 14  NoDocbcCost           10000 non-null  float64\n",
            " 15  GenHlth               10000 non-null  float64\n",
            " 16  MentHlth              10000 non-null  float64\n",
            " 17  PhysHlth              10000 non-null  float64\n",
            " 18  DiffWalk              10000 non-null  float64\n",
            " 19  Sex                   10000 non-null  float64\n",
            " 20  Age                   10000 non-null  float64\n",
            " 21  Education             10000 non-null  float64\n",
            " 22  Income                10000 non-null  float64\n",
            "dtypes: float64(22), int64(1)\n",
            "memory usage: 1.8 MB\n"
          ]
        }
      ]
    },
    {
      "cell_type": "code",
      "source": [
        "data = data.drop([\"Patient\"], axis=1)\n",
        "data = data.dropna()\n",
        "\n",
        "# Convert all columns to int data type\n",
        "for column in data.columns:\n",
        "    data[column] = data[column].astype('float')\n",
        "\n",
        "data.info()"
      ],
      "metadata": {
        "colab": {
          "base_uri": "https://localhost:8080/"
        },
        "id": "SvAT8xjj7Ivc",
        "outputId": "6f845e12-200e-40c2-8fd2-f8fffe232370"
      },
      "execution_count": 18,
      "outputs": [
        {
          "output_type": "stream",
          "name": "stdout",
          "text": [
            "<class 'pandas.core.frame.DataFrame'>\n",
            "RangeIndex: 10000 entries, 0 to 9999\n",
            "Data columns (total 22 columns):\n",
            " #   Column                Non-Null Count  Dtype  \n",
            "---  ------                --------------  -----  \n",
            " 0   Diabetes_012          10000 non-null  float64\n",
            " 1   HighBP                10000 non-null  float64\n",
            " 2   HighChol              10000 non-null  float64\n",
            " 3   CholCheck             10000 non-null  float64\n",
            " 4   BMI                   10000 non-null  float64\n",
            " 5   Smoker                10000 non-null  float64\n",
            " 6   Stroke                10000 non-null  float64\n",
            " 7   HeartDiseaseorAttack  10000 non-null  float64\n",
            " 8   PhysActivity          10000 non-null  float64\n",
            " 9   Fruits                10000 non-null  float64\n",
            " 10  Veggies               10000 non-null  float64\n",
            " 11  HvyAlcoholConsump     10000 non-null  float64\n",
            " 12  AnyHealthcare         10000 non-null  float64\n",
            " 13  NoDocbcCost           10000 non-null  float64\n",
            " 14  GenHlth               10000 non-null  float64\n",
            " 15  MentHlth              10000 non-null  float64\n",
            " 16  PhysHlth              10000 non-null  float64\n",
            " 17  DiffWalk              10000 non-null  float64\n",
            " 18  Sex                   10000 non-null  float64\n",
            " 19  Age                   10000 non-null  float64\n",
            " 20  Education             10000 non-null  float64\n",
            " 21  Income                10000 non-null  float64\n",
            "dtypes: float64(22)\n",
            "memory usage: 1.7 MB\n"
          ]
        }
      ]
    },
    {
      "cell_type": "code",
      "source": [
        "class_counts = data['Diabetes_012'].value_counts()\n",
        "print(class_counts)"
      ],
      "metadata": {
        "colab": {
          "base_uri": "https://localhost:8080/"
        },
        "id": "0w9kD6aq7Lc7",
        "outputId": "58fb5607-37cc-4f7c-deff-031c00f2352d"
      },
      "execution_count": 19,
      "outputs": [
        {
          "output_type": "stream",
          "name": "stdout",
          "text": [
            "0.0    8216\n",
            "2.0    1606\n",
            "1.0     178\n",
            "Name: Diabetes_012, dtype: int64\n"
          ]
        }
      ]
    },
    {
      "cell_type": "code",
      "source": [
        "# Create a copy of the original dataset\n",
        "new_data = data.copy()\n",
        "\n",
        "mh_mapping = {0.0: 'No Diabetes', 1.0: 'Prediabetes', 2.0: 'Diabetes'}\n",
        "new_data['dhi_label'] = new_data['Diabetes_012'].map(mh_mapping)\n",
        "\n",
        "# Plot the distribution based on the new dataset\n",
        "sns.countplot(data=new_data, x='dhi_label')\n",
        "plt.xlabel('Diabetes Status')\n",
        "plt.ylabel('Count')\n",
        "plt.title('Diabetes Class Distribution')\n",
        "plt.show()"
      ],
      "metadata": {
        "colab": {
          "base_uri": "https://localhost:8080/",
          "height": 472
        },
        "id": "p-xmV3XM7M1T",
        "outputId": "3e2c32fb-3472-42b9-9dc1-3969b920fbab"
      },
      "execution_count": 20,
      "outputs": [
        {
          "output_type": "display_data",
          "data": {
            "text/plain": [
              "<Figure size 640x480 with 1 Axes>"
            ],
            "image/png": "[encoded data removed]"
          },
          "metadata": {}
        }
      ]
    },
    {
      "cell_type": "code",
      "source": [
        "# Calculate the correlation matrix\n",
        "correlation_matrix = data.corr()\n",
        "\n",
        "plt.figure(figsize=(10, 8))\n",
        "sns.heatmap(correlation_matrix, cmap='coolwarm')\n",
        "plt.title(\"Correlation Heatmap\")\n",
        "plt.show()"
      ],
      "metadata": {
        "colab": {
          "base_uri": "https://localhost:8080/",
          "height": 837
        },
        "id": "b_Nb8bie7RdD",
        "outputId": "b44b714f-bb01-4543-827c-341c37b2cb4a"
      },
      "execution_count": 21,
      "outputs": [
        {
          "output_type": "display_data",
          "data": {
            "text/plain": [
              "<Figure size 1000x800 with 2 Axes>"
            ],
            "image/png": "[encoded data removed]"
          },
          "metadata": {}
        }
      ]
    },
    {
      "cell_type": "code",
      "source": [
        "X = data.drop([\"Diabetes_012\"], axis=1)\n",
        "y = data['Diabetes_012']\n",
        "\n",
        "X_train, X_test, y_train, y_test = train_test_split(X, y, test_size=0.2, random_state=42, stratify=y)"
      ],
      "metadata": {
        "id": "pH8vkU5G7eQk"
      },
      "execution_count": 22,
      "outputs": []
    },
    {
      "cell_type": "code",
      "source": [
        "print(X_train.shape)"
      ],
      "metadata": {
        "colab": {
          "base_uri": "https://localhost:8080/"
        },
        "id": "OWpTPcsJ7fqT",
        "outputId": "46255e56-2041-4c34-e390-5fdc80342bd6"
      },
      "execution_count": 23,
      "outputs": [
        {
          "output_type": "stream",
          "name": "stdout",
          "text": [
            "(8000, 21)\n"
          ]
        }
      ]
    },
    {
      "cell_type": "code",
      "source": [
        "print(X_test.shape)"
      ],
      "metadata": {
        "colab": {
          "base_uri": "https://localhost:8080/"
        },
        "id": "IRw7oMsn7g4K",
        "outputId": "62ef1a40-330a-43df-ae0d-418e6c6437a0"
      },
      "execution_count": 24,
      "outputs": [
        {
          "output_type": "stream",
          "name": "stdout",
          "text": [
            "(2000, 21)\n"
          ]
        }
      ]
    },
    {
      "cell_type": "markdown",
      "source": [
        "**Baseline Models**"
      ],
      "metadata": {
        "id": "KKMgJrod7wdC"
      }
    },
    {
      "cell_type": "code",
      "source": [
        "# Define a list of classifiers\n",
        "classifiers = {\n",
        "    \"Logistic Regression\": LogisticRegression(),\n",
        "    \"Random Forest\": RandomForestClassifier(),\n",
        "    \"K-Nearest Neighbors\": KNeighborsClassifier(),\n",
        "    \"XGBoost\": XGBClassifier(),\n",
        "}"
      ],
      "metadata": {
        "id": "gaKZRZ5D7n-j"
      },
      "execution_count": 25,
      "outputs": []
    },
    {
      "cell_type": "code",
      "source": [
        "# Dictionary to store evaluation metrics\n",
        "results = {}\n",
        "\n",
        "# Loop through each classifier\n",
        "for name, clf in classifiers.items():\n",
        "    # Train the classifier\n",
        "    clf.fit(X_train, y_train)\n",
        "\n",
        "    # Make predictions on the test set\n",
        "    y_pred = clf.predict(X_test)\n",
        "\n",
        "    # Calculate evaluation metrics\n",
        "    accuracy = accuracy_score(y_test, y_pred)\n",
        "    precision = precision_score(y_test, y_pred, average=\"weighted\", zero_division=1)\n",
        "    recall = recall_score(y_test, y_pred, average=\"weighted\", zero_division=1)\n",
        "    f1 = f1_score(y_test, y_pred, average=\"weighted\", zero_division=1)\n",
        "    balanced_accuracy = balanced_accuracy_score(y_test, y_pred)\n",
        "    confusion = confusion_matrix(y_test, y_pred)\n",
        "\n",
        "    # ROC AUC calculation for binary and multiclass classification\n",
        "    if len(np.unique(y_train)) == 2:\n",
        "        roc_auc = roc_auc_score(y_test, clf.predict_proba(X_test)[:, 1])\n",
        "    else:\n",
        "        roc_auc = roc_auc_score(y_test, clf.predict_proba(X_test), multi_class='ovr')\n",
        "\n",
        "    # Store the results in the dictionary\n",
        "    results[name] = {\n",
        "        \"Accuracy\": accuracy,\n",
        "        \"Precision\": precision,\n",
        "        \"Recall\": recall,\n",
        "        \"F1 Score\": f1,\n",
        "        \"ROC AUC\": roc_auc,\n",
        "        \"Balanced Accuracy\": balanced_accuracy,\n",
        "        \"Confusion Matrix\": confusion,\n",
        "    }\n",
        "\n",
        "# Display the results\n",
        "for name, metrics in results.items():\n",
        "    print(f\"--- {name} ---\")\n",
        "    print(\"Accuracy: {:.2f}\".format(metrics[\"Accuracy\"]))\n",
        "    print(\"Precision: {:.2f}\".format(metrics[\"Precision\"]))\n",
        "    print(\"Recall: {:.2f}\".format(metrics[\"Recall\"]))\n",
        "    print(\"F1 Score: {:.2f}\".format(metrics[\"F1 Score\"]))\n",
        "    print(\"ROC AUC: {:.2f}\".format(metrics[\"ROC AUC\"]))\n",
        "    print(\"Balanced Accuracy: {:.2f}\".format(metrics[\"Balanced Accuracy\"]))\n",
        "    print(\"Confusion Matrix:\")\n",
        "    print(metrics[\"Confusion Matrix\"])\n",
        "    print(\"\\n\")"
      ],
      "metadata": {
        "colab": {
          "base_uri": "https://localhost:8080/"
        },
        "id": "bAIKiZPC7sXb",
        "outputId": "a8b518cd-ffaa-45e5-b4f4-11ae03f7e49b"
      },
      "execution_count": 26,
      "outputs": [
        {
          "output_type": "stream",
          "name": "stdout",
          "text": [
            "--- Logistic Regression ---\n",
            "Accuracy: 0.83\n",
            "Precision: 0.79\n",
            "Recall: 0.83\n",
            "F1 Score: 0.78\n",
            "ROC AUC: 0.75\n",
            "Balanced Accuracy: 0.38\n",
            "Confusion Matrix:\n",
            "[[1598    0   45]\n",
            " [  31    0    5]\n",
            " [ 267    0   54]]\n",
            "\n",
            "\n",
            "--- Random Forest ---\n",
            "Accuracy: 0.83\n",
            "Precision: 0.79\n",
            "Recall: 0.83\n",
            "F1 Score: 0.78\n",
            "ROC AUC: 0.73\n",
            "Balanced Accuracy: 0.38\n",
            "Confusion Matrix:\n",
            "[[1601    0   42]\n",
            " [  31    0    5]\n",
            " [ 271    0   50]]\n",
            "\n",
            "\n",
            "--- K-Nearest Neighbors ---\n",
            "Accuracy: 0.80\n",
            "Precision: 0.74\n",
            "Recall: 0.80\n",
            "F1 Score: 0.76\n",
            "ROC AUC: 0.65\n",
            "Balanced Accuracy: 0.37\n",
            "Confusion Matrix:\n",
            "[[1535    1  107]\n",
            " [  28    0    8]\n",
            " [ 263    0   58]]\n",
            "\n",
            "\n",
            "--- XGBoost ---\n",
            "Accuracy: 0.82\n",
            "Precision: 0.79\n",
            "Recall: 0.82\n",
            "F1 Score: 0.80\n",
            "ROC AUC: 0.75\n",
            "Balanced Accuracy: 0.41\n",
            "Confusion Matrix:\n",
            "[[1567    0   76]\n",
            " [  27    1    8]\n",
            " [ 239    1   81]]\n",
            "\n",
            "\n"
          ]
        }
      ]
    },
    {
      "cell_type": "markdown",
      "source": [
        "**Recursive Feature Elimination with Cross-Validation**"
      ],
      "metadata": {
        "id": "o47PFo6h8RUb"
      }
    },
    {
      "cell_type": "code",
      "source": [
        "X = data.drop([\"Diabetes_012\"], axis=1)\n",
        "y = data['Diabetes_012']"
      ],
      "metadata": {
        "id": "hQ4_bGxl8Tlt"
      },
      "execution_count": 28,
      "outputs": []
    },
    {
      "cell_type": "code",
      "source": [
        "# Define the machine learning model\n",
        "model = XGBClassifier()\n",
        "\n",
        "# Define the number of cross-validation folds\n",
        "cv = StratifiedKFold(n_splits=5)\n",
        "\n",
        "# Instantiate the RFECV object\n",
        "rfecv = RFECV(estimator=model, cv=cv)"
      ],
      "metadata": {
        "id": "HwM42ziK8oET"
      },
      "execution_count": 29,
      "outputs": []
    },
    {
      "cell_type": "code",
      "source": [
        "# Perform feature selection\n",
        "rfecv.fit(X, y)"
      ],
      "metadata": {
        "colab": {
          "base_uri": "https://localhost:8080/",
          "height": 118
        },
        "id": "ZqtMZK5P8xyr",
        "outputId": "aa0d5dae-ee91-4dd9-e537-cdcbe2f4a3dc"
      },
      "execution_count": 30,
      "outputs": [
        {
          "output_type": "execute_result",
          "data": {
            "text/plain": [
              "RFECV(cv=StratifiedKFold(n_splits=5, random_state=None, shuffle=False),\n",
              "      estimator=XGBClassifier(base_score=None, booster=None, callbacks=None,\n",
              "                              colsample_bylevel=None, colsample_bynode=None,\n",
              "                              colsample_bytree=None, early_stopping_rounds=None,\n",
              "                              enable_categorical=False, eval_metric=None,\n",
              "                              feature_types=None, gamma=None, gpu_id=None,\n",
              "                              grow_policy=None, importance_type=None,\n",
              "                              interaction_constraints=None, learning_rate=None,\n",
              "                              max_bin=None, max_cat_threshold=None,\n",
              "                              max_cat_to_onehot=None, max_delta_step=None,\n",
              "                              max_depth=None, max_leaves=None,\n",
              "                              min_child_weight=None, missing=nan,\n",
              "                              monotone_constraints=None, n_estimators=100,\n",
              "                              n_jobs=None, num_parallel_tree=None,\n",
              "                              predictor=None, random_state=None, ...))"
            ],
            "text/html": [
              "<style>#sk-container-id-1 {color: black;background-color: white;}#sk-container-id-1 pre{padding: 0;}#sk-container-id-1 div.sk-toggleable {background-color: white;}#sk-container-id-1 label.sk-toggleable__label {cursor: pointer;display: block;width: 100%;margin-bottom: 0;padding: 0.3em;box-sizing: border-box;text-align: center;}#sk-container-id-1 label.sk-toggleable__label-arrow:before {content: \"▸\";float: left;margin-right: 0.25em;color: #696969;}#sk-container-id-1 label.sk-toggleable__label-arrow:hover:before {color: black;}#sk-container-id-1 div.sk-estimator:hover label.sk-toggleable__label-arrow:before {color: black;}#sk-container-id-1 div.sk-toggleable__content {max-height: 0;max-width: 0;overflow: hidden;text-align: left;background-color: #f0f8ff;}#sk-container-id-1 div.sk-toggleable__content pre {margin: 0.2em;color: black;border-radius: 0.25em;background-color: #f0f8ff;}#sk-container-id-1 input.sk-toggleable__control:checked~div.sk-toggleable__content {max-height: 200px;max-width: 100%;overflow: auto;}#sk-container-id-1 input.sk-toggleable__control:checked~label.sk-toggleable__label-arrow:before {content: \"▾\";}#sk-container-id-1 div.sk-estimator input.sk-toggleable__control:checked~label.sk-toggleable__label {background-color: #d4ebff;}#sk-container-id-1 div.sk-label input.sk-toggleable__control:checked~label.sk-toggleable__label {background-color: #d4ebff;}#sk-container-id-1 input.sk-hidden--visually {border: 0;clip: rect(1px 1px 1px 1px);clip: rect(1px, 1px, 1px, 1px);height: 1px;margin: -1px;overflow: hidden;padding: 0;position: absolute;width: 1px;}#sk-container-id-1 div.sk-estimator {font-family: monospace;background-color: #f0f8ff;border: 1px dotted black;border-radius: 0.25em;box-sizing: border-box;margin-bottom: 0.5em;}#sk-container-id-1 div.sk-estimator:hover {background-color: #d4ebff;}#sk-container-id-1 div.sk-parallel-item::after {content: \"\";width: 100%;border-bottom: 1px solid gray;flex-grow: 1;}#sk-container-id-1 div.sk-label:hover label.sk-toggleable__label {background-color: #d4ebff;}#sk-container-id-1 div.sk-serial::before {content: \"\";position: absolute;border-left: 1px solid gray;box-sizing: border-box;top: 0;bottom: 0;left: 50%;z-index: 0;}#sk-container-id-1 div.sk-serial {display: flex;flex-direction: column;align-items: center;background-color: white;padding-right: 0.2em;padding-left: 0.2em;position: relative;}#sk-container-id-1 div.sk-item {position: relative;z-index: 1;}#sk-container-id-1 div.sk-parallel {display: flex;align-items: stretch;justify-content: center;background-color: white;position: relative;}#sk-container-id-1 div.sk-item::before, #sk-container-id-1 div.sk-parallel-item::before {content: \"\";position: absolute;border-left: 1px solid gray;box-sizing: border-box;top: 0;bottom: 0;left: 50%;z-index: -1;}#sk-container-id-1 div.sk-parallel-item {display: flex;flex-direction: column;z-index: 1;position: relative;background-color: white;}#sk-container-id-1 div.sk-parallel-item:first-child::after {align-self: flex-end;width: 50%;}#sk-container-id-1 div.sk-parallel-item:last-child::after {align-self: flex-start;width: 50%;}#sk-container-id-1 div.sk-parallel-item:only-child::after {width: 0;}#sk-container-id-1 div.sk-dashed-wrapped {border: 1px dashed gray;margin: 0 0.4em 0.5em 0.4em;box-sizing: border-box;padding-bottom: 0.4em;background-color: white;}#sk-container-id-1 div.sk-label label {font-family: monospace;font-weight: bold;display: inline-block;line-height: 1.2em;}#sk-container-id-1 div.sk-label-container {text-align: center;}#sk-container-id-1 div.sk-container {/* jupyter's `normalize.less` sets `[hidden] { display: none; }` but bootstrap.min.css set `[hidden] { display: none !important; }` so we also need the `!important` here to be able to override the default hidden behavior on the sphinx rendered scikit-learn.org. See: https://github.com/scikit-learn/scikit-learn/issues/21755 */display: inline-block !important;position: relative;}#sk-container-id-1 div.sk-text-repr-fallback {display: none;}</style><div id=\"sk-container-id-1\" class=\"sk-top-container\"><div class=\"sk-text-repr-fallback\"><pre>RFECV(cv=StratifiedKFold(n_splits=5, random_state=None, shuffle=False),\n",
              "      estimator=XGBClassifier(base_score=None, booster=None, callbacks=None,\n",
              "                              colsample_bylevel=None, colsample_bynode=None,\n",
              "                              colsample_bytree=None, early_stopping_rounds=None,\n",
              "                              enable_categorical=False, eval_metric=None,\n",
              "                              feature_types=None, gamma=None, gpu_id=None,\n",
              "                              grow_policy=None, importance_type=None,\n",
              "                              interaction_constraints=None, learning_rate=None,\n",
              "                              max_bin=None, max_cat_threshold=None,\n",
              "                              max_cat_to_onehot=None, max_delta_step=None,\n",
              "                              max_depth=None, max_leaves=None,\n",
              "                              min_child_weight=None, missing=nan,\n",
              "                              monotone_constraints=None, n_estimators=100,\n",
              "                              n_jobs=None, num_parallel_tree=None,\n",
              "                              predictor=None, random_state=None, ...))</pre><b>In a Jupyter environment, please rerun this cell to show the HTML representation or trust the notebook. <br />On GitHub, the HTML representation is unable to render, please try loading this page with nbviewer.org.</b></div><div class=\"sk-container\" hidden><div class=\"sk-item sk-dashed-wrapped\"><div class=\"sk-label-container\"><div class=\"sk-label sk-toggleable\"><input class=\"sk-toggleable__control sk-hidden--visually\" id=\"sk-estimator-id-1\" type=\"checkbox\" ><label for=\"sk-estimator-id-1\" class=\"sk-toggleable__label sk-toggleable__label-arrow\">RFECV</label><div class=\"sk-toggleable__content\"><pre>RFECV(cv=StratifiedKFold(n_splits=5, random_state=None, shuffle=False),\n",
              "      estimator=XGBClassifier(base_score=None, booster=None, callbacks=None,\n",
              "                              colsample_bylevel=None, colsample_bynode=None,\n",
              "                              colsample_bytree=None, early_stopping_rounds=None,\n",
              "                              enable_categorical=False, eval_metric=None,\n",
              "                              feature_types=None, gamma=None, gpu_id=None,\n",
              "                              grow_policy=None, importance_type=None,\n",
              "                              interaction_constraints=None, learning_rate=None,\n",
              "                              max_bin=None, max_cat_threshold=None,\n",
              "                              max_cat_to_onehot=None, max_delta_step=None,\n",
              "                              max_depth=None, max_leaves=None,\n",
              "                              min_child_weight=None, missing=nan,\n",
              "                              monotone_constraints=None, n_estimators=100,\n",
              "                              n_jobs=None, num_parallel_tree=None,\n",
              "                              predictor=None, random_state=None, ...))</pre></div></div></div><div class=\"sk-parallel\"><div class=\"sk-parallel-item\"><div class=\"sk-item\"><div class=\"sk-label-container\"><div class=\"sk-label sk-toggleable\"><input class=\"sk-toggleable__control sk-hidden--visually\" id=\"sk-estimator-id-2\" type=\"checkbox\" ><label for=\"sk-estimator-id-2\" class=\"sk-toggleable__label sk-toggleable__label-arrow\">estimator: XGBClassifier</label><div class=\"sk-toggleable__content\"><pre>XGBClassifier(base_score=None, booster=None, callbacks=None,\n",
              "              colsample_bylevel=None, colsample_bynode=None,\n",
              "              colsample_bytree=None, early_stopping_rounds=None,\n",
              "              enable_categorical=False, eval_metric=None, feature_types=None,\n",
              "              gamma=None, gpu_id=None, grow_policy=None, importance_type=None,\n",
              "              interaction_constraints=None, learning_rate=None, max_bin=None,\n",
              "              max_cat_threshold=None, max_cat_to_onehot=None,\n",
              "              max_delta_step=None, max_depth=None, max_leaves=None,\n",
              "              min_child_weight=None, missing=nan, monotone_constraints=None,\n",
              "              n_estimators=100, n_jobs=None, num_parallel_tree=None,\n",
              "              predictor=None, random_state=None, ...)</pre></div></div></div><div class=\"sk-serial\"><div class=\"sk-item\"><div class=\"sk-estimator sk-toggleable\"><input class=\"sk-toggleable__control sk-hidden--visually\" id=\"sk-estimator-id-3\" type=\"checkbox\" ><label for=\"sk-estimator-id-3\" class=\"sk-toggleable__label sk-toggleable__label-arrow\">XGBClassifier</label><div class=\"sk-toggleable__content\"><pre>XGBClassifier(base_score=None, booster=None, callbacks=None,\n",
              "              colsample_bylevel=None, colsample_bynode=None,\n",
              "              colsample_bytree=None, early_stopping_rounds=None,\n",
              "              enable_categorical=False, eval_metric=None, feature_types=None,\n",
              "              gamma=None, gpu_id=None, grow_policy=None, importance_type=None,\n",
              "              interaction_constraints=None, learning_rate=None, max_bin=None,\n",
              "              max_cat_threshold=None, max_cat_to_onehot=None,\n",
              "              max_delta_step=None, max_depth=None, max_leaves=None,\n",
              "              min_child_weight=None, missing=nan, monotone_constraints=None,\n",
              "              n_estimators=100, n_jobs=None, num_parallel_tree=None,\n",
              "              predictor=None, random_state=None, ...)</pre></div></div></div></div></div></div></div></div></div></div>"
            ]
          },
          "metadata": {},
          "execution_count": 30
        }
      ]
    },
    {
      "cell_type": "code",
      "source": [
        "# Get the selected features\n",
        "selected_features = X.columns[rfecv.support_]"
      ],
      "metadata": {
        "id": "HKfwWMhh8z3j"
      },
      "execution_count": 31,
      "outputs": []
    },
    {
      "cell_type": "code",
      "source": [
        "# Get the optimal number of features\n",
        "optimal_num_features = rfecv.n_features_"
      ],
      "metadata": {
        "id": "fpPugKJ881ZV"
      },
      "execution_count": 32,
      "outputs": []
    },
    {
      "cell_type": "code",
      "source": [
        "# Print the optimal number of features\n",
        "print(\"Optimal Number of Features:\", optimal_num_features)\n",
        "\n",
        "features_selected = []\n",
        "# Print the selected features\n",
        "print(\"Selected Features:\")\n",
        "for feature in selected_features:\n",
        "  features_selected.append(feature)\n",
        "  print(f\"'{feature}',\")"
      ],
      "metadata": {
        "colab": {
          "base_uri": "https://localhost:8080/"
        },
        "id": "_n6CR6AQ83ab",
        "outputId": "5fd6e1be-7bb1-41c1-f0a4-3d735e2abc65"
      },
      "execution_count": 33,
      "outputs": [
        {
          "output_type": "stream",
          "name": "stdout",
          "text": [
            "Optimal Number of Features: 1\n",
            "Selected Features:\n",
            "'HighBP',\n"
          ]
        }
      ]
    },
    {
      "cell_type": "markdown",
      "source": [
        "**Train and test the model with the updated features**"
      ],
      "metadata": {
        "id": "l4SsRKYP9AYr"
      }
    },
    {
      "cell_type": "code",
      "source": [
        "data_x = data.drop([\"Diabetes_012\"], axis=1)\n",
        "data_y = data['Diabetes_012']\n",
        "\n",
        "# find intersection between columns in DataFrame and ImportanceFeatures\n",
        "intersection = set(features_selected).intersection(data_x.columns)\n",
        "\n",
        "# drop columns not in intersection\n",
        "data_x = data_x.drop(columns=set(data_x.columns) - intersection)\n",
        "\n",
        "print(data_x.shape)\n",
        "\n",
        "# Concatenate the df and Target\n",
        "data_train = pd.concat([data_x, data_y], axis=1)\n",
        "\n",
        "data_train.head()"
      ],
      "metadata": {
        "colab": {
          "base_uri": "https://localhost:8080/",
          "height": 225
        },
        "id": "ET6Mc1O79Eal",
        "outputId": "b12609ae-d9c2-4e25-8548-5e8d622c53b2"
      },
      "execution_count": 34,
      "outputs": [
        {
          "output_type": "stream",
          "name": "stdout",
          "text": [
            "(10000, 1)\n"
          ]
        },
        {
          "output_type": "execute_result",
          "data": {
            "text/plain": [
              "   HighBP  Diabetes_012\n",
              "0     1.0           0.0\n",
              "1     0.0           0.0\n",
              "2     1.0           0.0\n",
              "3     1.0           0.0\n",
              "4     1.0           0.0"
            ],
            "text/html": [
              "\n",
              "  <div id=\"df-1be8e8ee-13a5-497d-9bd3-774a5680a433\" class=\"colab-df-container\">\n",
              "    <div>\n",
              "<style scoped>\n",
              "    .dataframe tbody tr th:only-of-type {\n",
              "        vertical-align: middle;\n",
              "    }\n",
              "\n",
              "    .dataframe tbody tr th {\n",
              "        vertical-align: top;\n",
              "    }\n",
              "\n",
              "    .dataframe thead th {\n",
              "        text-align: right;\n",
              "    }\n",
              "</style>\n",
              "<table border=\"1\" class=\"dataframe\">\n",
              "  <thead>\n",
              "    <tr style=\"text-align: right;\">\n",
              "      <th></th>\n",
              "      <th>HighBP</th>\n",
              "      <th>Diabetes_012</th>\n",
              "    </tr>\n",
              "  </thead>\n",
              "  <tbody>\n",
              "    <tr>\n",
              "      <th>0</th>\n",
              "      <td>1.0</td>\n",
              "      <td>0.0</td>\n",
              "    </tr>\n",
              "    <tr>\n",
              "      <th>1</th>\n",
              "      <td>0.0</td>\n",
              "      <td>0.0</td>\n",
              "    </tr>\n",
              "    <tr>\n",
              "      <th>2</th>\n",
              "      <td>1.0</td>\n",
              "      <td>0.0</td>\n",
              "    </tr>\n",
              "    <tr>\n",
              "      <th>3</th>\n",
              "      <td>1.0</td>\n",
              "      <td>0.0</td>\n",
              "    </tr>\n",
              "    <tr>\n",
              "      <th>4</th>\n",
              "      <td>1.0</td>\n",
              "      <td>0.0</td>\n",
              "    </tr>\n",
              "  </tbody>\n",
              "</table>\n",
              "</div>\n",
              "    <div class=\"colab-df-buttons\">\n",
              "\n",
              "  <div class=\"colab-df-container\">\n",
              "    <button class=\"colab-df-convert\" onclick=\"convertToInteractive('df-1be8e8ee-13a5-497d-9bd3-774a5680a433')\"\n",
              "            title=\"Convert this dataframe to an interactive table.\"\n",
              "            style=\"display:none;\">\n",
              "\n",
              "  <svg xmlns=\"http://www.w3.org/2000/svg\" height=\"24px\" viewBox=\"0 -960 960 960\">\n",
              "    <path d=\"M120-120v-720h720v720H120Zm60-500h600v-160H180v160Zm220 220h160v-160H400v160Zm0 220h160v-160H400v160ZM180-400h160v-160H180v160Zm440 0h160v-160H620v160ZM180-180h160v-160H180v160Zm440 0h160v-160H620v160Z\"/>\n",
              "  </svg>\n",
              "    </button>\n",
              "\n",
              "  <style>\n",
              "    .colab-df-container {\n",
              "      display:flex;\n",
              "      gap: 12px;\n",
              "    }\n",
              "\n",
              "    .colab-df-convert {\n",
              "      background-color: #E8F0FE;\n",
              "      border: none;\n",
              "      border-radius: 50%;\n",
              "      cursor: pointer;\n",
              "      display: none;\n",
              "      fill: #1967D2;\n",
              "      height: 32px;\n",
              "      padding: 0 0 0 0;\n",
              "      width: 32px;\n",
              "    }\n",
              "\n",
              "    .colab-df-convert:hover {\n",
              "      background-color: #E2EBFA;\n",
              "      box-shadow: 0px 1px 2px rgba(60, 64, 67, 0.3), 0px 1px 3px 1px rgba(60, 64, 67, 0.15);\n",
              "      fill: #174EA6;\n",
              "    }\n",
              "\n",
              "    .colab-df-buttons div {\n",
              "      margin-bottom: 4px;\n",
              "    }\n",
              "\n",
              "    [theme=dark] .colab-df-convert {\n",
              "      background-color: #3B4455;\n",
              "      fill: #D2E3FC;\n",
              "    }\n",
              "\n",
              "    [theme=dark] .colab-df-convert:hover {\n",
              "      background-color: #434B5C;\n",
              "      box-shadow: 0px 1px 3px 1px rgba(0, 0, 0, 0.15);\n",
              "      filter: drop-shadow(0px 1px 2px rgba(0, 0, 0, 0.3));\n",
              "      fill: #FFFFFF;\n",
              "    }\n",
              "  </style>\n",
              "\n",
              "    <script>\n",
              "      const buttonEl =\n",
              "        document.querySelector('#df-1be8e8ee-13a5-497d-9bd3-774a5680a433 button.colab-df-convert');\n",
              "      buttonEl.style.display =\n",
              "        google.colab.kernel.accessAllowed ? 'block' : 'none';\n",
              "\n",
              "      async function convertToInteractive(key) {\n",
              "        const element = document.querySelector('#df-1be8e8ee-13a5-497d-9bd3-774a5680a433');\n",
              "        const dataTable =\n",
              "          await google.colab.kernel.invokeFunction('convertToInteractive',\n",
              "                                                    [key], {});\n",
              "        if (!dataTable) return;\n",
              "\n",
              "        const docLinkHtml = 'Like what you see? Visit the ' +\n",
              "          '<a target=\"_blank\" href=https://colab.research.google.com/notebooks/data_table.ipynb>data table notebook</a>'\n",
              "          + ' to learn more about interactive tables.';\n",
              "        element.innerHTML = '';\n",
              "        dataTable['output_type'] = 'display_data';\n",
              "        await google.colab.output.renderOutput(dataTable, element);\n",
              "        const docLink = document.createElement('div');\n",
              "        docLink.innerHTML = docLinkHtml;\n",
              "        element.appendChild(docLink);\n",
              "      }\n",
              "    </script>\n",
              "  </div>\n",
              "\n",
              "\n",
              "<div id=\"df-c08dc391-5f9e-41a2-a688-3ce41533284c\">\n",
              "  <button class=\"colab-df-quickchart\" onclick=\"quickchart('df-c08dc391-5f9e-41a2-a688-3ce41533284c')\"\n",
              "            title=\"Suggest charts.\"\n",
              "            style=\"display:none;\">\n",
              "\n",
              "<svg xmlns=\"http://www.w3.org/2000/svg\" height=\"24px\"viewBox=\"0 0 24 24\"\n",
              "     width=\"24px\">\n",
              "    <g>\n",
              "        <path d=\"M19 3H5c-1.1 0-2 .9-2 2v14c0 1.1.9 2 2 2h14c1.1 0 2-.9 2-2V5c0-1.1-.9-2-2-2zM9 17H7v-7h2v7zm4 0h-2V7h2v10zm4 0h-2v-4h2v4z\"/>\n",
              "    </g>\n",
              "</svg>\n",
              "  </button>\n",
              "\n",
              "<style>\n",
              "  .colab-df-quickchart {\n",
              "    background-color: #E8F0FE;\n",
              "    border: none;\n",
              "    border-radius: 50%;\n",
              "    cursor: pointer;\n",
              "    display: none;\n",
              "    fill: #1967D2;\n",
              "    height: 32px;\n",
              "    padding: 0 0 0 0;\n",
              "    width: 32px;\n",
              "  }\n",
              "\n",
              "  .colab-df-quickchart:hover {\n",
              "    background-color: #E2EBFA;\n",
              "    box-shadow: 0px 1px 2px rgba(60, 64, 67, 0.3), 0px 1px 3px 1px rgba(60, 64, 67, 0.15);\n",
              "    fill: #174EA6;\n",
              "  }\n",
              "\n",
              "  [theme=dark] .colab-df-quickchart {\n",
              "    background-color: #3B4455;\n",
              "    fill: #D2E3FC;\n",
              "  }\n",
              "\n",
              "  [theme=dark] .colab-df-quickchart:hover {\n",
              "    background-color: #434B5C;\n",
              "    box-shadow: 0px 1px 3px 1px rgba(0, 0, 0, 0.15);\n",
              "    filter: drop-shadow(0px 1px 2px rgba(0, 0, 0, 0.3));\n",
              "    fill: #FFFFFF;\n",
              "  }\n",
              "</style>\n",
              "\n",
              "  <script>\n",
              "    async function quickchart(key) {\n",
              "      const charts = await google.colab.kernel.invokeFunction(\n",
              "          'suggestCharts', [key], {});\n",
              "    }\n",
              "    (() => {\n",
              "      let quickchartButtonEl =\n",
              "        document.querySelector('#df-c08dc391-5f9e-41a2-a688-3ce41533284c button');\n",
              "      quickchartButtonEl.style.display =\n",
              "        google.colab.kernel.accessAllowed ? 'block' : 'none';\n",
              "    })();\n",
              "  </script>\n",
              "</div>\n",
              "    </div>\n",
              "  </div>\n"
            ]
          },
          "metadata": {},
          "execution_count": 34
        }
      ]
    },
    {
      "cell_type": "code",
      "source": [
        "X = data_x\n",
        "y = data_y\n",
        "\n",
        "X_train, X_test, y_train, y_test = train_test_split(X, y, test_size=0.2, random_state=42, stratify=y)"
      ],
      "metadata": {
        "id": "UkCBT2Xh9MTb"
      },
      "execution_count": 35,
      "outputs": []
    },
    {
      "cell_type": "code",
      "source": [
        "# Dictionary to store evaluation metrics\n",
        "results = {}\n",
        "\n",
        "# Loop through each classifier\n",
        "for name, clf in classifiers.items():\n",
        "    # Train the classifier\n",
        "    clf.fit(X_train, y_train)\n",
        "\n",
        "    # Make predictions on the test set\n",
        "    y_pred = clf.predict(X_test)\n",
        "\n",
        "    # Calculate evaluation metrics\n",
        "    accuracy = accuracy_score(y_test, y_pred)\n",
        "    precision = precision_score(y_test, y_pred, average=\"weighted\", zero_division=1)\n",
        "    recall = recall_score(y_test, y_pred, average=\"weighted\", zero_division=1)\n",
        "    f1 = f1_score(y_test, y_pred, average=\"weighted\", zero_division=1)\n",
        "    balanced_accuracy = balanced_accuracy_score(y_test, y_pred)\n",
        "    confusion = confusion_matrix(y_test, y_pred)\n",
        "\n",
        "    # ROC AUC calculation for binary and multiclass classification\n",
        "    if len(np.unique(y_train)) == 2:\n",
        "        roc_auc = roc_auc_score(y_test, clf.predict_proba(X_test)[:, 1])\n",
        "    else:\n",
        "        roc_auc = roc_auc_score(y_test, clf.predict_proba(X_test), multi_class='ovr')\n",
        "\n",
        "    # Store the results in the dictionary\n",
        "    results[name] = {\n",
        "        \"Accuracy\": accuracy,\n",
        "        \"Precision\": precision,\n",
        "        \"Recall\": recall,\n",
        "        \"F1 Score\": f1,\n",
        "        \"ROC AUC\": roc_auc,\n",
        "        \"Balanced Accuracy\": balanced_accuracy,\n",
        "        \"Confusion Matrix\": confusion,\n",
        "    }\n",
        "\n",
        "# Display the results\n",
        "for name, metrics in results.items():\n",
        "    print(f\"--- {name} ---\")\n",
        "    print(\"Accuracy: {:.2f}\".format(metrics[\"Accuracy\"]))\n",
        "    print(\"Precision: {:.2f}\".format(metrics[\"Precision\"]))\n",
        "    print(\"Recall: {:.2f}\".format(metrics[\"Recall\"]))\n",
        "    print(\"F1 Score: {:.2f}\".format(metrics[\"F1 Score\"]))\n",
        "    print(\"ROC AUC: {:.2f}\".format(metrics[\"ROC AUC\"]))\n",
        "    print(\"Balanced Accuracy: {:.2f}\".format(metrics[\"Balanced Accuracy\"]))\n",
        "    print(\"Confusion Matrix:\")\n",
        "    print(metrics[\"Confusion Matrix\"])\n",
        "    print(\"\\n\")"
      ],
      "metadata": {
        "colab": {
          "base_uri": "https://localhost:8080/"
        },
        "id": "U2ELlqMW9WYS",
        "outputId": "2628f7e9-514b-4c00-e90d-74cb9ecbc479"
      },
      "execution_count": 36,
      "outputs": [
        {
          "output_type": "stream",
          "name": "stdout",
          "text": [
            "--- Logistic Regression ---\n",
            "Accuracy: 0.82\n",
            "Precision: 0.85\n",
            "Recall: 0.82\n",
            "F1 Score: 0.74\n",
            "ROC AUC: 0.65\n",
            "Balanced Accuracy: 0.33\n",
            "Confusion Matrix:\n",
            "[[1643    0    0]\n",
            " [  36    0    0]\n",
            " [ 321    0    0]]\n",
            "\n",
            "\n",
            "--- Random Forest ---\n",
            "Accuracy: 0.82\n",
            "Precision: 0.85\n",
            "Recall: 0.82\n",
            "F1 Score: 0.74\n",
            "ROC AUC: 0.65\n",
            "Balanced Accuracy: 0.33\n",
            "Confusion Matrix:\n",
            "[[1643    0    0]\n",
            " [  36    0    0]\n",
            " [ 321    0    0]]\n",
            "\n",
            "\n",
            "--- K-Nearest Neighbors ---\n",
            "Accuracy: 0.82\n",
            "Precision: 0.85\n",
            "Recall: 0.82\n",
            "F1 Score: 0.74\n",
            "ROC AUC: 0.50\n",
            "Balanced Accuracy: 0.33\n",
            "Confusion Matrix:\n",
            "[[1643    0    0]\n",
            " [  36    0    0]\n",
            " [ 321    0    0]]\n",
            "\n",
            "\n",
            "--- XGBoost ---\n",
            "Accuracy: 0.82\n",
            "Precision: 0.85\n",
            "Recall: 0.82\n",
            "F1 Score: 0.74\n",
            "ROC AUC: 0.65\n",
            "Balanced Accuracy: 0.33\n",
            "Confusion Matrix:\n",
            "[[1643    0    0]\n",
            " [  36    0    0]\n",
            " [ 321    0    0]]\n",
            "\n",
            "\n"
          ]
        }
      ]
    }
  ]
}