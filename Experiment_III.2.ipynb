{
  "nbformat": 4,
  "nbformat_minor": 0,
  "metadata": {
    "colab": {
      "provenance": [],
      "authorship_tag": "ABX9TyNEi3NtcApmq0QJcOJIlT09",
      "include_colab_link": true
    },
    "kernelspec": {
      "name": "python3",
      "display_name": "Python 3"
    },
    "language_info": {
      "name": "python"
    }
  },
  "cells": [
    {
      "cell_type": "markdown",
      "metadata": {
        "id": "view-in-github",
        "colab_type": "text"
      },
      "source": [
        "<a href=\"https://colab.research.google.com/github/tsholofelo-mokheleli/ACIS-2023-New-Zealand/blob/main/Experiment_III.2.ipynb\" target=\"_parent\"><img src=\"https://colab.research.google.com/assets/colab-badge.svg\" alt=\"Open In Colab\"/></a>"
      ]
    },
    {
      "cell_type": "markdown",
      "source": [
        "### **Libraries**"
      ],
      "metadata": {
        "id": "jqCSMFnAzxYe"
      }
    },
    {
      "cell_type": "code",
      "execution_count": 141,
      "metadata": {
        "id": "rmjMaUkvEjBz"
      },
      "outputs": [],
      "source": [
        "# Load the libraries\n",
        "import pandas  as pd\n",
        "import numpy as np\n",
        "import seaborn as sns\n",
        "import matplotlib.pyplot as plt\n",
        "\n",
        "# Warning filter\n",
        "import warnings\n",
        "warnings.filterwarnings('ignore')\n",
        "cmap=sns.color_palette('Blues_r')\n",
        "\n",
        "from sklearn.metrics import mean_absolute_error\n",
        "from sklearn.metrics import mean_squared_error\n",
        "from scipy.stats import ks_2samp\n",
        "\n",
        "# Imputation\n",
        "from sklearn.experimental import enable_iterative_imputer  # noqa\n",
        "from sklearn.impute import IterativeImputer\n",
        "from sklearn.neighbors import NearestNeighbors\n",
        "from sklearn.impute import KNNImputer\n",
        "\n",
        "# Plot Theme\n",
        "sns.set_style(\"darkgrid\")\n",
        "plt.style.use(\"seaborn-deep\")"
      ]
    },
    {
      "cell_type": "markdown",
      "source": [
        "### **Load Data**"
      ],
      "metadata": {
        "id": "ozUM1jrxFjmk"
      }
    },
    {
      "cell_type": "code",
      "source": [
        "data = pd.read_csv(\"Clean Mental Health.csv\")"
      ],
      "metadata": {
        "id": "um2eny9XFnvz"
      },
      "execution_count": 142,
      "outputs": []
    },
    {
      "cell_type": "code",
      "source": [
        "data.info()"
      ],
      "metadata": {
        "colab": {
          "base_uri": "https://localhost:8080/"
        },
        "id": "ovp1Xfr7J8fc",
        "outputId": "d1c15ef5-64b7-4309-8bad-a7bdfb376f7e"
      },
      "execution_count": 143,
      "outputs": [
        {
          "output_type": "stream",
          "name": "stdout",
          "text": [
            "<class 'pandas.core.frame.DataFrame'>\n",
            "RangeIndex: 3269 entries, 0 to 3268\n",
            "Data columns (total 25 columns):\n",
            " #   Column                    Non-Null Count  Dtype  \n",
            "---  ------                    --------------  -----  \n",
            " 0   self_employed             3269 non-null   int64  \n",
            " 1   no_employees              2723 non-null   float64\n",
            " 2   tech_company              2723 non-null   float64\n",
            " 3   company_role              1840 non-null   float64\n",
            " 4   benefits                  2723 non-null   float64\n",
            " 5   care_options              2427 non-null   float64\n",
            " 6   wellness_program          2723 non-null   float64\n",
            " 7   seek_help                 2723 non-null   float64\n",
            " 8   anonymity                 2723 non-null   float64\n",
            " 9   leave                     2723 non-null   float64\n",
            " 10  mental_importance         2723 non-null   float64\n",
            " 11  neg_consequence_coworker  2980 non-null   float64\n",
            " 12  discuss_mh                1859 non-null   float64\n",
            " 13  work_interfere            546 non-null    float64\n",
            " 14  coworkers                 2841 non-null   float64\n",
            " 15  supervisor                2841 non-null   float64\n",
            " 16  mental_health_interview   3269 non-null   int64  \n",
            " 17  family_history            3269 non-null   int64  \n",
            " 18  past_mental_health        3246 non-null   float64\n",
            " 19  mental_health             3269 non-null   int64  \n",
            " 20  mental_health_diagnosed   2189 non-null   float64\n",
            " 21  treatment                 3269 non-null   int64  \n",
            " 22  age                       3259 non-null   float64\n",
            " 23  gender                    3269 non-null   int64  \n",
            " 24  country                   3269 non-null   int64  \n",
            "dtypes: float64(18), int64(7)\n",
            "memory usage: 638.6 KB\n"
          ]
        }
      ]
    },
    {
      "cell_type": "code",
      "source": [
        "# for column in data.columns:\n",
        "#     unique_values = data[column].unique()\n",
        "#     print(f\"Unique values in '{column}': {unique_values}\")"
      ],
      "metadata": {
        "id": "aeghiNyqoyZC"
      },
      "execution_count": 144,
      "outputs": []
    },
    {
      "cell_type": "code",
      "source": [
        "#Get the numbers of missing values in each column\n",
        "missing = data.isnull().sum()\n",
        "\n",
        "#Get the percentage of missing values in each column\n",
        "missing_pct = round(data.isnull().sum()/len(data) * 100, 1)\n",
        "\n",
        "orig_data_missing = pd.concat([missing, missing_pct], axis=1)\n",
        "orig_data_missing.columns = [\"Num\", \"%\"]\n",
        "print(orig_data_missing)"
      ],
      "metadata": {
        "colab": {
          "base_uri": "https://localhost:8080/"
        },
        "id": "y0z02wrmQ13-",
        "outputId": "b996150f-8523-4f72-8afb-e5739b2be631"
      },
      "execution_count": 145,
      "outputs": [
        {
          "output_type": "stream",
          "name": "stdout",
          "text": [
            "                           Num     %\n",
            "self_employed                0   0.0\n",
            "no_employees               546  16.7\n",
            "tech_company               546  16.7\n",
            "company_role              1429  43.7\n",
            "benefits                   546  16.7\n",
            "care_options               842  25.8\n",
            "wellness_program           546  16.7\n",
            "seek_help                  546  16.7\n",
            "anonymity                  546  16.7\n",
            "leave                      546  16.7\n",
            "mental_importance          546  16.7\n",
            "neg_consequence_coworker   289   8.8\n",
            "discuss_mh                1410  43.1\n",
            "work_interfere            2723  83.3\n",
            "coworkers                  428  13.1\n",
            "supervisor                 428  13.1\n",
            "mental_health_interview      0   0.0\n",
            "family_history               0   0.0\n",
            "past_mental_health          23   0.7\n",
            "mental_health                0   0.0\n",
            "mental_health_diagnosed   1080  33.0\n",
            "treatment                    0   0.0\n",
            "age                         10   0.3\n",
            "gender                       0   0.0\n",
            "country                      0   0.0\n"
          ]
        }
      ]
    },
    {
      "cell_type": "code",
      "source": [
        "# Create a bar plot to visualize the missing values\n",
        "plt.figure(figsize=(10, 6))\n",
        "plt.bar(orig_data_missing.index, orig_data_missing[\"%\"], color='red')\n",
        "plt.xlabel(\"Columns\")\n",
        "plt.ylabel(\"% Missing\")\n",
        "plt.title(\"Percentage of Missing Values in Each Column\")\n",
        "plt.xticks(rotation=90)\n",
        "plt.tight_layout()\n",
        "\n",
        "# Show the plot\n",
        "plt.show()"
      ],
      "metadata": {
        "colab": {
          "base_uri": "https://localhost:8080/",
          "height": 607
        },
        "id": "kYku0QlLRaRj",
        "outputId": "5b13483e-05b5-41e7-96e3-af7eccd320f3"
      },
      "execution_count": 146,
      "outputs": [
        {
          "output_type": "display_data",
          "data": {
            "text/plain": [
              "<Figure size 1000x600 with 1 Axes>"
            ],
            "image/png": "[encoded data removed]"
          },
          "metadata": {}
        }
      ]
    },
    {
      "cell_type": "code",
      "source": [
        "orig_data = data\n",
        "\n",
        "orig_data.info()"
      ],
      "metadata": {
        "colab": {
          "base_uri": "https://localhost:8080/"
        },
        "id": "7Jdy8audX5wv",
        "outputId": "2ff97066-0c2f-4a24-e485-9408ca2ab041"
      },
      "execution_count": 147,
      "outputs": [
        {
          "output_type": "stream",
          "name": "stdout",
          "text": [
            "<class 'pandas.core.frame.DataFrame'>\n",
            "RangeIndex: 3269 entries, 0 to 3268\n",
            "Data columns (total 25 columns):\n",
            " #   Column                    Non-Null Count  Dtype  \n",
            "---  ------                    --------------  -----  \n",
            " 0   self_employed             3269 non-null   int64  \n",
            " 1   no_employees              2723 non-null   float64\n",
            " 2   tech_company              2723 non-null   float64\n",
            " 3   company_role              1840 non-null   float64\n",
            " 4   benefits                  2723 non-null   float64\n",
            " 5   care_options              2427 non-null   float64\n",
            " 6   wellness_program          2723 non-null   float64\n",
            " 7   seek_help                 2723 non-null   float64\n",
            " 8   anonymity                 2723 non-null   float64\n",
            " 9   leave                     2723 non-null   float64\n",
            " 10  mental_importance         2723 non-null   float64\n",
            " 11  neg_consequence_coworker  2980 non-null   float64\n",
            " 12  discuss_mh                1859 non-null   float64\n",
            " 13  work_interfere            546 non-null    float64\n",
            " 14  coworkers                 2841 non-null   float64\n",
            " 15  supervisor                2841 non-null   float64\n",
            " 16  mental_health_interview   3269 non-null   int64  \n",
            " 17  family_history            3269 non-null   int64  \n",
            " 18  past_mental_health        3246 non-null   float64\n",
            " 19  mental_health             3269 non-null   int64  \n",
            " 20  mental_health_diagnosed   2189 non-null   float64\n",
            " 21  treatment                 3269 non-null   int64  \n",
            " 22  age                       3259 non-null   float64\n",
            " 23  gender                    3269 non-null   int64  \n",
            " 24  country                   3269 non-null   int64  \n",
            "dtypes: float64(18), int64(7)\n",
            "memory usage: 638.6 KB\n"
          ]
        }
      ]
    },
    {
      "cell_type": "code",
      "source": [
        "orig_data = orig_data.drop([\"mental_health_diagnosed\"], axis=1)\n",
        "\n",
        "orig_incomplete = orig_data\n",
        "\n",
        "print(orig_incomplete.shape)\n",
        "print()\n",
        "orig_incomplete.info()"
      ],
      "metadata": {
        "colab": {
          "base_uri": "https://localhost:8080/"
        },
        "id": "Gt5u9gF7YQz1",
        "outputId": "7f021b9f-1d34-4b9e-dfa9-284f129f0c65"
      },
      "execution_count": 148,
      "outputs": [
        {
          "output_type": "stream",
          "name": "stdout",
          "text": [
            "(3269, 24)\n",
            "\n",
            "<class 'pandas.core.frame.DataFrame'>\n",
            "RangeIndex: 3269 entries, 0 to 3268\n",
            "Data columns (total 24 columns):\n",
            " #   Column                    Non-Null Count  Dtype  \n",
            "---  ------                    --------------  -----  \n",
            " 0   self_employed             3269 non-null   int64  \n",
            " 1   no_employees              2723 non-null   float64\n",
            " 2   tech_company              2723 non-null   float64\n",
            " 3   company_role              1840 non-null   float64\n",
            " 4   benefits                  2723 non-null   float64\n",
            " 5   care_options              2427 non-null   float64\n",
            " 6   wellness_program          2723 non-null   float64\n",
            " 7   seek_help                 2723 non-null   float64\n",
            " 8   anonymity                 2723 non-null   float64\n",
            " 9   leave                     2723 non-null   float64\n",
            " 10  mental_importance         2723 non-null   float64\n",
            " 11  neg_consequence_coworker  2980 non-null   float64\n",
            " 12  discuss_mh                1859 non-null   float64\n",
            " 13  work_interfere            546 non-null    float64\n",
            " 14  coworkers                 2841 non-null   float64\n",
            " 15  supervisor                2841 non-null   float64\n",
            " 16  mental_health_interview   3269 non-null   int64  \n",
            " 17  family_history            3269 non-null   int64  \n",
            " 18  past_mental_health        3246 non-null   float64\n",
            " 19  mental_health             3269 non-null   int64  \n",
            " 20  treatment                 3269 non-null   int64  \n",
            " 21  age                       3259 non-null   float64\n",
            " 22  gender                    3269 non-null   int64  \n",
            " 23  country                   3269 non-null   int64  \n",
            "dtypes: float64(17), int64(7)\n",
            "memory usage: 613.1 KB\n"
          ]
        }
      ]
    },
    {
      "cell_type": "markdown",
      "source": [
        "### **Initial Data Imputation**"
      ],
      "metadata": {
        "id": "_XwxUJp_hl39"
      }
    },
    {
      "cell_type": "code",
      "source": [
        "columns_to_impute = data.columns[data.columns != \"mental_health_diagnosed\"]\n",
        "\n",
        "# Impute NaN values with -1 in the selected columns\n",
        "data[columns_to_impute] = data[columns_to_impute].fillna(-1)"
      ],
      "metadata": {
        "id": "anryqb4EhoR8"
      },
      "execution_count": 149,
      "outputs": []
    },
    {
      "cell_type": "code",
      "source": [
        "# Get the numbers of missing values in each column\n",
        "missing = data.isnull().sum()\n",
        "\n",
        "# Get the percentage of complete (non-missing) values in each column\n",
        "complete_pct = round((1 - (data.isnull().sum() / len(data))) * 100, 1)\n",
        "\n",
        "# Create a DataFrame to display the results\n",
        "data_complete = pd.concat([missing, complete_pct], axis=1)\n",
        "data_complete.columns = [\"Num Missing\", \"% Complete\"]\n",
        "print(data_complete)"
      ],
      "metadata": {
        "colab": {
          "base_uri": "https://localhost:8080/"
        },
        "id": "DPT4oLEXizoJ",
        "outputId": "940e9bc6-a6a0-4276-99e3-d5f5dbf5c98f"
      },
      "execution_count": 150,
      "outputs": [
        {
          "output_type": "stream",
          "name": "stdout",
          "text": [
            "                          Num Missing  % Complete\n",
            "self_employed                       0       100.0\n",
            "no_employees                        0       100.0\n",
            "tech_company                        0       100.0\n",
            "company_role                        0       100.0\n",
            "benefits                            0       100.0\n",
            "care_options                        0       100.0\n",
            "wellness_program                    0       100.0\n",
            "seek_help                           0       100.0\n",
            "anonymity                           0       100.0\n",
            "leave                               0       100.0\n",
            "mental_importance                   0       100.0\n",
            "neg_consequence_coworker            0       100.0\n",
            "discuss_mh                          0       100.0\n",
            "work_interfere                      0       100.0\n",
            "coworkers                           0       100.0\n",
            "supervisor                          0       100.0\n",
            "mental_health_interview             0       100.0\n",
            "family_history                      0       100.0\n",
            "past_mental_health                  0       100.0\n",
            "mental_health                       0       100.0\n",
            "mental_health_diagnosed          1080        67.0\n",
            "treatment                           0       100.0\n",
            "age                                 0       100.0\n",
            "gender                              0       100.0\n",
            "country                             0       100.0\n"
          ]
        }
      ]
    },
    {
      "cell_type": "code",
      "source": [
        "# Create a list of colors based on the percentage of complete data\n",
        "colors = ['green' if pct == 100 else 'orange' for pct in data_complete[\"% Complete\"]]\n",
        "\n",
        "# Create a bar plot to visualize the percentage of complete data\n",
        "plt.figure(figsize=(10, 6))\n",
        "plt.bar(data_complete.index, data_complete[\"% Complete\"], color=colors)\n",
        "plt.xlabel(\"Columns\")\n",
        "plt.ylabel(\"% Complete\")\n",
        "plt.title(\"Percentage of Complete Data in Each Column\")\n",
        "plt.xticks(rotation=90)\n",
        "plt.tight_layout()\n",
        "\n",
        "# Show the plot\n",
        "plt.show()"
      ],
      "metadata": {
        "colab": {
          "base_uri": "https://localhost:8080/",
          "height": 607
        },
        "id": "Rb_6GputjDrj",
        "outputId": "87d1a2f5-f675-44bf-e5a3-879b88efbc61"
      },
      "execution_count": 151,
      "outputs": [
        {
          "output_type": "display_data",
          "data": {
            "text/plain": [
              "<Figure size 1000x600 with 1 Axes>"
            ],
            "image/png": "[encoded data removed]"
          },
          "metadata": {}
        }
      ]
    },
    {
      "cell_type": "code",
      "source": [
        "data = data.drop([\"mental_health_diagnosed\"], axis=1)\n",
        "\n",
        "# Convert all columns to int data type\n",
        "for column in data.columns:\n",
        "    data[column] = data[column].astype('int64')\n",
        "\n",
        "\n",
        "incomplete = data\n",
        "incomplete.info()"
      ],
      "metadata": {
        "colab": {
          "base_uri": "https://localhost:8080/"
        },
        "id": "lqyyrm-OhtJN",
        "outputId": "463882a9-8c63-4c08-898b-f979914e3e58"
      },
      "execution_count": 152,
      "outputs": [
        {
          "output_type": "stream",
          "name": "stdout",
          "text": [
            "<class 'pandas.core.frame.DataFrame'>\n",
            "RangeIndex: 3269 entries, 0 to 3268\n",
            "Data columns (total 24 columns):\n",
            " #   Column                    Non-Null Count  Dtype\n",
            "---  ------                    --------------  -----\n",
            " 0   self_employed             3269 non-null   int64\n",
            " 1   no_employees              3269 non-null   int64\n",
            " 2   tech_company              3269 non-null   int64\n",
            " 3   company_role              3269 non-null   int64\n",
            " 4   benefits                  3269 non-null   int64\n",
            " 5   care_options              3269 non-null   int64\n",
            " 6   wellness_program          3269 non-null   int64\n",
            " 7   seek_help                 3269 non-null   int64\n",
            " 8   anonymity                 3269 non-null   int64\n",
            " 9   leave                     3269 non-null   int64\n",
            " 10  mental_importance         3269 non-null   int64\n",
            " 11  neg_consequence_coworker  3269 non-null   int64\n",
            " 12  discuss_mh                3269 non-null   int64\n",
            " 13  work_interfere            3269 non-null   int64\n",
            " 14  coworkers                 3269 non-null   int64\n",
            " 15  supervisor                3269 non-null   int64\n",
            " 16  mental_health_interview   3269 non-null   int64\n",
            " 17  family_history            3269 non-null   int64\n",
            " 18  past_mental_health        3269 non-null   int64\n",
            " 19  mental_health             3269 non-null   int64\n",
            " 20  treatment                 3269 non-null   int64\n",
            " 21  age                       3269 non-null   int64\n",
            " 22  gender                    3269 non-null   int64\n",
            " 23  country                   3269 non-null   int64\n",
            "dtypes: int64(24)\n",
            "memory usage: 613.1 KB\n"
          ]
        }
      ]
    },
    {
      "cell_type": "markdown",
      "source": [
        "### **Mode Imputation**"
      ],
      "metadata": {
        "id": "HriHMSzfS8ny"
      }
    },
    {
      "cell_type": "code",
      "source": [
        "data = pd.read_csv(\"Clean Mental Health.csv\")"
      ],
      "metadata": {
        "id": "qNLB8Ul6TFKa"
      },
      "execution_count": 153,
      "outputs": []
    },
    {
      "cell_type": "code",
      "source": [
        "columns_to_impute = data.columns[data.columns != \"mental_health_diagnosed\"]\n",
        "\n",
        "# Iterate through columns to impute missing values with mode\n",
        "for column in columns_to_impute:\n",
        "    mode_value = data[column].mode()[0]\n",
        "    data[column].fillna(mode_value, inplace=True)\n",
        "\n",
        "data.info()"
      ],
      "metadata": {
        "colab": {
          "base_uri": "https://localhost:8080/"
        },
        "id": "kkxn62kzTTMU",
        "outputId": "243416df-b5d1-40d5-b2d7-c1390e56c821"
      },
      "execution_count": 154,
      "outputs": [
        {
          "output_type": "stream",
          "name": "stdout",
          "text": [
            "<class 'pandas.core.frame.DataFrame'>\n",
            "RangeIndex: 3269 entries, 0 to 3268\n",
            "Data columns (total 25 columns):\n",
            " #   Column                    Non-Null Count  Dtype  \n",
            "---  ------                    --------------  -----  \n",
            " 0   self_employed             3269 non-null   int64  \n",
            " 1   no_employees              3269 non-null   float64\n",
            " 2   tech_company              3269 non-null   float64\n",
            " 3   company_role              3269 non-null   float64\n",
            " 4   benefits                  3269 non-null   float64\n",
            " 5   care_options              3269 non-null   float64\n",
            " 6   wellness_program          3269 non-null   float64\n",
            " 7   seek_help                 3269 non-null   float64\n",
            " 8   anonymity                 3269 non-null   float64\n",
            " 9   leave                     3269 non-null   float64\n",
            " 10  mental_importance         3269 non-null   float64\n",
            " 11  neg_consequence_coworker  3269 non-null   float64\n",
            " 12  discuss_mh                3269 non-null   float64\n",
            " 13  work_interfere            3269 non-null   float64\n",
            " 14  coworkers                 3269 non-null   float64\n",
            " 15  supervisor                3269 non-null   float64\n",
            " 16  mental_health_interview   3269 non-null   int64  \n",
            " 17  family_history            3269 non-null   int64  \n",
            " 18  past_mental_health        3269 non-null   float64\n",
            " 19  mental_health             3269 non-null   int64  \n",
            " 20  mental_health_diagnosed   2189 non-null   float64\n",
            " 21  treatment                 3269 non-null   int64  \n",
            " 22  age                       3269 non-null   float64\n",
            " 23  gender                    3269 non-null   int64  \n",
            " 24  country                   3269 non-null   int64  \n",
            "dtypes: float64(18), int64(7)\n",
            "memory usage: 638.6 KB\n"
          ]
        }
      ]
    },
    {
      "cell_type": "code",
      "source": [
        "data = data.drop([\"mental_health_diagnosed\"], axis=1)\n",
        "\n",
        "# Convert all columns to int data type\n",
        "for column in data.columns:\n",
        "    data[column] = data[column].astype('int64')\n",
        "\n",
        "\n",
        "mode_imputed = data\n",
        "mode_imputed.info()"
      ],
      "metadata": {
        "colab": {
          "base_uri": "https://localhost:8080/"
        },
        "id": "Ppf7qJwUT22i",
        "outputId": "c2e3de3b-27a3-42d2-f548-07f1b6646799"
      },
      "execution_count": 155,
      "outputs": [
        {
          "output_type": "stream",
          "name": "stdout",
          "text": [
            "<class 'pandas.core.frame.DataFrame'>\n",
            "RangeIndex: 3269 entries, 0 to 3268\n",
            "Data columns (total 24 columns):\n",
            " #   Column                    Non-Null Count  Dtype\n",
            "---  ------                    --------------  -----\n",
            " 0   self_employed             3269 non-null   int64\n",
            " 1   no_employees              3269 non-null   int64\n",
            " 2   tech_company              3269 non-null   int64\n",
            " 3   company_role              3269 non-null   int64\n",
            " 4   benefits                  3269 non-null   int64\n",
            " 5   care_options              3269 non-null   int64\n",
            " 6   wellness_program          3269 non-null   int64\n",
            " 7   seek_help                 3269 non-null   int64\n",
            " 8   anonymity                 3269 non-null   int64\n",
            " 9   leave                     3269 non-null   int64\n",
            " 10  mental_importance         3269 non-null   int64\n",
            " 11  neg_consequence_coworker  3269 non-null   int64\n",
            " 12  discuss_mh                3269 non-null   int64\n",
            " 13  work_interfere            3269 non-null   int64\n",
            " 14  coworkers                 3269 non-null   int64\n",
            " 15  supervisor                3269 non-null   int64\n",
            " 16  mental_health_interview   3269 non-null   int64\n",
            " 17  family_history            3269 non-null   int64\n",
            " 18  past_mental_health        3269 non-null   int64\n",
            " 19  mental_health             3269 non-null   int64\n",
            " 20  treatment                 3269 non-null   int64\n",
            " 21  age                       3269 non-null   int64\n",
            " 22  gender                    3269 non-null   int64\n",
            " 23  country                   3269 non-null   int64\n",
            "dtypes: int64(24)\n",
            "memory usage: 613.1 KB\n"
          ]
        }
      ]
    },
    {
      "cell_type": "markdown",
      "source": [
        "### **Multiple Imputation**"
      ],
      "metadata": {
        "id": "iKXk3KMJVJDZ"
      }
    },
    {
      "cell_type": "code",
      "source": [
        "data = pd.read_csv(\"Clean Mental Health.csv\")"
      ],
      "metadata": {
        "id": "v3emOQiKVK-i"
      },
      "execution_count": 156,
      "outputs": []
    },
    {
      "cell_type": "code",
      "source": [
        "# Initialize the MICE imputer\n",
        "mice_imputer = IterativeImputer()\n",
        "\n",
        "# Exclude the 'mental_health_diagnosed' column from imputation\n",
        "columns_to_impute = [col for col in data.columns if col != 'mental_health_diagnosed']\n",
        "\n",
        "# Perform MICE imputation on the selected columns\n",
        "data[columns_to_impute] = mice_imputer.fit_transform(data[columns_to_impute])\n",
        "\n",
        "data.info()"
      ],
      "metadata": {
        "colab": {
          "base_uri": "https://localhost:8080/"
        },
        "id": "LufffsUvV5Da",
        "outputId": "ab26b428-2cfc-4601-d46f-822a20c2fcae"
      },
      "execution_count": 157,
      "outputs": [
        {
          "output_type": "stream",
          "name": "stdout",
          "text": [
            "<class 'pandas.core.frame.DataFrame'>\n",
            "RangeIndex: 3269 entries, 0 to 3268\n",
            "Data columns (total 25 columns):\n",
            " #   Column                    Non-Null Count  Dtype  \n",
            "---  ------                    --------------  -----  \n",
            " 0   self_employed             3269 non-null   float64\n",
            " 1   no_employees              3269 non-null   float64\n",
            " 2   tech_company              3269 non-null   float64\n",
            " 3   company_role              3269 non-null   float64\n",
            " 4   benefits                  3269 non-null   float64\n",
            " 5   care_options              3269 non-null   float64\n",
            " 6   wellness_program          3269 non-null   float64\n",
            " 7   seek_help                 3269 non-null   float64\n",
            " 8   anonymity                 3269 non-null   float64\n",
            " 9   leave                     3269 non-null   float64\n",
            " 10  mental_importance         3269 non-null   float64\n",
            " 11  neg_consequence_coworker  3269 non-null   float64\n",
            " 12  discuss_mh                3269 non-null   float64\n",
            " 13  work_interfere            3269 non-null   float64\n",
            " 14  coworkers                 3269 non-null   float64\n",
            " 15  supervisor                3269 non-null   float64\n",
            " 16  mental_health_interview   3269 non-null   float64\n",
            " 17  family_history            3269 non-null   float64\n",
            " 18  past_mental_health        3269 non-null   float64\n",
            " 19  mental_health             3269 non-null   float64\n",
            " 20  mental_health_diagnosed   2189 non-null   float64\n",
            " 21  treatment                 3269 non-null   float64\n",
            " 22  age                       3269 non-null   float64\n",
            " 23  gender                    3269 non-null   float64\n",
            " 24  country                   3269 non-null   float64\n",
            "dtypes: float64(25)\n",
            "memory usage: 638.6 KB\n"
          ]
        }
      ]
    },
    {
      "cell_type": "code",
      "source": [
        "data = data.drop([\"mental_health_diagnosed\"], axis=1)\n",
        "\n",
        "# Convert all columns to int data type\n",
        "for column in data.columns:\n",
        "    data[column] = data[column].astype('int64')\n",
        "\n",
        "\n",
        "mice_imputed = data\n",
        "mice_imputed.info()"
      ],
      "metadata": {
        "colab": {
          "base_uri": "https://localhost:8080/"
        },
        "id": "LJHMxZBFWN0y",
        "outputId": "4fd89498-6e5f-4df7-a89e-67c745c4155c"
      },
      "execution_count": 158,
      "outputs": [
        {
          "output_type": "stream",
          "name": "stdout",
          "text": [
            "<class 'pandas.core.frame.DataFrame'>\n",
            "RangeIndex: 3269 entries, 0 to 3268\n",
            "Data columns (total 24 columns):\n",
            " #   Column                    Non-Null Count  Dtype\n",
            "---  ------                    --------------  -----\n",
            " 0   self_employed             3269 non-null   int64\n",
            " 1   no_employees              3269 non-null   int64\n",
            " 2   tech_company              3269 non-null   int64\n",
            " 3   company_role              3269 non-null   int64\n",
            " 4   benefits                  3269 non-null   int64\n",
            " 5   care_options              3269 non-null   int64\n",
            " 6   wellness_program          3269 non-null   int64\n",
            " 7   seek_help                 3269 non-null   int64\n",
            " 8   anonymity                 3269 non-null   int64\n",
            " 9   leave                     3269 non-null   int64\n",
            " 10  mental_importance         3269 non-null   int64\n",
            " 11  neg_consequence_coworker  3269 non-null   int64\n",
            " 12  discuss_mh                3269 non-null   int64\n",
            " 13  work_interfere            3269 non-null   int64\n",
            " 14  coworkers                 3269 non-null   int64\n",
            " 15  supervisor                3269 non-null   int64\n",
            " 16  mental_health_interview   3269 non-null   int64\n",
            " 17  family_history            3269 non-null   int64\n",
            " 18  past_mental_health        3269 non-null   int64\n",
            " 19  mental_health             3269 non-null   int64\n",
            " 20  treatment                 3269 non-null   int64\n",
            " 21  age                       3269 non-null   int64\n",
            " 22  gender                    3269 non-null   int64\n",
            " 23  country                   3269 non-null   int64\n",
            "dtypes: int64(24)\n",
            "memory usage: 613.1 KB\n"
          ]
        }
      ]
    },
    {
      "cell_type": "markdown",
      "source": [
        "### **Hot Deck Imputation**"
      ],
      "metadata": {
        "id": "iOZmi11DXCyy"
      }
    },
    {
      "cell_type": "code",
      "source": [
        "data = pd.read_csv(\"Clean Mental Health.csv\")"
      ],
      "metadata": {
        "id": "mFiiC0G2XkC6"
      },
      "execution_count": 159,
      "outputs": []
    },
    {
      "cell_type": "code",
      "source": [
        "columns_to_impute = data.columns[data.columns != \"mental_health_diagnosed\"]\n",
        "imputed_data = data.copy()\n",
        "\n",
        "# Iterate through columns to impute missing values with mode\n",
        "for column in columns_to_impute:\n",
        "  vars_to_impute = [column]\n",
        "\n",
        "  for var in vars_to_impute:\n",
        "      # Create a donor pool consisting of cases without missing values for the current variable\n",
        "      donor_pool = imputed_data.dropna(subset=[var])\n",
        "\n",
        "      # Iterate over each case with a missing value for the current variable\n",
        "      for index, row in imputed_data[imputed_data[var].isnull()].iterrows():\n",
        "          # Check if there are any donor cases available\n",
        "          if not donor_pool.empty:\n",
        "              # Find the closest donor case based on a chosen similarity measure\n",
        "              similarity_scores = np.abs(donor_pool[vars_to_impute] - row[vars_to_impute])\n",
        "              closest_donor = donor_pool.iloc[similarity_scores.sum(axis=1).idxmin()]\n",
        "\n",
        "              # Impute the missing value with the value from the closest donor case\n",
        "              imputed_data.at[index, var] = closest_donor[var]\n",
        "          else:\n",
        "              # Handle the case where there are no donor cases available\n",
        "              # You can choose to skip imputation or use another imputation method\n",
        "              imputed_data.at[index, var] = np.nan  # or any other imputation approach\n",
        "\n",
        "data = imputed_data\n",
        "data.info()"
      ],
      "metadata": {
        "colab": {
          "base_uri": "https://localhost:8080/"
        },
        "id": "SdGtyDhcboMq",
        "outputId": "0c0a8899-2a9f-4d34-dc19-fcb9b9a3a9f0"
      },
      "execution_count": 160,
      "outputs": [
        {
          "output_type": "stream",
          "name": "stdout",
          "text": [
            "<class 'pandas.core.frame.DataFrame'>\n",
            "RangeIndex: 3269 entries, 0 to 3268\n",
            "Data columns (total 25 columns):\n",
            " #   Column                    Non-Null Count  Dtype  \n",
            "---  ------                    --------------  -----  \n",
            " 0   self_employed             3269 non-null   int64  \n",
            " 1   no_employees              3269 non-null   float64\n",
            " 2   tech_company              3269 non-null   float64\n",
            " 3   company_role              3269 non-null   float64\n",
            " 4   benefits                  3269 non-null   float64\n",
            " 5   care_options              3269 non-null   float64\n",
            " 6   wellness_program          3269 non-null   float64\n",
            " 7   seek_help                 3269 non-null   float64\n",
            " 8   anonymity                 3269 non-null   float64\n",
            " 9   leave                     3269 non-null   float64\n",
            " 10  mental_importance         3269 non-null   float64\n",
            " 11  neg_consequence_coworker  3269 non-null   float64\n",
            " 12  discuss_mh                3269 non-null   float64\n",
            " 13  work_interfere            3269 non-null   float64\n",
            " 14  coworkers                 3269 non-null   float64\n",
            " 15  supervisor                3269 non-null   float64\n",
            " 16  mental_health_interview   3269 non-null   int64  \n",
            " 17  family_history            3269 non-null   int64  \n",
            " 18  past_mental_health        3269 non-null   float64\n",
            " 19  mental_health             3269 non-null   int64  \n",
            " 20  mental_health_diagnosed   2189 non-null   float64\n",
            " 21  treatment                 3269 non-null   int64  \n",
            " 22  age                       3269 non-null   float64\n",
            " 23  gender                    3269 non-null   int64  \n",
            " 24  country                   3269 non-null   int64  \n",
            "dtypes: float64(18), int64(7)\n",
            "memory usage: 638.6 KB\n"
          ]
        }
      ]
    },
    {
      "cell_type": "code",
      "source": [
        "data = data.drop([\"mental_health_diagnosed\"], axis=1)\n",
        "\n",
        "# Convert all columns to int data type\n",
        "for column in data.columns:\n",
        "    data[column] = data[column].astype('int64')\n",
        "\n",
        "\n",
        "hotdeck_imputed = data\n",
        "hotdeck_imputed.info()"
      ],
      "metadata": {
        "colab": {
          "base_uri": "https://localhost:8080/"
        },
        "id": "SBqdwRSbX337",
        "outputId": "13fe3215-d5d9-492e-f571-9d353ae8c88c"
      },
      "execution_count": 161,
      "outputs": [
        {
          "output_type": "stream",
          "name": "stdout",
          "text": [
            "<class 'pandas.core.frame.DataFrame'>\n",
            "RangeIndex: 3269 entries, 0 to 3268\n",
            "Data columns (total 24 columns):\n",
            " #   Column                    Non-Null Count  Dtype\n",
            "---  ------                    --------------  -----\n",
            " 0   self_employed             3269 non-null   int64\n",
            " 1   no_employees              3269 non-null   int64\n",
            " 2   tech_company              3269 non-null   int64\n",
            " 3   company_role              3269 non-null   int64\n",
            " 4   benefits                  3269 non-null   int64\n",
            " 5   care_options              3269 non-null   int64\n",
            " 6   wellness_program          3269 non-null   int64\n",
            " 7   seek_help                 3269 non-null   int64\n",
            " 8   anonymity                 3269 non-null   int64\n",
            " 9   leave                     3269 non-null   int64\n",
            " 10  mental_importance         3269 non-null   int64\n",
            " 11  neg_consequence_coworker  3269 non-null   int64\n",
            " 12  discuss_mh                3269 non-null   int64\n",
            " 13  work_interfere            3269 non-null   int64\n",
            " 14  coworkers                 3269 non-null   int64\n",
            " 15  supervisor                3269 non-null   int64\n",
            " 16  mental_health_interview   3269 non-null   int64\n",
            " 17  family_history            3269 non-null   int64\n",
            " 18  past_mental_health        3269 non-null   int64\n",
            " 19  mental_health             3269 non-null   int64\n",
            " 20  treatment                 3269 non-null   int64\n",
            " 21  age                       3269 non-null   int64\n",
            " 22  gender                    3269 non-null   int64\n",
            " 23  country                   3269 non-null   int64\n",
            "dtypes: int64(24)\n",
            "memory usage: 613.1 KB\n"
          ]
        }
      ]
    },
    {
      "cell_type": "markdown",
      "source": [
        "### **K-Nearest Neighbors Imputation**"
      ],
      "metadata": {
        "id": "Cou3lIvQYAI7"
      }
    },
    {
      "cell_type": "code",
      "source": [
        "data = pd.read_csv(\"Clean Mental Health.csv\")"
      ],
      "metadata": {
        "id": "wByl3vUnYG2i"
      },
      "execution_count": 162,
      "outputs": []
    },
    {
      "cell_type": "code",
      "source": [
        "target_column = 'mental_health_diagnosed'\n",
        "y = data[target_column]\n",
        "\n",
        "# Remove the target column from the DataFrame for imputation\n",
        "X = data.drop(columns=[target_column])\n",
        "\n",
        "# Perform KNN imputation\n",
        "imputer = KNNImputer(n_neighbors=5)  # You can adjust the number of neighbors (k) as needed\n",
        "X_imputed = imputer.fit_transform(X)\n",
        "\n",
        "# Convert the imputed array back to a DataFrame\n",
        "X_imputed_df = pd.DataFrame(X_imputed, columns=X.columns)\n",
        "\n",
        "# Combine the imputed data with the target column\n",
        "data_imputed = pd.concat([X_imputed_df, y], axis=1)\n",
        "\n",
        "data = data_imputed\n",
        "data.info()"
      ],
      "metadata": {
        "colab": {
          "base_uri": "https://localhost:8080/"
        },
        "id": "co1GelGXYf0y",
        "outputId": "0a6f62f3-71e8-47cc-e1ae-fde57ce64285"
      },
      "execution_count": 163,
      "outputs": [
        {
          "output_type": "stream",
          "name": "stdout",
          "text": [
            "<class 'pandas.core.frame.DataFrame'>\n",
            "RangeIndex: 3269 entries, 0 to 3268\n",
            "Data columns (total 25 columns):\n",
            " #   Column                    Non-Null Count  Dtype  \n",
            "---  ------                    --------------  -----  \n",
            " 0   self_employed             3269 non-null   float64\n",
            " 1   no_employees              3269 non-null   float64\n",
            " 2   tech_company              3269 non-null   float64\n",
            " 3   company_role              3269 non-null   float64\n",
            " 4   benefits                  3269 non-null   float64\n",
            " 5   care_options              3269 non-null   float64\n",
            " 6   wellness_program          3269 non-null   float64\n",
            " 7   seek_help                 3269 non-null   float64\n",
            " 8   anonymity                 3269 non-null   float64\n",
            " 9   leave                     3269 non-null   float64\n",
            " 10  mental_importance         3269 non-null   float64\n",
            " 11  neg_consequence_coworker  3269 non-null   float64\n",
            " 12  discuss_mh                3269 non-null   float64\n",
            " 13  work_interfere            3269 non-null   float64\n",
            " 14  coworkers                 3269 non-null   float64\n",
            " 15  supervisor                3269 non-null   float64\n",
            " 16  mental_health_interview   3269 non-null   float64\n",
            " 17  family_history            3269 non-null   float64\n",
            " 18  past_mental_health        3269 non-null   float64\n",
            " 19  mental_health             3269 non-null   float64\n",
            " 20  treatment                 3269 non-null   float64\n",
            " 21  age                       3269 non-null   float64\n",
            " 22  gender                    3269 non-null   float64\n",
            " 23  country                   3269 non-null   float64\n",
            " 24  mental_health_diagnosed   2189 non-null   float64\n",
            "dtypes: float64(25)\n",
            "memory usage: 638.6 KB\n"
          ]
        }
      ]
    },
    {
      "cell_type": "code",
      "source": [
        "data = data.drop([\"mental_health_diagnosed\"], axis=1)\n",
        "\n",
        "# Convert all columns to int data type\n",
        "for column in data.columns:\n",
        "    data[column] = data[column].astype('int64')\n",
        "\n",
        "\n",
        "knn_imputed = data\n",
        "knn_imputed.info()"
      ],
      "metadata": {
        "colab": {
          "base_uri": "https://localhost:8080/"
        },
        "id": "u1tssJ8DYmta",
        "outputId": "a812acac-a6c5-4194-f63c-2dbdef538262"
      },
      "execution_count": 164,
      "outputs": [
        {
          "output_type": "stream",
          "name": "stdout",
          "text": [
            "<class 'pandas.core.frame.DataFrame'>\n",
            "RangeIndex: 3269 entries, 0 to 3268\n",
            "Data columns (total 24 columns):\n",
            " #   Column                    Non-Null Count  Dtype\n",
            "---  ------                    --------------  -----\n",
            " 0   self_employed             3269 non-null   int64\n",
            " 1   no_employees              3269 non-null   int64\n",
            " 2   tech_company              3269 non-null   int64\n",
            " 3   company_role              3269 non-null   int64\n",
            " 4   benefits                  3269 non-null   int64\n",
            " 5   care_options              3269 non-null   int64\n",
            " 6   wellness_program          3269 non-null   int64\n",
            " 7   seek_help                 3269 non-null   int64\n",
            " 8   anonymity                 3269 non-null   int64\n",
            " 9   leave                     3269 non-null   int64\n",
            " 10  mental_importance         3269 non-null   int64\n",
            " 11  neg_consequence_coworker  3269 non-null   int64\n",
            " 12  discuss_mh                3269 non-null   int64\n",
            " 13  work_interfere            3269 non-null   int64\n",
            " 14  coworkers                 3269 non-null   int64\n",
            " 15  supervisor                3269 non-null   int64\n",
            " 16  mental_health_interview   3269 non-null   int64\n",
            " 17  family_history            3269 non-null   int64\n",
            " 18  past_mental_health        3269 non-null   int64\n",
            " 19  mental_health             3269 non-null   int64\n",
            " 20  treatment                 3269 non-null   int64\n",
            " 21  age                       3269 non-null   int64\n",
            " 22  gender                    3269 non-null   int64\n",
            " 23  country                   3269 non-null   int64\n",
            "dtypes: int64(24)\n",
            "memory usage: 613.1 KB\n"
          ]
        }
      ]
    },
    {
      "cell_type": "markdown",
      "source": [
        "### **Evaluations**"
      ],
      "metadata": {
        "id": "jTAZemyyrmWV"
      }
    },
    {
      "cell_type": "markdown",
      "source": [
        "#### **1. Preservation of relationships**"
      ],
      "metadata": {
        "id": "xuKDLgliHP9t"
      }
    },
    {
      "cell_type": "code",
      "source": [
        "orig_incomplete = orig_incomplete.corr()\n",
        "\n",
        "mode_complete_corr = mode_imputed.corr()\n",
        "mice_complete_corr = mice_imputed.corr()\n",
        "hd_complete_corr = hotdeck_imputed.corr()\n",
        "knn_complete_corr = knn_imputed.corr()\n",
        "\n",
        "mode_complete_corr_diff = np.abs(orig_incomplete - mode_complete_corr)\n",
        "mice_complete_corr_diff = np.abs(orig_incomplete - mice_complete_corr)\n",
        "hd_complete_corr_diff = np.abs(orig_incomplete - hd_complete_corr)\n",
        "knn_complete_corr_diff = np.abs(orig_incomplete - knn_complete_corr)\n",
        "\n",
        "mode_average_diff = mode_complete_corr_diff.mean().mean()\n",
        "mice_average_diff = mice_complete_corr_diff.mean().mean()\n",
        "hd_average_diff = hd_complete_corr_diff.mean().mean()\n",
        "knn_average_diff = knn_complete_corr_diff .mean().mean()\n",
        "\n",
        "print(\"Mode Average difference in correlation matrices:\", mode_average_diff)\n",
        "print(\"Mice Average difference in correlation matrices:\", mice_average_diff)\n",
        "print(\"Hot Deck Average difference in correlation matrices:\", hd_average_diff)\n",
        "print(\"KNN Average difference in correlation matrices:\", knn_average_diff)"
      ],
      "metadata": {
        "colab": {
          "base_uri": "https://localhost:8080/"
        },
        "id": "X4OcYhW7HVs9",
        "outputId": "761108fb-90e8-4682-f7e6-08af6f6e09e5"
      },
      "execution_count": 165,
      "outputs": [
        {
          "output_type": "stream",
          "name": "stdout",
          "text": [
            "Mode Average difference in correlation matrices: 0.03729250758778035\n",
            "Mice Average difference in correlation matrices: 0.039580235292611544\n",
            "Hot Deck Average difference in correlation matrices: 0.05131635614342911\n",
            "KNN Average difference in correlation matrices: 0.025685127671372893\n"
          ]
        }
      ]
    },
    {
      "cell_type": "markdown",
      "source": [
        "#### **2. Mean Absolute Error**"
      ],
      "metadata": {
        "id": "p7kTVXVSHjDx"
      }
    },
    {
      "cell_type": "markdown",
      "source": [
        "- The **Mean Squared Error (MSE)** calculation can be used to assess the quality of imputation methods when the original data has missing values."
      ],
      "metadata": {
        "id": "HjkwrMFoagBD"
      }
    },
    {
      "cell_type": "code",
      "source": [
        "imputation_methods = [\"Mode\", \"MICE\", \"Hot Deck\", \"KNN\"]\n",
        "imputed_datasets = [mode_imputed, mice_imputed, hotdeck_imputed, knn_imputed]\n",
        "\n",
        "for method, imputed_data in zip(imputation_methods, imputed_datasets):\n",
        "    squared_diffs = (imputed_data - incomplete) ** 2\n",
        "\n",
        "    mse = np.nanmean(squared_diffs)\n",
        "\n",
        "    print(f\"{method} Imputation MSE:\", mse)"
      ],
      "metadata": {
        "colab": {
          "base_uri": "https://localhost:8080/"
        },
        "id": "oRu0-eAMd7kR",
        "outputId": "621c9431-0fb9-4233-f24b-f03fdabc229d"
      },
      "execution_count": 166,
      "outputs": [
        {
          "output_type": "stream",
          "name": "stdout",
          "text": [
            "Mode Imputation MSE: 1.0226751300091772\n",
            "MICE Imputation MSE: 0.6884750688283879\n",
            "Hot Deck Imputation MSE: 1.2657285612317732\n",
            "KNN Imputation MSE: 0.7068930355868257\n"
          ]
        }
      ]
    },
    {
      "cell_type": "markdown",
      "source": [
        "#### **3. Root Mean Squared Error**"
      ],
      "metadata": {
        "id": "Lz318XiCHzpr"
      }
    },
    {
      "cell_type": "code",
      "source": [
        "# Define a function to calculate RMSE\n",
        "def rmse(y_true, y_pred):\n",
        "    return np.sqrt(mean_squared_error(y_true, y_pred))\n",
        "\n",
        "# Calculate RMSE for each dataset\n",
        "mode_rmse = rmse(incomplete, mode_imputed)\n",
        "multiple_rmse = rmse(incomplete, mice_imputed)\n",
        "hot_deck_rmse = rmse(incomplete, hotdeck_imputed)\n",
        "knn_rmse = rmse(incomplete, knn_imputed)\n",
        "\n",
        "print(\"Mode Imputation RMSE:\", mode_rmse)\n",
        "print(\"Mice Imputation RMSE:\", multiple_rmse)\n",
        "print(\"Hot Deck Imputation RMSE:\", hot_deck_rmse)\n",
        "print(\"KNN Imputation RMSE:\", knn_rmse)"
      ],
      "metadata": {
        "colab": {
          "base_uri": "https://localhost:8080/"
        },
        "id": "NiL1mWAfHyr6",
        "outputId": "dffe5fde-78c3-4e71-d255-9186fa43030d"
      },
      "execution_count": 167,
      "outputs": [
        {
          "output_type": "stream",
          "name": "stdout",
          "text": [
            "Mode Imputation RMSE: 1.0112740133164588\n",
            "Mice Imputation RMSE: 0.8297439778801579\n",
            "Hot Deck Imputation RMSE: 1.1250460262726025\n",
            "KNN Imputation RMSE: 0.840769311753721\n"
          ]
        }
      ]
    }
  ]
}